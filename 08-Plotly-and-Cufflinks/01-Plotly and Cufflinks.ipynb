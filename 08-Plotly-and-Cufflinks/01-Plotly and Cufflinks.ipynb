{
 "cells": [
  {
   "cell_type": "markdown",
   "metadata": {},
   "source": [
    "___\n",
    "\n",
    "<a href='http://www.pieriandata.com'> <img src='../Pierian_Data_Logo.png' /></a>\n",
    "___\n",
    "# Plotly and Cufflinks"
   ]
  },
  {
   "cell_type": "markdown",
   "metadata": {
    "tags": []
   },
   "source": [
    "Plotly is a library that allows you to create interactive plots that you can use in dashboards or websites (you can save them as html files or static images).\n",
    "\n",
    "## Installation\n",
    "\n",
    "In order for this all to work, you'll need to install plotly and cufflinks to call plots directly off of a pandas dataframe. These libraries are not currently available through **conda** but are available through **pip**. Install the libraries at your command line/terminal using:\n",
    "\n",
    "    pip install plotly\n",
    "    pip install cufflinks\n",
    "\n",
    "** NOTE: Make sure you only have one installation of Python on your computer when you do this, otherwise the installation may not work. **\n",
    "\n",
    "## Imports and Set-up"
   ]
  },
  {
   "cell_type": "code",
   "execution_count": 11,
   "metadata": {
    "tags": []
   },
   "outputs": [],
   "source": [
    "import pandas as pd\n",
    "import numpy as np\n",
    "%matplotlib inline"
   ]
  },
  {
   "cell_type": "markdown",
   "metadata": {},
   "source": [
    "pip install plotly\n"
   ]
  },
  {
   "cell_type": "markdown",
   "metadata": {},
   "source": [
    "pip install cufflinks\n"
   ]
  },
  {
   "cell_type": "code",
   "execution_count": 12,
   "metadata": {
    "collapsed": false,
    "jupyter": {
     "outputs_hidden": false
    }
   },
   "outputs": [
    {
     "name": "stdout",
     "output_type": "stream",
     "text": [
      "5.6.0\n"
     ]
    }
   ],
   "source": [
    "from plotly import __version__\n",
    "from plotly.offline import download_plotlyjs, init_notebook_mode, plot, iplot\n",
    "\n",
    "print(__version__) # requires version >= 1.9.0"
   ]
  },
  {
   "cell_type": "code",
   "execution_count": 13,
   "metadata": {
    "tags": []
   },
   "outputs": [],
   "source": [
    "import cufflinks as cf"
   ]
  },
  {
   "cell_type": "code",
   "execution_count": 14,
   "metadata": {
    "collapsed": false,
    "jupyter": {
     "outputs_hidden": false
    }
   },
   "outputs": [
    {
     "data": {
      "text/html": [
       "        <script type=\"text/javascript\">\n",
       "        window.PlotlyConfig = {MathJaxConfig: 'local'};\n",
       "        if (window.MathJax) {MathJax.Hub.Config({SVG: {font: \"STIX-Web\"}});}\n",
       "        if (typeof require !== 'undefined') {\n",
       "        require.undef(\"plotly\");\n",
       "        requirejs.config({\n",
       "            paths: {\n",
       "                'plotly': ['https://cdn.plot.ly/plotly-2.9.0.min']\n",
       "            }\n",
       "        });\n",
       "        require(['plotly'], function(Plotly) {\n",
       "            window._Plotly = Plotly;\n",
       "        });\n",
       "        }\n",
       "        </script>\n",
       "        "
      ]
     },
     "metadata": {},
     "output_type": "display_data"
    }
   ],
   "source": [
    "# For Notebooks\n",
    "init_notebook_mode(connected=True)"
   ]
  },
  {
   "cell_type": "code",
   "execution_count": 15,
   "metadata": {
    "collapsed": false,
    "jupyter": {
     "outputs_hidden": false
    }
   },
   "outputs": [
    {
     "data": {
      "text/html": [
       "        <script type=\"text/javascript\">\n",
       "        window.PlotlyConfig = {MathJaxConfig: 'local'};\n",
       "        if (window.MathJax) {MathJax.Hub.Config({SVG: {font: \"STIX-Web\"}});}\n",
       "        if (typeof require !== 'undefined') {\n",
       "        require.undef(\"plotly\");\n",
       "        requirejs.config({\n",
       "            paths: {\n",
       "                'plotly': ['https://cdn.plot.ly/plotly-2.9.0.min']\n",
       "            }\n",
       "        });\n",
       "        require(['plotly'], function(Plotly) {\n",
       "            window._Plotly = Plotly;\n",
       "        });\n",
       "        }\n",
       "        </script>\n",
       "        "
      ]
     },
     "metadata": {},
     "output_type": "display_data"
    }
   ],
   "source": [
    "# For offline use\n",
    "cf.go_offline()"
   ]
  },
  {
   "cell_type": "markdown",
   "metadata": {},
   "source": [
    "### Fake Data"
   ]
  },
  {
   "cell_type": "code",
   "execution_count": 16,
   "metadata": {
    "collapsed": false,
    "jupyter": {
     "outputs_hidden": false
    }
   },
   "outputs": [],
   "source": [
    "df = pd.DataFrame(np.random.randn(100,4),columns='A B C D'.split())"
   ]
  },
  {
   "cell_type": "code",
   "execution_count": 17,
   "metadata": {
    "collapsed": false,
    "jupyter": {
     "outputs_hidden": false
    }
   },
   "outputs": [
    {
     "data": {
      "text/html": [
       "<div>\n",
       "<style scoped>\n",
       "    .dataframe tbody tr th:only-of-type {\n",
       "        vertical-align: middle;\n",
       "    }\n",
       "\n",
       "    .dataframe tbody tr th {\n",
       "        vertical-align: top;\n",
       "    }\n",
       "\n",
       "    .dataframe thead th {\n",
       "        text-align: right;\n",
       "    }\n",
       "</style>\n",
       "<table border=\"1\" class=\"dataframe\">\n",
       "  <thead>\n",
       "    <tr style=\"text-align: right;\">\n",
       "      <th></th>\n",
       "      <th>A</th>\n",
       "      <th>B</th>\n",
       "      <th>C</th>\n",
       "      <th>D</th>\n",
       "    </tr>\n",
       "  </thead>\n",
       "  <tbody>\n",
       "    <tr>\n",
       "      <th>0</th>\n",
       "      <td>0.886985</td>\n",
       "      <td>-0.833349</td>\n",
       "      <td>0.493224</td>\n",
       "      <td>-1.106589</td>\n",
       "    </tr>\n",
       "    <tr>\n",
       "      <th>1</th>\n",
       "      <td>-0.696477</td>\n",
       "      <td>-1.276668</td>\n",
       "      <td>0.545760</td>\n",
       "      <td>-1.762526</td>\n",
       "    </tr>\n",
       "    <tr>\n",
       "      <th>2</th>\n",
       "      <td>0.700373</td>\n",
       "      <td>0.328893</td>\n",
       "      <td>-0.425178</td>\n",
       "      <td>-0.281149</td>\n",
       "    </tr>\n",
       "    <tr>\n",
       "      <th>3</th>\n",
       "      <td>0.660808</td>\n",
       "      <td>-0.722860</td>\n",
       "      <td>0.574551</td>\n",
       "      <td>-1.845803</td>\n",
       "    </tr>\n",
       "    <tr>\n",
       "      <th>4</th>\n",
       "      <td>1.770676</td>\n",
       "      <td>-1.088055</td>\n",
       "      <td>1.768474</td>\n",
       "      <td>0.493990</td>\n",
       "    </tr>\n",
       "  </tbody>\n",
       "</table>\n",
       "</div>"
      ],
      "text/plain": [
       "          A         B         C         D\n",
       "0  0.886985 -0.833349  0.493224 -1.106589\n",
       "1 -0.696477 -1.276668  0.545760 -1.762526\n",
       "2  0.700373  0.328893 -0.425178 -0.281149\n",
       "3  0.660808 -0.722860  0.574551 -1.845803\n",
       "4  1.770676 -1.088055  1.768474  0.493990"
      ]
     },
     "execution_count": 17,
     "metadata": {},
     "output_type": "execute_result"
    }
   ],
   "source": [
    "df.head()"
   ]
  },
  {
   "cell_type": "code",
   "execution_count": 18,
   "metadata": {},
   "outputs": [],
   "source": [
    "df2 = pd.DataFrame({'Category':['A','B','C'],'Values':[32,43,50]})"
   ]
  },
  {
   "cell_type": "code",
   "execution_count": 19,
   "metadata": {
    "collapsed": false,
    "jupyter": {
     "outputs_hidden": false
    }
   },
   "outputs": [
    {
     "data": {
      "text/html": [
       "<div>\n",
       "<style scoped>\n",
       "    .dataframe tbody tr th:only-of-type {\n",
       "        vertical-align: middle;\n",
       "    }\n",
       "\n",
       "    .dataframe tbody tr th {\n",
       "        vertical-align: top;\n",
       "    }\n",
       "\n",
       "    .dataframe thead th {\n",
       "        text-align: right;\n",
       "    }\n",
       "</style>\n",
       "<table border=\"1\" class=\"dataframe\">\n",
       "  <thead>\n",
       "    <tr style=\"text-align: right;\">\n",
       "      <th></th>\n",
       "      <th>Category</th>\n",
       "      <th>Values</th>\n",
       "    </tr>\n",
       "  </thead>\n",
       "  <tbody>\n",
       "    <tr>\n",
       "      <th>0</th>\n",
       "      <td>A</td>\n",
       "      <td>32</td>\n",
       "    </tr>\n",
       "    <tr>\n",
       "      <th>1</th>\n",
       "      <td>B</td>\n",
       "      <td>43</td>\n",
       "    </tr>\n",
       "    <tr>\n",
       "      <th>2</th>\n",
       "      <td>C</td>\n",
       "      <td>50</td>\n",
       "    </tr>\n",
       "  </tbody>\n",
       "</table>\n",
       "</div>"
      ],
      "text/plain": [
       "  Category  Values\n",
       "0        A      32\n",
       "1        B      43\n",
       "2        C      50"
      ]
     },
     "execution_count": 19,
     "metadata": {},
     "output_type": "execute_result"
    }
   ],
   "source": [
    "df2.head()"
   ]
  },
  {
   "cell_type": "markdown",
   "metadata": {},
   "source": [
    "## Using Cufflinks and iplot()\n",
    "\n",
    "* scatter\n",
    "* bar\n",
    "* box\n",
    "* spread\n",
    "* ratio\n",
    "* heatmap\n",
    "* surface\n",
    "* histogram\n",
    "* bubble"
   ]
  },
  {
   "cell_type": "markdown",
   "metadata": {},
   "source": [
    "## Scatter"
   ]
  },
  {
   "cell_type": "code",
   "execution_count": 20,
   "metadata": {
    "collapsed": false,
    "jupyter": {
     "outputs_hidden": false
    }
   },
   "outputs": [
    {
     "data": {
      "application/vnd.plotly.v1+json": {
       "config": {
        "linkText": "Export to plot.ly",
        "plotlyServerURL": "https://plot.ly",
        "showLink": true
       },
       "data": [
        {
         "line": {
          "color": "rgba(255, 153, 51, 1.0)",
          "dash": "solid",
          "shape": "linear",
          "width": 1.3
         },
         "marker": {
          "size": 10,
          "symbol": "circle"
         },
         "mode": "markers",
         "name": "B",
         "text": "",
         "type": "scatter",
         "x": [
          0.8869849113392575,
          -0.6964773634974851,
          0.7003725094248957,
          0.6608084726687465,
          1.7706764057755022,
          1.593145735885654,
          0.4740756469149725,
          0.6780606999675864,
          0.18401197953819318,
          -0.7649917952568512,
          0.9253634363763844,
          1.1118549199592058,
          -0.8433181578725014,
          -0.23664150329130548,
          -1.0992404617482978,
          0.28527338968743443,
          0.17481982564549223,
          1.3951250129856623,
          0.03590745163901755,
          -0.9594211851175032,
          -1.7179801807066248,
          0.9610755330564402,
          -0.21363215634783528,
          0.8804182323614378,
          0.1905342501740758,
          -0.4753432693912597,
          -0.1570437094027896,
          -0.9272609181058024,
          0.17515176239940475,
          -0.11926693582553309,
          0.6329377787337424,
          -0.6960379586458401,
          0.8072366409662378,
          1.0573006596282648,
          0.5262146051999136,
          -1.037271742531441,
          0.871425023776492,
          0.6875642804316112,
          -0.3209806553607807,
          -0.01897505420084429,
          1.1234988077597399,
          1.232420058647342,
          -0.4814980044587215,
          -0.35992966279024435,
          -0.3504136026398206,
          -0.0264638521470713,
          1.9455975191069528,
          0.7397424830525191,
          -1.3988662235783076,
          -0.6533021042995357,
          -1.0098839390042138,
          0.05158988935672315,
          -0.8885088323550191,
          1.3090023593260731,
          -0.4921751166128579,
          1.2562814695609659,
          -0.944489215550293,
          -0.9047929765159812,
          -0.16005070797481277,
          -0.3518748309386049,
          -0.6012147657777107,
          0.4833247270826448,
          -0.7995893120513355,
          0.6224446543722254,
          -0.09063609686494375,
          0.2828186976151058,
          1.298079370651083,
          0.60323067089413,
          0.9939326715694906,
          1.4930838976436456,
          -0.4027665687300486,
          -0.2607266448729439,
          -1.2535961981729813,
          0.9218123335954357,
          1.312062175830314,
          -0.9316561504008531,
          -0.61598560161817,
          -0.25100143532399877,
          0.4566927248840788,
          -0.9159752831190259,
          0.7377046809517973,
          -1.1626764129405016,
          -0.889391245298526,
          -0.6858184717161875,
          -0.09402072749499414,
          0.12562747120961676,
          0.09883684431670127,
          0.1865993291130212,
          -2.105122581865517,
          -1.5402416903738123,
          1.5094402807854603,
          -0.9361748837890781,
          0.12672444198158989,
          -1.589658407398841,
          -0.9996902030723225,
          0.12222138560129037,
          1.037829126734841,
          -1.0237728938148212,
          0.8129908238728943,
          -1.1735680529795158
         ],
         "y": [
          -0.8333485300834292,
          -1.2766677713856172,
          0.32889268999764587,
          -0.7228597241406125,
          -1.088055170641722,
          -0.26454960727060933,
          -1.088746135103376,
          1.307311404250032,
          0.08031675927464546,
          0.02757860090171118,
          0.6518221207539567,
          0.7276482533339022,
          -1.1158078994176668,
          -0.05851343762871096,
          -0.779070280511317,
          0.6555944432816424,
          0.3795977680725507,
          0.6047485425267529,
          -1.245835389444955,
          0.5118554482170173,
          0.4007446062617446,
          -0.9762413226379608,
          0.23963149916481855,
          -0.08182559589104474,
          0.28026876924154154,
          0.593917640305292,
          -1.9595673096812394,
          -1.06511056321929,
          0.9918697122537389,
          0.3043350394672878,
          -0.2265403931323341,
          2.192649137408791,
          0.9174930299413948,
          0.8686827682351795,
          -0.9492012311313425,
          1.9138497364086406,
          -1.021402262388293,
          0.15575335857348221,
          -0.6085703602891364,
          0.7370588517740067,
          -0.327086277798017,
          1.1799615116593871,
          -0.35685566036595373,
          -1.175460976239832,
          0.31255342310921275,
          0.9897473343815354,
          0.9198781183889619,
          -0.7474006092799659,
          -0.856587496221934,
          -0.785034997454377,
          -0.12235515802115861,
          -1.786434990061692,
          0.5481592699594763,
          -1.274980280267999,
          0.696836476541588,
          -1.370492271925774,
          2.06004470363456,
          2.0468933823727764,
          0.21084208697464552,
          -0.12258782808995522,
          0.6403637734278632,
          -1.311325626456603,
          1.503641044788058,
          -1.078001719112831,
          1.3989747726854669,
          -1.616107252848288,
          -0.9637366722446397,
          0.10514432242328021,
          -0.35714686741413504,
          1.306610500270275,
          1.0975979363582071,
          1.6273028114379513,
          0.0019938966806490165,
          0.369738032875827,
          0.6194225065626668,
          -0.6008423439289713,
          0.5994305624114238,
          0.1278850553222134,
          0.1993287048843189,
          -0.9900196451938488,
          -0.0030251013458408673,
          0.6231686049789226,
          0.05503581719741051,
          -0.08273659707165258,
          -0.2576366521809987,
          -0.30204557671675586,
          0.501843752794459,
          -0.08670464369271894,
          0.4723263552701553,
          0.5855339910336078,
          -1.557478447357505,
          1.169546362591803,
          1.8645090896560506,
          -0.08712959822128583,
          -1.1493323961227986,
          0.29210214535966844,
          0.6546376109394556,
          -0.6030391008507462,
          -0.5090505082959106,
          -1.0319222234727223
         ]
        }
       ],
       "layout": {
        "autosize": true,
        "legend": {
         "bgcolor": "#F5F6F9",
         "font": {
          "color": "#4D5663"
         }
        },
        "paper_bgcolor": "#F5F6F9",
        "plot_bgcolor": "#F5F6F9",
        "template": {
         "data": {
          "bar": [
           {
            "error_x": {
             "color": "#2a3f5f"
            },
            "error_y": {
             "color": "#2a3f5f"
            },
            "marker": {
             "line": {
              "color": "#E5ECF6",
              "width": 0.5
             },
             "pattern": {
              "fillmode": "overlay",
              "size": 10,
              "solidity": 0.2
             }
            },
            "type": "bar"
           }
          ],
          "barpolar": [
           {
            "marker": {
             "line": {
              "color": "#E5ECF6",
              "width": 0.5
             },
             "pattern": {
              "fillmode": "overlay",
              "size": 10,
              "solidity": 0.2
             }
            },
            "type": "barpolar"
           }
          ],
          "carpet": [
           {
            "aaxis": {
             "endlinecolor": "#2a3f5f",
             "gridcolor": "white",
             "linecolor": "white",
             "minorgridcolor": "white",
             "startlinecolor": "#2a3f5f"
            },
            "baxis": {
             "endlinecolor": "#2a3f5f",
             "gridcolor": "white",
             "linecolor": "white",
             "minorgridcolor": "white",
             "startlinecolor": "#2a3f5f"
            },
            "type": "carpet"
           }
          ],
          "choropleth": [
           {
            "colorbar": {
             "outlinewidth": 0,
             "ticks": ""
            },
            "type": "choropleth"
           }
          ],
          "contour": [
           {
            "colorbar": {
             "outlinewidth": 0,
             "ticks": ""
            },
            "colorscale": [
             [
              0,
              "#0d0887"
             ],
             [
              0.1111111111111111,
              "#46039f"
             ],
             [
              0.2222222222222222,
              "#7201a8"
             ],
             [
              0.3333333333333333,
              "#9c179e"
             ],
             [
              0.4444444444444444,
              "#bd3786"
             ],
             [
              0.5555555555555556,
              "#d8576b"
             ],
             [
              0.6666666666666666,
              "#ed7953"
             ],
             [
              0.7777777777777778,
              "#fb9f3a"
             ],
             [
              0.8888888888888888,
              "#fdca26"
             ],
             [
              1,
              "#f0f921"
             ]
            ],
            "type": "contour"
           }
          ],
          "contourcarpet": [
           {
            "colorbar": {
             "outlinewidth": 0,
             "ticks": ""
            },
            "type": "contourcarpet"
           }
          ],
          "heatmap": [
           {
            "colorbar": {
             "outlinewidth": 0,
             "ticks": ""
            },
            "colorscale": [
             [
              0,
              "#0d0887"
             ],
             [
              0.1111111111111111,
              "#46039f"
             ],
             [
              0.2222222222222222,
              "#7201a8"
             ],
             [
              0.3333333333333333,
              "#9c179e"
             ],
             [
              0.4444444444444444,
              "#bd3786"
             ],
             [
              0.5555555555555556,
              "#d8576b"
             ],
             [
              0.6666666666666666,
              "#ed7953"
             ],
             [
              0.7777777777777778,
              "#fb9f3a"
             ],
             [
              0.8888888888888888,
              "#fdca26"
             ],
             [
              1,
              "#f0f921"
             ]
            ],
            "type": "heatmap"
           }
          ],
          "heatmapgl": [
           {
            "colorbar": {
             "outlinewidth": 0,
             "ticks": ""
            },
            "colorscale": [
             [
              0,
              "#0d0887"
             ],
             [
              0.1111111111111111,
              "#46039f"
             ],
             [
              0.2222222222222222,
              "#7201a8"
             ],
             [
              0.3333333333333333,
              "#9c179e"
             ],
             [
              0.4444444444444444,
              "#bd3786"
             ],
             [
              0.5555555555555556,
              "#d8576b"
             ],
             [
              0.6666666666666666,
              "#ed7953"
             ],
             [
              0.7777777777777778,
              "#fb9f3a"
             ],
             [
              0.8888888888888888,
              "#fdca26"
             ],
             [
              1,
              "#f0f921"
             ]
            ],
            "type": "heatmapgl"
           }
          ],
          "histogram": [
           {
            "marker": {
             "pattern": {
              "fillmode": "overlay",
              "size": 10,
              "solidity": 0.2
             }
            },
            "type": "histogram"
           }
          ],
          "histogram2d": [
           {
            "colorbar": {
             "outlinewidth": 0,
             "ticks": ""
            },
            "colorscale": [
             [
              0,
              "#0d0887"
             ],
             [
              0.1111111111111111,
              "#46039f"
             ],
             [
              0.2222222222222222,
              "#7201a8"
             ],
             [
              0.3333333333333333,
              "#9c179e"
             ],
             [
              0.4444444444444444,
              "#bd3786"
             ],
             [
              0.5555555555555556,
              "#d8576b"
             ],
             [
              0.6666666666666666,
              "#ed7953"
             ],
             [
              0.7777777777777778,
              "#fb9f3a"
             ],
             [
              0.8888888888888888,
              "#fdca26"
             ],
             [
              1,
              "#f0f921"
             ]
            ],
            "type": "histogram2d"
           }
          ],
          "histogram2dcontour": [
           {
            "colorbar": {
             "outlinewidth": 0,
             "ticks": ""
            },
            "colorscale": [
             [
              0,
              "#0d0887"
             ],
             [
              0.1111111111111111,
              "#46039f"
             ],
             [
              0.2222222222222222,
              "#7201a8"
             ],
             [
              0.3333333333333333,
              "#9c179e"
             ],
             [
              0.4444444444444444,
              "#bd3786"
             ],
             [
              0.5555555555555556,
              "#d8576b"
             ],
             [
              0.6666666666666666,
              "#ed7953"
             ],
             [
              0.7777777777777778,
              "#fb9f3a"
             ],
             [
              0.8888888888888888,
              "#fdca26"
             ],
             [
              1,
              "#f0f921"
             ]
            ],
            "type": "histogram2dcontour"
           }
          ],
          "mesh3d": [
           {
            "colorbar": {
             "outlinewidth": 0,
             "ticks": ""
            },
            "type": "mesh3d"
           }
          ],
          "parcoords": [
           {
            "line": {
             "colorbar": {
              "outlinewidth": 0,
              "ticks": ""
             }
            },
            "type": "parcoords"
           }
          ],
          "pie": [
           {
            "automargin": true,
            "type": "pie"
           }
          ],
          "scatter": [
           {
            "marker": {
             "colorbar": {
              "outlinewidth": 0,
              "ticks": ""
             }
            },
            "type": "scatter"
           }
          ],
          "scatter3d": [
           {
            "line": {
             "colorbar": {
              "outlinewidth": 0,
              "ticks": ""
             }
            },
            "marker": {
             "colorbar": {
              "outlinewidth": 0,
              "ticks": ""
             }
            },
            "type": "scatter3d"
           }
          ],
          "scattercarpet": [
           {
            "marker": {
             "colorbar": {
              "outlinewidth": 0,
              "ticks": ""
             }
            },
            "type": "scattercarpet"
           }
          ],
          "scattergeo": [
           {
            "marker": {
             "colorbar": {
              "outlinewidth": 0,
              "ticks": ""
             }
            },
            "type": "scattergeo"
           }
          ],
          "scattergl": [
           {
            "marker": {
             "colorbar": {
              "outlinewidth": 0,
              "ticks": ""
             }
            },
            "type": "scattergl"
           }
          ],
          "scattermapbox": [
           {
            "marker": {
             "colorbar": {
              "outlinewidth": 0,
              "ticks": ""
             }
            },
            "type": "scattermapbox"
           }
          ],
          "scatterpolar": [
           {
            "marker": {
             "colorbar": {
              "outlinewidth": 0,
              "ticks": ""
             }
            },
            "type": "scatterpolar"
           }
          ],
          "scatterpolargl": [
           {
            "marker": {
             "colorbar": {
              "outlinewidth": 0,
              "ticks": ""
             }
            },
            "type": "scatterpolargl"
           }
          ],
          "scatterternary": [
           {
            "marker": {
             "colorbar": {
              "outlinewidth": 0,
              "ticks": ""
             }
            },
            "type": "scatterternary"
           }
          ],
          "surface": [
           {
            "colorbar": {
             "outlinewidth": 0,
             "ticks": ""
            },
            "colorscale": [
             [
              0,
              "#0d0887"
             ],
             [
              0.1111111111111111,
              "#46039f"
             ],
             [
              0.2222222222222222,
              "#7201a8"
             ],
             [
              0.3333333333333333,
              "#9c179e"
             ],
             [
              0.4444444444444444,
              "#bd3786"
             ],
             [
              0.5555555555555556,
              "#d8576b"
             ],
             [
              0.6666666666666666,
              "#ed7953"
             ],
             [
              0.7777777777777778,
              "#fb9f3a"
             ],
             [
              0.8888888888888888,
              "#fdca26"
             ],
             [
              1,
              "#f0f921"
             ]
            ],
            "type": "surface"
           }
          ],
          "table": [
           {
            "cells": {
             "fill": {
              "color": "#EBF0F8"
             },
             "line": {
              "color": "white"
             }
            },
            "header": {
             "fill": {
              "color": "#C8D4E3"
             },
             "line": {
              "color": "white"
             }
            },
            "type": "table"
           }
          ]
         },
         "layout": {
          "annotationdefaults": {
           "arrowcolor": "#2a3f5f",
           "arrowhead": 0,
           "arrowwidth": 1
          },
          "autotypenumbers": "strict",
          "coloraxis": {
           "colorbar": {
            "outlinewidth": 0,
            "ticks": ""
           }
          },
          "colorscale": {
           "diverging": [
            [
             0,
             "#8e0152"
            ],
            [
             0.1,
             "#c51b7d"
            ],
            [
             0.2,
             "#de77ae"
            ],
            [
             0.3,
             "#f1b6da"
            ],
            [
             0.4,
             "#fde0ef"
            ],
            [
             0.5,
             "#f7f7f7"
            ],
            [
             0.6,
             "#e6f5d0"
            ],
            [
             0.7,
             "#b8e186"
            ],
            [
             0.8,
             "#7fbc41"
            ],
            [
             0.9,
             "#4d9221"
            ],
            [
             1,
             "#276419"
            ]
           ],
           "sequential": [
            [
             0,
             "#0d0887"
            ],
            [
             0.1111111111111111,
             "#46039f"
            ],
            [
             0.2222222222222222,
             "#7201a8"
            ],
            [
             0.3333333333333333,
             "#9c179e"
            ],
            [
             0.4444444444444444,
             "#bd3786"
            ],
            [
             0.5555555555555556,
             "#d8576b"
            ],
            [
             0.6666666666666666,
             "#ed7953"
            ],
            [
             0.7777777777777778,
             "#fb9f3a"
            ],
            [
             0.8888888888888888,
             "#fdca26"
            ],
            [
             1,
             "#f0f921"
            ]
           ],
           "sequentialminus": [
            [
             0,
             "#0d0887"
            ],
            [
             0.1111111111111111,
             "#46039f"
            ],
            [
             0.2222222222222222,
             "#7201a8"
            ],
            [
             0.3333333333333333,
             "#9c179e"
            ],
            [
             0.4444444444444444,
             "#bd3786"
            ],
            [
             0.5555555555555556,
             "#d8576b"
            ],
            [
             0.6666666666666666,
             "#ed7953"
            ],
            [
             0.7777777777777778,
             "#fb9f3a"
            ],
            [
             0.8888888888888888,
             "#fdca26"
            ],
            [
             1,
             "#f0f921"
            ]
           ]
          },
          "colorway": [
           "#636efa",
           "#EF553B",
           "#00cc96",
           "#ab63fa",
           "#FFA15A",
           "#19d3f3",
           "#FF6692",
           "#B6E880",
           "#FF97FF",
           "#FECB52"
          ],
          "font": {
           "color": "#2a3f5f"
          },
          "geo": {
           "bgcolor": "white",
           "lakecolor": "white",
           "landcolor": "#E5ECF6",
           "showlakes": true,
           "showland": true,
           "subunitcolor": "white"
          },
          "hoverlabel": {
           "align": "left"
          },
          "hovermode": "closest",
          "mapbox": {
           "style": "light"
          },
          "paper_bgcolor": "white",
          "plot_bgcolor": "#E5ECF6",
          "polar": {
           "angularaxis": {
            "gridcolor": "white",
            "linecolor": "white",
            "ticks": ""
           },
           "bgcolor": "#E5ECF6",
           "radialaxis": {
            "gridcolor": "white",
            "linecolor": "white",
            "ticks": ""
           }
          },
          "scene": {
           "xaxis": {
            "backgroundcolor": "#E5ECF6",
            "gridcolor": "white",
            "gridwidth": 2,
            "linecolor": "white",
            "showbackground": true,
            "ticks": "",
            "zerolinecolor": "white"
           },
           "yaxis": {
            "backgroundcolor": "#E5ECF6",
            "gridcolor": "white",
            "gridwidth": 2,
            "linecolor": "white",
            "showbackground": true,
            "ticks": "",
            "zerolinecolor": "white"
           },
           "zaxis": {
            "backgroundcolor": "#E5ECF6",
            "gridcolor": "white",
            "gridwidth": 2,
            "linecolor": "white",
            "showbackground": true,
            "ticks": "",
            "zerolinecolor": "white"
           }
          },
          "shapedefaults": {
           "line": {
            "color": "#2a3f5f"
           }
          },
          "ternary": {
           "aaxis": {
            "gridcolor": "white",
            "linecolor": "white",
            "ticks": ""
           },
           "baxis": {
            "gridcolor": "white",
            "linecolor": "white",
            "ticks": ""
           },
           "bgcolor": "#E5ECF6",
           "caxis": {
            "gridcolor": "white",
            "linecolor": "white",
            "ticks": ""
           }
          },
          "title": {
           "x": 0.05
          },
          "xaxis": {
           "automargin": true,
           "gridcolor": "white",
           "linecolor": "white",
           "ticks": "",
           "title": {
            "standoff": 15
           },
           "zerolinecolor": "white",
           "zerolinewidth": 2
          },
          "yaxis": {
           "automargin": true,
           "gridcolor": "white",
           "linecolor": "white",
           "ticks": "",
           "title": {
            "standoff": 15
           },
           "zerolinecolor": "white",
           "zerolinewidth": 2
          }
         }
        },
        "title": {
         "font": {
          "color": "#4D5663"
         }
        },
        "xaxis": {
         "autorange": true,
         "gridcolor": "#E1E5ED",
         "range": [
          -2.3827715283787785,
          2.2232464656202144
         ],
         "showgrid": true,
         "tickfont": {
          "color": "#4D5663"
         },
         "title": {
          "font": {
           "color": "#4D5663"
          },
          "text": ""
         },
         "type": "linear",
         "zerolinecolor": "#E1E5ED"
        },
        "yaxis": {
         "autorange": true,
         "gridcolor": "#E1E5ED",
         "range": [
          -2.38312116130748,
          2.616202989035031
         ],
         "showgrid": true,
         "tickfont": {
          "color": "#4D5663"
         },
         "title": {
          "font": {
           "color": "#4D5663"
          },
          "text": ""
         },
         "type": "linear",
         "zerolinecolor": "#E1E5ED"
        }
       }
      },
      "image/png": "[encoded data removed]",
      "text/html": [
       "<div>                            <div id=\"49fe062d-562f-402e-ac22-ac65b8cb3221\" class=\"plotly-graph-div\" style=\"height:525px; width:100%;\"></div>            <script type=\"text/javascript\">                require([\"plotly\"], function(Plotly) {                    window.PLOTLYENV=window.PLOTLYENV || {};\n",
       "                    window.PLOTLYENV.BASE_URL='https://plot.ly';                                    if (document.getElementById(\"49fe062d-562f-402e-ac22-ac65b8cb3221\")) {                    Plotly.newPlot(                        \"49fe062d-562f-402e-ac22-ac65b8cb3221\",                        [{\"line\":{\"color\":\"rgba(255, 153, 51, 1.0)\",\"dash\":\"solid\",\"shape\":\"linear\",\"width\":1.3},\"marker\":{\"size\":10,\"symbol\":\"circle\"},\"mode\":\"markers\",\"name\":\"B\",\"text\":\"\",\"x\":[0.8869849113392575,-0.6964773634974851,0.7003725094248957,0.6608084726687465,1.7706764057755022,1.593145735885654,0.4740756469149725,0.6780606999675864,0.18401197953819318,-0.7649917952568512,0.9253634363763844,1.1118549199592058,-0.8433181578725014,-0.23664150329130548,-1.0992404617482978,0.28527338968743443,0.17481982564549223,1.3951250129856623,0.03590745163901755,-0.9594211851175032,-1.7179801807066248,0.9610755330564402,-0.21363215634783528,0.8804182323614378,0.1905342501740758,-0.4753432693912597,-0.1570437094027896,-0.9272609181058024,0.17515176239940475,-0.11926693582553309,0.6329377787337424,-0.6960379586458401,0.8072366409662378,1.0573006596282648,0.5262146051999136,-1.037271742531441,0.871425023776492,0.6875642804316112,-0.3209806553607807,-0.01897505420084429,1.1234988077597399,1.232420058647342,-0.4814980044587215,-0.35992966279024435,-0.3504136026398206,-0.0264638521470713,1.9455975191069528,0.7397424830525191,-1.3988662235783076,-0.6533021042995357,-1.0098839390042138,0.05158988935672315,-0.8885088323550191,1.3090023593260731,-0.4921751166128579,1.2562814695609659,-0.944489215550293,-0.9047929765159812,-0.16005070797481277,-0.3518748309386049,-0.6012147657777107,0.4833247270826448,-0.7995893120513355,0.6224446543722254,-0.09063609686494375,0.2828186976151058,1.298079370651083,0.60323067089413,0.9939326715694906,1.4930838976436456,-0.4027665687300486,-0.2607266448729439,-1.2535961981729813,0.9218123335954357,1.312062175830314,-0.9316561504008531,-0.61598560161817,-0.25100143532399877,0.4566927248840788,-0.9159752831190259,0.7377046809517973,-1.1626764129405016,-0.889391245298526,-0.6858184717161875,-0.09402072749499414,0.12562747120961676,0.09883684431670127,0.1865993291130212,-2.105122581865517,-1.5402416903738123,1.5094402807854603,-0.9361748837890781,0.12672444198158989,-1.589658407398841,-0.9996902030723225,0.12222138560129037,1.037829126734841,-1.0237728938148212,0.8129908238728943,-1.1735680529795158],\"y\":[-0.8333485300834292,-1.2766677713856172,0.32889268999764587,-0.7228597241406125,-1.088055170641722,-0.26454960727060933,-1.088746135103376,1.307311404250032,0.08031675927464546,0.02757860090171118,0.6518221207539567,0.7276482533339022,-1.1158078994176668,-0.05851343762871096,-0.779070280511317,0.6555944432816424,0.3795977680725507,0.6047485425267529,-1.245835389444955,0.5118554482170173,0.4007446062617446,-0.9762413226379608,0.23963149916481855,-0.08182559589104474,0.28026876924154154,0.593917640305292,-1.9595673096812394,-1.06511056321929,0.9918697122537389,0.3043350394672878,-0.2265403931323341,2.192649137408791,0.9174930299413948,0.8686827682351795,-0.9492012311313425,1.9138497364086406,-1.021402262388293,0.15575335857348221,-0.6085703602891364,0.7370588517740067,-0.327086277798017,1.1799615116593871,-0.35685566036595373,-1.175460976239832,0.31255342310921275,0.9897473343815354,0.9198781183889619,-0.7474006092799659,-0.856587496221934,-0.785034997454377,-0.12235515802115861,-1.786434990061692,0.5481592699594763,-1.274980280267999,0.696836476541588,-1.370492271925774,2.06004470363456,2.0468933823727764,0.21084208697464552,-0.12258782808995522,0.6403637734278632,-1.311325626456603,1.503641044788058,-1.078001719112831,1.3989747726854669,-1.616107252848288,-0.9637366722446397,0.10514432242328021,-0.35714686741413504,1.306610500270275,1.0975979363582071,1.6273028114379513,0.0019938966806490165,0.369738032875827,0.6194225065626668,-0.6008423439289713,0.5994305624114238,0.1278850553222134,0.1993287048843189,-0.9900196451938488,-0.0030251013458408673,0.6231686049789226,0.05503581719741051,-0.08273659707165258,-0.2576366521809987,-0.30204557671675586,0.501843752794459,-0.08670464369271894,0.4723263552701553,0.5855339910336078,-1.557478447357505,1.169546362591803,1.8645090896560506,-0.08712959822128583,-1.1493323961227986,0.29210214535966844,0.6546376109394556,-0.6030391008507462,-0.5090505082959106,-1.0319222234727223],\"type\":\"scatter\"}],                        {\"legend\":{\"bgcolor\":\"#F5F6F9\",\"font\":{\"color\":\"#4D5663\"}},\"paper_bgcolor\":\"#F5F6F9\",\"plot_bgcolor\":\"#F5F6F9\",\"template\":{\"data\":{\"barpolar\":[{\"marker\":{\"line\":{\"color\":\"#E5ECF6\",\"width\":0.5},\"pattern\":{\"fillmode\":\"overlay\",\"size\":10,\"solidity\":0.2}},\"type\":\"barpolar\"}],\"bar\":[{\"error_x\":{\"color\":\"#2a3f5f\"},\"error_y\":{\"color\":\"#2a3f5f\"},\"marker\":{\"line\":{\"color\":\"#E5ECF6\",\"width\":0.5},\"pattern\":{\"fillmode\":\"overlay\",\"size\":10,\"solidity\":0.2}},\"type\":\"bar\"}],\"carpet\":[{\"aaxis\":{\"endlinecolor\":\"#2a3f5f\",\"gridcolor\":\"white\",\"linecolor\":\"white\",\"minorgridcolor\":\"white\",\"startlinecolor\":\"#2a3f5f\"},\"baxis\":{\"endlinecolor\":\"#2a3f5f\",\"gridcolor\":\"white\",\"linecolor\":\"white\",\"minorgridcolor\":\"white\",\"startlinecolor\":\"#2a3f5f\"},\"type\":\"carpet\"}],\"choropleth\":[{\"colorbar\":{\"outlinewidth\":0,\"ticks\":\"\"},\"type\":\"choropleth\"}],\"contourcarpet\":[{\"colorbar\":{\"outlinewidth\":0,\"ticks\":\"\"},\"type\":\"contourcarpet\"}],\"contour\":[{\"colorbar\":{\"outlinewidth\":0,\"ticks\":\"\"},\"colorscale\":[[0.0,\"#0d0887\"],[0.1111111111111111,\"#46039f\"],[0.2222222222222222,\"#7201a8\"],[0.3333333333333333,\"#9c179e\"],[0.4444444444444444,\"#bd3786\"],[0.5555555555555556,\"#d8576b\"],[0.6666666666666666,\"#ed7953\"],[0.7777777777777778,\"#fb9f3a\"],[0.8888888888888888,\"#fdca26\"],[1.0,\"#f0f921\"]],\"type\":\"contour\"}],\"heatmapgl\":[{\"colorbar\":{\"outlinewidth\":0,\"ticks\":\"\"},\"colorscale\":[[0.0,\"#0d0887\"],[0.1111111111111111,\"#46039f\"],[0.2222222222222222,\"#7201a8\"],[0.3333333333333333,\"#9c179e\"],[0.4444444444444444,\"#bd3786\"],[0.5555555555555556,\"#d8576b\"],[0.6666666666666666,\"#ed7953\"],[0.7777777777777778,\"#fb9f3a\"],[0.8888888888888888,\"#fdca26\"],[1.0,\"#f0f921\"]],\"type\":\"heatmapgl\"}],\"heatmap\":[{\"colorbar\":{\"outlinewidth\":0,\"ticks\":\"\"},\"colorscale\":[[0.0,\"#0d0887\"],[0.1111111111111111,\"#46039f\"],[0.2222222222222222,\"#7201a8\"],[0.3333333333333333,\"#9c179e\"],[0.4444444444444444,\"#bd3786\"],[0.5555555555555556,\"#d8576b\"],[0.6666666666666666,\"#ed7953\"],[0.7777777777777778,\"#fb9f3a\"],[0.8888888888888888,\"#fdca26\"],[1.0,\"#f0f921\"]],\"type\":\"heatmap\"}],\"histogram2dcontour\":[{\"colorbar\":{\"outlinewidth\":0,\"ticks\":\"\"},\"colorscale\":[[0.0,\"#0d0887\"],[0.1111111111111111,\"#46039f\"],[0.2222222222222222,\"#7201a8\"],[0.3333333333333333,\"#9c179e\"],[0.4444444444444444,\"#bd3786\"],[0.5555555555555556,\"#d8576b\"],[0.6666666666666666,\"#ed7953\"],[0.7777777777777778,\"#fb9f3a\"],[0.8888888888888888,\"#fdca26\"],[1.0,\"#f0f921\"]],\"type\":\"histogram2dcontour\"}],\"histogram2d\":[{\"colorbar\":{\"outlinewidth\":0,\"ticks\":\"\"},\"colorscale\":[[0.0,\"#0d0887\"],[0.1111111111111111,\"#46039f\"],[0.2222222222222222,\"#7201a8\"],[0.3333333333333333,\"#9c179e\"],[0.4444444444444444,\"#bd3786\"],[0.5555555555555556,\"#d8576b\"],[0.6666666666666666,\"#ed7953\"],[0.7777777777777778,\"#fb9f3a\"],[0.8888888888888888,\"#fdca26\"],[1.0,\"#f0f921\"]],\"type\":\"histogram2d\"}],\"histogram\":[{\"marker\":{\"pattern\":{\"fillmode\":\"overlay\",\"size\":10,\"solidity\":0.2}},\"type\":\"histogram\"}],\"mesh3d\":[{\"colorbar\":{\"outlinewidth\":0,\"ticks\":\"\"},\"type\":\"mesh3d\"}],\"parcoords\":[{\"line\":{\"colorbar\":{\"outlinewidth\":0,\"ticks\":\"\"}},\"type\":\"parcoords\"}],\"pie\":[{\"automargin\":true,\"type\":\"pie\"}],\"scatter3d\":[{\"line\":{\"colorbar\":{\"outlinewidth\":0,\"ticks\":\"\"}},\"marker\":{\"colorbar\":{\"outlinewidth\":0,\"ticks\":\"\"}},\"type\":\"scatter3d\"}],\"scattercarpet\":[{\"marker\":{\"colorbar\":{\"outlinewidth\":0,\"ticks\":\"\"}},\"type\":\"scattercarpet\"}],\"scattergeo\":[{\"marker\":{\"colorbar\":{\"outlinewidth\":0,\"ticks\":\"\"}},\"type\":\"scattergeo\"}],\"scattergl\":[{\"marker\":{\"colorbar\":{\"outlinewidth\":0,\"ticks\":\"\"}},\"type\":\"scattergl\"}],\"scattermapbox\":[{\"marker\":{\"colorbar\":{\"outlinewidth\":0,\"ticks\":\"\"}},\"type\":\"scattermapbox\"}],\"scatterpolargl\":[{\"marker\":{\"colorbar\":{\"outlinewidth\":0,\"ticks\":\"\"}},\"type\":\"scatterpolargl\"}],\"scatterpolar\":[{\"marker\":{\"colorbar\":{\"outlinewidth\":0,\"ticks\":\"\"}},\"type\":\"scatterpolar\"}],\"scatter\":[{\"marker\":{\"colorbar\":{\"outlinewidth\":0,\"ticks\":\"\"}},\"type\":\"scatter\"}],\"scatterternary\":[{\"marker\":{\"colorbar\":{\"outlinewidth\":0,\"ticks\":\"\"}},\"type\":\"scatterternary\"}],\"surface\":[{\"colorbar\":{\"outlinewidth\":0,\"ticks\":\"\"},\"colorscale\":[[0.0,\"#0d0887\"],[0.1111111111111111,\"#46039f\"],[0.2222222222222222,\"#7201a8\"],[0.3333333333333333,\"#9c179e\"],[0.4444444444444444,\"#bd3786\"],[0.5555555555555556,\"#d8576b\"],[0.6666666666666666,\"#ed7953\"],[0.7777777777777778,\"#fb9f3a\"],[0.8888888888888888,\"#fdca26\"],[1.0,\"#f0f921\"]],\"type\":\"surface\"}],\"table\":[{\"cells\":{\"fill\":{\"color\":\"#EBF0F8\"},\"line\":{\"color\":\"white\"}},\"header\":{\"fill\":{\"color\":\"#C8D4E3\"},\"line\":{\"color\":\"white\"}},\"type\":\"table\"}]},\"layout\":{\"annotationdefaults\":{\"arrowcolor\":\"#2a3f5f\",\"arrowhead\":0,\"arrowwidth\":1},\"autotypenumbers\":\"strict\",\"coloraxis\":{\"colorbar\":{\"outlinewidth\":0,\"ticks\":\"\"}},\"colorscale\":{\"diverging\":[[0,\"#8e0152\"],[0.1,\"#c51b7d\"],[0.2,\"#de77ae\"],[0.3,\"#f1b6da\"],[0.4,\"#fde0ef\"],[0.5,\"#f7f7f7\"],[0.6,\"#e6f5d0\"],[0.7,\"#b8e186\"],[0.8,\"#7fbc41\"],[0.9,\"#4d9221\"],[1,\"#276419\"]],\"sequential\":[[0.0,\"#0d0887\"],[0.1111111111111111,\"#46039f\"],[0.2222222222222222,\"#7201a8\"],[0.3333333333333333,\"#9c179e\"],[0.4444444444444444,\"#bd3786\"],[0.5555555555555556,\"#d8576b\"],[0.6666666666666666,\"#ed7953\"],[0.7777777777777778,\"#fb9f3a\"],[0.8888888888888888,\"#fdca26\"],[1.0,\"#f0f921\"]],\"sequentialminus\":[[0.0,\"#0d0887\"],[0.1111111111111111,\"#46039f\"],[0.2222222222222222,\"#7201a8\"],[0.3333333333333333,\"#9c179e\"],[0.4444444444444444,\"#bd3786\"],[0.5555555555555556,\"#d8576b\"],[0.6666666666666666,\"#ed7953\"],[0.7777777777777778,\"#fb9f3a\"],[0.8888888888888888,\"#fdca26\"],[1.0,\"#f0f921\"]]},\"colorway\":[\"#636efa\",\"#EF553B\",\"#00cc96\",\"#ab63fa\",\"#FFA15A\",\"#19d3f3\",\"#FF6692\",\"#B6E880\",\"#FF97FF\",\"#FECB52\"],\"font\":{\"color\":\"#2a3f5f\"},\"geo\":{\"bgcolor\":\"white\",\"lakecolor\":\"white\",\"landcolor\":\"#E5ECF6\",\"showlakes\":true,\"showland\":true,\"subunitcolor\":\"white\"},\"hoverlabel\":{\"align\":\"left\"},\"hovermode\":\"closest\",\"mapbox\":{\"style\":\"light\"},\"paper_bgcolor\":\"white\",\"plot_bgcolor\":\"#E5ECF6\",\"polar\":{\"angularaxis\":{\"gridcolor\":\"white\",\"linecolor\":\"white\",\"ticks\":\"\"},\"bgcolor\":\"#E5ECF6\",\"radialaxis\":{\"gridcolor\":\"white\",\"linecolor\":\"white\",\"ticks\":\"\"}},\"scene\":{\"xaxis\":{\"backgroundcolor\":\"#E5ECF6\",\"gridcolor\":\"white\",\"gridwidth\":2,\"linecolor\":\"white\",\"showbackground\":true,\"ticks\":\"\",\"zerolinecolor\":\"white\"},\"yaxis\":{\"backgroundcolor\":\"#E5ECF6\",\"gridcolor\":\"white\",\"gridwidth\":2,\"linecolor\":\"white\",\"showbackground\":true,\"ticks\":\"\",\"zerolinecolor\":\"white\"},\"zaxis\":{\"backgroundcolor\":\"#E5ECF6\",\"gridcolor\":\"white\",\"gridwidth\":2,\"linecolor\":\"white\",\"showbackground\":true,\"ticks\":\"\",\"zerolinecolor\":\"white\"}},\"shapedefaults\":{\"line\":{\"color\":\"#2a3f5f\"}},\"ternary\":{\"aaxis\":{\"gridcolor\":\"white\",\"linecolor\":\"white\",\"ticks\":\"\"},\"baxis\":{\"gridcolor\":\"white\",\"linecolor\":\"white\",\"ticks\":\"\"},\"bgcolor\":\"#E5ECF6\",\"caxis\":{\"gridcolor\":\"white\",\"linecolor\":\"white\",\"ticks\":\"\"}},\"title\":{\"x\":0.05},\"xaxis\":{\"automargin\":true,\"gridcolor\":\"white\",\"linecolor\":\"white\",\"ticks\":\"\",\"title\":{\"standoff\":15},\"zerolinecolor\":\"white\",\"zerolinewidth\":2},\"yaxis\":{\"automargin\":true,\"gridcolor\":\"white\",\"linecolor\":\"white\",\"ticks\":\"\",\"title\":{\"standoff\":15},\"zerolinecolor\":\"white\",\"zerolinewidth\":2}}},\"title\":{\"font\":{\"color\":\"#4D5663\"}},\"xaxis\":{\"gridcolor\":\"#E1E5ED\",\"showgrid\":true,\"tickfont\":{\"color\":\"#4D5663\"},\"title\":{\"font\":{\"color\":\"#4D5663\"},\"text\":\"\"},\"zerolinecolor\":\"#E1E5ED\"},\"yaxis\":{\"gridcolor\":\"#E1E5ED\",\"showgrid\":true,\"tickfont\":{\"color\":\"#4D5663\"},\"title\":{\"font\":{\"color\":\"#4D5663\"},\"text\":\"\"},\"zerolinecolor\":\"#E1E5ED\"}},                        {\"showLink\": true, \"linkText\": \"Export to plot.ly\", \"plotlyServerURL\": \"https://plot.ly\", \"responsive\": true}                    ).then(function(){\n",
       "                            \n",
       "var gd = document.getElementById('49fe062d-562f-402e-ac22-ac65b8cb3221');\n",
       "var x = new MutationObserver(function (mutations, observer) {{\n",
       "        var display = window.getComputedStyle(gd).display;\n",
       "        if (!display || display === 'none') {{\n",
       "            console.log([gd, 'removed!']);\n",
       "            Plotly.purge(gd);\n",
       "            observer.disconnect();\n",
       "        }}\n",
       "}});\n",
       "\n",
       "// Listen for the removal of the full notebook cells\n",
       "var notebookContainer = gd.closest('#notebook-container');\n",
       "if (notebookContainer) {{\n",
       "    x.observe(notebookContainer, {childList: true});\n",
       "}}\n",
       "\n",
       "// Listen for the clearing of the current output cell\n",
       "var outputEl = gd.closest('.output');\n",
       "if (outputEl) {{\n",
       "    x.observe(outputEl, {childList: true});\n",
       "}}\n",
       "\n",
       "                        })                };                });            </script>        </div>"
      ]
     },
     "metadata": {},
     "output_type": "display_data"
    }
   ],
   "source": [
    "df.iplot(kind='scatter',x='A',y='B',mode='markers',size=10)"
   ]
  },
  {
   "cell_type": "markdown",
   "metadata": {},
   "source": [
    "## Bar Plots"
   ]
  },
  {
   "cell_type": "code",
   "execution_count": 21,
   "metadata": {
    "collapsed": false,
    "jupyter": {
     "outputs_hidden": false
    }
   },
   "outputs": [
    {
     "data": {
      "application/vnd.plotly.v1+json": {
       "config": {
        "linkText": "Export to plot.ly",
        "plotlyServerURL": "https://plot.ly",
        "showLink": true
       },
       "data": [
        {
         "marker": {
          "color": "rgba(255, 153, 51, 0.6)",
          "line": {
           "color": "rgba(255, 153, 51, 1.0)",
           "width": 1
          }
         },
         "name": "Values",
         "orientation": "v",
         "text": "",
         "type": "bar",
         "x": [
          "A",
          "B",
          "C"
         ],
         "y": [
          32,
          43,
          50
         ]
        }
       ],
       "layout": {
        "autosize": true,
        "legend": {
         "bgcolor": "#F5F6F9",
         "font": {
          "color": "#4D5663"
         }
        },
        "paper_bgcolor": "#F5F6F9",
        "plot_bgcolor": "#F5F6F9",
        "template": {
         "data": {
          "bar": [
           {
            "error_x": {
             "color": "#2a3f5f"
            },
            "error_y": {
             "color": "#2a3f5f"
            },
            "marker": {
             "line": {
              "color": "#E5ECF6",
              "width": 0.5
             },
             "pattern": {
              "fillmode": "overlay",
              "size": 10,
              "solidity": 0.2
             }
            },
            "type": "bar"
           }
          ],
          "barpolar": [
           {
            "marker": {
             "line": {
              "color": "#E5ECF6",
              "width": 0.5
             },
             "pattern": {
              "fillmode": "overlay",
              "size": 10,
              "solidity": 0.2
             }
            },
            "type": "barpolar"
           }
          ],
          "carpet": [
           {
            "aaxis": {
             "endlinecolor": "#2a3f5f",
             "gridcolor": "white",
             "linecolor": "white",
             "minorgridcolor": "white",
             "startlinecolor": "#2a3f5f"
            },
            "baxis": {
             "endlinecolor": "#2a3f5f",
             "gridcolor": "white",
             "linecolor": "white",
             "minorgridcolor": "white",
             "startlinecolor": "#2a3f5f"
            },
            "type": "carpet"
           }
          ],
          "choropleth": [
           {
            "colorbar": {
             "outlinewidth": 0,
             "ticks": ""
            },
            "type": "choropleth"
           }
          ],
          "contour": [
           {
            "colorbar": {
             "outlinewidth": 0,
             "ticks": ""
            },
            "colorscale": [
             [
              0,
              "#0d0887"
             ],
             [
              0.1111111111111111,
              "#46039f"
             ],
             [
              0.2222222222222222,
              "#7201a8"
             ],
             [
              0.3333333333333333,
              "#9c179e"
             ],
             [
              0.4444444444444444,
              "#bd3786"
             ],
             [
              0.5555555555555556,
              "#d8576b"
             ],
             [
              0.6666666666666666,
              "#ed7953"
             ],
             [
              0.7777777777777778,
              "#fb9f3a"
             ],
             [
              0.8888888888888888,
              "#fdca26"
             ],
             [
              1,
              "#f0f921"
             ]
            ],
            "type": "contour"
           }
          ],
          "contourcarpet": [
           {
            "colorbar": {
             "outlinewidth": 0,
             "ticks": ""
            },
            "type": "contourcarpet"
           }
          ],
          "heatmap": [
           {
            "colorbar": {
             "outlinewidth": 0,
             "ticks": ""
            },
            "colorscale": [
             [
              0,
              "#0d0887"
             ],
             [
              0.1111111111111111,
              "#46039f"
             ],
             [
              0.2222222222222222,
              "#7201a8"
             ],
             [
              0.3333333333333333,
              "#9c179e"
             ],
             [
              0.4444444444444444,
              "#bd3786"
             ],
             [
              0.5555555555555556,
              "#d8576b"
             ],
             [
              0.6666666666666666,
              "#ed7953"
             ],
             [
              0.7777777777777778,
              "#fb9f3a"
             ],
             [
              0.8888888888888888,
              "#fdca26"
             ],
             [
              1,
              "#f0f921"
             ]
            ],
            "type": "heatmap"
           }
          ],
          "heatmapgl": [
           {
            "colorbar": {
             "outlinewidth": 0,
             "ticks": ""
            },
            "colorscale": [
             [
              0,
              "#0d0887"
             ],
             [
              0.1111111111111111,
              "#46039f"
             ],
             [
              0.2222222222222222,
              "#7201a8"
             ],
             [
              0.3333333333333333,
              "#9c179e"
             ],
             [
              0.4444444444444444,
              "#bd3786"
             ],
             [
              0.5555555555555556,
              "#d8576b"
             ],
             [
              0.6666666666666666,
              "#ed7953"
             ],
             [
              0.7777777777777778,
              "#fb9f3a"
             ],
             [
              0.8888888888888888,
              "#fdca26"
             ],
             [
              1,
              "#f0f921"
             ]
            ],
            "type": "heatmapgl"
           }
          ],
          "histogram": [
           {
            "marker": {
             "pattern": {
              "fillmode": "overlay",
              "size": 10,
              "solidity": 0.2
             }
            },
            "type": "histogram"
           }
          ],
          "histogram2d": [
           {
            "colorbar": {
             "outlinewidth": 0,
             "ticks": ""
            },
            "colorscale": [
             [
              0,
              "#0d0887"
             ],
             [
              0.1111111111111111,
              "#46039f"
             ],
             [
              0.2222222222222222,
              "#7201a8"
             ],
             [
              0.3333333333333333,
              "#9c179e"
             ],
             [
              0.4444444444444444,
              "#bd3786"
             ],
             [
              0.5555555555555556,
              "#d8576b"
             ],
             [
              0.6666666666666666,
              "#ed7953"
             ],
             [
              0.7777777777777778,
              "#fb9f3a"
             ],
             [
              0.8888888888888888,
              "#fdca26"
             ],
             [
              1,
              "#f0f921"
             ]
            ],
            "type": "histogram2d"
           }
          ],
          "histogram2dcontour": [
           {
            "colorbar": {
             "outlinewidth": 0,
             "ticks": ""
            },
            "colorscale": [
             [
              0,
              "#0d0887"
             ],
             [
              0.1111111111111111,
              "#46039f"
             ],
             [
              0.2222222222222222,
              "#7201a8"
             ],
             [
              0.3333333333333333,
              "#9c179e"
             ],
             [
              0.4444444444444444,
              "#bd3786"
             ],
             [
              0.5555555555555556,
              "#d8576b"
             ],
             [
              0.6666666666666666,
              "#ed7953"
             ],
             [
              0.7777777777777778,
              "#fb9f3a"
             ],
             [
              0.8888888888888888,
              "#fdca26"
             ],
             [
              1,
              "#f0f921"
             ]
            ],
            "type": "histogram2dcontour"
           }
          ],
          "mesh3d": [
           {
            "colorbar": {
             "outlinewidth": 0,
             "ticks": ""
            },
            "type": "mesh3d"
           }
          ],
          "parcoords": [
           {
            "line": {
             "colorbar": {
              "outlinewidth": 0,
              "ticks": ""
             }
            },
            "type": "parcoords"
           }
          ],
          "pie": [
           {
            "automargin": true,
            "type": "pie"
           }
          ],
          "scatter": [
           {
            "marker": {
             "colorbar": {
              "outlinewidth": 0,
              "ticks": ""
             }
            },
            "type": "scatter"
           }
          ],
          "scatter3d": [
           {
            "line": {
             "colorbar": {
              "outlinewidth": 0,
              "ticks": ""
             }
            },
            "marker": {
             "colorbar": {
              "outlinewidth": 0,
              "ticks": ""
             }
            },
            "type": "scatter3d"
           }
          ],
          "scattercarpet": [
           {
            "marker": {
             "colorbar": {
              "outlinewidth": 0,
              "ticks": ""
             }
            },
            "type": "scattercarpet"
           }
          ],
          "scattergeo": [
           {
            "marker": {
             "colorbar": {
              "outlinewidth": 0,
              "ticks": ""
             }
            },
            "type": "scattergeo"
           }
          ],
          "scattergl": [
           {
            "marker": {
             "colorbar": {
              "outlinewidth": 0,
              "ticks": ""
             }
            },
            "type": "scattergl"
           }
          ],
          "scattermapbox": [
           {
            "marker": {
             "colorbar": {
              "outlinewidth": 0,
              "ticks": ""
             }
            },
            "type": "scattermapbox"
           }
          ],
          "scatterpolar": [
           {
            "marker": {
             "colorbar": {
              "outlinewidth": 0,
              "ticks": ""
             }
            },
            "type": "scatterpolar"
           }
          ],
          "scatterpolargl": [
           {
            "marker": {
             "colorbar": {
              "outlinewidth": 0,
              "ticks": ""
             }
            },
            "type": "scatterpolargl"
           }
          ],
          "scatterternary": [
           {
            "marker": {
             "colorbar": {
              "outlinewidth": 0,
              "ticks": ""
             }
            },
            "type": "scatterternary"
           }
          ],
          "surface": [
           {
            "colorbar": {
             "outlinewidth": 0,
             "ticks": ""
            },
            "colorscale": [
             [
              0,
              "#0d0887"
             ],
             [
              0.1111111111111111,
              "#46039f"
             ],
             [
              0.2222222222222222,
              "#7201a8"
             ],
             [
              0.3333333333333333,
              "#9c179e"
             ],
             [
              0.4444444444444444,
              "#bd3786"
             ],
             [
              0.5555555555555556,
              "#d8576b"
             ],
             [
              0.6666666666666666,
              "#ed7953"
             ],
             [
              0.7777777777777778,
              "#fb9f3a"
             ],
             [
              0.8888888888888888,
              "#fdca26"
             ],
             [
              1,
              "#f0f921"
             ]
            ],
            "type": "surface"
           }
          ],
          "table": [
           {
            "cells": {
             "fill": {
              "color": "#EBF0F8"
             },
             "line": {
              "color": "white"
             }
            },
            "header": {
             "fill": {
              "color": "#C8D4E3"
             },
             "line": {
              "color": "white"
             }
            },
            "type": "table"
           }
          ]
         },
         "layout": {
          "annotationdefaults": {
           "arrowcolor": "#2a3f5f",
           "arrowhead": 0,
           "arrowwidth": 1
          },
          "autotypenumbers": "strict",
          "coloraxis": {
           "colorbar": {
            "outlinewidth": 0,
            "ticks": ""
           }
          },
          "colorscale": {
           "diverging": [
            [
             0,
             "#8e0152"
            ],
            [
             0.1,
             "#c51b7d"
            ],
            [
             0.2,
             "#de77ae"
            ],
            [
             0.3,
             "#f1b6da"
            ],
            [
             0.4,
             "#fde0ef"
            ],
            [
             0.5,
             "#f7f7f7"
            ],
            [
             0.6,
             "#e6f5d0"
            ],
            [
             0.7,
             "#b8e186"
            ],
            [
             0.8,
             "#7fbc41"
            ],
            [
             0.9,
             "#4d9221"
            ],
            [
             1,
             "#276419"
            ]
           ],
           "sequential": [
            [
             0,
             "#0d0887"
            ],
            [
             0.1111111111111111,
             "#46039f"
            ],
            [
             0.2222222222222222,
             "#7201a8"
            ],
            [
             0.3333333333333333,
             "#9c179e"
            ],
            [
             0.4444444444444444,
             "#bd3786"
            ],
            [
             0.5555555555555556,
             "#d8576b"
            ],
            [
             0.6666666666666666,
             "#ed7953"
            ],
            [
             0.7777777777777778,
             "#fb9f3a"
            ],
            [
             0.8888888888888888,
             "#fdca26"
            ],
            [
             1,
             "#f0f921"
            ]
           ],
           "sequentialminus": [
            [
             0,
             "#0d0887"
            ],
            [
             0.1111111111111111,
             "#46039f"
            ],
            [
             0.2222222222222222,
             "#7201a8"
            ],
            [
             0.3333333333333333,
             "#9c179e"
            ],
            [
             0.4444444444444444,
             "#bd3786"
            ],
            [
             0.5555555555555556,
             "#d8576b"
            ],
            [
             0.6666666666666666,
             "#ed7953"
            ],
            [
             0.7777777777777778,
             "#fb9f3a"
            ],
            [
             0.8888888888888888,
             "#fdca26"
            ],
            [
             1,
             "#f0f921"
            ]
           ]
          },
          "colorway": [
           "#636efa",
           "#EF553B",
           "#00cc96",
           "#ab63fa",
           "#FFA15A",
           "#19d3f3",
           "#FF6692",
           "#B6E880",
           "#FF97FF",
           "#FECB52"
          ],
          "font": {
           "color": "#2a3f5f"
          },
          "geo": {
           "bgcolor": "white",
           "lakecolor": "white",
           "landcolor": "#E5ECF6",
           "showlakes": true,
           "showland": true,
           "subunitcolor": "white"
          },
          "hoverlabel": {
           "align": "left"
          },
          "hovermode": "closest",
          "mapbox": {
           "style": "light"
          },
          "paper_bgcolor": "white",
          "plot_bgcolor": "#E5ECF6",
          "polar": {
           "angularaxis": {
            "gridcolor": "white",
            "linecolor": "white",
            "ticks": ""
           },
           "bgcolor": "#E5ECF6",
           "radialaxis": {
            "gridcolor": "white",
            "linecolor": "white",
            "ticks": ""
           }
          },
          "scene": {
           "xaxis": {
            "backgroundcolor": "#E5ECF6",
            "gridcolor": "white",
            "gridwidth": 2,
            "linecolor": "white",
            "showbackground": true,
            "ticks": "",
            "zerolinecolor": "white"
           },
           "yaxis": {
            "backgroundcolor": "#E5ECF6",
            "gridcolor": "white",
            "gridwidth": 2,
            "linecolor": "white",
            "showbackground": true,
            "ticks": "",
            "zerolinecolor": "white"
           },
           "zaxis": {
            "backgroundcolor": "#E5ECF6",
            "gridcolor": "white",
            "gridwidth": 2,
            "linecolor": "white",
            "showbackground": true,
            "ticks": "",
            "zerolinecolor": "white"
           }
          },
          "shapedefaults": {
           "line": {
            "color": "#2a3f5f"
           }
          },
          "ternary": {
           "aaxis": {
            "gridcolor": "white",
            "linecolor": "white",
            "ticks": ""
           },
           "baxis": {
            "gridcolor": "white",
            "linecolor": "white",
            "ticks": ""
           },
           "bgcolor": "#E5ECF6",
           "caxis": {
            "gridcolor": "white",
            "linecolor": "white",
            "ticks": ""
           }
          },
          "title": {
           "x": 0.05
          },
          "xaxis": {
           "automargin": true,
           "gridcolor": "white",
           "linecolor": "white",
           "ticks": "",
           "title": {
            "standoff": 15
           },
           "zerolinecolor": "white",
           "zerolinewidth": 2
          },
          "yaxis": {
           "automargin": true,
           "gridcolor": "white",
           "linecolor": "white",
           "ticks": "",
           "title": {
            "standoff": 15
           },
           "zerolinecolor": "white",
           "zerolinewidth": 2
          }
         }
        },
        "title": {
         "font": {
          "color": "#4D5663"
         }
        },
        "xaxis": {
         "autorange": true,
         "gridcolor": "#E1E5ED",
         "range": [
          -0.5,
          2.5
         ],
         "showgrid": true,
         "tickfont": {
          "color": "#4D5663"
         },
         "title": {
          "font": {
           "color": "#4D5663"
          },
          "text": ""
         },
         "type": "category",
         "zerolinecolor": "#E1E5ED"
        },
        "yaxis": {
         "autorange": true,
         "gridcolor": "#E1E5ED",
         "range": [
          0,
          52.63157894736842
         ],
         "showgrid": true,
         "tickfont": {
          "color": "#4D5663"
         },
         "title": {
          "font": {
           "color": "#4D5663"
          },
          "text": ""
         },
         "type": "linear",
         "zerolinecolor": "#E1E5ED"
        }
       }
      },
      "image/png": "[encoded data removed]",
      "text/html": [
       "<div>                            <div id=\"af4c94f6-8817-4d0e-9e07-b9435a2f49a6\" class=\"plotly-graph-div\" style=\"height:525px; width:100%;\"></div>            <script type=\"text/javascript\">                require([\"plotly\"], function(Plotly) {                    window.PLOTLYENV=window.PLOTLYENV || {};\n",
       "                    window.PLOTLYENV.BASE_URL='https://plot.ly';                                    if (document.getElementById(\"af4c94f6-8817-4d0e-9e07-b9435a2f49a6\")) {                    Plotly.newPlot(                        \"af4c94f6-8817-4d0e-9e07-b9435a2f49a6\",                        [{\"marker\":{\"color\":\"rgba(255, 153, 51, 0.6)\",\"line\":{\"color\":\"rgba(255, 153, 51, 1.0)\",\"width\":1}},\"name\":\"Values\",\"orientation\":\"v\",\"text\":\"\",\"x\":[\"A\",\"B\",\"C\"],\"y\":[32,43,50],\"type\":\"bar\"}],                        {\"legend\":{\"bgcolor\":\"#F5F6F9\",\"font\":{\"color\":\"#4D5663\"}},\"paper_bgcolor\":\"#F5F6F9\",\"plot_bgcolor\":\"#F5F6F9\",\"template\":{\"data\":{\"barpolar\":[{\"marker\":{\"line\":{\"color\":\"#E5ECF6\",\"width\":0.5},\"pattern\":{\"fillmode\":\"overlay\",\"size\":10,\"solidity\":0.2}},\"type\":\"barpolar\"}],\"bar\":[{\"error_x\":{\"color\":\"#2a3f5f\"},\"error_y\":{\"color\":\"#2a3f5f\"},\"marker\":{\"line\":{\"color\":\"#E5ECF6\",\"width\":0.5},\"pattern\":{\"fillmode\":\"overlay\",\"size\":10,\"solidity\":0.2}},\"type\":\"bar\"}],\"carpet\":[{\"aaxis\":{\"endlinecolor\":\"#2a3f5f\",\"gridcolor\":\"white\",\"linecolor\":\"white\",\"minorgridcolor\":\"white\",\"startlinecolor\":\"#2a3f5f\"},\"baxis\":{\"endlinecolor\":\"#2a3f5f\",\"gridcolor\":\"white\",\"linecolor\":\"white\",\"minorgridcolor\":\"white\",\"startlinecolor\":\"#2a3f5f\"},\"type\":\"carpet\"}],\"choropleth\":[{\"colorbar\":{\"outlinewidth\":0,\"ticks\":\"\"},\"type\":\"choropleth\"}],\"contourcarpet\":[{\"colorbar\":{\"outlinewidth\":0,\"ticks\":\"\"},\"type\":\"contourcarpet\"}],\"contour\":[{\"colorbar\":{\"outlinewidth\":0,\"ticks\":\"\"},\"colorscale\":[[0.0,\"#0d0887\"],[0.1111111111111111,\"#46039f\"],[0.2222222222222222,\"#7201a8\"],[0.3333333333333333,\"#9c179e\"],[0.4444444444444444,\"#bd3786\"],[0.5555555555555556,\"#d8576b\"],[0.6666666666666666,\"#ed7953\"],[0.7777777777777778,\"#fb9f3a\"],[0.8888888888888888,\"#fdca26\"],[1.0,\"#f0f921\"]],\"type\":\"contour\"}],\"heatmapgl\":[{\"colorbar\":{\"outlinewidth\":0,\"ticks\":\"\"},\"colorscale\":[[0.0,\"#0d0887\"],[0.1111111111111111,\"#46039f\"],[0.2222222222222222,\"#7201a8\"],[0.3333333333333333,\"#9c179e\"],[0.4444444444444444,\"#bd3786\"],[0.5555555555555556,\"#d8576b\"],[0.6666666666666666,\"#ed7953\"],[0.7777777777777778,\"#fb9f3a\"],[0.8888888888888888,\"#fdca26\"],[1.0,\"#f0f921\"]],\"type\":\"heatmapgl\"}],\"heatmap\":[{\"colorbar\":{\"outlinewidth\":0,\"ticks\":\"\"},\"colorscale\":[[0.0,\"#0d0887\"],[0.1111111111111111,\"#46039f\"],[0.2222222222222222,\"#7201a8\"],[0.3333333333333333,\"#9c179e\"],[0.4444444444444444,\"#bd3786\"],[0.5555555555555556,\"#d8576b\"],[0.6666666666666666,\"#ed7953\"],[0.7777777777777778,\"#fb9f3a\"],[0.8888888888888888,\"#fdca26\"],[1.0,\"#f0f921\"]],\"type\":\"heatmap\"}],\"histogram2dcontour\":[{\"colorbar\":{\"outlinewidth\":0,\"ticks\":\"\"},\"colorscale\":[[0.0,\"#0d0887\"],[0.1111111111111111,\"#46039f\"],[0.2222222222222222,\"#7201a8\"],[0.3333333333333333,\"#9c179e\"],[0.4444444444444444,\"#bd3786\"],[0.5555555555555556,\"#d8576b\"],[0.6666666666666666,\"#ed7953\"],[0.7777777777777778,\"#fb9f3a\"],[0.8888888888888888,\"#fdca26\"],[1.0,\"#f0f921\"]],\"type\":\"histogram2dcontour\"}],\"histogram2d\":[{\"colorbar\":{\"outlinewidth\":0,\"ticks\":\"\"},\"colorscale\":[[0.0,\"#0d0887\"],[0.1111111111111111,\"#46039f\"],[0.2222222222222222,\"#7201a8\"],[0.3333333333333333,\"#9c179e\"],[0.4444444444444444,\"#bd3786\"],[0.5555555555555556,\"#d8576b\"],[0.6666666666666666,\"#ed7953\"],[0.7777777777777778,\"#fb9f3a\"],[0.8888888888888888,\"#fdca26\"],[1.0,\"#f0f921\"]],\"type\":\"histogram2d\"}],\"histogram\":[{\"marker\":{\"pattern\":{\"fillmode\":\"overlay\",\"size\":10,\"solidity\":0.2}},\"type\":\"histogram\"}],\"mesh3d\":[{\"colorbar\":{\"outlinewidth\":0,\"ticks\":\"\"},\"type\":\"mesh3d\"}],\"parcoords\":[{\"line\":{\"colorbar\":{\"outlinewidth\":0,\"ticks\":\"\"}},\"type\":\"parcoords\"}],\"pie\":[{\"automargin\":true,\"type\":\"pie\"}],\"scatter3d\":[{\"line\":{\"colorbar\":{\"outlinewidth\":0,\"ticks\":\"\"}},\"marker\":{\"colorbar\":{\"outlinewidth\":0,\"ticks\":\"\"}},\"type\":\"scatter3d\"}],\"scattercarpet\":[{\"marker\":{\"colorbar\":{\"outlinewidth\":0,\"ticks\":\"\"}},\"type\":\"scattercarpet\"}],\"scattergeo\":[{\"marker\":{\"colorbar\":{\"outlinewidth\":0,\"ticks\":\"\"}},\"type\":\"scattergeo\"}],\"scattergl\":[{\"marker\":{\"colorbar\":{\"outlinewidth\":0,\"ticks\":\"\"}},\"type\":\"scattergl\"}],\"scattermapbox\":[{\"marker\":{\"colorbar\":{\"outlinewidth\":0,\"ticks\":\"\"}},\"type\":\"scattermapbox\"}],\"scatterpolargl\":[{\"marker\":{\"colorbar\":{\"outlinewidth\":0,\"ticks\":\"\"}},\"type\":\"scatterpolargl\"}],\"scatterpolar\":[{\"marker\":{\"colorbar\":{\"outlinewidth\":0,\"ticks\":\"\"}},\"type\":\"scatterpolar\"}],\"scatter\":[{\"marker\":{\"colorbar\":{\"outlinewidth\":0,\"ticks\":\"\"}},\"type\":\"scatter\"}],\"scatterternary\":[{\"marker\":{\"colorbar\":{\"outlinewidth\":0,\"ticks\":\"\"}},\"type\":\"scatterternary\"}],\"surface\":[{\"colorbar\":{\"outlinewidth\":0,\"ticks\":\"\"},\"colorscale\":[[0.0,\"#0d0887\"],[0.1111111111111111,\"#46039f\"],[0.2222222222222222,\"#7201a8\"],[0.3333333333333333,\"#9c179e\"],[0.4444444444444444,\"#bd3786\"],[0.5555555555555556,\"#d8576b\"],[0.6666666666666666,\"#ed7953\"],[0.7777777777777778,\"#fb9f3a\"],[0.8888888888888888,\"#fdca26\"],[1.0,\"#f0f921\"]],\"type\":\"surface\"}],\"table\":[{\"cells\":{\"fill\":{\"color\":\"#EBF0F8\"},\"line\":{\"color\":\"white\"}},\"header\":{\"fill\":{\"color\":\"#C8D4E3\"},\"line\":{\"color\":\"white\"}},\"type\":\"table\"}]},\"layout\":{\"annotationdefaults\":{\"arrowcolor\":\"#2a3f5f\",\"arrowhead\":0,\"arrowwidth\":1},\"autotypenumbers\":\"strict\",\"coloraxis\":{\"colorbar\":{\"outlinewidth\":0,\"ticks\":\"\"}},\"colorscale\":{\"diverging\":[[0,\"#8e0152\"],[0.1,\"#c51b7d\"],[0.2,\"#de77ae\"],[0.3,\"#f1b6da\"],[0.4,\"#fde0ef\"],[0.5,\"#f7f7f7\"],[0.6,\"#e6f5d0\"],[0.7,\"#b8e186\"],[0.8,\"#7fbc41\"],[0.9,\"#4d9221\"],[1,\"#276419\"]],\"sequential\":[[0.0,\"#0d0887\"],[0.1111111111111111,\"#46039f\"],[0.2222222222222222,\"#7201a8\"],[0.3333333333333333,\"#9c179e\"],[0.4444444444444444,\"#bd3786\"],[0.5555555555555556,\"#d8576b\"],[0.6666666666666666,\"#ed7953\"],[0.7777777777777778,\"#fb9f3a\"],[0.8888888888888888,\"#fdca26\"],[1.0,\"#f0f921\"]],\"sequentialminus\":[[0.0,\"#0d0887\"],[0.1111111111111111,\"#46039f\"],[0.2222222222222222,\"#7201a8\"],[0.3333333333333333,\"#9c179e\"],[0.4444444444444444,\"#bd3786\"],[0.5555555555555556,\"#d8576b\"],[0.6666666666666666,\"#ed7953\"],[0.7777777777777778,\"#fb9f3a\"],[0.8888888888888888,\"#fdca26\"],[1.0,\"#f0f921\"]]},\"colorway\":[\"#636efa\",\"#EF553B\",\"#00cc96\",\"#ab63fa\",\"#FFA15A\",\"#19d3f3\",\"#FF6692\",\"#B6E880\",\"#FF97FF\",\"#FECB52\"],\"font\":{\"color\":\"#2a3f5f\"},\"geo\":{\"bgcolor\":\"white\",\"lakecolor\":\"white\",\"landcolor\":\"#E5ECF6\",\"showlakes\":true,\"showland\":true,\"subunitcolor\":\"white\"},\"hoverlabel\":{\"align\":\"left\"},\"hovermode\":\"closest\",\"mapbox\":{\"style\":\"light\"},\"paper_bgcolor\":\"white\",\"plot_bgcolor\":\"#E5ECF6\",\"polar\":{\"angularaxis\":{\"gridcolor\":\"white\",\"linecolor\":\"white\",\"ticks\":\"\"},\"bgcolor\":\"#E5ECF6\",\"radialaxis\":{\"gridcolor\":\"white\",\"linecolor\":\"white\",\"ticks\":\"\"}},\"scene\":{\"xaxis\":{\"backgroundcolor\":\"#E5ECF6\",\"gridcolor\":\"white\",\"gridwidth\":2,\"linecolor\":\"white\",\"showbackground\":true,\"ticks\":\"\",\"zerolinecolor\":\"white\"},\"yaxis\":{\"backgroundcolor\":\"#E5ECF6\",\"gridcolor\":\"white\",\"gridwidth\":2,\"linecolor\":\"white\",\"showbackground\":true,\"ticks\":\"\",\"zerolinecolor\":\"white\"},\"zaxis\":{\"backgroundcolor\":\"#E5ECF6\",\"gridcolor\":\"white\",\"gridwidth\":2,\"linecolor\":\"white\",\"showbackground\":true,\"ticks\":\"\",\"zerolinecolor\":\"white\"}},\"shapedefaults\":{\"line\":{\"color\":\"#2a3f5f\"}},\"ternary\":{\"aaxis\":{\"gridcolor\":\"white\",\"linecolor\":\"white\",\"ticks\":\"\"},\"baxis\":{\"gridcolor\":\"white\",\"linecolor\":\"white\",\"ticks\":\"\"},\"bgcolor\":\"#E5ECF6\",\"caxis\":{\"gridcolor\":\"white\",\"linecolor\":\"white\",\"ticks\":\"\"}},\"title\":{\"x\":0.05},\"xaxis\":{\"automargin\":true,\"gridcolor\":\"white\",\"linecolor\":\"white\",\"ticks\":\"\",\"title\":{\"standoff\":15},\"zerolinecolor\":\"white\",\"zerolinewidth\":2},\"yaxis\":{\"automargin\":true,\"gridcolor\":\"white\",\"linecolor\":\"white\",\"ticks\":\"\",\"title\":{\"standoff\":15},\"zerolinecolor\":\"white\",\"zerolinewidth\":2}}},\"title\":{\"font\":{\"color\":\"#4D5663\"}},\"xaxis\":{\"gridcolor\":\"#E1E5ED\",\"showgrid\":true,\"tickfont\":{\"color\":\"#4D5663\"},\"title\":{\"font\":{\"color\":\"#4D5663\"},\"text\":\"\"},\"zerolinecolor\":\"#E1E5ED\"},\"yaxis\":{\"gridcolor\":\"#E1E5ED\",\"showgrid\":true,\"tickfont\":{\"color\":\"#4D5663\"},\"title\":{\"font\":{\"color\":\"#4D5663\"},\"text\":\"\"},\"zerolinecolor\":\"#E1E5ED\"}},                        {\"showLink\": true, \"linkText\": \"Export to plot.ly\", \"plotlyServerURL\": \"https://plot.ly\", \"responsive\": true}                    ).then(function(){\n",
       "                            \n",
       "var gd = document.getElementById('af4c94f6-8817-4d0e-9e07-b9435a2f49a6');\n",
       "var x = new MutationObserver(function (mutations, observer) {{\n",
       "        var display = window.getComputedStyle(gd).display;\n",
       "        if (!display || display === 'none') {{\n",
       "            console.log([gd, 'removed!']);\n",
       "            Plotly.purge(gd);\n",
       "            observer.disconnect();\n",
       "        }}\n",
       "}});\n",
       "\n",
       "// Listen for the removal of the full notebook cells\n",
       "var notebookContainer = gd.closest('#notebook-container');\n",
       "if (notebookContainer) {{\n",
       "    x.observe(notebookContainer, {childList: true});\n",
       "}}\n",
       "\n",
       "// Listen for the clearing of the current output cell\n",
       "var outputEl = gd.closest('.output');\n",
       "if (outputEl) {{\n",
       "    x.observe(outputEl, {childList: true});\n",
       "}}\n",
       "\n",
       "                        })                };                });            </script>        </div>"
      ]
     },
     "metadata": {},
     "output_type": "display_data"
    }
   ],
   "source": [
    "df2.iplot(kind='bar',x='Category',y='Values')"
   ]
  },
  {
   "cell_type": "code",
   "execution_count": 22,
   "metadata": {
    "collapsed": false,
    "jupyter": {
     "outputs_hidden": false
    }
   },
   "outputs": [
    {
     "data": {
      "application/vnd.plotly.v1+json": {
       "config": {
        "linkText": "Export to plot.ly",
        "plotlyServerURL": "https://plot.ly",
        "showLink": true
       },
       "data": [
        {
         "marker": {
          "color": "rgba(255, 153, 51, 0.6)",
          "line": {
           "color": "rgba(255, 153, 51, 1.0)",
           "width": 1
          }
         },
         "name": "None",
         "orientation": "v",
         "text": "",
         "type": "bar",
         "x": [
          "A",
          "B",
          "C",
          "D"
         ],
         "y": [
          100,
          100,
          100,
          100
         ]
        }
       ],
       "layout": {
        "autosize": true,
        "legend": {
         "bgcolor": "#F5F6F9",
         "font": {
          "color": "#4D5663"
         }
        },
        "paper_bgcolor": "#F5F6F9",
        "plot_bgcolor": "#F5F6F9",
        "template": {
         "data": {
          "bar": [
           {
            "error_x": {
             "color": "#2a3f5f"
            },
            "error_y": {
             "color": "#2a3f5f"
            },
            "marker": {
             "line": {
              "color": "#E5ECF6",
              "width": 0.5
             },
             "pattern": {
              "fillmode": "overlay",
              "size": 10,
              "solidity": 0.2
             }
            },
            "type": "bar"
           }
          ],
          "barpolar": [
           {
            "marker": {
             "line": {
              "color": "#E5ECF6",
              "width": 0.5
             },
             "pattern": {
              "fillmode": "overlay",
              "size": 10,
              "solidity": 0.2
             }
            },
            "type": "barpolar"
           }
          ],
          "carpet": [
           {
            "aaxis": {
             "endlinecolor": "#2a3f5f",
             "gridcolor": "white",
             "linecolor": "white",
             "minorgridcolor": "white",
             "startlinecolor": "#2a3f5f"
            },
            "baxis": {
             "endlinecolor": "#2a3f5f",
             "gridcolor": "white",
             "linecolor": "white",
             "minorgridcolor": "white",
             "startlinecolor": "#2a3f5f"
            },
            "type": "carpet"
           }
          ],
          "choropleth": [
           {
            "colorbar": {
             "outlinewidth": 0,
             "ticks": ""
            },
            "type": "choropleth"
           }
          ],
          "contour": [
           {
            "colorbar": {
             "outlinewidth": 0,
             "ticks": ""
            },
            "colorscale": [
             [
              0,
              "#0d0887"
             ],
             [
              0.1111111111111111,
              "#46039f"
             ],
             [
              0.2222222222222222,
              "#7201a8"
             ],
             [
              0.3333333333333333,
              "#9c179e"
             ],
             [
              0.4444444444444444,
              "#bd3786"
             ],
             [
              0.5555555555555556,
              "#d8576b"
             ],
             [
              0.6666666666666666,
              "#ed7953"
             ],
             [
              0.7777777777777778,
              "#fb9f3a"
             ],
             [
              0.8888888888888888,
              "#fdca26"
             ],
             [
              1,
              "#f0f921"
             ]
            ],
            "type": "contour"
           }
          ],
          "contourcarpet": [
           {
            "colorbar": {
             "outlinewidth": 0,
             "ticks": ""
            },
            "type": "contourcarpet"
           }
          ],
          "heatmap": [
           {
            "colorbar": {
             "outlinewidth": 0,
             "ticks": ""
            },
            "colorscale": [
             [
              0,
              "#0d0887"
             ],
             [
              0.1111111111111111,
              "#46039f"
             ],
             [
              0.2222222222222222,
              "#7201a8"
             ],
             [
              0.3333333333333333,
              "#9c179e"
             ],
             [
              0.4444444444444444,
              "#bd3786"
             ],
             [
              0.5555555555555556,
              "#d8576b"
             ],
             [
              0.6666666666666666,
              "#ed7953"
             ],
             [
              0.7777777777777778,
              "#fb9f3a"
             ],
             [
              0.8888888888888888,
              "#fdca26"
             ],
             [
              1,
              "#f0f921"
             ]
            ],
            "type": "heatmap"
           }
          ],
          "heatmapgl": [
           {
            "colorbar": {
             "outlinewidth": 0,
             "ticks": ""
            },
            "colorscale": [
             [
              0,
              "#0d0887"
             ],
             [
              0.1111111111111111,
              "#46039f"
             ],
             [
              0.2222222222222222,
              "#7201a8"
             ],
             [
              0.3333333333333333,
              "#9c179e"
             ],
             [
              0.4444444444444444,
              "#bd3786"
             ],
             [
              0.5555555555555556,
              "#d8576b"
             ],
             [
              0.6666666666666666,
              "#ed7953"
             ],
             [
              0.7777777777777778,
              "#fb9f3a"
             ],
             [
              0.8888888888888888,
              "#fdca26"
             ],
             [
              1,
              "#f0f921"
             ]
            ],
            "type": "heatmapgl"
           }
          ],
          "histogram": [
           {
            "marker": {
             "pattern": {
              "fillmode": "overlay",
              "size": 10,
              "solidity": 0.2
             }
            },
            "type": "histogram"
           }
          ],
          "histogram2d": [
           {
            "colorbar": {
             "outlinewidth": 0,
             "ticks": ""
            },
            "colorscale": [
             [
              0,
              "#0d0887"
             ],
             [
              0.1111111111111111,
              "#46039f"
             ],
             [
              0.2222222222222222,
              "#7201a8"
             ],
             [
              0.3333333333333333,
              "#9c179e"
             ],
             [
              0.4444444444444444,
              "#bd3786"
             ],
             [
              0.5555555555555556,
              "#d8576b"
             ],
             [
              0.6666666666666666,
              "#ed7953"
             ],
             [
              0.7777777777777778,
              "#fb9f3a"
             ],
             [
              0.8888888888888888,
              "#fdca26"
             ],
             [
              1,
              "#f0f921"
             ]
            ],
            "type": "histogram2d"
           }
          ],
          "histogram2dcontour": [
           {
            "colorbar": {
             "outlinewidth": 0,
             "ticks": ""
            },
            "colorscale": [
             [
              0,
              "#0d0887"
             ],
             [
              0.1111111111111111,
              "#46039f"
             ],
             [
              0.2222222222222222,
              "#7201a8"
             ],
             [
              0.3333333333333333,
              "#9c179e"
             ],
             [
              0.4444444444444444,
              "#bd3786"
             ],
             [
              0.5555555555555556,
              "#d8576b"
             ],
             [
              0.6666666666666666,
              "#ed7953"
             ],
             [
              0.7777777777777778,
              "#fb9f3a"
             ],
             [
              0.8888888888888888,
              "#fdca26"
             ],
             [
              1,
              "#f0f921"
             ]
            ],
            "type": "histogram2dcontour"
           }
          ],
          "mesh3d": [
           {
            "colorbar": {
             "outlinewidth": 0,
             "ticks": ""
            },
            "type": "mesh3d"
           }
          ],
          "parcoords": [
           {
            "line": {
             "colorbar": {
              "outlinewidth": 0,
              "ticks": ""
             }
            },
            "type": "parcoords"
           }
          ],
          "pie": [
           {
            "automargin": true,
            "type": "pie"
           }
          ],
          "scatter": [
           {
            "marker": {
             "colorbar": {
              "outlinewidth": 0,
              "ticks": ""
             }
            },
            "type": "scatter"
           }
          ],
          "scatter3d": [
           {
            "line": {
             "colorbar": {
              "outlinewidth": 0,
              "ticks": ""
             }
            },
            "marker": {
             "colorbar": {
              "outlinewidth": 0,
              "ticks": ""
             }
            },
            "type": "scatter3d"
           }
          ],
          "scattercarpet": [
           {
            "marker": {
             "colorbar": {
              "outlinewidth": 0,
              "ticks": ""
             }
            },
            "type": "scattercarpet"
           }
          ],
          "scattergeo": [
           {
            "marker": {
             "colorbar": {
              "outlinewidth": 0,
              "ticks": ""
             }
            },
            "type": "scattergeo"
           }
          ],
          "scattergl": [
           {
            "marker": {
             "colorbar": {
              "outlinewidth": 0,
              "ticks": ""
             }
            },
            "type": "scattergl"
           }
          ],
          "scattermapbox": [
           {
            "marker": {
             "colorbar": {
              "outlinewidth": 0,
              "ticks": ""
             }
            },
            "type": "scattermapbox"
           }
          ],
          "scatterpolar": [
           {
            "marker": {
             "colorbar": {
              "outlinewidth": 0,
              "ticks": ""
             }
            },
            "type": "scatterpolar"
           }
          ],
          "scatterpolargl": [
           {
            "marker": {
             "colorbar": {
              "outlinewidth": 0,
              "ticks": ""
             }
            },
            "type": "scatterpolargl"
           }
          ],
          "scatterternary": [
           {
            "marker": {
             "colorbar": {
              "outlinewidth": 0,
              "ticks": ""
             }
            },
            "type": "scatterternary"
           }
          ],
          "surface": [
           {
            "colorbar": {
             "outlinewidth": 0,
             "ticks": ""
            },
            "colorscale": [
             [
              0,
              "#0d0887"
             ],
             [
              0.1111111111111111,
              "#46039f"
             ],
             [
              0.2222222222222222,
              "#7201a8"
             ],
             [
              0.3333333333333333,
              "#9c179e"
             ],
             [
              0.4444444444444444,
              "#bd3786"
             ],
             [
              0.5555555555555556,
              "#d8576b"
             ],
             [
              0.6666666666666666,
              "#ed7953"
             ],
             [
              0.7777777777777778,
              "#fb9f3a"
             ],
             [
              0.8888888888888888,
              "#fdca26"
             ],
             [
              1,
              "#f0f921"
             ]
            ],
            "type": "surface"
           }
          ],
          "table": [
           {
            "cells": {
             "fill": {
              "color": "#EBF0F8"
             },
             "line": {
              "color": "white"
             }
            },
            "header": {
             "fill": {
              "color": "#C8D4E3"
             },
             "line": {
              "color": "white"
             }
            },
            "type": "table"
           }
          ]
         },
         "layout": {
          "annotationdefaults": {
           "arrowcolor": "#2a3f5f",
           "arrowhead": 0,
           "arrowwidth": 1
          },
          "autotypenumbers": "strict",
          "coloraxis": {
           "colorbar": {
            "outlinewidth": 0,
            "ticks": ""
           }
          },
          "colorscale": {
           "diverging": [
            [
             0,
             "#8e0152"
            ],
            [
             0.1,
             "#c51b7d"
            ],
            [
             0.2,
             "#de77ae"
            ],
            [
             0.3,
             "#f1b6da"
            ],
            [
             0.4,
             "#fde0ef"
            ],
            [
             0.5,
             "#f7f7f7"
            ],
            [
             0.6,
             "#e6f5d0"
            ],
            [
             0.7,
             "#b8e186"
            ],
            [
             0.8,
             "#7fbc41"
            ],
            [
             0.9,
             "#4d9221"
            ],
            [
             1,
             "#276419"
            ]
           ],
           "sequential": [
            [
             0,
             "#0d0887"
            ],
            [
             0.1111111111111111,
             "#46039f"
            ],
            [
             0.2222222222222222,
             "#7201a8"
            ],
            [
             0.3333333333333333,
             "#9c179e"
            ],
            [
             0.4444444444444444,
             "#bd3786"
            ],
            [
             0.5555555555555556,
             "#d8576b"
            ],
            [
             0.6666666666666666,
             "#ed7953"
            ],
            [
             0.7777777777777778,
             "#fb9f3a"
            ],
            [
             0.8888888888888888,
             "#fdca26"
            ],
            [
             1,
             "#f0f921"
            ]
           ],
           "sequentialminus": [
            [
             0,
             "#0d0887"
            ],
            [
             0.1111111111111111,
             "#46039f"
            ],
            [
             0.2222222222222222,
             "#7201a8"
            ],
            [
             0.3333333333333333,
             "#9c179e"
            ],
            [
             0.4444444444444444,
             "#bd3786"
            ],
            [
             0.5555555555555556,
             "#d8576b"
            ],
            [
             0.6666666666666666,
             "#ed7953"
            ],
            [
             0.7777777777777778,
             "#fb9f3a"
            ],
            [
             0.8888888888888888,
             "#fdca26"
            ],
            [
             1,
             "#f0f921"
            ]
           ]
          },
          "colorway": [
           "#636efa",
           "#EF553B",
           "#00cc96",
           "#ab63fa",
           "#FFA15A",
           "#19d3f3",
           "#FF6692",
           "#B6E880",
           "#FF97FF",
           "#FECB52"
          ],
          "font": {
           "color": "#2a3f5f"
          },
          "geo": {
           "bgcolor": "white",
           "lakecolor": "white",
           "landcolor": "#E5ECF6",
           "showlakes": true,
           "showland": true,
           "subunitcolor": "white"
          },
          "hoverlabel": {
           "align": "left"
          },
          "hovermode": "closest",
          "mapbox": {
           "style": "light"
          },
          "paper_bgcolor": "white",
          "plot_bgcolor": "#E5ECF6",
          "polar": {
           "angularaxis": {
            "gridcolor": "white",
            "linecolor": "white",
            "ticks": ""
           },
           "bgcolor": "#E5ECF6",
           "radialaxis": {
            "gridcolor": "white",
            "linecolor": "white",
            "ticks": ""
           }
          },
          "scene": {
           "xaxis": {
            "backgroundcolor": "#E5ECF6",
            "gridcolor": "white",
            "gridwidth": 2,
            "linecolor": "white",
            "showbackground": true,
            "ticks": "",
            "zerolinecolor": "white"
           },
           "yaxis": {
            "backgroundcolor": "#E5ECF6",
            "gridcolor": "white",
            "gridwidth": 2,
            "linecolor": "white",
            "showbackground": true,
            "ticks": "",
            "zerolinecolor": "white"
           },
           "zaxis": {
            "backgroundcolor": "#E5ECF6",
            "gridcolor": "white",
            "gridwidth": 2,
            "linecolor": "white",
            "showbackground": true,
            "ticks": "",
            "zerolinecolor": "white"
           }
          },
          "shapedefaults": {
           "line": {
            "color": "#2a3f5f"
           }
          },
          "ternary": {
           "aaxis": {
            "gridcolor": "white",
            "linecolor": "white",
            "ticks": ""
           },
           "baxis": {
            "gridcolor": "white",
            "linecolor": "white",
            "ticks": ""
           },
           "bgcolor": "#E5ECF6",
           "caxis": {
            "gridcolor": "white",
            "linecolor": "white",
            "ticks": ""
           }
          },
          "title": {
           "x": 0.05
          },
          "xaxis": {
           "automargin": true,
           "gridcolor": "white",
           "linecolor": "white",
           "ticks": "",
           "title": {
            "standoff": 15
           },
           "zerolinecolor": "white",
           "zerolinewidth": 2
          },
          "yaxis": {
           "automargin": true,
           "gridcolor": "white",
           "linecolor": "white",
           "ticks": "",
           "title": {
            "standoff": 15
           },
           "zerolinecolor": "white",
           "zerolinewidth": 2
          }
         }
        },
        "title": {
         "font": {
          "color": "#4D5663"
         }
        },
        "xaxis": {
         "autorange": true,
         "gridcolor": "#E1E5ED",
         "range": [
          -0.5,
          3.5
         ],
         "showgrid": true,
         "tickfont": {
          "color": "#4D5663"
         },
         "title": {
          "font": {
           "color": "#4D5663"
          },
          "text": ""
         },
         "type": "category",
         "zerolinecolor": "#E1E5ED"
        },
        "yaxis": {
         "autorange": true,
         "gridcolor": "#E1E5ED",
         "range": [
          0,
          105.26315789473684
         ],
         "showgrid": true,
         "tickfont": {
          "color": "#4D5663"
         },
         "title": {
          "font": {
           "color": "#4D5663"
          },
          "text": ""
         },
         "type": "linear",
         "zerolinecolor": "#E1E5ED"
        }
       }
      },
      "image/png": "[encoded data removed]",
      "text/html": [
       "<div>                            <div id=\"a8859136-8b34-4e69-916e-e439fd1b3532\" class=\"plotly-graph-div\" style=\"height:525px; width:100%;\"></div>            <script type=\"text/javascript\">                require([\"plotly\"], function(Plotly) {                    window.PLOTLYENV=window.PLOTLYENV || {};\n",
       "                    window.PLOTLYENV.BASE_URL='https://plot.ly';                                    if (document.getElementById(\"a8859136-8b34-4e69-916e-e439fd1b3532\")) {                    Plotly.newPlot(                        \"a8859136-8b34-4e69-916e-e439fd1b3532\",                        [{\"marker\":{\"color\":\"rgba(255, 153, 51, 0.6)\",\"line\":{\"color\":\"rgba(255, 153, 51, 1.0)\",\"width\":1}},\"name\":\"None\",\"orientation\":\"v\",\"text\":\"\",\"x\":[\"A\",\"B\",\"C\",\"D\"],\"y\":[100,100,100,100],\"type\":\"bar\"}],                        {\"legend\":{\"bgcolor\":\"#F5F6F9\",\"font\":{\"color\":\"#4D5663\"}},\"paper_bgcolor\":\"#F5F6F9\",\"plot_bgcolor\":\"#F5F6F9\",\"template\":{\"data\":{\"barpolar\":[{\"marker\":{\"line\":{\"color\":\"#E5ECF6\",\"width\":0.5},\"pattern\":{\"fillmode\":\"overlay\",\"size\":10,\"solidity\":0.2}},\"type\":\"barpolar\"}],\"bar\":[{\"error_x\":{\"color\":\"#2a3f5f\"},\"error_y\":{\"color\":\"#2a3f5f\"},\"marker\":{\"line\":{\"color\":\"#E5ECF6\",\"width\":0.5},\"pattern\":{\"fillmode\":\"overlay\",\"size\":10,\"solidity\":0.2}},\"type\":\"bar\"}],\"carpet\":[{\"aaxis\":{\"endlinecolor\":\"#2a3f5f\",\"gridcolor\":\"white\",\"linecolor\":\"white\",\"minorgridcolor\":\"white\",\"startlinecolor\":\"#2a3f5f\"},\"baxis\":{\"endlinecolor\":\"#2a3f5f\",\"gridcolor\":\"white\",\"linecolor\":\"white\",\"minorgridcolor\":\"white\",\"startlinecolor\":\"#2a3f5f\"},\"type\":\"carpet\"}],\"choropleth\":[{\"colorbar\":{\"outlinewidth\":0,\"ticks\":\"\"},\"type\":\"choropleth\"}],\"contourcarpet\":[{\"colorbar\":{\"outlinewidth\":0,\"ticks\":\"\"},\"type\":\"contourcarpet\"}],\"contour\":[{\"colorbar\":{\"outlinewidth\":0,\"ticks\":\"\"},\"colorscale\":[[0.0,\"#0d0887\"],[0.1111111111111111,\"#46039f\"],[0.2222222222222222,\"#7201a8\"],[0.3333333333333333,\"#9c179e\"],[0.4444444444444444,\"#bd3786\"],[0.5555555555555556,\"#d8576b\"],[0.6666666666666666,\"#ed7953\"],[0.7777777777777778,\"#fb9f3a\"],[0.8888888888888888,\"#fdca26\"],[1.0,\"#f0f921\"]],\"type\":\"contour\"}],\"heatmapgl\":[{\"colorbar\":{\"outlinewidth\":0,\"ticks\":\"\"},\"colorscale\":[[0.0,\"#0d0887\"],[0.1111111111111111,\"#46039f\"],[0.2222222222222222,\"#7201a8\"],[0.3333333333333333,\"#9c179e\"],[0.4444444444444444,\"#bd3786\"],[0.5555555555555556,\"#d8576b\"],[0.6666666666666666,\"#ed7953\"],[0.7777777777777778,\"#fb9f3a\"],[0.8888888888888888,\"#fdca26\"],[1.0,\"#f0f921\"]],\"type\":\"heatmapgl\"}],\"heatmap\":[{\"colorbar\":{\"outlinewidth\":0,\"ticks\":\"\"},\"colorscale\":[[0.0,\"#0d0887\"],[0.1111111111111111,\"#46039f\"],[0.2222222222222222,\"#7201a8\"],[0.3333333333333333,\"#9c179e\"],[0.4444444444444444,\"#bd3786\"],[0.5555555555555556,\"#d8576b\"],[0.6666666666666666,\"#ed7953\"],[0.7777777777777778,\"#fb9f3a\"],[0.8888888888888888,\"#fdca26\"],[1.0,\"#f0f921\"]],\"type\":\"heatmap\"}],\"histogram2dcontour\":[{\"colorbar\":{\"outlinewidth\":0,\"ticks\":\"\"},\"colorscale\":[[0.0,\"#0d0887\"],[0.1111111111111111,\"#46039f\"],[0.2222222222222222,\"#7201a8\"],[0.3333333333333333,\"#9c179e\"],[0.4444444444444444,\"#bd3786\"],[0.5555555555555556,\"#d8576b\"],[0.6666666666666666,\"#ed7953\"],[0.7777777777777778,\"#fb9f3a\"],[0.8888888888888888,\"#fdca26\"],[1.0,\"#f0f921\"]],\"type\":\"histogram2dcontour\"}],\"histogram2d\":[{\"colorbar\":{\"outlinewidth\":0,\"ticks\":\"\"},\"colorscale\":[[0.0,\"#0d0887\"],[0.1111111111111111,\"#46039f\"],[0.2222222222222222,\"#7201a8\"],[0.3333333333333333,\"#9c179e\"],[0.4444444444444444,\"#bd3786\"],[0.5555555555555556,\"#d8576b\"],[0.6666666666666666,\"#ed7953\"],[0.7777777777777778,\"#fb9f3a\"],[0.8888888888888888,\"#fdca26\"],[1.0,\"#f0f921\"]],\"type\":\"histogram2d\"}],\"histogram\":[{\"marker\":{\"pattern\":{\"fillmode\":\"overlay\",\"size\":10,\"solidity\":0.2}},\"type\":\"histogram\"}],\"mesh3d\":[{\"colorbar\":{\"outlinewidth\":0,\"ticks\":\"\"},\"type\":\"mesh3d\"}],\"parcoords\":[{\"line\":{\"colorbar\":{\"outlinewidth\":0,\"ticks\":\"\"}},\"type\":\"parcoords\"}],\"pie\":[{\"automargin\":true,\"type\":\"pie\"}],\"scatter3d\":[{\"line\":{\"colorbar\":{\"outlinewidth\":0,\"ticks\":\"\"}},\"marker\":{\"colorbar\":{\"outlinewidth\":0,\"ticks\":\"\"}},\"type\":\"scatter3d\"}],\"scattercarpet\":[{\"marker\":{\"colorbar\":{\"outlinewidth\":0,\"ticks\":\"\"}},\"type\":\"scattercarpet\"}],\"scattergeo\":[{\"marker\":{\"colorbar\":{\"outlinewidth\":0,\"ticks\":\"\"}},\"type\":\"scattergeo\"}],\"scattergl\":[{\"marker\":{\"colorbar\":{\"outlinewidth\":0,\"ticks\":\"\"}},\"type\":\"scattergl\"}],\"scattermapbox\":[{\"marker\":{\"colorbar\":{\"outlinewidth\":0,\"ticks\":\"\"}},\"type\":\"scattermapbox\"}],\"scatterpolargl\":[{\"marker\":{\"colorbar\":{\"outlinewidth\":0,\"ticks\":\"\"}},\"type\":\"scatterpolargl\"}],\"scatterpolar\":[{\"marker\":{\"colorbar\":{\"outlinewidth\":0,\"ticks\":\"\"}},\"type\":\"scatterpolar\"}],\"scatter\":[{\"marker\":{\"colorbar\":{\"outlinewidth\":0,\"ticks\":\"\"}},\"type\":\"scatter\"}],\"scatterternary\":[{\"marker\":{\"colorbar\":{\"outlinewidth\":0,\"ticks\":\"\"}},\"type\":\"scatterternary\"}],\"surface\":[{\"colorbar\":{\"outlinewidth\":0,\"ticks\":\"\"},\"colorscale\":[[0.0,\"#0d0887\"],[0.1111111111111111,\"#46039f\"],[0.2222222222222222,\"#7201a8\"],[0.3333333333333333,\"#9c179e\"],[0.4444444444444444,\"#bd3786\"],[0.5555555555555556,\"#d8576b\"],[0.6666666666666666,\"#ed7953\"],[0.7777777777777778,\"#fb9f3a\"],[0.8888888888888888,\"#fdca26\"],[1.0,\"#f0f921\"]],\"type\":\"surface\"}],\"table\":[{\"cells\":{\"fill\":{\"color\":\"#EBF0F8\"},\"line\":{\"color\":\"white\"}},\"header\":{\"fill\":{\"color\":\"#C8D4E3\"},\"line\":{\"color\":\"white\"}},\"type\":\"table\"}]},\"layout\":{\"annotationdefaults\":{\"arrowcolor\":\"#2a3f5f\",\"arrowhead\":0,\"arrowwidth\":1},\"autotypenumbers\":\"strict\",\"coloraxis\":{\"colorbar\":{\"outlinewidth\":0,\"ticks\":\"\"}},\"colorscale\":{\"diverging\":[[0,\"#8e0152\"],[0.1,\"#c51b7d\"],[0.2,\"#de77ae\"],[0.3,\"#f1b6da\"],[0.4,\"#fde0ef\"],[0.5,\"#f7f7f7\"],[0.6,\"#e6f5d0\"],[0.7,\"#b8e186\"],[0.8,\"#7fbc41\"],[0.9,\"#4d9221\"],[1,\"#276419\"]],\"sequential\":[[0.0,\"#0d0887\"],[0.1111111111111111,\"#46039f\"],[0.2222222222222222,\"#7201a8\"],[0.3333333333333333,\"#9c179e\"],[0.4444444444444444,\"#bd3786\"],[0.5555555555555556,\"#d8576b\"],[0.6666666666666666,\"#ed7953\"],[0.7777777777777778,\"#fb9f3a\"],[0.8888888888888888,\"#fdca26\"],[1.0,\"#f0f921\"]],\"sequentialminus\":[[0.0,\"#0d0887\"],[0.1111111111111111,\"#46039f\"],[0.2222222222222222,\"#7201a8\"],[0.3333333333333333,\"#9c179e\"],[0.4444444444444444,\"#bd3786\"],[0.5555555555555556,\"#d8576b\"],[0.6666666666666666,\"#ed7953\"],[0.7777777777777778,\"#fb9f3a\"],[0.8888888888888888,\"#fdca26\"],[1.0,\"#f0f921\"]]},\"colorway\":[\"#636efa\",\"#EF553B\",\"#00cc96\",\"#ab63fa\",\"#FFA15A\",\"#19d3f3\",\"#FF6692\",\"#B6E880\",\"#FF97FF\",\"#FECB52\"],\"font\":{\"color\":\"#2a3f5f\"},\"geo\":{\"bgcolor\":\"white\",\"lakecolor\":\"white\",\"landcolor\":\"#E5ECF6\",\"showlakes\":true,\"showland\":true,\"subunitcolor\":\"white\"},\"hoverlabel\":{\"align\":\"left\"},\"hovermode\":\"closest\",\"mapbox\":{\"style\":\"light\"},\"paper_bgcolor\":\"white\",\"plot_bgcolor\":\"#E5ECF6\",\"polar\":{\"angularaxis\":{\"gridcolor\":\"white\",\"linecolor\":\"white\",\"ticks\":\"\"},\"bgcolor\":\"#E5ECF6\",\"radialaxis\":{\"gridcolor\":\"white\",\"linecolor\":\"white\",\"ticks\":\"\"}},\"scene\":{\"xaxis\":{\"backgroundcolor\":\"#E5ECF6\",\"gridcolor\":\"white\",\"gridwidth\":2,\"linecolor\":\"white\",\"showbackground\":true,\"ticks\":\"\",\"zerolinecolor\":\"white\"},\"yaxis\":{\"backgroundcolor\":\"#E5ECF6\",\"gridcolor\":\"white\",\"gridwidth\":2,\"linecolor\":\"white\",\"showbackground\":true,\"ticks\":\"\",\"zerolinecolor\":\"white\"},\"zaxis\":{\"backgroundcolor\":\"#E5ECF6\",\"gridcolor\":\"white\",\"gridwidth\":2,\"linecolor\":\"white\",\"showbackground\":true,\"ticks\":\"\",\"zerolinecolor\":\"white\"}},\"shapedefaults\":{\"line\":{\"color\":\"#2a3f5f\"}},\"ternary\":{\"aaxis\":{\"gridcolor\":\"white\",\"linecolor\":\"white\",\"ticks\":\"\"},\"baxis\":{\"gridcolor\":\"white\",\"linecolor\":\"white\",\"ticks\":\"\"},\"bgcolor\":\"#E5ECF6\",\"caxis\":{\"gridcolor\":\"white\",\"linecolor\":\"white\",\"ticks\":\"\"}},\"title\":{\"x\":0.05},\"xaxis\":{\"automargin\":true,\"gridcolor\":\"white\",\"linecolor\":\"white\",\"ticks\":\"\",\"title\":{\"standoff\":15},\"zerolinecolor\":\"white\",\"zerolinewidth\":2},\"yaxis\":{\"automargin\":true,\"gridcolor\":\"white\",\"linecolor\":\"white\",\"ticks\":\"\",\"title\":{\"standoff\":15},\"zerolinecolor\":\"white\",\"zerolinewidth\":2}}},\"title\":{\"font\":{\"color\":\"#4D5663\"}},\"xaxis\":{\"gridcolor\":\"#E1E5ED\",\"showgrid\":true,\"tickfont\":{\"color\":\"#4D5663\"},\"title\":{\"font\":{\"color\":\"#4D5663\"},\"text\":\"\"},\"zerolinecolor\":\"#E1E5ED\"},\"yaxis\":{\"gridcolor\":\"#E1E5ED\",\"showgrid\":true,\"tickfont\":{\"color\":\"#4D5663\"},\"title\":{\"font\":{\"color\":\"#4D5663\"},\"text\":\"\"},\"zerolinecolor\":\"#E1E5ED\"}},                        {\"showLink\": true, \"linkText\": \"Export to plot.ly\", \"plotlyServerURL\": \"https://plot.ly\", \"responsive\": true}                    ).then(function(){\n",
       "                            \n",
       "var gd = document.getElementById('a8859136-8b34-4e69-916e-e439fd1b3532');\n",
       "var x = new MutationObserver(function (mutations, observer) {{\n",
       "        var display = window.getComputedStyle(gd).display;\n",
       "        if (!display || display === 'none') {{\n",
       "            console.log([gd, 'removed!']);\n",
       "            Plotly.purge(gd);\n",
       "            observer.disconnect();\n",
       "        }}\n",
       "}});\n",
       "\n",
       "// Listen for the removal of the full notebook cells\n",
       "var notebookContainer = gd.closest('#notebook-container');\n",
       "if (notebookContainer) {{\n",
       "    x.observe(notebookContainer, {childList: true});\n",
       "}}\n",
       "\n",
       "// Listen for the clearing of the current output cell\n",
       "var outputEl = gd.closest('.output');\n",
       "if (outputEl) {{\n",
       "    x.observe(outputEl, {childList: true});\n",
       "}}\n",
       "\n",
       "                        })                };                });            </script>        </div>"
      ]
     },
     "metadata": {},
     "output_type": "display_data"
    }
   ],
   "source": [
    "df.count().iplot(kind='bar')"
   ]
  },
  {
   "cell_type": "markdown",
   "metadata": {},
   "source": [
    "## Boxplots"
   ]
  },
  {
   "cell_type": "code",
   "execution_count": 23,
   "metadata": {
    "collapsed": false,
    "jupyter": {
     "outputs_hidden": false
    }
   },
   "outputs": [
    {
     "data": {
      "application/vnd.plotly.v1+json": {
       "config": {
        "linkText": "Export to plot.ly",
        "plotlyServerURL": "https://plot.ly",
        "showLink": true
       },
       "data": [
        {
         "boxpoints": false,
         "line": {
          "width": 1.3
         },
         "marker": {
          "color": "rgba(255, 153, 51, 1.0)"
         },
         "name": "A",
         "orientation": "v",
         "type": "box",
         "y": [
          0.8869849113392575,
          -0.6964773634974851,
          0.7003725094248957,
          0.6608084726687465,
          1.7706764057755022,
          1.593145735885654,
          0.4740756469149725,
          0.6780606999675864,
          0.18401197953819318,
          -0.7649917952568512,
          0.9253634363763844,
          1.1118549199592058,
          -0.8433181578725014,
          -0.23664150329130548,
          -1.0992404617482978,
          0.28527338968743443,
          0.17481982564549223,
          1.3951250129856623,
          0.03590745163901755,
          -0.9594211851175032,
          -1.7179801807066248,
          0.9610755330564402,
          -0.21363215634783528,
          0.8804182323614378,
          0.1905342501740758,
          -0.4753432693912597,
          -0.1570437094027896,
          -0.9272609181058024,
          0.17515176239940475,
          -0.11926693582553309,
          0.6329377787337424,
          -0.6960379586458401,
          0.8072366409662378,
          1.0573006596282648,
          0.5262146051999136,
          -1.037271742531441,
          0.871425023776492,
          0.6875642804316112,
          -0.3209806553607807,
          -0.01897505420084429,
          1.1234988077597399,
          1.232420058647342,
          -0.4814980044587215,
          -0.35992966279024435,
          -0.3504136026398206,
          -0.0264638521470713,
          1.9455975191069528,
          0.7397424830525191,
          -1.3988662235783076,
          -0.6533021042995357,
          -1.0098839390042138,
          0.05158988935672315,
          -0.8885088323550191,
          1.3090023593260731,
          -0.4921751166128579,
          1.2562814695609659,
          -0.944489215550293,
          -0.9047929765159812,
          -0.16005070797481277,
          -0.3518748309386049,
          -0.6012147657777107,
          0.4833247270826448,
          -0.7995893120513355,
          0.6224446543722254,
          -0.09063609686494375,
          0.2828186976151058,
          1.298079370651083,
          0.60323067089413,
          0.9939326715694906,
          1.4930838976436456,
          -0.4027665687300486,
          -0.2607266448729439,
          -1.2535961981729813,
          0.9218123335954357,
          1.312062175830314,
          -0.9316561504008531,
          -0.61598560161817,
          -0.25100143532399877,
          0.4566927248840788,
          -0.9159752831190259,
          0.7377046809517973,
          -1.1626764129405016,
          -0.889391245298526,
          -0.6858184717161875,
          -0.09402072749499414,
          0.12562747120961676,
          0.09883684431670127,
          0.1865993291130212,
          -2.105122581865517,
          -1.5402416903738123,
          1.5094402807854603,
          -0.9361748837890781,
          0.12672444198158989,
          -1.589658407398841,
          -0.9996902030723225,
          0.12222138560129037,
          1.037829126734841,
          -1.0237728938148212,
          0.8129908238728943,
          -1.1735680529795158
         ]
        },
        {
         "boxpoints": false,
         "line": {
          "width": 1.3
         },
         "marker": {
          "color": "rgba(55, 128, 191, 1.0)"
         },
         "name": "B",
         "orientation": "v",
         "type": "box",
         "y": [
          -0.8333485300834292,
          -1.2766677713856172,
          0.32889268999764587,
          -0.7228597241406125,
          -1.088055170641722,
          -0.26454960727060933,
          -1.088746135103376,
          1.307311404250032,
          0.08031675927464546,
          0.02757860090171118,
          0.6518221207539567,
          0.7276482533339022,
          -1.1158078994176668,
          -0.05851343762871096,
          -0.779070280511317,
          0.6555944432816424,
          0.3795977680725507,
          0.6047485425267529,
          -1.245835389444955,
          0.5118554482170173,
          0.4007446062617446,
          -0.9762413226379608,
          0.23963149916481855,
          -0.08182559589104474,
          0.28026876924154154,
          0.593917640305292,
          -1.9595673096812394,
          -1.06511056321929,
          0.9918697122537389,
          0.3043350394672878,
          -0.2265403931323341,
          2.192649137408791,
          0.9174930299413948,
          0.8686827682351795,
          -0.9492012311313425,
          1.9138497364086406,
          -1.021402262388293,
          0.15575335857348221,
          -0.6085703602891364,
          0.7370588517740067,
          -0.327086277798017,
          1.1799615116593871,
          -0.35685566036595373,
          -1.175460976239832,
          0.31255342310921275,
          0.9897473343815354,
          0.9198781183889619,
          -0.7474006092799659,
          -0.856587496221934,
          -0.785034997454377,
          -0.12235515802115861,
          -1.786434990061692,
          0.5481592699594763,
          -1.274980280267999,
          0.696836476541588,
          -1.370492271925774,
          2.06004470363456,
          2.0468933823727764,
          0.21084208697464552,
          -0.12258782808995522,
          0.6403637734278632,
          -1.311325626456603,
          1.503641044788058,
          -1.078001719112831,
          1.3989747726854669,
          -1.616107252848288,
          -0.9637366722446397,
          0.10514432242328021,
          -0.35714686741413504,
          1.306610500270275,
          1.0975979363582071,
          1.6273028114379513,
          0.0019938966806490165,
          0.369738032875827,
          0.6194225065626668,
          -0.6008423439289713,
          0.5994305624114238,
          0.1278850553222134,
          0.1993287048843189,
          -0.9900196451938488,
          -0.0030251013458408673,
          0.6231686049789226,
          0.05503581719741051,
          -0.08273659707165258,
          -0.2576366521809987,
          -0.30204557671675586,
          0.501843752794459,
          -0.08670464369271894,
          0.4723263552701553,
          0.5855339910336078,
          -1.557478447357505,
          1.169546362591803,
          1.8645090896560506,
          -0.08712959822128583,
          -1.1493323961227986,
          0.29210214535966844,
          0.6546376109394556,
          -0.6030391008507462,
          -0.5090505082959106,
          -1.0319222234727223
         ]
        },
        {
         "boxpoints": false,
         "line": {
          "width": 1.3
         },
         "marker": {
          "color": "rgba(50, 171, 96, 1.0)"
         },
         "name": "C",
         "orientation": "v",
         "type": "box",
         "y": [
          0.49322405126214947,
          0.5457600716443969,
          -0.42517835147861877,
          0.5745511255977691,
          1.7684737099934653,
          1.1907514543407776,
          -1.1060418086123995,
          -0.10012538251557579,
          0.27699957003768877,
          1.007495807088129,
          -1.252918666875961,
          2.318270158629934,
          -0.06728910105018798,
          1.654583566684126,
          1.148233312788604,
          -2.166818486226118,
          -2.8413326109406345,
          1.0338281332613426,
          -0.07633761686381346,
          -0.47184278336843244,
          -0.932511228454258,
          -0.11047489848371143,
          0.9614595767991201,
          0.754712284550973,
          0.12960506867193408,
          -1.666025463753459,
          -1.3255997436971705,
          0.7294701985664961,
          -1.4315793816431988,
          0.578199843033818,
          -0.7610094054926043,
          1.35599248727197,
          0.34616608661427445,
          -1.3096329061710563,
          -0.8797481210910884,
          0.37859645846032747,
          1.6970766354386277,
          -0.6618327113581314,
          0.7807784048236518,
          0.1778841944508108,
          0.39751840401696537,
          0.12398811610905923,
          1.4627812670640001,
          -0.17405092079614742,
          0.33090784965752895,
          -0.09268259705402866,
          -1.4943178764179594,
          0.6030433843066976,
          -0.9929821631304186,
          -1.2404369181492476,
          1.3996326136016746,
          -0.5358908297865966,
          0.9090192491449295,
          -0.7572264642866648,
          0.610378458910417,
          0.8836714610088213,
          -0.8022144972206394,
          -0.2690592174540479,
          -0.48223688070710247,
          -0.5073223031057444,
          0.9345858383266177,
          -3.1960464118659218,
          0.3596196111620243,
          -0.7891156122689769,
          -0.5369022071597999,
          0.913099153608634,
          0.8170324598206611,
          -0.8859877241879088,
          1.0355477169646596,
          -0.1086304860204677,
          -0.5123087821354901,
          2.09941591774087,
          -1.1564488215399584,
          0.8600159901705485,
          0.21051312102654496,
          1.4604330406588446,
          1.816635832794891,
          -0.7081424083881579,
          0.999425767418478,
          0.5361847088819287,
          -0.048321469429248066,
          -0.3493218467811937,
          0.8863312322056334,
          0.7725403728895929,
          -0.09718393494692423,
          0.38377814475875366,
          -0.9386339851183051,
          -0.33226935220362286,
          0.028407676359431405,
          1.482648301261031,
          -0.05965477409126021,
          -1.2717496469009433,
          -0.0494281997170523,
          0.1822432949232148,
          2.048681465799448,
          -0.37100561331300896,
          -0.7781379418352393,
          -0.7609175210768929,
          -0.2548516908977958,
          0.026192176729354477
         ]
        },
        {
         "boxpoints": false,
         "line": {
          "width": 1.3
         },
         "marker": {
          "color": "rgba(128, 0, 128, 1.0)"
         },
         "name": "D",
         "orientation": "v",
         "type": "box",
         "y": [
          -1.106588595253017,
          -1.7625259970631675,
          -0.28114898378892783,
          -1.8458032499016095,
          0.493990428336042,
          0.6915882234883003,
          -0.4181147376758479,
          1.9759592418227228,
          -0.4227437328973502,
          -0.7886324832124805,
          -0.2981985158557025,
          1.7863195588385747,
          0.7671438676226041,
          0.061163816143691964,
          1.068788065212692,
          0.9843506349446971,
          0.13379548199694222,
          1.9746605907731327,
          -0.7967190353984315,
          0.4419751393025786,
          0.8551529874622772,
          -0.48572752108699574,
          1.831487471210438,
          0.9033522467774028,
          -0.5884621961182047,
          0.9142641717150914,
          0.4360557228216116,
          0.07614701310123126,
          1.712911167595945,
          -1.0716019303204742,
          1.0605631546143397,
          -1.0310122645167352,
          1.4570388109825128,
          0.3721513111041933,
          0.3840859292887934,
          0.16692219940290637,
          -2.2682607764235128,
          0.6225888158694625,
          0.6015441989964391,
          0.4717372158894237,
          -0.02050580468473935,
          -1.2287436404299503,
          -0.2086821448422613,
          1.2490764699864383,
          1.728011850419966,
          1.1907730707343362,
          -0.019661123978005735,
          0.16576057162772515,
          0.39935894525127164,
          0.023873960189528656,
          1.8590120009018491,
          -0.2394313488667711,
          0.5363253572996315,
          -1.1029843258676288,
          1.170588938860763,
          -0.473752094474679,
          1.8021154540602147,
          -0.42521188603580434,
          0.37042104511974633,
          1.0692619530657717,
          -0.4090631633454856,
          -0.43424621515593187,
          -0.03456060882119637,
          0.7321767033056015,
          -1.2958583797579732,
          0.919562596878192,
          1.462368362357545,
          -0.8961900922615357,
          -1.0125652676931065,
          1.7067018125820816,
          -0.18334575181701857,
          -0.03938972840374754,
          0.7260607860479866,
          0.32955806515040015,
          -2.275663137360097,
          0.3216295542407838,
          -1.941900055198531,
          -1.2697864576400166,
          -0.27017250547389055,
          0.027607956226635918,
          -1.4916082080114075,
          0.008743448000394788,
          -1.1393957361692086,
          -0.018070644370657717,
          -0.40427606584351705,
          1.1048619376386135,
          0.9731369300885374,
          0.5848063916374624,
          -1.707256895343771,
          1.2825706302093165,
          3.376330126105509,
          -0.06884548617581909,
          -0.28501539631248346,
          -0.47857383620816546,
          0.30886230006894966,
          -1.1739837561907096,
          -0.027357805727334625,
          0.47270856057555993,
          -0.2533226844982376,
          -0.9553228727653434
         ]
        }
       ],
       "layout": {
        "autosize": true,
        "legend": {
         "bgcolor": "#F5F6F9",
         "font": {
          "color": "#4D5663"
         }
        },
        "paper_bgcolor": "#F5F6F9",
        "plot_bgcolor": "#F5F6F9",
        "template": {
         "data": {
          "bar": [
           {
            "error_x": {
             "color": "#2a3f5f"
            },
            "error_y": {
             "color": "#2a3f5f"
            },
            "marker": {
             "line": {
              "color": "#E5ECF6",
              "width": 0.5
             },
             "pattern": {
              "fillmode": "overlay",
              "size": 10,
              "solidity": 0.2
             }
            },
            "type": "bar"
           }
          ],
          "barpolar": [
           {
            "marker": {
             "line": {
              "color": "#E5ECF6",
              "width": 0.5
             },
             "pattern": {
              "fillmode": "overlay",
              "size": 10,
              "solidity": 0.2
             }
            },
            "type": "barpolar"
           }
          ],
          "carpet": [
           {
            "aaxis": {
             "endlinecolor": "#2a3f5f",
             "gridcolor": "white",
             "linecolor": "white",
             "minorgridcolor": "white",
             "startlinecolor": "#2a3f5f"
            },
            "baxis": {
             "endlinecolor": "#2a3f5f",
             "gridcolor": "white",
             "linecolor": "white",
             "minorgridcolor": "white",
             "startlinecolor": "#2a3f5f"
            },
            "type": "carpet"
           }
          ],
          "choropleth": [
           {
            "colorbar": {
             "outlinewidth": 0,
             "ticks": ""
            },
            "type": "choropleth"
           }
          ],
          "contour": [
           {
            "colorbar": {
             "outlinewidth": 0,
             "ticks": ""
            },
            "colorscale": [
             [
              0,
              "#0d0887"
             ],
             [
              0.1111111111111111,
              "#46039f"
             ],
             [
              0.2222222222222222,
              "#7201a8"
             ],
             [
              0.3333333333333333,
              "#9c179e"
             ],
             [
              0.4444444444444444,
              "#bd3786"
             ],
             [
              0.5555555555555556,
              "#d8576b"
             ],
             [
              0.6666666666666666,
              "#ed7953"
             ],
             [
              0.7777777777777778,
              "#fb9f3a"
             ],
             [
              0.8888888888888888,
              "#fdca26"
             ],
             [
              1,
              "#f0f921"
             ]
            ],
            "type": "contour"
           }
          ],
          "contourcarpet": [
           {
            "colorbar": {
             "outlinewidth": 0,
             "ticks": ""
            },
            "type": "contourcarpet"
           }
          ],
          "heatmap": [
           {
            "colorbar": {
             "outlinewidth": 0,
             "ticks": ""
            },
            "colorscale": [
             [
              0,
              "#0d0887"
             ],
             [
              0.1111111111111111,
              "#46039f"
             ],
             [
              0.2222222222222222,
              "#7201a8"
             ],
             [
              0.3333333333333333,
              "#9c179e"
             ],
             [
              0.4444444444444444,
              "#bd3786"
             ],
             [
              0.5555555555555556,
              "#d8576b"
             ],
             [
              0.6666666666666666,
              "#ed7953"
             ],
             [
              0.7777777777777778,
              "#fb9f3a"
             ],
             [
              0.8888888888888888,
              "#fdca26"
             ],
             [
              1,
              "#f0f921"
             ]
            ],
            "type": "heatmap"
           }
          ],
          "heatmapgl": [
           {
            "colorbar": {
             "outlinewidth": 0,
             "ticks": ""
            },
            "colorscale": [
             [
              0,
              "#0d0887"
             ],
             [
              0.1111111111111111,
              "#46039f"
             ],
             [
              0.2222222222222222,
              "#7201a8"
             ],
             [
              0.3333333333333333,
              "#9c179e"
             ],
             [
              0.4444444444444444,
              "#bd3786"
             ],
             [
              0.5555555555555556,
              "#d8576b"
             ],
             [
              0.6666666666666666,
              "#ed7953"
             ],
             [
              0.7777777777777778,
              "#fb9f3a"
             ],
             [
              0.8888888888888888,
              "#fdca26"
             ],
             [
              1,
              "#f0f921"
             ]
            ],
            "type": "heatmapgl"
           }
          ],
          "histogram": [
           {
            "marker": {
             "pattern": {
              "fillmode": "overlay",
              "size": 10,
              "solidity": 0.2
             }
            },
            "type": "histogram"
           }
          ],
          "histogram2d": [
           {
            "colorbar": {
             "outlinewidth": 0,
             "ticks": ""
            },
            "colorscale": [
             [
              0,
              "#0d0887"
             ],
             [
              0.1111111111111111,
              "#46039f"
             ],
             [
              0.2222222222222222,
              "#7201a8"
             ],
             [
              0.3333333333333333,
              "#9c179e"
             ],
             [
              0.4444444444444444,
              "#bd3786"
             ],
             [
              0.5555555555555556,
              "#d8576b"
             ],
             [
              0.6666666666666666,
              "#ed7953"
             ],
             [
              0.7777777777777778,
              "#fb9f3a"
             ],
             [
              0.8888888888888888,
              "#fdca26"
             ],
             [
              1,
              "#f0f921"
             ]
            ],
            "type": "histogram2d"
           }
          ],
          "histogram2dcontour": [
           {
            "colorbar": {
             "outlinewidth": 0,
             "ticks": ""
            },
            "colorscale": [
             [
              0,
              "#0d0887"
             ],
             [
              0.1111111111111111,
              "#46039f"
             ],
             [
              0.2222222222222222,
              "#7201a8"
             ],
             [
              0.3333333333333333,
              "#9c179e"
             ],
             [
              0.4444444444444444,
              "#bd3786"
             ],
             [
              0.5555555555555556,
              "#d8576b"
             ],
             [
              0.6666666666666666,
              "#ed7953"
             ],
             [
              0.7777777777777778,
              "#fb9f3a"
             ],
             [
              0.8888888888888888,
              "#fdca26"
             ],
             [
              1,
              "#f0f921"
             ]
            ],
            "type": "histogram2dcontour"
           }
          ],
          "mesh3d": [
           {
            "colorbar": {
             "outlinewidth": 0,
             "ticks": ""
            },
            "type": "mesh3d"
           }
          ],
          "parcoords": [
           {
            "line": {
             "colorbar": {
              "outlinewidth": 0,
              "ticks": ""
             }
            },
            "type": "parcoords"
           }
          ],
          "pie": [
           {
            "automargin": true,
            "type": "pie"
           }
          ],
          "scatter": [
           {
            "marker": {
             "colorbar": {
              "outlinewidth": 0,
              "ticks": ""
             }
            },
            "type": "scatter"
           }
          ],
          "scatter3d": [
           {
            "line": {
             "colorbar": {
              "outlinewidth": 0,
              "ticks": ""
             }
            },
            "marker": {
             "colorbar": {
              "outlinewidth": 0,
              "ticks": ""
             }
            },
            "type": "scatter3d"
           }
          ],
          "scattercarpet": [
           {
            "marker": {
             "colorbar": {
              "outlinewidth": 0,
              "ticks": ""
             }
            },
            "type": "scattercarpet"
           }
          ],
          "scattergeo": [
           {
            "marker": {
             "colorbar": {
              "outlinewidth": 0,
              "ticks": ""
             }
            },
            "type": "scattergeo"
           }
          ],
          "scattergl": [
           {
            "marker": {
             "colorbar": {
              "outlinewidth": 0,
              "ticks": ""
             }
            },
            "type": "scattergl"
           }
          ],
          "scattermapbox": [
           {
            "marker": {
             "colorbar": {
              "outlinewidth": 0,
              "ticks": ""
             }
            },
            "type": "scattermapbox"
           }
          ],
          "scatterpolar": [
           {
            "marker": {
             "colorbar": {
              "outlinewidth": 0,
              "ticks": ""
             }
            },
            "type": "scatterpolar"
           }
          ],
          "scatterpolargl": [
           {
            "marker": {
             "colorbar": {
              "outlinewidth": 0,
              "ticks": ""
             }
            },
            "type": "scatterpolargl"
           }
          ],
          "scatterternary": [
           {
            "marker": {
             "colorbar": {
              "outlinewidth": 0,
              "ticks": ""
             }
            },
            "type": "scatterternary"
           }
          ],
          "surface": [
           {
            "colorbar": {
             "outlinewidth": 0,
             "ticks": ""
            },
            "colorscale": [
             [
              0,
              "#0d0887"
             ],
             [
              0.1111111111111111,
              "#46039f"
             ],
             [
              0.2222222222222222,
              "#7201a8"
             ],
             [
              0.3333333333333333,
              "#9c179e"
             ],
             [
              0.4444444444444444,
              "#bd3786"
             ],
             [
              0.5555555555555556,
              "#d8576b"
             ],
             [
              0.6666666666666666,
              "#ed7953"
             ],
             [
              0.7777777777777778,
              "#fb9f3a"
             ],
             [
              0.8888888888888888,
              "#fdca26"
             ],
             [
              1,
              "#f0f921"
             ]
            ],
            "type": "surface"
           }
          ],
          "table": [
           {
            "cells": {
             "fill": {
              "color": "#EBF0F8"
             },
             "line": {
              "color": "white"
             }
            },
            "header": {
             "fill": {
              "color": "#C8D4E3"
             },
             "line": {
              "color": "white"
             }
            },
            "type": "table"
           }
          ]
         },
         "layout": {
          "annotationdefaults": {
           "arrowcolor": "#2a3f5f",
           "arrowhead": 0,
           "arrowwidth": 1
          },
          "autotypenumbers": "strict",
          "coloraxis": {
           "colorbar": {
            "outlinewidth": 0,
            "ticks": ""
           }
          },
          "colorscale": {
           "diverging": [
            [
             0,
             "#8e0152"
            ],
            [
             0.1,
             "#c51b7d"
            ],
            [
             0.2,
             "#de77ae"
            ],
            [
             0.3,
             "#f1b6da"
            ],
            [
             0.4,
             "#fde0ef"
            ],
            [
             0.5,
             "#f7f7f7"
            ],
            [
             0.6,
             "#e6f5d0"
            ],
            [
             0.7,
             "#b8e186"
            ],
            [
             0.8,
             "#7fbc41"
            ],
            [
             0.9,
             "#4d9221"
            ],
            [
             1,
             "#276419"
            ]
           ],
           "sequential": [
            [
             0,
             "#0d0887"
            ],
            [
             0.1111111111111111,
             "#46039f"
            ],
            [
             0.2222222222222222,
             "#7201a8"
            ],
            [
             0.3333333333333333,
             "#9c179e"
            ],
            [
             0.4444444444444444,
             "#bd3786"
            ],
            [
             0.5555555555555556,
             "#d8576b"
            ],
            [
             0.6666666666666666,
             "#ed7953"
            ],
            [
             0.7777777777777778,
             "#fb9f3a"
            ],
            [
             0.8888888888888888,
             "#fdca26"
            ],
            [
             1,
             "#f0f921"
            ]
           ],
           "sequentialminus": [
            [
             0,
             "#0d0887"
            ],
            [
             0.1111111111111111,
             "#46039f"
            ],
            [
             0.2222222222222222,
             "#7201a8"
            ],
            [
             0.3333333333333333,
             "#9c179e"
            ],
            [
             0.4444444444444444,
             "#bd3786"
            ],
            [
             0.5555555555555556,
             "#d8576b"
            ],
            [
             0.6666666666666666,
             "#ed7953"
            ],
            [
             0.7777777777777778,
             "#fb9f3a"
            ],
            [
             0.8888888888888888,
             "#fdca26"
            ],
            [
             1,
             "#f0f921"
            ]
           ]
          },
          "colorway": [
           "#636efa",
           "#EF553B",
           "#00cc96",
           "#ab63fa",
           "#FFA15A",
           "#19d3f3",
           "#FF6692",
           "#B6E880",
           "#FF97FF",
           "#FECB52"
          ],
          "font": {
           "color": "#2a3f5f"
          },
          "geo": {
           "bgcolor": "white",
           "lakecolor": "white",
           "landcolor": "#E5ECF6",
           "showlakes": true,
           "showland": true,
           "subunitcolor": "white"
          },
          "hoverlabel": {
           "align": "left"
          },
          "hovermode": "closest",
          "mapbox": {
           "style": "light"
          },
          "paper_bgcolor": "white",
          "plot_bgcolor": "#E5ECF6",
          "polar": {
           "angularaxis": {
            "gridcolor": "white",
            "linecolor": "white",
            "ticks": ""
           },
           "bgcolor": "#E5ECF6",
           "radialaxis": {
            "gridcolor": "white",
            "linecolor": "white",
            "ticks": ""
           }
          },
          "scene": {
           "xaxis": {
            "backgroundcolor": "#E5ECF6",
            "gridcolor": "white",
            "gridwidth": 2,
            "linecolor": "white",
            "showbackground": true,
            "ticks": "",
            "zerolinecolor": "white"
           },
           "yaxis": {
            "backgroundcolor": "#E5ECF6",
            "gridcolor": "white",
            "gridwidth": 2,
            "linecolor": "white",
            "showbackground": true,
            "ticks": "",
            "zerolinecolor": "white"
           },
           "zaxis": {
            "backgroundcolor": "#E5ECF6",
            "gridcolor": "white",
            "gridwidth": 2,
            "linecolor": "white",
            "showbackground": true,
            "ticks": "",
            "zerolinecolor": "white"
           }
          },
          "shapedefaults": {
           "line": {
            "color": "#2a3f5f"
           }
          },
          "ternary": {
           "aaxis": {
            "gridcolor": "white",
            "linecolor": "white",
            "ticks": ""
           },
           "baxis": {
            "gridcolor": "white",
            "linecolor": "white",
            "ticks": ""
           },
           "bgcolor": "#E5ECF6",
           "caxis": {
            "gridcolor": "white",
            "linecolor": "white",
            "ticks": ""
           }
          },
          "title": {
           "x": 0.05
          },
          "xaxis": {
           "automargin": true,
           "gridcolor": "white",
           "linecolor": "white",
           "ticks": "",
           "title": {
            "standoff": 15
           },
           "zerolinecolor": "white",
           "zerolinewidth": 2
          },
          "yaxis": {
           "automargin": true,
           "gridcolor": "white",
           "linecolor": "white",
           "ticks": "",
           "title": {
            "standoff": 15
           },
           "zerolinecolor": "white",
           "zerolinewidth": 2
          }
         }
        },
        "title": {
         "font": {
          "color": "#4D5663"
         }
        },
        "xaxis": {
         "autorange": true,
         "gridcolor": "#E1E5ED",
         "range": [
          -0.5,
          3.5
         ],
         "showgrid": true,
         "tickfont": {
          "color": "#4D5663"
         },
         "title": {
          "font": {
           "color": "#4D5663"
          },
          "text": ""
         },
         "type": "category",
         "zerolinecolor": "#E1E5ED"
        },
        "yaxis": {
         "autorange": true,
         "gridcolor": "#E1E5ED",
         "range": [
          -3.5611784417532233,
          3.7414621559928105
         ],
         "showgrid": true,
         "tickfont": {
          "color": "#4D5663"
         },
         "title": {
          "font": {
           "color": "#4D5663"
          },
          "text": ""
         },
         "type": "linear",
         "zerolinecolor": "#E1E5ED"
        }
       }
      },
      "image/png": "[encoded data removed]",
      "text/html": [
       "<div>                            <div id=\"5c6ae759-1a90-4785-915f-aa1123083ccc\" class=\"plotly-graph-div\" style=\"height:525px; width:100%;\"></div>            <script type=\"text/javascript\">                require([\"plotly\"], function(Plotly) {                    window.PLOTLYENV=window.PLOTLYENV || {};\n",
       "                    window.PLOTLYENV.BASE_URL='https://plot.ly';                                    if (document.getElementById(\"5c6ae759-1a90-4785-915f-aa1123083ccc\")) {                    Plotly.newPlot(                        \"5c6ae759-1a90-4785-915f-aa1123083ccc\",                        [{\"boxpoints\":false,\"line\":{\"width\":1.3},\"marker\":{\"color\":\"rgba(255, 153, 51, 1.0)\"},\"name\":\"A\",\"orientation\":\"v\",\"y\":[0.8869849113392575,-0.6964773634974851,0.7003725094248957,0.6608084726687465,1.7706764057755022,1.593145735885654,0.4740756469149725,0.6780606999675864,0.18401197953819318,-0.7649917952568512,0.9253634363763844,1.1118549199592058,-0.8433181578725014,-0.23664150329130548,-1.0992404617482978,0.28527338968743443,0.17481982564549223,1.3951250129856623,0.03590745163901755,-0.9594211851175032,-1.7179801807066248,0.9610755330564402,-0.21363215634783528,0.8804182323614378,0.1905342501740758,-0.4753432693912597,-0.1570437094027896,-0.9272609181058024,0.17515176239940475,-0.11926693582553309,0.6329377787337424,-0.6960379586458401,0.8072366409662378,1.0573006596282648,0.5262146051999136,-1.037271742531441,0.871425023776492,0.6875642804316112,-0.3209806553607807,-0.01897505420084429,1.1234988077597399,1.232420058647342,-0.4814980044587215,-0.35992966279024435,-0.3504136026398206,-0.0264638521470713,1.9455975191069528,0.7397424830525191,-1.3988662235783076,-0.6533021042995357,-1.0098839390042138,0.05158988935672315,-0.8885088323550191,1.3090023593260731,-0.4921751166128579,1.2562814695609659,-0.944489215550293,-0.9047929765159812,-0.16005070797481277,-0.3518748309386049,-0.6012147657777107,0.4833247270826448,-0.7995893120513355,0.6224446543722254,-0.09063609686494375,0.2828186976151058,1.298079370651083,0.60323067089413,0.9939326715694906,1.4930838976436456,-0.4027665687300486,-0.2607266448729439,-1.2535961981729813,0.9218123335954357,1.312062175830314,-0.9316561504008531,-0.61598560161817,-0.25100143532399877,0.4566927248840788,-0.9159752831190259,0.7377046809517973,-1.1626764129405016,-0.889391245298526,-0.6858184717161875,-0.09402072749499414,0.12562747120961676,0.09883684431670127,0.1865993291130212,-2.105122581865517,-1.5402416903738123,1.5094402807854603,-0.9361748837890781,0.12672444198158989,-1.589658407398841,-0.9996902030723225,0.12222138560129037,1.037829126734841,-1.0237728938148212,0.8129908238728943,-1.1735680529795158],\"type\":\"box\"},{\"boxpoints\":false,\"line\":{\"width\":1.3},\"marker\":{\"color\":\"rgba(55, 128, 191, 1.0)\"},\"name\":\"B\",\"orientation\":\"v\",\"y\":[-0.8333485300834292,-1.2766677713856172,0.32889268999764587,-0.7228597241406125,-1.088055170641722,-0.26454960727060933,-1.088746135103376,1.307311404250032,0.08031675927464546,0.02757860090171118,0.6518221207539567,0.7276482533339022,-1.1158078994176668,-0.05851343762871096,-0.779070280511317,0.6555944432816424,0.3795977680725507,0.6047485425267529,-1.245835389444955,0.5118554482170173,0.4007446062617446,-0.9762413226379608,0.23963149916481855,-0.08182559589104474,0.28026876924154154,0.593917640305292,-1.9595673096812394,-1.06511056321929,0.9918697122537389,0.3043350394672878,-0.2265403931323341,2.192649137408791,0.9174930299413948,0.8686827682351795,-0.9492012311313425,1.9138497364086406,-1.021402262388293,0.15575335857348221,-0.6085703602891364,0.7370588517740067,-0.327086277798017,1.1799615116593871,-0.35685566036595373,-1.175460976239832,0.31255342310921275,0.9897473343815354,0.9198781183889619,-0.7474006092799659,-0.856587496221934,-0.785034997454377,-0.12235515802115861,-1.786434990061692,0.5481592699594763,-1.274980280267999,0.696836476541588,-1.370492271925774,2.06004470363456,2.0468933823727764,0.21084208697464552,-0.12258782808995522,0.6403637734278632,-1.311325626456603,1.503641044788058,-1.078001719112831,1.3989747726854669,-1.616107252848288,-0.9637366722446397,0.10514432242328021,-0.35714686741413504,1.306610500270275,1.0975979363582071,1.6273028114379513,0.0019938966806490165,0.369738032875827,0.6194225065626668,-0.6008423439289713,0.5994305624114238,0.1278850553222134,0.1993287048843189,-0.9900196451938488,-0.0030251013458408673,0.6231686049789226,0.05503581719741051,-0.08273659707165258,-0.2576366521809987,-0.30204557671675586,0.501843752794459,-0.08670464369271894,0.4723263552701553,0.5855339910336078,-1.557478447357505,1.169546362591803,1.8645090896560506,-0.08712959822128583,-1.1493323961227986,0.29210214535966844,0.6546376109394556,-0.6030391008507462,-0.5090505082959106,-1.0319222234727223],\"type\":\"box\"},{\"boxpoints\":false,\"line\":{\"width\":1.3},\"marker\":{\"color\":\"rgba(50, 171, 96, 1.0)\"},\"name\":\"C\",\"orientation\":\"v\",\"y\":[0.49322405126214947,0.5457600716443969,-0.42517835147861877,0.5745511255977691,1.7684737099934653,1.1907514543407776,-1.1060418086123995,-0.10012538251557579,0.27699957003768877,1.007495807088129,-1.252918666875961,2.318270158629934,-0.06728910105018798,1.654583566684126,1.148233312788604,-2.166818486226118,-2.8413326109406345,1.0338281332613426,-0.07633761686381346,-0.47184278336843244,-0.932511228454258,-0.11047489848371143,0.9614595767991201,0.754712284550973,0.12960506867193408,-1.666025463753459,-1.3255997436971705,0.7294701985664961,-1.4315793816431988,0.578199843033818,-0.7610094054926043,1.35599248727197,0.34616608661427445,-1.3096329061710563,-0.8797481210910884,0.37859645846032747,1.6970766354386277,-0.6618327113581314,0.7807784048236518,0.1778841944508108,0.39751840401696537,0.12398811610905923,1.4627812670640001,-0.17405092079614742,0.33090784965752895,-0.09268259705402866,-1.4943178764179594,0.6030433843066976,-0.9929821631304186,-1.2404369181492476,1.3996326136016746,-0.5358908297865966,0.9090192491449295,-0.7572264642866648,0.610378458910417,0.8836714610088213,-0.8022144972206394,-0.2690592174540479,-0.48223688070710247,-0.5073223031057444,0.9345858383266177,-3.1960464118659218,0.3596196111620243,-0.7891156122689769,-0.5369022071597999,0.913099153608634,0.8170324598206611,-0.8859877241879088,1.0355477169646596,-0.1086304860204677,-0.5123087821354901,2.09941591774087,-1.1564488215399584,0.8600159901705485,0.21051312102654496,1.4604330406588446,1.816635832794891,-0.7081424083881579,0.999425767418478,0.5361847088819287,-0.048321469429248066,-0.3493218467811937,0.8863312322056334,0.7725403728895929,-0.09718393494692423,0.38377814475875366,-0.9386339851183051,-0.33226935220362286,0.028407676359431405,1.482648301261031,-0.05965477409126021,-1.2717496469009433,-0.0494281997170523,0.1822432949232148,2.048681465799448,-0.37100561331300896,-0.7781379418352393,-0.7609175210768929,-0.2548516908977958,0.026192176729354477],\"type\":\"box\"},{\"boxpoints\":false,\"line\":{\"width\":1.3},\"marker\":{\"color\":\"rgba(128, 0, 128, 1.0)\"},\"name\":\"D\",\"orientation\":\"v\",\"y\":[-1.106588595253017,-1.7625259970631675,-0.28114898378892783,-1.8458032499016095,0.493990428336042,0.6915882234883003,-0.4181147376758479,1.9759592418227228,-0.4227437328973502,-0.7886324832124805,-0.2981985158557025,1.7863195588385747,0.7671438676226041,0.061163816143691964,1.068788065212692,0.9843506349446971,0.13379548199694222,1.9746605907731327,-0.7967190353984315,0.4419751393025786,0.8551529874622772,-0.48572752108699574,1.831487471210438,0.9033522467774028,-0.5884621961182047,0.9142641717150914,0.4360557228216116,0.07614701310123126,1.712911167595945,-1.0716019303204742,1.0605631546143397,-1.0310122645167352,1.4570388109825128,0.3721513111041933,0.3840859292887934,0.16692219940290637,-2.2682607764235128,0.6225888158694625,0.6015441989964391,0.4717372158894237,-0.02050580468473935,-1.2287436404299503,-0.2086821448422613,1.2490764699864383,1.728011850419966,1.1907730707343362,-0.019661123978005735,0.16576057162772515,0.39935894525127164,0.023873960189528656,1.8590120009018491,-0.2394313488667711,0.5363253572996315,-1.1029843258676288,1.170588938860763,-0.473752094474679,1.8021154540602147,-0.42521188603580434,0.37042104511974633,1.0692619530657717,-0.4090631633454856,-0.43424621515593187,-0.03456060882119637,0.7321767033056015,-1.2958583797579732,0.919562596878192,1.462368362357545,-0.8961900922615357,-1.0125652676931065,1.7067018125820816,-0.18334575181701857,-0.03938972840374754,0.7260607860479866,0.32955806515040015,-2.275663137360097,0.3216295542407838,-1.941900055198531,-1.2697864576400166,-0.27017250547389055,0.027607956226635918,-1.4916082080114075,0.008743448000394788,-1.1393957361692086,-0.018070644370657717,-0.40427606584351705,1.1048619376386135,0.9731369300885374,0.5848063916374624,-1.707256895343771,1.2825706302093165,3.376330126105509,-0.06884548617581909,-0.28501539631248346,-0.47857383620816546,0.30886230006894966,-1.1739837561907096,-0.027357805727334625,0.47270856057555993,-0.2533226844982376,-0.9553228727653434],\"type\":\"box\"}],                        {\"legend\":{\"bgcolor\":\"#F5F6F9\",\"font\":{\"color\":\"#4D5663\"}},\"paper_bgcolor\":\"#F5F6F9\",\"plot_bgcolor\":\"#F5F6F9\",\"template\":{\"data\":{\"barpolar\":[{\"marker\":{\"line\":{\"color\":\"#E5ECF6\",\"width\":0.5},\"pattern\":{\"fillmode\":\"overlay\",\"size\":10,\"solidity\":0.2}},\"type\":\"barpolar\"}],\"bar\":[{\"error_x\":{\"color\":\"#2a3f5f\"},\"error_y\":{\"color\":\"#2a3f5f\"},\"marker\":{\"line\":{\"color\":\"#E5ECF6\",\"width\":0.5},\"pattern\":{\"fillmode\":\"overlay\",\"size\":10,\"solidity\":0.2}},\"type\":\"bar\"}],\"carpet\":[{\"aaxis\":{\"endlinecolor\":\"#2a3f5f\",\"gridcolor\":\"white\",\"linecolor\":\"white\",\"minorgridcolor\":\"white\",\"startlinecolor\":\"#2a3f5f\"},\"baxis\":{\"endlinecolor\":\"#2a3f5f\",\"gridcolor\":\"white\",\"linecolor\":\"white\",\"minorgridcolor\":\"white\",\"startlinecolor\":\"#2a3f5f\"},\"type\":\"carpet\"}],\"choropleth\":[{\"colorbar\":{\"outlinewidth\":0,\"ticks\":\"\"},\"type\":\"choropleth\"}],\"contourcarpet\":[{\"colorbar\":{\"outlinewidth\":0,\"ticks\":\"\"},\"type\":\"contourcarpet\"}],\"contour\":[{\"colorbar\":{\"outlinewidth\":0,\"ticks\":\"\"},\"colorscale\":[[0.0,\"#0d0887\"],[0.1111111111111111,\"#46039f\"],[0.2222222222222222,\"#7201a8\"],[0.3333333333333333,\"#9c179e\"],[0.4444444444444444,\"#bd3786\"],[0.5555555555555556,\"#d8576b\"],[0.6666666666666666,\"#ed7953\"],[0.7777777777777778,\"#fb9f3a\"],[0.8888888888888888,\"#fdca26\"],[1.0,\"#f0f921\"]],\"type\":\"contour\"}],\"heatmapgl\":[{\"colorbar\":{\"outlinewidth\":0,\"ticks\":\"\"},\"colorscale\":[[0.0,\"#0d0887\"],[0.1111111111111111,\"#46039f\"],[0.2222222222222222,\"#7201a8\"],[0.3333333333333333,\"#9c179e\"],[0.4444444444444444,\"#bd3786\"],[0.5555555555555556,\"#d8576b\"],[0.6666666666666666,\"#ed7953\"],[0.7777777777777778,\"#fb9f3a\"],[0.8888888888888888,\"#fdca26\"],[1.0,\"#f0f921\"]],\"type\":\"heatmapgl\"}],\"heatmap\":[{\"colorbar\":{\"outlinewidth\":0,\"ticks\":\"\"},\"colorscale\":[[0.0,\"#0d0887\"],[0.1111111111111111,\"#46039f\"],[0.2222222222222222,\"#7201a8\"],[0.3333333333333333,\"#9c179e\"],[0.4444444444444444,\"#bd3786\"],[0.5555555555555556,\"#d8576b\"],[0.6666666666666666,\"#ed7953\"],[0.7777777777777778,\"#fb9f3a\"],[0.8888888888888888,\"#fdca26\"],[1.0,\"#f0f921\"]],\"type\":\"heatmap\"}],\"histogram2dcontour\":[{\"colorbar\":{\"outlinewidth\":0,\"ticks\":\"\"},\"colorscale\":[[0.0,\"#0d0887\"],[0.1111111111111111,\"#46039f\"],[0.2222222222222222,\"#7201a8\"],[0.3333333333333333,\"#9c179e\"],[0.4444444444444444,\"#bd3786\"],[0.5555555555555556,\"#d8576b\"],[0.6666666666666666,\"#ed7953\"],[0.7777777777777778,\"#fb9f3a\"],[0.8888888888888888,\"#fdca26\"],[1.0,\"#f0f921\"]],\"type\":\"histogram2dcontour\"}],\"histogram2d\":[{\"colorbar\":{\"outlinewidth\":0,\"ticks\":\"\"},\"colorscale\":[[0.0,\"#0d0887\"],[0.1111111111111111,\"#46039f\"],[0.2222222222222222,\"#7201a8\"],[0.3333333333333333,\"#9c179e\"],[0.4444444444444444,\"#bd3786\"],[0.5555555555555556,\"#d8576b\"],[0.6666666666666666,\"#ed7953\"],[0.7777777777777778,\"#fb9f3a\"],[0.8888888888888888,\"#fdca26\"],[1.0,\"#f0f921\"]],\"type\":\"histogram2d\"}],\"histogram\":[{\"marker\":{\"pattern\":{\"fillmode\":\"overlay\",\"size\":10,\"solidity\":0.2}},\"type\":\"histogram\"}],\"mesh3d\":[{\"colorbar\":{\"outlinewidth\":0,\"ticks\":\"\"},\"type\":\"mesh3d\"}],\"parcoords\":[{\"line\":{\"colorbar\":{\"outlinewidth\":0,\"ticks\":\"\"}},\"type\":\"parcoords\"}],\"pie\":[{\"automargin\":true,\"type\":\"pie\"}],\"scatter3d\":[{\"line\":{\"colorbar\":{\"outlinewidth\":0,\"ticks\":\"\"}},\"marker\":{\"colorbar\":{\"outlinewidth\":0,\"ticks\":\"\"}},\"type\":\"scatter3d\"}],\"scattercarpet\":[{\"marker\":{\"colorbar\":{\"outlinewidth\":0,\"ticks\":\"\"}},\"type\":\"scattercarpet\"}],\"scattergeo\":[{\"marker\":{\"colorbar\":{\"outlinewidth\":0,\"ticks\":\"\"}},\"type\":\"scattergeo\"}],\"scattergl\":[{\"marker\":{\"colorbar\":{\"outlinewidth\":0,\"ticks\":\"\"}},\"type\":\"scattergl\"}],\"scattermapbox\":[{\"marker\":{\"colorbar\":{\"outlinewidth\":0,\"ticks\":\"\"}},\"type\":\"scattermapbox\"}],\"scatterpolargl\":[{\"marker\":{\"colorbar\":{\"outlinewidth\":0,\"ticks\":\"\"}},\"type\":\"scatterpolargl\"}],\"scatterpolar\":[{\"marker\":{\"colorbar\":{\"outlinewidth\":0,\"ticks\":\"\"}},\"type\":\"scatterpolar\"}],\"scatter\":[{\"marker\":{\"colorbar\":{\"outlinewidth\":0,\"ticks\":\"\"}},\"type\":\"scatter\"}],\"scatterternary\":[{\"marker\":{\"colorbar\":{\"outlinewidth\":0,\"ticks\":\"\"}},\"type\":\"scatterternary\"}],\"surface\":[{\"colorbar\":{\"outlinewidth\":0,\"ticks\":\"\"},\"colorscale\":[[0.0,\"#0d0887\"],[0.1111111111111111,\"#46039f\"],[0.2222222222222222,\"#7201a8\"],[0.3333333333333333,\"#9c179e\"],[0.4444444444444444,\"#bd3786\"],[0.5555555555555556,\"#d8576b\"],[0.6666666666666666,\"#ed7953\"],[0.7777777777777778,\"#fb9f3a\"],[0.8888888888888888,\"#fdca26\"],[1.0,\"#f0f921\"]],\"type\":\"surface\"}],\"table\":[{\"cells\":{\"fill\":{\"color\":\"#EBF0F8\"},\"line\":{\"color\":\"white\"}},\"header\":{\"fill\":{\"color\":\"#C8D4E3\"},\"line\":{\"color\":\"white\"}},\"type\":\"table\"}]},\"layout\":{\"annotationdefaults\":{\"arrowcolor\":\"#2a3f5f\",\"arrowhead\":0,\"arrowwidth\":1},\"autotypenumbers\":\"strict\",\"coloraxis\":{\"colorbar\":{\"outlinewidth\":0,\"ticks\":\"\"}},\"colorscale\":{\"diverging\":[[0,\"#8e0152\"],[0.1,\"#c51b7d\"],[0.2,\"#de77ae\"],[0.3,\"#f1b6da\"],[0.4,\"#fde0ef\"],[0.5,\"#f7f7f7\"],[0.6,\"#e6f5d0\"],[0.7,\"#b8e186\"],[0.8,\"#7fbc41\"],[0.9,\"#4d9221\"],[1,\"#276419\"]],\"sequential\":[[0.0,\"#0d0887\"],[0.1111111111111111,\"#46039f\"],[0.2222222222222222,\"#7201a8\"],[0.3333333333333333,\"#9c179e\"],[0.4444444444444444,\"#bd3786\"],[0.5555555555555556,\"#d8576b\"],[0.6666666666666666,\"#ed7953\"],[0.7777777777777778,\"#fb9f3a\"],[0.8888888888888888,\"#fdca26\"],[1.0,\"#f0f921\"]],\"sequentialminus\":[[0.0,\"#0d0887\"],[0.1111111111111111,\"#46039f\"],[0.2222222222222222,\"#7201a8\"],[0.3333333333333333,\"#9c179e\"],[0.4444444444444444,\"#bd3786\"],[0.5555555555555556,\"#d8576b\"],[0.6666666666666666,\"#ed7953\"],[0.7777777777777778,\"#fb9f3a\"],[0.8888888888888888,\"#fdca26\"],[1.0,\"#f0f921\"]]},\"colorway\":[\"#636efa\",\"#EF553B\",\"#00cc96\",\"#ab63fa\",\"#FFA15A\",\"#19d3f3\",\"#FF6692\",\"#B6E880\",\"#FF97FF\",\"#FECB52\"],\"font\":{\"color\":\"#2a3f5f\"},\"geo\":{\"bgcolor\":\"white\",\"lakecolor\":\"white\",\"landcolor\":\"#E5ECF6\",\"showlakes\":true,\"showland\":true,\"subunitcolor\":\"white\"},\"hoverlabel\":{\"align\":\"left\"},\"hovermode\":\"closest\",\"mapbox\":{\"style\":\"light\"},\"paper_bgcolor\":\"white\",\"plot_bgcolor\":\"#E5ECF6\",\"polar\":{\"angularaxis\":{\"gridcolor\":\"white\",\"linecolor\":\"white\",\"ticks\":\"\"},\"bgcolor\":\"#E5ECF6\",\"radialaxis\":{\"gridcolor\":\"white\",\"linecolor\":\"white\",\"ticks\":\"\"}},\"scene\":{\"xaxis\":{\"backgroundcolor\":\"#E5ECF6\",\"gridcolor\":\"white\",\"gridwidth\":2,\"linecolor\":\"white\",\"showbackground\":true,\"ticks\":\"\",\"zerolinecolor\":\"white\"},\"yaxis\":{\"backgroundcolor\":\"#E5ECF6\",\"gridcolor\":\"white\",\"gridwidth\":2,\"linecolor\":\"white\",\"showbackground\":true,\"ticks\":\"\",\"zerolinecolor\":\"white\"},\"zaxis\":{\"backgroundcolor\":\"#E5ECF6\",\"gridcolor\":\"white\",\"gridwidth\":2,\"linecolor\":\"white\",\"showbackground\":true,\"ticks\":\"\",\"zerolinecolor\":\"white\"}},\"shapedefaults\":{\"line\":{\"color\":\"#2a3f5f\"}},\"ternary\":{\"aaxis\":{\"gridcolor\":\"white\",\"linecolor\":\"white\",\"ticks\":\"\"},\"baxis\":{\"gridcolor\":\"white\",\"linecolor\":\"white\",\"ticks\":\"\"},\"bgcolor\":\"#E5ECF6\",\"caxis\":{\"gridcolor\":\"white\",\"linecolor\":\"white\",\"ticks\":\"\"}},\"title\":{\"x\":0.05},\"xaxis\":{\"automargin\":true,\"gridcolor\":\"white\",\"linecolor\":\"white\",\"ticks\":\"\",\"title\":{\"standoff\":15},\"zerolinecolor\":\"white\",\"zerolinewidth\":2},\"yaxis\":{\"automargin\":true,\"gridcolor\":\"white\",\"linecolor\":\"white\",\"ticks\":\"\",\"title\":{\"standoff\":15},\"zerolinecolor\":\"white\",\"zerolinewidth\":2}}},\"title\":{\"font\":{\"color\":\"#4D5663\"}},\"xaxis\":{\"gridcolor\":\"#E1E5ED\",\"showgrid\":true,\"tickfont\":{\"color\":\"#4D5663\"},\"title\":{\"font\":{\"color\":\"#4D5663\"},\"text\":\"\"},\"zerolinecolor\":\"#E1E5ED\"},\"yaxis\":{\"gridcolor\":\"#E1E5ED\",\"showgrid\":true,\"tickfont\":{\"color\":\"#4D5663\"},\"title\":{\"font\":{\"color\":\"#4D5663\"},\"text\":\"\"},\"zerolinecolor\":\"#E1E5ED\"}},                        {\"showLink\": true, \"linkText\": \"Export to plot.ly\", \"plotlyServerURL\": \"https://plot.ly\", \"responsive\": true}                    ).then(function(){\n",
       "                            \n",
       "var gd = document.getElementById('5c6ae759-1a90-4785-915f-aa1123083ccc');\n",
       "var x = new MutationObserver(function (mutations, observer) {{\n",
       "        var display = window.getComputedStyle(gd).display;\n",
       "        if (!display || display === 'none') {{\n",
       "            console.log([gd, 'removed!']);\n",
       "            Plotly.purge(gd);\n",
       "            observer.disconnect();\n",
       "        }}\n",
       "}});\n",
       "\n",
       "// Listen for the removal of the full notebook cells\n",
       "var notebookContainer = gd.closest('#notebook-container');\n",
       "if (notebookContainer) {{\n",
       "    x.observe(notebookContainer, {childList: true});\n",
       "}}\n",
       "\n",
       "// Listen for the clearing of the current output cell\n",
       "var outputEl = gd.closest('.output');\n",
       "if (outputEl) {{\n",
       "    x.observe(outputEl, {childList: true});\n",
       "}}\n",
       "\n",
       "                        })                };                });            </script>        </div>"
      ]
     },
     "metadata": {},
     "output_type": "display_data"
    }
   ],
   "source": [
    "df.iplot(kind='box')"
   ]
  },
  {
   "cell_type": "markdown",
   "metadata": {},
   "source": [
    "## 3d Surface"
   ]
  },
  {
   "cell_type": "code",
   "execution_count": 24,
   "metadata": {
    "collapsed": false,
    "jupyter": {
     "outputs_hidden": false
    }
   },
   "outputs": [
    {
     "data": {
      "application/vnd.plotly.v1+json": {
       "config": {
        "linkText": "Export to plot.ly",
        "plotlyServerURL": "https://plot.ly",
        "showLink": true
       },
       "data": [
        {
         "colorscale": [
          [
           0,
           "rgb(165,0,38)"
          ],
          [
           0.1,
           "rgb(215,48,39)"
          ],
          [
           0.2,
           "rgb(244,109,67)"
          ],
          [
           0.3,
           "rgb(253,174,97)"
          ],
          [
           0.4,
           "rgb(254,224,144)"
          ],
          [
           0.5,
           "rgb(255,255,191)"
          ],
          [
           0.6,
           "rgb(224,243,248)"
          ],
          [
           0.7,
           "rgb(171,217,233)"
          ],
          [
           0.8,
           "rgb(116,173,209)"
          ],
          [
           0.9,
           "rgb(69,117,180)"
          ],
          [
           1,
           "rgb(49,54,149)"
          ]
         ],
         "type": "surface",
         "x": [
          0,
          1,
          2,
          3,
          4
         ],
         "y": [
          "x",
          "y",
          "z"
         ],
         "z": [
          [
           1,
           2,
           3,
           4,
           5
          ],
          [
           10,
           20,
           30,
           20,
           10
          ],
          [
           5,
           4,
           3,
           2,
           1
          ]
         ]
        }
       ],
       "layout": {
        "autosize": true,
        "legend": {
         "bgcolor": "#F5F6F9",
         "font": {
          "color": "#4D5663"
         }
        },
        "paper_bgcolor": "#F5F6F9",
        "plot_bgcolor": "#F5F6F9",
        "scene": {
         "aspectmode": "auto",
         "aspectratio": {
          "x": 1,
          "y": 1,
          "z": 1
         }
        },
        "template": {
         "data": {
          "bar": [
           {
            "error_x": {
             "color": "#2a3f5f"
            },
            "error_y": {
             "color": "#2a3f5f"
            },
            "marker": {
             "line": {
              "color": "#E5ECF6",
              "width": 0.5
             },
             "pattern": {
              "fillmode": "overlay",
              "size": 10,
              "solidity": 0.2
             }
            },
            "type": "bar"
           }
          ],
          "barpolar": [
           {
            "marker": {
             "line": {
              "color": "#E5ECF6",
              "width": 0.5
             },
             "pattern": {
              "fillmode": "overlay",
              "size": 10,
              "solidity": 0.2
             }
            },
            "type": "barpolar"
           }
          ],
          "carpet": [
           {
            "aaxis": {
             "endlinecolor": "#2a3f5f",
             "gridcolor": "white",
             "linecolor": "white",
             "minorgridcolor": "white",
             "startlinecolor": "#2a3f5f"
            },
            "baxis": {
             "endlinecolor": "#2a3f5f",
             "gridcolor": "white",
             "linecolor": "white",
             "minorgridcolor": "white",
             "startlinecolor": "#2a3f5f"
            },
            "type": "carpet"
           }
          ],
          "choropleth": [
           {
            "colorbar": {
             "outlinewidth": 0,
             "ticks": ""
            },
            "type": "choropleth"
           }
          ],
          "contour": [
           {
            "colorbar": {
             "outlinewidth": 0,
             "ticks": ""
            },
            "colorscale": [
             [
              0,
              "#0d0887"
             ],
             [
              0.1111111111111111,
              "#46039f"
             ],
             [
              0.2222222222222222,
              "#7201a8"
             ],
             [
              0.3333333333333333,
              "#9c179e"
             ],
             [
              0.4444444444444444,
              "#bd3786"
             ],
             [
              0.5555555555555556,
              "#d8576b"
             ],
             [
              0.6666666666666666,
              "#ed7953"
             ],
             [
              0.7777777777777778,
              "#fb9f3a"
             ],
             [
              0.8888888888888888,
              "#fdca26"
             ],
             [
              1,
              "#f0f921"
             ]
            ],
            "type": "contour"
           }
          ],
          "contourcarpet": [
           {
            "colorbar": {
             "outlinewidth": 0,
             "ticks": ""
            },
            "type": "contourcarpet"
           }
          ],
          "heatmap": [
           {
            "colorbar": {
             "outlinewidth": 0,
             "ticks": ""
            },
            "colorscale": [
             [
              0,
              "#0d0887"
             ],
             [
              0.1111111111111111,
              "#46039f"
             ],
             [
              0.2222222222222222,
              "#7201a8"
             ],
             [
              0.3333333333333333,
              "#9c179e"
             ],
             [
              0.4444444444444444,
              "#bd3786"
             ],
             [
              0.5555555555555556,
              "#d8576b"
             ],
             [
              0.6666666666666666,
              "#ed7953"
             ],
             [
              0.7777777777777778,
              "#fb9f3a"
             ],
             [
              0.8888888888888888,
              "#fdca26"
             ],
             [
              1,
              "#f0f921"
             ]
            ],
            "type": "heatmap"
           }
          ],
          "heatmapgl": [
           {
            "colorbar": {
             "outlinewidth": 0,
             "ticks": ""
            },
            "colorscale": [
             [
              0,
              "#0d0887"
             ],
             [
              0.1111111111111111,
              "#46039f"
             ],
             [
              0.2222222222222222,
              "#7201a8"
             ],
             [
              0.3333333333333333,
              "#9c179e"
             ],
             [
              0.4444444444444444,
              "#bd3786"
             ],
             [
              0.5555555555555556,
              "#d8576b"
             ],
             [
              0.6666666666666666,
              "#ed7953"
             ],
             [
              0.7777777777777778,
              "#fb9f3a"
             ],
             [
              0.8888888888888888,
              "#fdca26"
             ],
             [
              1,
              "#f0f921"
             ]
            ],
            "type": "heatmapgl"
           }
          ],
          "histogram": [
           {
            "marker": {
             "pattern": {
              "fillmode": "overlay",
              "size": 10,
              "solidity": 0.2
             }
            },
            "type": "histogram"
           }
          ],
          "histogram2d": [
           {
            "colorbar": {
             "outlinewidth": 0,
             "ticks": ""
            },
            "colorscale": [
             [
              0,
              "#0d0887"
             ],
             [
              0.1111111111111111,
              "#46039f"
             ],
             [
              0.2222222222222222,
              "#7201a8"
             ],
             [
              0.3333333333333333,
              "#9c179e"
             ],
             [
              0.4444444444444444,
              "#bd3786"
             ],
             [
              0.5555555555555556,
              "#d8576b"
             ],
             [
              0.6666666666666666,
              "#ed7953"
             ],
             [
              0.7777777777777778,
              "#fb9f3a"
             ],
             [
              0.8888888888888888,
              "#fdca26"
             ],
             [
              1,
              "#f0f921"
             ]
            ],
            "type": "histogram2d"
           }
          ],
          "histogram2dcontour": [
           {
            "colorbar": {
             "outlinewidth": 0,
             "ticks": ""
            },
            "colorscale": [
             [
              0,
              "#0d0887"
             ],
             [
              0.1111111111111111,
              "#46039f"
             ],
             [
              0.2222222222222222,
              "#7201a8"
             ],
             [
              0.3333333333333333,
              "#9c179e"
             ],
             [
              0.4444444444444444,
              "#bd3786"
             ],
             [
              0.5555555555555556,
              "#d8576b"
             ],
             [
              0.6666666666666666,
              "#ed7953"
             ],
             [
              0.7777777777777778,
              "#fb9f3a"
             ],
             [
              0.8888888888888888,
              "#fdca26"
             ],
             [
              1,
              "#f0f921"
             ]
            ],
            "type": "histogram2dcontour"
           }
          ],
          "mesh3d": [
           {
            "colorbar": {
             "outlinewidth": 0,
             "ticks": ""
            },
            "type": "mesh3d"
           }
          ],
          "parcoords": [
           {
            "line": {
             "colorbar": {
              "outlinewidth": 0,
              "ticks": ""
             }
            },
            "type": "parcoords"
           }
          ],
          "pie": [
           {
            "automargin": true,
            "type": "pie"
           }
          ],
          "scatter": [
           {
            "marker": {
             "colorbar": {
              "outlinewidth": 0,
              "ticks": ""
             }
            },
            "type": "scatter"
           }
          ],
          "scatter3d": [
           {
            "line": {
             "colorbar": {
              "outlinewidth": 0,
              "ticks": ""
             }
            },
            "marker": {
             "colorbar": {
              "outlinewidth": 0,
              "ticks": ""
             }
            },
            "type": "scatter3d"
           }
          ],
          "scattercarpet": [
           {
            "marker": {
             "colorbar": {
              "outlinewidth": 0,
              "ticks": ""
             }
            },
            "type": "scattercarpet"
           }
          ],
          "scattergeo": [
           {
            "marker": {
             "colorbar": {
              "outlinewidth": 0,
              "ticks": ""
             }
            },
            "type": "scattergeo"
           }
          ],
          "scattergl": [
           {
            "marker": {
             "colorbar": {
              "outlinewidth": 0,
              "ticks": ""
             }
            },
            "type": "scattergl"
           }
          ],
          "scattermapbox": [
           {
            "marker": {
             "colorbar": {
              "outlinewidth": 0,
              "ticks": ""
             }
            },
            "type": "scattermapbox"
           }
          ],
          "scatterpolar": [
           {
            "marker": {
             "colorbar": {
              "outlinewidth": 0,
              "ticks": ""
             }
            },
            "type": "scatterpolar"
           }
          ],
          "scatterpolargl": [
           {
            "marker": {
             "colorbar": {
              "outlinewidth": 0,
              "ticks": ""
             }
            },
            "type": "scatterpolargl"
           }
          ],
          "scatterternary": [
           {
            "marker": {
             "colorbar": {
              "outlinewidth": 0,
              "ticks": ""
             }
            },
            "type": "scatterternary"
           }
          ],
          "surface": [
           {
            "colorbar": {
             "outlinewidth": 0,
             "ticks": ""
            },
            "colorscale": [
             [
              0,
              "#0d0887"
             ],
             [
              0.1111111111111111,
              "#46039f"
             ],
             [
              0.2222222222222222,
              "#7201a8"
             ],
             [
              0.3333333333333333,
              "#9c179e"
             ],
             [
              0.4444444444444444,
              "#bd3786"
             ],
             [
              0.5555555555555556,
              "#d8576b"
             ],
             [
              0.6666666666666666,
              "#ed7953"
             ],
             [
              0.7777777777777778,
              "#fb9f3a"
             ],
             [
              0.8888888888888888,
              "#fdca26"
             ],
             [
              1,
              "#f0f921"
             ]
            ],
            "type": "surface"
           }
          ],
          "table": [
           {
            "cells": {
             "fill": {
              "color": "#EBF0F8"
             },
             "line": {
              "color": "white"
             }
            },
            "header": {
             "fill": {
              "color": "#C8D4E3"
             },
             "line": {
              "color": "white"
             }
            },
            "type": "table"
           }
          ]
         },
         "layout": {
          "annotationdefaults": {
           "arrowcolor": "#2a3f5f",
           "arrowhead": 0,
           "arrowwidth": 1
          },
          "autotypenumbers": "strict",
          "coloraxis": {
           "colorbar": {
            "outlinewidth": 0,
            "ticks": ""
           }
          },
          "colorscale": {
           "diverging": [
            [
             0,
             "#8e0152"
            ],
            [
             0.1,
             "#c51b7d"
            ],
            [
             0.2,
             "#de77ae"
            ],
            [
             0.3,
             "#f1b6da"
            ],
            [
             0.4,
             "#fde0ef"
            ],
            [
             0.5,
             "#f7f7f7"
            ],
            [
             0.6,
             "#e6f5d0"
            ],
            [
             0.7,
             "#b8e186"
            ],
            [
             0.8,
             "#7fbc41"
            ],
            [
             0.9,
             "#4d9221"
            ],
            [
             1,
             "#276419"
            ]
           ],
           "sequential": [
            [
             0,
             "#0d0887"
            ],
            [
             0.1111111111111111,
             "#46039f"
            ],
            [
             0.2222222222222222,
             "#7201a8"
            ],
            [
             0.3333333333333333,
             "#9c179e"
            ],
            [
             0.4444444444444444,
             "#bd3786"
            ],
            [
             0.5555555555555556,
             "#d8576b"
            ],
            [
             0.6666666666666666,
             "#ed7953"
            ],
            [
             0.7777777777777778,
             "#fb9f3a"
            ],
            [
             0.8888888888888888,
             "#fdca26"
            ],
            [
             1,
             "#f0f921"
            ]
           ],
           "sequentialminus": [
            [
             0,
             "#0d0887"
            ],
            [
             0.1111111111111111,
             "#46039f"
            ],
            [
             0.2222222222222222,
             "#7201a8"
            ],
            [
             0.3333333333333333,
             "#9c179e"
            ],
            [
             0.4444444444444444,
             "#bd3786"
            ],
            [
             0.5555555555555556,
             "#d8576b"
            ],
            [
             0.6666666666666666,
             "#ed7953"
            ],
            [
             0.7777777777777778,
             "#fb9f3a"
            ],
            [
             0.8888888888888888,
             "#fdca26"
            ],
            [
             1,
             "#f0f921"
            ]
           ]
          },
          "colorway": [
           "#636efa",
           "#EF553B",
           "#00cc96",
           "#ab63fa",
           "#FFA15A",
           "#19d3f3",
           "#FF6692",
           "#B6E880",
           "#FF97FF",
           "#FECB52"
          ],
          "font": {
           "color": "#2a3f5f"
          },
          "geo": {
           "bgcolor": "white",
           "lakecolor": "white",
           "landcolor": "#E5ECF6",
           "showlakes": true,
           "showland": true,
           "subunitcolor": "white"
          },
          "hoverlabel": {
           "align": "left"
          },
          "hovermode": "closest",
          "mapbox": {
           "style": "light"
          },
          "paper_bgcolor": "white",
          "plot_bgcolor": "#E5ECF6",
          "polar": {
           "angularaxis": {
            "gridcolor": "white",
            "linecolor": "white",
            "ticks": ""
           },
           "bgcolor": "#E5ECF6",
           "radialaxis": {
            "gridcolor": "white",
            "linecolor": "white",
            "ticks": ""
           }
          },
          "scene": {
           "xaxis": {
            "backgroundcolor": "#E5ECF6",
            "gridcolor": "white",
            "gridwidth": 2,
            "linecolor": "white",
            "showbackground": true,
            "ticks": "",
            "zerolinecolor": "white"
           },
           "yaxis": {
            "backgroundcolor": "#E5ECF6",
            "gridcolor": "white",
            "gridwidth": 2,
            "linecolor": "white",
            "showbackground": true,
            "ticks": "",
            "zerolinecolor": "white"
           },
           "zaxis": {
            "backgroundcolor": "#E5ECF6",
            "gridcolor": "white",
            "gridwidth": 2,
            "linecolor": "white",
            "showbackground": true,
            "ticks": "",
            "zerolinecolor": "white"
           }
          },
          "shapedefaults": {
           "line": {
            "color": "#2a3f5f"
           }
          },
          "ternary": {
           "aaxis": {
            "gridcolor": "white",
            "linecolor": "white",
            "ticks": ""
           },
           "baxis": {
            "gridcolor": "white",
            "linecolor": "white",
            "ticks": ""
           },
           "bgcolor": "#E5ECF6",
           "caxis": {
            "gridcolor": "white",
            "linecolor": "white",
            "ticks": ""
           }
          },
          "title": {
           "x": 0.05
          },
          "xaxis": {
           "automargin": true,
           "gridcolor": "white",
           "linecolor": "white",
           "ticks": "",
           "title": {
            "standoff": 15
           },
           "zerolinecolor": "white",
           "zerolinewidth": 2
          },
          "yaxis": {
           "automargin": true,
           "gridcolor": "white",
           "linecolor": "white",
           "ticks": "",
           "title": {
            "standoff": 15
           },
           "zerolinecolor": "white",
           "zerolinewidth": 2
          }
         }
        },
        "title": {
         "font": {
          "color": "#4D5663"
         }
        },
        "xaxis": {
         "gridcolor": "#E1E5ED",
         "showgrid": true,
         "tickfont": {
          "color": "#4D5663"
         },
         "title": {
          "font": {
           "color": "#4D5663"
          },
          "text": ""
         },
         "zerolinecolor": "#E1E5ED"
        },
        "yaxis": {
         "gridcolor": "#E1E5ED",
         "showgrid": true,
         "tickfont": {
          "color": "#4D5663"
         },
         "title": {
          "font": {
           "color": "#4D5663"
          },
          "text": ""
         },
         "zerolinecolor": "#E1E5ED"
        }
       }
      },
      "image/png": "[encoded data removed]",
      "text/html": [
       "<div>                            <div id=\"20736393-42e5-45c5-9805-3c73e131b7c3\" class=\"plotly-graph-div\" style=\"height:525px; width:100%;\"></div>            <script type=\"text/javascript\">                require([\"plotly\"], function(Plotly) {                    window.PLOTLYENV=window.PLOTLYENV || {};\n",
       "                    window.PLOTLYENV.BASE_URL='https://plot.ly';                                    if (document.getElementById(\"20736393-42e5-45c5-9805-3c73e131b7c3\")) {                    Plotly.newPlot(                        \"20736393-42e5-45c5-9805-3c73e131b7c3\",                        [{\"colorscale\":[[0.0,\"rgb(165,0,38)\"],[0.1,\"rgb(215,48,39)\"],[0.2,\"rgb(244,109,67)\"],[0.3,\"rgb(253,174,97)\"],[0.4,\"rgb(254,224,144)\"],[0.5,\"rgb(255,255,191)\"],[0.6,\"rgb(224,243,248)\"],[0.7,\"rgb(171,217,233)\"],[0.8,\"rgb(116,173,209)\"],[0.9,\"rgb(69,117,180)\"],[1.0,\"rgb(49,54,149)\"]],\"x\":[0,1,2,3,4],\"y\":[\"x\",\"y\",\"z\"],\"z\":[[1,2,3,4,5],[10,20,30,20,10],[5,4,3,2,1]],\"type\":\"surface\"}],                        {\"legend\":{\"bgcolor\":\"#F5F6F9\",\"font\":{\"color\":\"#4D5663\"}},\"paper_bgcolor\":\"#F5F6F9\",\"plot_bgcolor\":\"#F5F6F9\",\"template\":{\"data\":{\"barpolar\":[{\"marker\":{\"line\":{\"color\":\"#E5ECF6\",\"width\":0.5},\"pattern\":{\"fillmode\":\"overlay\",\"size\":10,\"solidity\":0.2}},\"type\":\"barpolar\"}],\"bar\":[{\"error_x\":{\"color\":\"#2a3f5f\"},\"error_y\":{\"color\":\"#2a3f5f\"},\"marker\":{\"line\":{\"color\":\"#E5ECF6\",\"width\":0.5},\"pattern\":{\"fillmode\":\"overlay\",\"size\":10,\"solidity\":0.2}},\"type\":\"bar\"}],\"carpet\":[{\"aaxis\":{\"endlinecolor\":\"#2a3f5f\",\"gridcolor\":\"white\",\"linecolor\":\"white\",\"minorgridcolor\":\"white\",\"startlinecolor\":\"#2a3f5f\"},\"baxis\":{\"endlinecolor\":\"#2a3f5f\",\"gridcolor\":\"white\",\"linecolor\":\"white\",\"minorgridcolor\":\"white\",\"startlinecolor\":\"#2a3f5f\"},\"type\":\"carpet\"}],\"choropleth\":[{\"colorbar\":{\"outlinewidth\":0,\"ticks\":\"\"},\"type\":\"choropleth\"}],\"contourcarpet\":[{\"colorbar\":{\"outlinewidth\":0,\"ticks\":\"\"},\"type\":\"contourcarpet\"}],\"contour\":[{\"colorbar\":{\"outlinewidth\":0,\"ticks\":\"\"},\"colorscale\":[[0.0,\"#0d0887\"],[0.1111111111111111,\"#46039f\"],[0.2222222222222222,\"#7201a8\"],[0.3333333333333333,\"#9c179e\"],[0.4444444444444444,\"#bd3786\"],[0.5555555555555556,\"#d8576b\"],[0.6666666666666666,\"#ed7953\"],[0.7777777777777778,\"#fb9f3a\"],[0.8888888888888888,\"#fdca26\"],[1.0,\"#f0f921\"]],\"type\":\"contour\"}],\"heatmapgl\":[{\"colorbar\":{\"outlinewidth\":0,\"ticks\":\"\"},\"colorscale\":[[0.0,\"#0d0887\"],[0.1111111111111111,\"#46039f\"],[0.2222222222222222,\"#7201a8\"],[0.3333333333333333,\"#9c179e\"],[0.4444444444444444,\"#bd3786\"],[0.5555555555555556,\"#d8576b\"],[0.6666666666666666,\"#ed7953\"],[0.7777777777777778,\"#fb9f3a\"],[0.8888888888888888,\"#fdca26\"],[1.0,\"#f0f921\"]],\"type\":\"heatmapgl\"}],\"heatmap\":[{\"colorbar\":{\"outlinewidth\":0,\"ticks\":\"\"},\"colorscale\":[[0.0,\"#0d0887\"],[0.1111111111111111,\"#46039f\"],[0.2222222222222222,\"#7201a8\"],[0.3333333333333333,\"#9c179e\"],[0.4444444444444444,\"#bd3786\"],[0.5555555555555556,\"#d8576b\"],[0.6666666666666666,\"#ed7953\"],[0.7777777777777778,\"#fb9f3a\"],[0.8888888888888888,\"#fdca26\"],[1.0,\"#f0f921\"]],\"type\":\"heatmap\"}],\"histogram2dcontour\":[{\"colorbar\":{\"outlinewidth\":0,\"ticks\":\"\"},\"colorscale\":[[0.0,\"#0d0887\"],[0.1111111111111111,\"#46039f\"],[0.2222222222222222,\"#7201a8\"],[0.3333333333333333,\"#9c179e\"],[0.4444444444444444,\"#bd3786\"],[0.5555555555555556,\"#d8576b\"],[0.6666666666666666,\"#ed7953\"],[0.7777777777777778,\"#fb9f3a\"],[0.8888888888888888,\"#fdca26\"],[1.0,\"#f0f921\"]],\"type\":\"histogram2dcontour\"}],\"histogram2d\":[{\"colorbar\":{\"outlinewidth\":0,\"ticks\":\"\"},\"colorscale\":[[0.0,\"#0d0887\"],[0.1111111111111111,\"#46039f\"],[0.2222222222222222,\"#7201a8\"],[0.3333333333333333,\"#9c179e\"],[0.4444444444444444,\"#bd3786\"],[0.5555555555555556,\"#d8576b\"],[0.6666666666666666,\"#ed7953\"],[0.7777777777777778,\"#fb9f3a\"],[0.8888888888888888,\"#fdca26\"],[1.0,\"#f0f921\"]],\"type\":\"histogram2d\"}],\"histogram\":[{\"marker\":{\"pattern\":{\"fillmode\":\"overlay\",\"size\":10,\"solidity\":0.2}},\"type\":\"histogram\"}],\"mesh3d\":[{\"colorbar\":{\"outlinewidth\":0,\"ticks\":\"\"},\"type\":\"mesh3d\"}],\"parcoords\":[{\"line\":{\"colorbar\":{\"outlinewidth\":0,\"ticks\":\"\"}},\"type\":\"parcoords\"}],\"pie\":[{\"automargin\":true,\"type\":\"pie\"}],\"scatter3d\":[{\"line\":{\"colorbar\":{\"outlinewidth\":0,\"ticks\":\"\"}},\"marker\":{\"colorbar\":{\"outlinewidth\":0,\"ticks\":\"\"}},\"type\":\"scatter3d\"}],\"scattercarpet\":[{\"marker\":{\"colorbar\":{\"outlinewidth\":0,\"ticks\":\"\"}},\"type\":\"scattercarpet\"}],\"scattergeo\":[{\"marker\":{\"colorbar\":{\"outlinewidth\":0,\"ticks\":\"\"}},\"type\":\"scattergeo\"}],\"scattergl\":[{\"marker\":{\"colorbar\":{\"outlinewidth\":0,\"ticks\":\"\"}},\"type\":\"scattergl\"}],\"scattermapbox\":[{\"marker\":{\"colorbar\":{\"outlinewidth\":0,\"ticks\":\"\"}},\"type\":\"scattermapbox\"}],\"scatterpolargl\":[{\"marker\":{\"colorbar\":{\"outlinewidth\":0,\"ticks\":\"\"}},\"type\":\"scatterpolargl\"}],\"scatterpolar\":[{\"marker\":{\"colorbar\":{\"outlinewidth\":0,\"ticks\":\"\"}},\"type\":\"scatterpolar\"}],\"scatter\":[{\"marker\":{\"colorbar\":{\"outlinewidth\":0,\"ticks\":\"\"}},\"type\":\"scatter\"}],\"scatterternary\":[{\"marker\":{\"colorbar\":{\"outlinewidth\":0,\"ticks\":\"\"}},\"type\":\"scatterternary\"}],\"surface\":[{\"colorbar\":{\"outlinewidth\":0,\"ticks\":\"\"},\"colorscale\":[[0.0,\"#0d0887\"],[0.1111111111111111,\"#46039f\"],[0.2222222222222222,\"#7201a8\"],[0.3333333333333333,\"#9c179e\"],[0.4444444444444444,\"#bd3786\"],[0.5555555555555556,\"#d8576b\"],[0.6666666666666666,\"#ed7953\"],[0.7777777777777778,\"#fb9f3a\"],[0.8888888888888888,\"#fdca26\"],[1.0,\"#f0f921\"]],\"type\":\"surface\"}],\"table\":[{\"cells\":{\"fill\":{\"color\":\"#EBF0F8\"},\"line\":{\"color\":\"white\"}},\"header\":{\"fill\":{\"color\":\"#C8D4E3\"},\"line\":{\"color\":\"white\"}},\"type\":\"table\"}]},\"layout\":{\"annotationdefaults\":{\"arrowcolor\":\"#2a3f5f\",\"arrowhead\":0,\"arrowwidth\":1},\"autotypenumbers\":\"strict\",\"coloraxis\":{\"colorbar\":{\"outlinewidth\":0,\"ticks\":\"\"}},\"colorscale\":{\"diverging\":[[0,\"#8e0152\"],[0.1,\"#c51b7d\"],[0.2,\"#de77ae\"],[0.3,\"#f1b6da\"],[0.4,\"#fde0ef\"],[0.5,\"#f7f7f7\"],[0.6,\"#e6f5d0\"],[0.7,\"#b8e186\"],[0.8,\"#7fbc41\"],[0.9,\"#4d9221\"],[1,\"#276419\"]],\"sequential\":[[0.0,\"#0d0887\"],[0.1111111111111111,\"#46039f\"],[0.2222222222222222,\"#7201a8\"],[0.3333333333333333,\"#9c179e\"],[0.4444444444444444,\"#bd3786\"],[0.5555555555555556,\"#d8576b\"],[0.6666666666666666,\"#ed7953\"],[0.7777777777777778,\"#fb9f3a\"],[0.8888888888888888,\"#fdca26\"],[1.0,\"#f0f921\"]],\"sequentialminus\":[[0.0,\"#0d0887\"],[0.1111111111111111,\"#46039f\"],[0.2222222222222222,\"#7201a8\"],[0.3333333333333333,\"#9c179e\"],[0.4444444444444444,\"#bd3786\"],[0.5555555555555556,\"#d8576b\"],[0.6666666666666666,\"#ed7953\"],[0.7777777777777778,\"#fb9f3a\"],[0.8888888888888888,\"#fdca26\"],[1.0,\"#f0f921\"]]},\"colorway\":[\"#636efa\",\"#EF553B\",\"#00cc96\",\"#ab63fa\",\"#FFA15A\",\"#19d3f3\",\"#FF6692\",\"#B6E880\",\"#FF97FF\",\"#FECB52\"],\"font\":{\"color\":\"#2a3f5f\"},\"geo\":{\"bgcolor\":\"white\",\"lakecolor\":\"white\",\"landcolor\":\"#E5ECF6\",\"showlakes\":true,\"showland\":true,\"subunitcolor\":\"white\"},\"hoverlabel\":{\"align\":\"left\"},\"hovermode\":\"closest\",\"mapbox\":{\"style\":\"light\"},\"paper_bgcolor\":\"white\",\"plot_bgcolor\":\"#E5ECF6\",\"polar\":{\"angularaxis\":{\"gridcolor\":\"white\",\"linecolor\":\"white\",\"ticks\":\"\"},\"bgcolor\":\"#E5ECF6\",\"radialaxis\":{\"gridcolor\":\"white\",\"linecolor\":\"white\",\"ticks\":\"\"}},\"scene\":{\"xaxis\":{\"backgroundcolor\":\"#E5ECF6\",\"gridcolor\":\"white\",\"gridwidth\":2,\"linecolor\":\"white\",\"showbackground\":true,\"ticks\":\"\",\"zerolinecolor\":\"white\"},\"yaxis\":{\"backgroundcolor\":\"#E5ECF6\",\"gridcolor\":\"white\",\"gridwidth\":2,\"linecolor\":\"white\",\"showbackground\":true,\"ticks\":\"\",\"zerolinecolor\":\"white\"},\"zaxis\":{\"backgroundcolor\":\"#E5ECF6\",\"gridcolor\":\"white\",\"gridwidth\":2,\"linecolor\":\"white\",\"showbackground\":true,\"ticks\":\"\",\"zerolinecolor\":\"white\"}},\"shapedefaults\":{\"line\":{\"color\":\"#2a3f5f\"}},\"ternary\":{\"aaxis\":{\"gridcolor\":\"white\",\"linecolor\":\"white\",\"ticks\":\"\"},\"baxis\":{\"gridcolor\":\"white\",\"linecolor\":\"white\",\"ticks\":\"\"},\"bgcolor\":\"#E5ECF6\",\"caxis\":{\"gridcolor\":\"white\",\"linecolor\":\"white\",\"ticks\":\"\"}},\"title\":{\"x\":0.05},\"xaxis\":{\"automargin\":true,\"gridcolor\":\"white\",\"linecolor\":\"white\",\"ticks\":\"\",\"title\":{\"standoff\":15},\"zerolinecolor\":\"white\",\"zerolinewidth\":2},\"yaxis\":{\"automargin\":true,\"gridcolor\":\"white\",\"linecolor\":\"white\",\"ticks\":\"\",\"title\":{\"standoff\":15},\"zerolinecolor\":\"white\",\"zerolinewidth\":2}}},\"title\":{\"font\":{\"color\":\"#4D5663\"}},\"xaxis\":{\"gridcolor\":\"#E1E5ED\",\"showgrid\":true,\"tickfont\":{\"color\":\"#4D5663\"},\"title\":{\"font\":{\"color\":\"#4D5663\"},\"text\":\"\"},\"zerolinecolor\":\"#E1E5ED\"},\"yaxis\":{\"gridcolor\":\"#E1E5ED\",\"showgrid\":true,\"tickfont\":{\"color\":\"#4D5663\"},\"title\":{\"font\":{\"color\":\"#4D5663\"},\"text\":\"\"},\"zerolinecolor\":\"#E1E5ED\"}},                        {\"showLink\": true, \"linkText\": \"Export to plot.ly\", \"plotlyServerURL\": \"https://plot.ly\", \"responsive\": true}                    ).then(function(){\n",
       "                            \n",
       "var gd = document.getElementById('20736393-42e5-45c5-9805-3c73e131b7c3');\n",
       "var x = new MutationObserver(function (mutations, observer) {{\n",
       "        var display = window.getComputedStyle(gd).display;\n",
       "        if (!display || display === 'none') {{\n",
       "            console.log([gd, 'removed!']);\n",
       "            Plotly.purge(gd);\n",
       "            observer.disconnect();\n",
       "        }}\n",
       "}});\n",
       "\n",
       "// Listen for the removal of the full notebook cells\n",
       "var notebookContainer = gd.closest('#notebook-container');\n",
       "if (notebookContainer) {{\n",
       "    x.observe(notebookContainer, {childList: true});\n",
       "}}\n",
       "\n",
       "// Listen for the clearing of the current output cell\n",
       "var outputEl = gd.closest('.output');\n",
       "if (outputEl) {{\n",
       "    x.observe(outputEl, {childList: true});\n",
       "}}\n",
       "\n",
       "                        })                };                });            </script>        </div>"
      ]
     },
     "metadata": {},
     "output_type": "display_data"
    }
   ],
   "source": [
    "df3 = pd.DataFrame({'x':[1,2,3,4,5],'y':[10,20,30,20,10],'z':[5,4,3,2,1]})\n",
    "df3.iplot(kind='surface',colorscale='rdylbu')"
   ]
  },
  {
   "cell_type": "markdown",
   "metadata": {},
   "source": [
    "## Spread"
   ]
  },
  {
   "cell_type": "code",
   "execution_count": 25,
   "metadata": {
    "collapsed": false,
    "jupyter": {
     "outputs_hidden": false
    }
   },
   "outputs": [
    {
     "name": "stderr",
     "output_type": "stream",
     "text": [
      "C:\\Users\\holacons\\miniconda3\\lib\\site-packages\\cufflinks\\plotlytools.py:849: FutureWarning:\n",
      "\n",
      "The pandas.np module is deprecated and will be removed from pandas in a future version. Import numpy directly instead\n",
      "\n",
      "C:\\Users\\holacons\\miniconda3\\lib\\site-packages\\cufflinks\\plotlytools.py:850: FutureWarning:\n",
      "\n",
      "The pandas.np module is deprecated and will be removed from pandas in a future version. Import numpy directly instead\n",
      "\n"
     ]
    },
    {
     "data": {
      "application/vnd.plotly.v1+json": {
       "config": {
        "linkText": "Export to plot.ly",
        "plotlyServerURL": "https://plot.ly",
        "showLink": true
       },
       "data": [
        {
         "line": {
          "color": "rgba(255, 153, 51, 1.0)",
          "dash": "solid",
          "shape": "linear",
          "width": 1.3
         },
         "mode": "lines",
         "name": "A",
         "text": "",
         "type": "scatter",
         "x": [
          0,
          1,
          2,
          3,
          4,
          5,
          6,
          7,
          8,
          9,
          10,
          11,
          12,
          13,
          14,
          15,
          16,
          17,
          18,
          19,
          20,
          21,
          22,
          23,
          24,
          25,
          26,
          27,
          28,
          29,
          30,
          31,
          32,
          33,
          34,
          35,
          36,
          37,
          38,
          39,
          40,
          41,
          42,
          43,
          44,
          45,
          46,
          47,
          48,
          49,
          50,
          51,
          52,
          53,
          54,
          55,
          56,
          57,
          58,
          59,
          60,
          61,
          62,
          63,
          64,
          65,
          66,
          67,
          68,
          69,
          70,
          71,
          72,
          73,
          74,
          75,
          76,
          77,
          78,
          79,
          80,
          81,
          82,
          83,
          84,
          85,
          86,
          87,
          88,
          89,
          90,
          91,
          92,
          93,
          94,
          95,
          96,
          97,
          98,
          99
         ],
         "y": [
          0.8869849113392575,
          -0.6964773634974851,
          0.7003725094248957,
          0.6608084726687465,
          1.7706764057755022,
          1.593145735885654,
          0.4740756469149725,
          0.6780606999675864,
          0.18401197953819318,
          -0.7649917952568512,
          0.9253634363763844,
          1.1118549199592058,
          -0.8433181578725014,
          -0.23664150329130548,
          -1.0992404617482978,
          0.28527338968743443,
          0.17481982564549223,
          1.3951250129856623,
          0.03590745163901755,
          -0.9594211851175032,
          -1.7179801807066248,
          0.9610755330564402,
          -0.21363215634783528,
          0.8804182323614378,
          0.1905342501740758,
          -0.4753432693912597,
          -0.1570437094027896,
          -0.9272609181058024,
          0.17515176239940475,
          -0.11926693582553309,
          0.6329377787337424,
          -0.6960379586458401,
          0.8072366409662378,
          1.0573006596282648,
          0.5262146051999136,
          -1.037271742531441,
          0.871425023776492,
          0.6875642804316112,
          -0.3209806553607807,
          -0.01897505420084429,
          1.1234988077597399,
          1.232420058647342,
          -0.4814980044587215,
          -0.35992966279024435,
          -0.3504136026398206,
          -0.0264638521470713,
          1.9455975191069528,
          0.7397424830525191,
          -1.3988662235783076,
          -0.6533021042995357,
          -1.0098839390042138,
          0.05158988935672315,
          -0.8885088323550191,
          1.3090023593260731,
          -0.4921751166128579,
          1.2562814695609659,
          -0.944489215550293,
          -0.9047929765159812,
          -0.16005070797481277,
          -0.3518748309386049,
          -0.6012147657777107,
          0.4833247270826448,
          -0.7995893120513355,
          0.6224446543722254,
          -0.09063609686494375,
          0.2828186976151058,
          1.298079370651083,
          0.60323067089413,
          0.9939326715694906,
          1.4930838976436456,
          -0.4027665687300486,
          -0.2607266448729439,
          -1.2535961981729813,
          0.9218123335954357,
          1.312062175830314,
          -0.9316561504008531,
          -0.61598560161817,
          -0.25100143532399877,
          0.4566927248840788,
          -0.9159752831190259,
          0.7377046809517973,
          -1.1626764129405016,
          -0.889391245298526,
          -0.6858184717161875,
          -0.09402072749499414,
          0.12562747120961676,
          0.09883684431670127,
          0.1865993291130212,
          -2.105122581865517,
          -1.5402416903738123,
          1.5094402807854603,
          -0.9361748837890781,
          0.12672444198158989,
          -1.589658407398841,
          -0.9996902030723225,
          0.12222138560129037,
          1.037829126734841,
          -1.0237728938148212,
          0.8129908238728943,
          -1.1735680529795158
         ]
        },
        {
         "line": {
          "color": "rgba(55, 128, 191, 1.0)",
          "dash": "solid",
          "shape": "linear",
          "width": 1.3
         },
         "mode": "lines",
         "name": "B",
         "text": "",
         "type": "scatter",
         "x": [
          0,
          1,
          2,
          3,
          4,
          5,
          6,
          7,
          8,
          9,
          10,
          11,
          12,
          13,
          14,
          15,
          16,
          17,
          18,
          19,
          20,
          21,
          22,
          23,
          24,
          25,
          26,
          27,
          28,
          29,
          30,
          31,
          32,
          33,
          34,
          35,
          36,
          37,
          38,
          39,
          40,
          41,
          42,
          43,
          44,
          45,
          46,
          47,
          48,
          49,
          50,
          51,
          52,
          53,
          54,
          55,
          56,
          57,
          58,
          59,
          60,
          61,
          62,
          63,
          64,
          65,
          66,
          67,
          68,
          69,
          70,
          71,
          72,
          73,
          74,
          75,
          76,
          77,
          78,
          79,
          80,
          81,
          82,
          83,
          84,
          85,
          86,
          87,
          88,
          89,
          90,
          91,
          92,
          93,
          94,
          95,
          96,
          97,
          98,
          99
         ],
         "y": [
          -0.8333485300834292,
          -1.2766677713856172,
          0.32889268999764587,
          -0.7228597241406125,
          -1.088055170641722,
          -0.26454960727060933,
          -1.088746135103376,
          1.307311404250032,
          0.08031675927464546,
          0.02757860090171118,
          0.6518221207539567,
          0.7276482533339022,
          -1.1158078994176668,
          -0.05851343762871096,
          -0.779070280511317,
          0.6555944432816424,
          0.3795977680725507,
          0.6047485425267529,
          -1.245835389444955,
          0.5118554482170173,
          0.4007446062617446,
          -0.9762413226379608,
          0.23963149916481855,
          -0.08182559589104474,
          0.28026876924154154,
          0.593917640305292,
          -1.9595673096812394,
          -1.06511056321929,
          0.9918697122537389,
          0.3043350394672878,
          -0.2265403931323341,
          2.192649137408791,
          0.9174930299413948,
          0.8686827682351795,
          -0.9492012311313425,
          1.9138497364086406,
          -1.021402262388293,
          0.15575335857348221,
          -0.6085703602891364,
          0.7370588517740067,
          -0.327086277798017,
          1.1799615116593871,
          -0.35685566036595373,
          -1.175460976239832,
          0.31255342310921275,
          0.9897473343815354,
          0.9198781183889619,
          -0.7474006092799659,
          -0.856587496221934,
          -0.785034997454377,
          -0.12235515802115861,
          -1.786434990061692,
          0.5481592699594763,
          -1.274980280267999,
          0.696836476541588,
          -1.370492271925774,
          2.06004470363456,
          2.0468933823727764,
          0.21084208697464552,
          -0.12258782808995522,
          0.6403637734278632,
          -1.311325626456603,
          1.503641044788058,
          -1.078001719112831,
          1.3989747726854669,
          -1.616107252848288,
          -0.9637366722446397,
          0.10514432242328021,
          -0.35714686741413504,
          1.306610500270275,
          1.0975979363582071,
          1.6273028114379513,
          0.0019938966806490165,
          0.369738032875827,
          0.6194225065626668,
          -0.6008423439289713,
          0.5994305624114238,
          0.1278850553222134,
          0.1993287048843189,
          -0.9900196451938488,
          -0.0030251013458408673,
          0.6231686049789226,
          0.05503581719741051,
          -0.08273659707165258,
          -0.2576366521809987,
          -0.30204557671675586,
          0.501843752794459,
          -0.08670464369271894,
          0.4723263552701553,
          0.5855339910336078,
          -1.557478447357505,
          1.169546362591803,
          1.8645090896560506,
          -0.08712959822128583,
          -1.1493323961227986,
          0.29210214535966844,
          0.6546376109394556,
          -0.6030391008507462,
          -0.5090505082959106,
          -1.0319222234727223
         ]
        },
        {
         "connectgaps": false,
         "fill": "tozeroy",
         "line": {
          "color": "green",
          "dash": "solid",
          "shape": "linear",
          "width": 0.5
         },
         "mode": "lines",
         "name": "Spread",
         "showlegend": false,
         "type": "scatter",
         "x": [
          0,
          1,
          2,
          3,
          4,
          5,
          6,
          7,
          8,
          9,
          10,
          11,
          12,
          13,
          14,
          15,
          16,
          17,
          18,
          19,
          20,
          21,
          22,
          23,
          24,
          25,
          26,
          27,
          28,
          29,
          30,
          31,
          32,
          33,
          34,
          35,
          36,
          37,
          38,
          39,
          40,
          41,
          42,
          43,
          44,
          45,
          46,
          47,
          48,
          49,
          50,
          51,
          52,
          53,
          54,
          55,
          56,
          57,
          58,
          59,
          60,
          61,
          62,
          63,
          64,
          65,
          66,
          67,
          68,
          69,
          70,
          71,
          72,
          73,
          74,
          75,
          76,
          77,
          78,
          79,
          80,
          81,
          82,
          83,
          84,
          85,
          86,
          87,
          88,
          89,
          90,
          91,
          92,
          93,
          94,
          95,
          96,
          97,
          98,
          99
         ],
         "xaxis": "x2",
         "y": [
          1.7203334414226867,
          0.580190407888132,
          0.37147981942724984,
          1.3836681968093592,
          2.8587315764172243,
          1.8576953431562633,
          1.5628217820183485,
          "",
          0.10369522026354772,
          "",
          0.27354131562242767,
          0.38420666662530367,
          0.27248974154516536,
          "",
          "",
          "",
          "",
          0.7903764704589094,
          1.2817428410839726,
          "",
          "",
          1.9373168556944012,
          "",
          0.9622438282524826,
          "",
          "",
          1.8025236002784497,
          0.13784964511348774,
          "",
          "",
          0.8594781718660764,
          "",
          "",
          0.18861789139308527,
          1.4754158363312562,
          "",
          1.892827286164785,
          0.5318109218581291,
          0.28758970492835567,
          "",
          1.450585085557757,
          0.052458546987954824,
          "",
          0.8155313134495876,
          "",
          "",
          1.0257194007179908,
          1.4871430923324849,
          "",
          0.13173289315484127,
          "",
          1.8380248794184153,
          "",
          2.583982639594072,
          "",
          2.6267737414867396,
          "",
          "",
          "",
          "",
          "",
          1.794650353539248,
          "",
          1.7004463734850566,
          "",
          1.898925950463394,
          2.2618160428957226,
          0.49808634847084976,
          1.3510795389836256,
          0.18647339737337054,
          "",
          "",
          "",
          0.5520743007196087,
          0.6926396692676471,
          "",
          "",
          "",
          0.2573640199997599,
          0.0740443620748229,
          0.7407297822976382,
          "",
          "",
          "",
          0.16361592468600455,
          0.4276730479263726,
          "",
          0.27330397280574015,
          "",
          "",
          3.0669187281429653,
          "",
          "",
          "",
          0.1496421930504761,
          "",
          0.38319151579538535,
          "",
          1.322041332168805,
          ""
         ],
         "yaxis": "y2"
        },
        {
         "connectgaps": false,
         "fill": "tozeroy",
         "line": {
          "color": "red",
          "dash": "solid",
          "shape": "linear",
          "width": 0.5
         },
         "mode": "lines",
         "name": "Spread",
         "showlegend": false,
         "type": "scatter",
         "x": [
          0,
          1,
          2,
          3,
          4,
          5,
          6,
          7,
          8,
          9,
          10,
          11,
          12,
          13,
          14,
          15,
          16,
          17,
          18,
          19,
          20,
          21,
          22,
          23,
          24,
          25,
          26,
          27,
          28,
          29,
          30,
          31,
          32,
          33,
          34,
          35,
          36,
          37,
          38,
          39,
          40,
          41,
          42,
          43,
          44,
          45,
          46,
          47,
          48,
          49,
          50,
          51,
          52,
          53,
          54,
          55,
          56,
          57,
          58,
          59,
          60,
          61,
          62,
          63,
          64,
          65,
          66,
          67,
          68,
          69,
          70,
          71,
          72,
          73,
          74,
          75,
          76,
          77,
          78,
          79,
          80,
          81,
          82,
          83,
          84,
          85,
          86,
          87,
          88,
          89,
          90,
          91,
          92,
          93,
          94,
          95,
          96,
          97,
          98,
          99
         ],
         "xaxis": "x2",
         "y": [
          "",
          "",
          "",
          "",
          "",
          "",
          "",
          -0.6292507042824456,
          "",
          -0.7925703961585624,
          "",
          "",
          "",
          -0.17812806566259454,
          -0.3201701812369808,
          -0.37032105359420797,
          -0.20477794242705846,
          "",
          "",
          -1.4712766333345204,
          -2.1187247869683694,
          "",
          -0.4532636555126538,
          "",
          -0.08973451906746574,
          -1.0692609096965517,
          "",
          "",
          -0.8167179498543341,
          -0.4236019752928209,
          "",
          -2.888687096054631,
          -0.110256388975157,
          "",
          "",
          -2.951121478940082,
          "",
          "",
          "",
          -0.756033905974851,
          "",
          "",
          -0.12464234409276775,
          "",
          -0.6629670257490333,
          -1.0162111865286068,
          "",
          "",
          -0.5422787273563736,
          "",
          -0.8875287809830552,
          "",
          -1.4366681023144954,
          "",
          -1.1890115931544458,
          "",
          -3.004533919184853,
          -2.9516863588887574,
          -0.37089279494945826,
          -0.22928700284864967,
          -1.241578539205574,
          "",
          -2.3032303568393937,
          "",
          -1.4896108695504107,
          "",
          "",
          "",
          "",
          "",
          -1.5003645050882557,
          -1.8880294563108952,
          -1.2555900948536303,
          "",
          "",
          -0.33081380647188185,
          -1.2154161640295937,
          -0.37888649064621216,
          "",
          "",
          "",
          -1.7858450179194243,
          -0.9444270624959364,
          -0.6030818746445349,
          "",
          "",
          -0.4030069084777578,
          "",
          -2.577448937135672,
          -2.1257756814074202,
          "",
          -2.105721246380881,
          -1.7377846476744607,
          -1.502528809177555,
          "",
          -0.16988075975837807,
          "",
          -0.420733792964075,
          "",
          -0.1416458295067935
         ],
         "yaxis": "y2"
        }
       ],
       "layout": {
        "autosize": true,
        "hovermode": "x",
        "legend": {
         "bgcolor": "#F5F6F9",
         "font": {
          "color": "#4D5663"
         }
        },
        "paper_bgcolor": "#F5F6F9",
        "plot_bgcolor": "#F5F6F9",
        "template": {
         "data": {
          "bar": [
           {
            "error_x": {
             "color": "#2a3f5f"
            },
            "error_y": {
             "color": "#2a3f5f"
            },
            "marker": {
             "line": {
              "color": "#E5ECF6",
              "width": 0.5
             },
             "pattern": {
              "fillmode": "overlay",
              "size": 10,
              "solidity": 0.2
             }
            },
            "type": "bar"
           }
          ],
          "barpolar": [
           {
            "marker": {
             "line": {
              "color": "#E5ECF6",
              "width": 0.5
             },
             "pattern": {
              "fillmode": "overlay",
              "size": 10,
              "solidity": 0.2
             }
            },
            "type": "barpolar"
           }
          ],
          "carpet": [
           {
            "aaxis": {
             "endlinecolor": "#2a3f5f",
             "gridcolor": "white",
             "linecolor": "white",
             "minorgridcolor": "white",
             "startlinecolor": "#2a3f5f"
            },
            "baxis": {
             "endlinecolor": "#2a3f5f",
             "gridcolor": "white",
             "linecolor": "white",
             "minorgridcolor": "white",
             "startlinecolor": "#2a3f5f"
            },
            "type": "carpet"
           }
          ],
          "choropleth": [
           {
            "colorbar": {
             "outlinewidth": 0,
             "ticks": ""
            },
            "type": "choropleth"
           }
          ],
          "contour": [
           {
            "colorbar": {
             "outlinewidth": 0,
             "ticks": ""
            },
            "colorscale": [
             [
              0,
              "#0d0887"
             ],
             [
              0.1111111111111111,
              "#46039f"
             ],
             [
              0.2222222222222222,
              "#7201a8"
             ],
             [
              0.3333333333333333,
              "#9c179e"
             ],
             [
              0.4444444444444444,
              "#bd3786"
             ],
             [
              0.5555555555555556,
              "#d8576b"
             ],
             [
              0.6666666666666666,
              "#ed7953"
             ],
             [
              0.7777777777777778,
              "#fb9f3a"
             ],
             [
              0.8888888888888888,
              "#fdca26"
             ],
             [
              1,
              "#f0f921"
             ]
            ],
            "type": "contour"
           }
          ],
          "contourcarpet": [
           {
            "colorbar": {
             "outlinewidth": 0,
             "ticks": ""
            },
            "type": "contourcarpet"
           }
          ],
          "heatmap": [
           {
            "colorbar": {
             "outlinewidth": 0,
             "ticks": ""
            },
            "colorscale": [
             [
              0,
              "#0d0887"
             ],
             [
              0.1111111111111111,
              "#46039f"
             ],
             [
              0.2222222222222222,
              "#7201a8"
             ],
             [
              0.3333333333333333,
              "#9c179e"
             ],
             [
              0.4444444444444444,
              "#bd3786"
             ],
             [
              0.5555555555555556,
              "#d8576b"
             ],
             [
              0.6666666666666666,
              "#ed7953"
             ],
             [
              0.7777777777777778,
              "#fb9f3a"
             ],
             [
              0.8888888888888888,
              "#fdca26"
             ],
             [
              1,
              "#f0f921"
             ]
            ],
            "type": "heatmap"
           }
          ],
          "heatmapgl": [
           {
            "colorbar": {
             "outlinewidth": 0,
             "ticks": ""
            },
            "colorscale": [
             [
              0,
              "#0d0887"
             ],
             [
              0.1111111111111111,
              "#46039f"
             ],
             [
              0.2222222222222222,
              "#7201a8"
             ],
             [
              0.3333333333333333,
              "#9c179e"
             ],
             [
              0.4444444444444444,
              "#bd3786"
             ],
             [
              0.5555555555555556,
              "#d8576b"
             ],
             [
              0.6666666666666666,
              "#ed7953"
             ],
             [
              0.7777777777777778,
              "#fb9f3a"
             ],
             [
              0.8888888888888888,
              "#fdca26"
             ],
             [
              1,
              "#f0f921"
             ]
            ],
            "type": "heatmapgl"
           }
          ],
          "histogram": [
           {
            "marker": {
             "pattern": {
              "fillmode": "overlay",
              "size": 10,
              "solidity": 0.2
             }
            },
            "type": "histogram"
           }
          ],
          "histogram2d": [
           {
            "colorbar": {
             "outlinewidth": 0,
             "ticks": ""
            },
            "colorscale": [
             [
              0,
              "#0d0887"
             ],
             [
              0.1111111111111111,
              "#46039f"
             ],
             [
              0.2222222222222222,
              "#7201a8"
             ],
             [
              0.3333333333333333,
              "#9c179e"
             ],
             [
              0.4444444444444444,
              "#bd3786"
             ],
             [
              0.5555555555555556,
              "#d8576b"
             ],
             [
              0.6666666666666666,
              "#ed7953"
             ],
             [
              0.7777777777777778,
              "#fb9f3a"
             ],
             [
              0.8888888888888888,
              "#fdca26"
             ],
             [
              1,
              "#f0f921"
             ]
            ],
            "type": "histogram2d"
           }
          ],
          "histogram2dcontour": [
           {
            "colorbar": {
             "outlinewidth": 0,
             "ticks": ""
            },
            "colorscale": [
             [
              0,
              "#0d0887"
             ],
             [
              0.1111111111111111,
              "#46039f"
             ],
             [
              0.2222222222222222,
              "#7201a8"
             ],
             [
              0.3333333333333333,
              "#9c179e"
             ],
             [
              0.4444444444444444,
              "#bd3786"
             ],
             [
              0.5555555555555556,
              "#d8576b"
             ],
             [
              0.6666666666666666,
              "#ed7953"
             ],
             [
              0.7777777777777778,
              "#fb9f3a"
             ],
             [
              0.8888888888888888,
              "#fdca26"
             ],
             [
              1,
              "#f0f921"
             ]
            ],
            "type": "histogram2dcontour"
           }
          ],
          "mesh3d": [
           {
            "colorbar": {
             "outlinewidth": 0,
             "ticks": ""
            },
            "type": "mesh3d"
           }
          ],
          "parcoords": [
           {
            "line": {
             "colorbar": {
              "outlinewidth": 0,
              "ticks": ""
             }
            },
            "type": "parcoords"
           }
          ],
          "pie": [
           {
            "automargin": true,
            "type": "pie"
           }
          ],
          "scatter": [
           {
            "marker": {
             "colorbar": {
              "outlinewidth": 0,
              "ticks": ""
             }
            },
            "type": "scatter"
           }
          ],
          "scatter3d": [
           {
            "line": {
             "colorbar": {
              "outlinewidth": 0,
              "ticks": ""
             }
            },
            "marker": {
             "colorbar": {
              "outlinewidth": 0,
              "ticks": ""
             }
            },
            "type": "scatter3d"
           }
          ],
          "scattercarpet": [
           {
            "marker": {
             "colorbar": {
              "outlinewidth": 0,
              "ticks": ""
             }
            },
            "type": "scattercarpet"
           }
          ],
          "scattergeo": [
           {
            "marker": {
             "colorbar": {
              "outlinewidth": 0,
              "ticks": ""
             }
            },
            "type": "scattergeo"
           }
          ],
          "scattergl": [
           {
            "marker": {
             "colorbar": {
              "outlinewidth": 0,
              "ticks": ""
             }
            },
            "type": "scattergl"
           }
          ],
          "scattermapbox": [
           {
            "marker": {
             "colorbar": {
              "outlinewidth": 0,
              "ticks": ""
             }
            },
            "type": "scattermapbox"
           }
          ],
          "scatterpolar": [
           {
            "marker": {
             "colorbar": {
              "outlinewidth": 0,
              "ticks": ""
             }
            },
            "type": "scatterpolar"
           }
          ],
          "scatterpolargl": [
           {
            "marker": {
             "colorbar": {
              "outlinewidth": 0,
              "ticks": ""
             }
            },
            "type": "scatterpolargl"
           }
          ],
          "scatterternary": [
           {
            "marker": {
             "colorbar": {
              "outlinewidth": 0,
              "ticks": ""
             }
            },
            "type": "scatterternary"
           }
          ],
          "surface": [
           {
            "colorbar": {
             "outlinewidth": 0,
             "ticks": ""
            },
            "colorscale": [
             [
              0,
              "#0d0887"
             ],
             [
              0.1111111111111111,
              "#46039f"
             ],
             [
              0.2222222222222222,
              "#7201a8"
             ],
             [
              0.3333333333333333,
              "#9c179e"
             ],
             [
              0.4444444444444444,
              "#bd3786"
             ],
             [
              0.5555555555555556,
              "#d8576b"
             ],
             [
              0.6666666666666666,
              "#ed7953"
             ],
             [
              0.7777777777777778,
              "#fb9f3a"
             ],
             [
              0.8888888888888888,
              "#fdca26"
             ],
             [
              1,
              "#f0f921"
             ]
            ],
            "type": "surface"
           }
          ],
          "table": [
           {
            "cells": {
             "fill": {
              "color": "#EBF0F8"
             },
             "line": {
              "color": "white"
             }
            },
            "header": {
             "fill": {
              "color": "#C8D4E3"
             },
             "line": {
              "color": "white"
             }
            },
            "type": "table"
           }
          ]
         },
         "layout": {
          "annotationdefaults": {
           "arrowcolor": "#2a3f5f",
           "arrowhead": 0,
           "arrowwidth": 1
          },
          "autotypenumbers": "strict",
          "coloraxis": {
           "colorbar": {
            "outlinewidth": 0,
            "ticks": ""
           }
          },
          "colorscale": {
           "diverging": [
            [
             0,
             "#8e0152"
            ],
            [
             0.1,
             "#c51b7d"
            ],
            [
             0.2,
             "#de77ae"
            ],
            [
             0.3,
             "#f1b6da"
            ],
            [
             0.4,
             "#fde0ef"
            ],
            [
             0.5,
             "#f7f7f7"
            ],
            [
             0.6,
             "#e6f5d0"
            ],
            [
             0.7,
             "#b8e186"
            ],
            [
             0.8,
             "#7fbc41"
            ],
            [
             0.9,
             "#4d9221"
            ],
            [
             1,
             "#276419"
            ]
           ],
           "sequential": [
            [
             0,
             "#0d0887"
            ],
            [
             0.1111111111111111,
             "#46039f"
            ],
            [
             0.2222222222222222,
             "#7201a8"
            ],
            [
             0.3333333333333333,
             "#9c179e"
            ],
            [
             0.4444444444444444,
             "#bd3786"
            ],
            [
             0.5555555555555556,
             "#d8576b"
            ],
            [
             0.6666666666666666,
             "#ed7953"
            ],
            [
             0.7777777777777778,
             "#fb9f3a"
            ],
            [
             0.8888888888888888,
             "#fdca26"
            ],
            [
             1,
             "#f0f921"
            ]
           ],
           "sequentialminus": [
            [
             0,
             "#0d0887"
            ],
            [
             0.1111111111111111,
             "#46039f"
            ],
            [
             0.2222222222222222,
             "#7201a8"
            ],
            [
             0.3333333333333333,
             "#9c179e"
            ],
            [
             0.4444444444444444,
             "#bd3786"
            ],
            [
             0.5555555555555556,
             "#d8576b"
            ],
            [
             0.6666666666666666,
             "#ed7953"
            ],
            [
             0.7777777777777778,
             "#fb9f3a"
            ],
            [
             0.8888888888888888,
             "#fdca26"
            ],
            [
             1,
             "#f0f921"
            ]
           ]
          },
          "colorway": [
           "#636efa",
           "#EF553B",
           "#00cc96",
           "#ab63fa",
           "#FFA15A",
           "#19d3f3",
           "#FF6692",
           "#B6E880",
           "#FF97FF",
           "#FECB52"
          ],
          "font": {
           "color": "#2a3f5f"
          },
          "geo": {
           "bgcolor": "white",
           "lakecolor": "white",
           "landcolor": "#E5ECF6",
           "showlakes": true,
           "showland": true,
           "subunitcolor": "white"
          },
          "hoverlabel": {
           "align": "left"
          },
          "hovermode": "closest",
          "mapbox": {
           "style": "light"
          },
          "paper_bgcolor": "white",
          "plot_bgcolor": "#E5ECF6",
          "polar": {
           "angularaxis": {
            "gridcolor": "white",
            "linecolor": "white",
            "ticks": ""
           },
           "bgcolor": "#E5ECF6",
           "radialaxis": {
            "gridcolor": "white",
            "linecolor": "white",
            "ticks": ""
           }
          },
          "scene": {
           "xaxis": {
            "backgroundcolor": "#E5ECF6",
            "gridcolor": "white",
            "gridwidth": 2,
            "linecolor": "white",
            "showbackground": true,
            "ticks": "",
            "zerolinecolor": "white"
           },
           "yaxis": {
            "backgroundcolor": "#E5ECF6",
            "gridcolor": "white",
            "gridwidth": 2,
            "linecolor": "white",
            "showbackground": true,
            "ticks": "",
            "zerolinecolor": "white"
           },
           "zaxis": {
            "backgroundcolor": "#E5ECF6",
            "gridcolor": "white",
            "gridwidth": 2,
            "linecolor": "white",
            "showbackground": true,
            "ticks": "",
            "zerolinecolor": "white"
           }
          },
          "shapedefaults": {
           "line": {
            "color": "#2a3f5f"
           }
          },
          "ternary": {
           "aaxis": {
            "gridcolor": "white",
            "linecolor": "white",
            "ticks": ""
           },
           "baxis": {
            "gridcolor": "white",
            "linecolor": "white",
            "ticks": ""
           },
           "bgcolor": "#E5ECF6",
           "caxis": {
            "gridcolor": "white",
            "linecolor": "white",
            "ticks": ""
           }
          },
          "title": {
           "x": 0.05
          },
          "xaxis": {
           "automargin": true,
           "gridcolor": "white",
           "linecolor": "white",
           "ticks": "",
           "title": {
            "standoff": 15
           },
           "zerolinecolor": "white",
           "zerolinewidth": 2
          },
          "yaxis": {
           "automargin": true,
           "gridcolor": "white",
           "linecolor": "white",
           "ticks": "",
           "title": {
            "standoff": 15
           },
           "zerolinecolor": "white",
           "zerolinewidth": 2
          }
         }
        },
        "title": {
         "font": {
          "color": "#4D5663"
         }
        },
        "xaxis": {
         "autorange": true,
         "gridcolor": "#E1E5ED",
         "range": [
          0,
          99
         ],
         "showgrid": true,
         "tickfont": {
          "color": "#4D5663"
         },
         "title": {
          "font": {
           "color": "#4D5663"
          },
          "text": ""
         },
         "type": "linear",
         "zerolinecolor": "#E1E5ED"
        },
        "xaxis2": {
         "anchor": "y2",
         "autorange": true,
         "gridcolor": "#E1E5ED",
         "range": [
          0,
          99
         ],
         "showgrid": true,
         "showticklabels": false,
         "tickfont": {
          "color": "#4D5663"
         },
         "title": {
          "font": {
           "color": "#4D5663"
          },
          "text": ""
         },
         "type": "linear",
         "zerolinecolor": "#E1E5ED"
        },
        "yaxis": {
         "autorange": true,
         "domain": [
          0.3,
          1
         ],
         "gridcolor": "#E1E5ED",
         "range": [
          -2.343887677380756,
          2.43141423292403
         ],
         "showgrid": true,
         "tickfont": {
          "color": "#4D5663"
         },
         "title": {
          "font": {
           "color": "#4D5663"
          },
          "text": ""
         },
         "type": "linear",
         "zerolinecolor": "#E1E5ED"
        },
        "yaxis2": {
         "autorange": true,
         "domain": [
          0,
          0.25
         ],
         "gridcolor": "#E1E5ED",
         "range": [
          -3.3418368440363984,
          3.4042216529945106
         ],
         "showgrid": true,
         "tickfont": {
          "color": "#4D5663"
         },
         "title": {
          "font": {
           "color": "#4D5663"
          },
          "text": "Spread"
         },
         "type": "linear",
         "zerolinecolor": "#E1E5ED"
        }
       }
      },
      "image/png": "[encoded data removed]",
      "text/html": [
       "<div>                            <div id=\"9b6b9e82-8b57-4e0f-b00f-08c5c1d94b11\" class=\"plotly-graph-div\" style=\"height:525px; width:100%;\"></div>            <script type=\"text/javascript\">                require([\"plotly\"], function(Plotly) {                    window.PLOTLYENV=window.PLOTLYENV || {};\n",
       "                    window.PLOTLYENV.BASE_URL='https://plot.ly';                                    if (document.getElementById(\"9b6b9e82-8b57-4e0f-b00f-08c5c1d94b11\")) {                    Plotly.newPlot(                        \"9b6b9e82-8b57-4e0f-b00f-08c5c1d94b11\",                        [{\"line\":{\"color\":\"rgba(255, 153, 51, 1.0)\",\"dash\":\"solid\",\"shape\":\"linear\",\"width\":1.3},\"mode\":\"lines\",\"name\":\"A\",\"text\":\"\",\"x\":[0,1,2,3,4,5,6,7,8,9,10,11,12,13,14,15,16,17,18,19,20,21,22,23,24,25,26,27,28,29,30,31,32,33,34,35,36,37,38,39,40,41,42,43,44,45,46,47,48,49,50,51,52,53,54,55,56,57,58,59,60,61,62,63,64,65,66,67,68,69,70,71,72,73,74,75,76,77,78,79,80,81,82,83,84,85,86,87,88,89,90,91,92,93,94,95,96,97,98,99],\"y\":[0.8869849113392575,-0.6964773634974851,0.7003725094248957,0.6608084726687465,1.7706764057755022,1.593145735885654,0.4740756469149725,0.6780606999675864,0.18401197953819318,-0.7649917952568512,0.9253634363763844,1.1118549199592058,-0.8433181578725014,-0.23664150329130548,-1.0992404617482978,0.28527338968743443,0.17481982564549223,1.3951250129856623,0.03590745163901755,-0.9594211851175032,-1.7179801807066248,0.9610755330564402,-0.21363215634783528,0.8804182323614378,0.1905342501740758,-0.4753432693912597,-0.1570437094027896,-0.9272609181058024,0.17515176239940475,-0.11926693582553309,0.6329377787337424,-0.6960379586458401,0.8072366409662378,1.0573006596282648,0.5262146051999136,-1.037271742531441,0.871425023776492,0.6875642804316112,-0.3209806553607807,-0.01897505420084429,1.1234988077597399,1.232420058647342,-0.4814980044587215,-0.35992966279024435,-0.3504136026398206,-0.0264638521470713,1.9455975191069528,0.7397424830525191,-1.3988662235783076,-0.6533021042995357,-1.0098839390042138,0.05158988935672315,-0.8885088323550191,1.3090023593260731,-0.4921751166128579,1.2562814695609659,-0.944489215550293,-0.9047929765159812,-0.16005070797481277,-0.3518748309386049,-0.6012147657777107,0.4833247270826448,-0.7995893120513355,0.6224446543722254,-0.09063609686494375,0.2828186976151058,1.298079370651083,0.60323067089413,0.9939326715694906,1.4930838976436456,-0.4027665687300486,-0.2607266448729439,-1.2535961981729813,0.9218123335954357,1.312062175830314,-0.9316561504008531,-0.61598560161817,-0.25100143532399877,0.4566927248840788,-0.9159752831190259,0.7377046809517973,-1.1626764129405016,-0.889391245298526,-0.6858184717161875,-0.09402072749499414,0.12562747120961676,0.09883684431670127,0.1865993291130212,-2.105122581865517,-1.5402416903738123,1.5094402807854603,-0.9361748837890781,0.12672444198158989,-1.589658407398841,-0.9996902030723225,0.12222138560129037,1.037829126734841,-1.0237728938148212,0.8129908238728943,-1.1735680529795158],\"type\":\"scatter\"},{\"line\":{\"color\":\"rgba(55, 128, 191, 1.0)\",\"dash\":\"solid\",\"shape\":\"linear\",\"width\":1.3},\"mode\":\"lines\",\"name\":\"B\",\"text\":\"\",\"x\":[0,1,2,3,4,5,6,7,8,9,10,11,12,13,14,15,16,17,18,19,20,21,22,23,24,25,26,27,28,29,30,31,32,33,34,35,36,37,38,39,40,41,42,43,44,45,46,47,48,49,50,51,52,53,54,55,56,57,58,59,60,61,62,63,64,65,66,67,68,69,70,71,72,73,74,75,76,77,78,79,80,81,82,83,84,85,86,87,88,89,90,91,92,93,94,95,96,97,98,99],\"y\":[-0.8333485300834292,-1.2766677713856172,0.32889268999764587,-0.7228597241406125,-1.088055170641722,-0.26454960727060933,-1.088746135103376,1.307311404250032,0.08031675927464546,0.02757860090171118,0.6518221207539567,0.7276482533339022,-1.1158078994176668,-0.05851343762871096,-0.779070280511317,0.6555944432816424,0.3795977680725507,0.6047485425267529,-1.245835389444955,0.5118554482170173,0.4007446062617446,-0.9762413226379608,0.23963149916481855,-0.08182559589104474,0.28026876924154154,0.593917640305292,-1.9595673096812394,-1.06511056321929,0.9918697122537389,0.3043350394672878,-0.2265403931323341,2.192649137408791,0.9174930299413948,0.8686827682351795,-0.9492012311313425,1.9138497364086406,-1.021402262388293,0.15575335857348221,-0.6085703602891364,0.7370588517740067,-0.327086277798017,1.1799615116593871,-0.35685566036595373,-1.175460976239832,0.31255342310921275,0.9897473343815354,0.9198781183889619,-0.7474006092799659,-0.856587496221934,-0.785034997454377,-0.12235515802115861,-1.786434990061692,0.5481592699594763,-1.274980280267999,0.696836476541588,-1.370492271925774,2.06004470363456,2.0468933823727764,0.21084208697464552,-0.12258782808995522,0.6403637734278632,-1.311325626456603,1.503641044788058,-1.078001719112831,1.3989747726854669,-1.616107252848288,-0.9637366722446397,0.10514432242328021,-0.35714686741413504,1.306610500270275,1.0975979363582071,1.6273028114379513,0.0019938966806490165,0.369738032875827,0.6194225065626668,-0.6008423439289713,0.5994305624114238,0.1278850553222134,0.1993287048843189,-0.9900196451938488,-0.0030251013458408673,0.6231686049789226,0.05503581719741051,-0.08273659707165258,-0.2576366521809987,-0.30204557671675586,0.501843752794459,-0.08670464369271894,0.4723263552701553,0.5855339910336078,-1.557478447357505,1.169546362591803,1.8645090896560506,-0.08712959822128583,-1.1493323961227986,0.29210214535966844,0.6546376109394556,-0.6030391008507462,-0.5090505082959106,-1.0319222234727223],\"type\":\"scatter\"},{\"connectgaps\":false,\"fill\":\"tozeroy\",\"line\":{\"color\":\"green\",\"dash\":\"solid\",\"shape\":\"linear\",\"width\":0.5},\"mode\":\"lines\",\"name\":\"Spread\",\"showlegend\":false,\"x\":[0,1,2,3,4,5,6,7,8,9,10,11,12,13,14,15,16,17,18,19,20,21,22,23,24,25,26,27,28,29,30,31,32,33,34,35,36,37,38,39,40,41,42,43,44,45,46,47,48,49,50,51,52,53,54,55,56,57,58,59,60,61,62,63,64,65,66,67,68,69,70,71,72,73,74,75,76,77,78,79,80,81,82,83,84,85,86,87,88,89,90,91,92,93,94,95,96,97,98,99],\"xaxis\":\"x2\",\"y\":[1.7203334414226867,0.580190407888132,0.37147981942724984,1.3836681968093592,2.8587315764172243,1.8576953431562633,1.5628217820183485,\"\",0.10369522026354772,\"\",0.27354131562242767,0.38420666662530367,0.27248974154516536,\"\",\"\",\"\",\"\",0.7903764704589094,1.2817428410839726,\"\",\"\",1.9373168556944012,\"\",0.9622438282524826,\"\",\"\",1.8025236002784497,0.13784964511348774,\"\",\"\",0.8594781718660764,\"\",\"\",0.18861789139308527,1.4754158363312562,\"\",1.892827286164785,0.5318109218581291,0.28758970492835567,\"\",1.450585085557757,0.052458546987954824,\"\",0.8155313134495876,\"\",\"\",1.0257194007179908,1.4871430923324849,\"\",0.13173289315484127,\"\",1.8380248794184153,\"\",2.583982639594072,\"\",2.6267737414867396,\"\",\"\",\"\",\"\",\"\",1.794650353539248,\"\",1.7004463734850566,\"\",1.898925950463394,2.2618160428957226,0.49808634847084976,1.3510795389836256,0.18647339737337054,\"\",\"\",\"\",0.5520743007196087,0.6926396692676471,\"\",\"\",\"\",0.2573640199997599,0.0740443620748229,0.7407297822976382,\"\",\"\",\"\",0.16361592468600455,0.4276730479263726,\"\",0.27330397280574015,\"\",\"\",3.0669187281429653,\"\",\"\",\"\",0.1496421930504761,\"\",0.38319151579538535,\"\",1.322041332168805,\"\"],\"yaxis\":\"y2\",\"type\":\"scatter\"},{\"connectgaps\":false,\"fill\":\"tozeroy\",\"line\":{\"color\":\"red\",\"dash\":\"solid\",\"shape\":\"linear\",\"width\":0.5},\"mode\":\"lines\",\"name\":\"Spread\",\"showlegend\":false,\"x\":[0,1,2,3,4,5,6,7,8,9,10,11,12,13,14,15,16,17,18,19,20,21,22,23,24,25,26,27,28,29,30,31,32,33,34,35,36,37,38,39,40,41,42,43,44,45,46,47,48,49,50,51,52,53,54,55,56,57,58,59,60,61,62,63,64,65,66,67,68,69,70,71,72,73,74,75,76,77,78,79,80,81,82,83,84,85,86,87,88,89,90,91,92,93,94,95,96,97,98,99],\"xaxis\":\"x2\",\"y\":[\"\",\"\",\"\",\"\",\"\",\"\",\"\",-0.6292507042824456,\"\",-0.7925703961585624,\"\",\"\",\"\",-0.17812806566259454,-0.3201701812369808,-0.37032105359420797,-0.20477794242705846,\"\",\"\",-1.4712766333345204,-2.1187247869683694,\"\",-0.4532636555126538,\"\",-0.08973451906746574,-1.0692609096965517,\"\",\"\",-0.8167179498543341,-0.4236019752928209,\"\",-2.888687096054631,-0.110256388975157,\"\",\"\",-2.951121478940082,\"\",\"\",\"\",-0.756033905974851,\"\",\"\",-0.12464234409276775,\"\",-0.6629670257490333,-1.0162111865286068,\"\",\"\",-0.5422787273563736,\"\",-0.8875287809830552,\"\",-1.4366681023144954,\"\",-1.1890115931544458,\"\",-3.004533919184853,-2.9516863588887574,-0.37089279494945826,-0.22928700284864967,-1.241578539205574,\"\",-2.3032303568393937,\"\",-1.4896108695504107,\"\",\"\",\"\",\"\",\"\",-1.5003645050882557,-1.8880294563108952,-1.2555900948536303,\"\",\"\",-0.33081380647188185,-1.2154161640295937,-0.37888649064621216,\"\",\"\",\"\",-1.7858450179194243,-0.9444270624959364,-0.6030818746445349,\"\",\"\",-0.4030069084777578,\"\",-2.577448937135672,-2.1257756814074202,\"\",-2.105721246380881,-1.7377846476744607,-1.502528809177555,\"\",-0.16988075975837807,\"\",-0.420733792964075,\"\",-0.1416458295067935],\"yaxis\":\"y2\",\"type\":\"scatter\"}],                        {\"hovermode\":\"x\",\"legend\":{\"bgcolor\":\"#F5F6F9\",\"font\":{\"color\":\"#4D5663\"}},\"paper_bgcolor\":\"#F5F6F9\",\"plot_bgcolor\":\"#F5F6F9\",\"template\":{\"data\":{\"barpolar\":[{\"marker\":{\"line\":{\"color\":\"#E5ECF6\",\"width\":0.5},\"pattern\":{\"fillmode\":\"overlay\",\"size\":10,\"solidity\":0.2}},\"type\":\"barpolar\"}],\"bar\":[{\"error_x\":{\"color\":\"#2a3f5f\"},\"error_y\":{\"color\":\"#2a3f5f\"},\"marker\":{\"line\":{\"color\":\"#E5ECF6\",\"width\":0.5},\"pattern\":{\"fillmode\":\"overlay\",\"size\":10,\"solidity\":0.2}},\"type\":\"bar\"}],\"carpet\":[{\"aaxis\":{\"endlinecolor\":\"#2a3f5f\",\"gridcolor\":\"white\",\"linecolor\":\"white\",\"minorgridcolor\":\"white\",\"startlinecolor\":\"#2a3f5f\"},\"baxis\":{\"endlinecolor\":\"#2a3f5f\",\"gridcolor\":\"white\",\"linecolor\":\"white\",\"minorgridcolor\":\"white\",\"startlinecolor\":\"#2a3f5f\"},\"type\":\"carpet\"}],\"choropleth\":[{\"colorbar\":{\"outlinewidth\":0,\"ticks\":\"\"},\"type\":\"choropleth\"}],\"contourcarpet\":[{\"colorbar\":{\"outlinewidth\":0,\"ticks\":\"\"},\"type\":\"contourcarpet\"}],\"contour\":[{\"colorbar\":{\"outlinewidth\":0,\"ticks\":\"\"},\"colorscale\":[[0.0,\"#0d0887\"],[0.1111111111111111,\"#46039f\"],[0.2222222222222222,\"#7201a8\"],[0.3333333333333333,\"#9c179e\"],[0.4444444444444444,\"#bd3786\"],[0.5555555555555556,\"#d8576b\"],[0.6666666666666666,\"#ed7953\"],[0.7777777777777778,\"#fb9f3a\"],[0.8888888888888888,\"#fdca26\"],[1.0,\"#f0f921\"]],\"type\":\"contour\"}],\"heatmapgl\":[{\"colorbar\":{\"outlinewidth\":0,\"ticks\":\"\"},\"colorscale\":[[0.0,\"#0d0887\"],[0.1111111111111111,\"#46039f\"],[0.2222222222222222,\"#7201a8\"],[0.3333333333333333,\"#9c179e\"],[0.4444444444444444,\"#bd3786\"],[0.5555555555555556,\"#d8576b\"],[0.6666666666666666,\"#ed7953\"],[0.7777777777777778,\"#fb9f3a\"],[0.8888888888888888,\"#fdca26\"],[1.0,\"#f0f921\"]],\"type\":\"heatmapgl\"}],\"heatmap\":[{\"colorbar\":{\"outlinewidth\":0,\"ticks\":\"\"},\"colorscale\":[[0.0,\"#0d0887\"],[0.1111111111111111,\"#46039f\"],[0.2222222222222222,\"#7201a8\"],[0.3333333333333333,\"#9c179e\"],[0.4444444444444444,\"#bd3786\"],[0.5555555555555556,\"#d8576b\"],[0.6666666666666666,\"#ed7953\"],[0.7777777777777778,\"#fb9f3a\"],[0.8888888888888888,\"#fdca26\"],[1.0,\"#f0f921\"]],\"type\":\"heatmap\"}],\"histogram2dcontour\":[{\"colorbar\":{\"outlinewidth\":0,\"ticks\":\"\"},\"colorscale\":[[0.0,\"#0d0887\"],[0.1111111111111111,\"#46039f\"],[0.2222222222222222,\"#7201a8\"],[0.3333333333333333,\"#9c179e\"],[0.4444444444444444,\"#bd3786\"],[0.5555555555555556,\"#d8576b\"],[0.6666666666666666,\"#ed7953\"],[0.7777777777777778,\"#fb9f3a\"],[0.8888888888888888,\"#fdca26\"],[1.0,\"#f0f921\"]],\"type\":\"histogram2dcontour\"}],\"histogram2d\":[{\"colorbar\":{\"outlinewidth\":0,\"ticks\":\"\"},\"colorscale\":[[0.0,\"#0d0887\"],[0.1111111111111111,\"#46039f\"],[0.2222222222222222,\"#7201a8\"],[0.3333333333333333,\"#9c179e\"],[0.4444444444444444,\"#bd3786\"],[0.5555555555555556,\"#d8576b\"],[0.6666666666666666,\"#ed7953\"],[0.7777777777777778,\"#fb9f3a\"],[0.8888888888888888,\"#fdca26\"],[1.0,\"#f0f921\"]],\"type\":\"histogram2d\"}],\"histogram\":[{\"marker\":{\"pattern\":{\"fillmode\":\"overlay\",\"size\":10,\"solidity\":0.2}},\"type\":\"histogram\"}],\"mesh3d\":[{\"colorbar\":{\"outlinewidth\":0,\"ticks\":\"\"},\"type\":\"mesh3d\"}],\"parcoords\":[{\"line\":{\"colorbar\":{\"outlinewidth\":0,\"ticks\":\"\"}},\"type\":\"parcoords\"}],\"pie\":[{\"automargin\":true,\"type\":\"pie\"}],\"scatter3d\":[{\"line\":{\"colorbar\":{\"outlinewidth\":0,\"ticks\":\"\"}},\"marker\":{\"colorbar\":{\"outlinewidth\":0,\"ticks\":\"\"}},\"type\":\"scatter3d\"}],\"scattercarpet\":[{\"marker\":{\"colorbar\":{\"outlinewidth\":0,\"ticks\":\"\"}},\"type\":\"scattercarpet\"}],\"scattergeo\":[{\"marker\":{\"colorbar\":{\"outlinewidth\":0,\"ticks\":\"\"}},\"type\":\"scattergeo\"}],\"scattergl\":[{\"marker\":{\"colorbar\":{\"outlinewidth\":0,\"ticks\":\"\"}},\"type\":\"scattergl\"}],\"scattermapbox\":[{\"marker\":{\"colorbar\":{\"outlinewidth\":0,\"ticks\":\"\"}},\"type\":\"scattermapbox\"}],\"scatterpolargl\":[{\"marker\":{\"colorbar\":{\"outlinewidth\":0,\"ticks\":\"\"}},\"type\":\"scatterpolargl\"}],\"scatterpolar\":[{\"marker\":{\"colorbar\":{\"outlinewidth\":0,\"ticks\":\"\"}},\"type\":\"scatterpolar\"}],\"scatter\":[{\"marker\":{\"colorbar\":{\"outlinewidth\":0,\"ticks\":\"\"}},\"type\":\"scatter\"}],\"scatterternary\":[{\"marker\":{\"colorbar\":{\"outlinewidth\":0,\"ticks\":\"\"}},\"type\":\"scatterternary\"}],\"surface\":[{\"colorbar\":{\"outlinewidth\":0,\"ticks\":\"\"},\"colorscale\":[[0.0,\"#0d0887\"],[0.1111111111111111,\"#46039f\"],[0.2222222222222222,\"#7201a8\"],[0.3333333333333333,\"#9c179e\"],[0.4444444444444444,\"#bd3786\"],[0.5555555555555556,\"#d8576b\"],[0.6666666666666666,\"#ed7953\"],[0.7777777777777778,\"#fb9f3a\"],[0.8888888888888888,\"#fdca26\"],[1.0,\"#f0f921\"]],\"type\":\"surface\"}],\"table\":[{\"cells\":{\"fill\":{\"color\":\"#EBF0F8\"},\"line\":{\"color\":\"white\"}},\"header\":{\"fill\":{\"color\":\"#C8D4E3\"},\"line\":{\"color\":\"white\"}},\"type\":\"table\"}]},\"layout\":{\"annotationdefaults\":{\"arrowcolor\":\"#2a3f5f\",\"arrowhead\":0,\"arrowwidth\":1},\"autotypenumbers\":\"strict\",\"coloraxis\":{\"colorbar\":{\"outlinewidth\":0,\"ticks\":\"\"}},\"colorscale\":{\"diverging\":[[0,\"#8e0152\"],[0.1,\"#c51b7d\"],[0.2,\"#de77ae\"],[0.3,\"#f1b6da\"],[0.4,\"#fde0ef\"],[0.5,\"#f7f7f7\"],[0.6,\"#e6f5d0\"],[0.7,\"#b8e186\"],[0.8,\"#7fbc41\"],[0.9,\"#4d9221\"],[1,\"#276419\"]],\"sequential\":[[0.0,\"#0d0887\"],[0.1111111111111111,\"#46039f\"],[0.2222222222222222,\"#7201a8\"],[0.3333333333333333,\"#9c179e\"],[0.4444444444444444,\"#bd3786\"],[0.5555555555555556,\"#d8576b\"],[0.6666666666666666,\"#ed7953\"],[0.7777777777777778,\"#fb9f3a\"],[0.8888888888888888,\"#fdca26\"],[1.0,\"#f0f921\"]],\"sequentialminus\":[[0.0,\"#0d0887\"],[0.1111111111111111,\"#46039f\"],[0.2222222222222222,\"#7201a8\"],[0.3333333333333333,\"#9c179e\"],[0.4444444444444444,\"#bd3786\"],[0.5555555555555556,\"#d8576b\"],[0.6666666666666666,\"#ed7953\"],[0.7777777777777778,\"#fb9f3a\"],[0.8888888888888888,\"#fdca26\"],[1.0,\"#f0f921\"]]},\"colorway\":[\"#636efa\",\"#EF553B\",\"#00cc96\",\"#ab63fa\",\"#FFA15A\",\"#19d3f3\",\"#FF6692\",\"#B6E880\",\"#FF97FF\",\"#FECB52\"],\"font\":{\"color\":\"#2a3f5f\"},\"geo\":{\"bgcolor\":\"white\",\"lakecolor\":\"white\",\"landcolor\":\"#E5ECF6\",\"showlakes\":true,\"showland\":true,\"subunitcolor\":\"white\"},\"hoverlabel\":{\"align\":\"left\"},\"hovermode\":\"closest\",\"mapbox\":{\"style\":\"light\"},\"paper_bgcolor\":\"white\",\"plot_bgcolor\":\"#E5ECF6\",\"polar\":{\"angularaxis\":{\"gridcolor\":\"white\",\"linecolor\":\"white\",\"ticks\":\"\"},\"bgcolor\":\"#E5ECF6\",\"radialaxis\":{\"gridcolor\":\"white\",\"linecolor\":\"white\",\"ticks\":\"\"}},\"scene\":{\"xaxis\":{\"backgroundcolor\":\"#E5ECF6\",\"gridcolor\":\"white\",\"gridwidth\":2,\"linecolor\":\"white\",\"showbackground\":true,\"ticks\":\"\",\"zerolinecolor\":\"white\"},\"yaxis\":{\"backgroundcolor\":\"#E5ECF6\",\"gridcolor\":\"white\",\"gridwidth\":2,\"linecolor\":\"white\",\"showbackground\":true,\"ticks\":\"\",\"zerolinecolor\":\"white\"},\"zaxis\":{\"backgroundcolor\":\"#E5ECF6\",\"gridcolor\":\"white\",\"gridwidth\":2,\"linecolor\":\"white\",\"showbackground\":true,\"ticks\":\"\",\"zerolinecolor\":\"white\"}},\"shapedefaults\":{\"line\":{\"color\":\"#2a3f5f\"}},\"ternary\":{\"aaxis\":{\"gridcolor\":\"white\",\"linecolor\":\"white\",\"ticks\":\"\"},\"baxis\":{\"gridcolor\":\"white\",\"linecolor\":\"white\",\"ticks\":\"\"},\"bgcolor\":\"#E5ECF6\",\"caxis\":{\"gridcolor\":\"white\",\"linecolor\":\"white\",\"ticks\":\"\"}},\"title\":{\"x\":0.05},\"xaxis\":{\"automargin\":true,\"gridcolor\":\"white\",\"linecolor\":\"white\",\"ticks\":\"\",\"title\":{\"standoff\":15},\"zerolinecolor\":\"white\",\"zerolinewidth\":2},\"yaxis\":{\"automargin\":true,\"gridcolor\":\"white\",\"linecolor\":\"white\",\"ticks\":\"\",\"title\":{\"standoff\":15},\"zerolinecolor\":\"white\",\"zerolinewidth\":2}}},\"title\":{\"font\":{\"color\":\"#4D5663\"}},\"xaxis\":{\"gridcolor\":\"#E1E5ED\",\"showgrid\":true,\"tickfont\":{\"color\":\"#4D5663\"},\"title\":{\"font\":{\"color\":\"#4D5663\"},\"text\":\"\"},\"zerolinecolor\":\"#E1E5ED\"},\"yaxis\":{\"domain\":[0.3,1],\"gridcolor\":\"#E1E5ED\",\"showgrid\":true,\"tickfont\":{\"color\":\"#4D5663\"},\"title\":{\"font\":{\"color\":\"#4D5663\"},\"text\":\"\"},\"zerolinecolor\":\"#E1E5ED\"},\"yaxis2\":{\"domain\":[0,0.25],\"gridcolor\":\"#E1E5ED\",\"showgrid\":true,\"tickfont\":{\"color\":\"#4D5663\"},\"title\":{\"font\":{\"color\":\"#4D5663\"},\"text\":\"Spread\"},\"zerolinecolor\":\"#E1E5ED\"},\"xaxis2\":{\"anchor\":\"y2\",\"gridcolor\":\"#E1E5ED\",\"showgrid\":true,\"showticklabels\":false,\"tickfont\":{\"color\":\"#4D5663\"},\"title\":{\"font\":{\"color\":\"#4D5663\"},\"text\":\"\"},\"zerolinecolor\":\"#E1E5ED\"}},                        {\"showLink\": true, \"linkText\": \"Export to plot.ly\", \"plotlyServerURL\": \"https://plot.ly\", \"responsive\": true}                    ).then(function(){\n",
       "                            \n",
       "var gd = document.getElementById('9b6b9e82-8b57-4e0f-b00f-08c5c1d94b11');\n",
       "var x = new MutationObserver(function (mutations, observer) {{\n",
       "        var display = window.getComputedStyle(gd).display;\n",
       "        if (!display || display === 'none') {{\n",
       "            console.log([gd, 'removed!']);\n",
       "            Plotly.purge(gd);\n",
       "            observer.disconnect();\n",
       "        }}\n",
       "}});\n",
       "\n",
       "// Listen for the removal of the full notebook cells\n",
       "var notebookContainer = gd.closest('#notebook-container');\n",
       "if (notebookContainer) {{\n",
       "    x.observe(notebookContainer, {childList: true});\n",
       "}}\n",
       "\n",
       "// Listen for the clearing of the current output cell\n",
       "var outputEl = gd.closest('.output');\n",
       "if (outputEl) {{\n",
       "    x.observe(outputEl, {childList: true});\n",
       "}}\n",
       "\n",
       "                        })                };                });            </script>        </div>"
      ]
     },
     "metadata": {},
     "output_type": "display_data"
    }
   ],
   "source": [
    "df[['A','B']].iplot(kind='spread')"
   ]
  },
  {
   "cell_type": "markdown",
   "metadata": {},
   "source": [
    "## histogram"
   ]
  },
  {
   "cell_type": "code",
   "execution_count": 26,
   "metadata": {
    "collapsed": false,
    "jupyter": {
     "outputs_hidden": false
    }
   },
   "outputs": [
    {
     "data": {
      "application/vnd.plotly.v1+json": {
       "config": {
        "linkText": "Export to plot.ly",
        "plotlyServerURL": "https://plot.ly",
        "showLink": true
       },
       "data": [
        {
         "histfunc": "count",
         "histnorm": "",
         "marker": {
          "color": "rgba(255, 153, 51, 1.0)",
          "line": {
           "color": "#4D5663",
           "width": 1.3
          }
         },
         "name": "A",
         "nbinsx": 25,
         "opacity": 0.8,
         "orientation": "v",
         "type": "histogram",
         "x": [
          0.8869849113392575,
          -0.6964773634974851,
          0.7003725094248957,
          0.6608084726687465,
          1.7706764057755022,
          1.593145735885654,
          0.4740756469149725,
          0.6780606999675864,
          0.18401197953819318,
          -0.7649917952568512,
          0.9253634363763844,
          1.1118549199592058,
          -0.8433181578725014,
          -0.23664150329130548,
          -1.0992404617482978,
          0.28527338968743443,
          0.17481982564549223,
          1.3951250129856623,
          0.03590745163901755,
          -0.9594211851175032,
          -1.7179801807066248,
          0.9610755330564402,
          -0.21363215634783528,
          0.8804182323614378,
          0.1905342501740758,
          -0.4753432693912597,
          -0.1570437094027896,
          -0.9272609181058024,
          0.17515176239940475,
          -0.11926693582553309,
          0.6329377787337424,
          -0.6960379586458401,
          0.8072366409662378,
          1.0573006596282648,
          0.5262146051999136,
          -1.037271742531441,
          0.871425023776492,
          0.6875642804316112,
          -0.3209806553607807,
          -0.01897505420084429,
          1.1234988077597399,
          1.232420058647342,
          -0.4814980044587215,
          -0.35992966279024435,
          -0.3504136026398206,
          -0.0264638521470713,
          1.9455975191069528,
          0.7397424830525191,
          -1.3988662235783076,
          -0.6533021042995357,
          -1.0098839390042138,
          0.05158988935672315,
          -0.8885088323550191,
          1.3090023593260731,
          -0.4921751166128579,
          1.2562814695609659,
          -0.944489215550293,
          -0.9047929765159812,
          -0.16005070797481277,
          -0.3518748309386049,
          -0.6012147657777107,
          0.4833247270826448,
          -0.7995893120513355,
          0.6224446543722254,
          -0.09063609686494375,
          0.2828186976151058,
          1.298079370651083,
          0.60323067089413,
          0.9939326715694906,
          1.4930838976436456,
          -0.4027665687300486,
          -0.2607266448729439,
          -1.2535961981729813,
          0.9218123335954357,
          1.312062175830314,
          -0.9316561504008531,
          -0.61598560161817,
          -0.25100143532399877,
          0.4566927248840788,
          -0.9159752831190259,
          0.7377046809517973,
          -1.1626764129405016,
          -0.889391245298526,
          -0.6858184717161875,
          -0.09402072749499414,
          0.12562747120961676,
          0.09883684431670127,
          0.1865993291130212,
          -2.105122581865517,
          -1.5402416903738123,
          1.5094402807854603,
          -0.9361748837890781,
          0.12672444198158989,
          -1.589658407398841,
          -0.9996902030723225,
          0.12222138560129037,
          1.037829126734841,
          -1.0237728938148212,
          0.8129908238728943,
          -1.1735680529795158
         ]
        }
       ],
       "layout": {
        "autosize": true,
        "barmode": "overlay",
        "legend": {
         "bgcolor": "#F5F6F9",
         "font": {
          "color": "#4D5663"
         }
        },
        "paper_bgcolor": "#F5F6F9",
        "plot_bgcolor": "#F5F6F9",
        "template": {
         "data": {
          "bar": [
           {
            "error_x": {
             "color": "#2a3f5f"
            },
            "error_y": {
             "color": "#2a3f5f"
            },
            "marker": {
             "line": {
              "color": "#E5ECF6",
              "width": 0.5
             },
             "pattern": {
              "fillmode": "overlay",
              "size": 10,
              "solidity": 0.2
             }
            },
            "type": "bar"
           }
          ],
          "barpolar": [
           {
            "marker": {
             "line": {
              "color": "#E5ECF6",
              "width": 0.5
             },
             "pattern": {
              "fillmode": "overlay",
              "size": 10,
              "solidity": 0.2
             }
            },
            "type": "barpolar"
           }
          ],
          "carpet": [
           {
            "aaxis": {
             "endlinecolor": "#2a3f5f",
             "gridcolor": "white",
             "linecolor": "white",
             "minorgridcolor": "white",
             "startlinecolor": "#2a3f5f"
            },
            "baxis": {
             "endlinecolor": "#2a3f5f",
             "gridcolor": "white",
             "linecolor": "white",
             "minorgridcolor": "white",
             "startlinecolor": "#2a3f5f"
            },
            "type": "carpet"
           }
          ],
          "choropleth": [
           {
            "colorbar": {
             "outlinewidth": 0,
             "ticks": ""
            },
            "type": "choropleth"
           }
          ],
          "contour": [
           {
            "colorbar": {
             "outlinewidth": 0,
             "ticks": ""
            },
            "colorscale": [
             [
              0,
              "#0d0887"
             ],
             [
              0.1111111111111111,
              "#46039f"
             ],
             [
              0.2222222222222222,
              "#7201a8"
             ],
             [
              0.3333333333333333,
              "#9c179e"
             ],
             [
              0.4444444444444444,
              "#bd3786"
             ],
             [
              0.5555555555555556,
              "#d8576b"
             ],
             [
              0.6666666666666666,
              "#ed7953"
             ],
             [
              0.7777777777777778,
              "#fb9f3a"
             ],
             [
              0.8888888888888888,
              "#fdca26"
             ],
             [
              1,
              "#f0f921"
             ]
            ],
            "type": "contour"
           }
          ],
          "contourcarpet": [
           {
            "colorbar": {
             "outlinewidth": 0,
             "ticks": ""
            },
            "type": "contourcarpet"
           }
          ],
          "heatmap": [
           {
            "colorbar": {
             "outlinewidth": 0,
             "ticks": ""
            },
            "colorscale": [
             [
              0,
              "#0d0887"
             ],
             [
              0.1111111111111111,
              "#46039f"
             ],
             [
              0.2222222222222222,
              "#7201a8"
             ],
             [
              0.3333333333333333,
              "#9c179e"
             ],
             [
              0.4444444444444444,
              "#bd3786"
             ],
             [
              0.5555555555555556,
              "#d8576b"
             ],
             [
              0.6666666666666666,
              "#ed7953"
             ],
             [
              0.7777777777777778,
              "#fb9f3a"
             ],
             [
              0.8888888888888888,
              "#fdca26"
             ],
             [
              1,
              "#f0f921"
             ]
            ],
            "type": "heatmap"
           }
          ],
          "heatmapgl": [
           {
            "colorbar": {
             "outlinewidth": 0,
             "ticks": ""
            },
            "colorscale": [
             [
              0,
              "#0d0887"
             ],
             [
              0.1111111111111111,
              "#46039f"
             ],
             [
              0.2222222222222222,
              "#7201a8"
             ],
             [
              0.3333333333333333,
              "#9c179e"
             ],
             [
              0.4444444444444444,
              "#bd3786"
             ],
             [
              0.5555555555555556,
              "#d8576b"
             ],
             [
              0.6666666666666666,
              "#ed7953"
             ],
             [
              0.7777777777777778,
              "#fb9f3a"
             ],
             [
              0.8888888888888888,
              "#fdca26"
             ],
             [
              1,
              "#f0f921"
             ]
            ],
            "type": "heatmapgl"
           }
          ],
          "histogram": [
           {
            "marker": {
             "pattern": {
              "fillmode": "overlay",
              "size": 10,
              "solidity": 0.2
             }
            },
            "type": "histogram"
           }
          ],
          "histogram2d": [
           {
            "colorbar": {
             "outlinewidth": 0,
             "ticks": ""
            },
            "colorscale": [
             [
              0,
              "#0d0887"
             ],
             [
              0.1111111111111111,
              "#46039f"
             ],
             [
              0.2222222222222222,
              "#7201a8"
             ],
             [
              0.3333333333333333,
              "#9c179e"
             ],
             [
              0.4444444444444444,
              "#bd3786"
             ],
             [
              0.5555555555555556,
              "#d8576b"
             ],
             [
              0.6666666666666666,
              "#ed7953"
             ],
             [
              0.7777777777777778,
              "#fb9f3a"
             ],
             [
              0.8888888888888888,
              "#fdca26"
             ],
             [
              1,
              "#f0f921"
             ]
            ],
            "type": "histogram2d"
           }
          ],
          "histogram2dcontour": [
           {
            "colorbar": {
             "outlinewidth": 0,
             "ticks": ""
            },
            "colorscale": [
             [
              0,
              "#0d0887"
             ],
             [
              0.1111111111111111,
              "#46039f"
             ],
             [
              0.2222222222222222,
              "#7201a8"
             ],
             [
              0.3333333333333333,
              "#9c179e"
             ],
             [
              0.4444444444444444,
              "#bd3786"
             ],
             [
              0.5555555555555556,
              "#d8576b"
             ],
             [
              0.6666666666666666,
              "#ed7953"
             ],
             [
              0.7777777777777778,
              "#fb9f3a"
             ],
             [
              0.8888888888888888,
              "#fdca26"
             ],
             [
              1,
              "#f0f921"
             ]
            ],
            "type": "histogram2dcontour"
           }
          ],
          "mesh3d": [
           {
            "colorbar": {
             "outlinewidth": 0,
             "ticks": ""
            },
            "type": "mesh3d"
           }
          ],
          "parcoords": [
           {
            "line": {
             "colorbar": {
              "outlinewidth": 0,
              "ticks": ""
             }
            },
            "type": "parcoords"
           }
          ],
          "pie": [
           {
            "automargin": true,
            "type": "pie"
           }
          ],
          "scatter": [
           {
            "marker": {
             "colorbar": {
              "outlinewidth": 0,
              "ticks": ""
             }
            },
            "type": "scatter"
           }
          ],
          "scatter3d": [
           {
            "line": {
             "colorbar": {
              "outlinewidth": 0,
              "ticks": ""
             }
            },
            "marker": {
             "colorbar": {
              "outlinewidth": 0,
              "ticks": ""
             }
            },
            "type": "scatter3d"
           }
          ],
          "scattercarpet": [
           {
            "marker": {
             "colorbar": {
              "outlinewidth": 0,
              "ticks": ""
             }
            },
            "type": "scattercarpet"
           }
          ],
          "scattergeo": [
           {
            "marker": {
             "colorbar": {
              "outlinewidth": 0,
              "ticks": ""
             }
            },
            "type": "scattergeo"
           }
          ],
          "scattergl": [
           {
            "marker": {
             "colorbar": {
              "outlinewidth": 0,
              "ticks": ""
             }
            },
            "type": "scattergl"
           }
          ],
          "scattermapbox": [
           {
            "marker": {
             "colorbar": {
              "outlinewidth": 0,
              "ticks": ""
             }
            },
            "type": "scattermapbox"
           }
          ],
          "scatterpolar": [
           {
            "marker": {
             "colorbar": {
              "outlinewidth": 0,
              "ticks": ""
             }
            },
            "type": "scatterpolar"
           }
          ],
          "scatterpolargl": [
           {
            "marker": {
             "colorbar": {
              "outlinewidth": 0,
              "ticks": ""
             }
            },
            "type": "scatterpolargl"
           }
          ],
          "scatterternary": [
           {
            "marker": {
             "colorbar": {
              "outlinewidth": 0,
              "ticks": ""
             }
            },
            "type": "scatterternary"
           }
          ],
          "surface": [
           {
            "colorbar": {
             "outlinewidth": 0,
             "ticks": ""
            },
            "colorscale": [
             [
              0,
              "#0d0887"
             ],
             [
              0.1111111111111111,
              "#46039f"
             ],
             [
              0.2222222222222222,
              "#7201a8"
             ],
             [
              0.3333333333333333,
              "#9c179e"
             ],
             [
              0.4444444444444444,
              "#bd3786"
             ],
             [
              0.5555555555555556,
              "#d8576b"
             ],
             [
              0.6666666666666666,
              "#ed7953"
             ],
             [
              0.7777777777777778,
              "#fb9f3a"
             ],
             [
              0.8888888888888888,
              "#fdca26"
             ],
             [
              1,
              "#f0f921"
             ]
            ],
            "type": "surface"
           }
          ],
          "table": [
           {
            "cells": {
             "fill": {
              "color": "#EBF0F8"
             },
             "line": {
              "color": "white"
             }
            },
            "header": {
             "fill": {
              "color": "#C8D4E3"
             },
             "line": {
              "color": "white"
             }
            },
            "type": "table"
           }
          ]
         },
         "layout": {
          "annotationdefaults": {
           "arrowcolor": "#2a3f5f",
           "arrowhead": 0,
           "arrowwidth": 1
          },
          "autotypenumbers": "strict",
          "coloraxis": {
           "colorbar": {
            "outlinewidth": 0,
            "ticks": ""
           }
          },
          "colorscale": {
           "diverging": [
            [
             0,
             "#8e0152"
            ],
            [
             0.1,
             "#c51b7d"
            ],
            [
             0.2,
             "#de77ae"
            ],
            [
             0.3,
             "#f1b6da"
            ],
            [
             0.4,
             "#fde0ef"
            ],
            [
             0.5,
             "#f7f7f7"
            ],
            [
             0.6,
             "#e6f5d0"
            ],
            [
             0.7,
             "#b8e186"
            ],
            [
             0.8,
             "#7fbc41"
            ],
            [
             0.9,
             "#4d9221"
            ],
            [
             1,
             "#276419"
            ]
           ],
           "sequential": [
            [
             0,
             "#0d0887"
            ],
            [
             0.1111111111111111,
             "#46039f"
            ],
            [
             0.2222222222222222,
             "#7201a8"
            ],
            [
             0.3333333333333333,
             "#9c179e"
            ],
            [
             0.4444444444444444,
             "#bd3786"
            ],
            [
             0.5555555555555556,
             "#d8576b"
            ],
            [
             0.6666666666666666,
             "#ed7953"
            ],
            [
             0.7777777777777778,
             "#fb9f3a"
            ],
            [
             0.8888888888888888,
             "#fdca26"
            ],
            [
             1,
             "#f0f921"
            ]
           ],
           "sequentialminus": [
            [
             0,
             "#0d0887"
            ],
            [
             0.1111111111111111,
             "#46039f"
            ],
            [
             0.2222222222222222,
             "#7201a8"
            ],
            [
             0.3333333333333333,
             "#9c179e"
            ],
            [
             0.4444444444444444,
             "#bd3786"
            ],
            [
             0.5555555555555556,
             "#d8576b"
            ],
            [
             0.6666666666666666,
             "#ed7953"
            ],
            [
             0.7777777777777778,
             "#fb9f3a"
            ],
            [
             0.8888888888888888,
             "#fdca26"
            ],
            [
             1,
             "#f0f921"
            ]
           ]
          },
          "colorway": [
           "#636efa",
           "#EF553B",
           "#00cc96",
           "#ab63fa",
           "#FFA15A",
           "#19d3f3",
           "#FF6692",
           "#B6E880",
           "#FF97FF",
           "#FECB52"
          ],
          "font": {
           "color": "#2a3f5f"
          },
          "geo": {
           "bgcolor": "white",
           "lakecolor": "white",
           "landcolor": "#E5ECF6",
           "showlakes": true,
           "showland": true,
           "subunitcolor": "white"
          },
          "hoverlabel": {
           "align": "left"
          },
          "hovermode": "closest",
          "mapbox": {
           "style": "light"
          },
          "paper_bgcolor": "white",
          "plot_bgcolor": "#E5ECF6",
          "polar": {
           "angularaxis": {
            "gridcolor": "white",
            "linecolor": "white",
            "ticks": ""
           },
           "bgcolor": "#E5ECF6",
           "radialaxis": {
            "gridcolor": "white",
            "linecolor": "white",
            "ticks": ""
           }
          },
          "scene": {
           "xaxis": {
            "backgroundcolor": "#E5ECF6",
            "gridcolor": "white",
            "gridwidth": 2,
            "linecolor": "white",
            "showbackground": true,
            "ticks": "",
            "zerolinecolor": "white"
           },
           "yaxis": {
            "backgroundcolor": "#E5ECF6",
            "gridcolor": "white",
            "gridwidth": 2,
            "linecolor": "white",
            "showbackground": true,
            "ticks": "",
            "zerolinecolor": "white"
           },
           "zaxis": {
            "backgroundcolor": "#E5ECF6",
            "gridcolor": "white",
            "gridwidth": 2,
            "linecolor": "white",
            "showbackground": true,
            "ticks": "",
            "zerolinecolor": "white"
           }
          },
          "shapedefaults": {
           "line": {
            "color": "#2a3f5f"
           }
          },
          "ternary": {
           "aaxis": {
            "gridcolor": "white",
            "linecolor": "white",
            "ticks": ""
           },
           "baxis": {
            "gridcolor": "white",
            "linecolor": "white",
            "ticks": ""
           },
           "bgcolor": "#E5ECF6",
           "caxis": {
            "gridcolor": "white",
            "linecolor": "white",
            "ticks": ""
           }
          },
          "title": {
           "x": 0.05
          },
          "xaxis": {
           "automargin": true,
           "gridcolor": "white",
           "linecolor": "white",
           "ticks": "",
           "title": {
            "standoff": 15
           },
           "zerolinecolor": "white",
           "zerolinewidth": 2
          },
          "yaxis": {
           "automargin": true,
           "gridcolor": "white",
           "linecolor": "white",
           "ticks": "",
           "title": {
            "standoff": 15
           },
           "zerolinecolor": "white",
           "zerolinewidth": 2
          }
         }
        },
        "title": {
         "font": {
          "color": "#4D5663"
         }
        },
        "xaxis": {
         "autorange": true,
         "gridcolor": "#E1E5ED",
         "range": [
          -2.2,
          1.9999999999999998
         ],
         "showgrid": true,
         "tickfont": {
          "color": "#4D5663"
         },
         "title": {
          "font": {
           "color": "#4D5663"
          },
          "text": ""
         },
         "type": "linear",
         "zerolinecolor": "#E1E5ED"
        },
        "yaxis": {
         "autorange": true,
         "gridcolor": "#E1E5ED",
         "range": [
          0,
          11.578947368421053
         ],
         "showgrid": true,
         "tickfont": {
          "color": "#4D5663"
         },
         "title": {
          "font": {
           "color": "#4D5663"
          },
          "text": ""
         },
         "zerolinecolor": "#E1E5ED"
        }
       }
      },
      "image/png": "[encoded data removed]",
      "text/html": [
       "<div>                            <div id=\"fc751dd6-5793-404c-9fce-015f83358208\" class=\"plotly-graph-div\" style=\"height:525px; width:100%;\"></div>            <script type=\"text/javascript\">                require([\"plotly\"], function(Plotly) {                    window.PLOTLYENV=window.PLOTLYENV || {};\n",
       "                    window.PLOTLYENV.BASE_URL='https://plot.ly';                                    if (document.getElementById(\"fc751dd6-5793-404c-9fce-015f83358208\")) {                    Plotly.newPlot(                        \"fc751dd6-5793-404c-9fce-015f83358208\",                        [{\"histfunc\":\"count\",\"histnorm\":\"\",\"marker\":{\"color\":\"rgba(255, 153, 51, 1.0)\",\"line\":{\"color\":\"#4D5663\",\"width\":1.3}},\"name\":\"A\",\"nbinsx\":25,\"opacity\":0.8,\"orientation\":\"v\",\"x\":[0.8869849113392575,-0.6964773634974851,0.7003725094248957,0.6608084726687465,1.7706764057755022,1.593145735885654,0.4740756469149725,0.6780606999675864,0.18401197953819318,-0.7649917952568512,0.9253634363763844,1.1118549199592058,-0.8433181578725014,-0.23664150329130548,-1.0992404617482978,0.28527338968743443,0.17481982564549223,1.3951250129856623,0.03590745163901755,-0.9594211851175032,-1.7179801807066248,0.9610755330564402,-0.21363215634783528,0.8804182323614378,0.1905342501740758,-0.4753432693912597,-0.1570437094027896,-0.9272609181058024,0.17515176239940475,-0.11926693582553309,0.6329377787337424,-0.6960379586458401,0.8072366409662378,1.0573006596282648,0.5262146051999136,-1.037271742531441,0.871425023776492,0.6875642804316112,-0.3209806553607807,-0.01897505420084429,1.1234988077597399,1.232420058647342,-0.4814980044587215,-0.35992966279024435,-0.3504136026398206,-0.0264638521470713,1.9455975191069528,0.7397424830525191,-1.3988662235783076,-0.6533021042995357,-1.0098839390042138,0.05158988935672315,-0.8885088323550191,1.3090023593260731,-0.4921751166128579,1.2562814695609659,-0.944489215550293,-0.9047929765159812,-0.16005070797481277,-0.3518748309386049,-0.6012147657777107,0.4833247270826448,-0.7995893120513355,0.6224446543722254,-0.09063609686494375,0.2828186976151058,1.298079370651083,0.60323067089413,0.9939326715694906,1.4930838976436456,-0.4027665687300486,-0.2607266448729439,-1.2535961981729813,0.9218123335954357,1.312062175830314,-0.9316561504008531,-0.61598560161817,-0.25100143532399877,0.4566927248840788,-0.9159752831190259,0.7377046809517973,-1.1626764129405016,-0.889391245298526,-0.6858184717161875,-0.09402072749499414,0.12562747120961676,0.09883684431670127,0.1865993291130212,-2.105122581865517,-1.5402416903738123,1.5094402807854603,-0.9361748837890781,0.12672444198158989,-1.589658407398841,-0.9996902030723225,0.12222138560129037,1.037829126734841,-1.0237728938148212,0.8129908238728943,-1.1735680529795158],\"type\":\"histogram\"}],                        {\"barmode\":\"overlay\",\"legend\":{\"bgcolor\":\"#F5F6F9\",\"font\":{\"color\":\"#4D5663\"}},\"paper_bgcolor\":\"#F5F6F9\",\"plot_bgcolor\":\"#F5F6F9\",\"template\":{\"data\":{\"barpolar\":[{\"marker\":{\"line\":{\"color\":\"#E5ECF6\",\"width\":0.5},\"pattern\":{\"fillmode\":\"overlay\",\"size\":10,\"solidity\":0.2}},\"type\":\"barpolar\"}],\"bar\":[{\"error_x\":{\"color\":\"#2a3f5f\"},\"error_y\":{\"color\":\"#2a3f5f\"},\"marker\":{\"line\":{\"color\":\"#E5ECF6\",\"width\":0.5},\"pattern\":{\"fillmode\":\"overlay\",\"size\":10,\"solidity\":0.2}},\"type\":\"bar\"}],\"carpet\":[{\"aaxis\":{\"endlinecolor\":\"#2a3f5f\",\"gridcolor\":\"white\",\"linecolor\":\"white\",\"minorgridcolor\":\"white\",\"startlinecolor\":\"#2a3f5f\"},\"baxis\":{\"endlinecolor\":\"#2a3f5f\",\"gridcolor\":\"white\",\"linecolor\":\"white\",\"minorgridcolor\":\"white\",\"startlinecolor\":\"#2a3f5f\"},\"type\":\"carpet\"}],\"choropleth\":[{\"colorbar\":{\"outlinewidth\":0,\"ticks\":\"\"},\"type\":\"choropleth\"}],\"contourcarpet\":[{\"colorbar\":{\"outlinewidth\":0,\"ticks\":\"\"},\"type\":\"contourcarpet\"}],\"contour\":[{\"colorbar\":{\"outlinewidth\":0,\"ticks\":\"\"},\"colorscale\":[[0.0,\"#0d0887\"],[0.1111111111111111,\"#46039f\"],[0.2222222222222222,\"#7201a8\"],[0.3333333333333333,\"#9c179e\"],[0.4444444444444444,\"#bd3786\"],[0.5555555555555556,\"#d8576b\"],[0.6666666666666666,\"#ed7953\"],[0.7777777777777778,\"#fb9f3a\"],[0.8888888888888888,\"#fdca26\"],[1.0,\"#f0f921\"]],\"type\":\"contour\"}],\"heatmapgl\":[{\"colorbar\":{\"outlinewidth\":0,\"ticks\":\"\"},\"colorscale\":[[0.0,\"#0d0887\"],[0.1111111111111111,\"#46039f\"],[0.2222222222222222,\"#7201a8\"],[0.3333333333333333,\"#9c179e\"],[0.4444444444444444,\"#bd3786\"],[0.5555555555555556,\"#d8576b\"],[0.6666666666666666,\"#ed7953\"],[0.7777777777777778,\"#fb9f3a\"],[0.8888888888888888,\"#fdca26\"],[1.0,\"#f0f921\"]],\"type\":\"heatmapgl\"}],\"heatmap\":[{\"colorbar\":{\"outlinewidth\":0,\"ticks\":\"\"},\"colorscale\":[[0.0,\"#0d0887\"],[0.1111111111111111,\"#46039f\"],[0.2222222222222222,\"#7201a8\"],[0.3333333333333333,\"#9c179e\"],[0.4444444444444444,\"#bd3786\"],[0.5555555555555556,\"#d8576b\"],[0.6666666666666666,\"#ed7953\"],[0.7777777777777778,\"#fb9f3a\"],[0.8888888888888888,\"#fdca26\"],[1.0,\"#f0f921\"]],\"type\":\"heatmap\"}],\"histogram2dcontour\":[{\"colorbar\":{\"outlinewidth\":0,\"ticks\":\"\"},\"colorscale\":[[0.0,\"#0d0887\"],[0.1111111111111111,\"#46039f\"],[0.2222222222222222,\"#7201a8\"],[0.3333333333333333,\"#9c179e\"],[0.4444444444444444,\"#bd3786\"],[0.5555555555555556,\"#d8576b\"],[0.6666666666666666,\"#ed7953\"],[0.7777777777777778,\"#fb9f3a\"],[0.8888888888888888,\"#fdca26\"],[1.0,\"#f0f921\"]],\"type\":\"histogram2dcontour\"}],\"histogram2d\":[{\"colorbar\":{\"outlinewidth\":0,\"ticks\":\"\"},\"colorscale\":[[0.0,\"#0d0887\"],[0.1111111111111111,\"#46039f\"],[0.2222222222222222,\"#7201a8\"],[0.3333333333333333,\"#9c179e\"],[0.4444444444444444,\"#bd3786\"],[0.5555555555555556,\"#d8576b\"],[0.6666666666666666,\"#ed7953\"],[0.7777777777777778,\"#fb9f3a\"],[0.8888888888888888,\"#fdca26\"],[1.0,\"#f0f921\"]],\"type\":\"histogram2d\"}],\"histogram\":[{\"marker\":{\"pattern\":{\"fillmode\":\"overlay\",\"size\":10,\"solidity\":0.2}},\"type\":\"histogram\"}],\"mesh3d\":[{\"colorbar\":{\"outlinewidth\":0,\"ticks\":\"\"},\"type\":\"mesh3d\"}],\"parcoords\":[{\"line\":{\"colorbar\":{\"outlinewidth\":0,\"ticks\":\"\"}},\"type\":\"parcoords\"}],\"pie\":[{\"automargin\":true,\"type\":\"pie\"}],\"scatter3d\":[{\"line\":{\"colorbar\":{\"outlinewidth\":0,\"ticks\":\"\"}},\"marker\":{\"colorbar\":{\"outlinewidth\":0,\"ticks\":\"\"}},\"type\":\"scatter3d\"}],\"scattercarpet\":[{\"marker\":{\"colorbar\":{\"outlinewidth\":0,\"ticks\":\"\"}},\"type\":\"scattercarpet\"}],\"scattergeo\":[{\"marker\":{\"colorbar\":{\"outlinewidth\":0,\"ticks\":\"\"}},\"type\":\"scattergeo\"}],\"scattergl\":[{\"marker\":{\"colorbar\":{\"outlinewidth\":0,\"ticks\":\"\"}},\"type\":\"scattergl\"}],\"scattermapbox\":[{\"marker\":{\"colorbar\":{\"outlinewidth\":0,\"ticks\":\"\"}},\"type\":\"scattermapbox\"}],\"scatterpolargl\":[{\"marker\":{\"colorbar\":{\"outlinewidth\":0,\"ticks\":\"\"}},\"type\":\"scatterpolargl\"}],\"scatterpolar\":[{\"marker\":{\"colorbar\":{\"outlinewidth\":0,\"ticks\":\"\"}},\"type\":\"scatterpolar\"}],\"scatter\":[{\"marker\":{\"colorbar\":{\"outlinewidth\":0,\"ticks\":\"\"}},\"type\":\"scatter\"}],\"scatterternary\":[{\"marker\":{\"colorbar\":{\"outlinewidth\":0,\"ticks\":\"\"}},\"type\":\"scatterternary\"}],\"surface\":[{\"colorbar\":{\"outlinewidth\":0,\"ticks\":\"\"},\"colorscale\":[[0.0,\"#0d0887\"],[0.1111111111111111,\"#46039f\"],[0.2222222222222222,\"#7201a8\"],[0.3333333333333333,\"#9c179e\"],[0.4444444444444444,\"#bd3786\"],[0.5555555555555556,\"#d8576b\"],[0.6666666666666666,\"#ed7953\"],[0.7777777777777778,\"#fb9f3a\"],[0.8888888888888888,\"#fdca26\"],[1.0,\"#f0f921\"]],\"type\":\"surface\"}],\"table\":[{\"cells\":{\"fill\":{\"color\":\"#EBF0F8\"},\"line\":{\"color\":\"white\"}},\"header\":{\"fill\":{\"color\":\"#C8D4E3\"},\"line\":{\"color\":\"white\"}},\"type\":\"table\"}]},\"layout\":{\"annotationdefaults\":{\"arrowcolor\":\"#2a3f5f\",\"arrowhead\":0,\"arrowwidth\":1},\"autotypenumbers\":\"strict\",\"coloraxis\":{\"colorbar\":{\"outlinewidth\":0,\"ticks\":\"\"}},\"colorscale\":{\"diverging\":[[0,\"#8e0152\"],[0.1,\"#c51b7d\"],[0.2,\"#de77ae\"],[0.3,\"#f1b6da\"],[0.4,\"#fde0ef\"],[0.5,\"#f7f7f7\"],[0.6,\"#e6f5d0\"],[0.7,\"#b8e186\"],[0.8,\"#7fbc41\"],[0.9,\"#4d9221\"],[1,\"#276419\"]],\"sequential\":[[0.0,\"#0d0887\"],[0.1111111111111111,\"#46039f\"],[0.2222222222222222,\"#7201a8\"],[0.3333333333333333,\"#9c179e\"],[0.4444444444444444,\"#bd3786\"],[0.5555555555555556,\"#d8576b\"],[0.6666666666666666,\"#ed7953\"],[0.7777777777777778,\"#fb9f3a\"],[0.8888888888888888,\"#fdca26\"],[1.0,\"#f0f921\"]],\"sequentialminus\":[[0.0,\"#0d0887\"],[0.1111111111111111,\"#46039f\"],[0.2222222222222222,\"#7201a8\"],[0.3333333333333333,\"#9c179e\"],[0.4444444444444444,\"#bd3786\"],[0.5555555555555556,\"#d8576b\"],[0.6666666666666666,\"#ed7953\"],[0.7777777777777778,\"#fb9f3a\"],[0.8888888888888888,\"#fdca26\"],[1.0,\"#f0f921\"]]},\"colorway\":[\"#636efa\",\"#EF553B\",\"#00cc96\",\"#ab63fa\",\"#FFA15A\",\"#19d3f3\",\"#FF6692\",\"#B6E880\",\"#FF97FF\",\"#FECB52\"],\"font\":{\"color\":\"#2a3f5f\"},\"geo\":{\"bgcolor\":\"white\",\"lakecolor\":\"white\",\"landcolor\":\"#E5ECF6\",\"showlakes\":true,\"showland\":true,\"subunitcolor\":\"white\"},\"hoverlabel\":{\"align\":\"left\"},\"hovermode\":\"closest\",\"mapbox\":{\"style\":\"light\"},\"paper_bgcolor\":\"white\",\"plot_bgcolor\":\"#E5ECF6\",\"polar\":{\"angularaxis\":{\"gridcolor\":\"white\",\"linecolor\":\"white\",\"ticks\":\"\"},\"bgcolor\":\"#E5ECF6\",\"radialaxis\":{\"gridcolor\":\"white\",\"linecolor\":\"white\",\"ticks\":\"\"}},\"scene\":{\"xaxis\":{\"backgroundcolor\":\"#E5ECF6\",\"gridcolor\":\"white\",\"gridwidth\":2,\"linecolor\":\"white\",\"showbackground\":true,\"ticks\":\"\",\"zerolinecolor\":\"white\"},\"yaxis\":{\"backgroundcolor\":\"#E5ECF6\",\"gridcolor\":\"white\",\"gridwidth\":2,\"linecolor\":\"white\",\"showbackground\":true,\"ticks\":\"\",\"zerolinecolor\":\"white\"},\"zaxis\":{\"backgroundcolor\":\"#E5ECF6\",\"gridcolor\":\"white\",\"gridwidth\":2,\"linecolor\":\"white\",\"showbackground\":true,\"ticks\":\"\",\"zerolinecolor\":\"white\"}},\"shapedefaults\":{\"line\":{\"color\":\"#2a3f5f\"}},\"ternary\":{\"aaxis\":{\"gridcolor\":\"white\",\"linecolor\":\"white\",\"ticks\":\"\"},\"baxis\":{\"gridcolor\":\"white\",\"linecolor\":\"white\",\"ticks\":\"\"},\"bgcolor\":\"#E5ECF6\",\"caxis\":{\"gridcolor\":\"white\",\"linecolor\":\"white\",\"ticks\":\"\"}},\"title\":{\"x\":0.05},\"xaxis\":{\"automargin\":true,\"gridcolor\":\"white\",\"linecolor\":\"white\",\"ticks\":\"\",\"title\":{\"standoff\":15},\"zerolinecolor\":\"white\",\"zerolinewidth\":2},\"yaxis\":{\"automargin\":true,\"gridcolor\":\"white\",\"linecolor\":\"white\",\"ticks\":\"\",\"title\":{\"standoff\":15},\"zerolinecolor\":\"white\",\"zerolinewidth\":2}}},\"title\":{\"font\":{\"color\":\"#4D5663\"}},\"xaxis\":{\"gridcolor\":\"#E1E5ED\",\"showgrid\":true,\"tickfont\":{\"color\":\"#4D5663\"},\"title\":{\"font\":{\"color\":\"#4D5663\"},\"text\":\"\"},\"zerolinecolor\":\"#E1E5ED\"},\"yaxis\":{\"gridcolor\":\"#E1E5ED\",\"showgrid\":true,\"tickfont\":{\"color\":\"#4D5663\"},\"title\":{\"font\":{\"color\":\"#4D5663\"},\"text\":\"\"},\"zerolinecolor\":\"#E1E5ED\"}},                        {\"showLink\": true, \"linkText\": \"Export to plot.ly\", \"plotlyServerURL\": \"https://plot.ly\", \"responsive\": true}                    ).then(function(){\n",
       "                            \n",
       "var gd = document.getElementById('fc751dd6-5793-404c-9fce-015f83358208');\n",
       "var x = new MutationObserver(function (mutations, observer) {{\n",
       "        var display = window.getComputedStyle(gd).display;\n",
       "        if (!display || display === 'none') {{\n",
       "            console.log([gd, 'removed!']);\n",
       "            Plotly.purge(gd);\n",
       "            observer.disconnect();\n",
       "        }}\n",
       "}});\n",
       "\n",
       "// Listen for the removal of the full notebook cells\n",
       "var notebookContainer = gd.closest('#notebook-container');\n",
       "if (notebookContainer) {{\n",
       "    x.observe(notebookContainer, {childList: true});\n",
       "}}\n",
       "\n",
       "// Listen for the clearing of the current output cell\n",
       "var outputEl = gd.closest('.output');\n",
       "if (outputEl) {{\n",
       "    x.observe(outputEl, {childList: true});\n",
       "}}\n",
       "\n",
       "                        })                };                });            </script>        </div>"
      ]
     },
     "metadata": {},
     "output_type": "display_data"
    }
   ],
   "source": [
    "df['A'].iplot(kind='hist',bins=25)"
   ]
  },
  {
   "cell_type": "code",
   "execution_count": 27,
   "metadata": {
    "collapsed": false,
    "jupyter": {
     "outputs_hidden": false
    }
   },
   "outputs": [
    {
     "data": {
      "application/vnd.plotly.v1+json": {
       "config": {
        "linkText": "Export to plot.ly",
        "plotlyServerURL": "https://plot.ly",
        "showLink": true
       },
       "data": [
        {
         "marker": {
          "color": [
           "rgb(255, 153, 51)",
           "rgb(55, 128, 191)",
           "rgb(50, 171, 96)",
           "rgb(128, 0, 128)",
           "rgb(219, 64, 82)",
           "rgb(0, 128, 128)",
           "rgb(255, 255, 51)",
           "rgb(128, 128, 0)",
           "rgb(251, 128, 114)",
           "rgb(128, 177, 211)"
          ],
          "line": {
           "width": 1.3
          },
          "size": [
           78,
           79,
           62,
           80,
           102,
           91,
           49,
           68,
           74,
           88,
           47,
           112,
           68,
           99,
           90,
           30,
           18,
           88,
           68,
           61,
           53,
           67,
           87,
           83,
           72,
           39,
           45,
           83,
           43,
           80,
           56,
           94,
           76,
           46,
           54,
           76,
           100,
           57,
           84,
           73,
           77,
           72,
           96,
           66,
           75,
           68,
           42,
           80,
           51,
           47,
           95,
           60,
           86,
           56,
           81,
           85,
           55,
           65,
           61,
           60,
           86,
           12,
           76,
           55,
           60,
           86,
           84,
           53,
           88,
           67,
           60,
           108,
           48,
           85,
           73,
           96,
           102,
           57,
           88,
           79,
           69,
           63,
           86,
           83,
           68,
           76,
           52,
           63,
           70,
           96,
           68,
           46,
           69,
           73,
           107,
           63,
           55,
           56,
           65,
           70
          ],
          "symbol": "circle"
         },
         "mode": "markers",
         "text": "",
         "type": "scatter",
         "x": [
          0.8869849113392575,
          -0.6964773634974851,
          0.7003725094248957,
          0.6608084726687465,
          1.7706764057755022,
          1.593145735885654,
          0.4740756469149725,
          0.6780606999675864,
          0.18401197953819318,
          -0.7649917952568512,
          0.9253634363763844,
          1.1118549199592058,
          -0.8433181578725014,
          -0.23664150329130548,
          -1.0992404617482978,
          0.28527338968743443,
          0.17481982564549223,
          1.3951250129856623,
          0.03590745163901755,
          -0.9594211851175032,
          -1.7179801807066248,
          0.9610755330564402,
          -0.21363215634783528,
          0.8804182323614378,
          0.1905342501740758,
          -0.4753432693912597,
          -0.1570437094027896,
          -0.9272609181058024,
          0.17515176239940475,
          -0.11926693582553309,
          0.6329377787337424,
          -0.6960379586458401,
          0.8072366409662378,
          1.0573006596282648,
          0.5262146051999136,
          -1.037271742531441,
          0.871425023776492,
          0.6875642804316112,
          -0.3209806553607807,
          -0.01897505420084429,
          1.1234988077597399,
          1.232420058647342,
          -0.4814980044587215,
          -0.35992966279024435,
          -0.3504136026398206,
          -0.0264638521470713,
          1.9455975191069528,
          0.7397424830525191,
          -1.3988662235783076,
          -0.6533021042995357,
          -1.0098839390042138,
          0.05158988935672315,
          -0.8885088323550191,
          1.3090023593260731,
          -0.4921751166128579,
          1.2562814695609659,
          -0.944489215550293,
          -0.9047929765159812,
          -0.16005070797481277,
          -0.3518748309386049,
          -0.6012147657777107,
          0.4833247270826448,
          -0.7995893120513355,
          0.6224446543722254,
          -0.09063609686494375,
          0.2828186976151058,
          1.298079370651083,
          0.60323067089413,
          0.9939326715694906,
          1.4930838976436456,
          -0.4027665687300486,
          -0.2607266448729439,
          -1.2535961981729813,
          0.9218123335954357,
          1.312062175830314,
          -0.9316561504008531,
          -0.61598560161817,
          -0.25100143532399877,
          0.4566927248840788,
          -0.9159752831190259,
          0.7377046809517973,
          -1.1626764129405016,
          -0.889391245298526,
          -0.6858184717161875,
          -0.09402072749499414,
          0.12562747120961676,
          0.09883684431670127,
          0.1865993291130212,
          -2.105122581865517,
          -1.5402416903738123,
          1.5094402807854603,
          -0.9361748837890781,
          0.12672444198158989,
          -1.589658407398841,
          -0.9996902030723225,
          0.12222138560129037,
          1.037829126734841,
          -1.0237728938148212,
          0.8129908238728943,
          -1.1735680529795158
         ],
         "y": [
          -0.8333485300834292,
          -1.2766677713856172,
          0.32889268999764587,
          -0.7228597241406125,
          -1.088055170641722,
          -0.26454960727060933,
          -1.088746135103376,
          1.307311404250032,
          0.08031675927464546,
          0.02757860090171118,
          0.6518221207539567,
          0.7276482533339022,
          -1.1158078994176668,
          -0.05851343762871096,
          -0.779070280511317,
          0.6555944432816424,
          0.3795977680725507,
          0.6047485425267529,
          -1.245835389444955,
          0.5118554482170173,
          0.4007446062617446,
          -0.9762413226379608,
          0.23963149916481855,
          -0.08182559589104474,
          0.28026876924154154,
          0.593917640305292,
          -1.9595673096812394,
          -1.06511056321929,
          0.9918697122537389,
          0.3043350394672878,
          -0.2265403931323341,
          2.192649137408791,
          0.9174930299413948,
          0.8686827682351795,
          -0.9492012311313425,
          1.9138497364086406,
          -1.021402262388293,
          0.15575335857348221,
          -0.6085703602891364,
          0.7370588517740067,
          -0.327086277798017,
          1.1799615116593871,
          -0.35685566036595373,
          -1.175460976239832,
          0.31255342310921275,
          0.9897473343815354,
          0.9198781183889619,
          -0.7474006092799659,
          -0.856587496221934,
          -0.785034997454377,
          -0.12235515802115861,
          -1.786434990061692,
          0.5481592699594763,
          -1.274980280267999,
          0.696836476541588,
          -1.370492271925774,
          2.06004470363456,
          2.0468933823727764,
          0.21084208697464552,
          -0.12258782808995522,
          0.6403637734278632,
          -1.311325626456603,
          1.503641044788058,
          -1.078001719112831,
          1.3989747726854669,
          -1.616107252848288,
          -0.9637366722446397,
          0.10514432242328021,
          -0.35714686741413504,
          1.306610500270275,
          1.0975979363582071,
          1.6273028114379513,
          0.0019938966806490165,
          0.369738032875827,
          0.6194225065626668,
          -0.6008423439289713,
          0.5994305624114238,
          0.1278850553222134,
          0.1993287048843189,
          -0.9900196451938488,
          -0.0030251013458408673,
          0.6231686049789226,
          0.05503581719741051,
          -0.08273659707165258,
          -0.2576366521809987,
          -0.30204557671675586,
          0.501843752794459,
          -0.08670464369271894,
          0.4723263552701553,
          0.5855339910336078,
          -1.557478447357505,
          1.169546362591803,
          1.8645090896560506,
          -0.08712959822128583,
          -1.1493323961227986,
          0.29210214535966844,
          0.6546376109394556,
          -0.6030391008507462,
          -0.5090505082959106,
          -1.0319222234727223
         ]
        }
       ],
       "layout": {
        "autosize": true,
        "legend": {
         "bgcolor": "#F5F6F9",
         "font": {
          "color": "#4D5663"
         }
        },
        "paper_bgcolor": "#F5F6F9",
        "plot_bgcolor": "#F5F6F9",
        "template": {
         "data": {
          "bar": [
           {
            "error_x": {
             "color": "#2a3f5f"
            },
            "error_y": {
             "color": "#2a3f5f"
            },
            "marker": {
             "line": {
              "color": "#E5ECF6",
              "width": 0.5
             },
             "pattern": {
              "fillmode": "overlay",
              "size": 10,
              "solidity": 0.2
             }
            },
            "type": "bar"
           }
          ],
          "barpolar": [
           {
            "marker": {
             "line": {
              "color": "#E5ECF6",
              "width": 0.5
             },
             "pattern": {
              "fillmode": "overlay",
              "size": 10,
              "solidity": 0.2
             }
            },
            "type": "barpolar"
           }
          ],
          "carpet": [
           {
            "aaxis": {
             "endlinecolor": "#2a3f5f",
             "gridcolor": "white",
             "linecolor": "white",
             "minorgridcolor": "white",
             "startlinecolor": "#2a3f5f"
            },
            "baxis": {
             "endlinecolor": "#2a3f5f",
             "gridcolor": "white",
             "linecolor": "white",
             "minorgridcolor": "white",
             "startlinecolor": "#2a3f5f"
            },
            "type": "carpet"
           }
          ],
          "choropleth": [
           {
            "colorbar": {
             "outlinewidth": 0,
             "ticks": ""
            },
            "type": "choropleth"
           }
          ],
          "contour": [
           {
            "colorbar": {
             "outlinewidth": 0,
             "ticks": ""
            },
            "colorscale": [
             [
              0,
              "#0d0887"
             ],
             [
              0.1111111111111111,
              "#46039f"
             ],
             [
              0.2222222222222222,
              "#7201a8"
             ],
             [
              0.3333333333333333,
              "#9c179e"
             ],
             [
              0.4444444444444444,
              "#bd3786"
             ],
             [
              0.5555555555555556,
              "#d8576b"
             ],
             [
              0.6666666666666666,
              "#ed7953"
             ],
             [
              0.7777777777777778,
              "#fb9f3a"
             ],
             [
              0.8888888888888888,
              "#fdca26"
             ],
             [
              1,
              "#f0f921"
             ]
            ],
            "type": "contour"
           }
          ],
          "contourcarpet": [
           {
            "colorbar": {
             "outlinewidth": 0,
             "ticks": ""
            },
            "type": "contourcarpet"
           }
          ],
          "heatmap": [
           {
            "colorbar": {
             "outlinewidth": 0,
             "ticks": ""
            },
            "colorscale": [
             [
              0,
              "#0d0887"
             ],
             [
              0.1111111111111111,
              "#46039f"
             ],
             [
              0.2222222222222222,
              "#7201a8"
             ],
             [
              0.3333333333333333,
              "#9c179e"
             ],
             [
              0.4444444444444444,
              "#bd3786"
             ],
             [
              0.5555555555555556,
              "#d8576b"
             ],
             [
              0.6666666666666666,
              "#ed7953"
             ],
             [
              0.7777777777777778,
              "#fb9f3a"
             ],
             [
              0.8888888888888888,
              "#fdca26"
             ],
             [
              1,
              "#f0f921"
             ]
            ],
            "type": "heatmap"
           }
          ],
          "heatmapgl": [
           {
            "colorbar": {
             "outlinewidth": 0,
             "ticks": ""
            },
            "colorscale": [
             [
              0,
              "#0d0887"
             ],
             [
              0.1111111111111111,
              "#46039f"
             ],
             [
              0.2222222222222222,
              "#7201a8"
             ],
             [
              0.3333333333333333,
              "#9c179e"
             ],
             [
              0.4444444444444444,
              "#bd3786"
             ],
             [
              0.5555555555555556,
              "#d8576b"
             ],
             [
              0.6666666666666666,
              "#ed7953"
             ],
             [
              0.7777777777777778,
              "#fb9f3a"
             ],
             [
              0.8888888888888888,
              "#fdca26"
             ],
             [
              1,
              "#f0f921"
             ]
            ],
            "type": "heatmapgl"
           }
          ],
          "histogram": [
           {
            "marker": {
             "pattern": {
              "fillmode": "overlay",
              "size": 10,
              "solidity": 0.2
             }
            },
            "type": "histogram"
           }
          ],
          "histogram2d": [
           {
            "colorbar": {
             "outlinewidth": 0,
             "ticks": ""
            },
            "colorscale": [
             [
              0,
              "#0d0887"
             ],
             [
              0.1111111111111111,
              "#46039f"
             ],
             [
              0.2222222222222222,
              "#7201a8"
             ],
             [
              0.3333333333333333,
              "#9c179e"
             ],
             [
              0.4444444444444444,
              "#bd3786"
             ],
             [
              0.5555555555555556,
              "#d8576b"
             ],
             [
              0.6666666666666666,
              "#ed7953"
             ],
             [
              0.7777777777777778,
              "#fb9f3a"
             ],
             [
              0.8888888888888888,
              "#fdca26"
             ],
             [
              1,
              "#f0f921"
             ]
            ],
            "type": "histogram2d"
           }
          ],
          "histogram2dcontour": [
           {
            "colorbar": {
             "outlinewidth": 0,
             "ticks": ""
            },
            "colorscale": [
             [
              0,
              "#0d0887"
             ],
             [
              0.1111111111111111,
              "#46039f"
             ],
             [
              0.2222222222222222,
              "#7201a8"
             ],
             [
              0.3333333333333333,
              "#9c179e"
             ],
             [
              0.4444444444444444,
              "#bd3786"
             ],
             [
              0.5555555555555556,
              "#d8576b"
             ],
             [
              0.6666666666666666,
              "#ed7953"
             ],
             [
              0.7777777777777778,
              "#fb9f3a"
             ],
             [
              0.8888888888888888,
              "#fdca26"
             ],
             [
              1,
              "#f0f921"
             ]
            ],
            "type": "histogram2dcontour"
           }
          ],
          "mesh3d": [
           {
            "colorbar": {
             "outlinewidth": 0,
             "ticks": ""
            },
            "type": "mesh3d"
           }
          ],
          "parcoords": [
           {
            "line": {
             "colorbar": {
              "outlinewidth": 0,
              "ticks": ""
             }
            },
            "type": "parcoords"
           }
          ],
          "pie": [
           {
            "automargin": true,
            "type": "pie"
           }
          ],
          "scatter": [
           {
            "marker": {
             "colorbar": {
              "outlinewidth": 0,
              "ticks": ""
             }
            },
            "type": "scatter"
           }
          ],
          "scatter3d": [
           {
            "line": {
             "colorbar": {
              "outlinewidth": 0,
              "ticks": ""
             }
            },
            "marker": {
             "colorbar": {
              "outlinewidth": 0,
              "ticks": ""
             }
            },
            "type": "scatter3d"
           }
          ],
          "scattercarpet": [
           {
            "marker": {
             "colorbar": {
              "outlinewidth": 0,
              "ticks": ""
             }
            },
            "type": "scattercarpet"
           }
          ],
          "scattergeo": [
           {
            "marker": {
             "colorbar": {
              "outlinewidth": 0,
              "ticks": ""
             }
            },
            "type": "scattergeo"
           }
          ],
          "scattergl": [
           {
            "marker": {
             "colorbar": {
              "outlinewidth": 0,
              "ticks": ""
             }
            },
            "type": "scattergl"
           }
          ],
          "scattermapbox": [
           {
            "marker": {
             "colorbar": {
              "outlinewidth": 0,
              "ticks": ""
             }
            },
            "type": "scattermapbox"
           }
          ],
          "scatterpolar": [
           {
            "marker": {
             "colorbar": {
              "outlinewidth": 0,
              "ticks": ""
             }
            },
            "type": "scatterpolar"
           }
          ],
          "scatterpolargl": [
           {
            "marker": {
             "colorbar": {
              "outlinewidth": 0,
              "ticks": ""
             }
            },
            "type": "scatterpolargl"
           }
          ],
          "scatterternary": [
           {
            "marker": {
             "colorbar": {
              "outlinewidth": 0,
              "ticks": ""
             }
            },
            "type": "scatterternary"
           }
          ],
          "surface": [
           {
            "colorbar": {
             "outlinewidth": 0,
             "ticks": ""
            },
            "colorscale": [
             [
              0,
              "#0d0887"
             ],
             [
              0.1111111111111111,
              "#46039f"
             ],
             [
              0.2222222222222222,
              "#7201a8"
             ],
             [
              0.3333333333333333,
              "#9c179e"
             ],
             [
              0.4444444444444444,
              "#bd3786"
             ],
             [
              0.5555555555555556,
              "#d8576b"
             ],
             [
              0.6666666666666666,
              "#ed7953"
             ],
             [
              0.7777777777777778,
              "#fb9f3a"
             ],
             [
              0.8888888888888888,
              "#fdca26"
             ],
             [
              1,
              "#f0f921"
             ]
            ],
            "type": "surface"
           }
          ],
          "table": [
           {
            "cells": {
             "fill": {
              "color": "#EBF0F8"
             },
             "line": {
              "color": "white"
             }
            },
            "header": {
             "fill": {
              "color": "#C8D4E3"
             },
             "line": {
              "color": "white"
             }
            },
            "type": "table"
           }
          ]
         },
         "layout": {
          "annotationdefaults": {
           "arrowcolor": "#2a3f5f",
           "arrowhead": 0,
           "arrowwidth": 1
          },
          "autotypenumbers": "strict",
          "coloraxis": {
           "colorbar": {
            "outlinewidth": 0,
            "ticks": ""
           }
          },
          "colorscale": {
           "diverging": [
            [
             0,
             "#8e0152"
            ],
            [
             0.1,
             "#c51b7d"
            ],
            [
             0.2,
             "#de77ae"
            ],
            [
             0.3,
             "#f1b6da"
            ],
            [
             0.4,
             "#fde0ef"
            ],
            [
             0.5,
             "#f7f7f7"
            ],
            [
             0.6,
             "#e6f5d0"
            ],
            [
             0.7,
             "#b8e186"
            ],
            [
             0.8,
             "#7fbc41"
            ],
            [
             0.9,
             "#4d9221"
            ],
            [
             1,
             "#276419"
            ]
           ],
           "sequential": [
            [
             0,
             "#0d0887"
            ],
            [
             0.1111111111111111,
             "#46039f"
            ],
            [
             0.2222222222222222,
             "#7201a8"
            ],
            [
             0.3333333333333333,
             "#9c179e"
            ],
            [
             0.4444444444444444,
             "#bd3786"
            ],
            [
             0.5555555555555556,
             "#d8576b"
            ],
            [
             0.6666666666666666,
             "#ed7953"
            ],
            [
             0.7777777777777778,
             "#fb9f3a"
            ],
            [
             0.8888888888888888,
             "#fdca26"
            ],
            [
             1,
             "#f0f921"
            ]
           ],
           "sequentialminus": [
            [
             0,
             "#0d0887"
            ],
            [
             0.1111111111111111,
             "#46039f"
            ],
            [
             0.2222222222222222,
             "#7201a8"
            ],
            [
             0.3333333333333333,
             "#9c179e"
            ],
            [
             0.4444444444444444,
             "#bd3786"
            ],
            [
             0.5555555555555556,
             "#d8576b"
            ],
            [
             0.6666666666666666,
             "#ed7953"
            ],
            [
             0.7777777777777778,
             "#fb9f3a"
            ],
            [
             0.8888888888888888,
             "#fdca26"
            ],
            [
             1,
             "#f0f921"
            ]
           ]
          },
          "colorway": [
           "#636efa",
           "#EF553B",
           "#00cc96",
           "#ab63fa",
           "#FFA15A",
           "#19d3f3",
           "#FF6692",
           "#B6E880",
           "#FF97FF",
           "#FECB52"
          ],
          "font": {
           "color": "#2a3f5f"
          },
          "geo": {
           "bgcolor": "white",
           "lakecolor": "white",
           "landcolor": "#E5ECF6",
           "showlakes": true,
           "showland": true,
           "subunitcolor": "white"
          },
          "hoverlabel": {
           "align": "left"
          },
          "hovermode": "closest",
          "mapbox": {
           "style": "light"
          },
          "paper_bgcolor": "white",
          "plot_bgcolor": "#E5ECF6",
          "polar": {
           "angularaxis": {
            "gridcolor": "white",
            "linecolor": "white",
            "ticks": ""
           },
           "bgcolor": "#E5ECF6",
           "radialaxis": {
            "gridcolor": "white",
            "linecolor": "white",
            "ticks": ""
           }
          },
          "scene": {
           "xaxis": {
            "backgroundcolor": "#E5ECF6",
            "gridcolor": "white",
            "gridwidth": 2,
            "linecolor": "white",
            "showbackground": true,
            "ticks": "",
            "zerolinecolor": "white"
           },
           "yaxis": {
            "backgroundcolor": "#E5ECF6",
            "gridcolor": "white",
            "gridwidth": 2,
            "linecolor": "white",
            "showbackground": true,
            "ticks": "",
            "zerolinecolor": "white"
           },
           "zaxis": {
            "backgroundcolor": "#E5ECF6",
            "gridcolor": "white",
            "gridwidth": 2,
            "linecolor": "white",
            "showbackground": true,
            "ticks": "",
            "zerolinecolor": "white"
           }
          },
          "shapedefaults": {
           "line": {
            "color": "#2a3f5f"
           }
          },
          "ternary": {
           "aaxis": {
            "gridcolor": "white",
            "linecolor": "white",
            "ticks": ""
           },
           "baxis": {
            "gridcolor": "white",
            "linecolor": "white",
            "ticks": ""
           },
           "bgcolor": "#E5ECF6",
           "caxis": {
            "gridcolor": "white",
            "linecolor": "white",
            "ticks": ""
           }
          },
          "title": {
           "x": 0.05
          },
          "xaxis": {
           "automargin": true,
           "gridcolor": "white",
           "linecolor": "white",
           "ticks": "",
           "title": {
            "standoff": 15
           },
           "zerolinecolor": "white",
           "zerolinewidth": 2
          },
          "yaxis": {
           "automargin": true,
           "gridcolor": "white",
           "linecolor": "white",
           "ticks": "",
           "title": {
            "standoff": 15
           },
           "zerolinecolor": "white",
           "zerolinewidth": 2
          }
         }
        },
        "title": {
         "font": {
          "color": "#4D5663"
         }
        },
        "xaxis": {
         "autorange": true,
         "gridcolor": "#E1E5ED",
         "range": [
          -2.7587284379800985,
          2.6005751428380495
         ],
         "showgrid": true,
         "tickfont": {
          "color": "#4D5663"
         },
         "title": {
          "font": {
           "color": "#4D5663"
          },
          "text": ""
         },
         "type": "linear",
         "zerolinecolor": "#E1E5ED"
        },
        "yaxis": {
         "autorange": true,
         "gridcolor": "#E1E5ED",
         "range": [
          -8.775656246753455,
          9.316446463144644
         ],
         "showgrid": true,
         "tickfont": {
          "color": "#4D5663"
         },
         "title": {
          "font": {
           "color": "#4D5663"
          },
          "text": ""
         },
         "type": "linear",
         "zerolinecolor": "#E1E5ED"
        }
       }
      },
      "image/png": "[encoded data removed]",
      "text/html": [
       "<div>                            <div id=\"72f8ad04-56cb-44e6-b90c-f0b38578e928\" class=\"plotly-graph-div\" style=\"height:525px; width:100%;\"></div>            <script type=\"text/javascript\">                require([\"plotly\"], function(Plotly) {                    window.PLOTLYENV=window.PLOTLYENV || {};\n",
       "                    window.PLOTLYENV.BASE_URL='https://plot.ly';                                    if (document.getElementById(\"72f8ad04-56cb-44e6-b90c-f0b38578e928\")) {                    Plotly.newPlot(                        \"72f8ad04-56cb-44e6-b90c-f0b38578e928\",                        [{\"marker\":{\"color\":[\"rgb(255, 153, 51)\",\"rgb(55, 128, 191)\",\"rgb(50, 171, 96)\",\"rgb(128, 0, 128)\",\"rgb(219, 64, 82)\",\"rgb(0, 128, 128)\",\"rgb(255, 255, 51)\",\"rgb(128, 128, 0)\",\"rgb(251, 128, 114)\",\"rgb(128, 177, 211)\"],\"line\":{\"width\":1.3},\"size\":[78,79,62,80,102,91,49,68,74,88,47,112,68,99,90,30,18,88,68,61,53,67,87,83,72,39,45,83,43,80,56,94,76,46,54,76,100,57,84,73,77,72,96,66,75,68,42,80,51,47,95,60,86,56,81,85,55,65,61,60,86,12,76,55,60,86,84,53,88,67,60,108,48,85,73,96,102,57,88,79,69,63,86,83,68,76,52,63,70,96,68,46,69,73,107,63,55,56,65,70],\"symbol\":\"circle\"},\"mode\":\"markers\",\"text\":\"\",\"x\":[0.8869849113392575,-0.6964773634974851,0.7003725094248957,0.6608084726687465,1.7706764057755022,1.593145735885654,0.4740756469149725,0.6780606999675864,0.18401197953819318,-0.7649917952568512,0.9253634363763844,1.1118549199592058,-0.8433181578725014,-0.23664150329130548,-1.0992404617482978,0.28527338968743443,0.17481982564549223,1.3951250129856623,0.03590745163901755,-0.9594211851175032,-1.7179801807066248,0.9610755330564402,-0.21363215634783528,0.8804182323614378,0.1905342501740758,-0.4753432693912597,-0.1570437094027896,-0.9272609181058024,0.17515176239940475,-0.11926693582553309,0.6329377787337424,-0.6960379586458401,0.8072366409662378,1.0573006596282648,0.5262146051999136,-1.037271742531441,0.871425023776492,0.6875642804316112,-0.3209806553607807,-0.01897505420084429,1.1234988077597399,1.232420058647342,-0.4814980044587215,-0.35992966279024435,-0.3504136026398206,-0.0264638521470713,1.9455975191069528,0.7397424830525191,-1.3988662235783076,-0.6533021042995357,-1.0098839390042138,0.05158988935672315,-0.8885088323550191,1.3090023593260731,-0.4921751166128579,1.2562814695609659,-0.944489215550293,-0.9047929765159812,-0.16005070797481277,-0.3518748309386049,-0.6012147657777107,0.4833247270826448,-0.7995893120513355,0.6224446543722254,-0.09063609686494375,0.2828186976151058,1.298079370651083,0.60323067089413,0.9939326715694906,1.4930838976436456,-0.4027665687300486,-0.2607266448729439,-1.2535961981729813,0.9218123335954357,1.312062175830314,-0.9316561504008531,-0.61598560161817,-0.25100143532399877,0.4566927248840788,-0.9159752831190259,0.7377046809517973,-1.1626764129405016,-0.889391245298526,-0.6858184717161875,-0.09402072749499414,0.12562747120961676,0.09883684431670127,0.1865993291130212,-2.105122581865517,-1.5402416903738123,1.5094402807854603,-0.9361748837890781,0.12672444198158989,-1.589658407398841,-0.9996902030723225,0.12222138560129037,1.037829126734841,-1.0237728938148212,0.8129908238728943,-1.1735680529795158],\"y\":[-0.8333485300834292,-1.2766677713856172,0.32889268999764587,-0.7228597241406125,-1.088055170641722,-0.26454960727060933,-1.088746135103376,1.307311404250032,0.08031675927464546,0.02757860090171118,0.6518221207539567,0.7276482533339022,-1.1158078994176668,-0.05851343762871096,-0.779070280511317,0.6555944432816424,0.3795977680725507,0.6047485425267529,-1.245835389444955,0.5118554482170173,0.4007446062617446,-0.9762413226379608,0.23963149916481855,-0.08182559589104474,0.28026876924154154,0.593917640305292,-1.9595673096812394,-1.06511056321929,0.9918697122537389,0.3043350394672878,-0.2265403931323341,2.192649137408791,0.9174930299413948,0.8686827682351795,-0.9492012311313425,1.9138497364086406,-1.021402262388293,0.15575335857348221,-0.6085703602891364,0.7370588517740067,-0.327086277798017,1.1799615116593871,-0.35685566036595373,-1.175460976239832,0.31255342310921275,0.9897473343815354,0.9198781183889619,-0.7474006092799659,-0.856587496221934,-0.785034997454377,-0.12235515802115861,-1.786434990061692,0.5481592699594763,-1.274980280267999,0.696836476541588,-1.370492271925774,2.06004470363456,2.0468933823727764,0.21084208697464552,-0.12258782808995522,0.6403637734278632,-1.311325626456603,1.503641044788058,-1.078001719112831,1.3989747726854669,-1.616107252848288,-0.9637366722446397,0.10514432242328021,-0.35714686741413504,1.306610500270275,1.0975979363582071,1.6273028114379513,0.0019938966806490165,0.369738032875827,0.6194225065626668,-0.6008423439289713,0.5994305624114238,0.1278850553222134,0.1993287048843189,-0.9900196451938488,-0.0030251013458408673,0.6231686049789226,0.05503581719741051,-0.08273659707165258,-0.2576366521809987,-0.30204557671675586,0.501843752794459,-0.08670464369271894,0.4723263552701553,0.5855339910336078,-1.557478447357505,1.169546362591803,1.8645090896560506,-0.08712959822128583,-1.1493323961227986,0.29210214535966844,0.6546376109394556,-0.6030391008507462,-0.5090505082959106,-1.0319222234727223],\"type\":\"scatter\"}],                        {\"legend\":{\"bgcolor\":\"#F5F6F9\",\"font\":{\"color\":\"#4D5663\"}},\"paper_bgcolor\":\"#F5F6F9\",\"plot_bgcolor\":\"#F5F6F9\",\"template\":{\"data\":{\"barpolar\":[{\"marker\":{\"line\":{\"color\":\"#E5ECF6\",\"width\":0.5},\"pattern\":{\"fillmode\":\"overlay\",\"size\":10,\"solidity\":0.2}},\"type\":\"barpolar\"}],\"bar\":[{\"error_x\":{\"color\":\"#2a3f5f\"},\"error_y\":{\"color\":\"#2a3f5f\"},\"marker\":{\"line\":{\"color\":\"#E5ECF6\",\"width\":0.5},\"pattern\":{\"fillmode\":\"overlay\",\"size\":10,\"solidity\":0.2}},\"type\":\"bar\"}],\"carpet\":[{\"aaxis\":{\"endlinecolor\":\"#2a3f5f\",\"gridcolor\":\"white\",\"linecolor\":\"white\",\"minorgridcolor\":\"white\",\"startlinecolor\":\"#2a3f5f\"},\"baxis\":{\"endlinecolor\":\"#2a3f5f\",\"gridcolor\":\"white\",\"linecolor\":\"white\",\"minorgridcolor\":\"white\",\"startlinecolor\":\"#2a3f5f\"},\"type\":\"carpet\"}],\"choropleth\":[{\"colorbar\":{\"outlinewidth\":0,\"ticks\":\"\"},\"type\":\"choropleth\"}],\"contourcarpet\":[{\"colorbar\":{\"outlinewidth\":0,\"ticks\":\"\"},\"type\":\"contourcarpet\"}],\"contour\":[{\"colorbar\":{\"outlinewidth\":0,\"ticks\":\"\"},\"colorscale\":[[0.0,\"#0d0887\"],[0.1111111111111111,\"#46039f\"],[0.2222222222222222,\"#7201a8\"],[0.3333333333333333,\"#9c179e\"],[0.4444444444444444,\"#bd3786\"],[0.5555555555555556,\"#d8576b\"],[0.6666666666666666,\"#ed7953\"],[0.7777777777777778,\"#fb9f3a\"],[0.8888888888888888,\"#fdca26\"],[1.0,\"#f0f921\"]],\"type\":\"contour\"}],\"heatmapgl\":[{\"colorbar\":{\"outlinewidth\":0,\"ticks\":\"\"},\"colorscale\":[[0.0,\"#0d0887\"],[0.1111111111111111,\"#46039f\"],[0.2222222222222222,\"#7201a8\"],[0.3333333333333333,\"#9c179e\"],[0.4444444444444444,\"#bd3786\"],[0.5555555555555556,\"#d8576b\"],[0.6666666666666666,\"#ed7953\"],[0.7777777777777778,\"#fb9f3a\"],[0.8888888888888888,\"#fdca26\"],[1.0,\"#f0f921\"]],\"type\":\"heatmapgl\"}],\"heatmap\":[{\"colorbar\":{\"outlinewidth\":0,\"ticks\":\"\"},\"colorscale\":[[0.0,\"#0d0887\"],[0.1111111111111111,\"#46039f\"],[0.2222222222222222,\"#7201a8\"],[0.3333333333333333,\"#9c179e\"],[0.4444444444444444,\"#bd3786\"],[0.5555555555555556,\"#d8576b\"],[0.6666666666666666,\"#ed7953\"],[0.7777777777777778,\"#fb9f3a\"],[0.8888888888888888,\"#fdca26\"],[1.0,\"#f0f921\"]],\"type\":\"heatmap\"}],\"histogram2dcontour\":[{\"colorbar\":{\"outlinewidth\":0,\"ticks\":\"\"},\"colorscale\":[[0.0,\"#0d0887\"],[0.1111111111111111,\"#46039f\"],[0.2222222222222222,\"#7201a8\"],[0.3333333333333333,\"#9c179e\"],[0.4444444444444444,\"#bd3786\"],[0.5555555555555556,\"#d8576b\"],[0.6666666666666666,\"#ed7953\"],[0.7777777777777778,\"#fb9f3a\"],[0.8888888888888888,\"#fdca26\"],[1.0,\"#f0f921\"]],\"type\":\"histogram2dcontour\"}],\"histogram2d\":[{\"colorbar\":{\"outlinewidth\":0,\"ticks\":\"\"},\"colorscale\":[[0.0,\"#0d0887\"],[0.1111111111111111,\"#46039f\"],[0.2222222222222222,\"#7201a8\"],[0.3333333333333333,\"#9c179e\"],[0.4444444444444444,\"#bd3786\"],[0.5555555555555556,\"#d8576b\"],[0.6666666666666666,\"#ed7953\"],[0.7777777777777778,\"#fb9f3a\"],[0.8888888888888888,\"#fdca26\"],[1.0,\"#f0f921\"]],\"type\":\"histogram2d\"}],\"histogram\":[{\"marker\":{\"pattern\":{\"fillmode\":\"overlay\",\"size\":10,\"solidity\":0.2}},\"type\":\"histogram\"}],\"mesh3d\":[{\"colorbar\":{\"outlinewidth\":0,\"ticks\":\"\"},\"type\":\"mesh3d\"}],\"parcoords\":[{\"line\":{\"colorbar\":{\"outlinewidth\":0,\"ticks\":\"\"}},\"type\":\"parcoords\"}],\"pie\":[{\"automargin\":true,\"type\":\"pie\"}],\"scatter3d\":[{\"line\":{\"colorbar\":{\"outlinewidth\":0,\"ticks\":\"\"}},\"marker\":{\"colorbar\":{\"outlinewidth\":0,\"ticks\":\"\"}},\"type\":\"scatter3d\"}],\"scattercarpet\":[{\"marker\":{\"colorbar\":{\"outlinewidth\":0,\"ticks\":\"\"}},\"type\":\"scattercarpet\"}],\"scattergeo\":[{\"marker\":{\"colorbar\":{\"outlinewidth\":0,\"ticks\":\"\"}},\"type\":\"scattergeo\"}],\"scattergl\":[{\"marker\":{\"colorbar\":{\"outlinewidth\":0,\"ticks\":\"\"}},\"type\":\"scattergl\"}],\"scattermapbox\":[{\"marker\":{\"colorbar\":{\"outlinewidth\":0,\"ticks\":\"\"}},\"type\":\"scattermapbox\"}],\"scatterpolargl\":[{\"marker\":{\"colorbar\":{\"outlinewidth\":0,\"ticks\":\"\"}},\"type\":\"scatterpolargl\"}],\"scatterpolar\":[{\"marker\":{\"colorbar\":{\"outlinewidth\":0,\"ticks\":\"\"}},\"type\":\"scatterpolar\"}],\"scatter\":[{\"marker\":{\"colorbar\":{\"outlinewidth\":0,\"ticks\":\"\"}},\"type\":\"scatter\"}],\"scatterternary\":[{\"marker\":{\"colorbar\":{\"outlinewidth\":0,\"ticks\":\"\"}},\"type\":\"scatterternary\"}],\"surface\":[{\"colorbar\":{\"outlinewidth\":0,\"ticks\":\"\"},\"colorscale\":[[0.0,\"#0d0887\"],[0.1111111111111111,\"#46039f\"],[0.2222222222222222,\"#7201a8\"],[0.3333333333333333,\"#9c179e\"],[0.4444444444444444,\"#bd3786\"],[0.5555555555555556,\"#d8576b\"],[0.6666666666666666,\"#ed7953\"],[0.7777777777777778,\"#fb9f3a\"],[0.8888888888888888,\"#fdca26\"],[1.0,\"#f0f921\"]],\"type\":\"surface\"}],\"table\":[{\"cells\":{\"fill\":{\"color\":\"#EBF0F8\"},\"line\":{\"color\":\"white\"}},\"header\":{\"fill\":{\"color\":\"#C8D4E3\"},\"line\":{\"color\":\"white\"}},\"type\":\"table\"}]},\"layout\":{\"annotationdefaults\":{\"arrowcolor\":\"#2a3f5f\",\"arrowhead\":0,\"arrowwidth\":1},\"autotypenumbers\":\"strict\",\"coloraxis\":{\"colorbar\":{\"outlinewidth\":0,\"ticks\":\"\"}},\"colorscale\":{\"diverging\":[[0,\"#8e0152\"],[0.1,\"#c51b7d\"],[0.2,\"#de77ae\"],[0.3,\"#f1b6da\"],[0.4,\"#fde0ef\"],[0.5,\"#f7f7f7\"],[0.6,\"#e6f5d0\"],[0.7,\"#b8e186\"],[0.8,\"#7fbc41\"],[0.9,\"#4d9221\"],[1,\"#276419\"]],\"sequential\":[[0.0,\"#0d0887\"],[0.1111111111111111,\"#46039f\"],[0.2222222222222222,\"#7201a8\"],[0.3333333333333333,\"#9c179e\"],[0.4444444444444444,\"#bd3786\"],[0.5555555555555556,\"#d8576b\"],[0.6666666666666666,\"#ed7953\"],[0.7777777777777778,\"#fb9f3a\"],[0.8888888888888888,\"#fdca26\"],[1.0,\"#f0f921\"]],\"sequentialminus\":[[0.0,\"#0d0887\"],[0.1111111111111111,\"#46039f\"],[0.2222222222222222,\"#7201a8\"],[0.3333333333333333,\"#9c179e\"],[0.4444444444444444,\"#bd3786\"],[0.5555555555555556,\"#d8576b\"],[0.6666666666666666,\"#ed7953\"],[0.7777777777777778,\"#fb9f3a\"],[0.8888888888888888,\"#fdca26\"],[1.0,\"#f0f921\"]]},\"colorway\":[\"#636efa\",\"#EF553B\",\"#00cc96\",\"#ab63fa\",\"#FFA15A\",\"#19d3f3\",\"#FF6692\",\"#B6E880\",\"#FF97FF\",\"#FECB52\"],\"font\":{\"color\":\"#2a3f5f\"},\"geo\":{\"bgcolor\":\"white\",\"lakecolor\":\"white\",\"landcolor\":\"#E5ECF6\",\"showlakes\":true,\"showland\":true,\"subunitcolor\":\"white\"},\"hoverlabel\":{\"align\":\"left\"},\"hovermode\":\"closest\",\"mapbox\":{\"style\":\"light\"},\"paper_bgcolor\":\"white\",\"plot_bgcolor\":\"#E5ECF6\",\"polar\":{\"angularaxis\":{\"gridcolor\":\"white\",\"linecolor\":\"white\",\"ticks\":\"\"},\"bgcolor\":\"#E5ECF6\",\"radialaxis\":{\"gridcolor\":\"white\",\"linecolor\":\"white\",\"ticks\":\"\"}},\"scene\":{\"xaxis\":{\"backgroundcolor\":\"#E5ECF6\",\"gridcolor\":\"white\",\"gridwidth\":2,\"linecolor\":\"white\",\"showbackground\":true,\"ticks\":\"\",\"zerolinecolor\":\"white\"},\"yaxis\":{\"backgroundcolor\":\"#E5ECF6\",\"gridcolor\":\"white\",\"gridwidth\":2,\"linecolor\":\"white\",\"showbackground\":true,\"ticks\":\"\",\"zerolinecolor\":\"white\"},\"zaxis\":{\"backgroundcolor\":\"#E5ECF6\",\"gridcolor\":\"white\",\"gridwidth\":2,\"linecolor\":\"white\",\"showbackground\":true,\"ticks\":\"\",\"zerolinecolor\":\"white\"}},\"shapedefaults\":{\"line\":{\"color\":\"#2a3f5f\"}},\"ternary\":{\"aaxis\":{\"gridcolor\":\"white\",\"linecolor\":\"white\",\"ticks\":\"\"},\"baxis\":{\"gridcolor\":\"white\",\"linecolor\":\"white\",\"ticks\":\"\"},\"bgcolor\":\"#E5ECF6\",\"caxis\":{\"gridcolor\":\"white\",\"linecolor\":\"white\",\"ticks\":\"\"}},\"title\":{\"x\":0.05},\"xaxis\":{\"automargin\":true,\"gridcolor\":\"white\",\"linecolor\":\"white\",\"ticks\":\"\",\"title\":{\"standoff\":15},\"zerolinecolor\":\"white\",\"zerolinewidth\":2},\"yaxis\":{\"automargin\":true,\"gridcolor\":\"white\",\"linecolor\":\"white\",\"ticks\":\"\",\"title\":{\"standoff\":15},\"zerolinecolor\":\"white\",\"zerolinewidth\":2}}},\"title\":{\"font\":{\"color\":\"#4D5663\"}},\"xaxis\":{\"gridcolor\":\"#E1E5ED\",\"showgrid\":true,\"tickfont\":{\"color\":\"#4D5663\"},\"title\":{\"font\":{\"color\":\"#4D5663\"},\"text\":\"\"},\"zerolinecolor\":\"#E1E5ED\"},\"yaxis\":{\"gridcolor\":\"#E1E5ED\",\"showgrid\":true,\"tickfont\":{\"color\":\"#4D5663\"},\"title\":{\"font\":{\"color\":\"#4D5663\"},\"text\":\"\"},\"zerolinecolor\":\"#E1E5ED\"}},                        {\"showLink\": true, \"linkText\": \"Export to plot.ly\", \"plotlyServerURL\": \"https://plot.ly\", \"responsive\": true}                    ).then(function(){\n",
       "                            \n",
       "var gd = document.getElementById('72f8ad04-56cb-44e6-b90c-f0b38578e928');\n",
       "var x = new MutationObserver(function (mutations, observer) {{\n",
       "        var display = window.getComputedStyle(gd).display;\n",
       "        if (!display || display === 'none') {{\n",
       "            console.log([gd, 'removed!']);\n",
       "            Plotly.purge(gd);\n",
       "            observer.disconnect();\n",
       "        }}\n",
       "}});\n",
       "\n",
       "// Listen for the removal of the full notebook cells\n",
       "var notebookContainer = gd.closest('#notebook-container');\n",
       "if (notebookContainer) {{\n",
       "    x.observe(notebookContainer, {childList: true});\n",
       "}}\n",
       "\n",
       "// Listen for the clearing of the current output cell\n",
       "var outputEl = gd.closest('.output');\n",
       "if (outputEl) {{\n",
       "    x.observe(outputEl, {childList: true});\n",
       "}}\n",
       "\n",
       "                        })                };                });            </script>        </div>"
      ]
     },
     "metadata": {},
     "output_type": "display_data"
    }
   ],
   "source": [
    "df.iplot(kind='bubble',x='A',y='B',size='C')"
   ]
  },
  {
   "cell_type": "markdown",
   "metadata": {},
   "source": [
    "## scatter_matrix()\n",
    "\n",
    "Similar to sns.pairplot()"
   ]
  },
  {
   "cell_type": "code",
   "execution_count": 28,
   "metadata": {
    "collapsed": false,
    "jupyter": {
     "outputs_hidden": false
    }
   },
   "outputs": [
    {
     "data": {
      "application/vnd.plotly.v1+json": {
       "config": {
        "linkText": "Export to plot.ly",
        "plotlyServerURL": "https://plot.ly",
        "showLink": true
       },
       "data": [
        {
         "histfunc": "count",
         "histnorm": "",
         "marker": {
          "color": "rgba(255, 153, 51, 1.0)",
          "line": {
           "color": "#4D5663",
           "width": 1.3
          }
         },
         "name": "A",
         "nbinsx": 10,
         "opacity": 0.8,
         "orientation": "v",
         "type": "histogram",
         "x": [
          0.8869849113392575,
          -0.6964773634974851,
          0.7003725094248957,
          0.6608084726687465,
          1.7706764057755022,
          1.593145735885654,
          0.4740756469149725,
          0.6780606999675864,
          0.18401197953819318,
          -0.7649917952568512,
          0.9253634363763844,
          1.1118549199592058,
          -0.8433181578725014,
          -0.23664150329130548,
          -1.0992404617482978,
          0.28527338968743443,
          0.17481982564549223,
          1.3951250129856623,
          0.03590745163901755,
          -0.9594211851175032,
          -1.7179801807066248,
          0.9610755330564402,
          -0.21363215634783528,
          0.8804182323614378,
          0.1905342501740758,
          -0.4753432693912597,
          -0.1570437094027896,
          -0.9272609181058024,
          0.17515176239940475,
          -0.11926693582553309,
          0.6329377787337424,
          -0.6960379586458401,
          0.8072366409662378,
          1.0573006596282648,
          0.5262146051999136,
          -1.037271742531441,
          0.871425023776492,
          0.6875642804316112,
          -0.3209806553607807,
          -0.01897505420084429,
          1.1234988077597399,
          1.232420058647342,
          -0.4814980044587215,
          -0.35992966279024435,
          -0.3504136026398206,
          -0.0264638521470713,
          1.9455975191069528,
          0.7397424830525191,
          -1.3988662235783076,
          -0.6533021042995357,
          -1.0098839390042138,
          0.05158988935672315,
          -0.8885088323550191,
          1.3090023593260731,
          -0.4921751166128579,
          1.2562814695609659,
          -0.944489215550293,
          -0.9047929765159812,
          -0.16005070797481277,
          -0.3518748309386049,
          -0.6012147657777107,
          0.4833247270826448,
          -0.7995893120513355,
          0.6224446543722254,
          -0.09063609686494375,
          0.2828186976151058,
          1.298079370651083,
          0.60323067089413,
          0.9939326715694906,
          1.4930838976436456,
          -0.4027665687300486,
          -0.2607266448729439,
          -1.2535961981729813,
          0.9218123335954357,
          1.312062175830314,
          -0.9316561504008531,
          -0.61598560161817,
          -0.25100143532399877,
          0.4566927248840788,
          -0.9159752831190259,
          0.7377046809517973,
          -1.1626764129405016,
          -0.889391245298526,
          -0.6858184717161875,
          -0.09402072749499414,
          0.12562747120961676,
          0.09883684431670127,
          0.1865993291130212,
          -2.105122581865517,
          -1.5402416903738123,
          1.5094402807854603,
          -0.9361748837890781,
          0.12672444198158989,
          -1.589658407398841,
          -0.9996902030723225,
          0.12222138560129037,
          1.037829126734841,
          -1.0237728938148212,
          0.8129908238728943,
          -1.1735680529795158
         ],
         "xaxis": "x",
         "yaxis": "y"
        },
        {
         "line": {
          "color": "rgba(128, 128, 128, 1.0)",
          "dash": "solid",
          "shape": "linear",
          "width": 1.3
         },
         "marker": {
          "size": 2,
          "symbol": "circle"
         },
         "mode": "markers",
         "name": "A",
         "text": "",
         "type": "scatter",
         "x": [
          -0.8333485300834292,
          -1.2766677713856172,
          0.32889268999764587,
          -0.7228597241406125,
          -1.088055170641722,
          -0.26454960727060933,
          -1.088746135103376,
          1.307311404250032,
          0.08031675927464546,
          0.02757860090171118,
          0.6518221207539567,
          0.7276482533339022,
          -1.1158078994176668,
          -0.05851343762871096,
          -0.779070280511317,
          0.6555944432816424,
          0.3795977680725507,
          0.6047485425267529,
          -1.245835389444955,
          0.5118554482170173,
          0.4007446062617446,
          -0.9762413226379608,
          0.23963149916481855,
          -0.08182559589104474,
          0.28026876924154154,
          0.593917640305292,
          -1.9595673096812394,
          -1.06511056321929,
          0.9918697122537389,
          0.3043350394672878,
          -0.2265403931323341,
          2.192649137408791,
          0.9174930299413948,
          0.8686827682351795,
          -0.9492012311313425,
          1.9138497364086406,
          -1.021402262388293,
          0.15575335857348221,
          -0.6085703602891364,
          0.7370588517740067,
          -0.327086277798017,
          1.1799615116593871,
          -0.35685566036595373,
          -1.175460976239832,
          0.31255342310921275,
          0.9897473343815354,
          0.9198781183889619,
          -0.7474006092799659,
          -0.856587496221934,
          -0.785034997454377,
          -0.12235515802115861,
          -1.786434990061692,
          0.5481592699594763,
          -1.274980280267999,
          0.696836476541588,
          -1.370492271925774,
          2.06004470363456,
          2.0468933823727764,
          0.21084208697464552,
          -0.12258782808995522,
          0.6403637734278632,
          -1.311325626456603,
          1.503641044788058,
          -1.078001719112831,
          1.3989747726854669,
          -1.616107252848288,
          -0.9637366722446397,
          0.10514432242328021,
          -0.35714686741413504,
          1.306610500270275,
          1.0975979363582071,
          1.6273028114379513,
          0.0019938966806490165,
          0.369738032875827,
          0.6194225065626668,
          -0.6008423439289713,
          0.5994305624114238,
          0.1278850553222134,
          0.1993287048843189,
          -0.9900196451938488,
          -0.0030251013458408673,
          0.6231686049789226,
          0.05503581719741051,
          -0.08273659707165258,
          -0.2576366521809987,
          -0.30204557671675586,
          0.501843752794459,
          -0.08670464369271894,
          0.4723263552701553,
          0.5855339910336078,
          -1.557478447357505,
          1.169546362591803,
          1.8645090896560506,
          -0.08712959822128583,
          -1.1493323961227986,
          0.29210214535966844,
          0.6546376109394556,
          -0.6030391008507462,
          -0.5090505082959106,
          -1.0319222234727223
         ],
         "xaxis": "x2",
         "y": [
          0.8869849113392575,
          -0.6964773634974851,
          0.7003725094248957,
          0.6608084726687465,
          1.7706764057755022,
          1.593145735885654,
          0.4740756469149725,
          0.6780606999675864,
          0.18401197953819318,
          -0.7649917952568512,
          0.9253634363763844,
          1.1118549199592058,
          -0.8433181578725014,
          -0.23664150329130548,
          -1.0992404617482978,
          0.28527338968743443,
          0.17481982564549223,
          1.3951250129856623,
          0.03590745163901755,
          -0.9594211851175032,
          -1.7179801807066248,
          0.9610755330564402,
          -0.21363215634783528,
          0.8804182323614378,
          0.1905342501740758,
          -0.4753432693912597,
          -0.1570437094027896,
          -0.9272609181058024,
          0.17515176239940475,
          -0.11926693582553309,
          0.6329377787337424,
          -0.6960379586458401,
          0.8072366409662378,
          1.0573006596282648,
          0.5262146051999136,
          -1.037271742531441,
          0.871425023776492,
          0.6875642804316112,
          -0.3209806553607807,
          -0.01897505420084429,
          1.1234988077597399,
          1.232420058647342,
          -0.4814980044587215,
          -0.35992966279024435,
          -0.3504136026398206,
          -0.0264638521470713,
          1.9455975191069528,
          0.7397424830525191,
          -1.3988662235783076,
          -0.6533021042995357,
          -1.0098839390042138,
          0.05158988935672315,
          -0.8885088323550191,
          1.3090023593260731,
          -0.4921751166128579,
          1.2562814695609659,
          -0.944489215550293,
          -0.9047929765159812,
          -0.16005070797481277,
          -0.3518748309386049,
          -0.6012147657777107,
          0.4833247270826448,
          -0.7995893120513355,
          0.6224446543722254,
          -0.09063609686494375,
          0.2828186976151058,
          1.298079370651083,
          0.60323067089413,
          0.9939326715694906,
          1.4930838976436456,
          -0.4027665687300486,
          -0.2607266448729439,
          -1.2535961981729813,
          0.9218123335954357,
          1.312062175830314,
          -0.9316561504008531,
          -0.61598560161817,
          -0.25100143532399877,
          0.4566927248840788,
          -0.9159752831190259,
          0.7377046809517973,
          -1.1626764129405016,
          -0.889391245298526,
          -0.6858184717161875,
          -0.09402072749499414,
          0.12562747120961676,
          0.09883684431670127,
          0.1865993291130212,
          -2.105122581865517,
          -1.5402416903738123,
          1.5094402807854603,
          -0.9361748837890781,
          0.12672444198158989,
          -1.589658407398841,
          -0.9996902030723225,
          0.12222138560129037,
          1.037829126734841,
          -1.0237728938148212,
          0.8129908238728943,
          -1.1735680529795158
         ],
         "yaxis": "y2"
        },
        {
         "line": {
          "color": "rgba(128, 128, 128, 1.0)",
          "dash": "solid",
          "shape": "linear",
          "width": 1.3
         },
         "marker": {
          "size": 2,
          "symbol": "circle"
         },
         "mode": "markers",
         "name": "A",
         "text": "",
         "type": "scatter",
         "x": [
          0.49322405126214947,
          0.5457600716443969,
          -0.42517835147861877,
          0.5745511255977691,
          1.7684737099934653,
          1.1907514543407776,
          -1.1060418086123995,
          -0.10012538251557579,
          0.27699957003768877,
          1.007495807088129,
          -1.252918666875961,
          2.318270158629934,
          -0.06728910105018798,
          1.654583566684126,
          1.148233312788604,
          -2.166818486226118,
          -2.8413326109406345,
          1.0338281332613426,
          -0.07633761686381346,
          -0.47184278336843244,
          -0.932511228454258,
          -0.11047489848371143,
          0.9614595767991201,
          0.754712284550973,
          0.12960506867193408,
          -1.666025463753459,
          -1.3255997436971705,
          0.7294701985664961,
          -1.4315793816431988,
          0.578199843033818,
          -0.7610094054926043,
          1.35599248727197,
          0.34616608661427445,
          -1.3096329061710563,
          -0.8797481210910884,
          0.37859645846032747,
          1.6970766354386277,
          -0.6618327113581314,
          0.7807784048236518,
          0.1778841944508108,
          0.39751840401696537,
          0.12398811610905923,
          1.4627812670640001,
          -0.17405092079614742,
          0.33090784965752895,
          -0.09268259705402866,
          -1.4943178764179594,
          0.6030433843066976,
          -0.9929821631304186,
          -1.2404369181492476,
          1.3996326136016746,
          -0.5358908297865966,
          0.9090192491449295,
          -0.7572264642866648,
          0.610378458910417,
          0.8836714610088213,
          -0.8022144972206394,
          -0.2690592174540479,
          -0.48223688070710247,
          -0.5073223031057444,
          0.9345858383266177,
          -3.1960464118659218,
          0.3596196111620243,
          -0.7891156122689769,
          -0.5369022071597999,
          0.913099153608634,
          0.8170324598206611,
          -0.8859877241879088,
          1.0355477169646596,
          -0.1086304860204677,
          -0.5123087821354901,
          2.09941591774087,
          -1.1564488215399584,
          0.8600159901705485,
          0.21051312102654496,
          1.4604330406588446,
          1.816635832794891,
          -0.7081424083881579,
          0.999425767418478,
          0.5361847088819287,
          -0.048321469429248066,
          -0.3493218467811937,
          0.8863312322056334,
          0.7725403728895929,
          -0.09718393494692423,
          0.38377814475875366,
          -0.9386339851183051,
          -0.33226935220362286,
          0.028407676359431405,
          1.482648301261031,
          -0.05965477409126021,
          -1.2717496469009433,
          -0.0494281997170523,
          0.1822432949232148,
          2.048681465799448,
          -0.37100561331300896,
          -0.7781379418352393,
          -0.7609175210768929,
          -0.2548516908977958,
          0.026192176729354477
         ],
         "xaxis": "x3",
         "y": [
          0.8869849113392575,
          -0.6964773634974851,
          0.7003725094248957,
          0.6608084726687465,
          1.7706764057755022,
          1.593145735885654,
          0.4740756469149725,
          0.6780606999675864,
          0.18401197953819318,
          -0.7649917952568512,
          0.9253634363763844,
          1.1118549199592058,
          -0.8433181578725014,
          -0.23664150329130548,
          -1.0992404617482978,
          0.28527338968743443,
          0.17481982564549223,
          1.3951250129856623,
          0.03590745163901755,
          -0.9594211851175032,
          -1.7179801807066248,
          0.9610755330564402,
          -0.21363215634783528,
          0.8804182323614378,
          0.1905342501740758,
          -0.4753432693912597,
          -0.1570437094027896,
          -0.9272609181058024,
          0.17515176239940475,
          -0.11926693582553309,
          0.6329377787337424,
          -0.6960379586458401,
          0.8072366409662378,
          1.0573006596282648,
          0.5262146051999136,
          -1.037271742531441,
          0.871425023776492,
          0.6875642804316112,
          -0.3209806553607807,
          -0.01897505420084429,
          1.1234988077597399,
          1.232420058647342,
          -0.4814980044587215,
          -0.35992966279024435,
          -0.3504136026398206,
          -0.0264638521470713,
          1.9455975191069528,
          0.7397424830525191,
          -1.3988662235783076,
          -0.6533021042995357,
          -1.0098839390042138,
          0.05158988935672315,
          -0.8885088323550191,
          1.3090023593260731,
          -0.4921751166128579,
          1.2562814695609659,
          -0.944489215550293,
          -0.9047929765159812,
          -0.16005070797481277,
          -0.3518748309386049,
          -0.6012147657777107,
          0.4833247270826448,
          -0.7995893120513355,
          0.6224446543722254,
          -0.09063609686494375,
          0.2828186976151058,
          1.298079370651083,
          0.60323067089413,
          0.9939326715694906,
          1.4930838976436456,
          -0.4027665687300486,
          -0.2607266448729439,
          -1.2535961981729813,
          0.9218123335954357,
          1.312062175830314,
          -0.9316561504008531,
          -0.61598560161817,
          -0.25100143532399877,
          0.4566927248840788,
          -0.9159752831190259,
          0.7377046809517973,
          -1.1626764129405016,
          -0.889391245298526,
          -0.6858184717161875,
          -0.09402072749499414,
          0.12562747120961676,
          0.09883684431670127,
          0.1865993291130212,
          -2.105122581865517,
          -1.5402416903738123,
          1.5094402807854603,
          -0.9361748837890781,
          0.12672444198158989,
          -1.589658407398841,
          -0.9996902030723225,
          0.12222138560129037,
          1.037829126734841,
          -1.0237728938148212,
          0.8129908238728943,
          -1.1735680529795158
         ],
         "yaxis": "y3"
        },
        {
         "line": {
          "color": "rgba(128, 128, 128, 1.0)",
          "dash": "solid",
          "shape": "linear",
          "width": 1.3
         },
         "marker": {
          "size": 2,
          "symbol": "circle"
         },
         "mode": "markers",
         "name": "A",
         "text": "",
         "type": "scatter",
         "x": [
          -1.106588595253017,
          -1.7625259970631675,
          -0.28114898378892783,
          -1.8458032499016095,
          0.493990428336042,
          0.6915882234883003,
          -0.4181147376758479,
          1.9759592418227228,
          -0.4227437328973502,
          -0.7886324832124805,
          -0.2981985158557025,
          1.7863195588385747,
          0.7671438676226041,
          0.061163816143691964,
          1.068788065212692,
          0.9843506349446971,
          0.13379548199694222,
          1.9746605907731327,
          -0.7967190353984315,
          0.4419751393025786,
          0.8551529874622772,
          -0.48572752108699574,
          1.831487471210438,
          0.9033522467774028,
          -0.5884621961182047,
          0.9142641717150914,
          0.4360557228216116,
          0.07614701310123126,
          1.712911167595945,
          -1.0716019303204742,
          1.0605631546143397,
          -1.0310122645167352,
          1.4570388109825128,
          0.3721513111041933,
          0.3840859292887934,
          0.16692219940290637,
          -2.2682607764235128,
          0.6225888158694625,
          0.6015441989964391,
          0.4717372158894237,
          -0.02050580468473935,
          -1.2287436404299503,
          -0.2086821448422613,
          1.2490764699864383,
          1.728011850419966,
          1.1907730707343362,
          -0.019661123978005735,
          0.16576057162772515,
          0.39935894525127164,
          0.023873960189528656,
          1.8590120009018491,
          -0.2394313488667711,
          0.5363253572996315,
          -1.1029843258676288,
          1.170588938860763,
          -0.473752094474679,
          1.8021154540602147,
          -0.42521188603580434,
          0.37042104511974633,
          1.0692619530657717,
          -0.4090631633454856,
          -0.43424621515593187,
          -0.03456060882119637,
          0.7321767033056015,
          -1.2958583797579732,
          0.919562596878192,
          1.462368362357545,
          -0.8961900922615357,
          -1.0125652676931065,
          1.7067018125820816,
          -0.18334575181701857,
          -0.03938972840374754,
          0.7260607860479866,
          0.32955806515040015,
          -2.275663137360097,
          0.3216295542407838,
          -1.941900055198531,
          -1.2697864576400166,
          -0.27017250547389055,
          0.027607956226635918,
          -1.4916082080114075,
          0.008743448000394788,
          -1.1393957361692086,
          -0.018070644370657717,
          -0.40427606584351705,
          1.1048619376386135,
          0.9731369300885374,
          0.5848063916374624,
          -1.707256895343771,
          1.2825706302093165,
          3.376330126105509,
          -0.06884548617581909,
          -0.28501539631248346,
          -0.47857383620816546,
          0.30886230006894966,
          -1.1739837561907096,
          -0.027357805727334625,
          0.47270856057555993,
          -0.2533226844982376,
          -0.9553228727653434
         ],
         "xaxis": "x4",
         "y": [
          0.8869849113392575,
          -0.6964773634974851,
          0.7003725094248957,
          0.6608084726687465,
          1.7706764057755022,
          1.593145735885654,
          0.4740756469149725,
          0.6780606999675864,
          0.18401197953819318,
          -0.7649917952568512,
          0.9253634363763844,
          1.1118549199592058,
          -0.8433181578725014,
          -0.23664150329130548,
          -1.0992404617482978,
          0.28527338968743443,
          0.17481982564549223,
          1.3951250129856623,
          0.03590745163901755,
          -0.9594211851175032,
          -1.7179801807066248,
          0.9610755330564402,
          -0.21363215634783528,
          0.8804182323614378,
          0.1905342501740758,
          -0.4753432693912597,
          -0.1570437094027896,
          -0.9272609181058024,
          0.17515176239940475,
          -0.11926693582553309,
          0.6329377787337424,
          -0.6960379586458401,
          0.8072366409662378,
          1.0573006596282648,
          0.5262146051999136,
          -1.037271742531441,
          0.871425023776492,
          0.6875642804316112,
          -0.3209806553607807,
          -0.01897505420084429,
          1.1234988077597399,
          1.232420058647342,
          -0.4814980044587215,
          -0.35992966279024435,
          -0.3504136026398206,
          -0.0264638521470713,
          1.9455975191069528,
          0.7397424830525191,
          -1.3988662235783076,
          -0.6533021042995357,
          -1.0098839390042138,
          0.05158988935672315,
          -0.8885088323550191,
          1.3090023593260731,
          -0.4921751166128579,
          1.2562814695609659,
          -0.944489215550293,
          -0.9047929765159812,
          -0.16005070797481277,
          -0.3518748309386049,
          -0.6012147657777107,
          0.4833247270826448,
          -0.7995893120513355,
          0.6224446543722254,
          -0.09063609686494375,
          0.2828186976151058,
          1.298079370651083,
          0.60323067089413,
          0.9939326715694906,
          1.4930838976436456,
          -0.4027665687300486,
          -0.2607266448729439,
          -1.2535961981729813,
          0.9218123335954357,
          1.312062175830314,
          -0.9316561504008531,
          -0.61598560161817,
          -0.25100143532399877,
          0.4566927248840788,
          -0.9159752831190259,
          0.7377046809517973,
          -1.1626764129405016,
          -0.889391245298526,
          -0.6858184717161875,
          -0.09402072749499414,
          0.12562747120961676,
          0.09883684431670127,
          0.1865993291130212,
          -2.105122581865517,
          -1.5402416903738123,
          1.5094402807854603,
          -0.9361748837890781,
          0.12672444198158989,
          -1.589658407398841,
          -0.9996902030723225,
          0.12222138560129037,
          1.037829126734841,
          -1.0237728938148212,
          0.8129908238728943,
          -1.1735680529795158
         ],
         "yaxis": "y4"
        },
        {
         "line": {
          "color": "rgba(128, 128, 128, 1.0)",
          "dash": "solid",
          "shape": "linear",
          "width": 1.3
         },
         "marker": {
          "size": 2,
          "symbol": "circle"
         },
         "mode": "markers",
         "name": "B",
         "text": "",
         "type": "scatter",
         "x": [
          0.8869849113392575,
          -0.6964773634974851,
          0.7003725094248957,
          0.6608084726687465,
          1.7706764057755022,
          1.593145735885654,
          0.4740756469149725,
          0.6780606999675864,
          0.18401197953819318,
          -0.7649917952568512,
          0.9253634363763844,
          1.1118549199592058,
          -0.8433181578725014,
          -0.23664150329130548,
          -1.0992404617482978,
          0.28527338968743443,
          0.17481982564549223,
          1.3951250129856623,
          0.03590745163901755,
          -0.9594211851175032,
          -1.7179801807066248,
          0.9610755330564402,
          -0.21363215634783528,
          0.8804182323614378,
          0.1905342501740758,
          -0.4753432693912597,
          -0.1570437094027896,
          -0.9272609181058024,
          0.17515176239940475,
          -0.11926693582553309,
          0.6329377787337424,
          -0.6960379586458401,
          0.8072366409662378,
          1.0573006596282648,
          0.5262146051999136,
          -1.037271742531441,
          0.871425023776492,
          0.6875642804316112,
          -0.3209806553607807,
          -0.01897505420084429,
          1.1234988077597399,
          1.232420058647342,
          -0.4814980044587215,
          -0.35992966279024435,
          -0.3504136026398206,
          -0.0264638521470713,
          1.9455975191069528,
          0.7397424830525191,
          -1.3988662235783076,
          -0.6533021042995357,
          -1.0098839390042138,
          0.05158988935672315,
          -0.8885088323550191,
          1.3090023593260731,
          -0.4921751166128579,
          1.2562814695609659,
          -0.944489215550293,
          -0.9047929765159812,
          -0.16005070797481277,
          -0.3518748309386049,
          -0.6012147657777107,
          0.4833247270826448,
          -0.7995893120513355,
          0.6224446543722254,
          -0.09063609686494375,
          0.2828186976151058,
          1.298079370651083,
          0.60323067089413,
          0.9939326715694906,
          1.4930838976436456,
          -0.4027665687300486,
          -0.2607266448729439,
          -1.2535961981729813,
          0.9218123335954357,
          1.312062175830314,
          -0.9316561504008531,
          -0.61598560161817,
          -0.25100143532399877,
          0.4566927248840788,
          -0.9159752831190259,
          0.7377046809517973,
          -1.1626764129405016,
          -0.889391245298526,
          -0.6858184717161875,
          -0.09402072749499414,
          0.12562747120961676,
          0.09883684431670127,
          0.1865993291130212,
          -2.105122581865517,
          -1.5402416903738123,
          1.5094402807854603,
          -0.9361748837890781,
          0.12672444198158989,
          -1.589658407398841,
          -0.9996902030723225,
          0.12222138560129037,
          1.037829126734841,
          -1.0237728938148212,
          0.8129908238728943,
          -1.1735680529795158
         ],
         "xaxis": "x5",
         "y": [
          -0.8333485300834292,
          -1.2766677713856172,
          0.32889268999764587,
          -0.7228597241406125,
          -1.088055170641722,
          -0.26454960727060933,
          -1.088746135103376,
          1.307311404250032,
          0.08031675927464546,
          0.02757860090171118,
          0.6518221207539567,
          0.7276482533339022,
          -1.1158078994176668,
          -0.05851343762871096,
          -0.779070280511317,
          0.6555944432816424,
          0.3795977680725507,
          0.6047485425267529,
          -1.245835389444955,
          0.5118554482170173,
          0.4007446062617446,
          -0.9762413226379608,
          0.23963149916481855,
          -0.08182559589104474,
          0.28026876924154154,
          0.593917640305292,
          -1.9595673096812394,
          -1.06511056321929,
          0.9918697122537389,
          0.3043350394672878,
          -0.2265403931323341,
          2.192649137408791,
          0.9174930299413948,
          0.8686827682351795,
          -0.9492012311313425,
          1.9138497364086406,
          -1.021402262388293,
          0.15575335857348221,
          -0.6085703602891364,
          0.7370588517740067,
          -0.327086277798017,
          1.1799615116593871,
          -0.35685566036595373,
          -1.175460976239832,
          0.31255342310921275,
          0.9897473343815354,
          0.9198781183889619,
          -0.7474006092799659,
          -0.856587496221934,
          -0.785034997454377,
          -0.12235515802115861,
          -1.786434990061692,
          0.5481592699594763,
          -1.274980280267999,
          0.696836476541588,
          -1.370492271925774,
          2.06004470363456,
          2.0468933823727764,
          0.21084208697464552,
          -0.12258782808995522,
          0.6403637734278632,
          -1.311325626456603,
          1.503641044788058,
          -1.078001719112831,
          1.3989747726854669,
          -1.616107252848288,
          -0.9637366722446397,
          0.10514432242328021,
          -0.35714686741413504,
          1.306610500270275,
          1.0975979363582071,
          1.6273028114379513,
          0.0019938966806490165,
          0.369738032875827,
          0.6194225065626668,
          -0.6008423439289713,
          0.5994305624114238,
          0.1278850553222134,
          0.1993287048843189,
          -0.9900196451938488,
          -0.0030251013458408673,
          0.6231686049789226,
          0.05503581719741051,
          -0.08273659707165258,
          -0.2576366521809987,
          -0.30204557671675586,
          0.501843752794459,
          -0.08670464369271894,
          0.4723263552701553,
          0.5855339910336078,
          -1.557478447357505,
          1.169546362591803,
          1.8645090896560506,
          -0.08712959822128583,
          -1.1493323961227986,
          0.29210214535966844,
          0.6546376109394556,
          -0.6030391008507462,
          -0.5090505082959106,
          -1.0319222234727223
         ],
         "yaxis": "y5"
        },
        {
         "histfunc": "count",
         "histnorm": "",
         "marker": {
          "color": "rgba(55, 128, 191, 1.0)",
          "line": {
           "color": "#4D5663",
           "width": 1.3
          }
         },
         "name": "B",
         "nbinsx": 10,
         "opacity": 0.8,
         "orientation": "v",
         "type": "histogram",
         "x": [
          -0.8333485300834292,
          -1.2766677713856172,
          0.32889268999764587,
          -0.7228597241406125,
          -1.088055170641722,
          -0.26454960727060933,
          -1.088746135103376,
          1.307311404250032,
          0.08031675927464546,
          0.02757860090171118,
          0.6518221207539567,
          0.7276482533339022,
          -1.1158078994176668,
          -0.05851343762871096,
          -0.779070280511317,
          0.6555944432816424,
          0.3795977680725507,
          0.6047485425267529,
          -1.245835389444955,
          0.5118554482170173,
          0.4007446062617446,
          -0.9762413226379608,
          0.23963149916481855,
          -0.08182559589104474,
          0.28026876924154154,
          0.593917640305292,
          -1.9595673096812394,
          -1.06511056321929,
          0.9918697122537389,
          0.3043350394672878,
          -0.2265403931323341,
          2.192649137408791,
          0.9174930299413948,
          0.8686827682351795,
          -0.9492012311313425,
          1.9138497364086406,
          -1.021402262388293,
          0.15575335857348221,
          -0.6085703602891364,
          0.7370588517740067,
          -0.327086277798017,
          1.1799615116593871,
          -0.35685566036595373,
          -1.175460976239832,
          0.31255342310921275,
          0.9897473343815354,
          0.9198781183889619,
          -0.7474006092799659,
          -0.856587496221934,
          -0.785034997454377,
          -0.12235515802115861,
          -1.786434990061692,
          0.5481592699594763,
          -1.274980280267999,
          0.696836476541588,
          -1.370492271925774,
          2.06004470363456,
          2.0468933823727764,
          0.21084208697464552,
          -0.12258782808995522,
          0.6403637734278632,
          -1.311325626456603,
          1.503641044788058,
          -1.078001719112831,
          1.3989747726854669,
          -1.616107252848288,
          -0.9637366722446397,
          0.10514432242328021,
          -0.35714686741413504,
          1.306610500270275,
          1.0975979363582071,
          1.6273028114379513,
          0.0019938966806490165,
          0.369738032875827,
          0.6194225065626668,
          -0.6008423439289713,
          0.5994305624114238,
          0.1278850553222134,
          0.1993287048843189,
          -0.9900196451938488,
          -0.0030251013458408673,
          0.6231686049789226,
          0.05503581719741051,
          -0.08273659707165258,
          -0.2576366521809987,
          -0.30204557671675586,
          0.501843752794459,
          -0.08670464369271894,
          0.4723263552701553,
          0.5855339910336078,
          -1.557478447357505,
          1.169546362591803,
          1.8645090896560506,
          -0.08712959822128583,
          -1.1493323961227986,
          0.29210214535966844,
          0.6546376109394556,
          -0.6030391008507462,
          -0.5090505082959106,
          -1.0319222234727223
         ],
         "xaxis": "x6",
         "yaxis": "y6"
        },
        {
         "line": {
          "color": "rgba(128, 128, 128, 1.0)",
          "dash": "solid",
          "shape": "linear",
          "width": 1.3
         },
         "marker": {
          "size": 2,
          "symbol": "circle"
         },
         "mode": "markers",
         "name": "B",
         "text": "",
         "type": "scatter",
         "x": [
          0.49322405126214947,
          0.5457600716443969,
          -0.42517835147861877,
          0.5745511255977691,
          1.7684737099934653,
          1.1907514543407776,
          -1.1060418086123995,
          -0.10012538251557579,
          0.27699957003768877,
          1.007495807088129,
          -1.252918666875961,
          2.318270158629934,
          -0.06728910105018798,
          1.654583566684126,
          1.148233312788604,
          -2.166818486226118,
          -2.8413326109406345,
          1.0338281332613426,
          -0.07633761686381346,
          -0.47184278336843244,
          -0.932511228454258,
          -0.11047489848371143,
          0.9614595767991201,
          0.754712284550973,
          0.12960506867193408,
          -1.666025463753459,
          -1.3255997436971705,
          0.7294701985664961,
          -1.4315793816431988,
          0.578199843033818,
          -0.7610094054926043,
          1.35599248727197,
          0.34616608661427445,
          -1.3096329061710563,
          -0.8797481210910884,
          0.37859645846032747,
          1.6970766354386277,
          -0.6618327113581314,
          0.7807784048236518,
          0.1778841944508108,
          0.39751840401696537,
          0.12398811610905923,
          1.4627812670640001,
          -0.17405092079614742,
          0.33090784965752895,
          -0.09268259705402866,
          -1.4943178764179594,
          0.6030433843066976,
          -0.9929821631304186,
          -1.2404369181492476,
          1.3996326136016746,
          -0.5358908297865966,
          0.9090192491449295,
          -0.7572264642866648,
          0.610378458910417,
          0.8836714610088213,
          -0.8022144972206394,
          -0.2690592174540479,
          -0.48223688070710247,
          -0.5073223031057444,
          0.9345858383266177,
          -3.1960464118659218,
          0.3596196111620243,
          -0.7891156122689769,
          -0.5369022071597999,
          0.913099153608634,
          0.8170324598206611,
          -0.8859877241879088,
          1.0355477169646596,
          -0.1086304860204677,
          -0.5123087821354901,
          2.09941591774087,
          -1.1564488215399584,
          0.8600159901705485,
          0.21051312102654496,
          1.4604330406588446,
          1.816635832794891,
          -0.7081424083881579,
          0.999425767418478,
          0.5361847088819287,
          -0.048321469429248066,
          -0.3493218467811937,
          0.8863312322056334,
          0.7725403728895929,
          -0.09718393494692423,
          0.38377814475875366,
          -0.9386339851183051,
          -0.33226935220362286,
          0.028407676359431405,
          1.482648301261031,
          -0.05965477409126021,
          -1.2717496469009433,
          -0.0494281997170523,
          0.1822432949232148,
          2.048681465799448,
          -0.37100561331300896,
          -0.7781379418352393,
          -0.7609175210768929,
          -0.2548516908977958,
          0.026192176729354477
         ],
         "xaxis": "x7",
         "y": [
          -0.8333485300834292,
          -1.2766677713856172,
          0.32889268999764587,
          -0.7228597241406125,
          -1.088055170641722,
          -0.26454960727060933,
          -1.088746135103376,
          1.307311404250032,
          0.08031675927464546,
          0.02757860090171118,
          0.6518221207539567,
          0.7276482533339022,
          -1.1158078994176668,
          -0.05851343762871096,
          -0.779070280511317,
          0.6555944432816424,
          0.3795977680725507,
          0.6047485425267529,
          -1.245835389444955,
          0.5118554482170173,
          0.4007446062617446,
          -0.9762413226379608,
          0.23963149916481855,
          -0.08182559589104474,
          0.28026876924154154,
          0.593917640305292,
          -1.9595673096812394,
          -1.06511056321929,
          0.9918697122537389,
          0.3043350394672878,
          -0.2265403931323341,
          2.192649137408791,
          0.9174930299413948,
          0.8686827682351795,
          -0.9492012311313425,
          1.9138497364086406,
          -1.021402262388293,
          0.15575335857348221,
          -0.6085703602891364,
          0.7370588517740067,
          -0.327086277798017,
          1.1799615116593871,
          -0.35685566036595373,
          -1.175460976239832,
          0.31255342310921275,
          0.9897473343815354,
          0.9198781183889619,
          -0.7474006092799659,
          -0.856587496221934,
          -0.785034997454377,
          -0.12235515802115861,
          -1.786434990061692,
          0.5481592699594763,
          -1.274980280267999,
          0.696836476541588,
          -1.370492271925774,
          2.06004470363456,
          2.0468933823727764,
          0.21084208697464552,
          -0.12258782808995522,
          0.6403637734278632,
          -1.311325626456603,
          1.503641044788058,
          -1.078001719112831,
          1.3989747726854669,
          -1.616107252848288,
          -0.9637366722446397,
          0.10514432242328021,
          -0.35714686741413504,
          1.306610500270275,
          1.0975979363582071,
          1.6273028114379513,
          0.0019938966806490165,
          0.369738032875827,
          0.6194225065626668,
          -0.6008423439289713,
          0.5994305624114238,
          0.1278850553222134,
          0.1993287048843189,
          -0.9900196451938488,
          -0.0030251013458408673,
          0.6231686049789226,
          0.05503581719741051,
          -0.08273659707165258,
          -0.2576366521809987,
          -0.30204557671675586,
          0.501843752794459,
          -0.08670464369271894,
          0.4723263552701553,
          0.5855339910336078,
          -1.557478447357505,
          1.169546362591803,
          1.8645090896560506,
          -0.08712959822128583,
          -1.1493323961227986,
          0.29210214535966844,
          0.6546376109394556,
          -0.6030391008507462,
          -0.5090505082959106,
          -1.0319222234727223
         ],
         "yaxis": "y7"
        },
        {
         "line": {
          "color": "rgba(128, 128, 128, 1.0)",
          "dash": "solid",
          "shape": "linear",
          "width": 1.3
         },
         "marker": {
          "size": 2,
          "symbol": "circle"
         },
         "mode": "markers",
         "name": "B",
         "text": "",
         "type": "scatter",
         "x": [
          -1.106588595253017,
          -1.7625259970631675,
          -0.28114898378892783,
          -1.8458032499016095,
          0.493990428336042,
          0.6915882234883003,
          -0.4181147376758479,
          1.9759592418227228,
          -0.4227437328973502,
          -0.7886324832124805,
          -0.2981985158557025,
          1.7863195588385747,
          0.7671438676226041,
          0.061163816143691964,
          1.068788065212692,
          0.9843506349446971,
          0.13379548199694222,
          1.9746605907731327,
          -0.7967190353984315,
          0.4419751393025786,
          0.8551529874622772,
          -0.48572752108699574,
          1.831487471210438,
          0.9033522467774028,
          -0.5884621961182047,
          0.9142641717150914,
          0.4360557228216116,
          0.07614701310123126,
          1.712911167595945,
          -1.0716019303204742,
          1.0605631546143397,
          -1.0310122645167352,
          1.4570388109825128,
          0.3721513111041933,
          0.3840859292887934,
          0.16692219940290637,
          -2.2682607764235128,
          0.6225888158694625,
          0.6015441989964391,
          0.4717372158894237,
          -0.02050580468473935,
          -1.2287436404299503,
          -0.2086821448422613,
          1.2490764699864383,
          1.728011850419966,
          1.1907730707343362,
          -0.019661123978005735,
          0.16576057162772515,
          0.39935894525127164,
          0.023873960189528656,
          1.8590120009018491,
          -0.2394313488667711,
          0.5363253572996315,
          -1.1029843258676288,
          1.170588938860763,
          -0.473752094474679,
          1.8021154540602147,
          -0.42521188603580434,
          0.37042104511974633,
          1.0692619530657717,
          -0.4090631633454856,
          -0.43424621515593187,
          -0.03456060882119637,
          0.7321767033056015,
          -1.2958583797579732,
          0.919562596878192,
          1.462368362357545,
          -0.8961900922615357,
          -1.0125652676931065,
          1.7067018125820816,
          -0.18334575181701857,
          -0.03938972840374754,
          0.7260607860479866,
          0.32955806515040015,
          -2.275663137360097,
          0.3216295542407838,
          -1.941900055198531,
          -1.2697864576400166,
          -0.27017250547389055,
          0.027607956226635918,
          -1.4916082080114075,
          0.008743448000394788,
          -1.1393957361692086,
          -0.018070644370657717,
          -0.40427606584351705,
          1.1048619376386135,
          0.9731369300885374,
          0.5848063916374624,
          -1.707256895343771,
          1.2825706302093165,
          3.376330126105509,
          -0.06884548617581909,
          -0.28501539631248346,
          -0.47857383620816546,
          0.30886230006894966,
          -1.1739837561907096,
          -0.027357805727334625,
          0.47270856057555993,
          -0.2533226844982376,
          -0.9553228727653434
         ],
         "xaxis": "x8",
         "y": [
          -0.8333485300834292,
          -1.2766677713856172,
          0.32889268999764587,
          -0.7228597241406125,
          -1.088055170641722,
          -0.26454960727060933,
          -1.088746135103376,
          1.307311404250032,
          0.08031675927464546,
          0.02757860090171118,
          0.6518221207539567,
          0.7276482533339022,
          -1.1158078994176668,
          -0.05851343762871096,
          -0.779070280511317,
          0.6555944432816424,
          0.3795977680725507,
          0.6047485425267529,
          -1.245835389444955,
          0.5118554482170173,
          0.4007446062617446,
          -0.9762413226379608,
          0.23963149916481855,
          -0.08182559589104474,
          0.28026876924154154,
          0.593917640305292,
          -1.9595673096812394,
          -1.06511056321929,
          0.9918697122537389,
          0.3043350394672878,
          -0.2265403931323341,
          2.192649137408791,
          0.9174930299413948,
          0.8686827682351795,
          -0.9492012311313425,
          1.9138497364086406,
          -1.021402262388293,
          0.15575335857348221,
          -0.6085703602891364,
          0.7370588517740067,
          -0.327086277798017,
          1.1799615116593871,
          -0.35685566036595373,
          -1.175460976239832,
          0.31255342310921275,
          0.9897473343815354,
          0.9198781183889619,
          -0.7474006092799659,
          -0.856587496221934,
          -0.785034997454377,
          -0.12235515802115861,
          -1.786434990061692,
          0.5481592699594763,
          -1.274980280267999,
          0.696836476541588,
          -1.370492271925774,
          2.06004470363456,
          2.0468933823727764,
          0.21084208697464552,
          -0.12258782808995522,
          0.6403637734278632,
          -1.311325626456603,
          1.503641044788058,
          -1.078001719112831,
          1.3989747726854669,
          -1.616107252848288,
          -0.9637366722446397,
          0.10514432242328021,
          -0.35714686741413504,
          1.306610500270275,
          1.0975979363582071,
          1.6273028114379513,
          0.0019938966806490165,
          0.369738032875827,
          0.6194225065626668,
          -0.6008423439289713,
          0.5994305624114238,
          0.1278850553222134,
          0.1993287048843189,
          -0.9900196451938488,
          -0.0030251013458408673,
          0.6231686049789226,
          0.05503581719741051,
          -0.08273659707165258,
          -0.2576366521809987,
          -0.30204557671675586,
          0.501843752794459,
          -0.08670464369271894,
          0.4723263552701553,
          0.5855339910336078,
          -1.557478447357505,
          1.169546362591803,
          1.8645090896560506,
          -0.08712959822128583,
          -1.1493323961227986,
          0.29210214535966844,
          0.6546376109394556,
          -0.6030391008507462,
          -0.5090505082959106,
          -1.0319222234727223
         ],
         "yaxis": "y8"
        },
        {
         "line": {
          "color": "rgba(128, 128, 128, 1.0)",
          "dash": "solid",
          "shape": "linear",
          "width": 1.3
         },
         "marker": {
          "size": 2,
          "symbol": "circle"
         },
         "mode": "markers",
         "name": "C",
         "text": "",
         "type": "scatter",
         "x": [
          0.8869849113392575,
          -0.6964773634974851,
          0.7003725094248957,
          0.6608084726687465,
          1.7706764057755022,
          1.593145735885654,
          0.4740756469149725,
          0.6780606999675864,
          0.18401197953819318,
          -0.7649917952568512,
          0.9253634363763844,
          1.1118549199592058,
          -0.8433181578725014,
          -0.23664150329130548,
          -1.0992404617482978,
          0.28527338968743443,
          0.17481982564549223,
          1.3951250129856623,
          0.03590745163901755,
          -0.9594211851175032,
          -1.7179801807066248,
          0.9610755330564402,
          -0.21363215634783528,
          0.8804182323614378,
          0.1905342501740758,
          -0.4753432693912597,
          -0.1570437094027896,
          -0.9272609181058024,
          0.17515176239940475,
          -0.11926693582553309,
          0.6329377787337424,
          -0.6960379586458401,
          0.8072366409662378,
          1.0573006596282648,
          0.5262146051999136,
          -1.037271742531441,
          0.871425023776492,
          0.6875642804316112,
          -0.3209806553607807,
          -0.01897505420084429,
          1.1234988077597399,
          1.232420058647342,
          -0.4814980044587215,
          -0.35992966279024435,
          -0.3504136026398206,
          -0.0264638521470713,
          1.9455975191069528,
          0.7397424830525191,
          -1.3988662235783076,
          -0.6533021042995357,
          -1.0098839390042138,
          0.05158988935672315,
          -0.8885088323550191,
          1.3090023593260731,
          -0.4921751166128579,
          1.2562814695609659,
          -0.944489215550293,
          -0.9047929765159812,
          -0.16005070797481277,
          -0.3518748309386049,
          -0.6012147657777107,
          0.4833247270826448,
          -0.7995893120513355,
          0.6224446543722254,
          -0.09063609686494375,
          0.2828186976151058,
          1.298079370651083,
          0.60323067089413,
          0.9939326715694906,
          1.4930838976436456,
          -0.4027665687300486,
          -0.2607266448729439,
          -1.2535961981729813,
          0.9218123335954357,
          1.312062175830314,
          -0.9316561504008531,
          -0.61598560161817,
          -0.25100143532399877,
          0.4566927248840788,
          -0.9159752831190259,
          0.7377046809517973,
          -1.1626764129405016,
          -0.889391245298526,
          -0.6858184717161875,
          -0.09402072749499414,
          0.12562747120961676,
          0.09883684431670127,
          0.1865993291130212,
          -2.105122581865517,
          -1.5402416903738123,
          1.5094402807854603,
          -0.9361748837890781,
          0.12672444198158989,
          -1.589658407398841,
          -0.9996902030723225,
          0.12222138560129037,
          1.037829126734841,
          -1.0237728938148212,
          0.8129908238728943,
          -1.1735680529795158
         ],
         "xaxis": "x9",
         "y": [
          0.49322405126214947,
          0.5457600716443969,
          -0.42517835147861877,
          0.5745511255977691,
          1.7684737099934653,
          1.1907514543407776,
          -1.1060418086123995,
          -0.10012538251557579,
          0.27699957003768877,
          1.007495807088129,
          -1.252918666875961,
          2.318270158629934,
          -0.06728910105018798,
          1.654583566684126,
          1.148233312788604,
          -2.166818486226118,
          -2.8413326109406345,
          1.0338281332613426,
          -0.07633761686381346,
          -0.47184278336843244,
          -0.932511228454258,
          -0.11047489848371143,
          0.9614595767991201,
          0.754712284550973,
          0.12960506867193408,
          -1.666025463753459,
          -1.3255997436971705,
          0.7294701985664961,
          -1.4315793816431988,
          0.578199843033818,
          -0.7610094054926043,
          1.35599248727197,
          0.34616608661427445,
          -1.3096329061710563,
          -0.8797481210910884,
          0.37859645846032747,
          1.6970766354386277,
          -0.6618327113581314,
          0.7807784048236518,
          0.1778841944508108,
          0.39751840401696537,
          0.12398811610905923,
          1.4627812670640001,
          -0.17405092079614742,
          0.33090784965752895,
          -0.09268259705402866,
          -1.4943178764179594,
          0.6030433843066976,
          -0.9929821631304186,
          -1.2404369181492476,
          1.3996326136016746,
          -0.5358908297865966,
          0.9090192491449295,
          -0.7572264642866648,
          0.610378458910417,
          0.8836714610088213,
          -0.8022144972206394,
          -0.2690592174540479,
          -0.48223688070710247,
          -0.5073223031057444,
          0.9345858383266177,
          -3.1960464118659218,
          0.3596196111620243,
          -0.7891156122689769,
          -0.5369022071597999,
          0.913099153608634,
          0.8170324598206611,
          -0.8859877241879088,
          1.0355477169646596,
          -0.1086304860204677,
          -0.5123087821354901,
          2.09941591774087,
          -1.1564488215399584,
          0.8600159901705485,
          0.21051312102654496,
          1.4604330406588446,
          1.816635832794891,
          -0.7081424083881579,
          0.999425767418478,
          0.5361847088819287,
          -0.048321469429248066,
          -0.3493218467811937,
          0.8863312322056334,
          0.7725403728895929,
          -0.09718393494692423,
          0.38377814475875366,
          -0.9386339851183051,
          -0.33226935220362286,
          0.028407676359431405,
          1.482648301261031,
          -0.05965477409126021,
          -1.2717496469009433,
          -0.0494281997170523,
          0.1822432949232148,
          2.048681465799448,
          -0.37100561331300896,
          -0.7781379418352393,
          -0.7609175210768929,
          -0.2548516908977958,
          0.026192176729354477
         ],
         "yaxis": "y9"
        },
        {
         "line": {
          "color": "rgba(128, 128, 128, 1.0)",
          "dash": "solid",
          "shape": "linear",
          "width": 1.3
         },
         "marker": {
          "size": 2,
          "symbol": "circle"
         },
         "mode": "markers",
         "name": "C",
         "text": "",
         "type": "scatter",
         "x": [
          -0.8333485300834292,
          -1.2766677713856172,
          0.32889268999764587,
          -0.7228597241406125,
          -1.088055170641722,
          -0.26454960727060933,
          -1.088746135103376,
          1.307311404250032,
          0.08031675927464546,
          0.02757860090171118,
          0.6518221207539567,
          0.7276482533339022,
          -1.1158078994176668,
          -0.05851343762871096,
          -0.779070280511317,
          0.6555944432816424,
          0.3795977680725507,
          0.6047485425267529,
          -1.245835389444955,
          0.5118554482170173,
          0.4007446062617446,
          -0.9762413226379608,
          0.23963149916481855,
          -0.08182559589104474,
          0.28026876924154154,
          0.593917640305292,
          -1.9595673096812394,
          -1.06511056321929,
          0.9918697122537389,
          0.3043350394672878,
          -0.2265403931323341,
          2.192649137408791,
          0.9174930299413948,
          0.8686827682351795,
          -0.9492012311313425,
          1.9138497364086406,
          -1.021402262388293,
          0.15575335857348221,
          -0.6085703602891364,
          0.7370588517740067,
          -0.327086277798017,
          1.1799615116593871,
          -0.35685566036595373,
          -1.175460976239832,
          0.31255342310921275,
          0.9897473343815354,
          0.9198781183889619,
          -0.7474006092799659,
          -0.856587496221934,
          -0.785034997454377,
          -0.12235515802115861,
          -1.786434990061692,
          0.5481592699594763,
          -1.274980280267999,
          0.696836476541588,
          -1.370492271925774,
          2.06004470363456,
          2.0468933823727764,
          0.21084208697464552,
          -0.12258782808995522,
          0.6403637734278632,
          -1.311325626456603,
          1.503641044788058,
          -1.078001719112831,
          1.3989747726854669,
          -1.616107252848288,
          -0.9637366722446397,
          0.10514432242328021,
          -0.35714686741413504,
          1.306610500270275,
          1.0975979363582071,
          1.6273028114379513,
          0.0019938966806490165,
          0.369738032875827,
          0.6194225065626668,
          -0.6008423439289713,
          0.5994305624114238,
          0.1278850553222134,
          0.1993287048843189,
          -0.9900196451938488,
          -0.0030251013458408673,
          0.6231686049789226,
          0.05503581719741051,
          -0.08273659707165258,
          -0.2576366521809987,
          -0.30204557671675586,
          0.501843752794459,
          -0.08670464369271894,
          0.4723263552701553,
          0.5855339910336078,
          -1.557478447357505,
          1.169546362591803,
          1.8645090896560506,
          -0.08712959822128583,
          -1.1493323961227986,
          0.29210214535966844,
          0.6546376109394556,
          -0.6030391008507462,
          -0.5090505082959106,
          -1.0319222234727223
         ],
         "xaxis": "x10",
         "y": [
          0.49322405126214947,
          0.5457600716443969,
          -0.42517835147861877,
          0.5745511255977691,
          1.7684737099934653,
          1.1907514543407776,
          -1.1060418086123995,
          -0.10012538251557579,
          0.27699957003768877,
          1.007495807088129,
          -1.252918666875961,
          2.318270158629934,
          -0.06728910105018798,
          1.654583566684126,
          1.148233312788604,
          -2.166818486226118,
          -2.8413326109406345,
          1.0338281332613426,
          -0.07633761686381346,
          -0.47184278336843244,
          -0.932511228454258,
          -0.11047489848371143,
          0.9614595767991201,
          0.754712284550973,
          0.12960506867193408,
          -1.666025463753459,
          -1.3255997436971705,
          0.7294701985664961,
          -1.4315793816431988,
          0.578199843033818,
          -0.7610094054926043,
          1.35599248727197,
          0.34616608661427445,
          -1.3096329061710563,
          -0.8797481210910884,
          0.37859645846032747,
          1.6970766354386277,
          -0.6618327113581314,
          0.7807784048236518,
          0.1778841944508108,
          0.39751840401696537,
          0.12398811610905923,
          1.4627812670640001,
          -0.17405092079614742,
          0.33090784965752895,
          -0.09268259705402866,
          -1.4943178764179594,
          0.6030433843066976,
          -0.9929821631304186,
          -1.2404369181492476,
          1.3996326136016746,
          -0.5358908297865966,
          0.9090192491449295,
          -0.7572264642866648,
          0.610378458910417,
          0.8836714610088213,
          -0.8022144972206394,
          -0.2690592174540479,
          -0.48223688070710247,
          -0.5073223031057444,
          0.9345858383266177,
          -3.1960464118659218,
          0.3596196111620243,
          -0.7891156122689769,
          -0.5369022071597999,
          0.913099153608634,
          0.8170324598206611,
          -0.8859877241879088,
          1.0355477169646596,
          -0.1086304860204677,
          -0.5123087821354901,
          2.09941591774087,
          -1.1564488215399584,
          0.8600159901705485,
          0.21051312102654496,
          1.4604330406588446,
          1.816635832794891,
          -0.7081424083881579,
          0.999425767418478,
          0.5361847088819287,
          -0.048321469429248066,
          -0.3493218467811937,
          0.8863312322056334,
          0.7725403728895929,
          -0.09718393494692423,
          0.38377814475875366,
          -0.9386339851183051,
          -0.33226935220362286,
          0.028407676359431405,
          1.482648301261031,
          -0.05965477409126021,
          -1.2717496469009433,
          -0.0494281997170523,
          0.1822432949232148,
          2.048681465799448,
          -0.37100561331300896,
          -0.7781379418352393,
          -0.7609175210768929,
          -0.2548516908977958,
          0.026192176729354477
         ],
         "yaxis": "y10"
        },
        {
         "histfunc": "count",
         "histnorm": "",
         "marker": {
          "color": "rgba(50, 171, 96, 1.0)",
          "line": {
           "color": "#4D5663",
           "width": 1.3
          }
         },
         "name": "C",
         "nbinsx": 10,
         "opacity": 0.8,
         "orientation": "v",
         "type": "histogram",
         "x": [
          0.49322405126214947,
          0.5457600716443969,
          -0.42517835147861877,
          0.5745511255977691,
          1.7684737099934653,
          1.1907514543407776,
          -1.1060418086123995,
          -0.10012538251557579,
          0.27699957003768877,
          1.007495807088129,
          -1.252918666875961,
          2.318270158629934,
          -0.06728910105018798,
          1.654583566684126,
          1.148233312788604,
          -2.166818486226118,
          -2.8413326109406345,
          1.0338281332613426,
          -0.07633761686381346,
          -0.47184278336843244,
          -0.932511228454258,
          -0.11047489848371143,
          0.9614595767991201,
          0.754712284550973,
          0.12960506867193408,
          -1.666025463753459,
          -1.3255997436971705,
          0.7294701985664961,
          -1.4315793816431988,
          0.578199843033818,
          -0.7610094054926043,
          1.35599248727197,
          0.34616608661427445,
          -1.3096329061710563,
          -0.8797481210910884,
          0.37859645846032747,
          1.6970766354386277,
          -0.6618327113581314,
          0.7807784048236518,
          0.1778841944508108,
          0.39751840401696537,
          0.12398811610905923,
          1.4627812670640001,
          -0.17405092079614742,
          0.33090784965752895,
          -0.09268259705402866,
          -1.4943178764179594,
          0.6030433843066976,
          -0.9929821631304186,
          -1.2404369181492476,
          1.3996326136016746,
          -0.5358908297865966,
          0.9090192491449295,
          -0.7572264642866648,
          0.610378458910417,
          0.8836714610088213,
          -0.8022144972206394,
          -0.2690592174540479,
          -0.48223688070710247,
          -0.5073223031057444,
          0.9345858383266177,
          -3.1960464118659218,
          0.3596196111620243,
          -0.7891156122689769,
          -0.5369022071597999,
          0.913099153608634,
          0.8170324598206611,
          -0.8859877241879088,
          1.0355477169646596,
          -0.1086304860204677,
          -0.5123087821354901,
          2.09941591774087,
          -1.1564488215399584,
          0.8600159901705485,
          0.21051312102654496,
          1.4604330406588446,
          1.816635832794891,
          -0.7081424083881579,
          0.999425767418478,
          0.5361847088819287,
          -0.048321469429248066,
          -0.3493218467811937,
          0.8863312322056334,
          0.7725403728895929,
          -0.09718393494692423,
          0.38377814475875366,
          -0.9386339851183051,
          -0.33226935220362286,
          0.028407676359431405,
          1.482648301261031,
          -0.05965477409126021,
          -1.2717496469009433,
          -0.0494281997170523,
          0.1822432949232148,
          2.048681465799448,
          -0.37100561331300896,
          -0.7781379418352393,
          -0.7609175210768929,
          -0.2548516908977958,
          0.026192176729354477
         ],
         "xaxis": "x11",
         "yaxis": "y11"
        },
        {
         "line": {
          "color": "rgba(128, 128, 128, 1.0)",
          "dash": "solid",
          "shape": "linear",
          "width": 1.3
         },
         "marker": {
          "size": 2,
          "symbol": "circle"
         },
         "mode": "markers",
         "name": "C",
         "text": "",
         "type": "scatter",
         "x": [
          -1.106588595253017,
          -1.7625259970631675,
          -0.28114898378892783,
          -1.8458032499016095,
          0.493990428336042,
          0.6915882234883003,
          -0.4181147376758479,
          1.9759592418227228,
          -0.4227437328973502,
          -0.7886324832124805,
          -0.2981985158557025,
          1.7863195588385747,
          0.7671438676226041,
          0.061163816143691964,
          1.068788065212692,
          0.9843506349446971,
          0.13379548199694222,
          1.9746605907731327,
          -0.7967190353984315,
          0.4419751393025786,
          0.8551529874622772,
          -0.48572752108699574,
          1.831487471210438,
          0.9033522467774028,
          -0.5884621961182047,
          0.9142641717150914,
          0.4360557228216116,
          0.07614701310123126,
          1.712911167595945,
          -1.0716019303204742,
          1.0605631546143397,
          -1.0310122645167352,
          1.4570388109825128,
          0.3721513111041933,
          0.3840859292887934,
          0.16692219940290637,
          -2.2682607764235128,
          0.6225888158694625,
          0.6015441989964391,
          0.4717372158894237,
          -0.02050580468473935,
          -1.2287436404299503,
          -0.2086821448422613,
          1.2490764699864383,
          1.728011850419966,
          1.1907730707343362,
          -0.019661123978005735,
          0.16576057162772515,
          0.39935894525127164,
          0.023873960189528656,
          1.8590120009018491,
          -0.2394313488667711,
          0.5363253572996315,
          -1.1029843258676288,
          1.170588938860763,
          -0.473752094474679,
          1.8021154540602147,
          -0.42521188603580434,
          0.37042104511974633,
          1.0692619530657717,
          -0.4090631633454856,
          -0.43424621515593187,
          -0.03456060882119637,
          0.7321767033056015,
          -1.2958583797579732,
          0.919562596878192,
          1.462368362357545,
          -0.8961900922615357,
          -1.0125652676931065,
          1.7067018125820816,
          -0.18334575181701857,
          -0.03938972840374754,
          0.7260607860479866,
          0.32955806515040015,
          -2.275663137360097,
          0.3216295542407838,
          -1.941900055198531,
          -1.2697864576400166,
          -0.27017250547389055,
          0.027607956226635918,
          -1.4916082080114075,
          0.008743448000394788,
          -1.1393957361692086,
          -0.018070644370657717,
          -0.40427606584351705,
          1.1048619376386135,
          0.9731369300885374,
          0.5848063916374624,
          -1.707256895343771,
          1.2825706302093165,
          3.376330126105509,
          -0.06884548617581909,
          -0.28501539631248346,
          -0.47857383620816546,
          0.30886230006894966,
          -1.1739837561907096,
          -0.027357805727334625,
          0.47270856057555993,
          -0.2533226844982376,
          -0.9553228727653434
         ],
         "xaxis": "x12",
         "y": [
          0.49322405126214947,
          0.5457600716443969,
          -0.42517835147861877,
          0.5745511255977691,
          1.7684737099934653,
          1.1907514543407776,
          -1.1060418086123995,
          -0.10012538251557579,
          0.27699957003768877,
          1.007495807088129,
          -1.252918666875961,
          2.318270158629934,
          -0.06728910105018798,
          1.654583566684126,
          1.148233312788604,
          -2.166818486226118,
          -2.8413326109406345,
          1.0338281332613426,
          -0.07633761686381346,
          -0.47184278336843244,
          -0.932511228454258,
          -0.11047489848371143,
          0.9614595767991201,
          0.754712284550973,
          0.12960506867193408,
          -1.666025463753459,
          -1.3255997436971705,
          0.7294701985664961,
          -1.4315793816431988,
          0.578199843033818,
          -0.7610094054926043,
          1.35599248727197,
          0.34616608661427445,
          -1.3096329061710563,
          -0.8797481210910884,
          0.37859645846032747,
          1.6970766354386277,
          -0.6618327113581314,
          0.7807784048236518,
          0.1778841944508108,
          0.39751840401696537,
          0.12398811610905923,
          1.4627812670640001,
          -0.17405092079614742,
          0.33090784965752895,
          -0.09268259705402866,
          -1.4943178764179594,
          0.6030433843066976,
          -0.9929821631304186,
          -1.2404369181492476,
          1.3996326136016746,
          -0.5358908297865966,
          0.9090192491449295,
          -0.7572264642866648,
          0.610378458910417,
          0.8836714610088213,
          -0.8022144972206394,
          -0.2690592174540479,
          -0.48223688070710247,
          -0.5073223031057444,
          0.9345858383266177,
          -3.1960464118659218,
          0.3596196111620243,
          -0.7891156122689769,
          -0.5369022071597999,
          0.913099153608634,
          0.8170324598206611,
          -0.8859877241879088,
          1.0355477169646596,
          -0.1086304860204677,
          -0.5123087821354901,
          2.09941591774087,
          -1.1564488215399584,
          0.8600159901705485,
          0.21051312102654496,
          1.4604330406588446,
          1.816635832794891,
          -0.7081424083881579,
          0.999425767418478,
          0.5361847088819287,
          -0.048321469429248066,
          -0.3493218467811937,
          0.8863312322056334,
          0.7725403728895929,
          -0.09718393494692423,
          0.38377814475875366,
          -0.9386339851183051,
          -0.33226935220362286,
          0.028407676359431405,
          1.482648301261031,
          -0.05965477409126021,
          -1.2717496469009433,
          -0.0494281997170523,
          0.1822432949232148,
          2.048681465799448,
          -0.37100561331300896,
          -0.7781379418352393,
          -0.7609175210768929,
          -0.2548516908977958,
          0.026192176729354477
         ],
         "yaxis": "y12"
        },
        {
         "line": {
          "color": "rgba(128, 128, 128, 1.0)",
          "dash": "solid",
          "shape": "linear",
          "width": 1.3
         },
         "marker": {
          "size": 2,
          "symbol": "circle"
         },
         "mode": "markers",
         "name": "D",
         "text": "",
         "type": "scatter",
         "x": [
          0.8869849113392575,
          -0.6964773634974851,
          0.7003725094248957,
          0.6608084726687465,
          1.7706764057755022,
          1.593145735885654,
          0.4740756469149725,
          0.6780606999675864,
          0.18401197953819318,
          -0.7649917952568512,
          0.9253634363763844,
          1.1118549199592058,
          -0.8433181578725014,
          -0.23664150329130548,
          -1.0992404617482978,
          0.28527338968743443,
          0.17481982564549223,
          1.3951250129856623,
          0.03590745163901755,
          -0.9594211851175032,
          -1.7179801807066248,
          0.9610755330564402,
          -0.21363215634783528,
          0.8804182323614378,
          0.1905342501740758,
          -0.4753432693912597,
          -0.1570437094027896,
          -0.9272609181058024,
          0.17515176239940475,
          -0.11926693582553309,
          0.6329377787337424,
          -0.6960379586458401,
          0.8072366409662378,
          1.0573006596282648,
          0.5262146051999136,
          -1.037271742531441,
          0.871425023776492,
          0.6875642804316112,
          -0.3209806553607807,
          -0.01897505420084429,
          1.1234988077597399,
          1.232420058647342,
          -0.4814980044587215,
          -0.35992966279024435,
          -0.3504136026398206,
          -0.0264638521470713,
          1.9455975191069528,
          0.7397424830525191,
          -1.3988662235783076,
          -0.6533021042995357,
          -1.0098839390042138,
          0.05158988935672315,
          -0.8885088323550191,
          1.3090023593260731,
          -0.4921751166128579,
          1.2562814695609659,
          -0.944489215550293,
          -0.9047929765159812,
          -0.16005070797481277,
          -0.3518748309386049,
          -0.6012147657777107,
          0.4833247270826448,
          -0.7995893120513355,
          0.6224446543722254,
          -0.09063609686494375,
          0.2828186976151058,
          1.298079370651083,
          0.60323067089413,
          0.9939326715694906,
          1.4930838976436456,
          -0.4027665687300486,
          -0.2607266448729439,
          -1.2535961981729813,
          0.9218123335954357,
          1.312062175830314,
          -0.9316561504008531,
          -0.61598560161817,
          -0.25100143532399877,
          0.4566927248840788,
          -0.9159752831190259,
          0.7377046809517973,
          -1.1626764129405016,
          -0.889391245298526,
          -0.6858184717161875,
          -0.09402072749499414,
          0.12562747120961676,
          0.09883684431670127,
          0.1865993291130212,
          -2.105122581865517,
          -1.5402416903738123,
          1.5094402807854603,
          -0.9361748837890781,
          0.12672444198158989,
          -1.589658407398841,
          -0.9996902030723225,
          0.12222138560129037,
          1.037829126734841,
          -1.0237728938148212,
          0.8129908238728943,
          -1.1735680529795158
         ],
         "xaxis": "x13",
         "y": [
          -1.106588595253017,
          -1.7625259970631675,
          -0.28114898378892783,
          -1.8458032499016095,
          0.493990428336042,
          0.6915882234883003,
          -0.4181147376758479,
          1.9759592418227228,
          -0.4227437328973502,
          -0.7886324832124805,
          -0.2981985158557025,
          1.7863195588385747,
          0.7671438676226041,
          0.061163816143691964,
          1.068788065212692,
          0.9843506349446971,
          0.13379548199694222,
          1.9746605907731327,
          -0.7967190353984315,
          0.4419751393025786,
          0.8551529874622772,
          -0.48572752108699574,
          1.831487471210438,
          0.9033522467774028,
          -0.5884621961182047,
          0.9142641717150914,
          0.4360557228216116,
          0.07614701310123126,
          1.712911167595945,
          -1.0716019303204742,
          1.0605631546143397,
          -1.0310122645167352,
          1.4570388109825128,
          0.3721513111041933,
          0.3840859292887934,
          0.16692219940290637,
          -2.2682607764235128,
          0.6225888158694625,
          0.6015441989964391,
          0.4717372158894237,
          -0.02050580468473935,
          -1.2287436404299503,
          -0.2086821448422613,
          1.2490764699864383,
          1.728011850419966,
          1.1907730707343362,
          -0.019661123978005735,
          0.16576057162772515,
          0.39935894525127164,
          0.023873960189528656,
          1.8590120009018491,
          -0.2394313488667711,
          0.5363253572996315,
          -1.1029843258676288,
          1.170588938860763,
          -0.473752094474679,
          1.8021154540602147,
          -0.42521188603580434,
          0.37042104511974633,
          1.0692619530657717,
          -0.4090631633454856,
          -0.43424621515593187,
          -0.03456060882119637,
          0.7321767033056015,
          -1.2958583797579732,
          0.919562596878192,
          1.462368362357545,
          -0.8961900922615357,
          -1.0125652676931065,
          1.7067018125820816,
          -0.18334575181701857,
          -0.03938972840374754,
          0.7260607860479866,
          0.32955806515040015,
          -2.275663137360097,
          0.3216295542407838,
          -1.941900055198531,
          -1.2697864576400166,
          -0.27017250547389055,
          0.027607956226635918,
          -1.4916082080114075,
          0.008743448000394788,
          -1.1393957361692086,
          -0.018070644370657717,
          -0.40427606584351705,
          1.1048619376386135,
          0.9731369300885374,
          0.5848063916374624,
          -1.707256895343771,
          1.2825706302093165,
          3.376330126105509,
          -0.06884548617581909,
          -0.28501539631248346,
          -0.47857383620816546,
          0.30886230006894966,
          -1.1739837561907096,
          -0.027357805727334625,
          0.47270856057555993,
          -0.2533226844982376,
          -0.9553228727653434
         ],
         "yaxis": "y13"
        },
        {
         "line": {
          "color": "rgba(128, 128, 128, 1.0)",
          "dash": "solid",
          "shape": "linear",
          "width": 1.3
         },
         "marker": {
          "size": 2,
          "symbol": "circle"
         },
         "mode": "markers",
         "name": "D",
         "text": "",
         "type": "scatter",
         "x": [
          -0.8333485300834292,
          -1.2766677713856172,
          0.32889268999764587,
          -0.7228597241406125,
          -1.088055170641722,
          -0.26454960727060933,
          -1.088746135103376,
          1.307311404250032,
          0.08031675927464546,
          0.02757860090171118,
          0.6518221207539567,
          0.7276482533339022,
          -1.1158078994176668,
          -0.05851343762871096,
          -0.779070280511317,
          0.6555944432816424,
          0.3795977680725507,
          0.6047485425267529,
          -1.245835389444955,
          0.5118554482170173,
          0.4007446062617446,
          -0.9762413226379608,
          0.23963149916481855,
          -0.08182559589104474,
          0.28026876924154154,
          0.593917640305292,
          -1.9595673096812394,
          -1.06511056321929,
          0.9918697122537389,
          0.3043350394672878,
          -0.2265403931323341,
          2.192649137408791,
          0.9174930299413948,
          0.8686827682351795,
          -0.9492012311313425,
          1.9138497364086406,
          -1.021402262388293,
          0.15575335857348221,
          -0.6085703602891364,
          0.7370588517740067,
          -0.327086277798017,
          1.1799615116593871,
          -0.35685566036595373,
          -1.175460976239832,
          0.31255342310921275,
          0.9897473343815354,
          0.9198781183889619,
          -0.7474006092799659,
          -0.856587496221934,
          -0.785034997454377,
          -0.12235515802115861,
          -1.786434990061692,
          0.5481592699594763,
          -1.274980280267999,
          0.696836476541588,
          -1.370492271925774,
          2.06004470363456,
          2.0468933823727764,
          0.21084208697464552,
          -0.12258782808995522,
          0.6403637734278632,
          -1.311325626456603,
          1.503641044788058,
          -1.078001719112831,
          1.3989747726854669,
          -1.616107252848288,
          -0.9637366722446397,
          0.10514432242328021,
          -0.35714686741413504,
          1.306610500270275,
          1.0975979363582071,
          1.6273028114379513,
          0.0019938966806490165,
          0.369738032875827,
          0.6194225065626668,
          -0.6008423439289713,
          0.5994305624114238,
          0.1278850553222134,
          0.1993287048843189,
          -0.9900196451938488,
          -0.0030251013458408673,
          0.6231686049789226,
          0.05503581719741051,
          -0.08273659707165258,
          -0.2576366521809987,
          -0.30204557671675586,
          0.501843752794459,
          -0.08670464369271894,
          0.4723263552701553,
          0.5855339910336078,
          -1.557478447357505,
          1.169546362591803,
          1.8645090896560506,
          -0.08712959822128583,
          -1.1493323961227986,
          0.29210214535966844,
          0.6546376109394556,
          -0.6030391008507462,
          -0.5090505082959106,
          -1.0319222234727223
         ],
         "xaxis": "x14",
         "y": [
          -1.106588595253017,
          -1.7625259970631675,
          -0.28114898378892783,
          -1.8458032499016095,
          0.493990428336042,
          0.6915882234883003,
          -0.4181147376758479,
          1.9759592418227228,
          -0.4227437328973502,
          -0.7886324832124805,
          -0.2981985158557025,
          1.7863195588385747,
          0.7671438676226041,
          0.061163816143691964,
          1.068788065212692,
          0.9843506349446971,
          0.13379548199694222,
          1.9746605907731327,
          -0.7967190353984315,
          0.4419751393025786,
          0.8551529874622772,
          -0.48572752108699574,
          1.831487471210438,
          0.9033522467774028,
          -0.5884621961182047,
          0.9142641717150914,
          0.4360557228216116,
          0.07614701310123126,
          1.712911167595945,
          -1.0716019303204742,
          1.0605631546143397,
          -1.0310122645167352,
          1.4570388109825128,
          0.3721513111041933,
          0.3840859292887934,
          0.16692219940290637,
          -2.2682607764235128,
          0.6225888158694625,
          0.6015441989964391,
          0.4717372158894237,
          -0.02050580468473935,
          -1.2287436404299503,
          -0.2086821448422613,
          1.2490764699864383,
          1.728011850419966,
          1.1907730707343362,
          -0.019661123978005735,
          0.16576057162772515,
          0.39935894525127164,
          0.023873960189528656,
          1.8590120009018491,
          -0.2394313488667711,
          0.5363253572996315,
          -1.1029843258676288,
          1.170588938860763,
          -0.473752094474679,
          1.8021154540602147,
          -0.42521188603580434,
          0.37042104511974633,
          1.0692619530657717,
          -0.4090631633454856,
          -0.43424621515593187,
          -0.03456060882119637,
          0.7321767033056015,
          -1.2958583797579732,
          0.919562596878192,
          1.462368362357545,
          -0.8961900922615357,
          -1.0125652676931065,
          1.7067018125820816,
          -0.18334575181701857,
          -0.03938972840374754,
          0.7260607860479866,
          0.32955806515040015,
          -2.275663137360097,
          0.3216295542407838,
          -1.941900055198531,
          -1.2697864576400166,
          -0.27017250547389055,
          0.027607956226635918,
          -1.4916082080114075,
          0.008743448000394788,
          -1.1393957361692086,
          -0.018070644370657717,
          -0.40427606584351705,
          1.1048619376386135,
          0.9731369300885374,
          0.5848063916374624,
          -1.707256895343771,
          1.2825706302093165,
          3.376330126105509,
          -0.06884548617581909,
          -0.28501539631248346,
          -0.47857383620816546,
          0.30886230006894966,
          -1.1739837561907096,
          -0.027357805727334625,
          0.47270856057555993,
          -0.2533226844982376,
          -0.9553228727653434
         ],
         "yaxis": "y14"
        },
        {
         "line": {
          "color": "rgba(128, 128, 128, 1.0)",
          "dash": "solid",
          "shape": "linear",
          "width": 1.3
         },
         "marker": {
          "size": 2,
          "symbol": "circle"
         },
         "mode": "markers",
         "name": "D",
         "text": "",
         "type": "scatter",
         "x": [
          0.49322405126214947,
          0.5457600716443969,
          -0.42517835147861877,
          0.5745511255977691,
          1.7684737099934653,
          1.1907514543407776,
          -1.1060418086123995,
          -0.10012538251557579,
          0.27699957003768877,
          1.007495807088129,
          -1.252918666875961,
          2.318270158629934,
          -0.06728910105018798,
          1.654583566684126,
          1.148233312788604,
          -2.166818486226118,
          -2.8413326109406345,
          1.0338281332613426,
          -0.07633761686381346,
          -0.47184278336843244,
          -0.932511228454258,
          -0.11047489848371143,
          0.9614595767991201,
          0.754712284550973,
          0.12960506867193408,
          -1.666025463753459,
          -1.3255997436971705,
          0.7294701985664961,
          -1.4315793816431988,
          0.578199843033818,
          -0.7610094054926043,
          1.35599248727197,
          0.34616608661427445,
          -1.3096329061710563,
          -0.8797481210910884,
          0.37859645846032747,
          1.6970766354386277,
          -0.6618327113581314,
          0.7807784048236518,
          0.1778841944508108,
          0.39751840401696537,
          0.12398811610905923,
          1.4627812670640001,
          -0.17405092079614742,
          0.33090784965752895,
          -0.09268259705402866,
          -1.4943178764179594,
          0.6030433843066976,
          -0.9929821631304186,
          -1.2404369181492476,
          1.3996326136016746,
          -0.5358908297865966,
          0.9090192491449295,
          -0.7572264642866648,
          0.610378458910417,
          0.8836714610088213,
          -0.8022144972206394,
          -0.2690592174540479,
          -0.48223688070710247,
          -0.5073223031057444,
          0.9345858383266177,
          -3.1960464118659218,
          0.3596196111620243,
          -0.7891156122689769,
          -0.5369022071597999,
          0.913099153608634,
          0.8170324598206611,
          -0.8859877241879088,
          1.0355477169646596,
          -0.1086304860204677,
          -0.5123087821354901,
          2.09941591774087,
          -1.1564488215399584,
          0.8600159901705485,
          0.21051312102654496,
          1.4604330406588446,
          1.816635832794891,
          -0.7081424083881579,
          0.999425767418478,
          0.5361847088819287,
          -0.048321469429248066,
          -0.3493218467811937,
          0.8863312322056334,
          0.7725403728895929,
          -0.09718393494692423,
          0.38377814475875366,
          -0.9386339851183051,
          -0.33226935220362286,
          0.028407676359431405,
          1.482648301261031,
          -0.05965477409126021,
          -1.2717496469009433,
          -0.0494281997170523,
          0.1822432949232148,
          2.048681465799448,
          -0.37100561331300896,
          -0.7781379418352393,
          -0.7609175210768929,
          -0.2548516908977958,
          0.026192176729354477
         ],
         "xaxis": "x15",
         "y": [
          -1.106588595253017,
          -1.7625259970631675,
          -0.28114898378892783,
          -1.8458032499016095,
          0.493990428336042,
          0.6915882234883003,
          -0.4181147376758479,
          1.9759592418227228,
          -0.4227437328973502,
          -0.7886324832124805,
          -0.2981985158557025,
          1.7863195588385747,
          0.7671438676226041,
          0.061163816143691964,
          1.068788065212692,
          0.9843506349446971,
          0.13379548199694222,
          1.9746605907731327,
          -0.7967190353984315,
          0.4419751393025786,
          0.8551529874622772,
          -0.48572752108699574,
          1.831487471210438,
          0.9033522467774028,
          -0.5884621961182047,
          0.9142641717150914,
          0.4360557228216116,
          0.07614701310123126,
          1.712911167595945,
          -1.0716019303204742,
          1.0605631546143397,
          -1.0310122645167352,
          1.4570388109825128,
          0.3721513111041933,
          0.3840859292887934,
          0.16692219940290637,
          -2.2682607764235128,
          0.6225888158694625,
          0.6015441989964391,
          0.4717372158894237,
          -0.02050580468473935,
          -1.2287436404299503,
          -0.2086821448422613,
          1.2490764699864383,
          1.728011850419966,
          1.1907730707343362,
          -0.019661123978005735,
          0.16576057162772515,
          0.39935894525127164,
          0.023873960189528656,
          1.8590120009018491,
          -0.2394313488667711,
          0.5363253572996315,
          -1.1029843258676288,
          1.170588938860763,
          -0.473752094474679,
          1.8021154540602147,
          -0.42521188603580434,
          0.37042104511974633,
          1.0692619530657717,
          -0.4090631633454856,
          -0.43424621515593187,
          -0.03456060882119637,
          0.7321767033056015,
          -1.2958583797579732,
          0.919562596878192,
          1.462368362357545,
          -0.8961900922615357,
          -1.0125652676931065,
          1.7067018125820816,
          -0.18334575181701857,
          -0.03938972840374754,
          0.7260607860479866,
          0.32955806515040015,
          -2.275663137360097,
          0.3216295542407838,
          -1.941900055198531,
          -1.2697864576400166,
          -0.27017250547389055,
          0.027607956226635918,
          -1.4916082080114075,
          0.008743448000394788,
          -1.1393957361692086,
          -0.018070644370657717,
          -0.40427606584351705,
          1.1048619376386135,
          0.9731369300885374,
          0.5848063916374624,
          -1.707256895343771,
          1.2825706302093165,
          3.376330126105509,
          -0.06884548617581909,
          -0.28501539631248346,
          -0.47857383620816546,
          0.30886230006894966,
          -1.1739837561907096,
          -0.027357805727334625,
          0.47270856057555993,
          -0.2533226844982376,
          -0.9553228727653434
         ],
         "yaxis": "y15"
        },
        {
         "histfunc": "count",
         "histnorm": "",
         "marker": {
          "color": "rgba(128, 0, 128, 1.0)",
          "line": {
           "color": "#4D5663",
           "width": 1.3
          }
         },
         "name": "D",
         "nbinsx": 10,
         "opacity": 0.8,
         "orientation": "v",
         "type": "histogram",
         "x": [
          -1.106588595253017,
          -1.7625259970631675,
          -0.28114898378892783,
          -1.8458032499016095,
          0.493990428336042,
          0.6915882234883003,
          -0.4181147376758479,
          1.9759592418227228,
          -0.4227437328973502,
          -0.7886324832124805,
          -0.2981985158557025,
          1.7863195588385747,
          0.7671438676226041,
          0.061163816143691964,
          1.068788065212692,
          0.9843506349446971,
          0.13379548199694222,
          1.9746605907731327,
          -0.7967190353984315,
          0.4419751393025786,
          0.8551529874622772,
          -0.48572752108699574,
          1.831487471210438,
          0.9033522467774028,
          -0.5884621961182047,
          0.9142641717150914,
          0.4360557228216116,
          0.07614701310123126,
          1.712911167595945,
          -1.0716019303204742,
          1.0605631546143397,
          -1.0310122645167352,
          1.4570388109825128,
          0.3721513111041933,
          0.3840859292887934,
          0.16692219940290637,
          -2.2682607764235128,
          0.6225888158694625,
          0.6015441989964391,
          0.4717372158894237,
          -0.02050580468473935,
          -1.2287436404299503,
          -0.2086821448422613,
          1.2490764699864383,
          1.728011850419966,
          1.1907730707343362,
          -0.019661123978005735,
          0.16576057162772515,
          0.39935894525127164,
          0.023873960189528656,
          1.8590120009018491,
          -0.2394313488667711,
          0.5363253572996315,
          -1.1029843258676288,
          1.170588938860763,
          -0.473752094474679,
          1.8021154540602147,
          -0.42521188603580434,
          0.37042104511974633,
          1.0692619530657717,
          -0.4090631633454856,
          -0.43424621515593187,
          -0.03456060882119637,
          0.7321767033056015,
          -1.2958583797579732,
          0.919562596878192,
          1.462368362357545,
          -0.8961900922615357,
          -1.0125652676931065,
          1.7067018125820816,
          -0.18334575181701857,
          -0.03938972840374754,
          0.7260607860479866,
          0.32955806515040015,
          -2.275663137360097,
          0.3216295542407838,
          -1.941900055198531,
          -1.2697864576400166,
          -0.27017250547389055,
          0.027607956226635918,
          -1.4916082080114075,
          0.008743448000394788,
          -1.1393957361692086,
          -0.018070644370657717,
          -0.40427606584351705,
          1.1048619376386135,
          0.9731369300885374,
          0.5848063916374624,
          -1.707256895343771,
          1.2825706302093165,
          3.376330126105509,
          -0.06884548617581909,
          -0.28501539631248346,
          -0.47857383620816546,
          0.30886230006894966,
          -1.1739837561907096,
          -0.027357805727334625,
          0.47270856057555993,
          -0.2533226844982376,
          -0.9553228727653434
         ],
         "xaxis": "x16",
         "yaxis": "y16"
        }
       ],
       "layout": {
        "autosize": true,
        "bargap": 0.02,
        "legend": {
         "bgcolor": "#F5F6F9",
         "font": {
          "color": "#4D5663"
         }
        },
        "paper_bgcolor": "#F5F6F9",
        "plot_bgcolor": "#F5F6F9",
        "showlegend": false,
        "template": {
         "data": {
          "bar": [
           {
            "error_x": {
             "color": "#2a3f5f"
            },
            "error_y": {
             "color": "#2a3f5f"
            },
            "marker": {
             "line": {
              "color": "#E5ECF6",
              "width": 0.5
             },
             "pattern": {
              "fillmode": "overlay",
              "size": 10,
              "solidity": 0.2
             }
            },
            "type": "bar"
           }
          ],
          "barpolar": [
           {
            "marker": {
             "line": {
              "color": "#E5ECF6",
              "width": 0.5
             },
             "pattern": {
              "fillmode": "overlay",
              "size": 10,
              "solidity": 0.2
             }
            },
            "type": "barpolar"
           }
          ],
          "carpet": [
           {
            "aaxis": {
             "endlinecolor": "#2a3f5f",
             "gridcolor": "white",
             "linecolor": "white",
             "minorgridcolor": "white",
             "startlinecolor": "#2a3f5f"
            },
            "baxis": {
             "endlinecolor": "#2a3f5f",
             "gridcolor": "white",
             "linecolor": "white",
             "minorgridcolor": "white",
             "startlinecolor": "#2a3f5f"
            },
            "type": "carpet"
           }
          ],
          "choropleth": [
           {
            "colorbar": {
             "outlinewidth": 0,
             "ticks": ""
            },
            "type": "choropleth"
           }
          ],
          "contour": [
           {
            "colorbar": {
             "outlinewidth": 0,
             "ticks": ""
            },
            "colorscale": [
             [
              0,
              "#0d0887"
             ],
             [
              0.1111111111111111,
              "#46039f"
             ],
             [
              0.2222222222222222,
              "#7201a8"
             ],
             [
              0.3333333333333333,
              "#9c179e"
             ],
             [
              0.4444444444444444,
              "#bd3786"
             ],
             [
              0.5555555555555556,
              "#d8576b"
             ],
             [
              0.6666666666666666,
              "#ed7953"
             ],
             [
              0.7777777777777778,
              "#fb9f3a"
             ],
             [
              0.8888888888888888,
              "#fdca26"
             ],
             [
              1,
              "#f0f921"
             ]
            ],
            "type": "contour"
           }
          ],
          "contourcarpet": [
           {
            "colorbar": {
             "outlinewidth": 0,
             "ticks": ""
            },
            "type": "contourcarpet"
           }
          ],
          "heatmap": [
           {
            "colorbar": {
             "outlinewidth": 0,
             "ticks": ""
            },
            "colorscale": [
             [
              0,
              "#0d0887"
             ],
             [
              0.1111111111111111,
              "#46039f"
             ],
             [
              0.2222222222222222,
              "#7201a8"
             ],
             [
              0.3333333333333333,
              "#9c179e"
             ],
             [
              0.4444444444444444,
              "#bd3786"
             ],
             [
              0.5555555555555556,
              "#d8576b"
             ],
             [
              0.6666666666666666,
              "#ed7953"
             ],
             [
              0.7777777777777778,
              "#fb9f3a"
             ],
             [
              0.8888888888888888,
              "#fdca26"
             ],
             [
              1,
              "#f0f921"
             ]
            ],
            "type": "heatmap"
           }
          ],
          "heatmapgl": [
           {
            "colorbar": {
             "outlinewidth": 0,
             "ticks": ""
            },
            "colorscale": [
             [
              0,
              "#0d0887"
             ],
             [
              0.1111111111111111,
              "#46039f"
             ],
             [
              0.2222222222222222,
              "#7201a8"
             ],
             [
              0.3333333333333333,
              "#9c179e"
             ],
             [
              0.4444444444444444,
              "#bd3786"
             ],
             [
              0.5555555555555556,
              "#d8576b"
             ],
             [
              0.6666666666666666,
              "#ed7953"
             ],
             [
              0.7777777777777778,
              "#fb9f3a"
             ],
             [
              0.8888888888888888,
              "#fdca26"
             ],
             [
              1,
              "#f0f921"
             ]
            ],
            "type": "heatmapgl"
           }
          ],
          "histogram": [
           {
            "marker": {
             "pattern": {
              "fillmode": "overlay",
              "size": 10,
              "solidity": 0.2
             }
            },
            "type": "histogram"
           }
          ],
          "histogram2d": [
           {
            "colorbar": {
             "outlinewidth": 0,
             "ticks": ""
            },
            "colorscale": [
             [
              0,
              "#0d0887"
             ],
             [
              0.1111111111111111,
              "#46039f"
             ],
             [
              0.2222222222222222,
              "#7201a8"
             ],
             [
              0.3333333333333333,
              "#9c179e"
             ],
             [
              0.4444444444444444,
              "#bd3786"
             ],
             [
              0.5555555555555556,
              "#d8576b"
             ],
             [
              0.6666666666666666,
              "#ed7953"
             ],
             [
              0.7777777777777778,
              "#fb9f3a"
             ],
             [
              0.8888888888888888,
              "#fdca26"
             ],
             [
              1,
              "#f0f921"
             ]
            ],
            "type": "histogram2d"
           }
          ],
          "histogram2dcontour": [
           {
            "colorbar": {
             "outlinewidth": 0,
             "ticks": ""
            },
            "colorscale": [
             [
              0,
              "#0d0887"
             ],
             [
              0.1111111111111111,
              "#46039f"
             ],
             [
              0.2222222222222222,
              "#7201a8"
             ],
             [
              0.3333333333333333,
              "#9c179e"
             ],
             [
              0.4444444444444444,
              "#bd3786"
             ],
             [
              0.5555555555555556,
              "#d8576b"
             ],
             [
              0.6666666666666666,
              "#ed7953"
             ],
             [
              0.7777777777777778,
              "#fb9f3a"
             ],
             [
              0.8888888888888888,
              "#fdca26"
             ],
             [
              1,
              "#f0f921"
             ]
            ],
            "type": "histogram2dcontour"
           }
          ],
          "mesh3d": [
           {
            "colorbar": {
             "outlinewidth": 0,
             "ticks": ""
            },
            "type": "mesh3d"
           }
          ],
          "parcoords": [
           {
            "line": {
             "colorbar": {
              "outlinewidth": 0,
              "ticks": ""
             }
            },
            "type": "parcoords"
           }
          ],
          "pie": [
           {
            "automargin": true,
            "type": "pie"
           }
          ],
          "scatter": [
           {
            "marker": {
             "colorbar": {
              "outlinewidth": 0,
              "ticks": ""
             }
            },
            "type": "scatter"
           }
          ],
          "scatter3d": [
           {
            "line": {
             "colorbar": {
              "outlinewidth": 0,
              "ticks": ""
             }
            },
            "marker": {
             "colorbar": {
              "outlinewidth": 0,
              "ticks": ""
             }
            },
            "type": "scatter3d"
           }
          ],
          "scattercarpet": [
           {
            "marker": {
             "colorbar": {
              "outlinewidth": 0,
              "ticks": ""
             }
            },
            "type": "scattercarpet"
           }
          ],
          "scattergeo": [
           {
            "marker": {
             "colorbar": {
              "outlinewidth": 0,
              "ticks": ""
             }
            },
            "type": "scattergeo"
           }
          ],
          "scattergl": [
           {
            "marker": {
             "colorbar": {
              "outlinewidth": 0,
              "ticks": ""
             }
            },
            "type": "scattergl"
           }
          ],
          "scattermapbox": [
           {
            "marker": {
             "colorbar": {
              "outlinewidth": 0,
              "ticks": ""
             }
            },
            "type": "scattermapbox"
           }
          ],
          "scatterpolar": [
           {
            "marker": {
             "colorbar": {
              "outlinewidth": 0,
              "ticks": ""
             }
            },
            "type": "scatterpolar"
           }
          ],
          "scatterpolargl": [
           {
            "marker": {
             "colorbar": {
              "outlinewidth": 0,
              "ticks": ""
             }
            },
            "type": "scatterpolargl"
           }
          ],
          "scatterternary": [
           {
            "marker": {
             "colorbar": {
              "outlinewidth": 0,
              "ticks": ""
             }
            },
            "type": "scatterternary"
           }
          ],
          "surface": [
           {
            "colorbar": {
             "outlinewidth": 0,
             "ticks": ""
            },
            "colorscale": [
             [
              0,
              "#0d0887"
             ],
             [
              0.1111111111111111,
              "#46039f"
             ],
             [
              0.2222222222222222,
              "#7201a8"
             ],
             [
              0.3333333333333333,
              "#9c179e"
             ],
             [
              0.4444444444444444,
              "#bd3786"
             ],
             [
              0.5555555555555556,
              "#d8576b"
             ],
             [
              0.6666666666666666,
              "#ed7953"
             ],
             [
              0.7777777777777778,
              "#fb9f3a"
             ],
             [
              0.8888888888888888,
              "#fdca26"
             ],
             [
              1,
              "#f0f921"
             ]
            ],
            "type": "surface"
           }
          ],
          "table": [
           {
            "cells": {
             "fill": {
              "color": "#EBF0F8"
             },
             "line": {
              "color": "white"
             }
            },
            "header": {
             "fill": {
              "color": "#C8D4E3"
             },
             "line": {
              "color": "white"
             }
            },
            "type": "table"
           }
          ]
         },
         "layout": {
          "annotationdefaults": {
           "arrowcolor": "#2a3f5f",
           "arrowhead": 0,
           "arrowwidth": 1
          },
          "autotypenumbers": "strict",
          "coloraxis": {
           "colorbar": {
            "outlinewidth": 0,
            "ticks": ""
           }
          },
          "colorscale": {
           "diverging": [
            [
             0,
             "#8e0152"
            ],
            [
             0.1,
             "#c51b7d"
            ],
            [
             0.2,
             "#de77ae"
            ],
            [
             0.3,
             "#f1b6da"
            ],
            [
             0.4,
             "#fde0ef"
            ],
            [
             0.5,
             "#f7f7f7"
            ],
            [
             0.6,
             "#e6f5d0"
            ],
            [
             0.7,
             "#b8e186"
            ],
            [
             0.8,
             "#7fbc41"
            ],
            [
             0.9,
             "#4d9221"
            ],
            [
             1,
             "#276419"
            ]
           ],
           "sequential": [
            [
             0,
             "#0d0887"
            ],
            [
             0.1111111111111111,
             "#46039f"
            ],
            [
             0.2222222222222222,
             "#7201a8"
            ],
            [
             0.3333333333333333,
             "#9c179e"
            ],
            [
             0.4444444444444444,
             "#bd3786"
            ],
            [
             0.5555555555555556,
             "#d8576b"
            ],
            [
             0.6666666666666666,
             "#ed7953"
            ],
            [
             0.7777777777777778,
             "#fb9f3a"
            ],
            [
             0.8888888888888888,
             "#fdca26"
            ],
            [
             1,
             "#f0f921"
            ]
           ],
           "sequentialminus": [
            [
             0,
             "#0d0887"
            ],
            [
             0.1111111111111111,
             "#46039f"
            ],
            [
             0.2222222222222222,
             "#7201a8"
            ],
            [
             0.3333333333333333,
             "#9c179e"
            ],
            [
             0.4444444444444444,
             "#bd3786"
            ],
            [
             0.5555555555555556,
             "#d8576b"
            ],
            [
             0.6666666666666666,
             "#ed7953"
            ],
            [
             0.7777777777777778,
             "#fb9f3a"
            ],
            [
             0.8888888888888888,
             "#fdca26"
            ],
            [
             1,
             "#f0f921"
            ]
           ]
          },
          "colorway": [
           "#636efa",
           "#EF553B",
           "#00cc96",
           "#ab63fa",
           "#FFA15A",
           "#19d3f3",
           "#FF6692",
           "#B6E880",
           "#FF97FF",
           "#FECB52"
          ],
          "font": {
           "color": "#2a3f5f"
          },
          "geo": {
           "bgcolor": "white",
           "lakecolor": "white",
           "landcolor": "#E5ECF6",
           "showlakes": true,
           "showland": true,
           "subunitcolor": "white"
          },
          "hoverlabel": {
           "align": "left"
          },
          "hovermode": "closest",
          "mapbox": {
           "style": "light"
          },
          "paper_bgcolor": "white",
          "plot_bgcolor": "#E5ECF6",
          "polar": {
           "angularaxis": {
            "gridcolor": "white",
            "linecolor": "white",
            "ticks": ""
           },
           "bgcolor": "#E5ECF6",
           "radialaxis": {
            "gridcolor": "white",
            "linecolor": "white",
            "ticks": ""
           }
          },
          "scene": {
           "xaxis": {
            "backgroundcolor": "#E5ECF6",
            "gridcolor": "white",
            "gridwidth": 2,
            "linecolor": "white",
            "showbackground": true,
            "ticks": "",
            "zerolinecolor": "white"
           },
           "yaxis": {
            "backgroundcolor": "#E5ECF6",
            "gridcolor": "white",
            "gridwidth": 2,
            "linecolor": "white",
            "showbackground": true,
            "ticks": "",
            "zerolinecolor": "white"
           },
           "zaxis": {
            "backgroundcolor": "#E5ECF6",
            "gridcolor": "white",
            "gridwidth": 2,
            "linecolor": "white",
            "showbackground": true,
            "ticks": "",
            "zerolinecolor": "white"
           }
          },
          "shapedefaults": {
           "line": {
            "color": "#2a3f5f"
           }
          },
          "ternary": {
           "aaxis": {
            "gridcolor": "white",
            "linecolor": "white",
            "ticks": ""
           },
           "baxis": {
            "gridcolor": "white",
            "linecolor": "white",
            "ticks": ""
           },
           "bgcolor": "#E5ECF6",
           "caxis": {
            "gridcolor": "white",
            "linecolor": "white",
            "ticks": ""
           }
          },
          "title": {
           "x": 0.05
          },
          "xaxis": {
           "automargin": true,
           "gridcolor": "white",
           "linecolor": "white",
           "ticks": "",
           "title": {
            "standoff": 15
           },
           "zerolinecolor": "white",
           "zerolinewidth": 2
          },
          "yaxis": {
           "automargin": true,
           "gridcolor": "white",
           "linecolor": "white",
           "ticks": "",
           "title": {
            "standoff": 15
           },
           "zerolinecolor": "white",
           "zerolinewidth": 2
          }
         }
        },
        "title": {
         "font": {
          "color": "#4D5663"
         }
        },
        "xaxis": {
         "anchor": "y",
         "autorange": true,
         "domain": [
          0,
          0.2125
         ],
         "gridcolor": "#E1E5ED",
         "range": [
          -2.5,
          2
         ],
         "showgrid": false,
         "tickfont": {
          "color": "#4D5663"
         },
         "title": {
          "font": {
           "color": "#4D5663"
          },
          "text": ""
         },
         "type": "linear",
         "zerolinecolor": "#E1E5ED"
        },
        "xaxis10": {
         "anchor": "y10",
         "autorange": true,
         "domain": [
          0.2625,
          0.475
         ],
         "gridcolor": "#E1E5ED",
         "range": [
          -2.3157512740398873,
          2.548833101767439
         ],
         "showgrid": false,
         "tickfont": {
          "color": "#4D5663"
         },
         "title": {
          "font": {
           "color": "#4D5663"
          },
          "text": ""
         },
         "type": "linear",
         "zerolinecolor": "#E1E5ED"
        },
        "xaxis11": {
         "anchor": "y11",
         "autorange": true,
         "domain": [
          0.525,
          0.7375
         ],
         "gridcolor": "#E1E5ED",
         "range": [
          -4,
          3
         ],
         "showgrid": false,
         "tickfont": {
          "color": "#4D5663"
         },
         "title": {
          "font": {
           "color": "#4D5663"
          },
          "text": ""
         },
         "type": "linear",
         "zerolinecolor": "#E1E5ED"
        },
        "xaxis12": {
         "anchor": "y12",
         "autorange": true,
         "domain": [
          0.7875,
          1
         ],
         "gridcolor": "#E1E5ED",
         "range": [
          -2.760500426736091,
          3.861167415481503
         ],
         "showgrid": false,
         "tickfont": {
          "color": "#4D5663"
         },
         "title": {
          "font": {
           "color": "#4D5663"
          },
          "text": ""
         },
         "type": "linear",
         "zerolinecolor": "#E1E5ED"
        },
        "xaxis13": {
         "anchor": "y13",
         "autorange": true,
         "domain": [
          0,
          0.2125
         ],
         "gridcolor": "#E1E5ED",
         "range": [
          -2.4526000225183964,
          2.2930749597598323
         ],
         "showgrid": false,
         "tickfont": {
          "color": "#4D5663"
         },
         "title": {
          "font": {
           "color": "#4D5663"
          },
          "text": ""
         },
         "type": "linear",
         "zerolinecolor": "#E1E5ED"
        },
        "xaxis14": {
         "anchor": "y14",
         "autorange": true,
         "domain": [
          0.2625,
          0.475
         ],
         "gridcolor": "#E1E5ED",
         "range": [
          -2.3157512740398873,
          2.548833101767439
         ],
         "showgrid": false,
         "tickfont": {
          "color": "#4D5663"
         },
         "title": {
          "font": {
           "color": "#4D5663"
          },
          "text": ""
         },
         "type": "linear",
         "zerolinecolor": "#E1E5ED"
        },
        "xaxis15": {
         "anchor": "y15",
         "autorange": true,
         "domain": [
          0.525,
          0.7375
         ],
         "gridcolor": "#E1E5ED",
         "range": [
          -3.6690735678043587,
          2.791297314568371
         ],
         "showgrid": false,
         "tickfont": {
          "color": "#4D5663"
         },
         "title": {
          "font": {
           "color": "#4D5663"
          },
          "text": ""
         },
         "type": "linear",
         "zerolinecolor": "#E1E5ED"
        },
        "xaxis16": {
         "anchor": "y16",
         "autorange": true,
         "domain": [
          0.7875,
          1
         ],
         "gridcolor": "#E1E5ED",
         "range": [
          -3,
          4
         ],
         "showgrid": false,
         "tickfont": {
          "color": "#4D5663"
         },
         "title": {
          "font": {
           "color": "#4D5663"
          },
          "text": ""
         },
         "type": "linear",
         "zerolinecolor": "#E1E5ED"
        },
        "xaxis2": {
         "anchor": "y2",
         "autorange": true,
         "domain": [
          0.2625,
          0.475
         ],
         "gridcolor": "#E1E5ED",
         "range": [
          -2.3157512740398873,
          2.548833101767439
         ],
         "showgrid": false,
         "tickfont": {
          "color": "#4D5663"
         },
         "title": {
          "font": {
           "color": "#4D5663"
          },
          "text": ""
         },
         "type": "linear",
         "zerolinecolor": "#E1E5ED"
        },
        "xaxis3": {
         "anchor": "y3",
         "autorange": true,
         "domain": [
          0.525,
          0.7375
         ],
         "gridcolor": "#E1E5ED",
         "range": [
          -3.6690735678043587,
          2.791297314568371
         ],
         "showgrid": false,
         "tickfont": {
          "color": "#4D5663"
         },
         "title": {
          "font": {
           "color": "#4D5663"
          },
          "text": ""
         },
         "type": "linear",
         "zerolinecolor": "#E1E5ED"
        },
        "xaxis4": {
         "anchor": "y4",
         "autorange": true,
         "domain": [
          0.7875,
          1
         ],
         "gridcolor": "#E1E5ED",
         "range": [
          -2.760500426736091,
          3.861167415481503
         ],
         "showgrid": false,
         "tickfont": {
          "color": "#4D5663"
         },
         "title": {
          "font": {
           "color": "#4D5663"
          },
          "text": ""
         },
         "type": "linear",
         "zerolinecolor": "#E1E5ED"
        },
        "xaxis5": {
         "anchor": "y5",
         "autorange": true,
         "domain": [
          0,
          0.2125
         ],
         "gridcolor": "#E1E5ED",
         "range": [
          -2.4526000225183964,
          2.2930749597598323
         ],
         "showgrid": false,
         "tickfont": {
          "color": "#4D5663"
         },
         "title": {
          "font": {
           "color": "#4D5663"
          },
          "text": ""
         },
         "type": "linear",
         "zerolinecolor": "#E1E5ED"
        },
        "xaxis6": {
         "anchor": "y6",
         "autorange": true,
         "domain": [
          0.2625,
          0.475
         ],
         "gridcolor": "#E1E5ED",
         "range": [
          -2,
          2.5
         ],
         "showgrid": false,
         "tickfont": {
          "color": "#4D5663"
         },
         "title": {
          "font": {
           "color": "#4D5663"
          },
          "text": ""
         },
         "type": "linear",
         "zerolinecolor": "#E1E5ED"
        },
        "xaxis7": {
         "anchor": "y7",
         "autorange": true,
         "domain": [
          0.525,
          0.7375
         ],
         "gridcolor": "#E1E5ED",
         "range": [
          -3.6690735678043587,
          2.791297314568371
         ],
         "showgrid": false,
         "tickfont": {
          "color": "#4D5663"
         },
         "title": {
          "font": {
           "color": "#4D5663"
          },
          "text": ""
         },
         "type": "linear",
         "zerolinecolor": "#E1E5ED"
        },
        "xaxis8": {
         "anchor": "y8",
         "autorange": true,
         "domain": [
          0.7875,
          1
         ],
         "gridcolor": "#E1E5ED",
         "range": [
          -2.760500426736091,
          3.861167415481503
         ],
         "showgrid": false,
         "tickfont": {
          "color": "#4D5663"
         },
         "title": {
          "font": {
           "color": "#4D5663"
          },
          "text": ""
         },
         "type": "linear",
         "zerolinecolor": "#E1E5ED"
        },
        "xaxis9": {
         "anchor": "y9",
         "autorange": true,
         "domain": [
          0,
          0.2125
         ],
         "gridcolor": "#E1E5ED",
         "range": [
          -2.4526000225183964,
          2.2930749597598323
         ],
         "showgrid": false,
         "tickfont": {
          "color": "#4D5663"
         },
         "title": {
          "font": {
           "color": "#4D5663"
          },
          "text": ""
         },
         "type": "linear",
         "zerolinecolor": "#E1E5ED"
        },
        "yaxis": {
         "anchor": "x",
         "autorange": true,
         "domain": [
          0.8025,
          1
         ],
         "gridcolor": "#E1E5ED",
         "range": [
          0,
          20
         ],
         "showgrid": false,
         "tickfont": {
          "color": "#4D5663"
         },
         "title": {
          "font": {
           "color": "#4D5663"
          },
          "text": ""
         },
         "zerolinecolor": "#E1E5ED"
        },
        "yaxis10": {
         "anchor": "x10",
         "autorange": true,
         "domain": [
          0.2675,
          0.465
         ],
         "gridcolor": "#E1E5ED",
         "range": [
          -4.209496976033798,
          3.3317207227978107
         ],
         "showgrid": false,
         "tickfont": {
          "color": "#4D5663"
         },
         "title": {
          "font": {
           "color": "#4D5663"
          },
          "text": ""
         },
         "type": "linear",
         "zerolinecolor": "#E1E5ED"
        },
        "yaxis11": {
         "anchor": "x11",
         "autorange": true,
         "domain": [
          0.2675,
          0.465
         ],
         "gridcolor": "#E1E5ED",
         "range": [
          0,
          37.89473684210526
         ],
         "showgrid": false,
         "tickfont": {
          "color": "#4D5663"
         },
         "title": {
          "font": {
           "color": "#4D5663"
          },
          "text": ""
         },
         "zerolinecolor": "#E1E5ED"
        },
        "yaxis12": {
         "anchor": "x12",
         "autorange": true,
         "domain": [
          0.2675,
          0.465
         ],
         "gridcolor": "#E1E5ED",
         "range": [
          -4.209496976033798,
          3.3317207227978107
         ],
         "showgrid": false,
         "tickfont": {
          "color": "#4D5663"
         },
         "title": {
          "font": {
           "color": "#4D5663"
          },
          "text": ""
         },
         "type": "linear",
         "zerolinecolor": "#E1E5ED"
        },
        "yaxis13": {
         "anchor": "x13",
         "autorange": true,
         "domain": [
          0,
          0.1975
         ],
         "gridcolor": "#E1E5ED",
         "range": [
          -3.3144166598146816,
          4.415083648560094
         ],
         "showgrid": false,
         "tickfont": {
          "color": "#4D5663"
         },
         "title": {
          "font": {
           "color": "#4D5663"
          },
          "text": ""
         },
         "type": "linear",
         "zerolinecolor": "#E1E5ED"
        },
        "yaxis14": {
         "anchor": "x14",
         "autorange": true,
         "domain": [
          0,
          0.1975
         ],
         "gridcolor": "#E1E5ED",
         "range": [
          -3.3144166598146816,
          4.415083648560094
         ],
         "showgrid": false,
         "tickfont": {
          "color": "#4D5663"
         },
         "title": {
          "font": {
           "color": "#4D5663"
          },
          "text": ""
         },
         "type": "linear",
         "zerolinecolor": "#E1E5ED"
        },
        "yaxis15": {
         "anchor": "x15",
         "autorange": true,
         "domain": [
          0,
          0.1975
         ],
         "gridcolor": "#E1E5ED",
         "range": [
          -3.3144166598146816,
          4.415083648560094
         ],
         "showgrid": false,
         "tickfont": {
          "color": "#4D5663"
         },
         "title": {
          "font": {
           "color": "#4D5663"
          },
          "text": ""
         },
         "type": "linear",
         "zerolinecolor": "#E1E5ED"
        },
        "yaxis16": {
         "anchor": "x16",
         "autorange": true,
         "domain": [
          0,
          0.1975
         ],
         "gridcolor": "#E1E5ED",
         "range": [
          0,
          35.78947368421053
         ],
         "showgrid": false,
         "tickfont": {
          "color": "#4D5663"
         },
         "title": {
          "font": {
           "color": "#4D5663"
          },
          "text": ""
         },
         "zerolinecolor": "#E1E5ED"
        },
        "yaxis2": {
         "anchor": "x2",
         "autorange": true,
         "domain": [
          0.8025,
          1
         ],
         "gridcolor": "#E1E5ED",
         "range": [
          -2.849585566377768,
          2.690060503619204
         ],
         "showgrid": false,
         "tickfont": {
          "color": "#4D5663"
         },
         "title": {
          "font": {
           "color": "#4D5663"
          },
          "text": ""
         },
         "type": "linear",
         "zerolinecolor": "#E1E5ED"
        },
        "yaxis3": {
         "anchor": "x3",
         "autorange": true,
         "domain": [
          0.8025,
          1
         ],
         "gridcolor": "#E1E5ED",
         "range": [
          -2.849585566377768,
          2.690060503619204
         ],
         "showgrid": false,
         "tickfont": {
          "color": "#4D5663"
         },
         "title": {
          "font": {
           "color": "#4D5663"
          },
          "text": ""
         },
         "type": "linear",
         "zerolinecolor": "#E1E5ED"
        },
        "yaxis4": {
         "anchor": "x4",
         "autorange": true,
         "domain": [
          0.8025,
          1
         ],
         "gridcolor": "#E1E5ED",
         "range": [
          -2.849585566377768,
          2.690060503619204
         ],
         "showgrid": false,
         "tickfont": {
          "color": "#4D5663"
         },
         "title": {
          "font": {
           "color": "#4D5663"
          },
          "text": ""
         },
         "type": "linear",
         "zerolinecolor": "#E1E5ED"
        },
        "yaxis5": {
         "anchor": "x5",
         "autorange": true,
         "domain": [
          0.535,
          0.7325
         ],
         "gridcolor": "#E1E5ED",
         "range": [
          -2.7226838350119804,
          2.955765662739532
         ],
         "showgrid": false,
         "tickfont": {
          "color": "#4D5663"
         },
         "title": {
          "font": {
           "color": "#4D5663"
          },
          "text": ""
         },
         "type": "linear",
         "zerolinecolor": "#E1E5ED"
        },
        "yaxis6": {
         "anchor": "x6",
         "autorange": true,
         "domain": [
          0.535,
          0.7325
         ],
         "gridcolor": "#E1E5ED",
         "range": [
          0,
          22.105263157894736
         ],
         "showgrid": false,
         "tickfont": {
          "color": "#4D5663"
         },
         "title": {
          "font": {
           "color": "#4D5663"
          },
          "text": ""
         },
         "zerolinecolor": "#E1E5ED"
        },
        "yaxis7": {
         "anchor": "x7",
         "autorange": true,
         "domain": [
          0.535,
          0.7325
         ],
         "gridcolor": "#E1E5ED",
         "range": [
          -2.7226838350119804,
          2.955765662739532
         ],
         "showgrid": false,
         "tickfont": {
          "color": "#4D5663"
         },
         "title": {
          "font": {
           "color": "#4D5663"
          },
          "text": ""
         },
         "type": "linear",
         "zerolinecolor": "#E1E5ED"
        },
        "yaxis8": {
         "anchor": "x8",
         "autorange": true,
         "domain": [
          0.535,
          0.7325
         ],
         "gridcolor": "#E1E5ED",
         "range": [
          -2.7226838350119804,
          2.955765662739532
         ],
         "showgrid": false,
         "tickfont": {
          "color": "#4D5663"
         },
         "title": {
          "font": {
           "color": "#4D5663"
          },
          "text": ""
         },
         "type": "linear",
         "zerolinecolor": "#E1E5ED"
        },
        "yaxis9": {
         "anchor": "x9",
         "autorange": true,
         "domain": [
          0.2675,
          0.465
         ],
         "gridcolor": "#E1E5ED",
         "range": [
          -4.209496976033798,
          3.3317207227978107
         ],
         "showgrid": false,
         "tickfont": {
          "color": "#4D5663"
         },
         "title": {
          "font": {
           "color": "#4D5663"
          },
          "text": ""
         },
         "type": "linear",
         "zerolinecolor": "#E1E5ED"
        }
       }
      },
      "image/png": "[encoded data removed]",
      "text/html": [
       "<div>                            <div id=\"39e4ed29-1f6f-488b-8fa9-ceecd0adad6f\" class=\"plotly-graph-div\" style=\"height:525px; width:100%;\"></div>            <script type=\"text/javascript\">                require([\"plotly\"], function(Plotly) {                    window.PLOTLYENV=window.PLOTLYENV || {};\n",
       "                    window.PLOTLYENV.BASE_URL='https://plot.ly';                                    if (document.getElementById(\"39e4ed29-1f6f-488b-8fa9-ceecd0adad6f\")) {                    Plotly.newPlot(                        \"39e4ed29-1f6f-488b-8fa9-ceecd0adad6f\",                        [{\"histfunc\":\"count\",\"histnorm\":\"\",\"marker\":{\"color\":\"rgba(255, 153, 51, 1.0)\",\"line\":{\"color\":\"#4D5663\",\"width\":1.3}},\"name\":\"A\",\"nbinsx\":10,\"opacity\":0.8,\"orientation\":\"v\",\"x\":[0.8869849113392575,-0.6964773634974851,0.7003725094248957,0.6608084726687465,1.7706764057755022,1.593145735885654,0.4740756469149725,0.6780606999675864,0.18401197953819318,-0.7649917952568512,0.9253634363763844,1.1118549199592058,-0.8433181578725014,-0.23664150329130548,-1.0992404617482978,0.28527338968743443,0.17481982564549223,1.3951250129856623,0.03590745163901755,-0.9594211851175032,-1.7179801807066248,0.9610755330564402,-0.21363215634783528,0.8804182323614378,0.1905342501740758,-0.4753432693912597,-0.1570437094027896,-0.9272609181058024,0.17515176239940475,-0.11926693582553309,0.6329377787337424,-0.6960379586458401,0.8072366409662378,1.0573006596282648,0.5262146051999136,-1.037271742531441,0.871425023776492,0.6875642804316112,-0.3209806553607807,-0.01897505420084429,1.1234988077597399,1.232420058647342,-0.4814980044587215,-0.35992966279024435,-0.3504136026398206,-0.0264638521470713,1.9455975191069528,0.7397424830525191,-1.3988662235783076,-0.6533021042995357,-1.0098839390042138,0.05158988935672315,-0.8885088323550191,1.3090023593260731,-0.4921751166128579,1.2562814695609659,-0.944489215550293,-0.9047929765159812,-0.16005070797481277,-0.3518748309386049,-0.6012147657777107,0.4833247270826448,-0.7995893120513355,0.6224446543722254,-0.09063609686494375,0.2828186976151058,1.298079370651083,0.60323067089413,0.9939326715694906,1.4930838976436456,-0.4027665687300486,-0.2607266448729439,-1.2535961981729813,0.9218123335954357,1.312062175830314,-0.9316561504008531,-0.61598560161817,-0.25100143532399877,0.4566927248840788,-0.9159752831190259,0.7377046809517973,-1.1626764129405016,-0.889391245298526,-0.6858184717161875,-0.09402072749499414,0.12562747120961676,0.09883684431670127,0.1865993291130212,-2.105122581865517,-1.5402416903738123,1.5094402807854603,-0.9361748837890781,0.12672444198158989,-1.589658407398841,-0.9996902030723225,0.12222138560129037,1.037829126734841,-1.0237728938148212,0.8129908238728943,-1.1735680529795158],\"xaxis\":\"x\",\"yaxis\":\"y\",\"type\":\"histogram\"},{\"line\":{\"color\":\"rgba(128, 128, 128, 1.0)\",\"dash\":\"solid\",\"shape\":\"linear\",\"width\":1.3},\"marker\":{\"size\":2,\"symbol\":\"circle\"},\"mode\":\"markers\",\"name\":\"A\",\"text\":\"\",\"x\":[-0.8333485300834292,-1.2766677713856172,0.32889268999764587,-0.7228597241406125,-1.088055170641722,-0.26454960727060933,-1.088746135103376,1.307311404250032,0.08031675927464546,0.02757860090171118,0.6518221207539567,0.7276482533339022,-1.1158078994176668,-0.05851343762871096,-0.779070280511317,0.6555944432816424,0.3795977680725507,0.6047485425267529,-1.245835389444955,0.5118554482170173,0.4007446062617446,-0.9762413226379608,0.23963149916481855,-0.08182559589104474,0.28026876924154154,0.593917640305292,-1.9595673096812394,-1.06511056321929,0.9918697122537389,0.3043350394672878,-0.2265403931323341,2.192649137408791,0.9174930299413948,0.8686827682351795,-0.9492012311313425,1.9138497364086406,-1.021402262388293,0.15575335857348221,-0.6085703602891364,0.7370588517740067,-0.327086277798017,1.1799615116593871,-0.35685566036595373,-1.175460976239832,0.31255342310921275,0.9897473343815354,0.9198781183889619,-0.7474006092799659,-0.856587496221934,-0.785034997454377,-0.12235515802115861,-1.786434990061692,0.5481592699594763,-1.274980280267999,0.696836476541588,-1.370492271925774,2.06004470363456,2.0468933823727764,0.21084208697464552,-0.12258782808995522,0.6403637734278632,-1.311325626456603,1.503641044788058,-1.078001719112831,1.3989747726854669,-1.616107252848288,-0.9637366722446397,0.10514432242328021,-0.35714686741413504,1.306610500270275,1.0975979363582071,1.6273028114379513,0.0019938966806490165,0.369738032875827,0.6194225065626668,-0.6008423439289713,0.5994305624114238,0.1278850553222134,0.1993287048843189,-0.9900196451938488,-0.0030251013458408673,0.6231686049789226,0.05503581719741051,-0.08273659707165258,-0.2576366521809987,-0.30204557671675586,0.501843752794459,-0.08670464369271894,0.4723263552701553,0.5855339910336078,-1.557478447357505,1.169546362591803,1.8645090896560506,-0.08712959822128583,-1.1493323961227986,0.29210214535966844,0.6546376109394556,-0.6030391008507462,-0.5090505082959106,-1.0319222234727223],\"xaxis\":\"x2\",\"y\":[0.8869849113392575,-0.6964773634974851,0.7003725094248957,0.6608084726687465,1.7706764057755022,1.593145735885654,0.4740756469149725,0.6780606999675864,0.18401197953819318,-0.7649917952568512,0.9253634363763844,1.1118549199592058,-0.8433181578725014,-0.23664150329130548,-1.0992404617482978,0.28527338968743443,0.17481982564549223,1.3951250129856623,0.03590745163901755,-0.9594211851175032,-1.7179801807066248,0.9610755330564402,-0.21363215634783528,0.8804182323614378,0.1905342501740758,-0.4753432693912597,-0.1570437094027896,-0.9272609181058024,0.17515176239940475,-0.11926693582553309,0.6329377787337424,-0.6960379586458401,0.8072366409662378,1.0573006596282648,0.5262146051999136,-1.037271742531441,0.871425023776492,0.6875642804316112,-0.3209806553607807,-0.01897505420084429,1.1234988077597399,1.232420058647342,-0.4814980044587215,-0.35992966279024435,-0.3504136026398206,-0.0264638521470713,1.9455975191069528,0.7397424830525191,-1.3988662235783076,-0.6533021042995357,-1.0098839390042138,0.05158988935672315,-0.8885088323550191,1.3090023593260731,-0.4921751166128579,1.2562814695609659,-0.944489215550293,-0.9047929765159812,-0.16005070797481277,-0.3518748309386049,-0.6012147657777107,0.4833247270826448,-0.7995893120513355,0.6224446543722254,-0.09063609686494375,0.2828186976151058,1.298079370651083,0.60323067089413,0.9939326715694906,1.4930838976436456,-0.4027665687300486,-0.2607266448729439,-1.2535961981729813,0.9218123335954357,1.312062175830314,-0.9316561504008531,-0.61598560161817,-0.25100143532399877,0.4566927248840788,-0.9159752831190259,0.7377046809517973,-1.1626764129405016,-0.889391245298526,-0.6858184717161875,-0.09402072749499414,0.12562747120961676,0.09883684431670127,0.1865993291130212,-2.105122581865517,-1.5402416903738123,1.5094402807854603,-0.9361748837890781,0.12672444198158989,-1.589658407398841,-0.9996902030723225,0.12222138560129037,1.037829126734841,-1.0237728938148212,0.8129908238728943,-1.1735680529795158],\"yaxis\":\"y2\",\"type\":\"scatter\"},{\"line\":{\"color\":\"rgba(128, 128, 128, 1.0)\",\"dash\":\"solid\",\"shape\":\"linear\",\"width\":1.3},\"marker\":{\"size\":2,\"symbol\":\"circle\"},\"mode\":\"markers\",\"name\":\"A\",\"text\":\"\",\"x\":[0.49322405126214947,0.5457600716443969,-0.42517835147861877,0.5745511255977691,1.7684737099934653,1.1907514543407776,-1.1060418086123995,-0.10012538251557579,0.27699957003768877,1.007495807088129,-1.252918666875961,2.318270158629934,-0.06728910105018798,1.654583566684126,1.148233312788604,-2.166818486226118,-2.8413326109406345,1.0338281332613426,-0.07633761686381346,-0.47184278336843244,-0.932511228454258,-0.11047489848371143,0.9614595767991201,0.754712284550973,0.12960506867193408,-1.666025463753459,-1.3255997436971705,0.7294701985664961,-1.4315793816431988,0.578199843033818,-0.7610094054926043,1.35599248727197,0.34616608661427445,-1.3096329061710563,-0.8797481210910884,0.37859645846032747,1.6970766354386277,-0.6618327113581314,0.7807784048236518,0.1778841944508108,0.39751840401696537,0.12398811610905923,1.4627812670640001,-0.17405092079614742,0.33090784965752895,-0.09268259705402866,-1.4943178764179594,0.6030433843066976,-0.9929821631304186,-1.2404369181492476,1.3996326136016746,-0.5358908297865966,0.9090192491449295,-0.7572264642866648,0.610378458910417,0.8836714610088213,-0.8022144972206394,-0.2690592174540479,-0.48223688070710247,-0.5073223031057444,0.9345858383266177,-3.1960464118659218,0.3596196111620243,-0.7891156122689769,-0.5369022071597999,0.913099153608634,0.8170324598206611,-0.8859877241879088,1.0355477169646596,-0.1086304860204677,-0.5123087821354901,2.09941591774087,-1.1564488215399584,0.8600159901705485,0.21051312102654496,1.4604330406588446,1.816635832794891,-0.7081424083881579,0.999425767418478,0.5361847088819287,-0.048321469429248066,-0.3493218467811937,0.8863312322056334,0.7725403728895929,-0.09718393494692423,0.38377814475875366,-0.9386339851183051,-0.33226935220362286,0.028407676359431405,1.482648301261031,-0.05965477409126021,-1.2717496469009433,-0.0494281997170523,0.1822432949232148,2.048681465799448,-0.37100561331300896,-0.7781379418352393,-0.7609175210768929,-0.2548516908977958,0.026192176729354477],\"xaxis\":\"x3\",\"y\":[0.8869849113392575,-0.6964773634974851,0.7003725094248957,0.6608084726687465,1.7706764057755022,1.593145735885654,0.4740756469149725,0.6780606999675864,0.18401197953819318,-0.7649917952568512,0.9253634363763844,1.1118549199592058,-0.8433181578725014,-0.23664150329130548,-1.0992404617482978,0.28527338968743443,0.17481982564549223,1.3951250129856623,0.03590745163901755,-0.9594211851175032,-1.7179801807066248,0.9610755330564402,-0.21363215634783528,0.8804182323614378,0.1905342501740758,-0.4753432693912597,-0.1570437094027896,-0.9272609181058024,0.17515176239940475,-0.11926693582553309,0.6329377787337424,-0.6960379586458401,0.8072366409662378,1.0573006596282648,0.5262146051999136,-1.037271742531441,0.871425023776492,0.6875642804316112,-0.3209806553607807,-0.01897505420084429,1.1234988077597399,1.232420058647342,-0.4814980044587215,-0.35992966279024435,-0.3504136026398206,-0.0264638521470713,1.9455975191069528,0.7397424830525191,-1.3988662235783076,-0.6533021042995357,-1.0098839390042138,0.05158988935672315,-0.8885088323550191,1.3090023593260731,-0.4921751166128579,1.2562814695609659,-0.944489215550293,-0.9047929765159812,-0.16005070797481277,-0.3518748309386049,-0.6012147657777107,0.4833247270826448,-0.7995893120513355,0.6224446543722254,-0.09063609686494375,0.2828186976151058,1.298079370651083,0.60323067089413,0.9939326715694906,1.4930838976436456,-0.4027665687300486,-0.2607266448729439,-1.2535961981729813,0.9218123335954357,1.312062175830314,-0.9316561504008531,-0.61598560161817,-0.25100143532399877,0.4566927248840788,-0.9159752831190259,0.7377046809517973,-1.1626764129405016,-0.889391245298526,-0.6858184717161875,-0.09402072749499414,0.12562747120961676,0.09883684431670127,0.1865993291130212,-2.105122581865517,-1.5402416903738123,1.5094402807854603,-0.9361748837890781,0.12672444198158989,-1.589658407398841,-0.9996902030723225,0.12222138560129037,1.037829126734841,-1.0237728938148212,0.8129908238728943,-1.1735680529795158],\"yaxis\":\"y3\",\"type\":\"scatter\"},{\"line\":{\"color\":\"rgba(128, 128, 128, 1.0)\",\"dash\":\"solid\",\"shape\":\"linear\",\"width\":1.3},\"marker\":{\"size\":2,\"symbol\":\"circle\"},\"mode\":\"markers\",\"name\":\"A\",\"text\":\"\",\"x\":[-1.106588595253017,-1.7625259970631675,-0.28114898378892783,-1.8458032499016095,0.493990428336042,0.6915882234883003,-0.4181147376758479,1.9759592418227228,-0.4227437328973502,-0.7886324832124805,-0.2981985158557025,1.7863195588385747,0.7671438676226041,0.061163816143691964,1.068788065212692,0.9843506349446971,0.13379548199694222,1.9746605907731327,-0.7967190353984315,0.4419751393025786,0.8551529874622772,-0.48572752108699574,1.831487471210438,0.9033522467774028,-0.5884621961182047,0.9142641717150914,0.4360557228216116,0.07614701310123126,1.712911167595945,-1.0716019303204742,1.0605631546143397,-1.0310122645167352,1.4570388109825128,0.3721513111041933,0.3840859292887934,0.16692219940290637,-2.2682607764235128,0.6225888158694625,0.6015441989964391,0.4717372158894237,-0.02050580468473935,-1.2287436404299503,-0.2086821448422613,1.2490764699864383,1.728011850419966,1.1907730707343362,-0.019661123978005735,0.16576057162772515,0.39935894525127164,0.023873960189528656,1.8590120009018491,-0.2394313488667711,0.5363253572996315,-1.1029843258676288,1.170588938860763,-0.473752094474679,1.8021154540602147,-0.42521188603580434,0.37042104511974633,1.0692619530657717,-0.4090631633454856,-0.43424621515593187,-0.03456060882119637,0.7321767033056015,-1.2958583797579732,0.919562596878192,1.462368362357545,-0.8961900922615357,-1.0125652676931065,1.7067018125820816,-0.18334575181701857,-0.03938972840374754,0.7260607860479866,0.32955806515040015,-2.275663137360097,0.3216295542407838,-1.941900055198531,-1.2697864576400166,-0.27017250547389055,0.027607956226635918,-1.4916082080114075,0.008743448000394788,-1.1393957361692086,-0.018070644370657717,-0.40427606584351705,1.1048619376386135,0.9731369300885374,0.5848063916374624,-1.707256895343771,1.2825706302093165,3.376330126105509,-0.06884548617581909,-0.28501539631248346,-0.47857383620816546,0.30886230006894966,-1.1739837561907096,-0.027357805727334625,0.47270856057555993,-0.2533226844982376,-0.9553228727653434],\"xaxis\":\"x4\",\"y\":[0.8869849113392575,-0.6964773634974851,0.7003725094248957,0.6608084726687465,1.7706764057755022,1.593145735885654,0.4740756469149725,0.6780606999675864,0.18401197953819318,-0.7649917952568512,0.9253634363763844,1.1118549199592058,-0.8433181578725014,-0.23664150329130548,-1.0992404617482978,0.28527338968743443,0.17481982564549223,1.3951250129856623,0.03590745163901755,-0.9594211851175032,-1.7179801807066248,0.9610755330564402,-0.21363215634783528,0.8804182323614378,0.1905342501740758,-0.4753432693912597,-0.1570437094027896,-0.9272609181058024,0.17515176239940475,-0.11926693582553309,0.6329377787337424,-0.6960379586458401,0.8072366409662378,1.0573006596282648,0.5262146051999136,-1.037271742531441,0.871425023776492,0.6875642804316112,-0.3209806553607807,-0.01897505420084429,1.1234988077597399,1.232420058647342,-0.4814980044587215,-0.35992966279024435,-0.3504136026398206,-0.0264638521470713,1.9455975191069528,0.7397424830525191,-1.3988662235783076,-0.6533021042995357,-1.0098839390042138,0.05158988935672315,-0.8885088323550191,1.3090023593260731,-0.4921751166128579,1.2562814695609659,-0.944489215550293,-0.9047929765159812,-0.16005070797481277,-0.3518748309386049,-0.6012147657777107,0.4833247270826448,-0.7995893120513355,0.6224446543722254,-0.09063609686494375,0.2828186976151058,1.298079370651083,0.60323067089413,0.9939326715694906,1.4930838976436456,-0.4027665687300486,-0.2607266448729439,-1.2535961981729813,0.9218123335954357,1.312062175830314,-0.9316561504008531,-0.61598560161817,-0.25100143532399877,0.4566927248840788,-0.9159752831190259,0.7377046809517973,-1.1626764129405016,-0.889391245298526,-0.6858184717161875,-0.09402072749499414,0.12562747120961676,0.09883684431670127,0.1865993291130212,-2.105122581865517,-1.5402416903738123,1.5094402807854603,-0.9361748837890781,0.12672444198158989,-1.589658407398841,-0.9996902030723225,0.12222138560129037,1.037829126734841,-1.0237728938148212,0.8129908238728943,-1.1735680529795158],\"yaxis\":\"y4\",\"type\":\"scatter\"},{\"line\":{\"color\":\"rgba(128, 128, 128, 1.0)\",\"dash\":\"solid\",\"shape\":\"linear\",\"width\":1.3},\"marker\":{\"size\":2,\"symbol\":\"circle\"},\"mode\":\"markers\",\"name\":\"B\",\"text\":\"\",\"x\":[0.8869849113392575,-0.6964773634974851,0.7003725094248957,0.6608084726687465,1.7706764057755022,1.593145735885654,0.4740756469149725,0.6780606999675864,0.18401197953819318,-0.7649917952568512,0.9253634363763844,1.1118549199592058,-0.8433181578725014,-0.23664150329130548,-1.0992404617482978,0.28527338968743443,0.17481982564549223,1.3951250129856623,0.03590745163901755,-0.9594211851175032,-1.7179801807066248,0.9610755330564402,-0.21363215634783528,0.8804182323614378,0.1905342501740758,-0.4753432693912597,-0.1570437094027896,-0.9272609181058024,0.17515176239940475,-0.11926693582553309,0.6329377787337424,-0.6960379586458401,0.8072366409662378,1.0573006596282648,0.5262146051999136,-1.037271742531441,0.871425023776492,0.6875642804316112,-0.3209806553607807,-0.01897505420084429,1.1234988077597399,1.232420058647342,-0.4814980044587215,-0.35992966279024435,-0.3504136026398206,-0.0264638521470713,1.9455975191069528,0.7397424830525191,-1.3988662235783076,-0.6533021042995357,-1.0098839390042138,0.05158988935672315,-0.8885088323550191,1.3090023593260731,-0.4921751166128579,1.2562814695609659,-0.944489215550293,-0.9047929765159812,-0.16005070797481277,-0.3518748309386049,-0.6012147657777107,0.4833247270826448,-0.7995893120513355,0.6224446543722254,-0.09063609686494375,0.2828186976151058,1.298079370651083,0.60323067089413,0.9939326715694906,1.4930838976436456,-0.4027665687300486,-0.2607266448729439,-1.2535961981729813,0.9218123335954357,1.312062175830314,-0.9316561504008531,-0.61598560161817,-0.25100143532399877,0.4566927248840788,-0.9159752831190259,0.7377046809517973,-1.1626764129405016,-0.889391245298526,-0.6858184717161875,-0.09402072749499414,0.12562747120961676,0.09883684431670127,0.1865993291130212,-2.105122581865517,-1.5402416903738123,1.5094402807854603,-0.9361748837890781,0.12672444198158989,-1.589658407398841,-0.9996902030723225,0.12222138560129037,1.037829126734841,-1.0237728938148212,0.8129908238728943,-1.1735680529795158],\"xaxis\":\"x5\",\"y\":[-0.8333485300834292,-1.2766677713856172,0.32889268999764587,-0.7228597241406125,-1.088055170641722,-0.26454960727060933,-1.088746135103376,1.307311404250032,0.08031675927464546,0.02757860090171118,0.6518221207539567,0.7276482533339022,-1.1158078994176668,-0.05851343762871096,-0.779070280511317,0.6555944432816424,0.3795977680725507,0.6047485425267529,-1.245835389444955,0.5118554482170173,0.4007446062617446,-0.9762413226379608,0.23963149916481855,-0.08182559589104474,0.28026876924154154,0.593917640305292,-1.9595673096812394,-1.06511056321929,0.9918697122537389,0.3043350394672878,-0.2265403931323341,2.192649137408791,0.9174930299413948,0.8686827682351795,-0.9492012311313425,1.9138497364086406,-1.021402262388293,0.15575335857348221,-0.6085703602891364,0.7370588517740067,-0.327086277798017,1.1799615116593871,-0.35685566036595373,-1.175460976239832,0.31255342310921275,0.9897473343815354,0.9198781183889619,-0.7474006092799659,-0.856587496221934,-0.785034997454377,-0.12235515802115861,-1.786434990061692,0.5481592699594763,-1.274980280267999,0.696836476541588,-1.370492271925774,2.06004470363456,2.0468933823727764,0.21084208697464552,-0.12258782808995522,0.6403637734278632,-1.311325626456603,1.503641044788058,-1.078001719112831,1.3989747726854669,-1.616107252848288,-0.9637366722446397,0.10514432242328021,-0.35714686741413504,1.306610500270275,1.0975979363582071,1.6273028114379513,0.0019938966806490165,0.369738032875827,0.6194225065626668,-0.6008423439289713,0.5994305624114238,0.1278850553222134,0.1993287048843189,-0.9900196451938488,-0.0030251013458408673,0.6231686049789226,0.05503581719741051,-0.08273659707165258,-0.2576366521809987,-0.30204557671675586,0.501843752794459,-0.08670464369271894,0.4723263552701553,0.5855339910336078,-1.557478447357505,1.169546362591803,1.8645090896560506,-0.08712959822128583,-1.1493323961227986,0.29210214535966844,0.6546376109394556,-0.6030391008507462,-0.5090505082959106,-1.0319222234727223],\"yaxis\":\"y5\",\"type\":\"scatter\"},{\"histfunc\":\"count\",\"histnorm\":\"\",\"marker\":{\"color\":\"rgba(55, 128, 191, 1.0)\",\"line\":{\"color\":\"#4D5663\",\"width\":1.3}},\"name\":\"B\",\"nbinsx\":10,\"opacity\":0.8,\"orientation\":\"v\",\"x\":[-0.8333485300834292,-1.2766677713856172,0.32889268999764587,-0.7228597241406125,-1.088055170641722,-0.26454960727060933,-1.088746135103376,1.307311404250032,0.08031675927464546,0.02757860090171118,0.6518221207539567,0.7276482533339022,-1.1158078994176668,-0.05851343762871096,-0.779070280511317,0.6555944432816424,0.3795977680725507,0.6047485425267529,-1.245835389444955,0.5118554482170173,0.4007446062617446,-0.9762413226379608,0.23963149916481855,-0.08182559589104474,0.28026876924154154,0.593917640305292,-1.9595673096812394,-1.06511056321929,0.9918697122537389,0.3043350394672878,-0.2265403931323341,2.192649137408791,0.9174930299413948,0.8686827682351795,-0.9492012311313425,1.9138497364086406,-1.021402262388293,0.15575335857348221,-0.6085703602891364,0.7370588517740067,-0.327086277798017,1.1799615116593871,-0.35685566036595373,-1.175460976239832,0.31255342310921275,0.9897473343815354,0.9198781183889619,-0.7474006092799659,-0.856587496221934,-0.785034997454377,-0.12235515802115861,-1.786434990061692,0.5481592699594763,-1.274980280267999,0.696836476541588,-1.370492271925774,2.06004470363456,2.0468933823727764,0.21084208697464552,-0.12258782808995522,0.6403637734278632,-1.311325626456603,1.503641044788058,-1.078001719112831,1.3989747726854669,-1.616107252848288,-0.9637366722446397,0.10514432242328021,-0.35714686741413504,1.306610500270275,1.0975979363582071,1.6273028114379513,0.0019938966806490165,0.369738032875827,0.6194225065626668,-0.6008423439289713,0.5994305624114238,0.1278850553222134,0.1993287048843189,-0.9900196451938488,-0.0030251013458408673,0.6231686049789226,0.05503581719741051,-0.08273659707165258,-0.2576366521809987,-0.30204557671675586,0.501843752794459,-0.08670464369271894,0.4723263552701553,0.5855339910336078,-1.557478447357505,1.169546362591803,1.8645090896560506,-0.08712959822128583,-1.1493323961227986,0.29210214535966844,0.6546376109394556,-0.6030391008507462,-0.5090505082959106,-1.0319222234727223],\"xaxis\":\"x6\",\"yaxis\":\"y6\",\"type\":\"histogram\"},{\"line\":{\"color\":\"rgba(128, 128, 128, 1.0)\",\"dash\":\"solid\",\"shape\":\"linear\",\"width\":1.3},\"marker\":{\"size\":2,\"symbol\":\"circle\"},\"mode\":\"markers\",\"name\":\"B\",\"text\":\"\",\"x\":[0.49322405126214947,0.5457600716443969,-0.42517835147861877,0.5745511255977691,1.7684737099934653,1.1907514543407776,-1.1060418086123995,-0.10012538251557579,0.27699957003768877,1.007495807088129,-1.252918666875961,2.318270158629934,-0.06728910105018798,1.654583566684126,1.148233312788604,-2.166818486226118,-2.8413326109406345,1.0338281332613426,-0.07633761686381346,-0.47184278336843244,-0.932511228454258,-0.11047489848371143,0.9614595767991201,0.754712284550973,0.12960506867193408,-1.666025463753459,-1.3255997436971705,0.7294701985664961,-1.4315793816431988,0.578199843033818,-0.7610094054926043,1.35599248727197,0.34616608661427445,-1.3096329061710563,-0.8797481210910884,0.37859645846032747,1.6970766354386277,-0.6618327113581314,0.7807784048236518,0.1778841944508108,0.39751840401696537,0.12398811610905923,1.4627812670640001,-0.17405092079614742,0.33090784965752895,-0.09268259705402866,-1.4943178764179594,0.6030433843066976,-0.9929821631304186,-1.2404369181492476,1.3996326136016746,-0.5358908297865966,0.9090192491449295,-0.7572264642866648,0.610378458910417,0.8836714610088213,-0.8022144972206394,-0.2690592174540479,-0.48223688070710247,-0.5073223031057444,0.9345858383266177,-3.1960464118659218,0.3596196111620243,-0.7891156122689769,-0.5369022071597999,0.913099153608634,0.8170324598206611,-0.8859877241879088,1.0355477169646596,-0.1086304860204677,-0.5123087821354901,2.09941591774087,-1.1564488215399584,0.8600159901705485,0.21051312102654496,1.4604330406588446,1.816635832794891,-0.7081424083881579,0.999425767418478,0.5361847088819287,-0.048321469429248066,-0.3493218467811937,0.8863312322056334,0.7725403728895929,-0.09718393494692423,0.38377814475875366,-0.9386339851183051,-0.33226935220362286,0.028407676359431405,1.482648301261031,-0.05965477409126021,-1.2717496469009433,-0.0494281997170523,0.1822432949232148,2.048681465799448,-0.37100561331300896,-0.7781379418352393,-0.7609175210768929,-0.2548516908977958,0.026192176729354477],\"xaxis\":\"x7\",\"y\":[-0.8333485300834292,-1.2766677713856172,0.32889268999764587,-0.7228597241406125,-1.088055170641722,-0.26454960727060933,-1.088746135103376,1.307311404250032,0.08031675927464546,0.02757860090171118,0.6518221207539567,0.7276482533339022,-1.1158078994176668,-0.05851343762871096,-0.779070280511317,0.6555944432816424,0.3795977680725507,0.6047485425267529,-1.245835389444955,0.5118554482170173,0.4007446062617446,-0.9762413226379608,0.23963149916481855,-0.08182559589104474,0.28026876924154154,0.593917640305292,-1.9595673096812394,-1.06511056321929,0.9918697122537389,0.3043350394672878,-0.2265403931323341,2.192649137408791,0.9174930299413948,0.8686827682351795,-0.9492012311313425,1.9138497364086406,-1.021402262388293,0.15575335857348221,-0.6085703602891364,0.7370588517740067,-0.327086277798017,1.1799615116593871,-0.35685566036595373,-1.175460976239832,0.31255342310921275,0.9897473343815354,0.9198781183889619,-0.7474006092799659,-0.856587496221934,-0.785034997454377,-0.12235515802115861,-1.786434990061692,0.5481592699594763,-1.274980280267999,0.696836476541588,-1.370492271925774,2.06004470363456,2.0468933823727764,0.21084208697464552,-0.12258782808995522,0.6403637734278632,-1.311325626456603,1.503641044788058,-1.078001719112831,1.3989747726854669,-1.616107252848288,-0.9637366722446397,0.10514432242328021,-0.35714686741413504,1.306610500270275,1.0975979363582071,1.6273028114379513,0.0019938966806490165,0.369738032875827,0.6194225065626668,-0.6008423439289713,0.5994305624114238,0.1278850553222134,0.1993287048843189,-0.9900196451938488,-0.0030251013458408673,0.6231686049789226,0.05503581719741051,-0.08273659707165258,-0.2576366521809987,-0.30204557671675586,0.501843752794459,-0.08670464369271894,0.4723263552701553,0.5855339910336078,-1.557478447357505,1.169546362591803,1.8645090896560506,-0.08712959822128583,-1.1493323961227986,0.29210214535966844,0.6546376109394556,-0.6030391008507462,-0.5090505082959106,-1.0319222234727223],\"yaxis\":\"y7\",\"type\":\"scatter\"},{\"line\":{\"color\":\"rgba(128, 128, 128, 1.0)\",\"dash\":\"solid\",\"shape\":\"linear\",\"width\":1.3},\"marker\":{\"size\":2,\"symbol\":\"circle\"},\"mode\":\"markers\",\"name\":\"B\",\"text\":\"\",\"x\":[-1.106588595253017,-1.7625259970631675,-0.28114898378892783,-1.8458032499016095,0.493990428336042,0.6915882234883003,-0.4181147376758479,1.9759592418227228,-0.4227437328973502,-0.7886324832124805,-0.2981985158557025,1.7863195588385747,0.7671438676226041,0.061163816143691964,1.068788065212692,0.9843506349446971,0.13379548199694222,1.9746605907731327,-0.7967190353984315,0.4419751393025786,0.8551529874622772,-0.48572752108699574,1.831487471210438,0.9033522467774028,-0.5884621961182047,0.9142641717150914,0.4360557228216116,0.07614701310123126,1.712911167595945,-1.0716019303204742,1.0605631546143397,-1.0310122645167352,1.4570388109825128,0.3721513111041933,0.3840859292887934,0.16692219940290637,-2.2682607764235128,0.6225888158694625,0.6015441989964391,0.4717372158894237,-0.02050580468473935,-1.2287436404299503,-0.2086821448422613,1.2490764699864383,1.728011850419966,1.1907730707343362,-0.019661123978005735,0.16576057162772515,0.39935894525127164,0.023873960189528656,1.8590120009018491,-0.2394313488667711,0.5363253572996315,-1.1029843258676288,1.170588938860763,-0.473752094474679,1.8021154540602147,-0.42521188603580434,0.37042104511974633,1.0692619530657717,-0.4090631633454856,-0.43424621515593187,-0.03456060882119637,0.7321767033056015,-1.2958583797579732,0.919562596878192,1.462368362357545,-0.8961900922615357,-1.0125652676931065,1.7067018125820816,-0.18334575181701857,-0.03938972840374754,0.7260607860479866,0.32955806515040015,-2.275663137360097,0.3216295542407838,-1.941900055198531,-1.2697864576400166,-0.27017250547389055,0.027607956226635918,-1.4916082080114075,0.008743448000394788,-1.1393957361692086,-0.018070644370657717,-0.40427606584351705,1.1048619376386135,0.9731369300885374,0.5848063916374624,-1.707256895343771,1.2825706302093165,3.376330126105509,-0.06884548617581909,-0.28501539631248346,-0.47857383620816546,0.30886230006894966,-1.1739837561907096,-0.027357805727334625,0.47270856057555993,-0.2533226844982376,-0.9553228727653434],\"xaxis\":\"x8\",\"y\":[-0.8333485300834292,-1.2766677713856172,0.32889268999764587,-0.7228597241406125,-1.088055170641722,-0.26454960727060933,-1.088746135103376,1.307311404250032,0.08031675927464546,0.02757860090171118,0.6518221207539567,0.7276482533339022,-1.1158078994176668,-0.05851343762871096,-0.779070280511317,0.6555944432816424,0.3795977680725507,0.6047485425267529,-1.245835389444955,0.5118554482170173,0.4007446062617446,-0.9762413226379608,0.23963149916481855,-0.08182559589104474,0.28026876924154154,0.593917640305292,-1.9595673096812394,-1.06511056321929,0.9918697122537389,0.3043350394672878,-0.2265403931323341,2.192649137408791,0.9174930299413948,0.8686827682351795,-0.9492012311313425,1.9138497364086406,-1.021402262388293,0.15575335857348221,-0.6085703602891364,0.7370588517740067,-0.327086277798017,1.1799615116593871,-0.35685566036595373,-1.175460976239832,0.31255342310921275,0.9897473343815354,0.9198781183889619,-0.7474006092799659,-0.856587496221934,-0.785034997454377,-0.12235515802115861,-1.786434990061692,0.5481592699594763,-1.274980280267999,0.696836476541588,-1.370492271925774,2.06004470363456,2.0468933823727764,0.21084208697464552,-0.12258782808995522,0.6403637734278632,-1.311325626456603,1.503641044788058,-1.078001719112831,1.3989747726854669,-1.616107252848288,-0.9637366722446397,0.10514432242328021,-0.35714686741413504,1.306610500270275,1.0975979363582071,1.6273028114379513,0.0019938966806490165,0.369738032875827,0.6194225065626668,-0.6008423439289713,0.5994305624114238,0.1278850553222134,0.1993287048843189,-0.9900196451938488,-0.0030251013458408673,0.6231686049789226,0.05503581719741051,-0.08273659707165258,-0.2576366521809987,-0.30204557671675586,0.501843752794459,-0.08670464369271894,0.4723263552701553,0.5855339910336078,-1.557478447357505,1.169546362591803,1.8645090896560506,-0.08712959822128583,-1.1493323961227986,0.29210214535966844,0.6546376109394556,-0.6030391008507462,-0.5090505082959106,-1.0319222234727223],\"yaxis\":\"y8\",\"type\":\"scatter\"},{\"line\":{\"color\":\"rgba(128, 128, 128, 1.0)\",\"dash\":\"solid\",\"shape\":\"linear\",\"width\":1.3},\"marker\":{\"size\":2,\"symbol\":\"circle\"},\"mode\":\"markers\",\"name\":\"C\",\"text\":\"\",\"x\":[0.8869849113392575,-0.6964773634974851,0.7003725094248957,0.6608084726687465,1.7706764057755022,1.593145735885654,0.4740756469149725,0.6780606999675864,0.18401197953819318,-0.7649917952568512,0.9253634363763844,1.1118549199592058,-0.8433181578725014,-0.23664150329130548,-1.0992404617482978,0.28527338968743443,0.17481982564549223,1.3951250129856623,0.03590745163901755,-0.9594211851175032,-1.7179801807066248,0.9610755330564402,-0.21363215634783528,0.8804182323614378,0.1905342501740758,-0.4753432693912597,-0.1570437094027896,-0.9272609181058024,0.17515176239940475,-0.11926693582553309,0.6329377787337424,-0.6960379586458401,0.8072366409662378,1.0573006596282648,0.5262146051999136,-1.037271742531441,0.871425023776492,0.6875642804316112,-0.3209806553607807,-0.01897505420084429,1.1234988077597399,1.232420058647342,-0.4814980044587215,-0.35992966279024435,-0.3504136026398206,-0.0264638521470713,1.9455975191069528,0.7397424830525191,-1.3988662235783076,-0.6533021042995357,-1.0098839390042138,0.05158988935672315,-0.8885088323550191,1.3090023593260731,-0.4921751166128579,1.2562814695609659,-0.944489215550293,-0.9047929765159812,-0.16005070797481277,-0.3518748309386049,-0.6012147657777107,0.4833247270826448,-0.7995893120513355,0.6224446543722254,-0.09063609686494375,0.2828186976151058,1.298079370651083,0.60323067089413,0.9939326715694906,1.4930838976436456,-0.4027665687300486,-0.2607266448729439,-1.2535961981729813,0.9218123335954357,1.312062175830314,-0.9316561504008531,-0.61598560161817,-0.25100143532399877,0.4566927248840788,-0.9159752831190259,0.7377046809517973,-1.1626764129405016,-0.889391245298526,-0.6858184717161875,-0.09402072749499414,0.12562747120961676,0.09883684431670127,0.1865993291130212,-2.105122581865517,-1.5402416903738123,1.5094402807854603,-0.9361748837890781,0.12672444198158989,-1.589658407398841,-0.9996902030723225,0.12222138560129037,1.037829126734841,-1.0237728938148212,0.8129908238728943,-1.1735680529795158],\"xaxis\":\"x9\",\"y\":[0.49322405126214947,0.5457600716443969,-0.42517835147861877,0.5745511255977691,1.7684737099934653,1.1907514543407776,-1.1060418086123995,-0.10012538251557579,0.27699957003768877,1.007495807088129,-1.252918666875961,2.318270158629934,-0.06728910105018798,1.654583566684126,1.148233312788604,-2.166818486226118,-2.8413326109406345,1.0338281332613426,-0.07633761686381346,-0.47184278336843244,-0.932511228454258,-0.11047489848371143,0.9614595767991201,0.754712284550973,0.12960506867193408,-1.666025463753459,-1.3255997436971705,0.7294701985664961,-1.4315793816431988,0.578199843033818,-0.7610094054926043,1.35599248727197,0.34616608661427445,-1.3096329061710563,-0.8797481210910884,0.37859645846032747,1.6970766354386277,-0.6618327113581314,0.7807784048236518,0.1778841944508108,0.39751840401696537,0.12398811610905923,1.4627812670640001,-0.17405092079614742,0.33090784965752895,-0.09268259705402866,-1.4943178764179594,0.6030433843066976,-0.9929821631304186,-1.2404369181492476,1.3996326136016746,-0.5358908297865966,0.9090192491449295,-0.7572264642866648,0.610378458910417,0.8836714610088213,-0.8022144972206394,-0.2690592174540479,-0.48223688070710247,-0.5073223031057444,0.9345858383266177,-3.1960464118659218,0.3596196111620243,-0.7891156122689769,-0.5369022071597999,0.913099153608634,0.8170324598206611,-0.8859877241879088,1.0355477169646596,-0.1086304860204677,-0.5123087821354901,2.09941591774087,-1.1564488215399584,0.8600159901705485,0.21051312102654496,1.4604330406588446,1.816635832794891,-0.7081424083881579,0.999425767418478,0.5361847088819287,-0.048321469429248066,-0.3493218467811937,0.8863312322056334,0.7725403728895929,-0.09718393494692423,0.38377814475875366,-0.9386339851183051,-0.33226935220362286,0.028407676359431405,1.482648301261031,-0.05965477409126021,-1.2717496469009433,-0.0494281997170523,0.1822432949232148,2.048681465799448,-0.37100561331300896,-0.7781379418352393,-0.7609175210768929,-0.2548516908977958,0.026192176729354477],\"yaxis\":\"y9\",\"type\":\"scatter\"},{\"line\":{\"color\":\"rgba(128, 128, 128, 1.0)\",\"dash\":\"solid\",\"shape\":\"linear\",\"width\":1.3},\"marker\":{\"size\":2,\"symbol\":\"circle\"},\"mode\":\"markers\",\"name\":\"C\",\"text\":\"\",\"x\":[-0.8333485300834292,-1.2766677713856172,0.32889268999764587,-0.7228597241406125,-1.088055170641722,-0.26454960727060933,-1.088746135103376,1.307311404250032,0.08031675927464546,0.02757860090171118,0.6518221207539567,0.7276482533339022,-1.1158078994176668,-0.05851343762871096,-0.779070280511317,0.6555944432816424,0.3795977680725507,0.6047485425267529,-1.245835389444955,0.5118554482170173,0.4007446062617446,-0.9762413226379608,0.23963149916481855,-0.08182559589104474,0.28026876924154154,0.593917640305292,-1.9595673096812394,-1.06511056321929,0.9918697122537389,0.3043350394672878,-0.2265403931323341,2.192649137408791,0.9174930299413948,0.8686827682351795,-0.9492012311313425,1.9138497364086406,-1.021402262388293,0.15575335857348221,-0.6085703602891364,0.7370588517740067,-0.327086277798017,1.1799615116593871,-0.35685566036595373,-1.175460976239832,0.31255342310921275,0.9897473343815354,0.9198781183889619,-0.7474006092799659,-0.856587496221934,-0.785034997454377,-0.12235515802115861,-1.786434990061692,0.5481592699594763,-1.274980280267999,0.696836476541588,-1.370492271925774,2.06004470363456,2.0468933823727764,0.21084208697464552,-0.12258782808995522,0.6403637734278632,-1.311325626456603,1.503641044788058,-1.078001719112831,1.3989747726854669,-1.616107252848288,-0.9637366722446397,0.10514432242328021,-0.35714686741413504,1.306610500270275,1.0975979363582071,1.6273028114379513,0.0019938966806490165,0.369738032875827,0.6194225065626668,-0.6008423439289713,0.5994305624114238,0.1278850553222134,0.1993287048843189,-0.9900196451938488,-0.0030251013458408673,0.6231686049789226,0.05503581719741051,-0.08273659707165258,-0.2576366521809987,-0.30204557671675586,0.501843752794459,-0.08670464369271894,0.4723263552701553,0.5855339910336078,-1.557478447357505,1.169546362591803,1.8645090896560506,-0.08712959822128583,-1.1493323961227986,0.29210214535966844,0.6546376109394556,-0.6030391008507462,-0.5090505082959106,-1.0319222234727223],\"xaxis\":\"x10\",\"y\":[0.49322405126214947,0.5457600716443969,-0.42517835147861877,0.5745511255977691,1.7684737099934653,1.1907514543407776,-1.1060418086123995,-0.10012538251557579,0.27699957003768877,1.007495807088129,-1.252918666875961,2.318270158629934,-0.06728910105018798,1.654583566684126,1.148233312788604,-2.166818486226118,-2.8413326109406345,1.0338281332613426,-0.07633761686381346,-0.47184278336843244,-0.932511228454258,-0.11047489848371143,0.9614595767991201,0.754712284550973,0.12960506867193408,-1.666025463753459,-1.3255997436971705,0.7294701985664961,-1.4315793816431988,0.578199843033818,-0.7610094054926043,1.35599248727197,0.34616608661427445,-1.3096329061710563,-0.8797481210910884,0.37859645846032747,1.6970766354386277,-0.6618327113581314,0.7807784048236518,0.1778841944508108,0.39751840401696537,0.12398811610905923,1.4627812670640001,-0.17405092079614742,0.33090784965752895,-0.09268259705402866,-1.4943178764179594,0.6030433843066976,-0.9929821631304186,-1.2404369181492476,1.3996326136016746,-0.5358908297865966,0.9090192491449295,-0.7572264642866648,0.610378458910417,0.8836714610088213,-0.8022144972206394,-0.2690592174540479,-0.48223688070710247,-0.5073223031057444,0.9345858383266177,-3.1960464118659218,0.3596196111620243,-0.7891156122689769,-0.5369022071597999,0.913099153608634,0.8170324598206611,-0.8859877241879088,1.0355477169646596,-0.1086304860204677,-0.5123087821354901,2.09941591774087,-1.1564488215399584,0.8600159901705485,0.21051312102654496,1.4604330406588446,1.816635832794891,-0.7081424083881579,0.999425767418478,0.5361847088819287,-0.048321469429248066,-0.3493218467811937,0.8863312322056334,0.7725403728895929,-0.09718393494692423,0.38377814475875366,-0.9386339851183051,-0.33226935220362286,0.028407676359431405,1.482648301261031,-0.05965477409126021,-1.2717496469009433,-0.0494281997170523,0.1822432949232148,2.048681465799448,-0.37100561331300896,-0.7781379418352393,-0.7609175210768929,-0.2548516908977958,0.026192176729354477],\"yaxis\":\"y10\",\"type\":\"scatter\"},{\"histfunc\":\"count\",\"histnorm\":\"\",\"marker\":{\"color\":\"rgba(50, 171, 96, 1.0)\",\"line\":{\"color\":\"#4D5663\",\"width\":1.3}},\"name\":\"C\",\"nbinsx\":10,\"opacity\":0.8,\"orientation\":\"v\",\"x\":[0.49322405126214947,0.5457600716443969,-0.42517835147861877,0.5745511255977691,1.7684737099934653,1.1907514543407776,-1.1060418086123995,-0.10012538251557579,0.27699957003768877,1.007495807088129,-1.252918666875961,2.318270158629934,-0.06728910105018798,1.654583566684126,1.148233312788604,-2.166818486226118,-2.8413326109406345,1.0338281332613426,-0.07633761686381346,-0.47184278336843244,-0.932511228454258,-0.11047489848371143,0.9614595767991201,0.754712284550973,0.12960506867193408,-1.666025463753459,-1.3255997436971705,0.7294701985664961,-1.4315793816431988,0.578199843033818,-0.7610094054926043,1.35599248727197,0.34616608661427445,-1.3096329061710563,-0.8797481210910884,0.37859645846032747,1.6970766354386277,-0.6618327113581314,0.7807784048236518,0.1778841944508108,0.39751840401696537,0.12398811610905923,1.4627812670640001,-0.17405092079614742,0.33090784965752895,-0.09268259705402866,-1.4943178764179594,0.6030433843066976,-0.9929821631304186,-1.2404369181492476,1.3996326136016746,-0.5358908297865966,0.9090192491449295,-0.7572264642866648,0.610378458910417,0.8836714610088213,-0.8022144972206394,-0.2690592174540479,-0.48223688070710247,-0.5073223031057444,0.9345858383266177,-3.1960464118659218,0.3596196111620243,-0.7891156122689769,-0.5369022071597999,0.913099153608634,0.8170324598206611,-0.8859877241879088,1.0355477169646596,-0.1086304860204677,-0.5123087821354901,2.09941591774087,-1.1564488215399584,0.8600159901705485,0.21051312102654496,1.4604330406588446,1.816635832794891,-0.7081424083881579,0.999425767418478,0.5361847088819287,-0.048321469429248066,-0.3493218467811937,0.8863312322056334,0.7725403728895929,-0.09718393494692423,0.38377814475875366,-0.9386339851183051,-0.33226935220362286,0.028407676359431405,1.482648301261031,-0.05965477409126021,-1.2717496469009433,-0.0494281997170523,0.1822432949232148,2.048681465799448,-0.37100561331300896,-0.7781379418352393,-0.7609175210768929,-0.2548516908977958,0.026192176729354477],\"xaxis\":\"x11\",\"yaxis\":\"y11\",\"type\":\"histogram\"},{\"line\":{\"color\":\"rgba(128, 128, 128, 1.0)\",\"dash\":\"solid\",\"shape\":\"linear\",\"width\":1.3},\"marker\":{\"size\":2,\"symbol\":\"circle\"},\"mode\":\"markers\",\"name\":\"C\",\"text\":\"\",\"x\":[-1.106588595253017,-1.7625259970631675,-0.28114898378892783,-1.8458032499016095,0.493990428336042,0.6915882234883003,-0.4181147376758479,1.9759592418227228,-0.4227437328973502,-0.7886324832124805,-0.2981985158557025,1.7863195588385747,0.7671438676226041,0.061163816143691964,1.068788065212692,0.9843506349446971,0.13379548199694222,1.9746605907731327,-0.7967190353984315,0.4419751393025786,0.8551529874622772,-0.48572752108699574,1.831487471210438,0.9033522467774028,-0.5884621961182047,0.9142641717150914,0.4360557228216116,0.07614701310123126,1.712911167595945,-1.0716019303204742,1.0605631546143397,-1.0310122645167352,1.4570388109825128,0.3721513111041933,0.3840859292887934,0.16692219940290637,-2.2682607764235128,0.6225888158694625,0.6015441989964391,0.4717372158894237,-0.02050580468473935,-1.2287436404299503,-0.2086821448422613,1.2490764699864383,1.728011850419966,1.1907730707343362,-0.019661123978005735,0.16576057162772515,0.39935894525127164,0.023873960189528656,1.8590120009018491,-0.2394313488667711,0.5363253572996315,-1.1029843258676288,1.170588938860763,-0.473752094474679,1.8021154540602147,-0.42521188603580434,0.37042104511974633,1.0692619530657717,-0.4090631633454856,-0.43424621515593187,-0.03456060882119637,0.7321767033056015,-1.2958583797579732,0.919562596878192,1.462368362357545,-0.8961900922615357,-1.0125652676931065,1.7067018125820816,-0.18334575181701857,-0.03938972840374754,0.7260607860479866,0.32955806515040015,-2.275663137360097,0.3216295542407838,-1.941900055198531,-1.2697864576400166,-0.27017250547389055,0.027607956226635918,-1.4916082080114075,0.008743448000394788,-1.1393957361692086,-0.018070644370657717,-0.40427606584351705,1.1048619376386135,0.9731369300885374,0.5848063916374624,-1.707256895343771,1.2825706302093165,3.376330126105509,-0.06884548617581909,-0.28501539631248346,-0.47857383620816546,0.30886230006894966,-1.1739837561907096,-0.027357805727334625,0.47270856057555993,-0.2533226844982376,-0.9553228727653434],\"xaxis\":\"x12\",\"y\":[0.49322405126214947,0.5457600716443969,-0.42517835147861877,0.5745511255977691,1.7684737099934653,1.1907514543407776,-1.1060418086123995,-0.10012538251557579,0.27699957003768877,1.007495807088129,-1.252918666875961,2.318270158629934,-0.06728910105018798,1.654583566684126,1.148233312788604,-2.166818486226118,-2.8413326109406345,1.0338281332613426,-0.07633761686381346,-0.47184278336843244,-0.932511228454258,-0.11047489848371143,0.9614595767991201,0.754712284550973,0.12960506867193408,-1.666025463753459,-1.3255997436971705,0.7294701985664961,-1.4315793816431988,0.578199843033818,-0.7610094054926043,1.35599248727197,0.34616608661427445,-1.3096329061710563,-0.8797481210910884,0.37859645846032747,1.6970766354386277,-0.6618327113581314,0.7807784048236518,0.1778841944508108,0.39751840401696537,0.12398811610905923,1.4627812670640001,-0.17405092079614742,0.33090784965752895,-0.09268259705402866,-1.4943178764179594,0.6030433843066976,-0.9929821631304186,-1.2404369181492476,1.3996326136016746,-0.5358908297865966,0.9090192491449295,-0.7572264642866648,0.610378458910417,0.8836714610088213,-0.8022144972206394,-0.2690592174540479,-0.48223688070710247,-0.5073223031057444,0.9345858383266177,-3.1960464118659218,0.3596196111620243,-0.7891156122689769,-0.5369022071597999,0.913099153608634,0.8170324598206611,-0.8859877241879088,1.0355477169646596,-0.1086304860204677,-0.5123087821354901,2.09941591774087,-1.1564488215399584,0.8600159901705485,0.21051312102654496,1.4604330406588446,1.816635832794891,-0.7081424083881579,0.999425767418478,0.5361847088819287,-0.048321469429248066,-0.3493218467811937,0.8863312322056334,0.7725403728895929,-0.09718393494692423,0.38377814475875366,-0.9386339851183051,-0.33226935220362286,0.028407676359431405,1.482648301261031,-0.05965477409126021,-1.2717496469009433,-0.0494281997170523,0.1822432949232148,2.048681465799448,-0.37100561331300896,-0.7781379418352393,-0.7609175210768929,-0.2548516908977958,0.026192176729354477],\"yaxis\":\"y12\",\"type\":\"scatter\"},{\"line\":{\"color\":\"rgba(128, 128, 128, 1.0)\",\"dash\":\"solid\",\"shape\":\"linear\",\"width\":1.3},\"marker\":{\"size\":2,\"symbol\":\"circle\"},\"mode\":\"markers\",\"name\":\"D\",\"text\":\"\",\"x\":[0.8869849113392575,-0.6964773634974851,0.7003725094248957,0.6608084726687465,1.7706764057755022,1.593145735885654,0.4740756469149725,0.6780606999675864,0.18401197953819318,-0.7649917952568512,0.9253634363763844,1.1118549199592058,-0.8433181578725014,-0.23664150329130548,-1.0992404617482978,0.28527338968743443,0.17481982564549223,1.3951250129856623,0.03590745163901755,-0.9594211851175032,-1.7179801807066248,0.9610755330564402,-0.21363215634783528,0.8804182323614378,0.1905342501740758,-0.4753432693912597,-0.1570437094027896,-0.9272609181058024,0.17515176239940475,-0.11926693582553309,0.6329377787337424,-0.6960379586458401,0.8072366409662378,1.0573006596282648,0.5262146051999136,-1.037271742531441,0.871425023776492,0.6875642804316112,-0.3209806553607807,-0.01897505420084429,1.1234988077597399,1.232420058647342,-0.4814980044587215,-0.35992966279024435,-0.3504136026398206,-0.0264638521470713,1.9455975191069528,0.7397424830525191,-1.3988662235783076,-0.6533021042995357,-1.0098839390042138,0.05158988935672315,-0.8885088323550191,1.3090023593260731,-0.4921751166128579,1.2562814695609659,-0.944489215550293,-0.9047929765159812,-0.16005070797481277,-0.3518748309386049,-0.6012147657777107,0.4833247270826448,-0.7995893120513355,0.6224446543722254,-0.09063609686494375,0.2828186976151058,1.298079370651083,0.60323067089413,0.9939326715694906,1.4930838976436456,-0.4027665687300486,-0.2607266448729439,-1.2535961981729813,0.9218123335954357,1.312062175830314,-0.9316561504008531,-0.61598560161817,-0.25100143532399877,0.4566927248840788,-0.9159752831190259,0.7377046809517973,-1.1626764129405016,-0.889391245298526,-0.6858184717161875,-0.09402072749499414,0.12562747120961676,0.09883684431670127,0.1865993291130212,-2.105122581865517,-1.5402416903738123,1.5094402807854603,-0.9361748837890781,0.12672444198158989,-1.589658407398841,-0.9996902030723225,0.12222138560129037,1.037829126734841,-1.0237728938148212,0.8129908238728943,-1.1735680529795158],\"xaxis\":\"x13\",\"y\":[-1.106588595253017,-1.7625259970631675,-0.28114898378892783,-1.8458032499016095,0.493990428336042,0.6915882234883003,-0.4181147376758479,1.9759592418227228,-0.4227437328973502,-0.7886324832124805,-0.2981985158557025,1.7863195588385747,0.7671438676226041,0.061163816143691964,1.068788065212692,0.9843506349446971,0.13379548199694222,1.9746605907731327,-0.7967190353984315,0.4419751393025786,0.8551529874622772,-0.48572752108699574,1.831487471210438,0.9033522467774028,-0.5884621961182047,0.9142641717150914,0.4360557228216116,0.07614701310123126,1.712911167595945,-1.0716019303204742,1.0605631546143397,-1.0310122645167352,1.4570388109825128,0.3721513111041933,0.3840859292887934,0.16692219940290637,-2.2682607764235128,0.6225888158694625,0.6015441989964391,0.4717372158894237,-0.02050580468473935,-1.2287436404299503,-0.2086821448422613,1.2490764699864383,1.728011850419966,1.1907730707343362,-0.019661123978005735,0.16576057162772515,0.39935894525127164,0.023873960189528656,1.8590120009018491,-0.2394313488667711,0.5363253572996315,-1.1029843258676288,1.170588938860763,-0.473752094474679,1.8021154540602147,-0.42521188603580434,0.37042104511974633,1.0692619530657717,-0.4090631633454856,-0.43424621515593187,-0.03456060882119637,0.7321767033056015,-1.2958583797579732,0.919562596878192,1.462368362357545,-0.8961900922615357,-1.0125652676931065,1.7067018125820816,-0.18334575181701857,-0.03938972840374754,0.7260607860479866,0.32955806515040015,-2.275663137360097,0.3216295542407838,-1.941900055198531,-1.2697864576400166,-0.27017250547389055,0.027607956226635918,-1.4916082080114075,0.008743448000394788,-1.1393957361692086,-0.018070644370657717,-0.40427606584351705,1.1048619376386135,0.9731369300885374,0.5848063916374624,-1.707256895343771,1.2825706302093165,3.376330126105509,-0.06884548617581909,-0.28501539631248346,-0.47857383620816546,0.30886230006894966,-1.1739837561907096,-0.027357805727334625,0.47270856057555993,-0.2533226844982376,-0.9553228727653434],\"yaxis\":\"y13\",\"type\":\"scatter\"},{\"line\":{\"color\":\"rgba(128, 128, 128, 1.0)\",\"dash\":\"solid\",\"shape\":\"linear\",\"width\":1.3},\"marker\":{\"size\":2,\"symbol\":\"circle\"},\"mode\":\"markers\",\"name\":\"D\",\"text\":\"\",\"x\":[-0.8333485300834292,-1.2766677713856172,0.32889268999764587,-0.7228597241406125,-1.088055170641722,-0.26454960727060933,-1.088746135103376,1.307311404250032,0.08031675927464546,0.02757860090171118,0.6518221207539567,0.7276482533339022,-1.1158078994176668,-0.05851343762871096,-0.779070280511317,0.6555944432816424,0.3795977680725507,0.6047485425267529,-1.245835389444955,0.5118554482170173,0.4007446062617446,-0.9762413226379608,0.23963149916481855,-0.08182559589104474,0.28026876924154154,0.593917640305292,-1.9595673096812394,-1.06511056321929,0.9918697122537389,0.3043350394672878,-0.2265403931323341,2.192649137408791,0.9174930299413948,0.8686827682351795,-0.9492012311313425,1.9138497364086406,-1.021402262388293,0.15575335857348221,-0.6085703602891364,0.7370588517740067,-0.327086277798017,1.1799615116593871,-0.35685566036595373,-1.175460976239832,0.31255342310921275,0.9897473343815354,0.9198781183889619,-0.7474006092799659,-0.856587496221934,-0.785034997454377,-0.12235515802115861,-1.786434990061692,0.5481592699594763,-1.274980280267999,0.696836476541588,-1.370492271925774,2.06004470363456,2.0468933823727764,0.21084208697464552,-0.12258782808995522,0.6403637734278632,-1.311325626456603,1.503641044788058,-1.078001719112831,1.3989747726854669,-1.616107252848288,-0.9637366722446397,0.10514432242328021,-0.35714686741413504,1.306610500270275,1.0975979363582071,1.6273028114379513,0.0019938966806490165,0.369738032875827,0.6194225065626668,-0.6008423439289713,0.5994305624114238,0.1278850553222134,0.1993287048843189,-0.9900196451938488,-0.0030251013458408673,0.6231686049789226,0.05503581719741051,-0.08273659707165258,-0.2576366521809987,-0.30204557671675586,0.501843752794459,-0.08670464369271894,0.4723263552701553,0.5855339910336078,-1.557478447357505,1.169546362591803,1.8645090896560506,-0.08712959822128583,-1.1493323961227986,0.29210214535966844,0.6546376109394556,-0.6030391008507462,-0.5090505082959106,-1.0319222234727223],\"xaxis\":\"x14\",\"y\":[-1.106588595253017,-1.7625259970631675,-0.28114898378892783,-1.8458032499016095,0.493990428336042,0.6915882234883003,-0.4181147376758479,1.9759592418227228,-0.4227437328973502,-0.7886324832124805,-0.2981985158557025,1.7863195588385747,0.7671438676226041,0.061163816143691964,1.068788065212692,0.9843506349446971,0.13379548199694222,1.9746605907731327,-0.7967190353984315,0.4419751393025786,0.8551529874622772,-0.48572752108699574,1.831487471210438,0.9033522467774028,-0.5884621961182047,0.9142641717150914,0.4360557228216116,0.07614701310123126,1.712911167595945,-1.0716019303204742,1.0605631546143397,-1.0310122645167352,1.4570388109825128,0.3721513111041933,0.3840859292887934,0.16692219940290637,-2.2682607764235128,0.6225888158694625,0.6015441989964391,0.4717372158894237,-0.02050580468473935,-1.2287436404299503,-0.2086821448422613,1.2490764699864383,1.728011850419966,1.1907730707343362,-0.019661123978005735,0.16576057162772515,0.39935894525127164,0.023873960189528656,1.8590120009018491,-0.2394313488667711,0.5363253572996315,-1.1029843258676288,1.170588938860763,-0.473752094474679,1.8021154540602147,-0.42521188603580434,0.37042104511974633,1.0692619530657717,-0.4090631633454856,-0.43424621515593187,-0.03456060882119637,0.7321767033056015,-1.2958583797579732,0.919562596878192,1.462368362357545,-0.8961900922615357,-1.0125652676931065,1.7067018125820816,-0.18334575181701857,-0.03938972840374754,0.7260607860479866,0.32955806515040015,-2.275663137360097,0.3216295542407838,-1.941900055198531,-1.2697864576400166,-0.27017250547389055,0.027607956226635918,-1.4916082080114075,0.008743448000394788,-1.1393957361692086,-0.018070644370657717,-0.40427606584351705,1.1048619376386135,0.9731369300885374,0.5848063916374624,-1.707256895343771,1.2825706302093165,3.376330126105509,-0.06884548617581909,-0.28501539631248346,-0.47857383620816546,0.30886230006894966,-1.1739837561907096,-0.027357805727334625,0.47270856057555993,-0.2533226844982376,-0.9553228727653434],\"yaxis\":\"y14\",\"type\":\"scatter\"},{\"line\":{\"color\":\"rgba(128, 128, 128, 1.0)\",\"dash\":\"solid\",\"shape\":\"linear\",\"width\":1.3},\"marker\":{\"size\":2,\"symbol\":\"circle\"},\"mode\":\"markers\",\"name\":\"D\",\"text\":\"\",\"x\":[0.49322405126214947,0.5457600716443969,-0.42517835147861877,0.5745511255977691,1.7684737099934653,1.1907514543407776,-1.1060418086123995,-0.10012538251557579,0.27699957003768877,1.007495807088129,-1.252918666875961,2.318270158629934,-0.06728910105018798,1.654583566684126,1.148233312788604,-2.166818486226118,-2.8413326109406345,1.0338281332613426,-0.07633761686381346,-0.47184278336843244,-0.932511228454258,-0.11047489848371143,0.9614595767991201,0.754712284550973,0.12960506867193408,-1.666025463753459,-1.3255997436971705,0.7294701985664961,-1.4315793816431988,0.578199843033818,-0.7610094054926043,1.35599248727197,0.34616608661427445,-1.3096329061710563,-0.8797481210910884,0.37859645846032747,1.6970766354386277,-0.6618327113581314,0.7807784048236518,0.1778841944508108,0.39751840401696537,0.12398811610905923,1.4627812670640001,-0.17405092079614742,0.33090784965752895,-0.09268259705402866,-1.4943178764179594,0.6030433843066976,-0.9929821631304186,-1.2404369181492476,1.3996326136016746,-0.5358908297865966,0.9090192491449295,-0.7572264642866648,0.610378458910417,0.8836714610088213,-0.8022144972206394,-0.2690592174540479,-0.48223688070710247,-0.5073223031057444,0.9345858383266177,-3.1960464118659218,0.3596196111620243,-0.7891156122689769,-0.5369022071597999,0.913099153608634,0.8170324598206611,-0.8859877241879088,1.0355477169646596,-0.1086304860204677,-0.5123087821354901,2.09941591774087,-1.1564488215399584,0.8600159901705485,0.21051312102654496,1.4604330406588446,1.816635832794891,-0.7081424083881579,0.999425767418478,0.5361847088819287,-0.048321469429248066,-0.3493218467811937,0.8863312322056334,0.7725403728895929,-0.09718393494692423,0.38377814475875366,-0.9386339851183051,-0.33226935220362286,0.028407676359431405,1.482648301261031,-0.05965477409126021,-1.2717496469009433,-0.0494281997170523,0.1822432949232148,2.048681465799448,-0.37100561331300896,-0.7781379418352393,-0.7609175210768929,-0.2548516908977958,0.026192176729354477],\"xaxis\":\"x15\",\"y\":[-1.106588595253017,-1.7625259970631675,-0.28114898378892783,-1.8458032499016095,0.493990428336042,0.6915882234883003,-0.4181147376758479,1.9759592418227228,-0.4227437328973502,-0.7886324832124805,-0.2981985158557025,1.7863195588385747,0.7671438676226041,0.061163816143691964,1.068788065212692,0.9843506349446971,0.13379548199694222,1.9746605907731327,-0.7967190353984315,0.4419751393025786,0.8551529874622772,-0.48572752108699574,1.831487471210438,0.9033522467774028,-0.5884621961182047,0.9142641717150914,0.4360557228216116,0.07614701310123126,1.712911167595945,-1.0716019303204742,1.0605631546143397,-1.0310122645167352,1.4570388109825128,0.3721513111041933,0.3840859292887934,0.16692219940290637,-2.2682607764235128,0.6225888158694625,0.6015441989964391,0.4717372158894237,-0.02050580468473935,-1.2287436404299503,-0.2086821448422613,1.2490764699864383,1.728011850419966,1.1907730707343362,-0.019661123978005735,0.16576057162772515,0.39935894525127164,0.023873960189528656,1.8590120009018491,-0.2394313488667711,0.5363253572996315,-1.1029843258676288,1.170588938860763,-0.473752094474679,1.8021154540602147,-0.42521188603580434,0.37042104511974633,1.0692619530657717,-0.4090631633454856,-0.43424621515593187,-0.03456060882119637,0.7321767033056015,-1.2958583797579732,0.919562596878192,1.462368362357545,-0.8961900922615357,-1.0125652676931065,1.7067018125820816,-0.18334575181701857,-0.03938972840374754,0.7260607860479866,0.32955806515040015,-2.275663137360097,0.3216295542407838,-1.941900055198531,-1.2697864576400166,-0.27017250547389055,0.027607956226635918,-1.4916082080114075,0.008743448000394788,-1.1393957361692086,-0.018070644370657717,-0.40427606584351705,1.1048619376386135,0.9731369300885374,0.5848063916374624,-1.707256895343771,1.2825706302093165,3.376330126105509,-0.06884548617581909,-0.28501539631248346,-0.47857383620816546,0.30886230006894966,-1.1739837561907096,-0.027357805727334625,0.47270856057555993,-0.2533226844982376,-0.9553228727653434],\"yaxis\":\"y15\",\"type\":\"scatter\"},{\"histfunc\":\"count\",\"histnorm\":\"\",\"marker\":{\"color\":\"rgba(128, 0, 128, 1.0)\",\"line\":{\"color\":\"#4D5663\",\"width\":1.3}},\"name\":\"D\",\"nbinsx\":10,\"opacity\":0.8,\"orientation\":\"v\",\"x\":[-1.106588595253017,-1.7625259970631675,-0.28114898378892783,-1.8458032499016095,0.493990428336042,0.6915882234883003,-0.4181147376758479,1.9759592418227228,-0.4227437328973502,-0.7886324832124805,-0.2981985158557025,1.7863195588385747,0.7671438676226041,0.061163816143691964,1.068788065212692,0.9843506349446971,0.13379548199694222,1.9746605907731327,-0.7967190353984315,0.4419751393025786,0.8551529874622772,-0.48572752108699574,1.831487471210438,0.9033522467774028,-0.5884621961182047,0.9142641717150914,0.4360557228216116,0.07614701310123126,1.712911167595945,-1.0716019303204742,1.0605631546143397,-1.0310122645167352,1.4570388109825128,0.3721513111041933,0.3840859292887934,0.16692219940290637,-2.2682607764235128,0.6225888158694625,0.6015441989964391,0.4717372158894237,-0.02050580468473935,-1.2287436404299503,-0.2086821448422613,1.2490764699864383,1.728011850419966,1.1907730707343362,-0.019661123978005735,0.16576057162772515,0.39935894525127164,0.023873960189528656,1.8590120009018491,-0.2394313488667711,0.5363253572996315,-1.1029843258676288,1.170588938860763,-0.473752094474679,1.8021154540602147,-0.42521188603580434,0.37042104511974633,1.0692619530657717,-0.4090631633454856,-0.43424621515593187,-0.03456060882119637,0.7321767033056015,-1.2958583797579732,0.919562596878192,1.462368362357545,-0.8961900922615357,-1.0125652676931065,1.7067018125820816,-0.18334575181701857,-0.03938972840374754,0.7260607860479866,0.32955806515040015,-2.275663137360097,0.3216295542407838,-1.941900055198531,-1.2697864576400166,-0.27017250547389055,0.027607956226635918,-1.4916082080114075,0.008743448000394788,-1.1393957361692086,-0.018070644370657717,-0.40427606584351705,1.1048619376386135,0.9731369300885374,0.5848063916374624,-1.707256895343771,1.2825706302093165,3.376330126105509,-0.06884548617581909,-0.28501539631248346,-0.47857383620816546,0.30886230006894966,-1.1739837561907096,-0.027357805727334625,0.47270856057555993,-0.2533226844982376,-0.9553228727653434],\"xaxis\":\"x16\",\"yaxis\":\"y16\",\"type\":\"histogram\"}],                        {\"bargap\":0.02,\"legend\":{\"bgcolor\":\"#F5F6F9\",\"font\":{\"color\":\"#4D5663\"}},\"paper_bgcolor\":\"#F5F6F9\",\"plot_bgcolor\":\"#F5F6F9\",\"showlegend\":false,\"template\":{\"data\":{\"barpolar\":[{\"marker\":{\"line\":{\"color\":\"#E5ECF6\",\"width\":0.5},\"pattern\":{\"fillmode\":\"overlay\",\"size\":10,\"solidity\":0.2}},\"type\":\"barpolar\"}],\"bar\":[{\"error_x\":{\"color\":\"#2a3f5f\"},\"error_y\":{\"color\":\"#2a3f5f\"},\"marker\":{\"line\":{\"color\":\"#E5ECF6\",\"width\":0.5},\"pattern\":{\"fillmode\":\"overlay\",\"size\":10,\"solidity\":0.2}},\"type\":\"bar\"}],\"carpet\":[{\"aaxis\":{\"endlinecolor\":\"#2a3f5f\",\"gridcolor\":\"white\",\"linecolor\":\"white\",\"minorgridcolor\":\"white\",\"startlinecolor\":\"#2a3f5f\"},\"baxis\":{\"endlinecolor\":\"#2a3f5f\",\"gridcolor\":\"white\",\"linecolor\":\"white\",\"minorgridcolor\":\"white\",\"startlinecolor\":\"#2a3f5f\"},\"type\":\"carpet\"}],\"choropleth\":[{\"colorbar\":{\"outlinewidth\":0,\"ticks\":\"\"},\"type\":\"choropleth\"}],\"contourcarpet\":[{\"colorbar\":{\"outlinewidth\":0,\"ticks\":\"\"},\"type\":\"contourcarpet\"}],\"contour\":[{\"colorbar\":{\"outlinewidth\":0,\"ticks\":\"\"},\"colorscale\":[[0.0,\"#0d0887\"],[0.1111111111111111,\"#46039f\"],[0.2222222222222222,\"#7201a8\"],[0.3333333333333333,\"#9c179e\"],[0.4444444444444444,\"#bd3786\"],[0.5555555555555556,\"#d8576b\"],[0.6666666666666666,\"#ed7953\"],[0.7777777777777778,\"#fb9f3a\"],[0.8888888888888888,\"#fdca26\"],[1.0,\"#f0f921\"]],\"type\":\"contour\"}],\"heatmapgl\":[{\"colorbar\":{\"outlinewidth\":0,\"ticks\":\"\"},\"colorscale\":[[0.0,\"#0d0887\"],[0.1111111111111111,\"#46039f\"],[0.2222222222222222,\"#7201a8\"],[0.3333333333333333,\"#9c179e\"],[0.4444444444444444,\"#bd3786\"],[0.5555555555555556,\"#d8576b\"],[0.6666666666666666,\"#ed7953\"],[0.7777777777777778,\"#fb9f3a\"],[0.8888888888888888,\"#fdca26\"],[1.0,\"#f0f921\"]],\"type\":\"heatmapgl\"}],\"heatmap\":[{\"colorbar\":{\"outlinewidth\":0,\"ticks\":\"\"},\"colorscale\":[[0.0,\"#0d0887\"],[0.1111111111111111,\"#46039f\"],[0.2222222222222222,\"#7201a8\"],[0.3333333333333333,\"#9c179e\"],[0.4444444444444444,\"#bd3786\"],[0.5555555555555556,\"#d8576b\"],[0.6666666666666666,\"#ed7953\"],[0.7777777777777778,\"#fb9f3a\"],[0.8888888888888888,\"#fdca26\"],[1.0,\"#f0f921\"]],\"type\":\"heatmap\"}],\"histogram2dcontour\":[{\"colorbar\":{\"outlinewidth\":0,\"ticks\":\"\"},\"colorscale\":[[0.0,\"#0d0887\"],[0.1111111111111111,\"#46039f\"],[0.2222222222222222,\"#7201a8\"],[0.3333333333333333,\"#9c179e\"],[0.4444444444444444,\"#bd3786\"],[0.5555555555555556,\"#d8576b\"],[0.6666666666666666,\"#ed7953\"],[0.7777777777777778,\"#fb9f3a\"],[0.8888888888888888,\"#fdca26\"],[1.0,\"#f0f921\"]],\"type\":\"histogram2dcontour\"}],\"histogram2d\":[{\"colorbar\":{\"outlinewidth\":0,\"ticks\":\"\"},\"colorscale\":[[0.0,\"#0d0887\"],[0.1111111111111111,\"#46039f\"],[0.2222222222222222,\"#7201a8\"],[0.3333333333333333,\"#9c179e\"],[0.4444444444444444,\"#bd3786\"],[0.5555555555555556,\"#d8576b\"],[0.6666666666666666,\"#ed7953\"],[0.7777777777777778,\"#fb9f3a\"],[0.8888888888888888,\"#fdca26\"],[1.0,\"#f0f921\"]],\"type\":\"histogram2d\"}],\"histogram\":[{\"marker\":{\"pattern\":{\"fillmode\":\"overlay\",\"size\":10,\"solidity\":0.2}},\"type\":\"histogram\"}],\"mesh3d\":[{\"colorbar\":{\"outlinewidth\":0,\"ticks\":\"\"},\"type\":\"mesh3d\"}],\"parcoords\":[{\"line\":{\"colorbar\":{\"outlinewidth\":0,\"ticks\":\"\"}},\"type\":\"parcoords\"}],\"pie\":[{\"automargin\":true,\"type\":\"pie\"}],\"scatter3d\":[{\"line\":{\"colorbar\":{\"outlinewidth\":0,\"ticks\":\"\"}},\"marker\":{\"colorbar\":{\"outlinewidth\":0,\"ticks\":\"\"}},\"type\":\"scatter3d\"}],\"scattercarpet\":[{\"marker\":{\"colorbar\":{\"outlinewidth\":0,\"ticks\":\"\"}},\"type\":\"scattercarpet\"}],\"scattergeo\":[{\"marker\":{\"colorbar\":{\"outlinewidth\":0,\"ticks\":\"\"}},\"type\":\"scattergeo\"}],\"scattergl\":[{\"marker\":{\"colorbar\":{\"outlinewidth\":0,\"ticks\":\"\"}},\"type\":\"scattergl\"}],\"scattermapbox\":[{\"marker\":{\"colorbar\":{\"outlinewidth\":0,\"ticks\":\"\"}},\"type\":\"scattermapbox\"}],\"scatterpolargl\":[{\"marker\":{\"colorbar\":{\"outlinewidth\":0,\"ticks\":\"\"}},\"type\":\"scatterpolargl\"}],\"scatterpolar\":[{\"marker\":{\"colorbar\":{\"outlinewidth\":0,\"ticks\":\"\"}},\"type\":\"scatterpolar\"}],\"scatter\":[{\"marker\":{\"colorbar\":{\"outlinewidth\":0,\"ticks\":\"\"}},\"type\":\"scatter\"}],\"scatterternary\":[{\"marker\":{\"colorbar\":{\"outlinewidth\":0,\"ticks\":\"\"}},\"type\":\"scatterternary\"}],\"surface\":[{\"colorbar\":{\"outlinewidth\":0,\"ticks\":\"\"},\"colorscale\":[[0.0,\"#0d0887\"],[0.1111111111111111,\"#46039f\"],[0.2222222222222222,\"#7201a8\"],[0.3333333333333333,\"#9c179e\"],[0.4444444444444444,\"#bd3786\"],[0.5555555555555556,\"#d8576b\"],[0.6666666666666666,\"#ed7953\"],[0.7777777777777778,\"#fb9f3a\"],[0.8888888888888888,\"#fdca26\"],[1.0,\"#f0f921\"]],\"type\":\"surface\"}],\"table\":[{\"cells\":{\"fill\":{\"color\":\"#EBF0F8\"},\"line\":{\"color\":\"white\"}},\"header\":{\"fill\":{\"color\":\"#C8D4E3\"},\"line\":{\"color\":\"white\"}},\"type\":\"table\"}]},\"layout\":{\"annotationdefaults\":{\"arrowcolor\":\"#2a3f5f\",\"arrowhead\":0,\"arrowwidth\":1},\"autotypenumbers\":\"strict\",\"coloraxis\":{\"colorbar\":{\"outlinewidth\":0,\"ticks\":\"\"}},\"colorscale\":{\"diverging\":[[0,\"#8e0152\"],[0.1,\"#c51b7d\"],[0.2,\"#de77ae\"],[0.3,\"#f1b6da\"],[0.4,\"#fde0ef\"],[0.5,\"#f7f7f7\"],[0.6,\"#e6f5d0\"],[0.7,\"#b8e186\"],[0.8,\"#7fbc41\"],[0.9,\"#4d9221\"],[1,\"#276419\"]],\"sequential\":[[0.0,\"#0d0887\"],[0.1111111111111111,\"#46039f\"],[0.2222222222222222,\"#7201a8\"],[0.3333333333333333,\"#9c179e\"],[0.4444444444444444,\"#bd3786\"],[0.5555555555555556,\"#d8576b\"],[0.6666666666666666,\"#ed7953\"],[0.7777777777777778,\"#fb9f3a\"],[0.8888888888888888,\"#fdca26\"],[1.0,\"#f0f921\"]],\"sequentialminus\":[[0.0,\"#0d0887\"],[0.1111111111111111,\"#46039f\"],[0.2222222222222222,\"#7201a8\"],[0.3333333333333333,\"#9c179e\"],[0.4444444444444444,\"#bd3786\"],[0.5555555555555556,\"#d8576b\"],[0.6666666666666666,\"#ed7953\"],[0.7777777777777778,\"#fb9f3a\"],[0.8888888888888888,\"#fdca26\"],[1.0,\"#f0f921\"]]},\"colorway\":[\"#636efa\",\"#EF553B\",\"#00cc96\",\"#ab63fa\",\"#FFA15A\",\"#19d3f3\",\"#FF6692\",\"#B6E880\",\"#FF97FF\",\"#FECB52\"],\"font\":{\"color\":\"#2a3f5f\"},\"geo\":{\"bgcolor\":\"white\",\"lakecolor\":\"white\",\"landcolor\":\"#E5ECF6\",\"showlakes\":true,\"showland\":true,\"subunitcolor\":\"white\"},\"hoverlabel\":{\"align\":\"left\"},\"hovermode\":\"closest\",\"mapbox\":{\"style\":\"light\"},\"paper_bgcolor\":\"white\",\"plot_bgcolor\":\"#E5ECF6\",\"polar\":{\"angularaxis\":{\"gridcolor\":\"white\",\"linecolor\":\"white\",\"ticks\":\"\"},\"bgcolor\":\"#E5ECF6\",\"radialaxis\":{\"gridcolor\":\"white\",\"linecolor\":\"white\",\"ticks\":\"\"}},\"scene\":{\"xaxis\":{\"backgroundcolor\":\"#E5ECF6\",\"gridcolor\":\"white\",\"gridwidth\":2,\"linecolor\":\"white\",\"showbackground\":true,\"ticks\":\"\",\"zerolinecolor\":\"white\"},\"yaxis\":{\"backgroundcolor\":\"#E5ECF6\",\"gridcolor\":\"white\",\"gridwidth\":2,\"linecolor\":\"white\",\"showbackground\":true,\"ticks\":\"\",\"zerolinecolor\":\"white\"},\"zaxis\":{\"backgroundcolor\":\"#E5ECF6\",\"gridcolor\":\"white\",\"gridwidth\":2,\"linecolor\":\"white\",\"showbackground\":true,\"ticks\":\"\",\"zerolinecolor\":\"white\"}},\"shapedefaults\":{\"line\":{\"color\":\"#2a3f5f\"}},\"ternary\":{\"aaxis\":{\"gridcolor\":\"white\",\"linecolor\":\"white\",\"ticks\":\"\"},\"baxis\":{\"gridcolor\":\"white\",\"linecolor\":\"white\",\"ticks\":\"\"},\"bgcolor\":\"#E5ECF6\",\"caxis\":{\"gridcolor\":\"white\",\"linecolor\":\"white\",\"ticks\":\"\"}},\"title\":{\"x\":0.05},\"xaxis\":{\"automargin\":true,\"gridcolor\":\"white\",\"linecolor\":\"white\",\"ticks\":\"\",\"title\":{\"standoff\":15},\"zerolinecolor\":\"white\",\"zerolinewidth\":2},\"yaxis\":{\"automargin\":true,\"gridcolor\":\"white\",\"linecolor\":\"white\",\"ticks\":\"\",\"title\":{\"standoff\":15},\"zerolinecolor\":\"white\",\"zerolinewidth\":2}}},\"title\":{\"font\":{\"color\":\"#4D5663\"}},\"xaxis\":{\"anchor\":\"y\",\"domain\":[0.0,0.2125],\"gridcolor\":\"#E1E5ED\",\"showgrid\":false,\"tickfont\":{\"color\":\"#4D5663\"},\"title\":{\"font\":{\"color\":\"#4D5663\"},\"text\":\"\"},\"zerolinecolor\":\"#E1E5ED\"},\"yaxis\":{\"anchor\":\"x\",\"domain\":[0.8025,1.0],\"gridcolor\":\"#E1E5ED\",\"showgrid\":false,\"tickfont\":{\"color\":\"#4D5663\"},\"title\":{\"font\":{\"color\":\"#4D5663\"},\"text\":\"\"},\"zerolinecolor\":\"#E1E5ED\"},\"xaxis2\":{\"anchor\":\"y2\",\"domain\":[0.2625,0.475],\"gridcolor\":\"#E1E5ED\",\"showgrid\":false,\"tickfont\":{\"color\":\"#4D5663\"},\"title\":{\"font\":{\"color\":\"#4D5663\"},\"text\":\"\"},\"zerolinecolor\":\"#E1E5ED\"},\"yaxis2\":{\"anchor\":\"x2\",\"domain\":[0.8025,1.0],\"gridcolor\":\"#E1E5ED\",\"showgrid\":false,\"tickfont\":{\"color\":\"#4D5663\"},\"title\":{\"font\":{\"color\":\"#4D5663\"},\"text\":\"\"},\"zerolinecolor\":\"#E1E5ED\"},\"xaxis3\":{\"anchor\":\"y3\",\"domain\":[0.525,0.7375],\"gridcolor\":\"#E1E5ED\",\"showgrid\":false,\"tickfont\":{\"color\":\"#4D5663\"},\"title\":{\"font\":{\"color\":\"#4D5663\"},\"text\":\"\"},\"zerolinecolor\":\"#E1E5ED\"},\"yaxis3\":{\"anchor\":\"x3\",\"domain\":[0.8025,1.0],\"gridcolor\":\"#E1E5ED\",\"showgrid\":false,\"tickfont\":{\"color\":\"#4D5663\"},\"title\":{\"font\":{\"color\":\"#4D5663\"},\"text\":\"\"},\"zerolinecolor\":\"#E1E5ED\"},\"xaxis4\":{\"anchor\":\"y4\",\"domain\":[0.7875,1.0],\"gridcolor\":\"#E1E5ED\",\"showgrid\":false,\"tickfont\":{\"color\":\"#4D5663\"},\"title\":{\"font\":{\"color\":\"#4D5663\"},\"text\":\"\"},\"zerolinecolor\":\"#E1E5ED\"},\"yaxis4\":{\"anchor\":\"x4\",\"domain\":[0.8025,1.0],\"gridcolor\":\"#E1E5ED\",\"showgrid\":false,\"tickfont\":{\"color\":\"#4D5663\"},\"title\":{\"font\":{\"color\":\"#4D5663\"},\"text\":\"\"},\"zerolinecolor\":\"#E1E5ED\"},\"xaxis5\":{\"anchor\":\"y5\",\"domain\":[0.0,0.2125],\"gridcolor\":\"#E1E5ED\",\"showgrid\":false,\"tickfont\":{\"color\":\"#4D5663\"},\"title\":{\"font\":{\"color\":\"#4D5663\"},\"text\":\"\"},\"zerolinecolor\":\"#E1E5ED\"},\"yaxis5\":{\"anchor\":\"x5\",\"domain\":[0.535,0.7325],\"gridcolor\":\"#E1E5ED\",\"showgrid\":false,\"tickfont\":{\"color\":\"#4D5663\"},\"title\":{\"font\":{\"color\":\"#4D5663\"},\"text\":\"\"},\"zerolinecolor\":\"#E1E5ED\"},\"xaxis6\":{\"anchor\":\"y6\",\"domain\":[0.2625,0.475],\"gridcolor\":\"#E1E5ED\",\"showgrid\":false,\"tickfont\":{\"color\":\"#4D5663\"},\"title\":{\"font\":{\"color\":\"#4D5663\"},\"text\":\"\"},\"zerolinecolor\":\"#E1E5ED\"},\"yaxis6\":{\"anchor\":\"x6\",\"domain\":[0.535,0.7325],\"gridcolor\":\"#E1E5ED\",\"showgrid\":false,\"tickfont\":{\"color\":\"#4D5663\"},\"title\":{\"font\":{\"color\":\"#4D5663\"},\"text\":\"\"},\"zerolinecolor\":\"#E1E5ED\"},\"xaxis7\":{\"anchor\":\"y7\",\"domain\":[0.525,0.7375],\"gridcolor\":\"#E1E5ED\",\"showgrid\":false,\"tickfont\":{\"color\":\"#4D5663\"},\"title\":{\"font\":{\"color\":\"#4D5663\"},\"text\":\"\"},\"zerolinecolor\":\"#E1E5ED\"},\"yaxis7\":{\"anchor\":\"x7\",\"domain\":[0.535,0.7325],\"gridcolor\":\"#E1E5ED\",\"showgrid\":false,\"tickfont\":{\"color\":\"#4D5663\"},\"title\":{\"font\":{\"color\":\"#4D5663\"},\"text\":\"\"},\"zerolinecolor\":\"#E1E5ED\"},\"xaxis8\":{\"anchor\":\"y8\",\"domain\":[0.7875,1.0],\"gridcolor\":\"#E1E5ED\",\"showgrid\":false,\"tickfont\":{\"color\":\"#4D5663\"},\"title\":{\"font\":{\"color\":\"#4D5663\"},\"text\":\"\"},\"zerolinecolor\":\"#E1E5ED\"},\"yaxis8\":{\"anchor\":\"x8\",\"domain\":[0.535,0.7325],\"gridcolor\":\"#E1E5ED\",\"showgrid\":false,\"tickfont\":{\"color\":\"#4D5663\"},\"title\":{\"font\":{\"color\":\"#4D5663\"},\"text\":\"\"},\"zerolinecolor\":\"#E1E5ED\"},\"xaxis9\":{\"anchor\":\"y9\",\"domain\":[0.0,0.2125],\"gridcolor\":\"#E1E5ED\",\"showgrid\":false,\"tickfont\":{\"color\":\"#4D5663\"},\"title\":{\"font\":{\"color\":\"#4D5663\"},\"text\":\"\"},\"zerolinecolor\":\"#E1E5ED\"},\"yaxis9\":{\"anchor\":\"x9\",\"domain\":[0.2675,0.465],\"gridcolor\":\"#E1E5ED\",\"showgrid\":false,\"tickfont\":{\"color\":\"#4D5663\"},\"title\":{\"font\":{\"color\":\"#4D5663\"},\"text\":\"\"},\"zerolinecolor\":\"#E1E5ED\"},\"xaxis10\":{\"anchor\":\"y10\",\"domain\":[0.2625,0.475],\"gridcolor\":\"#E1E5ED\",\"showgrid\":false,\"tickfont\":{\"color\":\"#4D5663\"},\"title\":{\"font\":{\"color\":\"#4D5663\"},\"text\":\"\"},\"zerolinecolor\":\"#E1E5ED\"},\"yaxis10\":{\"anchor\":\"x10\",\"domain\":[0.2675,0.465],\"gridcolor\":\"#E1E5ED\",\"showgrid\":false,\"tickfont\":{\"color\":\"#4D5663\"},\"title\":{\"font\":{\"color\":\"#4D5663\"},\"text\":\"\"},\"zerolinecolor\":\"#E1E5ED\"},\"xaxis11\":{\"anchor\":\"y11\",\"domain\":[0.525,0.7375],\"gridcolor\":\"#E1E5ED\",\"showgrid\":false,\"tickfont\":{\"color\":\"#4D5663\"},\"title\":{\"font\":{\"color\":\"#4D5663\"},\"text\":\"\"},\"zerolinecolor\":\"#E1E5ED\"},\"yaxis11\":{\"anchor\":\"x11\",\"domain\":[0.2675,0.465],\"gridcolor\":\"#E1E5ED\",\"showgrid\":false,\"tickfont\":{\"color\":\"#4D5663\"},\"title\":{\"font\":{\"color\":\"#4D5663\"},\"text\":\"\"},\"zerolinecolor\":\"#E1E5ED\"},\"xaxis12\":{\"anchor\":\"y12\",\"domain\":[0.7875,1.0],\"gridcolor\":\"#E1E5ED\",\"showgrid\":false,\"tickfont\":{\"color\":\"#4D5663\"},\"title\":{\"font\":{\"color\":\"#4D5663\"},\"text\":\"\"},\"zerolinecolor\":\"#E1E5ED\"},\"yaxis12\":{\"anchor\":\"x12\",\"domain\":[0.2675,0.465],\"gridcolor\":\"#E1E5ED\",\"showgrid\":false,\"tickfont\":{\"color\":\"#4D5663\"},\"title\":{\"font\":{\"color\":\"#4D5663\"},\"text\":\"\"},\"zerolinecolor\":\"#E1E5ED\"},\"xaxis13\":{\"anchor\":\"y13\",\"domain\":[0.0,0.2125],\"gridcolor\":\"#E1E5ED\",\"showgrid\":false,\"tickfont\":{\"color\":\"#4D5663\"},\"title\":{\"font\":{\"color\":\"#4D5663\"},\"text\":\"\"},\"zerolinecolor\":\"#E1E5ED\"},\"yaxis13\":{\"anchor\":\"x13\",\"domain\":[0.0,0.1975],\"gridcolor\":\"#E1E5ED\",\"showgrid\":false,\"tickfont\":{\"color\":\"#4D5663\"},\"title\":{\"font\":{\"color\":\"#4D5663\"},\"text\":\"\"},\"zerolinecolor\":\"#E1E5ED\"},\"xaxis14\":{\"anchor\":\"y14\",\"domain\":[0.2625,0.475],\"gridcolor\":\"#E1E5ED\",\"showgrid\":false,\"tickfont\":{\"color\":\"#4D5663\"},\"title\":{\"font\":{\"color\":\"#4D5663\"},\"text\":\"\"},\"zerolinecolor\":\"#E1E5ED\"},\"yaxis14\":{\"anchor\":\"x14\",\"domain\":[0.0,0.1975],\"gridcolor\":\"#E1E5ED\",\"showgrid\":false,\"tickfont\":{\"color\":\"#4D5663\"},\"title\":{\"font\":{\"color\":\"#4D5663\"},\"text\":\"\"},\"zerolinecolor\":\"#E1E5ED\"},\"xaxis15\":{\"anchor\":\"y15\",\"domain\":[0.525,0.7375],\"gridcolor\":\"#E1E5ED\",\"showgrid\":false,\"tickfont\":{\"color\":\"#4D5663\"},\"title\":{\"font\":{\"color\":\"#4D5663\"},\"text\":\"\"},\"zerolinecolor\":\"#E1E5ED\"},\"yaxis15\":{\"anchor\":\"x15\",\"domain\":[0.0,0.1975],\"gridcolor\":\"#E1E5ED\",\"showgrid\":false,\"tickfont\":{\"color\":\"#4D5663\"},\"title\":{\"font\":{\"color\":\"#4D5663\"},\"text\":\"\"},\"zerolinecolor\":\"#E1E5ED\"},\"xaxis16\":{\"anchor\":\"y16\",\"domain\":[0.7875,1.0],\"gridcolor\":\"#E1E5ED\",\"showgrid\":false,\"tickfont\":{\"color\":\"#4D5663\"},\"title\":{\"font\":{\"color\":\"#4D5663\"},\"text\":\"\"},\"zerolinecolor\":\"#E1E5ED\"},\"yaxis16\":{\"anchor\":\"x16\",\"domain\":[0.0,0.1975],\"gridcolor\":\"#E1E5ED\",\"showgrid\":false,\"tickfont\":{\"color\":\"#4D5663\"},\"title\":{\"font\":{\"color\":\"#4D5663\"},\"text\":\"\"},\"zerolinecolor\":\"#E1E5ED\"}},                        {\"showLink\": true, \"linkText\": \"Export to plot.ly\", \"plotlyServerURL\": \"https://plot.ly\", \"responsive\": true}                    ).then(function(){\n",
       "                            \n",
       "var gd = document.getElementById('39e4ed29-1f6f-488b-8fa9-ceecd0adad6f');\n",
       "var x = new MutationObserver(function (mutations, observer) {{\n",
       "        var display = window.getComputedStyle(gd).display;\n",
       "        if (!display || display === 'none') {{\n",
       "            console.log([gd, 'removed!']);\n",
       "            Plotly.purge(gd);\n",
       "            observer.disconnect();\n",
       "        }}\n",
       "}});\n",
       "\n",
       "// Listen for the removal of the full notebook cells\n",
       "var notebookContainer = gd.closest('#notebook-container');\n",
       "if (notebookContainer) {{\n",
       "    x.observe(notebookContainer, {childList: true});\n",
       "}}\n",
       "\n",
       "// Listen for the clearing of the current output cell\n",
       "var outputEl = gd.closest('.output');\n",
       "if (outputEl) {{\n",
       "    x.observe(outputEl, {childList: true});\n",
       "}}\n",
       "\n",
       "                        })                };                });            </script>        </div>"
      ]
     },
     "metadata": {},
     "output_type": "display_data"
    }
   ],
   "source": [
    "df.scatter_matrix()"
   ]
  },
  {
   "cell_type": "markdown",
   "metadata": {},
   "source": [
    "# Great Job!"
   ]
  }
 ],
 "metadata": {
  "kernelspec": {
   "display_name": "Python 3",
   "language": "python",
   "name": "python3"
  },
  "language_info": {
   "codemirror_mode": {
    "name": "ipython",
    "version": 3
   },
   "file_extension": ".py",
   "mimetype": "text/x-python",
   "name": "python",
   "nbconvert_exporter": "python",
   "pygments_lexer": "ipython3",
   "version": "3.7.0"
  }
 },
 "nbformat": 4,
 "nbformat_minor": 4
}
