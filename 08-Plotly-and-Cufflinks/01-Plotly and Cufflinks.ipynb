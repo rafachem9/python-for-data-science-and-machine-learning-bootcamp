{
 "cells": [
  {
   "cell_type": "markdown",
   "metadata": {},
   "source": [
    "___\n",
    "\n",
    "<a href='http://www.pieriandata.com'> <img src='../Pierian_Data_Logo.png' /></a>\n",
    "___\n",
    "# Plotly and Cufflinks"
   ]
  },
  {
   "cell_type": "markdown",
   "metadata": {
    "tags": []
   },
   "source": [
    "Plotly is a library that allows you to create interactive plots that you can use in dashboards or websites (you can save them as html files or static images).\n",
    "\n",
    "## Installation\n",
    "\n",
    "In order for this all to work, you'll need to install plotly and cufflinks to call plots directly off of a pandas dataframe. These libraries are not currently available through **conda** but are available through **pip**. Install the libraries at your command line/terminal using:\n",
    "\n",
    "    pip install plotly\n",
    "    pip install cufflinks\n",
    "\n",
    "** NOTE: Make sure you only have one installation of Python on your computer when you do this, otherwise the installation may not work. **\n",
    "\n",
    "## Imports and Set-up"
   ]
  },
  {
   "cell_type": "code",
   "execution_count": 1,
   "metadata": {
    "tags": []
   },
   "outputs": [],
   "source": [
    "import pandas as pd\n",
    "import numpy as np\n",
    "%matplotlib inline"
   ]
  },
  {
   "cell_type": "markdown",
   "metadata": {},
   "source": [
    "pip install plotly\n"
   ]
  },
  {
   "cell_type": "markdown",
   "metadata": {},
   "source": [
    "pip install cufflinks\n"
   ]
  },
  {
   "cell_type": "code",
   "execution_count": 2,
   "metadata": {
    "collapsed": false,
    "jupyter": {
     "outputs_hidden": false
    }
   },
   "outputs": [
    {
     "name": "stdout",
     "output_type": "stream",
     "text": [
      "5.24.1\n"
     ]
    }
   ],
   "source": [
    "from plotly import __version__\n",
    "from plotly.offline import download_plotlyjs, init_notebook_mode, plot, iplot\n",
    "\n",
    "print(__version__) # requires version >= 1.9.0"
   ]
  },
  {
   "cell_type": "code",
   "execution_count": 3,
   "metadata": {
    "tags": []
   },
   "outputs": [],
   "source": [
    "import cufflinks as cf"
   ]
  },
  {
   "cell_type": "code",
   "execution_count": 4,
   "metadata": {
    "collapsed": false,
    "jupyter": {
     "outputs_hidden": false
    }
   },
   "outputs": [
    {
     "data": {
      "text/html": [
       "        <script type=\"text/javascript\">\n",
       "        window.PlotlyConfig = {MathJaxConfig: 'local'};\n",
       "        if (window.MathJax && window.MathJax.Hub && window.MathJax.Hub.Config) {window.MathJax.Hub.Config({SVG: {font: \"STIX-Web\"}});}\n",
       "        if (typeof require !== 'undefined') {\n",
       "        require.undef(\"plotly\");\n",
       "        requirejs.config({\n",
       "            paths: {\n",
       "                'plotly': ['https://cdn.plot.ly/plotly-2.35.2.min']\n",
       "            }\n",
       "        });\n",
       "        require(['plotly'], function(Plotly) {\n",
       "            window._Plotly = Plotly;\n",
       "        });\n",
       "        }\n",
       "        </script>\n",
       "        "
      ]
     },
     "metadata": {},
     "output_type": "display_data"
    }
   ],
   "source": [
    "# For Notebooks\n",
    "init_notebook_mode(connected=True)"
   ]
  },
  {
   "cell_type": "code",
   "execution_count": 5,
   "metadata": {
    "collapsed": false,
    "jupyter": {
     "outputs_hidden": false
    }
   },
   "outputs": [
    {
     "data": {
      "text/html": [
       "        <script type=\"text/javascript\">\n",
       "        window.PlotlyConfig = {MathJaxConfig: 'local'};\n",
       "        if (window.MathJax && window.MathJax.Hub && window.MathJax.Hub.Config) {window.MathJax.Hub.Config({SVG: {font: \"STIX-Web\"}});}\n",
       "        if (typeof require !== 'undefined') {\n",
       "        require.undef(\"plotly\");\n",
       "        requirejs.config({\n",
       "            paths: {\n",
       "                'plotly': ['https://cdn.plot.ly/plotly-2.35.2.min']\n",
       "            }\n",
       "        });\n",
       "        require(['plotly'], function(Plotly) {\n",
       "            window._Plotly = Plotly;\n",
       "        });\n",
       "        }\n",
       "        </script>\n",
       "        "
      ]
     },
     "metadata": {},
     "output_type": "display_data"
    }
   ],
   "source": [
    "# For offline use\n",
    "cf.go_offline()"
   ]
  },
  {
   "cell_type": "markdown",
   "metadata": {},
   "source": [
    "### Fake Data"
   ]
  },
  {
   "cell_type": "code",
   "execution_count": 6,
   "metadata": {
    "collapsed": false,
    "jupyter": {
     "outputs_hidden": false
    }
   },
   "outputs": [],
   "source": [
    "df = pd.DataFrame(np.random.randn(100,4),columns='A B C D'.split())"
   ]
  },
  {
   "cell_type": "code",
   "execution_count": 7,
   "metadata": {
    "collapsed": false,
    "jupyter": {
     "outputs_hidden": false
    }
   },
   "outputs": [
    {
     "data": {
      "text/html": [
       "<div>\n",
       "<style scoped>\n",
       "    .dataframe tbody tr th:only-of-type {\n",
       "        vertical-align: middle;\n",
       "    }\n",
       "\n",
       "    .dataframe tbody tr th {\n",
       "        vertical-align: top;\n",
       "    }\n",
       "\n",
       "    .dataframe thead th {\n",
       "        text-align: right;\n",
       "    }\n",
       "</style>\n",
       "<table border=\"1\" class=\"dataframe\">\n",
       "  <thead>\n",
       "    <tr style=\"text-align: right;\">\n",
       "      <th></th>\n",
       "      <th>A</th>\n",
       "      <th>B</th>\n",
       "      <th>C</th>\n",
       "      <th>D</th>\n",
       "    </tr>\n",
       "  </thead>\n",
       "  <tbody>\n",
       "    <tr>\n",
       "      <th>0</th>\n",
       "      <td>-0.390604</td>\n",
       "      <td>0.905960</td>\n",
       "      <td>0.814532</td>\n",
       "      <td>-0.928797</td>\n",
       "    </tr>\n",
       "    <tr>\n",
       "      <th>1</th>\n",
       "      <td>1.086326</td>\n",
       "      <td>1.264040</td>\n",
       "      <td>0.755987</td>\n",
       "      <td>-2.690346</td>\n",
       "    </tr>\n",
       "    <tr>\n",
       "      <th>2</th>\n",
       "      <td>0.683525</td>\n",
       "      <td>-0.280754</td>\n",
       "      <td>-0.791169</td>\n",
       "      <td>1.862461</td>\n",
       "    </tr>\n",
       "    <tr>\n",
       "      <th>3</th>\n",
       "      <td>-0.235761</td>\n",
       "      <td>0.064028</td>\n",
       "      <td>-0.461567</td>\n",
       "      <td>2.658342</td>\n",
       "    </tr>\n",
       "    <tr>\n",
       "      <th>4</th>\n",
       "      <td>-0.442955</td>\n",
       "      <td>-0.376624</td>\n",
       "      <td>-0.478329</td>\n",
       "      <td>-0.798009</td>\n",
       "    </tr>\n",
       "  </tbody>\n",
       "</table>\n",
       "</div>"
      ],
      "text/plain": [
       "          A         B         C         D\n",
       "0 -0.390604  0.905960  0.814532 -0.928797\n",
       "1  1.086326  1.264040  0.755987 -2.690346\n",
       "2  0.683525 -0.280754 -0.791169  1.862461\n",
       "3 -0.235761  0.064028 -0.461567  2.658342\n",
       "4 -0.442955 -0.376624 -0.478329 -0.798009"
      ]
     },
     "execution_count": 7,
     "metadata": {},
     "output_type": "execute_result"
    }
   ],
   "source": [
    "df.head()"
   ]
  },
  {
   "cell_type": "code",
   "execution_count": 8,
   "metadata": {},
   "outputs": [],
   "source": [
    "df2 = pd.DataFrame({'Category':['A','B','C'],'Values':[32,43,50]})"
   ]
  },
  {
   "cell_type": "code",
   "execution_count": 9,
   "metadata": {
    "collapsed": false,
    "jupyter": {
     "outputs_hidden": false
    }
   },
   "outputs": [
    {
     "data": {
      "text/html": [
       "<div>\n",
       "<style scoped>\n",
       "    .dataframe tbody tr th:only-of-type {\n",
       "        vertical-align: middle;\n",
       "    }\n",
       "\n",
       "    .dataframe tbody tr th {\n",
       "        vertical-align: top;\n",
       "    }\n",
       "\n",
       "    .dataframe thead th {\n",
       "        text-align: right;\n",
       "    }\n",
       "</style>\n",
       "<table border=\"1\" class=\"dataframe\">\n",
       "  <thead>\n",
       "    <tr style=\"text-align: right;\">\n",
       "      <th></th>\n",
       "      <th>Category</th>\n",
       "      <th>Values</th>\n",
       "    </tr>\n",
       "  </thead>\n",
       "  <tbody>\n",
       "    <tr>\n",
       "      <th>0</th>\n",
       "      <td>A</td>\n",
       "      <td>32</td>\n",
       "    </tr>\n",
       "    <tr>\n",
       "      <th>1</th>\n",
       "      <td>B</td>\n",
       "      <td>43</td>\n",
       "    </tr>\n",
       "    <tr>\n",
       "      <th>2</th>\n",
       "      <td>C</td>\n",
       "      <td>50</td>\n",
       "    </tr>\n",
       "  </tbody>\n",
       "</table>\n",
       "</div>"
      ],
      "text/plain": [
       "  Category  Values\n",
       "0        A      32\n",
       "1        B      43\n",
       "2        C      50"
      ]
     },
     "execution_count": 9,
     "metadata": {},
     "output_type": "execute_result"
    }
   ],
   "source": [
    "df2.head()"
   ]
  },
  {
   "cell_type": "markdown",
   "metadata": {},
   "source": [
    "## Using Cufflinks and iplot()\n",
    "\n",
    "* scatter\n",
    "* bar\n",
    "* box\n",
    "* spread\n",
    "* ratio\n",
    "* heatmap\n",
    "* surface\n",
    "* histogram\n",
    "* bubble"
   ]
  },
  {
   "cell_type": "markdown",
   "metadata": {},
   "source": [
    "## Scatter"
   ]
  },
  {
   "cell_type": "code",
   "execution_count": 10,
   "metadata": {
    "collapsed": false,
    "jupyter": {
     "outputs_hidden": false
    }
   },
   "outputs": [
    {
     "data": {
      "application/vnd.plotly.v1+json": {
       "config": {
        "linkText": "Export to plot.ly",
        "plotlyServerURL": "https://plot.ly",
        "showLink": true
       },
       "data": [
        {
         "line": {
          "color": "rgba(255, 153, 51, 1.0)",
          "dash": "solid",
          "shape": "linear",
          "width": 1.3
         },
         "marker": {
          "size": 10,
          "symbol": "circle"
         },
         "mode": "markers",
         "name": "B",
         "text": "",
         "type": "scatter",
         "x": [
          -0.3906035117543167,
          1.0863264715185994,
          0.6835253814650998,
          -0.23576141864914893,
          -0.4429545878166258,
          2.116343170175117,
          1.4473913506726221,
          0.569652553863101,
          -0.009092623081691979,
          -1.0582945442935632,
          -0.12084486928238401,
          0.08815152034967148,
          0.11959952693200762,
          -0.7254016820099657,
          -0.21947884771572385,
          0.6307412937895936,
          -0.2715854516702586,
          0.6774799956997187,
          -3.326632598527113,
          -1.1010555748854676,
          -0.8285736989645863,
          1.4286432413197285,
          -1.2863673982151753,
          0.5560943872450889,
          -1.2156580243428767,
          0.2907123370476229,
          -0.03962130114381719,
          0.6128214007748458,
          1.5909112248895954,
          0.5649731989364699,
          0.11915288705665236,
          -0.6470755860638769,
          0.284160040239183,
          2.600494959494294,
          -1.2022014874643814,
          -0.13223808754142752,
          -0.041316482136716834,
          0.5098732219097379,
          0.15915568444349057,
          -0.5043819681281224,
          -0.3556156798004133,
          -0.3796013635814211,
          -1.8593197564762267,
          0.8978164798024615,
          0.39446349009737763,
          -0.694784547578885,
          0.26880235000994757,
          0.6167174702859992,
          -0.4997994420796771,
          0.4450096699471989,
          -0.8847488445344148,
          1.0987983381132622,
          -0.8452209252813302,
          -1.0648063360549604,
          -0.19084391043675195,
          -0.15859338257624883,
          0.7630611129237804,
          3.2291066281589886,
          0.6929317663642419,
          -0.5838146426552702,
          0.5861013284436394,
          -1.2650129403147923,
          -0.9874629601084706,
          0.22189992221823152,
          0.1070480664013499,
          -0.020257070664600894,
          0.540074434383443,
          -1.1153734802213902,
          -0.5408456367874344,
          -0.9363710338016914,
          -0.8768419048054417,
          0.5757258953442429,
          1.1302549841946514,
          1.0141595421180447,
          0.04382098826360184,
          1.0850336979622708,
          2.3157010748108156,
          -0.5705093840098091,
          1.9021376615749161,
          0.6295200030080252,
          -0.5850574454103049,
          1.0035871157471201,
          0.8792469474737475,
          -1.1340408358411769,
          0.1601995205845725,
          -0.024707485401965698,
          0.6120477835646161,
          0.8923372998260404,
          -1.3152338654473736,
          0.3878815351547292,
          0.7210458168234605,
          -2.41264623404743,
          -0.3959192713590546,
          0.8869462669540071,
          -0.035460269728471466,
          -0.9470516684026542,
          -0.4392408054657591,
          -1.1946784087205802,
          1.0776855106669865,
          0.5440523475359473
         ],
         "y": [
          0.9059599971152463,
          1.2640403590421745,
          -0.2807537530635768,
          0.06402790036215945,
          -0.3766235233694587,
          -0.10132459774762158,
          0.5339861080892987,
          -1.8643420708091076,
          -1.661866586796738,
          2.3569785219679438,
          0.8725438525555298,
          -1.9104769189833894,
          -0.255949299328033,
          -0.39668839332448974,
          -0.3134606308667052,
          0.350746961585668,
          1.5778418522684001,
          -0.7885120606107235,
          -0.37433000133476685,
          -0.7865830089210104,
          -0.07517524873421455,
          -0.44288240707585064,
          0.5137908325133144,
          -1.121977505222089,
          -0.03568683511645622,
          -1.7924711458135418,
          1.5029017374563711,
          0.06433630297088112,
          0.020239781673339292,
          -0.29025246002340094,
          -1.1302539905725308,
          -0.18947146526901348,
          0.42760165568481256,
          0.333016541738766,
          0.3267043674060358,
          -1.0513974533576986,
          0.3774706999121592,
          -0.24496204262494045,
          -0.5265156710485509,
          0.6463574886324186,
          -0.6767948282602794,
          -0.7166772868544358,
          0.560351760893181,
          -0.38743902854119106,
          1.6019552050879209,
          0.011477146477320555,
          -1.110362746013105,
          1.1481440836003125,
          0.23362353676972208,
          0.27168211675893295,
          -0.16882921026742742,
          -1.6965335749826864,
          0.223151048282374,
          1.3100580898431096,
          1.4736784282794164,
          -1.0640125173800254,
          0.9050701400953132,
          0.48767629647396676,
          0.6753774281301449,
          -0.5754626651176231,
          0.6040043802592154,
          1.265348899405205,
          -1.0762057552710116,
          -0.11111384920458972,
          0.09464773574212813,
          1.0547675685231737,
          -0.6448715282387144,
          0.7739440113180187,
          -0.4028863465882712,
          -0.6562669929880659,
          1.3215915296236977,
          -2.03936613444369,
          -0.43033095621917533,
          -1.0174206393367025,
          -0.4587717162908476,
          -0.5263286688595268,
          -0.5929967365131853,
          0.814656274814025,
          1.9808718424399285,
          0.8029333924830028,
          -0.9669195429938262,
          0.4864229162952104,
          0.24332058654426708,
          0.20638896725384728,
          -0.6328604773747971,
          0.9449775365738496,
          -0.5873652887040683,
          1.5405322330015419,
          1.4633251619674414,
          -0.7640730016069059,
          0.10094774101467074,
          -0.6472076918128246,
          1.5963909934782532,
          -0.28345811435467794,
          -1.708490142148577,
          0.3192433158479993,
          -0.7974039512022152,
          0.8490163670386164,
          0.7045434640122664,
          -0.05056336966839602
         ]
        }
       ],
       "layout": {
        "legend": {
         "bgcolor": "#F5F6F9",
         "font": {
          "color": "#4D5663"
         }
        },
        "paper_bgcolor": "#F5F6F9",
        "plot_bgcolor": "#F5F6F9",
        "template": {
         "data": {
          "bar": [
           {
            "error_x": {
             "color": "#2a3f5f"
            },
            "error_y": {
             "color": "#2a3f5f"
            },
            "marker": {
             "line": {
              "color": "#E5ECF6",
              "width": 0.5
             },
             "pattern": {
              "fillmode": "overlay",
              "size": 10,
              "solidity": 0.2
             }
            },
            "type": "bar"
           }
          ],
          "barpolar": [
           {
            "marker": {
             "line": {
              "color": "#E5ECF6",
              "width": 0.5
             },
             "pattern": {
              "fillmode": "overlay",
              "size": 10,
              "solidity": 0.2
             }
            },
            "type": "barpolar"
           }
          ],
          "carpet": [
           {
            "aaxis": {
             "endlinecolor": "#2a3f5f",
             "gridcolor": "white",
             "linecolor": "white",
             "minorgridcolor": "white",
             "startlinecolor": "#2a3f5f"
            },
            "baxis": {
             "endlinecolor": "#2a3f5f",
             "gridcolor": "white",
             "linecolor": "white",
             "minorgridcolor": "white",
             "startlinecolor": "#2a3f5f"
            },
            "type": "carpet"
           }
          ],
          "choropleth": [
           {
            "colorbar": {
             "outlinewidth": 0,
             "ticks": ""
            },
            "type": "choropleth"
           }
          ],
          "contour": [
           {
            "colorbar": {
             "outlinewidth": 0,
             "ticks": ""
            },
            "colorscale": [
             [
              0,
              "#0d0887"
             ],
             [
              0.1111111111111111,
              "#46039f"
             ],
             [
              0.2222222222222222,
              "#7201a8"
             ],
             [
              0.3333333333333333,
              "#9c179e"
             ],
             [
              0.4444444444444444,
              "#bd3786"
             ],
             [
              0.5555555555555556,
              "#d8576b"
             ],
             [
              0.6666666666666666,
              "#ed7953"
             ],
             [
              0.7777777777777778,
              "#fb9f3a"
             ],
             [
              0.8888888888888888,
              "#fdca26"
             ],
             [
              1,
              "#f0f921"
             ]
            ],
            "type": "contour"
           }
          ],
          "contourcarpet": [
           {
            "colorbar": {
             "outlinewidth": 0,
             "ticks": ""
            },
            "type": "contourcarpet"
           }
          ],
          "heatmap": [
           {
            "colorbar": {
             "outlinewidth": 0,
             "ticks": ""
            },
            "colorscale": [
             [
              0,
              "#0d0887"
             ],
             [
              0.1111111111111111,
              "#46039f"
             ],
             [
              0.2222222222222222,
              "#7201a8"
             ],
             [
              0.3333333333333333,
              "#9c179e"
             ],
             [
              0.4444444444444444,
              "#bd3786"
             ],
             [
              0.5555555555555556,
              "#d8576b"
             ],
             [
              0.6666666666666666,
              "#ed7953"
             ],
             [
              0.7777777777777778,
              "#fb9f3a"
             ],
             [
              0.8888888888888888,
              "#fdca26"
             ],
             [
              1,
              "#f0f921"
             ]
            ],
            "type": "heatmap"
           }
          ],
          "heatmapgl": [
           {
            "colorbar": {
             "outlinewidth": 0,
             "ticks": ""
            },
            "colorscale": [
             [
              0,
              "#0d0887"
             ],
             [
              0.1111111111111111,
              "#46039f"
             ],
             [
              0.2222222222222222,
              "#7201a8"
             ],
             [
              0.3333333333333333,
              "#9c179e"
             ],
             [
              0.4444444444444444,
              "#bd3786"
             ],
             [
              0.5555555555555556,
              "#d8576b"
             ],
             [
              0.6666666666666666,
              "#ed7953"
             ],
             [
              0.7777777777777778,
              "#fb9f3a"
             ],
             [
              0.8888888888888888,
              "#fdca26"
             ],
             [
              1,
              "#f0f921"
             ]
            ],
            "type": "heatmapgl"
           }
          ],
          "histogram": [
           {
            "marker": {
             "pattern": {
              "fillmode": "overlay",
              "size": 10,
              "solidity": 0.2
             }
            },
            "type": "histogram"
           }
          ],
          "histogram2d": [
           {
            "colorbar": {
             "outlinewidth": 0,
             "ticks": ""
            },
            "colorscale": [
             [
              0,
              "#0d0887"
             ],
             [
              0.1111111111111111,
              "#46039f"
             ],
             [
              0.2222222222222222,
              "#7201a8"
             ],
             [
              0.3333333333333333,
              "#9c179e"
             ],
             [
              0.4444444444444444,
              "#bd3786"
             ],
             [
              0.5555555555555556,
              "#d8576b"
             ],
             [
              0.6666666666666666,
              "#ed7953"
             ],
             [
              0.7777777777777778,
              "#fb9f3a"
             ],
             [
              0.8888888888888888,
              "#fdca26"
             ],
             [
              1,
              "#f0f921"
             ]
            ],
            "type": "histogram2d"
           }
          ],
          "histogram2dcontour": [
           {
            "colorbar": {
             "outlinewidth": 0,
             "ticks": ""
            },
            "colorscale": [
             [
              0,
              "#0d0887"
             ],
             [
              0.1111111111111111,
              "#46039f"
             ],
             [
              0.2222222222222222,
              "#7201a8"
             ],
             [
              0.3333333333333333,
              "#9c179e"
             ],
             [
              0.4444444444444444,
              "#bd3786"
             ],
             [
              0.5555555555555556,
              "#d8576b"
             ],
             [
              0.6666666666666666,
              "#ed7953"
             ],
             [
              0.7777777777777778,
              "#fb9f3a"
             ],
             [
              0.8888888888888888,
              "#fdca26"
             ],
             [
              1,
              "#f0f921"
             ]
            ],
            "type": "histogram2dcontour"
           }
          ],
          "mesh3d": [
           {
            "colorbar": {
             "outlinewidth": 0,
             "ticks": ""
            },
            "type": "mesh3d"
           }
          ],
          "parcoords": [
           {
            "line": {
             "colorbar": {
              "outlinewidth": 0,
              "ticks": ""
             }
            },
            "type": "parcoords"
           }
          ],
          "pie": [
           {
            "automargin": true,
            "type": "pie"
           }
          ],
          "scatter": [
           {
            "fillpattern": {
             "fillmode": "overlay",
             "size": 10,
             "solidity": 0.2
            },
            "type": "scatter"
           }
          ],
          "scatter3d": [
           {
            "line": {
             "colorbar": {
              "outlinewidth": 0,
              "ticks": ""
             }
            },
            "marker": {
             "colorbar": {
              "outlinewidth": 0,
              "ticks": ""
             }
            },
            "type": "scatter3d"
           }
          ],
          "scattercarpet": [
           {
            "marker": {
             "colorbar": {
              "outlinewidth": 0,
              "ticks": ""
             }
            },
            "type": "scattercarpet"
           }
          ],
          "scattergeo": [
           {
            "marker": {
             "colorbar": {
              "outlinewidth": 0,
              "ticks": ""
             }
            },
            "type": "scattergeo"
           }
          ],
          "scattergl": [
           {
            "marker": {
             "colorbar": {
              "outlinewidth": 0,
              "ticks": ""
             }
            },
            "type": "scattergl"
           }
          ],
          "scattermapbox": [
           {
            "marker": {
             "colorbar": {
              "outlinewidth": 0,
              "ticks": ""
             }
            },
            "type": "scattermapbox"
           }
          ],
          "scatterpolar": [
           {
            "marker": {
             "colorbar": {
              "outlinewidth": 0,
              "ticks": ""
             }
            },
            "type": "scatterpolar"
           }
          ],
          "scatterpolargl": [
           {
            "marker": {
             "colorbar": {
              "outlinewidth": 0,
              "ticks": ""
             }
            },
            "type": "scatterpolargl"
           }
          ],
          "scatterternary": [
           {
            "marker": {
             "colorbar": {
              "outlinewidth": 0,
              "ticks": ""
             }
            },
            "type": "scatterternary"
           }
          ],
          "surface": [
           {
            "colorbar": {
             "outlinewidth": 0,
             "ticks": ""
            },
            "colorscale": [
             [
              0,
              "#0d0887"
             ],
             [
              0.1111111111111111,
              "#46039f"
             ],
             [
              0.2222222222222222,
              "#7201a8"
             ],
             [
              0.3333333333333333,
              "#9c179e"
             ],
             [
              0.4444444444444444,
              "#bd3786"
             ],
             [
              0.5555555555555556,
              "#d8576b"
             ],
             [
              0.6666666666666666,
              "#ed7953"
             ],
             [
              0.7777777777777778,
              "#fb9f3a"
             ],
             [
              0.8888888888888888,
              "#fdca26"
             ],
             [
              1,
              "#f0f921"
             ]
            ],
            "type": "surface"
           }
          ],
          "table": [
           {
            "cells": {
             "fill": {
              "color": "#EBF0F8"
             },
             "line": {
              "color": "white"
             }
            },
            "header": {
             "fill": {
              "color": "#C8D4E3"
             },
             "line": {
              "color": "white"
             }
            },
            "type": "table"
           }
          ]
         },
         "layout": {
          "annotationdefaults": {
           "arrowcolor": "#2a3f5f",
           "arrowhead": 0,
           "arrowwidth": 1
          },
          "autotypenumbers": "strict",
          "coloraxis": {
           "colorbar": {
            "outlinewidth": 0,
            "ticks": ""
           }
          },
          "colorscale": {
           "diverging": [
            [
             0,
             "#8e0152"
            ],
            [
             0.1,
             "#c51b7d"
            ],
            [
             0.2,
             "#de77ae"
            ],
            [
             0.3,
             "#f1b6da"
            ],
            [
             0.4,
             "#fde0ef"
            ],
            [
             0.5,
             "#f7f7f7"
            ],
            [
             0.6,
             "#e6f5d0"
            ],
            [
             0.7,
             "#b8e186"
            ],
            [
             0.8,
             "#7fbc41"
            ],
            [
             0.9,
             "#4d9221"
            ],
            [
             1,
             "#276419"
            ]
           ],
           "sequential": [
            [
             0,
             "#0d0887"
            ],
            [
             0.1111111111111111,
             "#46039f"
            ],
            [
             0.2222222222222222,
             "#7201a8"
            ],
            [
             0.3333333333333333,
             "#9c179e"
            ],
            [
             0.4444444444444444,
             "#bd3786"
            ],
            [
             0.5555555555555556,
             "#d8576b"
            ],
            [
             0.6666666666666666,
             "#ed7953"
            ],
            [
             0.7777777777777778,
             "#fb9f3a"
            ],
            [
             0.8888888888888888,
             "#fdca26"
            ],
            [
             1,
             "#f0f921"
            ]
           ],
           "sequentialminus": [
            [
             0,
             "#0d0887"
            ],
            [
             0.1111111111111111,
             "#46039f"
            ],
            [
             0.2222222222222222,
             "#7201a8"
            ],
            [
             0.3333333333333333,
             "#9c179e"
            ],
            [
             0.4444444444444444,
             "#bd3786"
            ],
            [
             0.5555555555555556,
             "#d8576b"
            ],
            [
             0.6666666666666666,
             "#ed7953"
            ],
            [
             0.7777777777777778,
             "#fb9f3a"
            ],
            [
             0.8888888888888888,
             "#fdca26"
            ],
            [
             1,
             "#f0f921"
            ]
           ]
          },
          "colorway": [
           "#636efa",
           "#EF553B",
           "#00cc96",
           "#ab63fa",
           "#FFA15A",
           "#19d3f3",
           "#FF6692",
           "#B6E880",
           "#FF97FF",
           "#FECB52"
          ],
          "font": {
           "color": "#2a3f5f"
          },
          "geo": {
           "bgcolor": "white",
           "lakecolor": "white",
           "landcolor": "#E5ECF6",
           "showlakes": true,
           "showland": true,
           "subunitcolor": "white"
          },
          "hoverlabel": {
           "align": "left"
          },
          "hovermode": "closest",
          "mapbox": {
           "style": "light"
          },
          "paper_bgcolor": "white",
          "plot_bgcolor": "#E5ECF6",
          "polar": {
           "angularaxis": {
            "gridcolor": "white",
            "linecolor": "white",
            "ticks": ""
           },
           "bgcolor": "#E5ECF6",
           "radialaxis": {
            "gridcolor": "white",
            "linecolor": "white",
            "ticks": ""
           }
          },
          "scene": {
           "xaxis": {
            "backgroundcolor": "#E5ECF6",
            "gridcolor": "white",
            "gridwidth": 2,
            "linecolor": "white",
            "showbackground": true,
            "ticks": "",
            "zerolinecolor": "white"
           },
           "yaxis": {
            "backgroundcolor": "#E5ECF6",
            "gridcolor": "white",
            "gridwidth": 2,
            "linecolor": "white",
            "showbackground": true,
            "ticks": "",
            "zerolinecolor": "white"
           },
           "zaxis": {
            "backgroundcolor": "#E5ECF6",
            "gridcolor": "white",
            "gridwidth": 2,
            "linecolor": "white",
            "showbackground": true,
            "ticks": "",
            "zerolinecolor": "white"
           }
          },
          "shapedefaults": {
           "line": {
            "color": "#2a3f5f"
           }
          },
          "ternary": {
           "aaxis": {
            "gridcolor": "white",
            "linecolor": "white",
            "ticks": ""
           },
           "baxis": {
            "gridcolor": "white",
            "linecolor": "white",
            "ticks": ""
           },
           "bgcolor": "#E5ECF6",
           "caxis": {
            "gridcolor": "white",
            "linecolor": "white",
            "ticks": ""
           }
          },
          "title": {
           "x": 0.05
          },
          "xaxis": {
           "automargin": true,
           "gridcolor": "white",
           "linecolor": "white",
           "ticks": "",
           "title": {
            "standoff": 15
           },
           "zerolinecolor": "white",
           "zerolinewidth": 2
          },
          "yaxis": {
           "automargin": true,
           "gridcolor": "white",
           "linecolor": "white",
           "ticks": "",
           "title": {
            "standoff": 15
           },
           "zerolinecolor": "white",
           "zerolinewidth": 2
          }
         }
        },
        "title": {
         "font": {
          "color": "#4D5663"
         }
        },
        "xaxis": {
         "gridcolor": "#E1E5ED",
         "showgrid": true,
         "tickfont": {
          "color": "#4D5663"
         },
         "title": {
          "font": {
           "color": "#4D5663"
          },
          "text": ""
         },
         "zerolinecolor": "#E1E5ED"
        },
        "yaxis": {
         "gridcolor": "#E1E5ED",
         "showgrid": true,
         "tickfont": {
          "color": "#4D5663"
         },
         "title": {
          "font": {
           "color": "#4D5663"
          },
          "text": ""
         },
         "zerolinecolor": "#E1E5ED"
        }
       }
      },
      "text/html": [
       "<div>                            <div id=\"cd1e22d9-0211-4ff7-bf7b-ec485bdbf8ec\" class=\"plotly-graph-div\" style=\"height:525px; width:100%;\"></div>            <script type=\"text/javascript\">                require([\"plotly\"], function(Plotly) {                    window.PLOTLYENV=window.PLOTLYENV || {};\n",
       "                    window.PLOTLYENV.BASE_URL='https://plot.ly';                                    if (document.getElementById(\"cd1e22d9-0211-4ff7-bf7b-ec485bdbf8ec\")) {                    Plotly.newPlot(                        \"cd1e22d9-0211-4ff7-bf7b-ec485bdbf8ec\",                        [{\"line\":{\"color\":\"rgba(255, 153, 51, 1.0)\",\"dash\":\"solid\",\"shape\":\"linear\",\"width\":1.3},\"marker\":{\"size\":10,\"symbol\":\"circle\"},\"mode\":\"markers\",\"name\":\"B\",\"text\":\"\",\"x\":[-0.3906035117543167,1.0863264715185994,0.6835253814650998,-0.23576141864914893,-0.4429545878166258,2.116343170175117,1.4473913506726221,0.569652553863101,-0.009092623081691979,-1.0582945442935632,-0.12084486928238401,0.08815152034967148,0.11959952693200762,-0.7254016820099657,-0.21947884771572385,0.6307412937895936,-0.2715854516702586,0.6774799956997187,-3.326632598527113,-1.1010555748854676,-0.8285736989645863,1.4286432413197285,-1.2863673982151753,0.5560943872450889,-1.2156580243428767,0.2907123370476229,-0.03962130114381719,0.6128214007748458,1.5909112248895954,0.5649731989364699,0.11915288705665236,-0.6470755860638769,0.284160040239183,2.600494959494294,-1.2022014874643814,-0.13223808754142752,-0.041316482136716834,0.5098732219097379,0.15915568444349057,-0.5043819681281224,-0.3556156798004133,-0.3796013635814211,-1.8593197564762267,0.8978164798024615,0.39446349009737763,-0.694784547578885,0.26880235000994757,0.6167174702859992,-0.4997994420796771,0.4450096699471989,-0.8847488445344148,1.0987983381132622,-0.8452209252813302,-1.0648063360549604,-0.19084391043675195,-0.15859338257624883,0.7630611129237804,3.2291066281589886,0.6929317663642419,-0.5838146426552702,0.5861013284436394,-1.2650129403147923,-0.9874629601084706,0.22189992221823152,0.1070480664013499,-0.020257070664600894,0.540074434383443,-1.1153734802213902,-0.5408456367874344,-0.9363710338016914,-0.8768419048054417,0.5757258953442429,1.1302549841946514,1.0141595421180447,0.04382098826360184,1.0850336979622708,2.3157010748108156,-0.5705093840098091,1.9021376615749161,0.6295200030080252,-0.5850574454103049,1.0035871157471201,0.8792469474737475,-1.1340408358411769,0.1601995205845725,-0.024707485401965698,0.6120477835646161,0.8923372998260404,-1.3152338654473736,0.3878815351547292,0.7210458168234605,-2.41264623404743,-0.3959192713590546,0.8869462669540071,-0.035460269728471466,-0.9470516684026542,-0.4392408054657591,-1.1946784087205802,1.0776855106669865,0.5440523475359473],\"y\":[0.9059599971152463,1.2640403590421745,-0.2807537530635768,0.06402790036215945,-0.3766235233694587,-0.10132459774762158,0.5339861080892987,-1.8643420708091076,-1.661866586796738,2.3569785219679438,0.8725438525555298,-1.9104769189833894,-0.255949299328033,-0.39668839332448974,-0.3134606308667052,0.350746961585668,1.5778418522684001,-0.7885120606107235,-0.37433000133476685,-0.7865830089210104,-0.07517524873421455,-0.44288240707585064,0.5137908325133144,-1.121977505222089,-0.03568683511645622,-1.7924711458135418,1.5029017374563711,0.06433630297088112,0.020239781673339292,-0.29025246002340094,-1.1302539905725308,-0.18947146526901348,0.42760165568481256,0.333016541738766,0.3267043674060358,-1.0513974533576986,0.3774706999121592,-0.24496204262494045,-0.5265156710485509,0.6463574886324186,-0.6767948282602794,-0.7166772868544358,0.560351760893181,-0.38743902854119106,1.6019552050879209,0.011477146477320555,-1.110362746013105,1.1481440836003125,0.23362353676972208,0.27168211675893295,-0.16882921026742742,-1.6965335749826864,0.223151048282374,1.3100580898431096,1.4736784282794164,-1.0640125173800254,0.9050701400953132,0.48767629647396676,0.6753774281301449,-0.5754626651176231,0.6040043802592154,1.265348899405205,-1.0762057552710116,-0.11111384920458972,0.09464773574212813,1.0547675685231737,-0.6448715282387144,0.7739440113180187,-0.4028863465882712,-0.6562669929880659,1.3215915296236977,-2.03936613444369,-0.43033095621917533,-1.0174206393367025,-0.4587717162908476,-0.5263286688595268,-0.5929967365131853,0.814656274814025,1.9808718424399285,0.8029333924830028,-0.9669195429938262,0.4864229162952104,0.24332058654426708,0.20638896725384728,-0.6328604773747971,0.9449775365738496,-0.5873652887040683,1.5405322330015419,1.4633251619674414,-0.7640730016069059,0.10094774101467074,-0.6472076918128246,1.5963909934782532,-0.28345811435467794,-1.708490142148577,0.3192433158479993,-0.7974039512022152,0.8490163670386164,0.7045434640122664,-0.05056336966839602],\"type\":\"scatter\"}],                        {\"legend\":{\"bgcolor\":\"#F5F6F9\",\"font\":{\"color\":\"#4D5663\"}},\"paper_bgcolor\":\"#F5F6F9\",\"plot_bgcolor\":\"#F5F6F9\",\"template\":{\"data\":{\"barpolar\":[{\"marker\":{\"line\":{\"color\":\"#E5ECF6\",\"width\":0.5},\"pattern\":{\"fillmode\":\"overlay\",\"size\":10,\"solidity\":0.2}},\"type\":\"barpolar\"}],\"bar\":[{\"error_x\":{\"color\":\"#2a3f5f\"},\"error_y\":{\"color\":\"#2a3f5f\"},\"marker\":{\"line\":{\"color\":\"#E5ECF6\",\"width\":0.5},\"pattern\":{\"fillmode\":\"overlay\",\"size\":10,\"solidity\":0.2}},\"type\":\"bar\"}],\"carpet\":[{\"aaxis\":{\"endlinecolor\":\"#2a3f5f\",\"gridcolor\":\"white\",\"linecolor\":\"white\",\"minorgridcolor\":\"white\",\"startlinecolor\":\"#2a3f5f\"},\"baxis\":{\"endlinecolor\":\"#2a3f5f\",\"gridcolor\":\"white\",\"linecolor\":\"white\",\"minorgridcolor\":\"white\",\"startlinecolor\":\"#2a3f5f\"},\"type\":\"carpet\"}],\"choropleth\":[{\"colorbar\":{\"outlinewidth\":0,\"ticks\":\"\"},\"type\":\"choropleth\"}],\"contourcarpet\":[{\"colorbar\":{\"outlinewidth\":0,\"ticks\":\"\"},\"type\":\"contourcarpet\"}],\"contour\":[{\"colorbar\":{\"outlinewidth\":0,\"ticks\":\"\"},\"colorscale\":[[0.0,\"#0d0887\"],[0.1111111111111111,\"#46039f\"],[0.2222222222222222,\"#7201a8\"],[0.3333333333333333,\"#9c179e\"],[0.4444444444444444,\"#bd3786\"],[0.5555555555555556,\"#d8576b\"],[0.6666666666666666,\"#ed7953\"],[0.7777777777777778,\"#fb9f3a\"],[0.8888888888888888,\"#fdca26\"],[1.0,\"#f0f921\"]],\"type\":\"contour\"}],\"heatmapgl\":[{\"colorbar\":{\"outlinewidth\":0,\"ticks\":\"\"},\"colorscale\":[[0.0,\"#0d0887\"],[0.1111111111111111,\"#46039f\"],[0.2222222222222222,\"#7201a8\"],[0.3333333333333333,\"#9c179e\"],[0.4444444444444444,\"#bd3786\"],[0.5555555555555556,\"#d8576b\"],[0.6666666666666666,\"#ed7953\"],[0.7777777777777778,\"#fb9f3a\"],[0.8888888888888888,\"#fdca26\"],[1.0,\"#f0f921\"]],\"type\":\"heatmapgl\"}],\"heatmap\":[{\"colorbar\":{\"outlinewidth\":0,\"ticks\":\"\"},\"colorscale\":[[0.0,\"#0d0887\"],[0.1111111111111111,\"#46039f\"],[0.2222222222222222,\"#7201a8\"],[0.3333333333333333,\"#9c179e\"],[0.4444444444444444,\"#bd3786\"],[0.5555555555555556,\"#d8576b\"],[0.6666666666666666,\"#ed7953\"],[0.7777777777777778,\"#fb9f3a\"],[0.8888888888888888,\"#fdca26\"],[1.0,\"#f0f921\"]],\"type\":\"heatmap\"}],\"histogram2dcontour\":[{\"colorbar\":{\"outlinewidth\":0,\"ticks\":\"\"},\"colorscale\":[[0.0,\"#0d0887\"],[0.1111111111111111,\"#46039f\"],[0.2222222222222222,\"#7201a8\"],[0.3333333333333333,\"#9c179e\"],[0.4444444444444444,\"#bd3786\"],[0.5555555555555556,\"#d8576b\"],[0.6666666666666666,\"#ed7953\"],[0.7777777777777778,\"#fb9f3a\"],[0.8888888888888888,\"#fdca26\"],[1.0,\"#f0f921\"]],\"type\":\"histogram2dcontour\"}],\"histogram2d\":[{\"colorbar\":{\"outlinewidth\":0,\"ticks\":\"\"},\"colorscale\":[[0.0,\"#0d0887\"],[0.1111111111111111,\"#46039f\"],[0.2222222222222222,\"#7201a8\"],[0.3333333333333333,\"#9c179e\"],[0.4444444444444444,\"#bd3786\"],[0.5555555555555556,\"#d8576b\"],[0.6666666666666666,\"#ed7953\"],[0.7777777777777778,\"#fb9f3a\"],[0.8888888888888888,\"#fdca26\"],[1.0,\"#f0f921\"]],\"type\":\"histogram2d\"}],\"histogram\":[{\"marker\":{\"pattern\":{\"fillmode\":\"overlay\",\"size\":10,\"solidity\":0.2}},\"type\":\"histogram\"}],\"mesh3d\":[{\"colorbar\":{\"outlinewidth\":0,\"ticks\":\"\"},\"type\":\"mesh3d\"}],\"parcoords\":[{\"line\":{\"colorbar\":{\"outlinewidth\":0,\"ticks\":\"\"}},\"type\":\"parcoords\"}],\"pie\":[{\"automargin\":true,\"type\":\"pie\"}],\"scatter3d\":[{\"line\":{\"colorbar\":{\"outlinewidth\":0,\"ticks\":\"\"}},\"marker\":{\"colorbar\":{\"outlinewidth\":0,\"ticks\":\"\"}},\"type\":\"scatter3d\"}],\"scattercarpet\":[{\"marker\":{\"colorbar\":{\"outlinewidth\":0,\"ticks\":\"\"}},\"type\":\"scattercarpet\"}],\"scattergeo\":[{\"marker\":{\"colorbar\":{\"outlinewidth\":0,\"ticks\":\"\"}},\"type\":\"scattergeo\"}],\"scattergl\":[{\"marker\":{\"colorbar\":{\"outlinewidth\":0,\"ticks\":\"\"}},\"type\":\"scattergl\"}],\"scattermapbox\":[{\"marker\":{\"colorbar\":{\"outlinewidth\":0,\"ticks\":\"\"}},\"type\":\"scattermapbox\"}],\"scatterpolargl\":[{\"marker\":{\"colorbar\":{\"outlinewidth\":0,\"ticks\":\"\"}},\"type\":\"scatterpolargl\"}],\"scatterpolar\":[{\"marker\":{\"colorbar\":{\"outlinewidth\":0,\"ticks\":\"\"}},\"type\":\"scatterpolar\"}],\"scatter\":[{\"fillpattern\":{\"fillmode\":\"overlay\",\"size\":10,\"solidity\":0.2},\"type\":\"scatter\"}],\"scatterternary\":[{\"marker\":{\"colorbar\":{\"outlinewidth\":0,\"ticks\":\"\"}},\"type\":\"scatterternary\"}],\"surface\":[{\"colorbar\":{\"outlinewidth\":0,\"ticks\":\"\"},\"colorscale\":[[0.0,\"#0d0887\"],[0.1111111111111111,\"#46039f\"],[0.2222222222222222,\"#7201a8\"],[0.3333333333333333,\"#9c179e\"],[0.4444444444444444,\"#bd3786\"],[0.5555555555555556,\"#d8576b\"],[0.6666666666666666,\"#ed7953\"],[0.7777777777777778,\"#fb9f3a\"],[0.8888888888888888,\"#fdca26\"],[1.0,\"#f0f921\"]],\"type\":\"surface\"}],\"table\":[{\"cells\":{\"fill\":{\"color\":\"#EBF0F8\"},\"line\":{\"color\":\"white\"}},\"header\":{\"fill\":{\"color\":\"#C8D4E3\"},\"line\":{\"color\":\"white\"}},\"type\":\"table\"}]},\"layout\":{\"annotationdefaults\":{\"arrowcolor\":\"#2a3f5f\",\"arrowhead\":0,\"arrowwidth\":1},\"autotypenumbers\":\"strict\",\"coloraxis\":{\"colorbar\":{\"outlinewidth\":0,\"ticks\":\"\"}},\"colorscale\":{\"diverging\":[[0,\"#8e0152\"],[0.1,\"#c51b7d\"],[0.2,\"#de77ae\"],[0.3,\"#f1b6da\"],[0.4,\"#fde0ef\"],[0.5,\"#f7f7f7\"],[0.6,\"#e6f5d0\"],[0.7,\"#b8e186\"],[0.8,\"#7fbc41\"],[0.9,\"#4d9221\"],[1,\"#276419\"]],\"sequential\":[[0.0,\"#0d0887\"],[0.1111111111111111,\"#46039f\"],[0.2222222222222222,\"#7201a8\"],[0.3333333333333333,\"#9c179e\"],[0.4444444444444444,\"#bd3786\"],[0.5555555555555556,\"#d8576b\"],[0.6666666666666666,\"#ed7953\"],[0.7777777777777778,\"#fb9f3a\"],[0.8888888888888888,\"#fdca26\"],[1.0,\"#f0f921\"]],\"sequentialminus\":[[0.0,\"#0d0887\"],[0.1111111111111111,\"#46039f\"],[0.2222222222222222,\"#7201a8\"],[0.3333333333333333,\"#9c179e\"],[0.4444444444444444,\"#bd3786\"],[0.5555555555555556,\"#d8576b\"],[0.6666666666666666,\"#ed7953\"],[0.7777777777777778,\"#fb9f3a\"],[0.8888888888888888,\"#fdca26\"],[1.0,\"#f0f921\"]]},\"colorway\":[\"#636efa\",\"#EF553B\",\"#00cc96\",\"#ab63fa\",\"#FFA15A\",\"#19d3f3\",\"#FF6692\",\"#B6E880\",\"#FF97FF\",\"#FECB52\"],\"font\":{\"color\":\"#2a3f5f\"},\"geo\":{\"bgcolor\":\"white\",\"lakecolor\":\"white\",\"landcolor\":\"#E5ECF6\",\"showlakes\":true,\"showland\":true,\"subunitcolor\":\"white\"},\"hoverlabel\":{\"align\":\"left\"},\"hovermode\":\"closest\",\"mapbox\":{\"style\":\"light\"},\"paper_bgcolor\":\"white\",\"plot_bgcolor\":\"#E5ECF6\",\"polar\":{\"angularaxis\":{\"gridcolor\":\"white\",\"linecolor\":\"white\",\"ticks\":\"\"},\"bgcolor\":\"#E5ECF6\",\"radialaxis\":{\"gridcolor\":\"white\",\"linecolor\":\"white\",\"ticks\":\"\"}},\"scene\":{\"xaxis\":{\"backgroundcolor\":\"#E5ECF6\",\"gridcolor\":\"white\",\"gridwidth\":2,\"linecolor\":\"white\",\"showbackground\":true,\"ticks\":\"\",\"zerolinecolor\":\"white\"},\"yaxis\":{\"backgroundcolor\":\"#E5ECF6\",\"gridcolor\":\"white\",\"gridwidth\":2,\"linecolor\":\"white\",\"showbackground\":true,\"ticks\":\"\",\"zerolinecolor\":\"white\"},\"zaxis\":{\"backgroundcolor\":\"#E5ECF6\",\"gridcolor\":\"white\",\"gridwidth\":2,\"linecolor\":\"white\",\"showbackground\":true,\"ticks\":\"\",\"zerolinecolor\":\"white\"}},\"shapedefaults\":{\"line\":{\"color\":\"#2a3f5f\"}},\"ternary\":{\"aaxis\":{\"gridcolor\":\"white\",\"linecolor\":\"white\",\"ticks\":\"\"},\"baxis\":{\"gridcolor\":\"white\",\"linecolor\":\"white\",\"ticks\":\"\"},\"bgcolor\":\"#E5ECF6\",\"caxis\":{\"gridcolor\":\"white\",\"linecolor\":\"white\",\"ticks\":\"\"}},\"title\":{\"x\":0.05},\"xaxis\":{\"automargin\":true,\"gridcolor\":\"white\",\"linecolor\":\"white\",\"ticks\":\"\",\"title\":{\"standoff\":15},\"zerolinecolor\":\"white\",\"zerolinewidth\":2},\"yaxis\":{\"automargin\":true,\"gridcolor\":\"white\",\"linecolor\":\"white\",\"ticks\":\"\",\"title\":{\"standoff\":15},\"zerolinecolor\":\"white\",\"zerolinewidth\":2}}},\"title\":{\"font\":{\"color\":\"#4D5663\"}},\"xaxis\":{\"gridcolor\":\"#E1E5ED\",\"showgrid\":true,\"tickfont\":{\"color\":\"#4D5663\"},\"title\":{\"font\":{\"color\":\"#4D5663\"},\"text\":\"\"},\"zerolinecolor\":\"#E1E5ED\"},\"yaxis\":{\"gridcolor\":\"#E1E5ED\",\"showgrid\":true,\"tickfont\":{\"color\":\"#4D5663\"},\"title\":{\"font\":{\"color\":\"#4D5663\"},\"text\":\"\"},\"zerolinecolor\":\"#E1E5ED\"}},                        {\"showLink\": true, \"linkText\": \"Export to plot.ly\", \"plotlyServerURL\": \"https://plot.ly\", \"responsive\": true}                    ).then(function(){\n",
       "                            \n",
       "var gd = document.getElementById('cd1e22d9-0211-4ff7-bf7b-ec485bdbf8ec');\n",
       "var x = new MutationObserver(function (mutations, observer) {{\n",
       "        var display = window.getComputedStyle(gd).display;\n",
       "        if (!display || display === 'none') {{\n",
       "            console.log([gd, 'removed!']);\n",
       "            Plotly.purge(gd);\n",
       "            observer.disconnect();\n",
       "        }}\n",
       "}});\n",
       "\n",
       "// Listen for the removal of the full notebook cells\n",
       "var notebookContainer = gd.closest('#notebook-container');\n",
       "if (notebookContainer) {{\n",
       "    x.observe(notebookContainer, {childList: true});\n",
       "}}\n",
       "\n",
       "// Listen for the clearing of the current output cell\n",
       "var outputEl = gd.closest('.output');\n",
       "if (outputEl) {{\n",
       "    x.observe(outputEl, {childList: true});\n",
       "}}\n",
       "\n",
       "                        })                };                });            </script>        </div>"
      ]
     },
     "metadata": {},
     "output_type": "display_data"
    }
   ],
   "source": [
    "df.iplot(kind='scatter',x='A',y='B',mode='markers',size=10)"
   ]
  },
  {
   "cell_type": "markdown",
   "metadata": {},
   "source": [
    "## Bar Plots"
   ]
  },
  {
   "cell_type": "code",
   "execution_count": 11,
   "metadata": {
    "collapsed": false,
    "jupyter": {
     "outputs_hidden": false
    }
   },
   "outputs": [
    {
     "data": {
      "application/vnd.plotly.v1+json": {
       "config": {
        "linkText": "Export to plot.ly",
        "plotlyServerURL": "https://plot.ly",
        "showLink": true
       },
       "data": [
        {
         "marker": {
          "color": "rgba(255, 153, 51, 0.6)",
          "line": {
           "color": "rgba(255, 153, 51, 1.0)",
           "width": 1
          }
         },
         "name": "Values",
         "orientation": "v",
         "text": "",
         "type": "bar",
         "x": [
          "A",
          "B",
          "C"
         ],
         "y": [
          32,
          43,
          50
         ]
        }
       ],
       "layout": {
        "legend": {
         "bgcolor": "#F5F6F9",
         "font": {
          "color": "#4D5663"
         }
        },
        "paper_bgcolor": "#F5F6F9",
        "plot_bgcolor": "#F5F6F9",
        "template": {
         "data": {
          "bar": [
           {
            "error_x": {
             "color": "#2a3f5f"
            },
            "error_y": {
             "color": "#2a3f5f"
            },
            "marker": {
             "line": {
              "color": "#E5ECF6",
              "width": 0.5
             },
             "pattern": {
              "fillmode": "overlay",
              "size": 10,
              "solidity": 0.2
             }
            },
            "type": "bar"
           }
          ],
          "barpolar": [
           {
            "marker": {
             "line": {
              "color": "#E5ECF6",
              "width": 0.5
             },
             "pattern": {
              "fillmode": "overlay",
              "size": 10,
              "solidity": 0.2
             }
            },
            "type": "barpolar"
           }
          ],
          "carpet": [
           {
            "aaxis": {
             "endlinecolor": "#2a3f5f",
             "gridcolor": "white",
             "linecolor": "white",
             "minorgridcolor": "white",
             "startlinecolor": "#2a3f5f"
            },
            "baxis": {
             "endlinecolor": "#2a3f5f",
             "gridcolor": "white",
             "linecolor": "white",
             "minorgridcolor": "white",
             "startlinecolor": "#2a3f5f"
            },
            "type": "carpet"
           }
          ],
          "choropleth": [
           {
            "colorbar": {
             "outlinewidth": 0,
             "ticks": ""
            },
            "type": "choropleth"
           }
          ],
          "contour": [
           {
            "colorbar": {
             "outlinewidth": 0,
             "ticks": ""
            },
            "colorscale": [
             [
              0,
              "#0d0887"
             ],
             [
              0.1111111111111111,
              "#46039f"
             ],
             [
              0.2222222222222222,
              "#7201a8"
             ],
             [
              0.3333333333333333,
              "#9c179e"
             ],
             [
              0.4444444444444444,
              "#bd3786"
             ],
             [
              0.5555555555555556,
              "#d8576b"
             ],
             [
              0.6666666666666666,
              "#ed7953"
             ],
             [
              0.7777777777777778,
              "#fb9f3a"
             ],
             [
              0.8888888888888888,
              "#fdca26"
             ],
             [
              1,
              "#f0f921"
             ]
            ],
            "type": "contour"
           }
          ],
          "contourcarpet": [
           {
            "colorbar": {
             "outlinewidth": 0,
             "ticks": ""
            },
            "type": "contourcarpet"
           }
          ],
          "heatmap": [
           {
            "colorbar": {
             "outlinewidth": 0,
             "ticks": ""
            },
            "colorscale": [
             [
              0,
              "#0d0887"
             ],
             [
              0.1111111111111111,
              "#46039f"
             ],
             [
              0.2222222222222222,
              "#7201a8"
             ],
             [
              0.3333333333333333,
              "#9c179e"
             ],
             [
              0.4444444444444444,
              "#bd3786"
             ],
             [
              0.5555555555555556,
              "#d8576b"
             ],
             [
              0.6666666666666666,
              "#ed7953"
             ],
             [
              0.7777777777777778,
              "#fb9f3a"
             ],
             [
              0.8888888888888888,
              "#fdca26"
             ],
             [
              1,
              "#f0f921"
             ]
            ],
            "type": "heatmap"
           }
          ],
          "heatmapgl": [
           {
            "colorbar": {
             "outlinewidth": 0,
             "ticks": ""
            },
            "colorscale": [
             [
              0,
              "#0d0887"
             ],
             [
              0.1111111111111111,
              "#46039f"
             ],
             [
              0.2222222222222222,
              "#7201a8"
             ],
             [
              0.3333333333333333,
              "#9c179e"
             ],
             [
              0.4444444444444444,
              "#bd3786"
             ],
             [
              0.5555555555555556,
              "#d8576b"
             ],
             [
              0.6666666666666666,
              "#ed7953"
             ],
             [
              0.7777777777777778,
              "#fb9f3a"
             ],
             [
              0.8888888888888888,
              "#fdca26"
             ],
             [
              1,
              "#f0f921"
             ]
            ],
            "type": "heatmapgl"
           }
          ],
          "histogram": [
           {
            "marker": {
             "pattern": {
              "fillmode": "overlay",
              "size": 10,
              "solidity": 0.2
             }
            },
            "type": "histogram"
           }
          ],
          "histogram2d": [
           {
            "colorbar": {
             "outlinewidth": 0,
             "ticks": ""
            },
            "colorscale": [
             [
              0,
              "#0d0887"
             ],
             [
              0.1111111111111111,
              "#46039f"
             ],
             [
              0.2222222222222222,
              "#7201a8"
             ],
             [
              0.3333333333333333,
              "#9c179e"
             ],
             [
              0.4444444444444444,
              "#bd3786"
             ],
             [
              0.5555555555555556,
              "#d8576b"
             ],
             [
              0.6666666666666666,
              "#ed7953"
             ],
             [
              0.7777777777777778,
              "#fb9f3a"
             ],
             [
              0.8888888888888888,
              "#fdca26"
             ],
             [
              1,
              "#f0f921"
             ]
            ],
            "type": "histogram2d"
           }
          ],
          "histogram2dcontour": [
           {
            "colorbar": {
             "outlinewidth": 0,
             "ticks": ""
            },
            "colorscale": [
             [
              0,
              "#0d0887"
             ],
             [
              0.1111111111111111,
              "#46039f"
             ],
             [
              0.2222222222222222,
              "#7201a8"
             ],
             [
              0.3333333333333333,
              "#9c179e"
             ],
             [
              0.4444444444444444,
              "#bd3786"
             ],
             [
              0.5555555555555556,
              "#d8576b"
             ],
             [
              0.6666666666666666,
              "#ed7953"
             ],
             [
              0.7777777777777778,
              "#fb9f3a"
             ],
             [
              0.8888888888888888,
              "#fdca26"
             ],
             [
              1,
              "#f0f921"
             ]
            ],
            "type": "histogram2dcontour"
           }
          ],
          "mesh3d": [
           {
            "colorbar": {
             "outlinewidth": 0,
             "ticks": ""
            },
            "type": "mesh3d"
           }
          ],
          "parcoords": [
           {
            "line": {
             "colorbar": {
              "outlinewidth": 0,
              "ticks": ""
             }
            },
            "type": "parcoords"
           }
          ],
          "pie": [
           {
            "automargin": true,
            "type": "pie"
           }
          ],
          "scatter": [
           {
            "fillpattern": {
             "fillmode": "overlay",
             "size": 10,
             "solidity": 0.2
            },
            "type": "scatter"
           }
          ],
          "scatter3d": [
           {
            "line": {
             "colorbar": {
              "outlinewidth": 0,
              "ticks": ""
             }
            },
            "marker": {
             "colorbar": {
              "outlinewidth": 0,
              "ticks": ""
             }
            },
            "type": "scatter3d"
           }
          ],
          "scattercarpet": [
           {
            "marker": {
             "colorbar": {
              "outlinewidth": 0,
              "ticks": ""
             }
            },
            "type": "scattercarpet"
           }
          ],
          "scattergeo": [
           {
            "marker": {
             "colorbar": {
              "outlinewidth": 0,
              "ticks": ""
             }
            },
            "type": "scattergeo"
           }
          ],
          "scattergl": [
           {
            "marker": {
             "colorbar": {
              "outlinewidth": 0,
              "ticks": ""
             }
            },
            "type": "scattergl"
           }
          ],
          "scattermapbox": [
           {
            "marker": {
             "colorbar": {
              "outlinewidth": 0,
              "ticks": ""
             }
            },
            "type": "scattermapbox"
           }
          ],
          "scatterpolar": [
           {
            "marker": {
             "colorbar": {
              "outlinewidth": 0,
              "ticks": ""
             }
            },
            "type": "scatterpolar"
           }
          ],
          "scatterpolargl": [
           {
            "marker": {
             "colorbar": {
              "outlinewidth": 0,
              "ticks": ""
             }
            },
            "type": "scatterpolargl"
           }
          ],
          "scatterternary": [
           {
            "marker": {
             "colorbar": {
              "outlinewidth": 0,
              "ticks": ""
             }
            },
            "type": "scatterternary"
           }
          ],
          "surface": [
           {
            "colorbar": {
             "outlinewidth": 0,
             "ticks": ""
            },
            "colorscale": [
             [
              0,
              "#0d0887"
             ],
             [
              0.1111111111111111,
              "#46039f"
             ],
             [
              0.2222222222222222,
              "#7201a8"
             ],
             [
              0.3333333333333333,
              "#9c179e"
             ],
             [
              0.4444444444444444,
              "#bd3786"
             ],
             [
              0.5555555555555556,
              "#d8576b"
             ],
             [
              0.6666666666666666,
              "#ed7953"
             ],
             [
              0.7777777777777778,
              "#fb9f3a"
             ],
             [
              0.8888888888888888,
              "#fdca26"
             ],
             [
              1,
              "#f0f921"
             ]
            ],
            "type": "surface"
           }
          ],
          "table": [
           {
            "cells": {
             "fill": {
              "color": "#EBF0F8"
             },
             "line": {
              "color": "white"
             }
            },
            "header": {
             "fill": {
              "color": "#C8D4E3"
             },
             "line": {
              "color": "white"
             }
            },
            "type": "table"
           }
          ]
         },
         "layout": {
          "annotationdefaults": {
           "arrowcolor": "#2a3f5f",
           "arrowhead": 0,
           "arrowwidth": 1
          },
          "autotypenumbers": "strict",
          "coloraxis": {
           "colorbar": {
            "outlinewidth": 0,
            "ticks": ""
           }
          },
          "colorscale": {
           "diverging": [
            [
             0,
             "#8e0152"
            ],
            [
             0.1,
             "#c51b7d"
            ],
            [
             0.2,
             "#de77ae"
            ],
            [
             0.3,
             "#f1b6da"
            ],
            [
             0.4,
             "#fde0ef"
            ],
            [
             0.5,
             "#f7f7f7"
            ],
            [
             0.6,
             "#e6f5d0"
            ],
            [
             0.7,
             "#b8e186"
            ],
            [
             0.8,
             "#7fbc41"
            ],
            [
             0.9,
             "#4d9221"
            ],
            [
             1,
             "#276419"
            ]
           ],
           "sequential": [
            [
             0,
             "#0d0887"
            ],
            [
             0.1111111111111111,
             "#46039f"
            ],
            [
             0.2222222222222222,
             "#7201a8"
            ],
            [
             0.3333333333333333,
             "#9c179e"
            ],
            [
             0.4444444444444444,
             "#bd3786"
            ],
            [
             0.5555555555555556,
             "#d8576b"
            ],
            [
             0.6666666666666666,
             "#ed7953"
            ],
            [
             0.7777777777777778,
             "#fb9f3a"
            ],
            [
             0.8888888888888888,
             "#fdca26"
            ],
            [
             1,
             "#f0f921"
            ]
           ],
           "sequentialminus": [
            [
             0,
             "#0d0887"
            ],
            [
             0.1111111111111111,
             "#46039f"
            ],
            [
             0.2222222222222222,
             "#7201a8"
            ],
            [
             0.3333333333333333,
             "#9c179e"
            ],
            [
             0.4444444444444444,
             "#bd3786"
            ],
            [
             0.5555555555555556,
             "#d8576b"
            ],
            [
             0.6666666666666666,
             "#ed7953"
            ],
            [
             0.7777777777777778,
             "#fb9f3a"
            ],
            [
             0.8888888888888888,
             "#fdca26"
            ],
            [
             1,
             "#f0f921"
            ]
           ]
          },
          "colorway": [
           "#636efa",
           "#EF553B",
           "#00cc96",
           "#ab63fa",
           "#FFA15A",
           "#19d3f3",
           "#FF6692",
           "#B6E880",
           "#FF97FF",
           "#FECB52"
          ],
          "font": {
           "color": "#2a3f5f"
          },
          "geo": {
           "bgcolor": "white",
           "lakecolor": "white",
           "landcolor": "#E5ECF6",
           "showlakes": true,
           "showland": true,
           "subunitcolor": "white"
          },
          "hoverlabel": {
           "align": "left"
          },
          "hovermode": "closest",
          "mapbox": {
           "style": "light"
          },
          "paper_bgcolor": "white",
          "plot_bgcolor": "#E5ECF6",
          "polar": {
           "angularaxis": {
            "gridcolor": "white",
            "linecolor": "white",
            "ticks": ""
           },
           "bgcolor": "#E5ECF6",
           "radialaxis": {
            "gridcolor": "white",
            "linecolor": "white",
            "ticks": ""
           }
          },
          "scene": {
           "xaxis": {
            "backgroundcolor": "#E5ECF6",
            "gridcolor": "white",
            "gridwidth": 2,
            "linecolor": "white",
            "showbackground": true,
            "ticks": "",
            "zerolinecolor": "white"
           },
           "yaxis": {
            "backgroundcolor": "#E5ECF6",
            "gridcolor": "white",
            "gridwidth": 2,
            "linecolor": "white",
            "showbackground": true,
            "ticks": "",
            "zerolinecolor": "white"
           },
           "zaxis": {
            "backgroundcolor": "#E5ECF6",
            "gridcolor": "white",
            "gridwidth": 2,
            "linecolor": "white",
            "showbackground": true,
            "ticks": "",
            "zerolinecolor": "white"
           }
          },
          "shapedefaults": {
           "line": {
            "color": "#2a3f5f"
           }
          },
          "ternary": {
           "aaxis": {
            "gridcolor": "white",
            "linecolor": "white",
            "ticks": ""
           },
           "baxis": {
            "gridcolor": "white",
            "linecolor": "white",
            "ticks": ""
           },
           "bgcolor": "#E5ECF6",
           "caxis": {
            "gridcolor": "white",
            "linecolor": "white",
            "ticks": ""
           }
          },
          "title": {
           "x": 0.05
          },
          "xaxis": {
           "automargin": true,
           "gridcolor": "white",
           "linecolor": "white",
           "ticks": "",
           "title": {
            "standoff": 15
           },
           "zerolinecolor": "white",
           "zerolinewidth": 2
          },
          "yaxis": {
           "automargin": true,
           "gridcolor": "white",
           "linecolor": "white",
           "ticks": "",
           "title": {
            "standoff": 15
           },
           "zerolinecolor": "white",
           "zerolinewidth": 2
          }
         }
        },
        "title": {
         "font": {
          "color": "#4D5663"
         }
        },
        "xaxis": {
         "gridcolor": "#E1E5ED",
         "showgrid": true,
         "tickfont": {
          "color": "#4D5663"
         },
         "title": {
          "font": {
           "color": "#4D5663"
          },
          "text": ""
         },
         "zerolinecolor": "#E1E5ED"
        },
        "yaxis": {
         "gridcolor": "#E1E5ED",
         "showgrid": true,
         "tickfont": {
          "color": "#4D5663"
         },
         "title": {
          "font": {
           "color": "#4D5663"
          },
          "text": ""
         },
         "zerolinecolor": "#E1E5ED"
        }
       }
      },
      "text/html": [
       "<div>                            <div id=\"1e0d7713-e2fa-4f60-ac89-fb013bf136da\" class=\"plotly-graph-div\" style=\"height:525px; width:100%;\"></div>            <script type=\"text/javascript\">                require([\"plotly\"], function(Plotly) {                    window.PLOTLYENV=window.PLOTLYENV || {};\n",
       "                    window.PLOTLYENV.BASE_URL='https://plot.ly';                                    if (document.getElementById(\"1e0d7713-e2fa-4f60-ac89-fb013bf136da\")) {                    Plotly.newPlot(                        \"1e0d7713-e2fa-4f60-ac89-fb013bf136da\",                        [{\"marker\":{\"color\":\"rgba(255, 153, 51, 0.6)\",\"line\":{\"color\":\"rgba(255, 153, 51, 1.0)\",\"width\":1}},\"name\":\"Values\",\"orientation\":\"v\",\"text\":\"\",\"x\":[\"A\",\"B\",\"C\"],\"y\":[32,43,50],\"type\":\"bar\"}],                        {\"legend\":{\"bgcolor\":\"#F5F6F9\",\"font\":{\"color\":\"#4D5663\"}},\"paper_bgcolor\":\"#F5F6F9\",\"plot_bgcolor\":\"#F5F6F9\",\"template\":{\"data\":{\"barpolar\":[{\"marker\":{\"line\":{\"color\":\"#E5ECF6\",\"width\":0.5},\"pattern\":{\"fillmode\":\"overlay\",\"size\":10,\"solidity\":0.2}},\"type\":\"barpolar\"}],\"bar\":[{\"error_x\":{\"color\":\"#2a3f5f\"},\"error_y\":{\"color\":\"#2a3f5f\"},\"marker\":{\"line\":{\"color\":\"#E5ECF6\",\"width\":0.5},\"pattern\":{\"fillmode\":\"overlay\",\"size\":10,\"solidity\":0.2}},\"type\":\"bar\"}],\"carpet\":[{\"aaxis\":{\"endlinecolor\":\"#2a3f5f\",\"gridcolor\":\"white\",\"linecolor\":\"white\",\"minorgridcolor\":\"white\",\"startlinecolor\":\"#2a3f5f\"},\"baxis\":{\"endlinecolor\":\"#2a3f5f\",\"gridcolor\":\"white\",\"linecolor\":\"white\",\"minorgridcolor\":\"white\",\"startlinecolor\":\"#2a3f5f\"},\"type\":\"carpet\"}],\"choropleth\":[{\"colorbar\":{\"outlinewidth\":0,\"ticks\":\"\"},\"type\":\"choropleth\"}],\"contourcarpet\":[{\"colorbar\":{\"outlinewidth\":0,\"ticks\":\"\"},\"type\":\"contourcarpet\"}],\"contour\":[{\"colorbar\":{\"outlinewidth\":0,\"ticks\":\"\"},\"colorscale\":[[0.0,\"#0d0887\"],[0.1111111111111111,\"#46039f\"],[0.2222222222222222,\"#7201a8\"],[0.3333333333333333,\"#9c179e\"],[0.4444444444444444,\"#bd3786\"],[0.5555555555555556,\"#d8576b\"],[0.6666666666666666,\"#ed7953\"],[0.7777777777777778,\"#fb9f3a\"],[0.8888888888888888,\"#fdca26\"],[1.0,\"#f0f921\"]],\"type\":\"contour\"}],\"heatmapgl\":[{\"colorbar\":{\"outlinewidth\":0,\"ticks\":\"\"},\"colorscale\":[[0.0,\"#0d0887\"],[0.1111111111111111,\"#46039f\"],[0.2222222222222222,\"#7201a8\"],[0.3333333333333333,\"#9c179e\"],[0.4444444444444444,\"#bd3786\"],[0.5555555555555556,\"#d8576b\"],[0.6666666666666666,\"#ed7953\"],[0.7777777777777778,\"#fb9f3a\"],[0.8888888888888888,\"#fdca26\"],[1.0,\"#f0f921\"]],\"type\":\"heatmapgl\"}],\"heatmap\":[{\"colorbar\":{\"outlinewidth\":0,\"ticks\":\"\"},\"colorscale\":[[0.0,\"#0d0887\"],[0.1111111111111111,\"#46039f\"],[0.2222222222222222,\"#7201a8\"],[0.3333333333333333,\"#9c179e\"],[0.4444444444444444,\"#bd3786\"],[0.5555555555555556,\"#d8576b\"],[0.6666666666666666,\"#ed7953\"],[0.7777777777777778,\"#fb9f3a\"],[0.8888888888888888,\"#fdca26\"],[1.0,\"#f0f921\"]],\"type\":\"heatmap\"}],\"histogram2dcontour\":[{\"colorbar\":{\"outlinewidth\":0,\"ticks\":\"\"},\"colorscale\":[[0.0,\"#0d0887\"],[0.1111111111111111,\"#46039f\"],[0.2222222222222222,\"#7201a8\"],[0.3333333333333333,\"#9c179e\"],[0.4444444444444444,\"#bd3786\"],[0.5555555555555556,\"#d8576b\"],[0.6666666666666666,\"#ed7953\"],[0.7777777777777778,\"#fb9f3a\"],[0.8888888888888888,\"#fdca26\"],[1.0,\"#f0f921\"]],\"type\":\"histogram2dcontour\"}],\"histogram2d\":[{\"colorbar\":{\"outlinewidth\":0,\"ticks\":\"\"},\"colorscale\":[[0.0,\"#0d0887\"],[0.1111111111111111,\"#46039f\"],[0.2222222222222222,\"#7201a8\"],[0.3333333333333333,\"#9c179e\"],[0.4444444444444444,\"#bd3786\"],[0.5555555555555556,\"#d8576b\"],[0.6666666666666666,\"#ed7953\"],[0.7777777777777778,\"#fb9f3a\"],[0.8888888888888888,\"#fdca26\"],[1.0,\"#f0f921\"]],\"type\":\"histogram2d\"}],\"histogram\":[{\"marker\":{\"pattern\":{\"fillmode\":\"overlay\",\"size\":10,\"solidity\":0.2}},\"type\":\"histogram\"}],\"mesh3d\":[{\"colorbar\":{\"outlinewidth\":0,\"ticks\":\"\"},\"type\":\"mesh3d\"}],\"parcoords\":[{\"line\":{\"colorbar\":{\"outlinewidth\":0,\"ticks\":\"\"}},\"type\":\"parcoords\"}],\"pie\":[{\"automargin\":true,\"type\":\"pie\"}],\"scatter3d\":[{\"line\":{\"colorbar\":{\"outlinewidth\":0,\"ticks\":\"\"}},\"marker\":{\"colorbar\":{\"outlinewidth\":0,\"ticks\":\"\"}},\"type\":\"scatter3d\"}],\"scattercarpet\":[{\"marker\":{\"colorbar\":{\"outlinewidth\":0,\"ticks\":\"\"}},\"type\":\"scattercarpet\"}],\"scattergeo\":[{\"marker\":{\"colorbar\":{\"outlinewidth\":0,\"ticks\":\"\"}},\"type\":\"scattergeo\"}],\"scattergl\":[{\"marker\":{\"colorbar\":{\"outlinewidth\":0,\"ticks\":\"\"}},\"type\":\"scattergl\"}],\"scattermapbox\":[{\"marker\":{\"colorbar\":{\"outlinewidth\":0,\"ticks\":\"\"}},\"type\":\"scattermapbox\"}],\"scatterpolargl\":[{\"marker\":{\"colorbar\":{\"outlinewidth\":0,\"ticks\":\"\"}},\"type\":\"scatterpolargl\"}],\"scatterpolar\":[{\"marker\":{\"colorbar\":{\"outlinewidth\":0,\"ticks\":\"\"}},\"type\":\"scatterpolar\"}],\"scatter\":[{\"fillpattern\":{\"fillmode\":\"overlay\",\"size\":10,\"solidity\":0.2},\"type\":\"scatter\"}],\"scatterternary\":[{\"marker\":{\"colorbar\":{\"outlinewidth\":0,\"ticks\":\"\"}},\"type\":\"scatterternary\"}],\"surface\":[{\"colorbar\":{\"outlinewidth\":0,\"ticks\":\"\"},\"colorscale\":[[0.0,\"#0d0887\"],[0.1111111111111111,\"#46039f\"],[0.2222222222222222,\"#7201a8\"],[0.3333333333333333,\"#9c179e\"],[0.4444444444444444,\"#bd3786\"],[0.5555555555555556,\"#d8576b\"],[0.6666666666666666,\"#ed7953\"],[0.7777777777777778,\"#fb9f3a\"],[0.8888888888888888,\"#fdca26\"],[1.0,\"#f0f921\"]],\"type\":\"surface\"}],\"table\":[{\"cells\":{\"fill\":{\"color\":\"#EBF0F8\"},\"line\":{\"color\":\"white\"}},\"header\":{\"fill\":{\"color\":\"#C8D4E3\"},\"line\":{\"color\":\"white\"}},\"type\":\"table\"}]},\"layout\":{\"annotationdefaults\":{\"arrowcolor\":\"#2a3f5f\",\"arrowhead\":0,\"arrowwidth\":1},\"autotypenumbers\":\"strict\",\"coloraxis\":{\"colorbar\":{\"outlinewidth\":0,\"ticks\":\"\"}},\"colorscale\":{\"diverging\":[[0,\"#8e0152\"],[0.1,\"#c51b7d\"],[0.2,\"#de77ae\"],[0.3,\"#f1b6da\"],[0.4,\"#fde0ef\"],[0.5,\"#f7f7f7\"],[0.6,\"#e6f5d0\"],[0.7,\"#b8e186\"],[0.8,\"#7fbc41\"],[0.9,\"#4d9221\"],[1,\"#276419\"]],\"sequential\":[[0.0,\"#0d0887\"],[0.1111111111111111,\"#46039f\"],[0.2222222222222222,\"#7201a8\"],[0.3333333333333333,\"#9c179e\"],[0.4444444444444444,\"#bd3786\"],[0.5555555555555556,\"#d8576b\"],[0.6666666666666666,\"#ed7953\"],[0.7777777777777778,\"#fb9f3a\"],[0.8888888888888888,\"#fdca26\"],[1.0,\"#f0f921\"]],\"sequentialminus\":[[0.0,\"#0d0887\"],[0.1111111111111111,\"#46039f\"],[0.2222222222222222,\"#7201a8\"],[0.3333333333333333,\"#9c179e\"],[0.4444444444444444,\"#bd3786\"],[0.5555555555555556,\"#d8576b\"],[0.6666666666666666,\"#ed7953\"],[0.7777777777777778,\"#fb9f3a\"],[0.8888888888888888,\"#fdca26\"],[1.0,\"#f0f921\"]]},\"colorway\":[\"#636efa\",\"#EF553B\",\"#00cc96\",\"#ab63fa\",\"#FFA15A\",\"#19d3f3\",\"#FF6692\",\"#B6E880\",\"#FF97FF\",\"#FECB52\"],\"font\":{\"color\":\"#2a3f5f\"},\"geo\":{\"bgcolor\":\"white\",\"lakecolor\":\"white\",\"landcolor\":\"#E5ECF6\",\"showlakes\":true,\"showland\":true,\"subunitcolor\":\"white\"},\"hoverlabel\":{\"align\":\"left\"},\"hovermode\":\"closest\",\"mapbox\":{\"style\":\"light\"},\"paper_bgcolor\":\"white\",\"plot_bgcolor\":\"#E5ECF6\",\"polar\":{\"angularaxis\":{\"gridcolor\":\"white\",\"linecolor\":\"white\",\"ticks\":\"\"},\"bgcolor\":\"#E5ECF6\",\"radialaxis\":{\"gridcolor\":\"white\",\"linecolor\":\"white\",\"ticks\":\"\"}},\"scene\":{\"xaxis\":{\"backgroundcolor\":\"#E5ECF6\",\"gridcolor\":\"white\",\"gridwidth\":2,\"linecolor\":\"white\",\"showbackground\":true,\"ticks\":\"\",\"zerolinecolor\":\"white\"},\"yaxis\":{\"backgroundcolor\":\"#E5ECF6\",\"gridcolor\":\"white\",\"gridwidth\":2,\"linecolor\":\"white\",\"showbackground\":true,\"ticks\":\"\",\"zerolinecolor\":\"white\"},\"zaxis\":{\"backgroundcolor\":\"#E5ECF6\",\"gridcolor\":\"white\",\"gridwidth\":2,\"linecolor\":\"white\",\"showbackground\":true,\"ticks\":\"\",\"zerolinecolor\":\"white\"}},\"shapedefaults\":{\"line\":{\"color\":\"#2a3f5f\"}},\"ternary\":{\"aaxis\":{\"gridcolor\":\"white\",\"linecolor\":\"white\",\"ticks\":\"\"},\"baxis\":{\"gridcolor\":\"white\",\"linecolor\":\"white\",\"ticks\":\"\"},\"bgcolor\":\"#E5ECF6\",\"caxis\":{\"gridcolor\":\"white\",\"linecolor\":\"white\",\"ticks\":\"\"}},\"title\":{\"x\":0.05},\"xaxis\":{\"automargin\":true,\"gridcolor\":\"white\",\"linecolor\":\"white\",\"ticks\":\"\",\"title\":{\"standoff\":15},\"zerolinecolor\":\"white\",\"zerolinewidth\":2},\"yaxis\":{\"automargin\":true,\"gridcolor\":\"white\",\"linecolor\":\"white\",\"ticks\":\"\",\"title\":{\"standoff\":15},\"zerolinecolor\":\"white\",\"zerolinewidth\":2}}},\"title\":{\"font\":{\"color\":\"#4D5663\"}},\"xaxis\":{\"gridcolor\":\"#E1E5ED\",\"showgrid\":true,\"tickfont\":{\"color\":\"#4D5663\"},\"title\":{\"font\":{\"color\":\"#4D5663\"},\"text\":\"\"},\"zerolinecolor\":\"#E1E5ED\"},\"yaxis\":{\"gridcolor\":\"#E1E5ED\",\"showgrid\":true,\"tickfont\":{\"color\":\"#4D5663\"},\"title\":{\"font\":{\"color\":\"#4D5663\"},\"text\":\"\"},\"zerolinecolor\":\"#E1E5ED\"}},                        {\"showLink\": true, \"linkText\": \"Export to plot.ly\", \"plotlyServerURL\": \"https://plot.ly\", \"responsive\": true}                    ).then(function(){\n",
       "                            \n",
       "var gd = document.getElementById('1e0d7713-e2fa-4f60-ac89-fb013bf136da');\n",
       "var x = new MutationObserver(function (mutations, observer) {{\n",
       "        var display = window.getComputedStyle(gd).display;\n",
       "        if (!display || display === 'none') {{\n",
       "            console.log([gd, 'removed!']);\n",
       "            Plotly.purge(gd);\n",
       "            observer.disconnect();\n",
       "        }}\n",
       "}});\n",
       "\n",
       "// Listen for the removal of the full notebook cells\n",
       "var notebookContainer = gd.closest('#notebook-container');\n",
       "if (notebookContainer) {{\n",
       "    x.observe(notebookContainer, {childList: true});\n",
       "}}\n",
       "\n",
       "// Listen for the clearing of the current output cell\n",
       "var outputEl = gd.closest('.output');\n",
       "if (outputEl) {{\n",
       "    x.observe(outputEl, {childList: true});\n",
       "}}\n",
       "\n",
       "                        })                };                });            </script>        </div>"
      ]
     },
     "metadata": {},
     "output_type": "display_data"
    }
   ],
   "source": [
    "df2.iplot(kind='bar',x='Category',y='Values')"
   ]
  },
  {
   "cell_type": "code",
   "execution_count": 12,
   "metadata": {
    "collapsed": false,
    "jupyter": {
     "outputs_hidden": false
    }
   },
   "outputs": [
    {
     "data": {
      "application/vnd.plotly.v1+json": {
       "config": {
        "linkText": "Export to plot.ly",
        "plotlyServerURL": "https://plot.ly",
        "showLink": true
       },
       "data": [
        {
         "marker": {
          "color": "rgba(255, 153, 51, 0.6)",
          "line": {
           "color": "rgba(255, 153, 51, 1.0)",
           "width": 1
          }
         },
         "name": "None",
         "orientation": "v",
         "text": "",
         "type": "bar",
         "x": [
          "A",
          "B",
          "C",
          "D"
         ],
         "y": [
          100,
          100,
          100,
          100
         ]
        }
       ],
       "layout": {
        "legend": {
         "bgcolor": "#F5F6F9",
         "font": {
          "color": "#4D5663"
         }
        },
        "paper_bgcolor": "#F5F6F9",
        "plot_bgcolor": "#F5F6F9",
        "template": {
         "data": {
          "bar": [
           {
            "error_x": {
             "color": "#2a3f5f"
            },
            "error_y": {
             "color": "#2a3f5f"
            },
            "marker": {
             "line": {
              "color": "#E5ECF6",
              "width": 0.5
             },
             "pattern": {
              "fillmode": "overlay",
              "size": 10,
              "solidity": 0.2
             }
            },
            "type": "bar"
           }
          ],
          "barpolar": [
           {
            "marker": {
             "line": {
              "color": "#E5ECF6",
              "width": 0.5
             },
             "pattern": {
              "fillmode": "overlay",
              "size": 10,
              "solidity": 0.2
             }
            },
            "type": "barpolar"
           }
          ],
          "carpet": [
           {
            "aaxis": {
             "endlinecolor": "#2a3f5f",
             "gridcolor": "white",
             "linecolor": "white",
             "minorgridcolor": "white",
             "startlinecolor": "#2a3f5f"
            },
            "baxis": {
             "endlinecolor": "#2a3f5f",
             "gridcolor": "white",
             "linecolor": "white",
             "minorgridcolor": "white",
             "startlinecolor": "#2a3f5f"
            },
            "type": "carpet"
           }
          ],
          "choropleth": [
           {
            "colorbar": {
             "outlinewidth": 0,
             "ticks": ""
            },
            "type": "choropleth"
           }
          ],
          "contour": [
           {
            "colorbar": {
             "outlinewidth": 0,
             "ticks": ""
            },
            "colorscale": [
             [
              0,
              "#0d0887"
             ],
             [
              0.1111111111111111,
              "#46039f"
             ],
             [
              0.2222222222222222,
              "#7201a8"
             ],
             [
              0.3333333333333333,
              "#9c179e"
             ],
             [
              0.4444444444444444,
              "#bd3786"
             ],
             [
              0.5555555555555556,
              "#d8576b"
             ],
             [
              0.6666666666666666,
              "#ed7953"
             ],
             [
              0.7777777777777778,
              "#fb9f3a"
             ],
             [
              0.8888888888888888,
              "#fdca26"
             ],
             [
              1,
              "#f0f921"
             ]
            ],
            "type": "contour"
           }
          ],
          "contourcarpet": [
           {
            "colorbar": {
             "outlinewidth": 0,
             "ticks": ""
            },
            "type": "contourcarpet"
           }
          ],
          "heatmap": [
           {
            "colorbar": {
             "outlinewidth": 0,
             "ticks": ""
            },
            "colorscale": [
             [
              0,
              "#0d0887"
             ],
             [
              0.1111111111111111,
              "#46039f"
             ],
             [
              0.2222222222222222,
              "#7201a8"
             ],
             [
              0.3333333333333333,
              "#9c179e"
             ],
             [
              0.4444444444444444,
              "#bd3786"
             ],
             [
              0.5555555555555556,
              "#d8576b"
             ],
             [
              0.6666666666666666,
              "#ed7953"
             ],
             [
              0.7777777777777778,
              "#fb9f3a"
             ],
             [
              0.8888888888888888,
              "#fdca26"
             ],
             [
              1,
              "#f0f921"
             ]
            ],
            "type": "heatmap"
           }
          ],
          "heatmapgl": [
           {
            "colorbar": {
             "outlinewidth": 0,
             "ticks": ""
            },
            "colorscale": [
             [
              0,
              "#0d0887"
             ],
             [
              0.1111111111111111,
              "#46039f"
             ],
             [
              0.2222222222222222,
              "#7201a8"
             ],
             [
              0.3333333333333333,
              "#9c179e"
             ],
             [
              0.4444444444444444,
              "#bd3786"
             ],
             [
              0.5555555555555556,
              "#d8576b"
             ],
             [
              0.6666666666666666,
              "#ed7953"
             ],
             [
              0.7777777777777778,
              "#fb9f3a"
             ],
             [
              0.8888888888888888,
              "#fdca26"
             ],
             [
              1,
              "#f0f921"
             ]
            ],
            "type": "heatmapgl"
           }
          ],
          "histogram": [
           {
            "marker": {
             "pattern": {
              "fillmode": "overlay",
              "size": 10,
              "solidity": 0.2
             }
            },
            "type": "histogram"
           }
          ],
          "histogram2d": [
           {
            "colorbar": {
             "outlinewidth": 0,
             "ticks": ""
            },
            "colorscale": [
             [
              0,
              "#0d0887"
             ],
             [
              0.1111111111111111,
              "#46039f"
             ],
             [
              0.2222222222222222,
              "#7201a8"
             ],
             [
              0.3333333333333333,
              "#9c179e"
             ],
             [
              0.4444444444444444,
              "#bd3786"
             ],
             [
              0.5555555555555556,
              "#d8576b"
             ],
             [
              0.6666666666666666,
              "#ed7953"
             ],
             [
              0.7777777777777778,
              "#fb9f3a"
             ],
             [
              0.8888888888888888,
              "#fdca26"
             ],
             [
              1,
              "#f0f921"
             ]
            ],
            "type": "histogram2d"
           }
          ],
          "histogram2dcontour": [
           {
            "colorbar": {
             "outlinewidth": 0,
             "ticks": ""
            },
            "colorscale": [
             [
              0,
              "#0d0887"
             ],
             [
              0.1111111111111111,
              "#46039f"
             ],
             [
              0.2222222222222222,
              "#7201a8"
             ],
             [
              0.3333333333333333,
              "#9c179e"
             ],
             [
              0.4444444444444444,
              "#bd3786"
             ],
             [
              0.5555555555555556,
              "#d8576b"
             ],
             [
              0.6666666666666666,
              "#ed7953"
             ],
             [
              0.7777777777777778,
              "#fb9f3a"
             ],
             [
              0.8888888888888888,
              "#fdca26"
             ],
             [
              1,
              "#f0f921"
             ]
            ],
            "type": "histogram2dcontour"
           }
          ],
          "mesh3d": [
           {
            "colorbar": {
             "outlinewidth": 0,
             "ticks": ""
            },
            "type": "mesh3d"
           }
          ],
          "parcoords": [
           {
            "line": {
             "colorbar": {
              "outlinewidth": 0,
              "ticks": ""
             }
            },
            "type": "parcoords"
           }
          ],
          "pie": [
           {
            "automargin": true,
            "type": "pie"
           }
          ],
          "scatter": [
           {
            "fillpattern": {
             "fillmode": "overlay",
             "size": 10,
             "solidity": 0.2
            },
            "type": "scatter"
           }
          ],
          "scatter3d": [
           {
            "line": {
             "colorbar": {
              "outlinewidth": 0,
              "ticks": ""
             }
            },
            "marker": {
             "colorbar": {
              "outlinewidth": 0,
              "ticks": ""
             }
            },
            "type": "scatter3d"
           }
          ],
          "scattercarpet": [
           {
            "marker": {
             "colorbar": {
              "outlinewidth": 0,
              "ticks": ""
             }
            },
            "type": "scattercarpet"
           }
          ],
          "scattergeo": [
           {
            "marker": {
             "colorbar": {
              "outlinewidth": 0,
              "ticks": ""
             }
            },
            "type": "scattergeo"
           }
          ],
          "scattergl": [
           {
            "marker": {
             "colorbar": {
              "outlinewidth": 0,
              "ticks": ""
             }
            },
            "type": "scattergl"
           }
          ],
          "scattermapbox": [
           {
            "marker": {
             "colorbar": {
              "outlinewidth": 0,
              "ticks": ""
             }
            },
            "type": "scattermapbox"
           }
          ],
          "scatterpolar": [
           {
            "marker": {
             "colorbar": {
              "outlinewidth": 0,
              "ticks": ""
             }
            },
            "type": "scatterpolar"
           }
          ],
          "scatterpolargl": [
           {
            "marker": {
             "colorbar": {
              "outlinewidth": 0,
              "ticks": ""
             }
            },
            "type": "scatterpolargl"
           }
          ],
          "scatterternary": [
           {
            "marker": {
             "colorbar": {
              "outlinewidth": 0,
              "ticks": ""
             }
            },
            "type": "scatterternary"
           }
          ],
          "surface": [
           {
            "colorbar": {
             "outlinewidth": 0,
             "ticks": ""
            },
            "colorscale": [
             [
              0,
              "#0d0887"
             ],
             [
              0.1111111111111111,
              "#46039f"
             ],
             [
              0.2222222222222222,
              "#7201a8"
             ],
             [
              0.3333333333333333,
              "#9c179e"
             ],
             [
              0.4444444444444444,
              "#bd3786"
             ],
             [
              0.5555555555555556,
              "#d8576b"
             ],
             [
              0.6666666666666666,
              "#ed7953"
             ],
             [
              0.7777777777777778,
              "#fb9f3a"
             ],
             [
              0.8888888888888888,
              "#fdca26"
             ],
             [
              1,
              "#f0f921"
             ]
            ],
            "type": "surface"
           }
          ],
          "table": [
           {
            "cells": {
             "fill": {
              "color": "#EBF0F8"
             },
             "line": {
              "color": "white"
             }
            },
            "header": {
             "fill": {
              "color": "#C8D4E3"
             },
             "line": {
              "color": "white"
             }
            },
            "type": "table"
           }
          ]
         },
         "layout": {
          "annotationdefaults": {
           "arrowcolor": "#2a3f5f",
           "arrowhead": 0,
           "arrowwidth": 1
          },
          "autotypenumbers": "strict",
          "coloraxis": {
           "colorbar": {
            "outlinewidth": 0,
            "ticks": ""
           }
          },
          "colorscale": {
           "diverging": [
            [
             0,
             "#8e0152"
            ],
            [
             0.1,
             "#c51b7d"
            ],
            [
             0.2,
             "#de77ae"
            ],
            [
             0.3,
             "#f1b6da"
            ],
            [
             0.4,
             "#fde0ef"
            ],
            [
             0.5,
             "#f7f7f7"
            ],
            [
             0.6,
             "#e6f5d0"
            ],
            [
             0.7,
             "#b8e186"
            ],
            [
             0.8,
             "#7fbc41"
            ],
            [
             0.9,
             "#4d9221"
            ],
            [
             1,
             "#276419"
            ]
           ],
           "sequential": [
            [
             0,
             "#0d0887"
            ],
            [
             0.1111111111111111,
             "#46039f"
            ],
            [
             0.2222222222222222,
             "#7201a8"
            ],
            [
             0.3333333333333333,
             "#9c179e"
            ],
            [
             0.4444444444444444,
             "#bd3786"
            ],
            [
             0.5555555555555556,
             "#d8576b"
            ],
            [
             0.6666666666666666,
             "#ed7953"
            ],
            [
             0.7777777777777778,
             "#fb9f3a"
            ],
            [
             0.8888888888888888,
             "#fdca26"
            ],
            [
             1,
             "#f0f921"
            ]
           ],
           "sequentialminus": [
            [
             0,
             "#0d0887"
            ],
            [
             0.1111111111111111,
             "#46039f"
            ],
            [
             0.2222222222222222,
             "#7201a8"
            ],
            [
             0.3333333333333333,
             "#9c179e"
            ],
            [
             0.4444444444444444,
             "#bd3786"
            ],
            [
             0.5555555555555556,
             "#d8576b"
            ],
            [
             0.6666666666666666,
             "#ed7953"
            ],
            [
             0.7777777777777778,
             "#fb9f3a"
            ],
            [
             0.8888888888888888,
             "#fdca26"
            ],
            [
             1,
             "#f0f921"
            ]
           ]
          },
          "colorway": [
           "#636efa",
           "#EF553B",
           "#00cc96",
           "#ab63fa",
           "#FFA15A",
           "#19d3f3",
           "#FF6692",
           "#B6E880",
           "#FF97FF",
           "#FECB52"
          ],
          "font": {
           "color": "#2a3f5f"
          },
          "geo": {
           "bgcolor": "white",
           "lakecolor": "white",
           "landcolor": "#E5ECF6",
           "showlakes": true,
           "showland": true,
           "subunitcolor": "white"
          },
          "hoverlabel": {
           "align": "left"
          },
          "hovermode": "closest",
          "mapbox": {
           "style": "light"
          },
          "paper_bgcolor": "white",
          "plot_bgcolor": "#E5ECF6",
          "polar": {
           "angularaxis": {
            "gridcolor": "white",
            "linecolor": "white",
            "ticks": ""
           },
           "bgcolor": "#E5ECF6",
           "radialaxis": {
            "gridcolor": "white",
            "linecolor": "white",
            "ticks": ""
           }
          },
          "scene": {
           "xaxis": {
            "backgroundcolor": "#E5ECF6",
            "gridcolor": "white",
            "gridwidth": 2,
            "linecolor": "white",
            "showbackground": true,
            "ticks": "",
            "zerolinecolor": "white"
           },
           "yaxis": {
            "backgroundcolor": "#E5ECF6",
            "gridcolor": "white",
            "gridwidth": 2,
            "linecolor": "white",
            "showbackground": true,
            "ticks": "",
            "zerolinecolor": "white"
           },
           "zaxis": {
            "backgroundcolor": "#E5ECF6",
            "gridcolor": "white",
            "gridwidth": 2,
            "linecolor": "white",
            "showbackground": true,
            "ticks": "",
            "zerolinecolor": "white"
           }
          },
          "shapedefaults": {
           "line": {
            "color": "#2a3f5f"
           }
          },
          "ternary": {
           "aaxis": {
            "gridcolor": "white",
            "linecolor": "white",
            "ticks": ""
           },
           "baxis": {
            "gridcolor": "white",
            "linecolor": "white",
            "ticks": ""
           },
           "bgcolor": "#E5ECF6",
           "caxis": {
            "gridcolor": "white",
            "linecolor": "white",
            "ticks": ""
           }
          },
          "title": {
           "x": 0.05
          },
          "xaxis": {
           "automargin": true,
           "gridcolor": "white",
           "linecolor": "white",
           "ticks": "",
           "title": {
            "standoff": 15
           },
           "zerolinecolor": "white",
           "zerolinewidth": 2
          },
          "yaxis": {
           "automargin": true,
           "gridcolor": "white",
           "linecolor": "white",
           "ticks": "",
           "title": {
            "standoff": 15
           },
           "zerolinecolor": "white",
           "zerolinewidth": 2
          }
         }
        },
        "title": {
         "font": {
          "color": "#4D5663"
         }
        },
        "xaxis": {
         "gridcolor": "#E1E5ED",
         "showgrid": true,
         "tickfont": {
          "color": "#4D5663"
         },
         "title": {
          "font": {
           "color": "#4D5663"
          },
          "text": ""
         },
         "zerolinecolor": "#E1E5ED"
        },
        "yaxis": {
         "gridcolor": "#E1E5ED",
         "showgrid": true,
         "tickfont": {
          "color": "#4D5663"
         },
         "title": {
          "font": {
           "color": "#4D5663"
          },
          "text": ""
         },
         "zerolinecolor": "#E1E5ED"
        }
       }
      },
      "text/html": [
       "<div>                            <div id=\"0660de3f-cc6e-4903-9c19-35d5fe605129\" class=\"plotly-graph-div\" style=\"height:525px; width:100%;\"></div>            <script type=\"text/javascript\">                require([\"plotly\"], function(Plotly) {                    window.PLOTLYENV=window.PLOTLYENV || {};\n",
       "                    window.PLOTLYENV.BASE_URL='https://plot.ly';                                    if (document.getElementById(\"0660de3f-cc6e-4903-9c19-35d5fe605129\")) {                    Plotly.newPlot(                        \"0660de3f-cc6e-4903-9c19-35d5fe605129\",                        [{\"marker\":{\"color\":\"rgba(255, 153, 51, 0.6)\",\"line\":{\"color\":\"rgba(255, 153, 51, 1.0)\",\"width\":1}},\"name\":\"None\",\"orientation\":\"v\",\"text\":\"\",\"x\":[\"A\",\"B\",\"C\",\"D\"],\"y\":[100,100,100,100],\"type\":\"bar\"}],                        {\"legend\":{\"bgcolor\":\"#F5F6F9\",\"font\":{\"color\":\"#4D5663\"}},\"paper_bgcolor\":\"#F5F6F9\",\"plot_bgcolor\":\"#F5F6F9\",\"template\":{\"data\":{\"barpolar\":[{\"marker\":{\"line\":{\"color\":\"#E5ECF6\",\"width\":0.5},\"pattern\":{\"fillmode\":\"overlay\",\"size\":10,\"solidity\":0.2}},\"type\":\"barpolar\"}],\"bar\":[{\"error_x\":{\"color\":\"#2a3f5f\"},\"error_y\":{\"color\":\"#2a3f5f\"},\"marker\":{\"line\":{\"color\":\"#E5ECF6\",\"width\":0.5},\"pattern\":{\"fillmode\":\"overlay\",\"size\":10,\"solidity\":0.2}},\"type\":\"bar\"}],\"carpet\":[{\"aaxis\":{\"endlinecolor\":\"#2a3f5f\",\"gridcolor\":\"white\",\"linecolor\":\"white\",\"minorgridcolor\":\"white\",\"startlinecolor\":\"#2a3f5f\"},\"baxis\":{\"endlinecolor\":\"#2a3f5f\",\"gridcolor\":\"white\",\"linecolor\":\"white\",\"minorgridcolor\":\"white\",\"startlinecolor\":\"#2a3f5f\"},\"type\":\"carpet\"}],\"choropleth\":[{\"colorbar\":{\"outlinewidth\":0,\"ticks\":\"\"},\"type\":\"choropleth\"}],\"contourcarpet\":[{\"colorbar\":{\"outlinewidth\":0,\"ticks\":\"\"},\"type\":\"contourcarpet\"}],\"contour\":[{\"colorbar\":{\"outlinewidth\":0,\"ticks\":\"\"},\"colorscale\":[[0.0,\"#0d0887\"],[0.1111111111111111,\"#46039f\"],[0.2222222222222222,\"#7201a8\"],[0.3333333333333333,\"#9c179e\"],[0.4444444444444444,\"#bd3786\"],[0.5555555555555556,\"#d8576b\"],[0.6666666666666666,\"#ed7953\"],[0.7777777777777778,\"#fb9f3a\"],[0.8888888888888888,\"#fdca26\"],[1.0,\"#f0f921\"]],\"type\":\"contour\"}],\"heatmapgl\":[{\"colorbar\":{\"outlinewidth\":0,\"ticks\":\"\"},\"colorscale\":[[0.0,\"#0d0887\"],[0.1111111111111111,\"#46039f\"],[0.2222222222222222,\"#7201a8\"],[0.3333333333333333,\"#9c179e\"],[0.4444444444444444,\"#bd3786\"],[0.5555555555555556,\"#d8576b\"],[0.6666666666666666,\"#ed7953\"],[0.7777777777777778,\"#fb9f3a\"],[0.8888888888888888,\"#fdca26\"],[1.0,\"#f0f921\"]],\"type\":\"heatmapgl\"}],\"heatmap\":[{\"colorbar\":{\"outlinewidth\":0,\"ticks\":\"\"},\"colorscale\":[[0.0,\"#0d0887\"],[0.1111111111111111,\"#46039f\"],[0.2222222222222222,\"#7201a8\"],[0.3333333333333333,\"#9c179e\"],[0.4444444444444444,\"#bd3786\"],[0.5555555555555556,\"#d8576b\"],[0.6666666666666666,\"#ed7953\"],[0.7777777777777778,\"#fb9f3a\"],[0.8888888888888888,\"#fdca26\"],[1.0,\"#f0f921\"]],\"type\":\"heatmap\"}],\"histogram2dcontour\":[{\"colorbar\":{\"outlinewidth\":0,\"ticks\":\"\"},\"colorscale\":[[0.0,\"#0d0887\"],[0.1111111111111111,\"#46039f\"],[0.2222222222222222,\"#7201a8\"],[0.3333333333333333,\"#9c179e\"],[0.4444444444444444,\"#bd3786\"],[0.5555555555555556,\"#d8576b\"],[0.6666666666666666,\"#ed7953\"],[0.7777777777777778,\"#fb9f3a\"],[0.8888888888888888,\"#fdca26\"],[1.0,\"#f0f921\"]],\"type\":\"histogram2dcontour\"}],\"histogram2d\":[{\"colorbar\":{\"outlinewidth\":0,\"ticks\":\"\"},\"colorscale\":[[0.0,\"#0d0887\"],[0.1111111111111111,\"#46039f\"],[0.2222222222222222,\"#7201a8\"],[0.3333333333333333,\"#9c179e\"],[0.4444444444444444,\"#bd3786\"],[0.5555555555555556,\"#d8576b\"],[0.6666666666666666,\"#ed7953\"],[0.7777777777777778,\"#fb9f3a\"],[0.8888888888888888,\"#fdca26\"],[1.0,\"#f0f921\"]],\"type\":\"histogram2d\"}],\"histogram\":[{\"marker\":{\"pattern\":{\"fillmode\":\"overlay\",\"size\":10,\"solidity\":0.2}},\"type\":\"histogram\"}],\"mesh3d\":[{\"colorbar\":{\"outlinewidth\":0,\"ticks\":\"\"},\"type\":\"mesh3d\"}],\"parcoords\":[{\"line\":{\"colorbar\":{\"outlinewidth\":0,\"ticks\":\"\"}},\"type\":\"parcoords\"}],\"pie\":[{\"automargin\":true,\"type\":\"pie\"}],\"scatter3d\":[{\"line\":{\"colorbar\":{\"outlinewidth\":0,\"ticks\":\"\"}},\"marker\":{\"colorbar\":{\"outlinewidth\":0,\"ticks\":\"\"}},\"type\":\"scatter3d\"}],\"scattercarpet\":[{\"marker\":{\"colorbar\":{\"outlinewidth\":0,\"ticks\":\"\"}},\"type\":\"scattercarpet\"}],\"scattergeo\":[{\"marker\":{\"colorbar\":{\"outlinewidth\":0,\"ticks\":\"\"}},\"type\":\"scattergeo\"}],\"scattergl\":[{\"marker\":{\"colorbar\":{\"outlinewidth\":0,\"ticks\":\"\"}},\"type\":\"scattergl\"}],\"scattermapbox\":[{\"marker\":{\"colorbar\":{\"outlinewidth\":0,\"ticks\":\"\"}},\"type\":\"scattermapbox\"}],\"scatterpolargl\":[{\"marker\":{\"colorbar\":{\"outlinewidth\":0,\"ticks\":\"\"}},\"type\":\"scatterpolargl\"}],\"scatterpolar\":[{\"marker\":{\"colorbar\":{\"outlinewidth\":0,\"ticks\":\"\"}},\"type\":\"scatterpolar\"}],\"scatter\":[{\"fillpattern\":{\"fillmode\":\"overlay\",\"size\":10,\"solidity\":0.2},\"type\":\"scatter\"}],\"scatterternary\":[{\"marker\":{\"colorbar\":{\"outlinewidth\":0,\"ticks\":\"\"}},\"type\":\"scatterternary\"}],\"surface\":[{\"colorbar\":{\"outlinewidth\":0,\"ticks\":\"\"},\"colorscale\":[[0.0,\"#0d0887\"],[0.1111111111111111,\"#46039f\"],[0.2222222222222222,\"#7201a8\"],[0.3333333333333333,\"#9c179e\"],[0.4444444444444444,\"#bd3786\"],[0.5555555555555556,\"#d8576b\"],[0.6666666666666666,\"#ed7953\"],[0.7777777777777778,\"#fb9f3a\"],[0.8888888888888888,\"#fdca26\"],[1.0,\"#f0f921\"]],\"type\":\"surface\"}],\"table\":[{\"cells\":{\"fill\":{\"color\":\"#EBF0F8\"},\"line\":{\"color\":\"white\"}},\"header\":{\"fill\":{\"color\":\"#C8D4E3\"},\"line\":{\"color\":\"white\"}},\"type\":\"table\"}]},\"layout\":{\"annotationdefaults\":{\"arrowcolor\":\"#2a3f5f\",\"arrowhead\":0,\"arrowwidth\":1},\"autotypenumbers\":\"strict\",\"coloraxis\":{\"colorbar\":{\"outlinewidth\":0,\"ticks\":\"\"}},\"colorscale\":{\"diverging\":[[0,\"#8e0152\"],[0.1,\"#c51b7d\"],[0.2,\"#de77ae\"],[0.3,\"#f1b6da\"],[0.4,\"#fde0ef\"],[0.5,\"#f7f7f7\"],[0.6,\"#e6f5d0\"],[0.7,\"#b8e186\"],[0.8,\"#7fbc41\"],[0.9,\"#4d9221\"],[1,\"#276419\"]],\"sequential\":[[0.0,\"#0d0887\"],[0.1111111111111111,\"#46039f\"],[0.2222222222222222,\"#7201a8\"],[0.3333333333333333,\"#9c179e\"],[0.4444444444444444,\"#bd3786\"],[0.5555555555555556,\"#d8576b\"],[0.6666666666666666,\"#ed7953\"],[0.7777777777777778,\"#fb9f3a\"],[0.8888888888888888,\"#fdca26\"],[1.0,\"#f0f921\"]],\"sequentialminus\":[[0.0,\"#0d0887\"],[0.1111111111111111,\"#46039f\"],[0.2222222222222222,\"#7201a8\"],[0.3333333333333333,\"#9c179e\"],[0.4444444444444444,\"#bd3786\"],[0.5555555555555556,\"#d8576b\"],[0.6666666666666666,\"#ed7953\"],[0.7777777777777778,\"#fb9f3a\"],[0.8888888888888888,\"#fdca26\"],[1.0,\"#f0f921\"]]},\"colorway\":[\"#636efa\",\"#EF553B\",\"#00cc96\",\"#ab63fa\",\"#FFA15A\",\"#19d3f3\",\"#FF6692\",\"#B6E880\",\"#FF97FF\",\"#FECB52\"],\"font\":{\"color\":\"#2a3f5f\"},\"geo\":{\"bgcolor\":\"white\",\"lakecolor\":\"white\",\"landcolor\":\"#E5ECF6\",\"showlakes\":true,\"showland\":true,\"subunitcolor\":\"white\"},\"hoverlabel\":{\"align\":\"left\"},\"hovermode\":\"closest\",\"mapbox\":{\"style\":\"light\"},\"paper_bgcolor\":\"white\",\"plot_bgcolor\":\"#E5ECF6\",\"polar\":{\"angularaxis\":{\"gridcolor\":\"white\",\"linecolor\":\"white\",\"ticks\":\"\"},\"bgcolor\":\"#E5ECF6\",\"radialaxis\":{\"gridcolor\":\"white\",\"linecolor\":\"white\",\"ticks\":\"\"}},\"scene\":{\"xaxis\":{\"backgroundcolor\":\"#E5ECF6\",\"gridcolor\":\"white\",\"gridwidth\":2,\"linecolor\":\"white\",\"showbackground\":true,\"ticks\":\"\",\"zerolinecolor\":\"white\"},\"yaxis\":{\"backgroundcolor\":\"#E5ECF6\",\"gridcolor\":\"white\",\"gridwidth\":2,\"linecolor\":\"white\",\"showbackground\":true,\"ticks\":\"\",\"zerolinecolor\":\"white\"},\"zaxis\":{\"backgroundcolor\":\"#E5ECF6\",\"gridcolor\":\"white\",\"gridwidth\":2,\"linecolor\":\"white\",\"showbackground\":true,\"ticks\":\"\",\"zerolinecolor\":\"white\"}},\"shapedefaults\":{\"line\":{\"color\":\"#2a3f5f\"}},\"ternary\":{\"aaxis\":{\"gridcolor\":\"white\",\"linecolor\":\"white\",\"ticks\":\"\"},\"baxis\":{\"gridcolor\":\"white\",\"linecolor\":\"white\",\"ticks\":\"\"},\"bgcolor\":\"#E5ECF6\",\"caxis\":{\"gridcolor\":\"white\",\"linecolor\":\"white\",\"ticks\":\"\"}},\"title\":{\"x\":0.05},\"xaxis\":{\"automargin\":true,\"gridcolor\":\"white\",\"linecolor\":\"white\",\"ticks\":\"\",\"title\":{\"standoff\":15},\"zerolinecolor\":\"white\",\"zerolinewidth\":2},\"yaxis\":{\"automargin\":true,\"gridcolor\":\"white\",\"linecolor\":\"white\",\"ticks\":\"\",\"title\":{\"standoff\":15},\"zerolinecolor\":\"white\",\"zerolinewidth\":2}}},\"title\":{\"font\":{\"color\":\"#4D5663\"}},\"xaxis\":{\"gridcolor\":\"#E1E5ED\",\"showgrid\":true,\"tickfont\":{\"color\":\"#4D5663\"},\"title\":{\"font\":{\"color\":\"#4D5663\"},\"text\":\"\"},\"zerolinecolor\":\"#E1E5ED\"},\"yaxis\":{\"gridcolor\":\"#E1E5ED\",\"showgrid\":true,\"tickfont\":{\"color\":\"#4D5663\"},\"title\":{\"font\":{\"color\":\"#4D5663\"},\"text\":\"\"},\"zerolinecolor\":\"#E1E5ED\"}},                        {\"showLink\": true, \"linkText\": \"Export to plot.ly\", \"plotlyServerURL\": \"https://plot.ly\", \"responsive\": true}                    ).then(function(){\n",
       "                            \n",
       "var gd = document.getElementById('0660de3f-cc6e-4903-9c19-35d5fe605129');\n",
       "var x = new MutationObserver(function (mutations, observer) {{\n",
       "        var display = window.getComputedStyle(gd).display;\n",
       "        if (!display || display === 'none') {{\n",
       "            console.log([gd, 'removed!']);\n",
       "            Plotly.purge(gd);\n",
       "            observer.disconnect();\n",
       "        }}\n",
       "}});\n",
       "\n",
       "// Listen for the removal of the full notebook cells\n",
       "var notebookContainer = gd.closest('#notebook-container');\n",
       "if (notebookContainer) {{\n",
       "    x.observe(notebookContainer, {childList: true});\n",
       "}}\n",
       "\n",
       "// Listen for the clearing of the current output cell\n",
       "var outputEl = gd.closest('.output');\n",
       "if (outputEl) {{\n",
       "    x.observe(outputEl, {childList: true});\n",
       "}}\n",
       "\n",
       "                        })                };                });            </script>        </div>"
      ]
     },
     "metadata": {},
     "output_type": "display_data"
    }
   ],
   "source": [
    "df.count().iplot(kind='bar')"
   ]
  },
  {
   "cell_type": "markdown",
   "metadata": {},
   "source": [
    "## Boxplots"
   ]
  },
  {
   "cell_type": "code",
   "execution_count": 13,
   "metadata": {
    "collapsed": false,
    "jupyter": {
     "outputs_hidden": false
    }
   },
   "outputs": [
    {
     "data": {
      "application/vnd.plotly.v1+json": {
       "config": {
        "linkText": "Export to plot.ly",
        "plotlyServerURL": "https://plot.ly",
        "showLink": true
       },
       "data": [
        {
         "boxpoints": false,
         "line": {
          "width": 1.3
         },
         "marker": {
          "color": "rgba(255, 153, 51, 1.0)"
         },
         "name": "A",
         "orientation": "v",
         "type": "box",
         "y": [
          -0.3906035117543167,
          1.0863264715185994,
          0.6835253814650998,
          -0.23576141864914893,
          -0.4429545878166258,
          2.116343170175117,
          1.4473913506726221,
          0.569652553863101,
          -0.009092623081691979,
          -1.0582945442935632,
          -0.12084486928238401,
          0.08815152034967148,
          0.11959952693200762,
          -0.7254016820099657,
          -0.21947884771572385,
          0.6307412937895936,
          -0.2715854516702586,
          0.6774799956997187,
          -3.326632598527113,
          -1.1010555748854676,
          -0.8285736989645863,
          1.4286432413197285,
          -1.2863673982151753,
          0.5560943872450889,
          -1.2156580243428767,
          0.2907123370476229,
          -0.03962130114381719,
          0.6128214007748458,
          1.5909112248895954,
          0.5649731989364699,
          0.11915288705665236,
          -0.6470755860638769,
          0.284160040239183,
          2.600494959494294,
          -1.2022014874643814,
          -0.13223808754142752,
          -0.041316482136716834,
          0.5098732219097379,
          0.15915568444349057,
          -0.5043819681281224,
          -0.3556156798004133,
          -0.3796013635814211,
          -1.8593197564762267,
          0.8978164798024615,
          0.39446349009737763,
          -0.694784547578885,
          0.26880235000994757,
          0.6167174702859992,
          -0.4997994420796771,
          0.4450096699471989,
          -0.8847488445344148,
          1.0987983381132622,
          -0.8452209252813302,
          -1.0648063360549604,
          -0.19084391043675195,
          -0.15859338257624883,
          0.7630611129237804,
          3.2291066281589886,
          0.6929317663642419,
          -0.5838146426552702,
          0.5861013284436394,
          -1.2650129403147923,
          -0.9874629601084706,
          0.22189992221823152,
          0.1070480664013499,
          -0.020257070664600894,
          0.540074434383443,
          -1.1153734802213902,
          -0.5408456367874344,
          -0.9363710338016914,
          -0.8768419048054417,
          0.5757258953442429,
          1.1302549841946514,
          1.0141595421180447,
          0.04382098826360184,
          1.0850336979622708,
          2.3157010748108156,
          -0.5705093840098091,
          1.9021376615749161,
          0.6295200030080252,
          -0.5850574454103049,
          1.0035871157471201,
          0.8792469474737475,
          -1.1340408358411769,
          0.1601995205845725,
          -0.024707485401965698,
          0.6120477835646161,
          0.8923372998260404,
          -1.3152338654473736,
          0.3878815351547292,
          0.7210458168234605,
          -2.41264623404743,
          -0.3959192713590546,
          0.8869462669540071,
          -0.035460269728471466,
          -0.9470516684026542,
          -0.4392408054657591,
          -1.1946784087205802,
          1.0776855106669865,
          0.5440523475359473
         ]
        },
        {
         "boxpoints": false,
         "line": {
          "width": 1.3
         },
         "marker": {
          "color": "rgba(55, 128, 191, 1.0)"
         },
         "name": "B",
         "orientation": "v",
         "type": "box",
         "y": [
          0.9059599971152463,
          1.2640403590421745,
          -0.2807537530635768,
          0.06402790036215945,
          -0.3766235233694587,
          -0.10132459774762158,
          0.5339861080892987,
          -1.8643420708091076,
          -1.661866586796738,
          2.3569785219679438,
          0.8725438525555298,
          -1.9104769189833894,
          -0.255949299328033,
          -0.39668839332448974,
          -0.3134606308667052,
          0.350746961585668,
          1.5778418522684001,
          -0.7885120606107235,
          -0.37433000133476685,
          -0.7865830089210104,
          -0.07517524873421455,
          -0.44288240707585064,
          0.5137908325133144,
          -1.121977505222089,
          -0.03568683511645622,
          -1.7924711458135418,
          1.5029017374563711,
          0.06433630297088112,
          0.020239781673339292,
          -0.29025246002340094,
          -1.1302539905725308,
          -0.18947146526901348,
          0.42760165568481256,
          0.333016541738766,
          0.3267043674060358,
          -1.0513974533576986,
          0.3774706999121592,
          -0.24496204262494045,
          -0.5265156710485509,
          0.6463574886324186,
          -0.6767948282602794,
          -0.7166772868544358,
          0.560351760893181,
          -0.38743902854119106,
          1.6019552050879209,
          0.011477146477320555,
          -1.110362746013105,
          1.1481440836003125,
          0.23362353676972208,
          0.27168211675893295,
          -0.16882921026742742,
          -1.6965335749826864,
          0.223151048282374,
          1.3100580898431096,
          1.4736784282794164,
          -1.0640125173800254,
          0.9050701400953132,
          0.48767629647396676,
          0.6753774281301449,
          -0.5754626651176231,
          0.6040043802592154,
          1.265348899405205,
          -1.0762057552710116,
          -0.11111384920458972,
          0.09464773574212813,
          1.0547675685231737,
          -0.6448715282387144,
          0.7739440113180187,
          -0.4028863465882712,
          -0.6562669929880659,
          1.3215915296236977,
          -2.03936613444369,
          -0.43033095621917533,
          -1.0174206393367025,
          -0.4587717162908476,
          -0.5263286688595268,
          -0.5929967365131853,
          0.814656274814025,
          1.9808718424399285,
          0.8029333924830028,
          -0.9669195429938262,
          0.4864229162952104,
          0.24332058654426708,
          0.20638896725384728,
          -0.6328604773747971,
          0.9449775365738496,
          -0.5873652887040683,
          1.5405322330015419,
          1.4633251619674414,
          -0.7640730016069059,
          0.10094774101467074,
          -0.6472076918128246,
          1.5963909934782532,
          -0.28345811435467794,
          -1.708490142148577,
          0.3192433158479993,
          -0.7974039512022152,
          0.8490163670386164,
          0.7045434640122664,
          -0.05056336966839602
         ]
        },
        {
         "boxpoints": false,
         "line": {
          "width": 1.3
         },
         "marker": {
          "color": "rgba(50, 171, 96, 1.0)"
         },
         "name": "C",
         "orientation": "v",
         "type": "box",
         "y": [
          0.8145318541182838,
          0.7559868640780945,
          -0.7911693878578542,
          -0.4615667031492696,
          -0.4783289040760878,
          0.41729770253252063,
          0.4959169466569206,
          1.069497626033612,
          0.3485486302891891,
          2.661164504883503,
          0.06872972086560371,
          -0.6800710467989675,
          0.12254230232641224,
          -0.4665240443404823,
          -1.4727716602812868,
          0.20307054544264644,
          0.684646711845568,
          -0.1885740208259096,
          1.6183857998897144,
          0.1537157525615728,
          -0.9561403136584151,
          -0.7744198707005601,
          1.816049758642045,
          -1.3141725588917677,
          0.6392656826546046,
          1.3338745691339575,
          -1.9784023725066249,
          -0.43978825132042854,
          0.1842185908247415,
          1.128980410711298,
          -0.7398812125818858,
          -0.13534459356211892,
          0.6678329171676869,
          -0.12319027160122681,
          2.609227631075749,
          -0.3197219580123539,
          -0.03540317794825873,
          -0.19875004854742756,
          -1.1653338695859397,
          0.02476865467115096,
          -1.0524489299709388,
          -1.0069269640461846,
          -0.08492748607783955,
          -1.2376726858960687,
          0.3561928900176956,
          -0.4200699116139587,
          0.04367359830000804,
          -0.34702593862963504,
          0.9309256687532793,
          0.6540066397993411,
          0.060863063017891225,
          2.2388382465613623,
          0.461749405425871,
          0.9823961775581245,
          -0.9069023392607259,
          -0.10890028524264758,
          0.072195660308165,
          -1.4654208402487419,
          -0.48756523010174146,
          -0.1748413569213523,
          0.2958423956615726,
          -0.9078651568946134,
          -0.49871455986032504,
          0.86765113189569,
          -0.5157200773906159,
          -0.14679826941611732,
          -0.8193941354406362,
          1.5807464726721516,
          0.5547155914525256,
          -0.06331255074299061,
          0.5590242801159748,
          -0.4868604733850864,
          1.150543610681079,
          -0.15967700304585333,
          0.5479353647594309,
          -0.156085453412081,
          -0.2484684610355909,
          -0.08880987492712661,
          0.4264022097782739,
          0.1397244735637222,
          -0.8038027184363239,
          -0.38410478043784374,
          1.2277210047176843,
          0.05569434761720841,
          1.0877998578721246,
          0.9675907834442555,
          -0.09564093561689342,
          -0.30996700436951746,
          -0.6427387669266169,
          -1.1303473535166737,
          0.8146960467180471,
          -1.1534775927947547,
          0.7463461432108704,
          0.8333099781535035,
          -0.5051758692967644,
          -0.3213968776053241,
          -2.0864284182052497,
          -0.14603703244565186,
          -0.3453718629190423,
          1.7937217646897103
         ]
        },
        {
         "boxpoints": false,
         "line": {
          "width": 1.3
         },
         "marker": {
          "color": "rgba(128, 0, 128, 1.0)"
         },
         "name": "D",
         "orientation": "v",
         "type": "box",
         "y": [
          -0.9287969360385558,
          -2.6903461092469194,
          1.8624606059259496,
          2.65834186702288,
          -0.7980090896855742,
          -1.5827524498354613,
          0.2955470671139877,
          1.5502915705755398,
          -0.7979747735353135,
          0.6460701924717869,
          -0.936870420347587,
          -0.7592432746697397,
          1.2257802677559726,
          -0.8122393148359898,
          -1.5770245455675627,
          -1.9532608532826146,
          1.2498349738583459,
          -0.12032763768486186,
          0.19964616675881292,
          0.11654044840654534,
          0.4848809892741022,
          0.4484086937833366,
          -0.38956336565049554,
          1.896459297692075,
          0.8162856955544592,
          1.6229427799183003,
          0.23113477177927125,
          -1.0442775409802059,
          0.46572623833647436,
          0.4066816978124542,
          0.09326264462049069,
          0.255748905054573,
          1.000976696434357,
          -0.9422686315887814,
          0.5638625803494463,
          0.6232246258485489,
          2.0902670579021394,
          0.18039481439640082,
          -2.8043591150230585,
          -1.5406214467034285,
          -0.8619489271428574,
          0.1973368707344788,
          0.5951918906812148,
          -1.254950079480591,
          0.2672512673631738,
          0.1231761132113905,
          0.4282017663539288,
          -0.07417978796279026,
          0.5838737828287422,
          0.7383469895984776,
          -0.33571220914034955,
          -1.4460462320019074,
          -0.324141217027923,
          2.325284836253793,
          0.6250953404395978,
          1.0233025533589735,
          -0.3494082223162853,
          0.9026362239522017,
          0.18168725816791362,
          -2.6229803716139495,
          -0.27342525144437013,
          -0.1931244977852925,
          1.1051207832141565,
          0.45997066086433386,
          1.1761768520251474,
          0.013808034119401909,
          1.8428471092341046,
          0.9718762015792,
          -1.1871142872913143,
          -0.7942313824997717,
          0.6377742139850696,
          1.056253935397287,
          0.17432361359849946,
          -0.5707208881700466,
          0.47016231725700064,
          0.5202759059458038,
          0.17236170108375984,
          0.1591165564203543,
          -0.08043319862684438,
          0.9282097726527182,
          -2.089416374568016,
          -0.9026175672646589,
          -0.29388347696324646,
          2.241400722782147,
          -0.35882409026196266,
          1.0776875082017887,
          0.42773010628651903,
          0.4848173298231596,
          -0.25462632786313805,
          -1.6798298606013724,
          -0.8773900778879777,
          1.5634337277512937,
          0.10434311889015405,
          0.27654662387292034,
          -1.4777234322777808,
          -0.8514769391416811,
          -0.25176645385428903,
          -1.4987461162481623,
          1.0351018823675524,
          -1.4075092725501115
         ]
        }
       ],
       "layout": {
        "legend": {
         "bgcolor": "#F5F6F9",
         "font": {
          "color": "#4D5663"
         }
        },
        "paper_bgcolor": "#F5F6F9",
        "plot_bgcolor": "#F5F6F9",
        "template": {
         "data": {
          "bar": [
           {
            "error_x": {
             "color": "#2a3f5f"
            },
            "error_y": {
             "color": "#2a3f5f"
            },
            "marker": {
             "line": {
              "color": "#E5ECF6",
              "width": 0.5
             },
             "pattern": {
              "fillmode": "overlay",
              "size": 10,
              "solidity": 0.2
             }
            },
            "type": "bar"
           }
          ],
          "barpolar": [
           {
            "marker": {
             "line": {
              "color": "#E5ECF6",
              "width": 0.5
             },
             "pattern": {
              "fillmode": "overlay",
              "size": 10,
              "solidity": 0.2
             }
            },
            "type": "barpolar"
           }
          ],
          "carpet": [
           {
            "aaxis": {
             "endlinecolor": "#2a3f5f",
             "gridcolor": "white",
             "linecolor": "white",
             "minorgridcolor": "white",
             "startlinecolor": "#2a3f5f"
            },
            "baxis": {
             "endlinecolor": "#2a3f5f",
             "gridcolor": "white",
             "linecolor": "white",
             "minorgridcolor": "white",
             "startlinecolor": "#2a3f5f"
            },
            "type": "carpet"
           }
          ],
          "choropleth": [
           {
            "colorbar": {
             "outlinewidth": 0,
             "ticks": ""
            },
            "type": "choropleth"
           }
          ],
          "contour": [
           {
            "colorbar": {
             "outlinewidth": 0,
             "ticks": ""
            },
            "colorscale": [
             [
              0,
              "#0d0887"
             ],
             [
              0.1111111111111111,
              "#46039f"
             ],
             [
              0.2222222222222222,
              "#7201a8"
             ],
             [
              0.3333333333333333,
              "#9c179e"
             ],
             [
              0.4444444444444444,
              "#bd3786"
             ],
             [
              0.5555555555555556,
              "#d8576b"
             ],
             [
              0.6666666666666666,
              "#ed7953"
             ],
             [
              0.7777777777777778,
              "#fb9f3a"
             ],
             [
              0.8888888888888888,
              "#fdca26"
             ],
             [
              1,
              "#f0f921"
             ]
            ],
            "type": "contour"
           }
          ],
          "contourcarpet": [
           {
            "colorbar": {
             "outlinewidth": 0,
             "ticks": ""
            },
            "type": "contourcarpet"
           }
          ],
          "heatmap": [
           {
            "colorbar": {
             "outlinewidth": 0,
             "ticks": ""
            },
            "colorscale": [
             [
              0,
              "#0d0887"
             ],
             [
              0.1111111111111111,
              "#46039f"
             ],
             [
              0.2222222222222222,
              "#7201a8"
             ],
             [
              0.3333333333333333,
              "#9c179e"
             ],
             [
              0.4444444444444444,
              "#bd3786"
             ],
             [
              0.5555555555555556,
              "#d8576b"
             ],
             [
              0.6666666666666666,
              "#ed7953"
             ],
             [
              0.7777777777777778,
              "#fb9f3a"
             ],
             [
              0.8888888888888888,
              "#fdca26"
             ],
             [
              1,
              "#f0f921"
             ]
            ],
            "type": "heatmap"
           }
          ],
          "heatmapgl": [
           {
            "colorbar": {
             "outlinewidth": 0,
             "ticks": ""
            },
            "colorscale": [
             [
              0,
              "#0d0887"
             ],
             [
              0.1111111111111111,
              "#46039f"
             ],
             [
              0.2222222222222222,
              "#7201a8"
             ],
             [
              0.3333333333333333,
              "#9c179e"
             ],
             [
              0.4444444444444444,
              "#bd3786"
             ],
             [
              0.5555555555555556,
              "#d8576b"
             ],
             [
              0.6666666666666666,
              "#ed7953"
             ],
             [
              0.7777777777777778,
              "#fb9f3a"
             ],
             [
              0.8888888888888888,
              "#fdca26"
             ],
             [
              1,
              "#f0f921"
             ]
            ],
            "type": "heatmapgl"
           }
          ],
          "histogram": [
           {
            "marker": {
             "pattern": {
              "fillmode": "overlay",
              "size": 10,
              "solidity": 0.2
             }
            },
            "type": "histogram"
           }
          ],
          "histogram2d": [
           {
            "colorbar": {
             "outlinewidth": 0,
             "ticks": ""
            },
            "colorscale": [
             [
              0,
              "#0d0887"
             ],
             [
              0.1111111111111111,
              "#46039f"
             ],
             [
              0.2222222222222222,
              "#7201a8"
             ],
             [
              0.3333333333333333,
              "#9c179e"
             ],
             [
              0.4444444444444444,
              "#bd3786"
             ],
             [
              0.5555555555555556,
              "#d8576b"
             ],
             [
              0.6666666666666666,
              "#ed7953"
             ],
             [
              0.7777777777777778,
              "#fb9f3a"
             ],
             [
              0.8888888888888888,
              "#fdca26"
             ],
             [
              1,
              "#f0f921"
             ]
            ],
            "type": "histogram2d"
           }
          ],
          "histogram2dcontour": [
           {
            "colorbar": {
             "outlinewidth": 0,
             "ticks": ""
            },
            "colorscale": [
             [
              0,
              "#0d0887"
             ],
             [
              0.1111111111111111,
              "#46039f"
             ],
             [
              0.2222222222222222,
              "#7201a8"
             ],
             [
              0.3333333333333333,
              "#9c179e"
             ],
             [
              0.4444444444444444,
              "#bd3786"
             ],
             [
              0.5555555555555556,
              "#d8576b"
             ],
             [
              0.6666666666666666,
              "#ed7953"
             ],
             [
              0.7777777777777778,
              "#fb9f3a"
             ],
             [
              0.8888888888888888,
              "#fdca26"
             ],
             [
              1,
              "#f0f921"
             ]
            ],
            "type": "histogram2dcontour"
           }
          ],
          "mesh3d": [
           {
            "colorbar": {
             "outlinewidth": 0,
             "ticks": ""
            },
            "type": "mesh3d"
           }
          ],
          "parcoords": [
           {
            "line": {
             "colorbar": {
              "outlinewidth": 0,
              "ticks": ""
             }
            },
            "type": "parcoords"
           }
          ],
          "pie": [
           {
            "automargin": true,
            "type": "pie"
           }
          ],
          "scatter": [
           {
            "fillpattern": {
             "fillmode": "overlay",
             "size": 10,
             "solidity": 0.2
            },
            "type": "scatter"
           }
          ],
          "scatter3d": [
           {
            "line": {
             "colorbar": {
              "outlinewidth": 0,
              "ticks": ""
             }
            },
            "marker": {
             "colorbar": {
              "outlinewidth": 0,
              "ticks": ""
             }
            },
            "type": "scatter3d"
           }
          ],
          "scattercarpet": [
           {
            "marker": {
             "colorbar": {
              "outlinewidth": 0,
              "ticks": ""
             }
            },
            "type": "scattercarpet"
           }
          ],
          "scattergeo": [
           {
            "marker": {
             "colorbar": {
              "outlinewidth": 0,
              "ticks": ""
             }
            },
            "type": "scattergeo"
           }
          ],
          "scattergl": [
           {
            "marker": {
             "colorbar": {
              "outlinewidth": 0,
              "ticks": ""
             }
            },
            "type": "scattergl"
           }
          ],
          "scattermapbox": [
           {
            "marker": {
             "colorbar": {
              "outlinewidth": 0,
              "ticks": ""
             }
            },
            "type": "scattermapbox"
           }
          ],
          "scatterpolar": [
           {
            "marker": {
             "colorbar": {
              "outlinewidth": 0,
              "ticks": ""
             }
            },
            "type": "scatterpolar"
           }
          ],
          "scatterpolargl": [
           {
            "marker": {
             "colorbar": {
              "outlinewidth": 0,
              "ticks": ""
             }
            },
            "type": "scatterpolargl"
           }
          ],
          "scatterternary": [
           {
            "marker": {
             "colorbar": {
              "outlinewidth": 0,
              "ticks": ""
             }
            },
            "type": "scatterternary"
           }
          ],
          "surface": [
           {
            "colorbar": {
             "outlinewidth": 0,
             "ticks": ""
            },
            "colorscale": [
             [
              0,
              "#0d0887"
             ],
             [
              0.1111111111111111,
              "#46039f"
             ],
             [
              0.2222222222222222,
              "#7201a8"
             ],
             [
              0.3333333333333333,
              "#9c179e"
             ],
             [
              0.4444444444444444,
              "#bd3786"
             ],
             [
              0.5555555555555556,
              "#d8576b"
             ],
             [
              0.6666666666666666,
              "#ed7953"
             ],
             [
              0.7777777777777778,
              "#fb9f3a"
             ],
             [
              0.8888888888888888,
              "#fdca26"
             ],
             [
              1,
              "#f0f921"
             ]
            ],
            "type": "surface"
           }
          ],
          "table": [
           {
            "cells": {
             "fill": {
              "color": "#EBF0F8"
             },
             "line": {
              "color": "white"
             }
            },
            "header": {
             "fill": {
              "color": "#C8D4E3"
             },
             "line": {
              "color": "white"
             }
            },
            "type": "table"
           }
          ]
         },
         "layout": {
          "annotationdefaults": {
           "arrowcolor": "#2a3f5f",
           "arrowhead": 0,
           "arrowwidth": 1
          },
          "autotypenumbers": "strict",
          "coloraxis": {
           "colorbar": {
            "outlinewidth": 0,
            "ticks": ""
           }
          },
          "colorscale": {
           "diverging": [
            [
             0,
             "#8e0152"
            ],
            [
             0.1,
             "#c51b7d"
            ],
            [
             0.2,
             "#de77ae"
            ],
            [
             0.3,
             "#f1b6da"
            ],
            [
             0.4,
             "#fde0ef"
            ],
            [
             0.5,
             "#f7f7f7"
            ],
            [
             0.6,
             "#e6f5d0"
            ],
            [
             0.7,
             "#b8e186"
            ],
            [
             0.8,
             "#7fbc41"
            ],
            [
             0.9,
             "#4d9221"
            ],
            [
             1,
             "#276419"
            ]
           ],
           "sequential": [
            [
             0,
             "#0d0887"
            ],
            [
             0.1111111111111111,
             "#46039f"
            ],
            [
             0.2222222222222222,
             "#7201a8"
            ],
            [
             0.3333333333333333,
             "#9c179e"
            ],
            [
             0.4444444444444444,
             "#bd3786"
            ],
            [
             0.5555555555555556,
             "#d8576b"
            ],
            [
             0.6666666666666666,
             "#ed7953"
            ],
            [
             0.7777777777777778,
             "#fb9f3a"
            ],
            [
             0.8888888888888888,
             "#fdca26"
            ],
            [
             1,
             "#f0f921"
            ]
           ],
           "sequentialminus": [
            [
             0,
             "#0d0887"
            ],
            [
             0.1111111111111111,
             "#46039f"
            ],
            [
             0.2222222222222222,
             "#7201a8"
            ],
            [
             0.3333333333333333,
             "#9c179e"
            ],
            [
             0.4444444444444444,
             "#bd3786"
            ],
            [
             0.5555555555555556,
             "#d8576b"
            ],
            [
             0.6666666666666666,
             "#ed7953"
            ],
            [
             0.7777777777777778,
             "#fb9f3a"
            ],
            [
             0.8888888888888888,
             "#fdca26"
            ],
            [
             1,
             "#f0f921"
            ]
           ]
          },
          "colorway": [
           "#636efa",
           "#EF553B",
           "#00cc96",
           "#ab63fa",
           "#FFA15A",
           "#19d3f3",
           "#FF6692",
           "#B6E880",
           "#FF97FF",
           "#FECB52"
          ],
          "font": {
           "color": "#2a3f5f"
          },
          "geo": {
           "bgcolor": "white",
           "lakecolor": "white",
           "landcolor": "#E5ECF6",
           "showlakes": true,
           "showland": true,
           "subunitcolor": "white"
          },
          "hoverlabel": {
           "align": "left"
          },
          "hovermode": "closest",
          "mapbox": {
           "style": "light"
          },
          "paper_bgcolor": "white",
          "plot_bgcolor": "#E5ECF6",
          "polar": {
           "angularaxis": {
            "gridcolor": "white",
            "linecolor": "white",
            "ticks": ""
           },
           "bgcolor": "#E5ECF6",
           "radialaxis": {
            "gridcolor": "white",
            "linecolor": "white",
            "ticks": ""
           }
          },
          "scene": {
           "xaxis": {
            "backgroundcolor": "#E5ECF6",
            "gridcolor": "white",
            "gridwidth": 2,
            "linecolor": "white",
            "showbackground": true,
            "ticks": "",
            "zerolinecolor": "white"
           },
           "yaxis": {
            "backgroundcolor": "#E5ECF6",
            "gridcolor": "white",
            "gridwidth": 2,
            "linecolor": "white",
            "showbackground": true,
            "ticks": "",
            "zerolinecolor": "white"
           },
           "zaxis": {
            "backgroundcolor": "#E5ECF6",
            "gridcolor": "white",
            "gridwidth": 2,
            "linecolor": "white",
            "showbackground": true,
            "ticks": "",
            "zerolinecolor": "white"
           }
          },
          "shapedefaults": {
           "line": {
            "color": "#2a3f5f"
           }
          },
          "ternary": {
           "aaxis": {
            "gridcolor": "white",
            "linecolor": "white",
            "ticks": ""
           },
           "baxis": {
            "gridcolor": "white",
            "linecolor": "white",
            "ticks": ""
           },
           "bgcolor": "#E5ECF6",
           "caxis": {
            "gridcolor": "white",
            "linecolor": "white",
            "ticks": ""
           }
          },
          "title": {
           "x": 0.05
          },
          "xaxis": {
           "automargin": true,
           "gridcolor": "white",
           "linecolor": "white",
           "ticks": "",
           "title": {
            "standoff": 15
           },
           "zerolinecolor": "white",
           "zerolinewidth": 2
          },
          "yaxis": {
           "automargin": true,
           "gridcolor": "white",
           "linecolor": "white",
           "ticks": "",
           "title": {
            "standoff": 15
           },
           "zerolinecolor": "white",
           "zerolinewidth": 2
          }
         }
        },
        "title": {
         "font": {
          "color": "#4D5663"
         }
        },
        "xaxis": {
         "gridcolor": "#E1E5ED",
         "showgrid": true,
         "tickfont": {
          "color": "#4D5663"
         },
         "title": {
          "font": {
           "color": "#4D5663"
          },
          "text": ""
         },
         "zerolinecolor": "#E1E5ED"
        },
        "yaxis": {
         "gridcolor": "#E1E5ED",
         "showgrid": true,
         "tickfont": {
          "color": "#4D5663"
         },
         "title": {
          "font": {
           "color": "#4D5663"
          },
          "text": ""
         },
         "zerolinecolor": "#E1E5ED"
        }
       }
      },
      "text/html": [
       "<div>                            <div id=\"ed66256d-52b0-4aad-a57f-21a3008beb32\" class=\"plotly-graph-div\" style=\"height:525px; width:100%;\"></div>            <script type=\"text/javascript\">                require([\"plotly\"], function(Plotly) {                    window.PLOTLYENV=window.PLOTLYENV || {};\n",
       "                    window.PLOTLYENV.BASE_URL='https://plot.ly';                                    if (document.getElementById(\"ed66256d-52b0-4aad-a57f-21a3008beb32\")) {                    Plotly.newPlot(                        \"ed66256d-52b0-4aad-a57f-21a3008beb32\",                        [{\"boxpoints\":false,\"line\":{\"width\":1.3},\"marker\":{\"color\":\"rgba(255, 153, 51, 1.0)\"},\"name\":\"A\",\"orientation\":\"v\",\"y\":[-0.3906035117543167,1.0863264715185994,0.6835253814650998,-0.23576141864914893,-0.4429545878166258,2.116343170175117,1.4473913506726221,0.569652553863101,-0.009092623081691979,-1.0582945442935632,-0.12084486928238401,0.08815152034967148,0.11959952693200762,-0.7254016820099657,-0.21947884771572385,0.6307412937895936,-0.2715854516702586,0.6774799956997187,-3.326632598527113,-1.1010555748854676,-0.8285736989645863,1.4286432413197285,-1.2863673982151753,0.5560943872450889,-1.2156580243428767,0.2907123370476229,-0.03962130114381719,0.6128214007748458,1.5909112248895954,0.5649731989364699,0.11915288705665236,-0.6470755860638769,0.284160040239183,2.600494959494294,-1.2022014874643814,-0.13223808754142752,-0.041316482136716834,0.5098732219097379,0.15915568444349057,-0.5043819681281224,-0.3556156798004133,-0.3796013635814211,-1.8593197564762267,0.8978164798024615,0.39446349009737763,-0.694784547578885,0.26880235000994757,0.6167174702859992,-0.4997994420796771,0.4450096699471989,-0.8847488445344148,1.0987983381132622,-0.8452209252813302,-1.0648063360549604,-0.19084391043675195,-0.15859338257624883,0.7630611129237804,3.2291066281589886,0.6929317663642419,-0.5838146426552702,0.5861013284436394,-1.2650129403147923,-0.9874629601084706,0.22189992221823152,0.1070480664013499,-0.020257070664600894,0.540074434383443,-1.1153734802213902,-0.5408456367874344,-0.9363710338016914,-0.8768419048054417,0.5757258953442429,1.1302549841946514,1.0141595421180447,0.04382098826360184,1.0850336979622708,2.3157010748108156,-0.5705093840098091,1.9021376615749161,0.6295200030080252,-0.5850574454103049,1.0035871157471201,0.8792469474737475,-1.1340408358411769,0.1601995205845725,-0.024707485401965698,0.6120477835646161,0.8923372998260404,-1.3152338654473736,0.3878815351547292,0.7210458168234605,-2.41264623404743,-0.3959192713590546,0.8869462669540071,-0.035460269728471466,-0.9470516684026542,-0.4392408054657591,-1.1946784087205802,1.0776855106669865,0.5440523475359473],\"type\":\"box\"},{\"boxpoints\":false,\"line\":{\"width\":1.3},\"marker\":{\"color\":\"rgba(55, 128, 191, 1.0)\"},\"name\":\"B\",\"orientation\":\"v\",\"y\":[0.9059599971152463,1.2640403590421745,-0.2807537530635768,0.06402790036215945,-0.3766235233694587,-0.10132459774762158,0.5339861080892987,-1.8643420708091076,-1.661866586796738,2.3569785219679438,0.8725438525555298,-1.9104769189833894,-0.255949299328033,-0.39668839332448974,-0.3134606308667052,0.350746961585668,1.5778418522684001,-0.7885120606107235,-0.37433000133476685,-0.7865830089210104,-0.07517524873421455,-0.44288240707585064,0.5137908325133144,-1.121977505222089,-0.03568683511645622,-1.7924711458135418,1.5029017374563711,0.06433630297088112,0.020239781673339292,-0.29025246002340094,-1.1302539905725308,-0.18947146526901348,0.42760165568481256,0.333016541738766,0.3267043674060358,-1.0513974533576986,0.3774706999121592,-0.24496204262494045,-0.5265156710485509,0.6463574886324186,-0.6767948282602794,-0.7166772868544358,0.560351760893181,-0.38743902854119106,1.6019552050879209,0.011477146477320555,-1.110362746013105,1.1481440836003125,0.23362353676972208,0.27168211675893295,-0.16882921026742742,-1.6965335749826864,0.223151048282374,1.3100580898431096,1.4736784282794164,-1.0640125173800254,0.9050701400953132,0.48767629647396676,0.6753774281301449,-0.5754626651176231,0.6040043802592154,1.265348899405205,-1.0762057552710116,-0.11111384920458972,0.09464773574212813,1.0547675685231737,-0.6448715282387144,0.7739440113180187,-0.4028863465882712,-0.6562669929880659,1.3215915296236977,-2.03936613444369,-0.43033095621917533,-1.0174206393367025,-0.4587717162908476,-0.5263286688595268,-0.5929967365131853,0.814656274814025,1.9808718424399285,0.8029333924830028,-0.9669195429938262,0.4864229162952104,0.24332058654426708,0.20638896725384728,-0.6328604773747971,0.9449775365738496,-0.5873652887040683,1.5405322330015419,1.4633251619674414,-0.7640730016069059,0.10094774101467074,-0.6472076918128246,1.5963909934782532,-0.28345811435467794,-1.708490142148577,0.3192433158479993,-0.7974039512022152,0.8490163670386164,0.7045434640122664,-0.05056336966839602],\"type\":\"box\"},{\"boxpoints\":false,\"line\":{\"width\":1.3},\"marker\":{\"color\":\"rgba(50, 171, 96, 1.0)\"},\"name\":\"C\",\"orientation\":\"v\",\"y\":[0.8145318541182838,0.7559868640780945,-0.7911693878578542,-0.4615667031492696,-0.4783289040760878,0.41729770253252063,0.4959169466569206,1.069497626033612,0.3485486302891891,2.661164504883503,0.06872972086560371,-0.6800710467989675,0.12254230232641224,-0.4665240443404823,-1.4727716602812868,0.20307054544264644,0.684646711845568,-0.1885740208259096,1.6183857998897144,0.1537157525615728,-0.9561403136584151,-0.7744198707005601,1.816049758642045,-1.3141725588917677,0.6392656826546046,1.3338745691339575,-1.9784023725066249,-0.43978825132042854,0.1842185908247415,1.128980410711298,-0.7398812125818858,-0.13534459356211892,0.6678329171676869,-0.12319027160122681,2.609227631075749,-0.3197219580123539,-0.03540317794825873,-0.19875004854742756,-1.1653338695859397,0.02476865467115096,-1.0524489299709388,-1.0069269640461846,-0.08492748607783955,-1.2376726858960687,0.3561928900176956,-0.4200699116139587,0.04367359830000804,-0.34702593862963504,0.9309256687532793,0.6540066397993411,0.060863063017891225,2.2388382465613623,0.461749405425871,0.9823961775581245,-0.9069023392607259,-0.10890028524264758,0.072195660308165,-1.4654208402487419,-0.48756523010174146,-0.1748413569213523,0.2958423956615726,-0.9078651568946134,-0.49871455986032504,0.86765113189569,-0.5157200773906159,-0.14679826941611732,-0.8193941354406362,1.5807464726721516,0.5547155914525256,-0.06331255074299061,0.5590242801159748,-0.4868604733850864,1.150543610681079,-0.15967700304585333,0.5479353647594309,-0.156085453412081,-0.2484684610355909,-0.08880987492712661,0.4264022097782739,0.1397244735637222,-0.8038027184363239,-0.38410478043784374,1.2277210047176843,0.05569434761720841,1.0877998578721246,0.9675907834442555,-0.09564093561689342,-0.30996700436951746,-0.6427387669266169,-1.1303473535166737,0.8146960467180471,-1.1534775927947547,0.7463461432108704,0.8333099781535035,-0.5051758692967644,-0.3213968776053241,-2.0864284182052497,-0.14603703244565186,-0.3453718629190423,1.7937217646897103],\"type\":\"box\"},{\"boxpoints\":false,\"line\":{\"width\":1.3},\"marker\":{\"color\":\"rgba(128, 0, 128, 1.0)\"},\"name\":\"D\",\"orientation\":\"v\",\"y\":[-0.9287969360385558,-2.6903461092469194,1.8624606059259496,2.65834186702288,-0.7980090896855742,-1.5827524498354613,0.2955470671139877,1.5502915705755398,-0.7979747735353135,0.6460701924717869,-0.936870420347587,-0.7592432746697397,1.2257802677559726,-0.8122393148359898,-1.5770245455675627,-1.9532608532826146,1.2498349738583459,-0.12032763768486186,0.19964616675881292,0.11654044840654534,0.4848809892741022,0.4484086937833366,-0.38956336565049554,1.896459297692075,0.8162856955544592,1.6229427799183003,0.23113477177927125,-1.0442775409802059,0.46572623833647436,0.4066816978124542,0.09326264462049069,0.255748905054573,1.000976696434357,-0.9422686315887814,0.5638625803494463,0.6232246258485489,2.0902670579021394,0.18039481439640082,-2.8043591150230585,-1.5406214467034285,-0.8619489271428574,0.1973368707344788,0.5951918906812148,-1.254950079480591,0.2672512673631738,0.1231761132113905,0.4282017663539288,-0.07417978796279026,0.5838737828287422,0.7383469895984776,-0.33571220914034955,-1.4460462320019074,-0.324141217027923,2.325284836253793,0.6250953404395978,1.0233025533589735,-0.3494082223162853,0.9026362239522017,0.18168725816791362,-2.6229803716139495,-0.27342525144437013,-0.1931244977852925,1.1051207832141565,0.45997066086433386,1.1761768520251474,0.013808034119401909,1.8428471092341046,0.9718762015792,-1.1871142872913143,-0.7942313824997717,0.6377742139850696,1.056253935397287,0.17432361359849946,-0.5707208881700466,0.47016231725700064,0.5202759059458038,0.17236170108375984,0.1591165564203543,-0.08043319862684438,0.9282097726527182,-2.089416374568016,-0.9026175672646589,-0.29388347696324646,2.241400722782147,-0.35882409026196266,1.0776875082017887,0.42773010628651903,0.4848173298231596,-0.25462632786313805,-1.6798298606013724,-0.8773900778879777,1.5634337277512937,0.10434311889015405,0.27654662387292034,-1.4777234322777808,-0.8514769391416811,-0.25176645385428903,-1.4987461162481623,1.0351018823675524,-1.4075092725501115],\"type\":\"box\"}],                        {\"legend\":{\"bgcolor\":\"#F5F6F9\",\"font\":{\"color\":\"#4D5663\"}},\"paper_bgcolor\":\"#F5F6F9\",\"plot_bgcolor\":\"#F5F6F9\",\"template\":{\"data\":{\"barpolar\":[{\"marker\":{\"line\":{\"color\":\"#E5ECF6\",\"width\":0.5},\"pattern\":{\"fillmode\":\"overlay\",\"size\":10,\"solidity\":0.2}},\"type\":\"barpolar\"}],\"bar\":[{\"error_x\":{\"color\":\"#2a3f5f\"},\"error_y\":{\"color\":\"#2a3f5f\"},\"marker\":{\"line\":{\"color\":\"#E5ECF6\",\"width\":0.5},\"pattern\":{\"fillmode\":\"overlay\",\"size\":10,\"solidity\":0.2}},\"type\":\"bar\"}],\"carpet\":[{\"aaxis\":{\"endlinecolor\":\"#2a3f5f\",\"gridcolor\":\"white\",\"linecolor\":\"white\",\"minorgridcolor\":\"white\",\"startlinecolor\":\"#2a3f5f\"},\"baxis\":{\"endlinecolor\":\"#2a3f5f\",\"gridcolor\":\"white\",\"linecolor\":\"white\",\"minorgridcolor\":\"white\",\"startlinecolor\":\"#2a3f5f\"},\"type\":\"carpet\"}],\"choropleth\":[{\"colorbar\":{\"outlinewidth\":0,\"ticks\":\"\"},\"type\":\"choropleth\"}],\"contourcarpet\":[{\"colorbar\":{\"outlinewidth\":0,\"ticks\":\"\"},\"type\":\"contourcarpet\"}],\"contour\":[{\"colorbar\":{\"outlinewidth\":0,\"ticks\":\"\"},\"colorscale\":[[0.0,\"#0d0887\"],[0.1111111111111111,\"#46039f\"],[0.2222222222222222,\"#7201a8\"],[0.3333333333333333,\"#9c179e\"],[0.4444444444444444,\"#bd3786\"],[0.5555555555555556,\"#d8576b\"],[0.6666666666666666,\"#ed7953\"],[0.7777777777777778,\"#fb9f3a\"],[0.8888888888888888,\"#fdca26\"],[1.0,\"#f0f921\"]],\"type\":\"contour\"}],\"heatmapgl\":[{\"colorbar\":{\"outlinewidth\":0,\"ticks\":\"\"},\"colorscale\":[[0.0,\"#0d0887\"],[0.1111111111111111,\"#46039f\"],[0.2222222222222222,\"#7201a8\"],[0.3333333333333333,\"#9c179e\"],[0.4444444444444444,\"#bd3786\"],[0.5555555555555556,\"#d8576b\"],[0.6666666666666666,\"#ed7953\"],[0.7777777777777778,\"#fb9f3a\"],[0.8888888888888888,\"#fdca26\"],[1.0,\"#f0f921\"]],\"type\":\"heatmapgl\"}],\"heatmap\":[{\"colorbar\":{\"outlinewidth\":0,\"ticks\":\"\"},\"colorscale\":[[0.0,\"#0d0887\"],[0.1111111111111111,\"#46039f\"],[0.2222222222222222,\"#7201a8\"],[0.3333333333333333,\"#9c179e\"],[0.4444444444444444,\"#bd3786\"],[0.5555555555555556,\"#d8576b\"],[0.6666666666666666,\"#ed7953\"],[0.7777777777777778,\"#fb9f3a\"],[0.8888888888888888,\"#fdca26\"],[1.0,\"#f0f921\"]],\"type\":\"heatmap\"}],\"histogram2dcontour\":[{\"colorbar\":{\"outlinewidth\":0,\"ticks\":\"\"},\"colorscale\":[[0.0,\"#0d0887\"],[0.1111111111111111,\"#46039f\"],[0.2222222222222222,\"#7201a8\"],[0.3333333333333333,\"#9c179e\"],[0.4444444444444444,\"#bd3786\"],[0.5555555555555556,\"#d8576b\"],[0.6666666666666666,\"#ed7953\"],[0.7777777777777778,\"#fb9f3a\"],[0.8888888888888888,\"#fdca26\"],[1.0,\"#f0f921\"]],\"type\":\"histogram2dcontour\"}],\"histogram2d\":[{\"colorbar\":{\"outlinewidth\":0,\"ticks\":\"\"},\"colorscale\":[[0.0,\"#0d0887\"],[0.1111111111111111,\"#46039f\"],[0.2222222222222222,\"#7201a8\"],[0.3333333333333333,\"#9c179e\"],[0.4444444444444444,\"#bd3786\"],[0.5555555555555556,\"#d8576b\"],[0.6666666666666666,\"#ed7953\"],[0.7777777777777778,\"#fb9f3a\"],[0.8888888888888888,\"#fdca26\"],[1.0,\"#f0f921\"]],\"type\":\"histogram2d\"}],\"histogram\":[{\"marker\":{\"pattern\":{\"fillmode\":\"overlay\",\"size\":10,\"solidity\":0.2}},\"type\":\"histogram\"}],\"mesh3d\":[{\"colorbar\":{\"outlinewidth\":0,\"ticks\":\"\"},\"type\":\"mesh3d\"}],\"parcoords\":[{\"line\":{\"colorbar\":{\"outlinewidth\":0,\"ticks\":\"\"}},\"type\":\"parcoords\"}],\"pie\":[{\"automargin\":true,\"type\":\"pie\"}],\"scatter3d\":[{\"line\":{\"colorbar\":{\"outlinewidth\":0,\"ticks\":\"\"}},\"marker\":{\"colorbar\":{\"outlinewidth\":0,\"ticks\":\"\"}},\"type\":\"scatter3d\"}],\"scattercarpet\":[{\"marker\":{\"colorbar\":{\"outlinewidth\":0,\"ticks\":\"\"}},\"type\":\"scattercarpet\"}],\"scattergeo\":[{\"marker\":{\"colorbar\":{\"outlinewidth\":0,\"ticks\":\"\"}},\"type\":\"scattergeo\"}],\"scattergl\":[{\"marker\":{\"colorbar\":{\"outlinewidth\":0,\"ticks\":\"\"}},\"type\":\"scattergl\"}],\"scattermapbox\":[{\"marker\":{\"colorbar\":{\"outlinewidth\":0,\"ticks\":\"\"}},\"type\":\"scattermapbox\"}],\"scatterpolargl\":[{\"marker\":{\"colorbar\":{\"outlinewidth\":0,\"ticks\":\"\"}},\"type\":\"scatterpolargl\"}],\"scatterpolar\":[{\"marker\":{\"colorbar\":{\"outlinewidth\":0,\"ticks\":\"\"}},\"type\":\"scatterpolar\"}],\"scatter\":[{\"fillpattern\":{\"fillmode\":\"overlay\",\"size\":10,\"solidity\":0.2},\"type\":\"scatter\"}],\"scatterternary\":[{\"marker\":{\"colorbar\":{\"outlinewidth\":0,\"ticks\":\"\"}},\"type\":\"scatterternary\"}],\"surface\":[{\"colorbar\":{\"outlinewidth\":0,\"ticks\":\"\"},\"colorscale\":[[0.0,\"#0d0887\"],[0.1111111111111111,\"#46039f\"],[0.2222222222222222,\"#7201a8\"],[0.3333333333333333,\"#9c179e\"],[0.4444444444444444,\"#bd3786\"],[0.5555555555555556,\"#d8576b\"],[0.6666666666666666,\"#ed7953\"],[0.7777777777777778,\"#fb9f3a\"],[0.8888888888888888,\"#fdca26\"],[1.0,\"#f0f921\"]],\"type\":\"surface\"}],\"table\":[{\"cells\":{\"fill\":{\"color\":\"#EBF0F8\"},\"line\":{\"color\":\"white\"}},\"header\":{\"fill\":{\"color\":\"#C8D4E3\"},\"line\":{\"color\":\"white\"}},\"type\":\"table\"}]},\"layout\":{\"annotationdefaults\":{\"arrowcolor\":\"#2a3f5f\",\"arrowhead\":0,\"arrowwidth\":1},\"autotypenumbers\":\"strict\",\"coloraxis\":{\"colorbar\":{\"outlinewidth\":0,\"ticks\":\"\"}},\"colorscale\":{\"diverging\":[[0,\"#8e0152\"],[0.1,\"#c51b7d\"],[0.2,\"#de77ae\"],[0.3,\"#f1b6da\"],[0.4,\"#fde0ef\"],[0.5,\"#f7f7f7\"],[0.6,\"#e6f5d0\"],[0.7,\"#b8e186\"],[0.8,\"#7fbc41\"],[0.9,\"#4d9221\"],[1,\"#276419\"]],\"sequential\":[[0.0,\"#0d0887\"],[0.1111111111111111,\"#46039f\"],[0.2222222222222222,\"#7201a8\"],[0.3333333333333333,\"#9c179e\"],[0.4444444444444444,\"#bd3786\"],[0.5555555555555556,\"#d8576b\"],[0.6666666666666666,\"#ed7953\"],[0.7777777777777778,\"#fb9f3a\"],[0.8888888888888888,\"#fdca26\"],[1.0,\"#f0f921\"]],\"sequentialminus\":[[0.0,\"#0d0887\"],[0.1111111111111111,\"#46039f\"],[0.2222222222222222,\"#7201a8\"],[0.3333333333333333,\"#9c179e\"],[0.4444444444444444,\"#bd3786\"],[0.5555555555555556,\"#d8576b\"],[0.6666666666666666,\"#ed7953\"],[0.7777777777777778,\"#fb9f3a\"],[0.8888888888888888,\"#fdca26\"],[1.0,\"#f0f921\"]]},\"colorway\":[\"#636efa\",\"#EF553B\",\"#00cc96\",\"#ab63fa\",\"#FFA15A\",\"#19d3f3\",\"#FF6692\",\"#B6E880\",\"#FF97FF\",\"#FECB52\"],\"font\":{\"color\":\"#2a3f5f\"},\"geo\":{\"bgcolor\":\"white\",\"lakecolor\":\"white\",\"landcolor\":\"#E5ECF6\",\"showlakes\":true,\"showland\":true,\"subunitcolor\":\"white\"},\"hoverlabel\":{\"align\":\"left\"},\"hovermode\":\"closest\",\"mapbox\":{\"style\":\"light\"},\"paper_bgcolor\":\"white\",\"plot_bgcolor\":\"#E5ECF6\",\"polar\":{\"angularaxis\":{\"gridcolor\":\"white\",\"linecolor\":\"white\",\"ticks\":\"\"},\"bgcolor\":\"#E5ECF6\",\"radialaxis\":{\"gridcolor\":\"white\",\"linecolor\":\"white\",\"ticks\":\"\"}},\"scene\":{\"xaxis\":{\"backgroundcolor\":\"#E5ECF6\",\"gridcolor\":\"white\",\"gridwidth\":2,\"linecolor\":\"white\",\"showbackground\":true,\"ticks\":\"\",\"zerolinecolor\":\"white\"},\"yaxis\":{\"backgroundcolor\":\"#E5ECF6\",\"gridcolor\":\"white\",\"gridwidth\":2,\"linecolor\":\"white\",\"showbackground\":true,\"ticks\":\"\",\"zerolinecolor\":\"white\"},\"zaxis\":{\"backgroundcolor\":\"#E5ECF6\",\"gridcolor\":\"white\",\"gridwidth\":2,\"linecolor\":\"white\",\"showbackground\":true,\"ticks\":\"\",\"zerolinecolor\":\"white\"}},\"shapedefaults\":{\"line\":{\"color\":\"#2a3f5f\"}},\"ternary\":{\"aaxis\":{\"gridcolor\":\"white\",\"linecolor\":\"white\",\"ticks\":\"\"},\"baxis\":{\"gridcolor\":\"white\",\"linecolor\":\"white\",\"ticks\":\"\"},\"bgcolor\":\"#E5ECF6\",\"caxis\":{\"gridcolor\":\"white\",\"linecolor\":\"white\",\"ticks\":\"\"}},\"title\":{\"x\":0.05},\"xaxis\":{\"automargin\":true,\"gridcolor\":\"white\",\"linecolor\":\"white\",\"ticks\":\"\",\"title\":{\"standoff\":15},\"zerolinecolor\":\"white\",\"zerolinewidth\":2},\"yaxis\":{\"automargin\":true,\"gridcolor\":\"white\",\"linecolor\":\"white\",\"ticks\":\"\",\"title\":{\"standoff\":15},\"zerolinecolor\":\"white\",\"zerolinewidth\":2}}},\"title\":{\"font\":{\"color\":\"#4D5663\"}},\"xaxis\":{\"gridcolor\":\"#E1E5ED\",\"showgrid\":true,\"tickfont\":{\"color\":\"#4D5663\"},\"title\":{\"font\":{\"color\":\"#4D5663\"},\"text\":\"\"},\"zerolinecolor\":\"#E1E5ED\"},\"yaxis\":{\"gridcolor\":\"#E1E5ED\",\"showgrid\":true,\"tickfont\":{\"color\":\"#4D5663\"},\"title\":{\"font\":{\"color\":\"#4D5663\"},\"text\":\"\"},\"zerolinecolor\":\"#E1E5ED\"}},                        {\"showLink\": true, \"linkText\": \"Export to plot.ly\", \"plotlyServerURL\": \"https://plot.ly\", \"responsive\": true}                    ).then(function(){\n",
       "                            \n",
       "var gd = document.getElementById('ed66256d-52b0-4aad-a57f-21a3008beb32');\n",
       "var x = new MutationObserver(function (mutations, observer) {{\n",
       "        var display = window.getComputedStyle(gd).display;\n",
       "        if (!display || display === 'none') {{\n",
       "            console.log([gd, 'removed!']);\n",
       "            Plotly.purge(gd);\n",
       "            observer.disconnect();\n",
       "        }}\n",
       "}});\n",
       "\n",
       "// Listen for the removal of the full notebook cells\n",
       "var notebookContainer = gd.closest('#notebook-container');\n",
       "if (notebookContainer) {{\n",
       "    x.observe(notebookContainer, {childList: true});\n",
       "}}\n",
       "\n",
       "// Listen for the clearing of the current output cell\n",
       "var outputEl = gd.closest('.output');\n",
       "if (outputEl) {{\n",
       "    x.observe(outputEl, {childList: true});\n",
       "}}\n",
       "\n",
       "                        })                };                });            </script>        </div>"
      ]
     },
     "metadata": {},
     "output_type": "display_data"
    }
   ],
   "source": [
    "df.iplot(kind='box')"
   ]
  },
  {
   "cell_type": "markdown",
   "metadata": {},
   "source": [
    "## 3d Surface"
   ]
  },
  {
   "cell_type": "code",
   "execution_count": 14,
   "metadata": {
    "collapsed": false,
    "jupyter": {
     "outputs_hidden": false
    }
   },
   "outputs": [
    {
     "data": {
      "application/vnd.plotly.v1+json": {
       "config": {
        "linkText": "Export to plot.ly",
        "plotlyServerURL": "https://plot.ly",
        "showLink": true
       },
       "data": [
        {
         "colorscale": [
          [
           0,
           "rgb(165,0,38)"
          ],
          [
           0.1,
           "rgb(215,48,39)"
          ],
          [
           0.2,
           "rgb(244,109,67)"
          ],
          [
           0.3,
           "rgb(253,174,97)"
          ],
          [
           0.4,
           "rgb(254,224,144)"
          ],
          [
           0.5,
           "rgb(255,255,191)"
          ],
          [
           0.6,
           "rgb(224,243,248)"
          ],
          [
           0.7,
           "rgb(171,217,233)"
          ],
          [
           0.8,
           "rgb(116,173,209)"
          ],
          [
           0.9,
           "rgb(69,117,180)"
          ],
          [
           1,
           "rgb(49,54,149)"
          ]
         ],
         "type": "surface",
         "x": [
          0,
          1,
          2,
          3,
          4
         ],
         "y": [
          "x",
          "y",
          "z"
         ],
         "z": [
          [
           1,
           2,
           3,
           4,
           5
          ],
          [
           10,
           20,
           30,
           20,
           10
          ],
          [
           5,
           4,
           3,
           2,
           1
          ]
         ]
        }
       ],
       "layout": {
        "legend": {
         "bgcolor": "#F5F6F9",
         "font": {
          "color": "#4D5663"
         }
        },
        "paper_bgcolor": "#F5F6F9",
        "plot_bgcolor": "#F5F6F9",
        "template": {
         "data": {
          "bar": [
           {
            "error_x": {
             "color": "#2a3f5f"
            },
            "error_y": {
             "color": "#2a3f5f"
            },
            "marker": {
             "line": {
              "color": "#E5ECF6",
              "width": 0.5
             },
             "pattern": {
              "fillmode": "overlay",
              "size": 10,
              "solidity": 0.2
             }
            },
            "type": "bar"
           }
          ],
          "barpolar": [
           {
            "marker": {
             "line": {
              "color": "#E5ECF6",
              "width": 0.5
             },
             "pattern": {
              "fillmode": "overlay",
              "size": 10,
              "solidity": 0.2
             }
            },
            "type": "barpolar"
           }
          ],
          "carpet": [
           {
            "aaxis": {
             "endlinecolor": "#2a3f5f",
             "gridcolor": "white",
             "linecolor": "white",
             "minorgridcolor": "white",
             "startlinecolor": "#2a3f5f"
            },
            "baxis": {
             "endlinecolor": "#2a3f5f",
             "gridcolor": "white",
             "linecolor": "white",
             "minorgridcolor": "white",
             "startlinecolor": "#2a3f5f"
            },
            "type": "carpet"
           }
          ],
          "choropleth": [
           {
            "colorbar": {
             "outlinewidth": 0,
             "ticks": ""
            },
            "type": "choropleth"
           }
          ],
          "contour": [
           {
            "colorbar": {
             "outlinewidth": 0,
             "ticks": ""
            },
            "colorscale": [
             [
              0,
              "#0d0887"
             ],
             [
              0.1111111111111111,
              "#46039f"
             ],
             [
              0.2222222222222222,
              "#7201a8"
             ],
             [
              0.3333333333333333,
              "#9c179e"
             ],
             [
              0.4444444444444444,
              "#bd3786"
             ],
             [
              0.5555555555555556,
              "#d8576b"
             ],
             [
              0.6666666666666666,
              "#ed7953"
             ],
             [
              0.7777777777777778,
              "#fb9f3a"
             ],
             [
              0.8888888888888888,
              "#fdca26"
             ],
             [
              1,
              "#f0f921"
             ]
            ],
            "type": "contour"
           }
          ],
          "contourcarpet": [
           {
            "colorbar": {
             "outlinewidth": 0,
             "ticks": ""
            },
            "type": "contourcarpet"
           }
          ],
          "heatmap": [
           {
            "colorbar": {
             "outlinewidth": 0,
             "ticks": ""
            },
            "colorscale": [
             [
              0,
              "#0d0887"
             ],
             [
              0.1111111111111111,
              "#46039f"
             ],
             [
              0.2222222222222222,
              "#7201a8"
             ],
             [
              0.3333333333333333,
              "#9c179e"
             ],
             [
              0.4444444444444444,
              "#bd3786"
             ],
             [
              0.5555555555555556,
              "#d8576b"
             ],
             [
              0.6666666666666666,
              "#ed7953"
             ],
             [
              0.7777777777777778,
              "#fb9f3a"
             ],
             [
              0.8888888888888888,
              "#fdca26"
             ],
             [
              1,
              "#f0f921"
             ]
            ],
            "type": "heatmap"
           }
          ],
          "heatmapgl": [
           {
            "colorbar": {
             "outlinewidth": 0,
             "ticks": ""
            },
            "colorscale": [
             [
              0,
              "#0d0887"
             ],
             [
              0.1111111111111111,
              "#46039f"
             ],
             [
              0.2222222222222222,
              "#7201a8"
             ],
             [
              0.3333333333333333,
              "#9c179e"
             ],
             [
              0.4444444444444444,
              "#bd3786"
             ],
             [
              0.5555555555555556,
              "#d8576b"
             ],
             [
              0.6666666666666666,
              "#ed7953"
             ],
             [
              0.7777777777777778,
              "#fb9f3a"
             ],
             [
              0.8888888888888888,
              "#fdca26"
             ],
             [
              1,
              "#f0f921"
             ]
            ],
            "type": "heatmapgl"
           }
          ],
          "histogram": [
           {
            "marker": {
             "pattern": {
              "fillmode": "overlay",
              "size": 10,
              "solidity": 0.2
             }
            },
            "type": "histogram"
           }
          ],
          "histogram2d": [
           {
            "colorbar": {
             "outlinewidth": 0,
             "ticks": ""
            },
            "colorscale": [
             [
              0,
              "#0d0887"
             ],
             [
              0.1111111111111111,
              "#46039f"
             ],
             [
              0.2222222222222222,
              "#7201a8"
             ],
             [
              0.3333333333333333,
              "#9c179e"
             ],
             [
              0.4444444444444444,
              "#bd3786"
             ],
             [
              0.5555555555555556,
              "#d8576b"
             ],
             [
              0.6666666666666666,
              "#ed7953"
             ],
             [
              0.7777777777777778,
              "#fb9f3a"
             ],
             [
              0.8888888888888888,
              "#fdca26"
             ],
             [
              1,
              "#f0f921"
             ]
            ],
            "type": "histogram2d"
           }
          ],
          "histogram2dcontour": [
           {
            "colorbar": {
             "outlinewidth": 0,
             "ticks": ""
            },
            "colorscale": [
             [
              0,
              "#0d0887"
             ],
             [
              0.1111111111111111,
              "#46039f"
             ],
             [
              0.2222222222222222,
              "#7201a8"
             ],
             [
              0.3333333333333333,
              "#9c179e"
             ],
             [
              0.4444444444444444,
              "#bd3786"
             ],
             [
              0.5555555555555556,
              "#d8576b"
             ],
             [
              0.6666666666666666,
              "#ed7953"
             ],
             [
              0.7777777777777778,
              "#fb9f3a"
             ],
             [
              0.8888888888888888,
              "#fdca26"
             ],
             [
              1,
              "#f0f921"
             ]
            ],
            "type": "histogram2dcontour"
           }
          ],
          "mesh3d": [
           {
            "colorbar": {
             "outlinewidth": 0,
             "ticks": ""
            },
            "type": "mesh3d"
           }
          ],
          "parcoords": [
           {
            "line": {
             "colorbar": {
              "outlinewidth": 0,
              "ticks": ""
             }
            },
            "type": "parcoords"
           }
          ],
          "pie": [
           {
            "automargin": true,
            "type": "pie"
           }
          ],
          "scatter": [
           {
            "fillpattern": {
             "fillmode": "overlay",
             "size": 10,
             "solidity": 0.2
            },
            "type": "scatter"
           }
          ],
          "scatter3d": [
           {
            "line": {
             "colorbar": {
              "outlinewidth": 0,
              "ticks": ""
             }
            },
            "marker": {
             "colorbar": {
              "outlinewidth": 0,
              "ticks": ""
             }
            },
            "type": "scatter3d"
           }
          ],
          "scattercarpet": [
           {
            "marker": {
             "colorbar": {
              "outlinewidth": 0,
              "ticks": ""
             }
            },
            "type": "scattercarpet"
           }
          ],
          "scattergeo": [
           {
            "marker": {
             "colorbar": {
              "outlinewidth": 0,
              "ticks": ""
             }
            },
            "type": "scattergeo"
           }
          ],
          "scattergl": [
           {
            "marker": {
             "colorbar": {
              "outlinewidth": 0,
              "ticks": ""
             }
            },
            "type": "scattergl"
           }
          ],
          "scattermapbox": [
           {
            "marker": {
             "colorbar": {
              "outlinewidth": 0,
              "ticks": ""
             }
            },
            "type": "scattermapbox"
           }
          ],
          "scatterpolar": [
           {
            "marker": {
             "colorbar": {
              "outlinewidth": 0,
              "ticks": ""
             }
            },
            "type": "scatterpolar"
           }
          ],
          "scatterpolargl": [
           {
            "marker": {
             "colorbar": {
              "outlinewidth": 0,
              "ticks": ""
             }
            },
            "type": "scatterpolargl"
           }
          ],
          "scatterternary": [
           {
            "marker": {
             "colorbar": {
              "outlinewidth": 0,
              "ticks": ""
             }
            },
            "type": "scatterternary"
           }
          ],
          "surface": [
           {
            "colorbar": {
             "outlinewidth": 0,
             "ticks": ""
            },
            "colorscale": [
             [
              0,
              "#0d0887"
             ],
             [
              0.1111111111111111,
              "#46039f"
             ],
             [
              0.2222222222222222,
              "#7201a8"
             ],
             [
              0.3333333333333333,
              "#9c179e"
             ],
             [
              0.4444444444444444,
              "#bd3786"
             ],
             [
              0.5555555555555556,
              "#d8576b"
             ],
             [
              0.6666666666666666,
              "#ed7953"
             ],
             [
              0.7777777777777778,
              "#fb9f3a"
             ],
             [
              0.8888888888888888,
              "#fdca26"
             ],
             [
              1,
              "#f0f921"
             ]
            ],
            "type": "surface"
           }
          ],
          "table": [
           {
            "cells": {
             "fill": {
              "color": "#EBF0F8"
             },
             "line": {
              "color": "white"
             }
            },
            "header": {
             "fill": {
              "color": "#C8D4E3"
             },
             "line": {
              "color": "white"
             }
            },
            "type": "table"
           }
          ]
         },
         "layout": {
          "annotationdefaults": {
           "arrowcolor": "#2a3f5f",
           "arrowhead": 0,
           "arrowwidth": 1
          },
          "autotypenumbers": "strict",
          "coloraxis": {
           "colorbar": {
            "outlinewidth": 0,
            "ticks": ""
           }
          },
          "colorscale": {
           "diverging": [
            [
             0,
             "#8e0152"
            ],
            [
             0.1,
             "#c51b7d"
            ],
            [
             0.2,
             "#de77ae"
            ],
            [
             0.3,
             "#f1b6da"
            ],
            [
             0.4,
             "#fde0ef"
            ],
            [
             0.5,
             "#f7f7f7"
            ],
            [
             0.6,
             "#e6f5d0"
            ],
            [
             0.7,
             "#b8e186"
            ],
            [
             0.8,
             "#7fbc41"
            ],
            [
             0.9,
             "#4d9221"
            ],
            [
             1,
             "#276419"
            ]
           ],
           "sequential": [
            [
             0,
             "#0d0887"
            ],
            [
             0.1111111111111111,
             "#46039f"
            ],
            [
             0.2222222222222222,
             "#7201a8"
            ],
            [
             0.3333333333333333,
             "#9c179e"
            ],
            [
             0.4444444444444444,
             "#bd3786"
            ],
            [
             0.5555555555555556,
             "#d8576b"
            ],
            [
             0.6666666666666666,
             "#ed7953"
            ],
            [
             0.7777777777777778,
             "#fb9f3a"
            ],
            [
             0.8888888888888888,
             "#fdca26"
            ],
            [
             1,
             "#f0f921"
            ]
           ],
           "sequentialminus": [
            [
             0,
             "#0d0887"
            ],
            [
             0.1111111111111111,
             "#46039f"
            ],
            [
             0.2222222222222222,
             "#7201a8"
            ],
            [
             0.3333333333333333,
             "#9c179e"
            ],
            [
             0.4444444444444444,
             "#bd3786"
            ],
            [
             0.5555555555555556,
             "#d8576b"
            ],
            [
             0.6666666666666666,
             "#ed7953"
            ],
            [
             0.7777777777777778,
             "#fb9f3a"
            ],
            [
             0.8888888888888888,
             "#fdca26"
            ],
            [
             1,
             "#f0f921"
            ]
           ]
          },
          "colorway": [
           "#636efa",
           "#EF553B",
           "#00cc96",
           "#ab63fa",
           "#FFA15A",
           "#19d3f3",
           "#FF6692",
           "#B6E880",
           "#FF97FF",
           "#FECB52"
          ],
          "font": {
           "color": "#2a3f5f"
          },
          "geo": {
           "bgcolor": "white",
           "lakecolor": "white",
           "landcolor": "#E5ECF6",
           "showlakes": true,
           "showland": true,
           "subunitcolor": "white"
          },
          "hoverlabel": {
           "align": "left"
          },
          "hovermode": "closest",
          "mapbox": {
           "style": "light"
          },
          "paper_bgcolor": "white",
          "plot_bgcolor": "#E5ECF6",
          "polar": {
           "angularaxis": {
            "gridcolor": "white",
            "linecolor": "white",
            "ticks": ""
           },
           "bgcolor": "#E5ECF6",
           "radialaxis": {
            "gridcolor": "white",
            "linecolor": "white",
            "ticks": ""
           }
          },
          "scene": {
           "xaxis": {
            "backgroundcolor": "#E5ECF6",
            "gridcolor": "white",
            "gridwidth": 2,
            "linecolor": "white",
            "showbackground": true,
            "ticks": "",
            "zerolinecolor": "white"
           },
           "yaxis": {
            "backgroundcolor": "#E5ECF6",
            "gridcolor": "white",
            "gridwidth": 2,
            "linecolor": "white",
            "showbackground": true,
            "ticks": "",
            "zerolinecolor": "white"
           },
           "zaxis": {
            "backgroundcolor": "#E5ECF6",
            "gridcolor": "white",
            "gridwidth": 2,
            "linecolor": "white",
            "showbackground": true,
            "ticks": "",
            "zerolinecolor": "white"
           }
          },
          "shapedefaults": {
           "line": {
            "color": "#2a3f5f"
           }
          },
          "ternary": {
           "aaxis": {
            "gridcolor": "white",
            "linecolor": "white",
            "ticks": ""
           },
           "baxis": {
            "gridcolor": "white",
            "linecolor": "white",
            "ticks": ""
           },
           "bgcolor": "#E5ECF6",
           "caxis": {
            "gridcolor": "white",
            "linecolor": "white",
            "ticks": ""
           }
          },
          "title": {
           "x": 0.05
          },
          "xaxis": {
           "automargin": true,
           "gridcolor": "white",
           "linecolor": "white",
           "ticks": "",
           "title": {
            "standoff": 15
           },
           "zerolinecolor": "white",
           "zerolinewidth": 2
          },
          "yaxis": {
           "automargin": true,
           "gridcolor": "white",
           "linecolor": "white",
           "ticks": "",
           "title": {
            "standoff": 15
           },
           "zerolinecolor": "white",
           "zerolinewidth": 2
          }
         }
        },
        "title": {
         "font": {
          "color": "#4D5663"
         }
        },
        "xaxis": {
         "gridcolor": "#E1E5ED",
         "showgrid": true,
         "tickfont": {
          "color": "#4D5663"
         },
         "title": {
          "font": {
           "color": "#4D5663"
          },
          "text": ""
         },
         "zerolinecolor": "#E1E5ED"
        },
        "yaxis": {
         "gridcolor": "#E1E5ED",
         "showgrid": true,
         "tickfont": {
          "color": "#4D5663"
         },
         "title": {
          "font": {
           "color": "#4D5663"
          },
          "text": ""
         },
         "zerolinecolor": "#E1E5ED"
        }
       }
      },
      "text/html": [
       "<div>                            <div id=\"7681b725-eaf6-4d9a-9c79-01903993c4b2\" class=\"plotly-graph-div\" style=\"height:525px; width:100%;\"></div>            <script type=\"text/javascript\">                require([\"plotly\"], function(Plotly) {                    window.PLOTLYENV=window.PLOTLYENV || {};\n",
       "                    window.PLOTLYENV.BASE_URL='https://plot.ly';                                    if (document.getElementById(\"7681b725-eaf6-4d9a-9c79-01903993c4b2\")) {                    Plotly.newPlot(                        \"7681b725-eaf6-4d9a-9c79-01903993c4b2\",                        [{\"colorscale\":[[0.0,\"rgb(165,0,38)\"],[0.1,\"rgb(215,48,39)\"],[0.2,\"rgb(244,109,67)\"],[0.3,\"rgb(253,174,97)\"],[0.4,\"rgb(254,224,144)\"],[0.5,\"rgb(255,255,191)\"],[0.6,\"rgb(224,243,248)\"],[0.7,\"rgb(171,217,233)\"],[0.8,\"rgb(116,173,209)\"],[0.9,\"rgb(69,117,180)\"],[1.0,\"rgb(49,54,149)\"]],\"x\":[0,1,2,3,4],\"y\":[\"x\",\"y\",\"z\"],\"z\":[[1,2,3,4,5],[10,20,30,20,10],[5,4,3,2,1]],\"type\":\"surface\"}],                        {\"legend\":{\"bgcolor\":\"#F5F6F9\",\"font\":{\"color\":\"#4D5663\"}},\"paper_bgcolor\":\"#F5F6F9\",\"plot_bgcolor\":\"#F5F6F9\",\"template\":{\"data\":{\"barpolar\":[{\"marker\":{\"line\":{\"color\":\"#E5ECF6\",\"width\":0.5},\"pattern\":{\"fillmode\":\"overlay\",\"size\":10,\"solidity\":0.2}},\"type\":\"barpolar\"}],\"bar\":[{\"error_x\":{\"color\":\"#2a3f5f\"},\"error_y\":{\"color\":\"#2a3f5f\"},\"marker\":{\"line\":{\"color\":\"#E5ECF6\",\"width\":0.5},\"pattern\":{\"fillmode\":\"overlay\",\"size\":10,\"solidity\":0.2}},\"type\":\"bar\"}],\"carpet\":[{\"aaxis\":{\"endlinecolor\":\"#2a3f5f\",\"gridcolor\":\"white\",\"linecolor\":\"white\",\"minorgridcolor\":\"white\",\"startlinecolor\":\"#2a3f5f\"},\"baxis\":{\"endlinecolor\":\"#2a3f5f\",\"gridcolor\":\"white\",\"linecolor\":\"white\",\"minorgridcolor\":\"white\",\"startlinecolor\":\"#2a3f5f\"},\"type\":\"carpet\"}],\"choropleth\":[{\"colorbar\":{\"outlinewidth\":0,\"ticks\":\"\"},\"type\":\"choropleth\"}],\"contourcarpet\":[{\"colorbar\":{\"outlinewidth\":0,\"ticks\":\"\"},\"type\":\"contourcarpet\"}],\"contour\":[{\"colorbar\":{\"outlinewidth\":0,\"ticks\":\"\"},\"colorscale\":[[0.0,\"#0d0887\"],[0.1111111111111111,\"#46039f\"],[0.2222222222222222,\"#7201a8\"],[0.3333333333333333,\"#9c179e\"],[0.4444444444444444,\"#bd3786\"],[0.5555555555555556,\"#d8576b\"],[0.6666666666666666,\"#ed7953\"],[0.7777777777777778,\"#fb9f3a\"],[0.8888888888888888,\"#fdca26\"],[1.0,\"#f0f921\"]],\"type\":\"contour\"}],\"heatmapgl\":[{\"colorbar\":{\"outlinewidth\":0,\"ticks\":\"\"},\"colorscale\":[[0.0,\"#0d0887\"],[0.1111111111111111,\"#46039f\"],[0.2222222222222222,\"#7201a8\"],[0.3333333333333333,\"#9c179e\"],[0.4444444444444444,\"#bd3786\"],[0.5555555555555556,\"#d8576b\"],[0.6666666666666666,\"#ed7953\"],[0.7777777777777778,\"#fb9f3a\"],[0.8888888888888888,\"#fdca26\"],[1.0,\"#f0f921\"]],\"type\":\"heatmapgl\"}],\"heatmap\":[{\"colorbar\":{\"outlinewidth\":0,\"ticks\":\"\"},\"colorscale\":[[0.0,\"#0d0887\"],[0.1111111111111111,\"#46039f\"],[0.2222222222222222,\"#7201a8\"],[0.3333333333333333,\"#9c179e\"],[0.4444444444444444,\"#bd3786\"],[0.5555555555555556,\"#d8576b\"],[0.6666666666666666,\"#ed7953\"],[0.7777777777777778,\"#fb9f3a\"],[0.8888888888888888,\"#fdca26\"],[1.0,\"#f0f921\"]],\"type\":\"heatmap\"}],\"histogram2dcontour\":[{\"colorbar\":{\"outlinewidth\":0,\"ticks\":\"\"},\"colorscale\":[[0.0,\"#0d0887\"],[0.1111111111111111,\"#46039f\"],[0.2222222222222222,\"#7201a8\"],[0.3333333333333333,\"#9c179e\"],[0.4444444444444444,\"#bd3786\"],[0.5555555555555556,\"#d8576b\"],[0.6666666666666666,\"#ed7953\"],[0.7777777777777778,\"#fb9f3a\"],[0.8888888888888888,\"#fdca26\"],[1.0,\"#f0f921\"]],\"type\":\"histogram2dcontour\"}],\"histogram2d\":[{\"colorbar\":{\"outlinewidth\":0,\"ticks\":\"\"},\"colorscale\":[[0.0,\"#0d0887\"],[0.1111111111111111,\"#46039f\"],[0.2222222222222222,\"#7201a8\"],[0.3333333333333333,\"#9c179e\"],[0.4444444444444444,\"#bd3786\"],[0.5555555555555556,\"#d8576b\"],[0.6666666666666666,\"#ed7953\"],[0.7777777777777778,\"#fb9f3a\"],[0.8888888888888888,\"#fdca26\"],[1.0,\"#f0f921\"]],\"type\":\"histogram2d\"}],\"histogram\":[{\"marker\":{\"pattern\":{\"fillmode\":\"overlay\",\"size\":10,\"solidity\":0.2}},\"type\":\"histogram\"}],\"mesh3d\":[{\"colorbar\":{\"outlinewidth\":0,\"ticks\":\"\"},\"type\":\"mesh3d\"}],\"parcoords\":[{\"line\":{\"colorbar\":{\"outlinewidth\":0,\"ticks\":\"\"}},\"type\":\"parcoords\"}],\"pie\":[{\"automargin\":true,\"type\":\"pie\"}],\"scatter3d\":[{\"line\":{\"colorbar\":{\"outlinewidth\":0,\"ticks\":\"\"}},\"marker\":{\"colorbar\":{\"outlinewidth\":0,\"ticks\":\"\"}},\"type\":\"scatter3d\"}],\"scattercarpet\":[{\"marker\":{\"colorbar\":{\"outlinewidth\":0,\"ticks\":\"\"}},\"type\":\"scattercarpet\"}],\"scattergeo\":[{\"marker\":{\"colorbar\":{\"outlinewidth\":0,\"ticks\":\"\"}},\"type\":\"scattergeo\"}],\"scattergl\":[{\"marker\":{\"colorbar\":{\"outlinewidth\":0,\"ticks\":\"\"}},\"type\":\"scattergl\"}],\"scattermapbox\":[{\"marker\":{\"colorbar\":{\"outlinewidth\":0,\"ticks\":\"\"}},\"type\":\"scattermapbox\"}],\"scatterpolargl\":[{\"marker\":{\"colorbar\":{\"outlinewidth\":0,\"ticks\":\"\"}},\"type\":\"scatterpolargl\"}],\"scatterpolar\":[{\"marker\":{\"colorbar\":{\"outlinewidth\":0,\"ticks\":\"\"}},\"type\":\"scatterpolar\"}],\"scatter\":[{\"fillpattern\":{\"fillmode\":\"overlay\",\"size\":10,\"solidity\":0.2},\"type\":\"scatter\"}],\"scatterternary\":[{\"marker\":{\"colorbar\":{\"outlinewidth\":0,\"ticks\":\"\"}},\"type\":\"scatterternary\"}],\"surface\":[{\"colorbar\":{\"outlinewidth\":0,\"ticks\":\"\"},\"colorscale\":[[0.0,\"#0d0887\"],[0.1111111111111111,\"#46039f\"],[0.2222222222222222,\"#7201a8\"],[0.3333333333333333,\"#9c179e\"],[0.4444444444444444,\"#bd3786\"],[0.5555555555555556,\"#d8576b\"],[0.6666666666666666,\"#ed7953\"],[0.7777777777777778,\"#fb9f3a\"],[0.8888888888888888,\"#fdca26\"],[1.0,\"#f0f921\"]],\"type\":\"surface\"}],\"table\":[{\"cells\":{\"fill\":{\"color\":\"#EBF0F8\"},\"line\":{\"color\":\"white\"}},\"header\":{\"fill\":{\"color\":\"#C8D4E3\"},\"line\":{\"color\":\"white\"}},\"type\":\"table\"}]},\"layout\":{\"annotationdefaults\":{\"arrowcolor\":\"#2a3f5f\",\"arrowhead\":0,\"arrowwidth\":1},\"autotypenumbers\":\"strict\",\"coloraxis\":{\"colorbar\":{\"outlinewidth\":0,\"ticks\":\"\"}},\"colorscale\":{\"diverging\":[[0,\"#8e0152\"],[0.1,\"#c51b7d\"],[0.2,\"#de77ae\"],[0.3,\"#f1b6da\"],[0.4,\"#fde0ef\"],[0.5,\"#f7f7f7\"],[0.6,\"#e6f5d0\"],[0.7,\"#b8e186\"],[0.8,\"#7fbc41\"],[0.9,\"#4d9221\"],[1,\"#276419\"]],\"sequential\":[[0.0,\"#0d0887\"],[0.1111111111111111,\"#46039f\"],[0.2222222222222222,\"#7201a8\"],[0.3333333333333333,\"#9c179e\"],[0.4444444444444444,\"#bd3786\"],[0.5555555555555556,\"#d8576b\"],[0.6666666666666666,\"#ed7953\"],[0.7777777777777778,\"#fb9f3a\"],[0.8888888888888888,\"#fdca26\"],[1.0,\"#f0f921\"]],\"sequentialminus\":[[0.0,\"#0d0887\"],[0.1111111111111111,\"#46039f\"],[0.2222222222222222,\"#7201a8\"],[0.3333333333333333,\"#9c179e\"],[0.4444444444444444,\"#bd3786\"],[0.5555555555555556,\"#d8576b\"],[0.6666666666666666,\"#ed7953\"],[0.7777777777777778,\"#fb9f3a\"],[0.8888888888888888,\"#fdca26\"],[1.0,\"#f0f921\"]]},\"colorway\":[\"#636efa\",\"#EF553B\",\"#00cc96\",\"#ab63fa\",\"#FFA15A\",\"#19d3f3\",\"#FF6692\",\"#B6E880\",\"#FF97FF\",\"#FECB52\"],\"font\":{\"color\":\"#2a3f5f\"},\"geo\":{\"bgcolor\":\"white\",\"lakecolor\":\"white\",\"landcolor\":\"#E5ECF6\",\"showlakes\":true,\"showland\":true,\"subunitcolor\":\"white\"},\"hoverlabel\":{\"align\":\"left\"},\"hovermode\":\"closest\",\"mapbox\":{\"style\":\"light\"},\"paper_bgcolor\":\"white\",\"plot_bgcolor\":\"#E5ECF6\",\"polar\":{\"angularaxis\":{\"gridcolor\":\"white\",\"linecolor\":\"white\",\"ticks\":\"\"},\"bgcolor\":\"#E5ECF6\",\"radialaxis\":{\"gridcolor\":\"white\",\"linecolor\":\"white\",\"ticks\":\"\"}},\"scene\":{\"xaxis\":{\"backgroundcolor\":\"#E5ECF6\",\"gridcolor\":\"white\",\"gridwidth\":2,\"linecolor\":\"white\",\"showbackground\":true,\"ticks\":\"\",\"zerolinecolor\":\"white\"},\"yaxis\":{\"backgroundcolor\":\"#E5ECF6\",\"gridcolor\":\"white\",\"gridwidth\":2,\"linecolor\":\"white\",\"showbackground\":true,\"ticks\":\"\",\"zerolinecolor\":\"white\"},\"zaxis\":{\"backgroundcolor\":\"#E5ECF6\",\"gridcolor\":\"white\",\"gridwidth\":2,\"linecolor\":\"white\",\"showbackground\":true,\"ticks\":\"\",\"zerolinecolor\":\"white\"}},\"shapedefaults\":{\"line\":{\"color\":\"#2a3f5f\"}},\"ternary\":{\"aaxis\":{\"gridcolor\":\"white\",\"linecolor\":\"white\",\"ticks\":\"\"},\"baxis\":{\"gridcolor\":\"white\",\"linecolor\":\"white\",\"ticks\":\"\"},\"bgcolor\":\"#E5ECF6\",\"caxis\":{\"gridcolor\":\"white\",\"linecolor\":\"white\",\"ticks\":\"\"}},\"title\":{\"x\":0.05},\"xaxis\":{\"automargin\":true,\"gridcolor\":\"white\",\"linecolor\":\"white\",\"ticks\":\"\",\"title\":{\"standoff\":15},\"zerolinecolor\":\"white\",\"zerolinewidth\":2},\"yaxis\":{\"automargin\":true,\"gridcolor\":\"white\",\"linecolor\":\"white\",\"ticks\":\"\",\"title\":{\"standoff\":15},\"zerolinecolor\":\"white\",\"zerolinewidth\":2}}},\"title\":{\"font\":{\"color\":\"#4D5663\"}},\"xaxis\":{\"gridcolor\":\"#E1E5ED\",\"showgrid\":true,\"tickfont\":{\"color\":\"#4D5663\"},\"title\":{\"font\":{\"color\":\"#4D5663\"},\"text\":\"\"},\"zerolinecolor\":\"#E1E5ED\"},\"yaxis\":{\"gridcolor\":\"#E1E5ED\",\"showgrid\":true,\"tickfont\":{\"color\":\"#4D5663\"},\"title\":{\"font\":{\"color\":\"#4D5663\"},\"text\":\"\"},\"zerolinecolor\":\"#E1E5ED\"}},                        {\"showLink\": true, \"linkText\": \"Export to plot.ly\", \"plotlyServerURL\": \"https://plot.ly\", \"responsive\": true}                    ).then(function(){\n",
       "                            \n",
       "var gd = document.getElementById('7681b725-eaf6-4d9a-9c79-01903993c4b2');\n",
       "var x = new MutationObserver(function (mutations, observer) {{\n",
       "        var display = window.getComputedStyle(gd).display;\n",
       "        if (!display || display === 'none') {{\n",
       "            console.log([gd, 'removed!']);\n",
       "            Plotly.purge(gd);\n",
       "            observer.disconnect();\n",
       "        }}\n",
       "}});\n",
       "\n",
       "// Listen for the removal of the full notebook cells\n",
       "var notebookContainer = gd.closest('#notebook-container');\n",
       "if (notebookContainer) {{\n",
       "    x.observe(notebookContainer, {childList: true});\n",
       "}}\n",
       "\n",
       "// Listen for the clearing of the current output cell\n",
       "var outputEl = gd.closest('.output');\n",
       "if (outputEl) {{\n",
       "    x.observe(outputEl, {childList: true});\n",
       "}}\n",
       "\n",
       "                        })                };                });            </script>        </div>"
      ]
     },
     "metadata": {},
     "output_type": "display_data"
    }
   ],
   "source": [
    "df3 = pd.DataFrame({'x':[1,2,3,4,5],'y':[10,20,30,20,10],'z':[5,4,3,2,1]})\n",
    "df3.iplot(kind='surface',colorscale='rdylbu')"
   ]
  },
  {
   "cell_type": "markdown",
   "metadata": {},
   "source": [
    "## Spread"
   ]
  },
  {
   "cell_type": "code",
   "execution_count": 15,
   "metadata": {
    "collapsed": false,
    "jupyter": {
     "outputs_hidden": false
    }
   },
   "outputs": [
    {
     "name": "stderr",
     "output_type": "stream",
     "text": [
      "/home/rafachem9/Documents/venv-next/procesar-datos-empresa/lib/python3.10/site-packages/cufflinks/plotlytools.py:848: FutureWarning:\n",
      "\n",
      "Series.__getitem__ treating keys as positions is deprecated. In a future version, integer keys will always be treated as labels (consistent with DataFrame behavior). To access a value by position, use `ser.iloc[pos]`\n",
      "\n"
     ]
    },
    {
     "ename": "AttributeError",
     "evalue": "module 'pandas' has no attribute 'np'",
     "output_type": "error",
     "traceback": [
      "\u001b[0;31m---------------------------------------------------------------------------\u001b[0m",
      "\u001b[0;31mAttributeError\u001b[0m                            Traceback (most recent call last)",
      "Cell \u001b[0;32mIn[15], line 1\u001b[0m\n\u001b[0;32m----> 1\u001b[0m \u001b[43mdf\u001b[49m\u001b[43m[\u001b[49m\u001b[43m[\u001b[49m\u001b[38;5;124;43m'\u001b[39;49m\u001b[38;5;124;43mA\u001b[39;49m\u001b[38;5;124;43m'\u001b[39;49m\u001b[43m,\u001b[49m\u001b[38;5;124;43m'\u001b[39;49m\u001b[38;5;124;43mB\u001b[39;49m\u001b[38;5;124;43m'\u001b[39;49m\u001b[43m]\u001b[49m\u001b[43m]\u001b[49m\u001b[38;5;241;43m.\u001b[39;49m\u001b[43miplot\u001b[49m\u001b[43m(\u001b[49m\u001b[43mkind\u001b[49m\u001b[38;5;241;43m=\u001b[39;49m\u001b[38;5;124;43m'\u001b[39;49m\u001b[38;5;124;43mspread\u001b[39;49m\u001b[38;5;124;43m'\u001b[39;49m\u001b[43m)\u001b[49m\n",
      "File \u001b[0;32m~/Documents/venv-next/procesar-datos-empresa/lib/python3.10/site-packages/cufflinks/plotlytools.py:849\u001b[0m, in \u001b[0;36m_iplot\u001b[0;34m(self, kind, data, layout, filename, sharing, title, xTitle, yTitle, zTitle, theme, colors, colorscale, fill, width, dash, mode, interpolation, symbol, size, barmode, sortbars, bargap, bargroupgap, bins, histnorm, histfunc, orientation, boxpoints, annotations, keys, bestfit, bestfit_colors, mean, mean_colors, categories, x, y, z, text, gridcolor, zerolinecolor, margin, labels, values, secondary_y, secondary_y_title, subplots, shape, error_x, error_y, error_type, locations, lon, lat, asFrame, asDates, asFigure, asImage, dimensions, asPlot, asUrl, online, **kwargs)\u001b[0m\n\u001b[1;32m    847\u001b[0m \u001b[38;5;28;01mif\u001b[39;00m kind\u001b[38;5;241m==\u001b[39m\u001b[38;5;124m'\u001b[39m\u001b[38;5;124mspread\u001b[39m\u001b[38;5;124m'\u001b[39m:\n\u001b[1;32m    848\u001b[0m \ttrace\u001b[38;5;241m=\u001b[39m\u001b[38;5;28mself\u001b[39m\u001b[38;5;241m.\u001b[39mapply(\u001b[38;5;28;01mlambda\u001b[39;00m x:x[\u001b[38;5;241m0\u001b[39m]\u001b[38;5;241m-\u001b[39mx[\u001b[38;5;241m1\u001b[39m],axis\u001b[38;5;241m=\u001b[39m\u001b[38;5;241m1\u001b[39m)\n\u001b[0;32m--> 849\u001b[0m \tpositive\u001b[38;5;241m=\u001b[39m\u001b[43mtrace\u001b[49m\u001b[38;5;241;43m.\u001b[39;49m\u001b[43mapply\u001b[49m\u001b[43m(\u001b[49m\u001b[38;5;28;43;01mlambda\u001b[39;49;00m\u001b[43m \u001b[49m\u001b[43mx\u001b[49m\u001b[43m:\u001b[49m\u001b[43mx\u001b[49m\u001b[43m \u001b[49m\u001b[38;5;28;43;01mif\u001b[39;49;00m\u001b[43m \u001b[49m\u001b[43mx\u001b[49m\u001b[38;5;241;43m>\u001b[39;49m\u001b[38;5;241;43m=\u001b[39;49m\u001b[38;5;241;43m0\u001b[39;49m\u001b[43m \u001b[49m\u001b[38;5;28;43;01melse\u001b[39;49;00m\u001b[43m \u001b[49m\u001b[43mpd\u001b[49m\u001b[38;5;241;43m.\u001b[39;49m\u001b[43mnp\u001b[49m\u001b[38;5;241;43m.\u001b[39;49m\u001b[43mnan\u001b[49m\u001b[43m)\u001b[49m\n\u001b[1;32m    850\u001b[0m \tnegative\u001b[38;5;241m=\u001b[39mtrace\u001b[38;5;241m.\u001b[39mapply(\u001b[38;5;28;01mlambda\u001b[39;00m x:x \u001b[38;5;28;01mif\u001b[39;00m x\u001b[38;5;241m<\u001b[39m\u001b[38;5;241m0\u001b[39m \u001b[38;5;28;01melse\u001b[39;00m pd\u001b[38;5;241m.\u001b[39mnp\u001b[38;5;241m.\u001b[39mnan)\n\u001b[1;32m    851\u001b[0m \ttrace\u001b[38;5;241m=\u001b[39mpd\u001b[38;5;241m.\u001b[39mDataFrame({\u001b[38;5;124m'\u001b[39m\u001b[38;5;124mpositive\u001b[39m\u001b[38;5;124m'\u001b[39m:positive,\u001b[38;5;124m'\u001b[39m\u001b[38;5;124mnegative\u001b[39m\u001b[38;5;124m'\u001b[39m:negative})\n",
      "File \u001b[0;32m~/Documents/venv-next/procesar-datos-empresa/lib/python3.10/site-packages/pandas/core/series.py:4764\u001b[0m, in \u001b[0;36mSeries.apply\u001b[0;34m(self, func, convert_dtype, args, by_row, **kwargs)\u001b[0m\n\u001b[1;32m   4629\u001b[0m \u001b[38;5;28;01mdef\u001b[39;00m\u001b[38;5;250m \u001b[39m\u001b[38;5;21mapply\u001b[39m(\n\u001b[1;32m   4630\u001b[0m     \u001b[38;5;28mself\u001b[39m,\n\u001b[1;32m   4631\u001b[0m     func: AggFuncType,\n\u001b[0;32m   (...)\u001b[0m\n\u001b[1;32m   4636\u001b[0m     \u001b[38;5;241m*\u001b[39m\u001b[38;5;241m*\u001b[39mkwargs,\n\u001b[1;32m   4637\u001b[0m ) \u001b[38;5;241m-\u001b[39m\u001b[38;5;241m>\u001b[39m DataFrame \u001b[38;5;241m|\u001b[39m Series:\n\u001b[1;32m   4638\u001b[0m \u001b[38;5;250m    \u001b[39m\u001b[38;5;124;03m\"\"\"\u001b[39;00m\n\u001b[1;32m   4639\u001b[0m \u001b[38;5;124;03m    Invoke function on values of Series.\u001b[39;00m\n\u001b[1;32m   4640\u001b[0m \n\u001b[0;32m   (...)\u001b[0m\n\u001b[1;32m   4755\u001b[0m \u001b[38;5;124;03m    dtype: float64\u001b[39;00m\n\u001b[1;32m   4756\u001b[0m \u001b[38;5;124;03m    \"\"\"\u001b[39;00m\n\u001b[1;32m   4757\u001b[0m     \u001b[38;5;28;01mreturn\u001b[39;00m \u001b[43mSeriesApply\u001b[49m\u001b[43m(\u001b[49m\n\u001b[1;32m   4758\u001b[0m \u001b[43m        \u001b[49m\u001b[38;5;28;43mself\u001b[39;49m\u001b[43m,\u001b[49m\n\u001b[1;32m   4759\u001b[0m \u001b[43m        \u001b[49m\u001b[43mfunc\u001b[49m\u001b[43m,\u001b[49m\n\u001b[1;32m   4760\u001b[0m \u001b[43m        \u001b[49m\u001b[43mconvert_dtype\u001b[49m\u001b[38;5;241;43m=\u001b[39;49m\u001b[43mconvert_dtype\u001b[49m\u001b[43m,\u001b[49m\n\u001b[1;32m   4761\u001b[0m \u001b[43m        \u001b[49m\u001b[43mby_row\u001b[49m\u001b[38;5;241;43m=\u001b[39;49m\u001b[43mby_row\u001b[49m\u001b[43m,\u001b[49m\n\u001b[1;32m   4762\u001b[0m \u001b[43m        \u001b[49m\u001b[43margs\u001b[49m\u001b[38;5;241;43m=\u001b[39;49m\u001b[43margs\u001b[49m\u001b[43m,\u001b[49m\n\u001b[1;32m   4763\u001b[0m \u001b[43m        \u001b[49m\u001b[43mkwargs\u001b[49m\u001b[38;5;241;43m=\u001b[39;49m\u001b[43mkwargs\u001b[49m\u001b[43m,\u001b[49m\n\u001b[0;32m-> 4764\u001b[0m \u001b[43m    \u001b[49m\u001b[43m)\u001b[49m\u001b[38;5;241;43m.\u001b[39;49m\u001b[43mapply\u001b[49m\u001b[43m(\u001b[49m\u001b[43m)\u001b[49m\n",
      "File \u001b[0;32m~/Documents/venv-next/procesar-datos-empresa/lib/python3.10/site-packages/pandas/core/apply.py:1209\u001b[0m, in \u001b[0;36mSeriesApply.apply\u001b[0;34m(self)\u001b[0m\n\u001b[1;32m   1206\u001b[0m     \u001b[38;5;28;01mreturn\u001b[39;00m \u001b[38;5;28mself\u001b[39m\u001b[38;5;241m.\u001b[39mapply_compat()\n\u001b[1;32m   1208\u001b[0m \u001b[38;5;66;03m# self.func is Callable\u001b[39;00m\n\u001b[0;32m-> 1209\u001b[0m \u001b[38;5;28;01mreturn\u001b[39;00m \u001b[38;5;28;43mself\u001b[39;49m\u001b[38;5;241;43m.\u001b[39;49m\u001b[43mapply_standard\u001b[49m\u001b[43m(\u001b[49m\u001b[43m)\u001b[49m\n",
      "File \u001b[0;32m~/Documents/venv-next/procesar-datos-empresa/lib/python3.10/site-packages/pandas/core/apply.py:1289\u001b[0m, in \u001b[0;36mSeriesApply.apply_standard\u001b[0;34m(self)\u001b[0m\n\u001b[1;32m   1283\u001b[0m \u001b[38;5;66;03m# row-wise access\u001b[39;00m\n\u001b[1;32m   1284\u001b[0m \u001b[38;5;66;03m# apply doesn't have a `na_action` keyword and for backward compat reasons\u001b[39;00m\n\u001b[1;32m   1285\u001b[0m \u001b[38;5;66;03m# we need to give `na_action=\"ignore\"` for categorical data.\u001b[39;00m\n\u001b[1;32m   1286\u001b[0m \u001b[38;5;66;03m# TODO: remove the `na_action=\"ignore\"` when that default has been changed in\u001b[39;00m\n\u001b[1;32m   1287\u001b[0m \u001b[38;5;66;03m#  Categorical (GH51645).\u001b[39;00m\n\u001b[1;32m   1288\u001b[0m action \u001b[38;5;241m=\u001b[39m \u001b[38;5;124m\"\u001b[39m\u001b[38;5;124mignore\u001b[39m\u001b[38;5;124m\"\u001b[39m \u001b[38;5;28;01mif\u001b[39;00m \u001b[38;5;28misinstance\u001b[39m(obj\u001b[38;5;241m.\u001b[39mdtype, CategoricalDtype) \u001b[38;5;28;01melse\u001b[39;00m \u001b[38;5;28;01mNone\u001b[39;00m\n\u001b[0;32m-> 1289\u001b[0m mapped \u001b[38;5;241m=\u001b[39m \u001b[43mobj\u001b[49m\u001b[38;5;241;43m.\u001b[39;49m\u001b[43m_map_values\u001b[49m\u001b[43m(\u001b[49m\n\u001b[1;32m   1290\u001b[0m \u001b[43m    \u001b[49m\u001b[43mmapper\u001b[49m\u001b[38;5;241;43m=\u001b[39;49m\u001b[43mcurried\u001b[49m\u001b[43m,\u001b[49m\u001b[43m \u001b[49m\u001b[43mna_action\u001b[49m\u001b[38;5;241;43m=\u001b[39;49m\u001b[43maction\u001b[49m\u001b[43m,\u001b[49m\u001b[43m \u001b[49m\u001b[43mconvert\u001b[49m\u001b[38;5;241;43m=\u001b[39;49m\u001b[38;5;28;43mself\u001b[39;49m\u001b[38;5;241;43m.\u001b[39;49m\u001b[43mconvert_dtype\u001b[49m\n\u001b[1;32m   1291\u001b[0m \u001b[43m\u001b[49m\u001b[43m)\u001b[49m\n\u001b[1;32m   1293\u001b[0m \u001b[38;5;28;01mif\u001b[39;00m \u001b[38;5;28mlen\u001b[39m(mapped) \u001b[38;5;129;01mand\u001b[39;00m \u001b[38;5;28misinstance\u001b[39m(mapped[\u001b[38;5;241m0\u001b[39m], ABCSeries):\n\u001b[1;32m   1294\u001b[0m     \u001b[38;5;66;03m# GH#43986 Need to do list(mapped) in order to get treated as nested\u001b[39;00m\n\u001b[1;32m   1295\u001b[0m     \u001b[38;5;66;03m#  See also GH#25959 regarding EA support\u001b[39;00m\n\u001b[1;32m   1296\u001b[0m     \u001b[38;5;28;01mreturn\u001b[39;00m obj\u001b[38;5;241m.\u001b[39m_constructor_expanddim(\u001b[38;5;28mlist\u001b[39m(mapped), index\u001b[38;5;241m=\u001b[39mobj\u001b[38;5;241m.\u001b[39mindex)\n",
      "File \u001b[0;32m~/Documents/venv-next/procesar-datos-empresa/lib/python3.10/site-packages/pandas/core/base.py:921\u001b[0m, in \u001b[0;36mIndexOpsMixin._map_values\u001b[0;34m(self, mapper, na_action, convert)\u001b[0m\n\u001b[1;32m    918\u001b[0m \u001b[38;5;28;01mif\u001b[39;00m \u001b[38;5;28misinstance\u001b[39m(arr, ExtensionArray):\n\u001b[1;32m    919\u001b[0m     \u001b[38;5;28;01mreturn\u001b[39;00m arr\u001b[38;5;241m.\u001b[39mmap(mapper, na_action\u001b[38;5;241m=\u001b[39mna_action)\n\u001b[0;32m--> 921\u001b[0m \u001b[38;5;28;01mreturn\u001b[39;00m \u001b[43malgorithms\u001b[49m\u001b[38;5;241;43m.\u001b[39;49m\u001b[43mmap_array\u001b[49m\u001b[43m(\u001b[49m\u001b[43marr\u001b[49m\u001b[43m,\u001b[49m\u001b[43m \u001b[49m\u001b[43mmapper\u001b[49m\u001b[43m,\u001b[49m\u001b[43m \u001b[49m\u001b[43mna_action\u001b[49m\u001b[38;5;241;43m=\u001b[39;49m\u001b[43mna_action\u001b[49m\u001b[43m,\u001b[49m\u001b[43m \u001b[49m\u001b[43mconvert\u001b[49m\u001b[38;5;241;43m=\u001b[39;49m\u001b[43mconvert\u001b[49m\u001b[43m)\u001b[49m\n",
      "File \u001b[0;32m~/Documents/venv-next/procesar-datos-empresa/lib/python3.10/site-packages/pandas/core/algorithms.py:1814\u001b[0m, in \u001b[0;36mmap_array\u001b[0;34m(arr, mapper, na_action, convert)\u001b[0m\n\u001b[1;32m   1812\u001b[0m values \u001b[38;5;241m=\u001b[39m arr\u001b[38;5;241m.\u001b[39mastype(\u001b[38;5;28mobject\u001b[39m, copy\u001b[38;5;241m=\u001b[39m\u001b[38;5;28;01mFalse\u001b[39;00m)\n\u001b[1;32m   1813\u001b[0m \u001b[38;5;28;01mif\u001b[39;00m na_action \u001b[38;5;129;01mis\u001b[39;00m \u001b[38;5;28;01mNone\u001b[39;00m:\n\u001b[0;32m-> 1814\u001b[0m     \u001b[38;5;28;01mreturn\u001b[39;00m \u001b[43mlib\u001b[49m\u001b[38;5;241;43m.\u001b[39;49m\u001b[43mmap_infer\u001b[49m\u001b[43m(\u001b[49m\u001b[43mvalues\u001b[49m\u001b[43m,\u001b[49m\u001b[43m \u001b[49m\u001b[43mmapper\u001b[49m\u001b[43m,\u001b[49m\u001b[43m \u001b[49m\u001b[43mconvert\u001b[49m\u001b[38;5;241;43m=\u001b[39;49m\u001b[43mconvert\u001b[49m\u001b[43m)\u001b[49m\n\u001b[1;32m   1815\u001b[0m \u001b[38;5;28;01melse\u001b[39;00m:\n\u001b[1;32m   1816\u001b[0m     \u001b[38;5;28;01mreturn\u001b[39;00m lib\u001b[38;5;241m.\u001b[39mmap_infer_mask(\n\u001b[1;32m   1817\u001b[0m         values, mapper, mask\u001b[38;5;241m=\u001b[39misna(values)\u001b[38;5;241m.\u001b[39mview(np\u001b[38;5;241m.\u001b[39muint8), convert\u001b[38;5;241m=\u001b[39mconvert\n\u001b[1;32m   1818\u001b[0m     )\n",
      "File \u001b[0;32mlib.pyx:2926\u001b[0m, in \u001b[0;36mpandas._libs.lib.map_infer\u001b[0;34m()\u001b[0m\n",
      "File \u001b[0;32m~/Documents/venv-next/procesar-datos-empresa/lib/python3.10/site-packages/cufflinks/plotlytools.py:849\u001b[0m, in \u001b[0;36m_iplot.<locals>.<lambda>\u001b[0;34m(x)\u001b[0m\n\u001b[1;32m    847\u001b[0m \u001b[38;5;28;01mif\u001b[39;00m kind\u001b[38;5;241m==\u001b[39m\u001b[38;5;124m'\u001b[39m\u001b[38;5;124mspread\u001b[39m\u001b[38;5;124m'\u001b[39m:\n\u001b[1;32m    848\u001b[0m \ttrace\u001b[38;5;241m=\u001b[39m\u001b[38;5;28mself\u001b[39m\u001b[38;5;241m.\u001b[39mapply(\u001b[38;5;28;01mlambda\u001b[39;00m x:x[\u001b[38;5;241m0\u001b[39m]\u001b[38;5;241m-\u001b[39mx[\u001b[38;5;241m1\u001b[39m],axis\u001b[38;5;241m=\u001b[39m\u001b[38;5;241m1\u001b[39m)\n\u001b[0;32m--> 849\u001b[0m \tpositive\u001b[38;5;241m=\u001b[39mtrace\u001b[38;5;241m.\u001b[39mapply(\u001b[38;5;28;01mlambda\u001b[39;00m x:x \u001b[38;5;28;01mif\u001b[39;00m x\u001b[38;5;241m>\u001b[39m\u001b[38;5;241m=\u001b[39m\u001b[38;5;241m0\u001b[39m \u001b[38;5;28;01melse\u001b[39;00m \u001b[43mpd\u001b[49m\u001b[38;5;241;43m.\u001b[39;49m\u001b[43mnp\u001b[49m\u001b[38;5;241m.\u001b[39mnan)\n\u001b[1;32m    850\u001b[0m \tnegative\u001b[38;5;241m=\u001b[39mtrace\u001b[38;5;241m.\u001b[39mapply(\u001b[38;5;28;01mlambda\u001b[39;00m x:x \u001b[38;5;28;01mif\u001b[39;00m x\u001b[38;5;241m<\u001b[39m\u001b[38;5;241m0\u001b[39m \u001b[38;5;28;01melse\u001b[39;00m pd\u001b[38;5;241m.\u001b[39mnp\u001b[38;5;241m.\u001b[39mnan)\n\u001b[1;32m    851\u001b[0m \ttrace\u001b[38;5;241m=\u001b[39mpd\u001b[38;5;241m.\u001b[39mDataFrame({\u001b[38;5;124m'\u001b[39m\u001b[38;5;124mpositive\u001b[39m\u001b[38;5;124m'\u001b[39m:positive,\u001b[38;5;124m'\u001b[39m\u001b[38;5;124mnegative\u001b[39m\u001b[38;5;124m'\u001b[39m:negative})\n",
      "\u001b[0;31mAttributeError\u001b[0m: module 'pandas' has no attribute 'np'"
     ]
    }
   ],
   "source": [
    "df[['A','B']].iplot(kind='spread')"
   ]
  },
  {
   "cell_type": "markdown",
   "metadata": {},
   "source": [
    "## histogram"
   ]
  },
  {
   "cell_type": "code",
   "execution_count": 16,
   "metadata": {
    "collapsed": false,
    "jupyter": {
     "outputs_hidden": false
    }
   },
   "outputs": [
    {
     "data": {
      "application/vnd.plotly.v1+json": {
       "config": {
        "linkText": "Export to plot.ly",
        "plotlyServerURL": "https://plot.ly",
        "showLink": true
       },
       "data": [
        {
         "histfunc": "count",
         "histnorm": "",
         "marker": {
          "color": "rgba(255, 153, 51, 1.0)",
          "line": {
           "color": "#4D5663",
           "width": 1.3
          }
         },
         "name": "A",
         "nbinsx": 25,
         "opacity": 0.8,
         "orientation": "v",
         "type": "histogram",
         "x": [
          -0.3906035117543167,
          1.0863264715185994,
          0.6835253814650998,
          -0.23576141864914893,
          -0.4429545878166258,
          2.116343170175117,
          1.4473913506726221,
          0.569652553863101,
          -0.009092623081691979,
          -1.0582945442935632,
          -0.12084486928238401,
          0.08815152034967148,
          0.11959952693200762,
          -0.7254016820099657,
          -0.21947884771572385,
          0.6307412937895936,
          -0.2715854516702586,
          0.6774799956997187,
          -3.326632598527113,
          -1.1010555748854676,
          -0.8285736989645863,
          1.4286432413197285,
          -1.2863673982151753,
          0.5560943872450889,
          -1.2156580243428767,
          0.2907123370476229,
          -0.03962130114381719,
          0.6128214007748458,
          1.5909112248895954,
          0.5649731989364699,
          0.11915288705665236,
          -0.6470755860638769,
          0.284160040239183,
          2.600494959494294,
          -1.2022014874643814,
          -0.13223808754142752,
          -0.041316482136716834,
          0.5098732219097379,
          0.15915568444349057,
          -0.5043819681281224,
          -0.3556156798004133,
          -0.3796013635814211,
          -1.8593197564762267,
          0.8978164798024615,
          0.39446349009737763,
          -0.694784547578885,
          0.26880235000994757,
          0.6167174702859992,
          -0.4997994420796771,
          0.4450096699471989,
          -0.8847488445344148,
          1.0987983381132622,
          -0.8452209252813302,
          -1.0648063360549604,
          -0.19084391043675195,
          -0.15859338257624883,
          0.7630611129237804,
          3.2291066281589886,
          0.6929317663642419,
          -0.5838146426552702,
          0.5861013284436394,
          -1.2650129403147923,
          -0.9874629601084706,
          0.22189992221823152,
          0.1070480664013499,
          -0.020257070664600894,
          0.540074434383443,
          -1.1153734802213902,
          -0.5408456367874344,
          -0.9363710338016914,
          -0.8768419048054417,
          0.5757258953442429,
          1.1302549841946514,
          1.0141595421180447,
          0.04382098826360184,
          1.0850336979622708,
          2.3157010748108156,
          -0.5705093840098091,
          1.9021376615749161,
          0.6295200030080252,
          -0.5850574454103049,
          1.0035871157471201,
          0.8792469474737475,
          -1.1340408358411769,
          0.1601995205845725,
          -0.024707485401965698,
          0.6120477835646161,
          0.8923372998260404,
          -1.3152338654473736,
          0.3878815351547292,
          0.7210458168234605,
          -2.41264623404743,
          -0.3959192713590546,
          0.8869462669540071,
          -0.035460269728471466,
          -0.9470516684026542,
          -0.4392408054657591,
          -1.1946784087205802,
          1.0776855106669865,
          0.5440523475359473
         ]
        }
       ],
       "layout": {
        "barmode": "overlay",
        "legend": {
         "bgcolor": "#F5F6F9",
         "font": {
          "color": "#4D5663"
         }
        },
        "paper_bgcolor": "#F5F6F9",
        "plot_bgcolor": "#F5F6F9",
        "template": {
         "data": {
          "bar": [
           {
            "error_x": {
             "color": "#2a3f5f"
            },
            "error_y": {
             "color": "#2a3f5f"
            },
            "marker": {
             "line": {
              "color": "#E5ECF6",
              "width": 0.5
             },
             "pattern": {
              "fillmode": "overlay",
              "size": 10,
              "solidity": 0.2
             }
            },
            "type": "bar"
           }
          ],
          "barpolar": [
           {
            "marker": {
             "line": {
              "color": "#E5ECF6",
              "width": 0.5
             },
             "pattern": {
              "fillmode": "overlay",
              "size": 10,
              "solidity": 0.2
             }
            },
            "type": "barpolar"
           }
          ],
          "carpet": [
           {
            "aaxis": {
             "endlinecolor": "#2a3f5f",
             "gridcolor": "white",
             "linecolor": "white",
             "minorgridcolor": "white",
             "startlinecolor": "#2a3f5f"
            },
            "baxis": {
             "endlinecolor": "#2a3f5f",
             "gridcolor": "white",
             "linecolor": "white",
             "minorgridcolor": "white",
             "startlinecolor": "#2a3f5f"
            },
            "type": "carpet"
           }
          ],
          "choropleth": [
           {
            "colorbar": {
             "outlinewidth": 0,
             "ticks": ""
            },
            "type": "choropleth"
           }
          ],
          "contour": [
           {
            "colorbar": {
             "outlinewidth": 0,
             "ticks": ""
            },
            "colorscale": [
             [
              0,
              "#0d0887"
             ],
             [
              0.1111111111111111,
              "#46039f"
             ],
             [
              0.2222222222222222,
              "#7201a8"
             ],
             [
              0.3333333333333333,
              "#9c179e"
             ],
             [
              0.4444444444444444,
              "#bd3786"
             ],
             [
              0.5555555555555556,
              "#d8576b"
             ],
             [
              0.6666666666666666,
              "#ed7953"
             ],
             [
              0.7777777777777778,
              "#fb9f3a"
             ],
             [
              0.8888888888888888,
              "#fdca26"
             ],
             [
              1,
              "#f0f921"
             ]
            ],
            "type": "contour"
           }
          ],
          "contourcarpet": [
           {
            "colorbar": {
             "outlinewidth": 0,
             "ticks": ""
            },
            "type": "contourcarpet"
           }
          ],
          "heatmap": [
           {
            "colorbar": {
             "outlinewidth": 0,
             "ticks": ""
            },
            "colorscale": [
             [
              0,
              "#0d0887"
             ],
             [
              0.1111111111111111,
              "#46039f"
             ],
             [
              0.2222222222222222,
              "#7201a8"
             ],
             [
              0.3333333333333333,
              "#9c179e"
             ],
             [
              0.4444444444444444,
              "#bd3786"
             ],
             [
              0.5555555555555556,
              "#d8576b"
             ],
             [
              0.6666666666666666,
              "#ed7953"
             ],
             [
              0.7777777777777778,
              "#fb9f3a"
             ],
             [
              0.8888888888888888,
              "#fdca26"
             ],
             [
              1,
              "#f0f921"
             ]
            ],
            "type": "heatmap"
           }
          ],
          "heatmapgl": [
           {
            "colorbar": {
             "outlinewidth": 0,
             "ticks": ""
            },
            "colorscale": [
             [
              0,
              "#0d0887"
             ],
             [
              0.1111111111111111,
              "#46039f"
             ],
             [
              0.2222222222222222,
              "#7201a8"
             ],
             [
              0.3333333333333333,
              "#9c179e"
             ],
             [
              0.4444444444444444,
              "#bd3786"
             ],
             [
              0.5555555555555556,
              "#d8576b"
             ],
             [
              0.6666666666666666,
              "#ed7953"
             ],
             [
              0.7777777777777778,
              "#fb9f3a"
             ],
             [
              0.8888888888888888,
              "#fdca26"
             ],
             [
              1,
              "#f0f921"
             ]
            ],
            "type": "heatmapgl"
           }
          ],
          "histogram": [
           {
            "marker": {
             "pattern": {
              "fillmode": "overlay",
              "size": 10,
              "solidity": 0.2
             }
            },
            "type": "histogram"
           }
          ],
          "histogram2d": [
           {
            "colorbar": {
             "outlinewidth": 0,
             "ticks": ""
            },
            "colorscale": [
             [
              0,
              "#0d0887"
             ],
             [
              0.1111111111111111,
              "#46039f"
             ],
             [
              0.2222222222222222,
              "#7201a8"
             ],
             [
              0.3333333333333333,
              "#9c179e"
             ],
             [
              0.4444444444444444,
              "#bd3786"
             ],
             [
              0.5555555555555556,
              "#d8576b"
             ],
             [
              0.6666666666666666,
              "#ed7953"
             ],
             [
              0.7777777777777778,
              "#fb9f3a"
             ],
             [
              0.8888888888888888,
              "#fdca26"
             ],
             [
              1,
              "#f0f921"
             ]
            ],
            "type": "histogram2d"
           }
          ],
          "histogram2dcontour": [
           {
            "colorbar": {
             "outlinewidth": 0,
             "ticks": ""
            },
            "colorscale": [
             [
              0,
              "#0d0887"
             ],
             [
              0.1111111111111111,
              "#46039f"
             ],
             [
              0.2222222222222222,
              "#7201a8"
             ],
             [
              0.3333333333333333,
              "#9c179e"
             ],
             [
              0.4444444444444444,
              "#bd3786"
             ],
             [
              0.5555555555555556,
              "#d8576b"
             ],
             [
              0.6666666666666666,
              "#ed7953"
             ],
             [
              0.7777777777777778,
              "#fb9f3a"
             ],
             [
              0.8888888888888888,
              "#fdca26"
             ],
             [
              1,
              "#f0f921"
             ]
            ],
            "type": "histogram2dcontour"
           }
          ],
          "mesh3d": [
           {
            "colorbar": {
             "outlinewidth": 0,
             "ticks": ""
            },
            "type": "mesh3d"
           }
          ],
          "parcoords": [
           {
            "line": {
             "colorbar": {
              "outlinewidth": 0,
              "ticks": ""
             }
            },
            "type": "parcoords"
           }
          ],
          "pie": [
           {
            "automargin": true,
            "type": "pie"
           }
          ],
          "scatter": [
           {
            "fillpattern": {
             "fillmode": "overlay",
             "size": 10,
             "solidity": 0.2
            },
            "type": "scatter"
           }
          ],
          "scatter3d": [
           {
            "line": {
             "colorbar": {
              "outlinewidth": 0,
              "ticks": ""
             }
            },
            "marker": {
             "colorbar": {
              "outlinewidth": 0,
              "ticks": ""
             }
            },
            "type": "scatter3d"
           }
          ],
          "scattercarpet": [
           {
            "marker": {
             "colorbar": {
              "outlinewidth": 0,
              "ticks": ""
             }
            },
            "type": "scattercarpet"
           }
          ],
          "scattergeo": [
           {
            "marker": {
             "colorbar": {
              "outlinewidth": 0,
              "ticks": ""
             }
            },
            "type": "scattergeo"
           }
          ],
          "scattergl": [
           {
            "marker": {
             "colorbar": {
              "outlinewidth": 0,
              "ticks": ""
             }
            },
            "type": "scattergl"
           }
          ],
          "scattermapbox": [
           {
            "marker": {
             "colorbar": {
              "outlinewidth": 0,
              "ticks": ""
             }
            },
            "type": "scattermapbox"
           }
          ],
          "scatterpolar": [
           {
            "marker": {
             "colorbar": {
              "outlinewidth": 0,
              "ticks": ""
             }
            },
            "type": "scatterpolar"
           }
          ],
          "scatterpolargl": [
           {
            "marker": {
             "colorbar": {
              "outlinewidth": 0,
              "ticks": ""
             }
            },
            "type": "scatterpolargl"
           }
          ],
          "scatterternary": [
           {
            "marker": {
             "colorbar": {
              "outlinewidth": 0,
              "ticks": ""
             }
            },
            "type": "scatterternary"
           }
          ],
          "surface": [
           {
            "colorbar": {
             "outlinewidth": 0,
             "ticks": ""
            },
            "colorscale": [
             [
              0,
              "#0d0887"
             ],
             [
              0.1111111111111111,
              "#46039f"
             ],
             [
              0.2222222222222222,
              "#7201a8"
             ],
             [
              0.3333333333333333,
              "#9c179e"
             ],
             [
              0.4444444444444444,
              "#bd3786"
             ],
             [
              0.5555555555555556,
              "#d8576b"
             ],
             [
              0.6666666666666666,
              "#ed7953"
             ],
             [
              0.7777777777777778,
              "#fb9f3a"
             ],
             [
              0.8888888888888888,
              "#fdca26"
             ],
             [
              1,
              "#f0f921"
             ]
            ],
            "type": "surface"
           }
          ],
          "table": [
           {
            "cells": {
             "fill": {
              "color": "#EBF0F8"
             },
             "line": {
              "color": "white"
             }
            },
            "header": {
             "fill": {
              "color": "#C8D4E3"
             },
             "line": {
              "color": "white"
             }
            },
            "type": "table"
           }
          ]
         },
         "layout": {
          "annotationdefaults": {
           "arrowcolor": "#2a3f5f",
           "arrowhead": 0,
           "arrowwidth": 1
          },
          "autotypenumbers": "strict",
          "coloraxis": {
           "colorbar": {
            "outlinewidth": 0,
            "ticks": ""
           }
          },
          "colorscale": {
           "diverging": [
            [
             0,
             "#8e0152"
            ],
            [
             0.1,
             "#c51b7d"
            ],
            [
             0.2,
             "#de77ae"
            ],
            [
             0.3,
             "#f1b6da"
            ],
            [
             0.4,
             "#fde0ef"
            ],
            [
             0.5,
             "#f7f7f7"
            ],
            [
             0.6,
             "#e6f5d0"
            ],
            [
             0.7,
             "#b8e186"
            ],
            [
             0.8,
             "#7fbc41"
            ],
            [
             0.9,
             "#4d9221"
            ],
            [
             1,
             "#276419"
            ]
           ],
           "sequential": [
            [
             0,
             "#0d0887"
            ],
            [
             0.1111111111111111,
             "#46039f"
            ],
            [
             0.2222222222222222,
             "#7201a8"
            ],
            [
             0.3333333333333333,
             "#9c179e"
            ],
            [
             0.4444444444444444,
             "#bd3786"
            ],
            [
             0.5555555555555556,
             "#d8576b"
            ],
            [
             0.6666666666666666,
             "#ed7953"
            ],
            [
             0.7777777777777778,
             "#fb9f3a"
            ],
            [
             0.8888888888888888,
             "#fdca26"
            ],
            [
             1,
             "#f0f921"
            ]
           ],
           "sequentialminus": [
            [
             0,
             "#0d0887"
            ],
            [
             0.1111111111111111,
             "#46039f"
            ],
            [
             0.2222222222222222,
             "#7201a8"
            ],
            [
             0.3333333333333333,
             "#9c179e"
            ],
            [
             0.4444444444444444,
             "#bd3786"
            ],
            [
             0.5555555555555556,
             "#d8576b"
            ],
            [
             0.6666666666666666,
             "#ed7953"
            ],
            [
             0.7777777777777778,
             "#fb9f3a"
            ],
            [
             0.8888888888888888,
             "#fdca26"
            ],
            [
             1,
             "#f0f921"
            ]
           ]
          },
          "colorway": [
           "#636efa",
           "#EF553B",
           "#00cc96",
           "#ab63fa",
           "#FFA15A",
           "#19d3f3",
           "#FF6692",
           "#B6E880",
           "#FF97FF",
           "#FECB52"
          ],
          "font": {
           "color": "#2a3f5f"
          },
          "geo": {
           "bgcolor": "white",
           "lakecolor": "white",
           "landcolor": "#E5ECF6",
           "showlakes": true,
           "showland": true,
           "subunitcolor": "white"
          },
          "hoverlabel": {
           "align": "left"
          },
          "hovermode": "closest",
          "mapbox": {
           "style": "light"
          },
          "paper_bgcolor": "white",
          "plot_bgcolor": "#E5ECF6",
          "polar": {
           "angularaxis": {
            "gridcolor": "white",
            "linecolor": "white",
            "ticks": ""
           },
           "bgcolor": "#E5ECF6",
           "radialaxis": {
            "gridcolor": "white",
            "linecolor": "white",
            "ticks": ""
           }
          },
          "scene": {
           "xaxis": {
            "backgroundcolor": "#E5ECF6",
            "gridcolor": "white",
            "gridwidth": 2,
            "linecolor": "white",
            "showbackground": true,
            "ticks": "",
            "zerolinecolor": "white"
           },
           "yaxis": {
            "backgroundcolor": "#E5ECF6",
            "gridcolor": "white",
            "gridwidth": 2,
            "linecolor": "white",
            "showbackground": true,
            "ticks": "",
            "zerolinecolor": "white"
           },
           "zaxis": {
            "backgroundcolor": "#E5ECF6",
            "gridcolor": "white",
            "gridwidth": 2,
            "linecolor": "white",
            "showbackground": true,
            "ticks": "",
            "zerolinecolor": "white"
           }
          },
          "shapedefaults": {
           "line": {
            "color": "#2a3f5f"
           }
          },
          "ternary": {
           "aaxis": {
            "gridcolor": "white",
            "linecolor": "white",
            "ticks": ""
           },
           "baxis": {
            "gridcolor": "white",
            "linecolor": "white",
            "ticks": ""
           },
           "bgcolor": "#E5ECF6",
           "caxis": {
            "gridcolor": "white",
            "linecolor": "white",
            "ticks": ""
           }
          },
          "title": {
           "x": 0.05
          },
          "xaxis": {
           "automargin": true,
           "gridcolor": "white",
           "linecolor": "white",
           "ticks": "",
           "title": {
            "standoff": 15
           },
           "zerolinecolor": "white",
           "zerolinewidth": 2
          },
          "yaxis": {
           "automargin": true,
           "gridcolor": "white",
           "linecolor": "white",
           "ticks": "",
           "title": {
            "standoff": 15
           },
           "zerolinecolor": "white",
           "zerolinewidth": 2
          }
         }
        },
        "title": {
         "font": {
          "color": "#4D5663"
         }
        },
        "xaxis": {
         "gridcolor": "#E1E5ED",
         "showgrid": true,
         "tickfont": {
          "color": "#4D5663"
         },
         "title": {
          "font": {
           "color": "#4D5663"
          },
          "text": ""
         },
         "zerolinecolor": "#E1E5ED"
        },
        "yaxis": {
         "gridcolor": "#E1E5ED",
         "showgrid": true,
         "tickfont": {
          "color": "#4D5663"
         },
         "title": {
          "font": {
           "color": "#4D5663"
          },
          "text": ""
         },
         "zerolinecolor": "#E1E5ED"
        }
       }
      },
      "image/png": "[encoded data removed]",
      "text/html": [
       "<div>                            <div id=\"3adfc4b1-f82f-45a9-a2b1-a25ee491a7d7\" class=\"plotly-graph-div\" style=\"height:525px; width:100%;\"></div>            <script type=\"text/javascript\">                require([\"plotly\"], function(Plotly) {                    window.PLOTLYENV=window.PLOTLYENV || {};\n",
       "                    window.PLOTLYENV.BASE_URL='https://plot.ly';                                    if (document.getElementById(\"3adfc4b1-f82f-45a9-a2b1-a25ee491a7d7\")) {                    Plotly.newPlot(                        \"3adfc4b1-f82f-45a9-a2b1-a25ee491a7d7\",                        [{\"histfunc\":\"count\",\"histnorm\":\"\",\"marker\":{\"color\":\"rgba(255, 153, 51, 1.0)\",\"line\":{\"color\":\"#4D5663\",\"width\":1.3}},\"name\":\"A\",\"nbinsx\":25,\"opacity\":0.8,\"orientation\":\"v\",\"x\":[-0.3906035117543167,1.0863264715185994,0.6835253814650998,-0.23576141864914893,-0.4429545878166258,2.116343170175117,1.4473913506726221,0.569652553863101,-0.009092623081691979,-1.0582945442935632,-0.12084486928238401,0.08815152034967148,0.11959952693200762,-0.7254016820099657,-0.21947884771572385,0.6307412937895936,-0.2715854516702586,0.6774799956997187,-3.326632598527113,-1.1010555748854676,-0.8285736989645863,1.4286432413197285,-1.2863673982151753,0.5560943872450889,-1.2156580243428767,0.2907123370476229,-0.03962130114381719,0.6128214007748458,1.5909112248895954,0.5649731989364699,0.11915288705665236,-0.6470755860638769,0.284160040239183,2.600494959494294,-1.2022014874643814,-0.13223808754142752,-0.041316482136716834,0.5098732219097379,0.15915568444349057,-0.5043819681281224,-0.3556156798004133,-0.3796013635814211,-1.8593197564762267,0.8978164798024615,0.39446349009737763,-0.694784547578885,0.26880235000994757,0.6167174702859992,-0.4997994420796771,0.4450096699471989,-0.8847488445344148,1.0987983381132622,-0.8452209252813302,-1.0648063360549604,-0.19084391043675195,-0.15859338257624883,0.7630611129237804,3.2291066281589886,0.6929317663642419,-0.5838146426552702,0.5861013284436394,-1.2650129403147923,-0.9874629601084706,0.22189992221823152,0.1070480664013499,-0.020257070664600894,0.540074434383443,-1.1153734802213902,-0.5408456367874344,-0.9363710338016914,-0.8768419048054417,0.5757258953442429,1.1302549841946514,1.0141595421180447,0.04382098826360184,1.0850336979622708,2.3157010748108156,-0.5705093840098091,1.9021376615749161,0.6295200030080252,-0.5850574454103049,1.0035871157471201,0.8792469474737475,-1.1340408358411769,0.1601995205845725,-0.024707485401965698,0.6120477835646161,0.8923372998260404,-1.3152338654473736,0.3878815351547292,0.7210458168234605,-2.41264623404743,-0.3959192713590546,0.8869462669540071,-0.035460269728471466,-0.9470516684026542,-0.4392408054657591,-1.1946784087205802,1.0776855106669865,0.5440523475359473],\"type\":\"histogram\"}],                        {\"barmode\":\"overlay\",\"legend\":{\"bgcolor\":\"#F5F6F9\",\"font\":{\"color\":\"#4D5663\"}},\"paper_bgcolor\":\"#F5F6F9\",\"plot_bgcolor\":\"#F5F6F9\",\"template\":{\"data\":{\"barpolar\":[{\"marker\":{\"line\":{\"color\":\"#E5ECF6\",\"width\":0.5},\"pattern\":{\"fillmode\":\"overlay\",\"size\":10,\"solidity\":0.2}},\"type\":\"barpolar\"}],\"bar\":[{\"error_x\":{\"color\":\"#2a3f5f\"},\"error_y\":{\"color\":\"#2a3f5f\"},\"marker\":{\"line\":{\"color\":\"#E5ECF6\",\"width\":0.5},\"pattern\":{\"fillmode\":\"overlay\",\"size\":10,\"solidity\":0.2}},\"type\":\"bar\"}],\"carpet\":[{\"aaxis\":{\"endlinecolor\":\"#2a3f5f\",\"gridcolor\":\"white\",\"linecolor\":\"white\",\"minorgridcolor\":\"white\",\"startlinecolor\":\"#2a3f5f\"},\"baxis\":{\"endlinecolor\":\"#2a3f5f\",\"gridcolor\":\"white\",\"linecolor\":\"white\",\"minorgridcolor\":\"white\",\"startlinecolor\":\"#2a3f5f\"},\"type\":\"carpet\"}],\"choropleth\":[{\"colorbar\":{\"outlinewidth\":0,\"ticks\":\"\"},\"type\":\"choropleth\"}],\"contourcarpet\":[{\"colorbar\":{\"outlinewidth\":0,\"ticks\":\"\"},\"type\":\"contourcarpet\"}],\"contour\":[{\"colorbar\":{\"outlinewidth\":0,\"ticks\":\"\"},\"colorscale\":[[0.0,\"#0d0887\"],[0.1111111111111111,\"#46039f\"],[0.2222222222222222,\"#7201a8\"],[0.3333333333333333,\"#9c179e\"],[0.4444444444444444,\"#bd3786\"],[0.5555555555555556,\"#d8576b\"],[0.6666666666666666,\"#ed7953\"],[0.7777777777777778,\"#fb9f3a\"],[0.8888888888888888,\"#fdca26\"],[1.0,\"#f0f921\"]],\"type\":\"contour\"}],\"heatmapgl\":[{\"colorbar\":{\"outlinewidth\":0,\"ticks\":\"\"},\"colorscale\":[[0.0,\"#0d0887\"],[0.1111111111111111,\"#46039f\"],[0.2222222222222222,\"#7201a8\"],[0.3333333333333333,\"#9c179e\"],[0.4444444444444444,\"#bd3786\"],[0.5555555555555556,\"#d8576b\"],[0.6666666666666666,\"#ed7953\"],[0.7777777777777778,\"#fb9f3a\"],[0.8888888888888888,\"#fdca26\"],[1.0,\"#f0f921\"]],\"type\":\"heatmapgl\"}],\"heatmap\":[{\"colorbar\":{\"outlinewidth\":0,\"ticks\":\"\"},\"colorscale\":[[0.0,\"#0d0887\"],[0.1111111111111111,\"#46039f\"],[0.2222222222222222,\"#7201a8\"],[0.3333333333333333,\"#9c179e\"],[0.4444444444444444,\"#bd3786\"],[0.5555555555555556,\"#d8576b\"],[0.6666666666666666,\"#ed7953\"],[0.7777777777777778,\"#fb9f3a\"],[0.8888888888888888,\"#fdca26\"],[1.0,\"#f0f921\"]],\"type\":\"heatmap\"}],\"histogram2dcontour\":[{\"colorbar\":{\"outlinewidth\":0,\"ticks\":\"\"},\"colorscale\":[[0.0,\"#0d0887\"],[0.1111111111111111,\"#46039f\"],[0.2222222222222222,\"#7201a8\"],[0.3333333333333333,\"#9c179e\"],[0.4444444444444444,\"#bd3786\"],[0.5555555555555556,\"#d8576b\"],[0.6666666666666666,\"#ed7953\"],[0.7777777777777778,\"#fb9f3a\"],[0.8888888888888888,\"#fdca26\"],[1.0,\"#f0f921\"]],\"type\":\"histogram2dcontour\"}],\"histogram2d\":[{\"colorbar\":{\"outlinewidth\":0,\"ticks\":\"\"},\"colorscale\":[[0.0,\"#0d0887\"],[0.1111111111111111,\"#46039f\"],[0.2222222222222222,\"#7201a8\"],[0.3333333333333333,\"#9c179e\"],[0.4444444444444444,\"#bd3786\"],[0.5555555555555556,\"#d8576b\"],[0.6666666666666666,\"#ed7953\"],[0.7777777777777778,\"#fb9f3a\"],[0.8888888888888888,\"#fdca26\"],[1.0,\"#f0f921\"]],\"type\":\"histogram2d\"}],\"histogram\":[{\"marker\":{\"pattern\":{\"fillmode\":\"overlay\",\"size\":10,\"solidity\":0.2}},\"type\":\"histogram\"}],\"mesh3d\":[{\"colorbar\":{\"outlinewidth\":0,\"ticks\":\"\"},\"type\":\"mesh3d\"}],\"parcoords\":[{\"line\":{\"colorbar\":{\"outlinewidth\":0,\"ticks\":\"\"}},\"type\":\"parcoords\"}],\"pie\":[{\"automargin\":true,\"type\":\"pie\"}],\"scatter3d\":[{\"line\":{\"colorbar\":{\"outlinewidth\":0,\"ticks\":\"\"}},\"marker\":{\"colorbar\":{\"outlinewidth\":0,\"ticks\":\"\"}},\"type\":\"scatter3d\"}],\"scattercarpet\":[{\"marker\":{\"colorbar\":{\"outlinewidth\":0,\"ticks\":\"\"}},\"type\":\"scattercarpet\"}],\"scattergeo\":[{\"marker\":{\"colorbar\":{\"outlinewidth\":0,\"ticks\":\"\"}},\"type\":\"scattergeo\"}],\"scattergl\":[{\"marker\":{\"colorbar\":{\"outlinewidth\":0,\"ticks\":\"\"}},\"type\":\"scattergl\"}],\"scattermapbox\":[{\"marker\":{\"colorbar\":{\"outlinewidth\":0,\"ticks\":\"\"}},\"type\":\"scattermapbox\"}],\"scatterpolargl\":[{\"marker\":{\"colorbar\":{\"outlinewidth\":0,\"ticks\":\"\"}},\"type\":\"scatterpolargl\"}],\"scatterpolar\":[{\"marker\":{\"colorbar\":{\"outlinewidth\":0,\"ticks\":\"\"}},\"type\":\"scatterpolar\"}],\"scatter\":[{\"fillpattern\":{\"fillmode\":\"overlay\",\"size\":10,\"solidity\":0.2},\"type\":\"scatter\"}],\"scatterternary\":[{\"marker\":{\"colorbar\":{\"outlinewidth\":0,\"ticks\":\"\"}},\"type\":\"scatterternary\"}],\"surface\":[{\"colorbar\":{\"outlinewidth\":0,\"ticks\":\"\"},\"colorscale\":[[0.0,\"#0d0887\"],[0.1111111111111111,\"#46039f\"],[0.2222222222222222,\"#7201a8\"],[0.3333333333333333,\"#9c179e\"],[0.4444444444444444,\"#bd3786\"],[0.5555555555555556,\"#d8576b\"],[0.6666666666666666,\"#ed7953\"],[0.7777777777777778,\"#fb9f3a\"],[0.8888888888888888,\"#fdca26\"],[1.0,\"#f0f921\"]],\"type\":\"surface\"}],\"table\":[{\"cells\":{\"fill\":{\"color\":\"#EBF0F8\"},\"line\":{\"color\":\"white\"}},\"header\":{\"fill\":{\"color\":\"#C8D4E3\"},\"line\":{\"color\":\"white\"}},\"type\":\"table\"}]},\"layout\":{\"annotationdefaults\":{\"arrowcolor\":\"#2a3f5f\",\"arrowhead\":0,\"arrowwidth\":1},\"autotypenumbers\":\"strict\",\"coloraxis\":{\"colorbar\":{\"outlinewidth\":0,\"ticks\":\"\"}},\"colorscale\":{\"diverging\":[[0,\"#8e0152\"],[0.1,\"#c51b7d\"],[0.2,\"#de77ae\"],[0.3,\"#f1b6da\"],[0.4,\"#fde0ef\"],[0.5,\"#f7f7f7\"],[0.6,\"#e6f5d0\"],[0.7,\"#b8e186\"],[0.8,\"#7fbc41\"],[0.9,\"#4d9221\"],[1,\"#276419\"]],\"sequential\":[[0.0,\"#0d0887\"],[0.1111111111111111,\"#46039f\"],[0.2222222222222222,\"#7201a8\"],[0.3333333333333333,\"#9c179e\"],[0.4444444444444444,\"#bd3786\"],[0.5555555555555556,\"#d8576b\"],[0.6666666666666666,\"#ed7953\"],[0.7777777777777778,\"#fb9f3a\"],[0.8888888888888888,\"#fdca26\"],[1.0,\"#f0f921\"]],\"sequentialminus\":[[0.0,\"#0d0887\"],[0.1111111111111111,\"#46039f\"],[0.2222222222222222,\"#7201a8\"],[0.3333333333333333,\"#9c179e\"],[0.4444444444444444,\"#bd3786\"],[0.5555555555555556,\"#d8576b\"],[0.6666666666666666,\"#ed7953\"],[0.7777777777777778,\"#fb9f3a\"],[0.8888888888888888,\"#fdca26\"],[1.0,\"#f0f921\"]]},\"colorway\":[\"#636efa\",\"#EF553B\",\"#00cc96\",\"#ab63fa\",\"#FFA15A\",\"#19d3f3\",\"#FF6692\",\"#B6E880\",\"#FF97FF\",\"#FECB52\"],\"font\":{\"color\":\"#2a3f5f\"},\"geo\":{\"bgcolor\":\"white\",\"lakecolor\":\"white\",\"landcolor\":\"#E5ECF6\",\"showlakes\":true,\"showland\":true,\"subunitcolor\":\"white\"},\"hoverlabel\":{\"align\":\"left\"},\"hovermode\":\"closest\",\"mapbox\":{\"style\":\"light\"},\"paper_bgcolor\":\"white\",\"plot_bgcolor\":\"#E5ECF6\",\"polar\":{\"angularaxis\":{\"gridcolor\":\"white\",\"linecolor\":\"white\",\"ticks\":\"\"},\"bgcolor\":\"#E5ECF6\",\"radialaxis\":{\"gridcolor\":\"white\",\"linecolor\":\"white\",\"ticks\":\"\"}},\"scene\":{\"xaxis\":{\"backgroundcolor\":\"#E5ECF6\",\"gridcolor\":\"white\",\"gridwidth\":2,\"linecolor\":\"white\",\"showbackground\":true,\"ticks\":\"\",\"zerolinecolor\":\"white\"},\"yaxis\":{\"backgroundcolor\":\"#E5ECF6\",\"gridcolor\":\"white\",\"gridwidth\":2,\"linecolor\":\"white\",\"showbackground\":true,\"ticks\":\"\",\"zerolinecolor\":\"white\"},\"zaxis\":{\"backgroundcolor\":\"#E5ECF6\",\"gridcolor\":\"white\",\"gridwidth\":2,\"linecolor\":\"white\",\"showbackground\":true,\"ticks\":\"\",\"zerolinecolor\":\"white\"}},\"shapedefaults\":{\"line\":{\"color\":\"#2a3f5f\"}},\"ternary\":{\"aaxis\":{\"gridcolor\":\"white\",\"linecolor\":\"white\",\"ticks\":\"\"},\"baxis\":{\"gridcolor\":\"white\",\"linecolor\":\"white\",\"ticks\":\"\"},\"bgcolor\":\"#E5ECF6\",\"caxis\":{\"gridcolor\":\"white\",\"linecolor\":\"white\",\"ticks\":\"\"}},\"title\":{\"x\":0.05},\"xaxis\":{\"automargin\":true,\"gridcolor\":\"white\",\"linecolor\":\"white\",\"ticks\":\"\",\"title\":{\"standoff\":15},\"zerolinecolor\":\"white\",\"zerolinewidth\":2},\"yaxis\":{\"automargin\":true,\"gridcolor\":\"white\",\"linecolor\":\"white\",\"ticks\":\"\",\"title\":{\"standoff\":15},\"zerolinecolor\":\"white\",\"zerolinewidth\":2}}},\"title\":{\"font\":{\"color\":\"#4D5663\"}},\"xaxis\":{\"gridcolor\":\"#E1E5ED\",\"showgrid\":true,\"tickfont\":{\"color\":\"#4D5663\"},\"title\":{\"font\":{\"color\":\"#4D5663\"},\"text\":\"\"},\"zerolinecolor\":\"#E1E5ED\"},\"yaxis\":{\"gridcolor\":\"#E1E5ED\",\"showgrid\":true,\"tickfont\":{\"color\":\"#4D5663\"},\"title\":{\"font\":{\"color\":\"#4D5663\"},\"text\":\"\"},\"zerolinecolor\":\"#E1E5ED\"}},                        {\"showLink\": true, \"linkText\": \"Export to plot.ly\", \"plotlyServerURL\": \"https://plot.ly\", \"responsive\": true}                    ).then(function(){\n",
       "                            \n",
       "var gd = document.getElementById('3adfc4b1-f82f-45a9-a2b1-a25ee491a7d7');\n",
       "var x = new MutationObserver(function (mutations, observer) {{\n",
       "        var display = window.getComputedStyle(gd).display;\n",
       "        if (!display || display === 'none') {{\n",
       "            console.log([gd, 'removed!']);\n",
       "            Plotly.purge(gd);\n",
       "            observer.disconnect();\n",
       "        }}\n",
       "}});\n",
       "\n",
       "// Listen for the removal of the full notebook cells\n",
       "var notebookContainer = gd.closest('#notebook-container');\n",
       "if (notebookContainer) {{\n",
       "    x.observe(notebookContainer, {childList: true});\n",
       "}}\n",
       "\n",
       "// Listen for the clearing of the current output cell\n",
       "var outputEl = gd.closest('.output');\n",
       "if (outputEl) {{\n",
       "    x.observe(outputEl, {childList: true});\n",
       "}}\n",
       "\n",
       "                        })                };                });            </script>        </div>"
      ]
     },
     "metadata": {},
     "output_type": "display_data"
    }
   ],
   "source": [
    "df['A'].iplot(kind='hist',bins=25)"
   ]
  },
  {
   "cell_type": "code",
   "execution_count": 17,
   "metadata": {
    "collapsed": false,
    "jupyter": {
     "outputs_hidden": false
    }
   },
   "outputs": [
    {
     "data": {
      "application/vnd.plotly.v1+json": {
       "config": {
        "linkText": "Export to plot.ly",
        "plotlyServerURL": "https://plot.ly",
        "showLink": true
       },
       "data": [
        {
         "marker": {
          "color": [
           "rgb(255, 153, 51)",
           "rgb(55, 128, 191)",
           "rgb(50, 171, 96)",
           "rgb(128, 0, 128)",
           "rgb(219, 64, 82)",
           "rgb(0, 128, 128)",
           "rgb(255, 255, 51)",
           "rgb(128, 128, 0)",
           "rgb(251, 128, 114)",
           "rgb(128, 177, 211)"
          ],
          "line": {
           "width": 1.3
          },
          "size": [
           73,
           71,
           39,
           46,
           45,
           64,
           66,
           78,
           63,
           112,
           57,
           41,
           58,
           46,
           24,
           60,
           70,
           51,
           90,
           59,
           35,
           39,
           94,
           28,
           69,
           84,
           14,
           46,
           59,
           79,
           40,
           53,
           70,
           53,
           110,
           49,
           55,
           51,
           31,
           56,
           33,
           34,
           54,
           29,
           63,
           47,
           56,
           48,
           75,
           69,
           57,
           103,
           65,
           76,
           36,
           53,
           57,
           25,
           45,
           52,
           62,
           36,
           45,
           74,
           45,
           52,
           38,
           89,
           67,
           54,
           67,
           45,
           80,
           52,
           67,
           52,
           50,
           54,
           64,
           58,
           39,
           47,
           81,
           57,
           78,
           76,
           53,
           49,
           42,
           32,
           73,
           31,
           71,
           73,
           45,
           49,
           12,
           52,
           48,
           93
          ],
          "symbol": "circle"
         },
         "mode": "markers",
         "text": "",
         "type": "scatter",
         "x": [
          -0.3906035117543167,
          1.0863264715185994,
          0.6835253814650998,
          -0.23576141864914893,
          -0.4429545878166258,
          2.116343170175117,
          1.4473913506726221,
          0.569652553863101,
          -0.009092623081691979,
          -1.0582945442935632,
          -0.12084486928238401,
          0.08815152034967148,
          0.11959952693200762,
          -0.7254016820099657,
          -0.21947884771572385,
          0.6307412937895936,
          -0.2715854516702586,
          0.6774799956997187,
          -3.326632598527113,
          -1.1010555748854676,
          -0.8285736989645863,
          1.4286432413197285,
          -1.2863673982151753,
          0.5560943872450889,
          -1.2156580243428767,
          0.2907123370476229,
          -0.03962130114381719,
          0.6128214007748458,
          1.5909112248895954,
          0.5649731989364699,
          0.11915288705665236,
          -0.6470755860638769,
          0.284160040239183,
          2.600494959494294,
          -1.2022014874643814,
          -0.13223808754142752,
          -0.041316482136716834,
          0.5098732219097379,
          0.15915568444349057,
          -0.5043819681281224,
          -0.3556156798004133,
          -0.3796013635814211,
          -1.8593197564762267,
          0.8978164798024615,
          0.39446349009737763,
          -0.694784547578885,
          0.26880235000994757,
          0.6167174702859992,
          -0.4997994420796771,
          0.4450096699471989,
          -0.8847488445344148,
          1.0987983381132622,
          -0.8452209252813302,
          -1.0648063360549604,
          -0.19084391043675195,
          -0.15859338257624883,
          0.7630611129237804,
          3.2291066281589886,
          0.6929317663642419,
          -0.5838146426552702,
          0.5861013284436394,
          -1.2650129403147923,
          -0.9874629601084706,
          0.22189992221823152,
          0.1070480664013499,
          -0.020257070664600894,
          0.540074434383443,
          -1.1153734802213902,
          -0.5408456367874344,
          -0.9363710338016914,
          -0.8768419048054417,
          0.5757258953442429,
          1.1302549841946514,
          1.0141595421180447,
          0.04382098826360184,
          1.0850336979622708,
          2.3157010748108156,
          -0.5705093840098091,
          1.9021376615749161,
          0.6295200030080252,
          -0.5850574454103049,
          1.0035871157471201,
          0.8792469474737475,
          -1.1340408358411769,
          0.1601995205845725,
          -0.024707485401965698,
          0.6120477835646161,
          0.8923372998260404,
          -1.3152338654473736,
          0.3878815351547292,
          0.7210458168234605,
          -2.41264623404743,
          -0.3959192713590546,
          0.8869462669540071,
          -0.035460269728471466,
          -0.9470516684026542,
          -0.4392408054657591,
          -1.1946784087205802,
          1.0776855106669865,
          0.5440523475359473
         ],
         "y": [
          0.9059599971152463,
          1.2640403590421745,
          -0.2807537530635768,
          0.06402790036215945,
          -0.3766235233694587,
          -0.10132459774762158,
          0.5339861080892987,
          -1.8643420708091076,
          -1.661866586796738,
          2.3569785219679438,
          0.8725438525555298,
          -1.9104769189833894,
          -0.255949299328033,
          -0.39668839332448974,
          -0.3134606308667052,
          0.350746961585668,
          1.5778418522684001,
          -0.7885120606107235,
          -0.37433000133476685,
          -0.7865830089210104,
          -0.07517524873421455,
          -0.44288240707585064,
          0.5137908325133144,
          -1.121977505222089,
          -0.03568683511645622,
          -1.7924711458135418,
          1.5029017374563711,
          0.06433630297088112,
          0.020239781673339292,
          -0.29025246002340094,
          -1.1302539905725308,
          -0.18947146526901348,
          0.42760165568481256,
          0.333016541738766,
          0.3267043674060358,
          -1.0513974533576986,
          0.3774706999121592,
          -0.24496204262494045,
          -0.5265156710485509,
          0.6463574886324186,
          -0.6767948282602794,
          -0.7166772868544358,
          0.560351760893181,
          -0.38743902854119106,
          1.6019552050879209,
          0.011477146477320555,
          -1.110362746013105,
          1.1481440836003125,
          0.23362353676972208,
          0.27168211675893295,
          -0.16882921026742742,
          -1.6965335749826864,
          0.223151048282374,
          1.3100580898431096,
          1.4736784282794164,
          -1.0640125173800254,
          0.9050701400953132,
          0.48767629647396676,
          0.6753774281301449,
          -0.5754626651176231,
          0.6040043802592154,
          1.265348899405205,
          -1.0762057552710116,
          -0.11111384920458972,
          0.09464773574212813,
          1.0547675685231737,
          -0.6448715282387144,
          0.7739440113180187,
          -0.4028863465882712,
          -0.6562669929880659,
          1.3215915296236977,
          -2.03936613444369,
          -0.43033095621917533,
          -1.0174206393367025,
          -0.4587717162908476,
          -0.5263286688595268,
          -0.5929967365131853,
          0.814656274814025,
          1.9808718424399285,
          0.8029333924830028,
          -0.9669195429938262,
          0.4864229162952104,
          0.24332058654426708,
          0.20638896725384728,
          -0.6328604773747971,
          0.9449775365738496,
          -0.5873652887040683,
          1.5405322330015419,
          1.4633251619674414,
          -0.7640730016069059,
          0.10094774101467074,
          -0.6472076918128246,
          1.5963909934782532,
          -0.28345811435467794,
          -1.708490142148577,
          0.3192433158479993,
          -0.7974039512022152,
          0.8490163670386164,
          0.7045434640122664,
          -0.05056336966839602
         ]
        }
       ],
       "layout": {
        "legend": {
         "bgcolor": "#F5F6F9",
         "font": {
          "color": "#4D5663"
         }
        },
        "paper_bgcolor": "#F5F6F9",
        "plot_bgcolor": "#F5F6F9",
        "template": {
         "data": {
          "bar": [
           {
            "error_x": {
             "color": "#2a3f5f"
            },
            "error_y": {
             "color": "#2a3f5f"
            },
            "marker": {
             "line": {
              "color": "#E5ECF6",
              "width": 0.5
             },
             "pattern": {
              "fillmode": "overlay",
              "size": 10,
              "solidity": 0.2
             }
            },
            "type": "bar"
           }
          ],
          "barpolar": [
           {
            "marker": {
             "line": {
              "color": "#E5ECF6",
              "width": 0.5
             },
             "pattern": {
              "fillmode": "overlay",
              "size": 10,
              "solidity": 0.2
             }
            },
            "type": "barpolar"
           }
          ],
          "carpet": [
           {
            "aaxis": {
             "endlinecolor": "#2a3f5f",
             "gridcolor": "white",
             "linecolor": "white",
             "minorgridcolor": "white",
             "startlinecolor": "#2a3f5f"
            },
            "baxis": {
             "endlinecolor": "#2a3f5f",
             "gridcolor": "white",
             "linecolor": "white",
             "minorgridcolor": "white",
             "startlinecolor": "#2a3f5f"
            },
            "type": "carpet"
           }
          ],
          "choropleth": [
           {
            "colorbar": {
             "outlinewidth": 0,
             "ticks": ""
            },
            "type": "choropleth"
           }
          ],
          "contour": [
           {
            "colorbar": {
             "outlinewidth": 0,
             "ticks": ""
            },
            "colorscale": [
             [
              0,
              "#0d0887"
             ],
             [
              0.1111111111111111,
              "#46039f"
             ],
             [
              0.2222222222222222,
              "#7201a8"
             ],
             [
              0.3333333333333333,
              "#9c179e"
             ],
             [
              0.4444444444444444,
              "#bd3786"
             ],
             [
              0.5555555555555556,
              "#d8576b"
             ],
             [
              0.6666666666666666,
              "#ed7953"
             ],
             [
              0.7777777777777778,
              "#fb9f3a"
             ],
             [
              0.8888888888888888,
              "#fdca26"
             ],
             [
              1,
              "#f0f921"
             ]
            ],
            "type": "contour"
           }
          ],
          "contourcarpet": [
           {
            "colorbar": {
             "outlinewidth": 0,
             "ticks": ""
            },
            "type": "contourcarpet"
           }
          ],
          "heatmap": [
           {
            "colorbar": {
             "outlinewidth": 0,
             "ticks": ""
            },
            "colorscale": [
             [
              0,
              "#0d0887"
             ],
             [
              0.1111111111111111,
              "#46039f"
             ],
             [
              0.2222222222222222,
              "#7201a8"
             ],
             [
              0.3333333333333333,
              "#9c179e"
             ],
             [
              0.4444444444444444,
              "#bd3786"
             ],
             [
              0.5555555555555556,
              "#d8576b"
             ],
             [
              0.6666666666666666,
              "#ed7953"
             ],
             [
              0.7777777777777778,
              "#fb9f3a"
             ],
             [
              0.8888888888888888,
              "#fdca26"
             ],
             [
              1,
              "#f0f921"
             ]
            ],
            "type": "heatmap"
           }
          ],
          "heatmapgl": [
           {
            "colorbar": {
             "outlinewidth": 0,
             "ticks": ""
            },
            "colorscale": [
             [
              0,
              "#0d0887"
             ],
             [
              0.1111111111111111,
              "#46039f"
             ],
             [
              0.2222222222222222,
              "#7201a8"
             ],
             [
              0.3333333333333333,
              "#9c179e"
             ],
             [
              0.4444444444444444,
              "#bd3786"
             ],
             [
              0.5555555555555556,
              "#d8576b"
             ],
             [
              0.6666666666666666,
              "#ed7953"
             ],
             [
              0.7777777777777778,
              "#fb9f3a"
             ],
             [
              0.8888888888888888,
              "#fdca26"
             ],
             [
              1,
              "#f0f921"
             ]
            ],
            "type": "heatmapgl"
           }
          ],
          "histogram": [
           {
            "marker": {
             "pattern": {
              "fillmode": "overlay",
              "size": 10,
              "solidity": 0.2
             }
            },
            "type": "histogram"
           }
          ],
          "histogram2d": [
           {
            "colorbar": {
             "outlinewidth": 0,
             "ticks": ""
            },
            "colorscale": [
             [
              0,
              "#0d0887"
             ],
             [
              0.1111111111111111,
              "#46039f"
             ],
             [
              0.2222222222222222,
              "#7201a8"
             ],
             [
              0.3333333333333333,
              "#9c179e"
             ],
             [
              0.4444444444444444,
              "#bd3786"
             ],
             [
              0.5555555555555556,
              "#d8576b"
             ],
             [
              0.6666666666666666,
              "#ed7953"
             ],
             [
              0.7777777777777778,
              "#fb9f3a"
             ],
             [
              0.8888888888888888,
              "#fdca26"
             ],
             [
              1,
              "#f0f921"
             ]
            ],
            "type": "histogram2d"
           }
          ],
          "histogram2dcontour": [
           {
            "colorbar": {
             "outlinewidth": 0,
             "ticks": ""
            },
            "colorscale": [
             [
              0,
              "#0d0887"
             ],
             [
              0.1111111111111111,
              "#46039f"
             ],
             [
              0.2222222222222222,
              "#7201a8"
             ],
             [
              0.3333333333333333,
              "#9c179e"
             ],
             [
              0.4444444444444444,
              "#bd3786"
             ],
             [
              0.5555555555555556,
              "#d8576b"
             ],
             [
              0.6666666666666666,
              "#ed7953"
             ],
             [
              0.7777777777777778,
              "#fb9f3a"
             ],
             [
              0.8888888888888888,
              "#fdca26"
             ],
             [
              1,
              "#f0f921"
             ]
            ],
            "type": "histogram2dcontour"
           }
          ],
          "mesh3d": [
           {
            "colorbar": {
             "outlinewidth": 0,
             "ticks": ""
            },
            "type": "mesh3d"
           }
          ],
          "parcoords": [
           {
            "line": {
             "colorbar": {
              "outlinewidth": 0,
              "ticks": ""
             }
            },
            "type": "parcoords"
           }
          ],
          "pie": [
           {
            "automargin": true,
            "type": "pie"
           }
          ],
          "scatter": [
           {
            "fillpattern": {
             "fillmode": "overlay",
             "size": 10,
             "solidity": 0.2
            },
            "type": "scatter"
           }
          ],
          "scatter3d": [
           {
            "line": {
             "colorbar": {
              "outlinewidth": 0,
              "ticks": ""
             }
            },
            "marker": {
             "colorbar": {
              "outlinewidth": 0,
              "ticks": ""
             }
            },
            "type": "scatter3d"
           }
          ],
          "scattercarpet": [
           {
            "marker": {
             "colorbar": {
              "outlinewidth": 0,
              "ticks": ""
             }
            },
            "type": "scattercarpet"
           }
          ],
          "scattergeo": [
           {
            "marker": {
             "colorbar": {
              "outlinewidth": 0,
              "ticks": ""
             }
            },
            "type": "scattergeo"
           }
          ],
          "scattergl": [
           {
            "marker": {
             "colorbar": {
              "outlinewidth": 0,
              "ticks": ""
             }
            },
            "type": "scattergl"
           }
          ],
          "scattermapbox": [
           {
            "marker": {
             "colorbar": {
              "outlinewidth": 0,
              "ticks": ""
             }
            },
            "type": "scattermapbox"
           }
          ],
          "scatterpolar": [
           {
            "marker": {
             "colorbar": {
              "outlinewidth": 0,
              "ticks": ""
             }
            },
            "type": "scatterpolar"
           }
          ],
          "scatterpolargl": [
           {
            "marker": {
             "colorbar": {
              "outlinewidth": 0,
              "ticks": ""
             }
            },
            "type": "scatterpolargl"
           }
          ],
          "scatterternary": [
           {
            "marker": {
             "colorbar": {
              "outlinewidth": 0,
              "ticks": ""
             }
            },
            "type": "scatterternary"
           }
          ],
          "surface": [
           {
            "colorbar": {
             "outlinewidth": 0,
             "ticks": ""
            },
            "colorscale": [
             [
              0,
              "#0d0887"
             ],
             [
              0.1111111111111111,
              "#46039f"
             ],
             [
              0.2222222222222222,
              "#7201a8"
             ],
             [
              0.3333333333333333,
              "#9c179e"
             ],
             [
              0.4444444444444444,
              "#bd3786"
             ],
             [
              0.5555555555555556,
              "#d8576b"
             ],
             [
              0.6666666666666666,
              "#ed7953"
             ],
             [
              0.7777777777777778,
              "#fb9f3a"
             ],
             [
              0.8888888888888888,
              "#fdca26"
             ],
             [
              1,
              "#f0f921"
             ]
            ],
            "type": "surface"
           }
          ],
          "table": [
           {
            "cells": {
             "fill": {
              "color": "#EBF0F8"
             },
             "line": {
              "color": "white"
             }
            },
            "header": {
             "fill": {
              "color": "#C8D4E3"
             },
             "line": {
              "color": "white"
             }
            },
            "type": "table"
           }
          ]
         },
         "layout": {
          "annotationdefaults": {
           "arrowcolor": "#2a3f5f",
           "arrowhead": 0,
           "arrowwidth": 1
          },
          "autotypenumbers": "strict",
          "coloraxis": {
           "colorbar": {
            "outlinewidth": 0,
            "ticks": ""
           }
          },
          "colorscale": {
           "diverging": [
            [
             0,
             "#8e0152"
            ],
            [
             0.1,
             "#c51b7d"
            ],
            [
             0.2,
             "#de77ae"
            ],
            [
             0.3,
             "#f1b6da"
            ],
            [
             0.4,
             "#fde0ef"
            ],
            [
             0.5,
             "#f7f7f7"
            ],
            [
             0.6,
             "#e6f5d0"
            ],
            [
             0.7,
             "#b8e186"
            ],
            [
             0.8,
             "#7fbc41"
            ],
            [
             0.9,
             "#4d9221"
            ],
            [
             1,
             "#276419"
            ]
           ],
           "sequential": [
            [
             0,
             "#0d0887"
            ],
            [
             0.1111111111111111,
             "#46039f"
            ],
            [
             0.2222222222222222,
             "#7201a8"
            ],
            [
             0.3333333333333333,
             "#9c179e"
            ],
            [
             0.4444444444444444,
             "#bd3786"
            ],
            [
             0.5555555555555556,
             "#d8576b"
            ],
            [
             0.6666666666666666,
             "#ed7953"
            ],
            [
             0.7777777777777778,
             "#fb9f3a"
            ],
            [
             0.8888888888888888,
             "#fdca26"
            ],
            [
             1,
             "#f0f921"
            ]
           ],
           "sequentialminus": [
            [
             0,
             "#0d0887"
            ],
            [
             0.1111111111111111,
             "#46039f"
            ],
            [
             0.2222222222222222,
             "#7201a8"
            ],
            [
             0.3333333333333333,
             "#9c179e"
            ],
            [
             0.4444444444444444,
             "#bd3786"
            ],
            [
             0.5555555555555556,
             "#d8576b"
            ],
            [
             0.6666666666666666,
             "#ed7953"
            ],
            [
             0.7777777777777778,
             "#fb9f3a"
            ],
            [
             0.8888888888888888,
             "#fdca26"
            ],
            [
             1,
             "#f0f921"
            ]
           ]
          },
          "colorway": [
           "#636efa",
           "#EF553B",
           "#00cc96",
           "#ab63fa",
           "#FFA15A",
           "#19d3f3",
           "#FF6692",
           "#B6E880",
           "#FF97FF",
           "#FECB52"
          ],
          "font": {
           "color": "#2a3f5f"
          },
          "geo": {
           "bgcolor": "white",
           "lakecolor": "white",
           "landcolor": "#E5ECF6",
           "showlakes": true,
           "showland": true,
           "subunitcolor": "white"
          },
          "hoverlabel": {
           "align": "left"
          },
          "hovermode": "closest",
          "mapbox": {
           "style": "light"
          },
          "paper_bgcolor": "white",
          "plot_bgcolor": "#E5ECF6",
          "polar": {
           "angularaxis": {
            "gridcolor": "white",
            "linecolor": "white",
            "ticks": ""
           },
           "bgcolor": "#E5ECF6",
           "radialaxis": {
            "gridcolor": "white",
            "linecolor": "white",
            "ticks": ""
           }
          },
          "scene": {
           "xaxis": {
            "backgroundcolor": "#E5ECF6",
            "gridcolor": "white",
            "gridwidth": 2,
            "linecolor": "white",
            "showbackground": true,
            "ticks": "",
            "zerolinecolor": "white"
           },
           "yaxis": {
            "backgroundcolor": "#E5ECF6",
            "gridcolor": "white",
            "gridwidth": 2,
            "linecolor": "white",
            "showbackground": true,
            "ticks": "",
            "zerolinecolor": "white"
           },
           "zaxis": {
            "backgroundcolor": "#E5ECF6",
            "gridcolor": "white",
            "gridwidth": 2,
            "linecolor": "white",
            "showbackground": true,
            "ticks": "",
            "zerolinecolor": "white"
           }
          },
          "shapedefaults": {
           "line": {
            "color": "#2a3f5f"
           }
          },
          "ternary": {
           "aaxis": {
            "gridcolor": "white",
            "linecolor": "white",
            "ticks": ""
           },
           "baxis": {
            "gridcolor": "white",
            "linecolor": "white",
            "ticks": ""
           },
           "bgcolor": "#E5ECF6",
           "caxis": {
            "gridcolor": "white",
            "linecolor": "white",
            "ticks": ""
           }
          },
          "title": {
           "x": 0.05
          },
          "xaxis": {
           "automargin": true,
           "gridcolor": "white",
           "linecolor": "white",
           "ticks": "",
           "title": {
            "standoff": 15
           },
           "zerolinecolor": "white",
           "zerolinewidth": 2
          },
          "yaxis": {
           "automargin": true,
           "gridcolor": "white",
           "linecolor": "white",
           "ticks": "",
           "title": {
            "standoff": 15
           },
           "zerolinecolor": "white",
           "zerolinewidth": 2
          }
         }
        },
        "title": {
         "font": {
          "color": "#4D5663"
         }
        },
        "xaxis": {
         "gridcolor": "#E1E5ED",
         "showgrid": true,
         "tickfont": {
          "color": "#4D5663"
         },
         "title": {
          "font": {
           "color": "#4D5663"
          },
          "text": ""
         },
         "zerolinecolor": "#E1E5ED"
        },
        "yaxis": {
         "gridcolor": "#E1E5ED",
         "showgrid": true,
         "tickfont": {
          "color": "#4D5663"
         },
         "title": {
          "font": {
           "color": "#4D5663"
          },
          "text": ""
         },
         "zerolinecolor": "#E1E5ED"
        }
       }
      },
      "image/png": "[encoded data removed]",
      "text/html": [
       "<div>                            <div id=\"03820b3e-3bc0-4eb4-9798-73a6dba4ac17\" class=\"plotly-graph-div\" style=\"height:525px; width:100%;\"></div>            <script type=\"text/javascript\">                require([\"plotly\"], function(Plotly) {                    window.PLOTLYENV=window.PLOTLYENV || {};\n",
       "                    window.PLOTLYENV.BASE_URL='https://plot.ly';                                    if (document.getElementById(\"03820b3e-3bc0-4eb4-9798-73a6dba4ac17\")) {                    Plotly.newPlot(                        \"03820b3e-3bc0-4eb4-9798-73a6dba4ac17\",                        [{\"marker\":{\"color\":[\"rgb(255, 153, 51)\",\"rgb(55, 128, 191)\",\"rgb(50, 171, 96)\",\"rgb(128, 0, 128)\",\"rgb(219, 64, 82)\",\"rgb(0, 128, 128)\",\"rgb(255, 255, 51)\",\"rgb(128, 128, 0)\",\"rgb(251, 128, 114)\",\"rgb(128, 177, 211)\"],\"line\":{\"width\":1.3},\"size\":[73,71,39,46,45,64,66,78,63,112,57,41,58,46,24,60,70,51,90,59,35,39,94,28,69,84,14,46,59,79,40,53,70,53,110,49,55,51,31,56,33,34,54,29,63,47,56,48,75,69,57,103,65,76,36,53,57,25,45,52,62,36,45,74,45,52,38,89,67,54,67,45,80,52,67,52,50,54,64,58,39,47,81,57,78,76,53,49,42,32,73,31,71,73,45,49,12,52,48,93],\"symbol\":\"circle\"},\"mode\":\"markers\",\"text\":\"\",\"x\":[-0.3906035117543167,1.0863264715185994,0.6835253814650998,-0.23576141864914893,-0.4429545878166258,2.116343170175117,1.4473913506726221,0.569652553863101,-0.009092623081691979,-1.0582945442935632,-0.12084486928238401,0.08815152034967148,0.11959952693200762,-0.7254016820099657,-0.21947884771572385,0.6307412937895936,-0.2715854516702586,0.6774799956997187,-3.326632598527113,-1.1010555748854676,-0.8285736989645863,1.4286432413197285,-1.2863673982151753,0.5560943872450889,-1.2156580243428767,0.2907123370476229,-0.03962130114381719,0.6128214007748458,1.5909112248895954,0.5649731989364699,0.11915288705665236,-0.6470755860638769,0.284160040239183,2.600494959494294,-1.2022014874643814,-0.13223808754142752,-0.041316482136716834,0.5098732219097379,0.15915568444349057,-0.5043819681281224,-0.3556156798004133,-0.3796013635814211,-1.8593197564762267,0.8978164798024615,0.39446349009737763,-0.694784547578885,0.26880235000994757,0.6167174702859992,-0.4997994420796771,0.4450096699471989,-0.8847488445344148,1.0987983381132622,-0.8452209252813302,-1.0648063360549604,-0.19084391043675195,-0.15859338257624883,0.7630611129237804,3.2291066281589886,0.6929317663642419,-0.5838146426552702,0.5861013284436394,-1.2650129403147923,-0.9874629601084706,0.22189992221823152,0.1070480664013499,-0.020257070664600894,0.540074434383443,-1.1153734802213902,-0.5408456367874344,-0.9363710338016914,-0.8768419048054417,0.5757258953442429,1.1302549841946514,1.0141595421180447,0.04382098826360184,1.0850336979622708,2.3157010748108156,-0.5705093840098091,1.9021376615749161,0.6295200030080252,-0.5850574454103049,1.0035871157471201,0.8792469474737475,-1.1340408358411769,0.1601995205845725,-0.024707485401965698,0.6120477835646161,0.8923372998260404,-1.3152338654473736,0.3878815351547292,0.7210458168234605,-2.41264623404743,-0.3959192713590546,0.8869462669540071,-0.035460269728471466,-0.9470516684026542,-0.4392408054657591,-1.1946784087205802,1.0776855106669865,0.5440523475359473],\"y\":[0.9059599971152463,1.2640403590421745,-0.2807537530635768,0.06402790036215945,-0.3766235233694587,-0.10132459774762158,0.5339861080892987,-1.8643420708091076,-1.661866586796738,2.3569785219679438,0.8725438525555298,-1.9104769189833894,-0.255949299328033,-0.39668839332448974,-0.3134606308667052,0.350746961585668,1.5778418522684001,-0.7885120606107235,-0.37433000133476685,-0.7865830089210104,-0.07517524873421455,-0.44288240707585064,0.5137908325133144,-1.121977505222089,-0.03568683511645622,-1.7924711458135418,1.5029017374563711,0.06433630297088112,0.020239781673339292,-0.29025246002340094,-1.1302539905725308,-0.18947146526901348,0.42760165568481256,0.333016541738766,0.3267043674060358,-1.0513974533576986,0.3774706999121592,-0.24496204262494045,-0.5265156710485509,0.6463574886324186,-0.6767948282602794,-0.7166772868544358,0.560351760893181,-0.38743902854119106,1.6019552050879209,0.011477146477320555,-1.110362746013105,1.1481440836003125,0.23362353676972208,0.27168211675893295,-0.16882921026742742,-1.6965335749826864,0.223151048282374,1.3100580898431096,1.4736784282794164,-1.0640125173800254,0.9050701400953132,0.48767629647396676,0.6753774281301449,-0.5754626651176231,0.6040043802592154,1.265348899405205,-1.0762057552710116,-0.11111384920458972,0.09464773574212813,1.0547675685231737,-0.6448715282387144,0.7739440113180187,-0.4028863465882712,-0.6562669929880659,1.3215915296236977,-2.03936613444369,-0.43033095621917533,-1.0174206393367025,-0.4587717162908476,-0.5263286688595268,-0.5929967365131853,0.814656274814025,1.9808718424399285,0.8029333924830028,-0.9669195429938262,0.4864229162952104,0.24332058654426708,0.20638896725384728,-0.6328604773747971,0.9449775365738496,-0.5873652887040683,1.5405322330015419,1.4633251619674414,-0.7640730016069059,0.10094774101467074,-0.6472076918128246,1.5963909934782532,-0.28345811435467794,-1.708490142148577,0.3192433158479993,-0.7974039512022152,0.8490163670386164,0.7045434640122664,-0.05056336966839602],\"type\":\"scatter\"}],                        {\"legend\":{\"bgcolor\":\"#F5F6F9\",\"font\":{\"color\":\"#4D5663\"}},\"paper_bgcolor\":\"#F5F6F9\",\"plot_bgcolor\":\"#F5F6F9\",\"template\":{\"data\":{\"barpolar\":[{\"marker\":{\"line\":{\"color\":\"#E5ECF6\",\"width\":0.5},\"pattern\":{\"fillmode\":\"overlay\",\"size\":10,\"solidity\":0.2}},\"type\":\"barpolar\"}],\"bar\":[{\"error_x\":{\"color\":\"#2a3f5f\"},\"error_y\":{\"color\":\"#2a3f5f\"},\"marker\":{\"line\":{\"color\":\"#E5ECF6\",\"width\":0.5},\"pattern\":{\"fillmode\":\"overlay\",\"size\":10,\"solidity\":0.2}},\"type\":\"bar\"}],\"carpet\":[{\"aaxis\":{\"endlinecolor\":\"#2a3f5f\",\"gridcolor\":\"white\",\"linecolor\":\"white\",\"minorgridcolor\":\"white\",\"startlinecolor\":\"#2a3f5f\"},\"baxis\":{\"endlinecolor\":\"#2a3f5f\",\"gridcolor\":\"white\",\"linecolor\":\"white\",\"minorgridcolor\":\"white\",\"startlinecolor\":\"#2a3f5f\"},\"type\":\"carpet\"}],\"choropleth\":[{\"colorbar\":{\"outlinewidth\":0,\"ticks\":\"\"},\"type\":\"choropleth\"}],\"contourcarpet\":[{\"colorbar\":{\"outlinewidth\":0,\"ticks\":\"\"},\"type\":\"contourcarpet\"}],\"contour\":[{\"colorbar\":{\"outlinewidth\":0,\"ticks\":\"\"},\"colorscale\":[[0.0,\"#0d0887\"],[0.1111111111111111,\"#46039f\"],[0.2222222222222222,\"#7201a8\"],[0.3333333333333333,\"#9c179e\"],[0.4444444444444444,\"#bd3786\"],[0.5555555555555556,\"#d8576b\"],[0.6666666666666666,\"#ed7953\"],[0.7777777777777778,\"#fb9f3a\"],[0.8888888888888888,\"#fdca26\"],[1.0,\"#f0f921\"]],\"type\":\"contour\"}],\"heatmapgl\":[{\"colorbar\":{\"outlinewidth\":0,\"ticks\":\"\"},\"colorscale\":[[0.0,\"#0d0887\"],[0.1111111111111111,\"#46039f\"],[0.2222222222222222,\"#7201a8\"],[0.3333333333333333,\"#9c179e\"],[0.4444444444444444,\"#bd3786\"],[0.5555555555555556,\"#d8576b\"],[0.6666666666666666,\"#ed7953\"],[0.7777777777777778,\"#fb9f3a\"],[0.8888888888888888,\"#fdca26\"],[1.0,\"#f0f921\"]],\"type\":\"heatmapgl\"}],\"heatmap\":[{\"colorbar\":{\"outlinewidth\":0,\"ticks\":\"\"},\"colorscale\":[[0.0,\"#0d0887\"],[0.1111111111111111,\"#46039f\"],[0.2222222222222222,\"#7201a8\"],[0.3333333333333333,\"#9c179e\"],[0.4444444444444444,\"#bd3786\"],[0.5555555555555556,\"#d8576b\"],[0.6666666666666666,\"#ed7953\"],[0.7777777777777778,\"#fb9f3a\"],[0.8888888888888888,\"#fdca26\"],[1.0,\"#f0f921\"]],\"type\":\"heatmap\"}],\"histogram2dcontour\":[{\"colorbar\":{\"outlinewidth\":0,\"ticks\":\"\"},\"colorscale\":[[0.0,\"#0d0887\"],[0.1111111111111111,\"#46039f\"],[0.2222222222222222,\"#7201a8\"],[0.3333333333333333,\"#9c179e\"],[0.4444444444444444,\"#bd3786\"],[0.5555555555555556,\"#d8576b\"],[0.6666666666666666,\"#ed7953\"],[0.7777777777777778,\"#fb9f3a\"],[0.8888888888888888,\"#fdca26\"],[1.0,\"#f0f921\"]],\"type\":\"histogram2dcontour\"}],\"histogram2d\":[{\"colorbar\":{\"outlinewidth\":0,\"ticks\":\"\"},\"colorscale\":[[0.0,\"#0d0887\"],[0.1111111111111111,\"#46039f\"],[0.2222222222222222,\"#7201a8\"],[0.3333333333333333,\"#9c179e\"],[0.4444444444444444,\"#bd3786\"],[0.5555555555555556,\"#d8576b\"],[0.6666666666666666,\"#ed7953\"],[0.7777777777777778,\"#fb9f3a\"],[0.8888888888888888,\"#fdca26\"],[1.0,\"#f0f921\"]],\"type\":\"histogram2d\"}],\"histogram\":[{\"marker\":{\"pattern\":{\"fillmode\":\"overlay\",\"size\":10,\"solidity\":0.2}},\"type\":\"histogram\"}],\"mesh3d\":[{\"colorbar\":{\"outlinewidth\":0,\"ticks\":\"\"},\"type\":\"mesh3d\"}],\"parcoords\":[{\"line\":{\"colorbar\":{\"outlinewidth\":0,\"ticks\":\"\"}},\"type\":\"parcoords\"}],\"pie\":[{\"automargin\":true,\"type\":\"pie\"}],\"scatter3d\":[{\"line\":{\"colorbar\":{\"outlinewidth\":0,\"ticks\":\"\"}},\"marker\":{\"colorbar\":{\"outlinewidth\":0,\"ticks\":\"\"}},\"type\":\"scatter3d\"}],\"scattercarpet\":[{\"marker\":{\"colorbar\":{\"outlinewidth\":0,\"ticks\":\"\"}},\"type\":\"scattercarpet\"}],\"scattergeo\":[{\"marker\":{\"colorbar\":{\"outlinewidth\":0,\"ticks\":\"\"}},\"type\":\"scattergeo\"}],\"scattergl\":[{\"marker\":{\"colorbar\":{\"outlinewidth\":0,\"ticks\":\"\"}},\"type\":\"scattergl\"}],\"scattermapbox\":[{\"marker\":{\"colorbar\":{\"outlinewidth\":0,\"ticks\":\"\"}},\"type\":\"scattermapbox\"}],\"scatterpolargl\":[{\"marker\":{\"colorbar\":{\"outlinewidth\":0,\"ticks\":\"\"}},\"type\":\"scatterpolargl\"}],\"scatterpolar\":[{\"marker\":{\"colorbar\":{\"outlinewidth\":0,\"ticks\":\"\"}},\"type\":\"scatterpolar\"}],\"scatter\":[{\"fillpattern\":{\"fillmode\":\"overlay\",\"size\":10,\"solidity\":0.2},\"type\":\"scatter\"}],\"scatterternary\":[{\"marker\":{\"colorbar\":{\"outlinewidth\":0,\"ticks\":\"\"}},\"type\":\"scatterternary\"}],\"surface\":[{\"colorbar\":{\"outlinewidth\":0,\"ticks\":\"\"},\"colorscale\":[[0.0,\"#0d0887\"],[0.1111111111111111,\"#46039f\"],[0.2222222222222222,\"#7201a8\"],[0.3333333333333333,\"#9c179e\"],[0.4444444444444444,\"#bd3786\"],[0.5555555555555556,\"#d8576b\"],[0.6666666666666666,\"#ed7953\"],[0.7777777777777778,\"#fb9f3a\"],[0.8888888888888888,\"#fdca26\"],[1.0,\"#f0f921\"]],\"type\":\"surface\"}],\"table\":[{\"cells\":{\"fill\":{\"color\":\"#EBF0F8\"},\"line\":{\"color\":\"white\"}},\"header\":{\"fill\":{\"color\":\"#C8D4E3\"},\"line\":{\"color\":\"white\"}},\"type\":\"table\"}]},\"layout\":{\"annotationdefaults\":{\"arrowcolor\":\"#2a3f5f\",\"arrowhead\":0,\"arrowwidth\":1},\"autotypenumbers\":\"strict\",\"coloraxis\":{\"colorbar\":{\"outlinewidth\":0,\"ticks\":\"\"}},\"colorscale\":{\"diverging\":[[0,\"#8e0152\"],[0.1,\"#c51b7d\"],[0.2,\"#de77ae\"],[0.3,\"#f1b6da\"],[0.4,\"#fde0ef\"],[0.5,\"#f7f7f7\"],[0.6,\"#e6f5d0\"],[0.7,\"#b8e186\"],[0.8,\"#7fbc41\"],[0.9,\"#4d9221\"],[1,\"#276419\"]],\"sequential\":[[0.0,\"#0d0887\"],[0.1111111111111111,\"#46039f\"],[0.2222222222222222,\"#7201a8\"],[0.3333333333333333,\"#9c179e\"],[0.4444444444444444,\"#bd3786\"],[0.5555555555555556,\"#d8576b\"],[0.6666666666666666,\"#ed7953\"],[0.7777777777777778,\"#fb9f3a\"],[0.8888888888888888,\"#fdca26\"],[1.0,\"#f0f921\"]],\"sequentialminus\":[[0.0,\"#0d0887\"],[0.1111111111111111,\"#46039f\"],[0.2222222222222222,\"#7201a8\"],[0.3333333333333333,\"#9c179e\"],[0.4444444444444444,\"#bd3786\"],[0.5555555555555556,\"#d8576b\"],[0.6666666666666666,\"#ed7953\"],[0.7777777777777778,\"#fb9f3a\"],[0.8888888888888888,\"#fdca26\"],[1.0,\"#f0f921\"]]},\"colorway\":[\"#636efa\",\"#EF553B\",\"#00cc96\",\"#ab63fa\",\"#FFA15A\",\"#19d3f3\",\"#FF6692\",\"#B6E880\",\"#FF97FF\",\"#FECB52\"],\"font\":{\"color\":\"#2a3f5f\"},\"geo\":{\"bgcolor\":\"white\",\"lakecolor\":\"white\",\"landcolor\":\"#E5ECF6\",\"showlakes\":true,\"showland\":true,\"subunitcolor\":\"white\"},\"hoverlabel\":{\"align\":\"left\"},\"hovermode\":\"closest\",\"mapbox\":{\"style\":\"light\"},\"paper_bgcolor\":\"white\",\"plot_bgcolor\":\"#E5ECF6\",\"polar\":{\"angularaxis\":{\"gridcolor\":\"white\",\"linecolor\":\"white\",\"ticks\":\"\"},\"bgcolor\":\"#E5ECF6\",\"radialaxis\":{\"gridcolor\":\"white\",\"linecolor\":\"white\",\"ticks\":\"\"}},\"scene\":{\"xaxis\":{\"backgroundcolor\":\"#E5ECF6\",\"gridcolor\":\"white\",\"gridwidth\":2,\"linecolor\":\"white\",\"showbackground\":true,\"ticks\":\"\",\"zerolinecolor\":\"white\"},\"yaxis\":{\"backgroundcolor\":\"#E5ECF6\",\"gridcolor\":\"white\",\"gridwidth\":2,\"linecolor\":\"white\",\"showbackground\":true,\"ticks\":\"\",\"zerolinecolor\":\"white\"},\"zaxis\":{\"backgroundcolor\":\"#E5ECF6\",\"gridcolor\":\"white\",\"gridwidth\":2,\"linecolor\":\"white\",\"showbackground\":true,\"ticks\":\"\",\"zerolinecolor\":\"white\"}},\"shapedefaults\":{\"line\":{\"color\":\"#2a3f5f\"}},\"ternary\":{\"aaxis\":{\"gridcolor\":\"white\",\"linecolor\":\"white\",\"ticks\":\"\"},\"baxis\":{\"gridcolor\":\"white\",\"linecolor\":\"white\",\"ticks\":\"\"},\"bgcolor\":\"#E5ECF6\",\"caxis\":{\"gridcolor\":\"white\",\"linecolor\":\"white\",\"ticks\":\"\"}},\"title\":{\"x\":0.05},\"xaxis\":{\"automargin\":true,\"gridcolor\":\"white\",\"linecolor\":\"white\",\"ticks\":\"\",\"title\":{\"standoff\":15},\"zerolinecolor\":\"white\",\"zerolinewidth\":2},\"yaxis\":{\"automargin\":true,\"gridcolor\":\"white\",\"linecolor\":\"white\",\"ticks\":\"\",\"title\":{\"standoff\":15},\"zerolinecolor\":\"white\",\"zerolinewidth\":2}}},\"title\":{\"font\":{\"color\":\"#4D5663\"}},\"xaxis\":{\"gridcolor\":\"#E1E5ED\",\"showgrid\":true,\"tickfont\":{\"color\":\"#4D5663\"},\"title\":{\"font\":{\"color\":\"#4D5663\"},\"text\":\"\"},\"zerolinecolor\":\"#E1E5ED\"},\"yaxis\":{\"gridcolor\":\"#E1E5ED\",\"showgrid\":true,\"tickfont\":{\"color\":\"#4D5663\"},\"title\":{\"font\":{\"color\":\"#4D5663\"},\"text\":\"\"},\"zerolinecolor\":\"#E1E5ED\"}},                        {\"showLink\": true, \"linkText\": \"Export to plot.ly\", \"plotlyServerURL\": \"https://plot.ly\", \"responsive\": true}                    ).then(function(){\n",
       "                            \n",
       "var gd = document.getElementById('03820b3e-3bc0-4eb4-9798-73a6dba4ac17');\n",
       "var x = new MutationObserver(function (mutations, observer) {{\n",
       "        var display = window.getComputedStyle(gd).display;\n",
       "        if (!display || display === 'none') {{\n",
       "            console.log([gd, 'removed!']);\n",
       "            Plotly.purge(gd);\n",
       "            observer.disconnect();\n",
       "        }}\n",
       "}});\n",
       "\n",
       "// Listen for the removal of the full notebook cells\n",
       "var notebookContainer = gd.closest('#notebook-container');\n",
       "if (notebookContainer) {{\n",
       "    x.observe(notebookContainer, {childList: true});\n",
       "}}\n",
       "\n",
       "// Listen for the clearing of the current output cell\n",
       "var outputEl = gd.closest('.output');\n",
       "if (outputEl) {{\n",
       "    x.observe(outputEl, {childList: true});\n",
       "}}\n",
       "\n",
       "                        })                };                });            </script>        </div>"
      ]
     },
     "metadata": {},
     "output_type": "display_data"
    }
   ],
   "source": [
    "df.iplot(kind='bubble',x='A',y='B',size='C')"
   ]
  },
  {
   "cell_type": "markdown",
   "metadata": {},
   "source": [
    "## scatter_matrix()\n",
    "\n",
    "Similar to sns.pairplot()"
   ]
  },
  {
   "cell_type": "code",
   "execution_count": 18,
   "metadata": {
    "collapsed": false,
    "jupyter": {
     "outputs_hidden": false
    }
   },
   "outputs": [
    {
     "data": {
      "application/vnd.plotly.v1+json": {
       "config": {
        "linkText": "Export to plot.ly",
        "plotlyServerURL": "https://plot.ly",
        "showLink": true
       },
       "data": [
        {
         "histfunc": "count",
         "histnorm": "",
         "marker": {
          "color": "rgba(255, 153, 51, 1.0)",
          "line": {
           "color": "#4D5663",
           "width": 1.3
          }
         },
         "name": "A",
         "nbinsx": 10,
         "opacity": 0.8,
         "orientation": "v",
         "type": "histogram",
         "x": [
          -0.3906035117543167,
          1.0863264715185994,
          0.6835253814650998,
          -0.23576141864914893,
          -0.4429545878166258,
          2.116343170175117,
          1.4473913506726221,
          0.569652553863101,
          -0.009092623081691979,
          -1.0582945442935632,
          -0.12084486928238401,
          0.08815152034967148,
          0.11959952693200762,
          -0.7254016820099657,
          -0.21947884771572385,
          0.6307412937895936,
          -0.2715854516702586,
          0.6774799956997187,
          -3.326632598527113,
          -1.1010555748854676,
          -0.8285736989645863,
          1.4286432413197285,
          -1.2863673982151753,
          0.5560943872450889,
          -1.2156580243428767,
          0.2907123370476229,
          -0.03962130114381719,
          0.6128214007748458,
          1.5909112248895954,
          0.5649731989364699,
          0.11915288705665236,
          -0.6470755860638769,
          0.284160040239183,
          2.600494959494294,
          -1.2022014874643814,
          -0.13223808754142752,
          -0.041316482136716834,
          0.5098732219097379,
          0.15915568444349057,
          -0.5043819681281224,
          -0.3556156798004133,
          -0.3796013635814211,
          -1.8593197564762267,
          0.8978164798024615,
          0.39446349009737763,
          -0.694784547578885,
          0.26880235000994757,
          0.6167174702859992,
          -0.4997994420796771,
          0.4450096699471989,
          -0.8847488445344148,
          1.0987983381132622,
          -0.8452209252813302,
          -1.0648063360549604,
          -0.19084391043675195,
          -0.15859338257624883,
          0.7630611129237804,
          3.2291066281589886,
          0.6929317663642419,
          -0.5838146426552702,
          0.5861013284436394,
          -1.2650129403147923,
          -0.9874629601084706,
          0.22189992221823152,
          0.1070480664013499,
          -0.020257070664600894,
          0.540074434383443,
          -1.1153734802213902,
          -0.5408456367874344,
          -0.9363710338016914,
          -0.8768419048054417,
          0.5757258953442429,
          1.1302549841946514,
          1.0141595421180447,
          0.04382098826360184,
          1.0850336979622708,
          2.3157010748108156,
          -0.5705093840098091,
          1.9021376615749161,
          0.6295200030080252,
          -0.5850574454103049,
          1.0035871157471201,
          0.8792469474737475,
          -1.1340408358411769,
          0.1601995205845725,
          -0.024707485401965698,
          0.6120477835646161,
          0.8923372998260404,
          -1.3152338654473736,
          0.3878815351547292,
          0.7210458168234605,
          -2.41264623404743,
          -0.3959192713590546,
          0.8869462669540071,
          -0.035460269728471466,
          -0.9470516684026542,
          -0.4392408054657591,
          -1.1946784087205802,
          1.0776855106669865,
          0.5440523475359473
         ],
         "xaxis": "x",
         "yaxis": "y"
        },
        {
         "line": {
          "color": "rgba(128, 128, 128, 1.0)",
          "dash": "solid",
          "shape": "linear",
          "width": 1.3
         },
         "marker": {
          "size": 2,
          "symbol": "circle"
         },
         "mode": "markers",
         "name": "A",
         "text": "",
         "type": "scatter",
         "x": [
          0.9059599971152463,
          1.2640403590421745,
          -0.2807537530635768,
          0.06402790036215945,
          -0.3766235233694587,
          -0.10132459774762158,
          0.5339861080892987,
          -1.8643420708091076,
          -1.661866586796738,
          2.3569785219679438,
          0.8725438525555298,
          -1.9104769189833894,
          -0.255949299328033,
          -0.39668839332448974,
          -0.3134606308667052,
          0.350746961585668,
          1.5778418522684001,
          -0.7885120606107235,
          -0.37433000133476685,
          -0.7865830089210104,
          -0.07517524873421455,
          -0.44288240707585064,
          0.5137908325133144,
          -1.121977505222089,
          -0.03568683511645622,
          -1.7924711458135418,
          1.5029017374563711,
          0.06433630297088112,
          0.020239781673339292,
          -0.29025246002340094,
          -1.1302539905725308,
          -0.18947146526901348,
          0.42760165568481256,
          0.333016541738766,
          0.3267043674060358,
          -1.0513974533576986,
          0.3774706999121592,
          -0.24496204262494045,
          -0.5265156710485509,
          0.6463574886324186,
          -0.6767948282602794,
          -0.7166772868544358,
          0.560351760893181,
          -0.38743902854119106,
          1.6019552050879209,
          0.011477146477320555,
          -1.110362746013105,
          1.1481440836003125,
          0.23362353676972208,
          0.27168211675893295,
          -0.16882921026742742,
          -1.6965335749826864,
          0.223151048282374,
          1.3100580898431096,
          1.4736784282794164,
          -1.0640125173800254,
          0.9050701400953132,
          0.48767629647396676,
          0.6753774281301449,
          -0.5754626651176231,
          0.6040043802592154,
          1.265348899405205,
          -1.0762057552710116,
          -0.11111384920458972,
          0.09464773574212813,
          1.0547675685231737,
          -0.6448715282387144,
          0.7739440113180187,
          -0.4028863465882712,
          -0.6562669929880659,
          1.3215915296236977,
          -2.03936613444369,
          -0.43033095621917533,
          -1.0174206393367025,
          -0.4587717162908476,
          -0.5263286688595268,
          -0.5929967365131853,
          0.814656274814025,
          1.9808718424399285,
          0.8029333924830028,
          -0.9669195429938262,
          0.4864229162952104,
          0.24332058654426708,
          0.20638896725384728,
          -0.6328604773747971,
          0.9449775365738496,
          -0.5873652887040683,
          1.5405322330015419,
          1.4633251619674414,
          -0.7640730016069059,
          0.10094774101467074,
          -0.6472076918128246,
          1.5963909934782532,
          -0.28345811435467794,
          -1.708490142148577,
          0.3192433158479993,
          -0.7974039512022152,
          0.8490163670386164,
          0.7045434640122664,
          -0.05056336966839602
         ],
         "xaxis": "x2",
         "y": [
          -0.3906035117543167,
          1.0863264715185994,
          0.6835253814650998,
          -0.23576141864914893,
          -0.4429545878166258,
          2.116343170175117,
          1.4473913506726221,
          0.569652553863101,
          -0.009092623081691979,
          -1.0582945442935632,
          -0.12084486928238401,
          0.08815152034967148,
          0.11959952693200762,
          -0.7254016820099657,
          -0.21947884771572385,
          0.6307412937895936,
          -0.2715854516702586,
          0.6774799956997187,
          -3.326632598527113,
          -1.1010555748854676,
          -0.8285736989645863,
          1.4286432413197285,
          -1.2863673982151753,
          0.5560943872450889,
          -1.2156580243428767,
          0.2907123370476229,
          -0.03962130114381719,
          0.6128214007748458,
          1.5909112248895954,
          0.5649731989364699,
          0.11915288705665236,
          -0.6470755860638769,
          0.284160040239183,
          2.600494959494294,
          -1.2022014874643814,
          -0.13223808754142752,
          -0.041316482136716834,
          0.5098732219097379,
          0.15915568444349057,
          -0.5043819681281224,
          -0.3556156798004133,
          -0.3796013635814211,
          -1.8593197564762267,
          0.8978164798024615,
          0.39446349009737763,
          -0.694784547578885,
          0.26880235000994757,
          0.6167174702859992,
          -0.4997994420796771,
          0.4450096699471989,
          -0.8847488445344148,
          1.0987983381132622,
          -0.8452209252813302,
          -1.0648063360549604,
          -0.19084391043675195,
          -0.15859338257624883,
          0.7630611129237804,
          3.2291066281589886,
          0.6929317663642419,
          -0.5838146426552702,
          0.5861013284436394,
          -1.2650129403147923,
          -0.9874629601084706,
          0.22189992221823152,
          0.1070480664013499,
          -0.020257070664600894,
          0.540074434383443,
          -1.1153734802213902,
          -0.5408456367874344,
          -0.9363710338016914,
          -0.8768419048054417,
          0.5757258953442429,
          1.1302549841946514,
          1.0141595421180447,
          0.04382098826360184,
          1.0850336979622708,
          2.3157010748108156,
          -0.5705093840098091,
          1.9021376615749161,
          0.6295200030080252,
          -0.5850574454103049,
          1.0035871157471201,
          0.8792469474737475,
          -1.1340408358411769,
          0.1601995205845725,
          -0.024707485401965698,
          0.6120477835646161,
          0.8923372998260404,
          -1.3152338654473736,
          0.3878815351547292,
          0.7210458168234605,
          -2.41264623404743,
          -0.3959192713590546,
          0.8869462669540071,
          -0.035460269728471466,
          -0.9470516684026542,
          -0.4392408054657591,
          -1.1946784087205802,
          1.0776855106669865,
          0.5440523475359473
         ],
         "yaxis": "y2"
        },
        {
         "line": {
          "color": "rgba(128, 128, 128, 1.0)",
          "dash": "solid",
          "shape": "linear",
          "width": 1.3
         },
         "marker": {
          "size": 2,
          "symbol": "circle"
         },
         "mode": "markers",
         "name": "A",
         "text": "",
         "type": "scatter",
         "x": [
          0.8145318541182838,
          0.7559868640780945,
          -0.7911693878578542,
          -0.4615667031492696,
          -0.4783289040760878,
          0.41729770253252063,
          0.4959169466569206,
          1.069497626033612,
          0.3485486302891891,
          2.661164504883503,
          0.06872972086560371,
          -0.6800710467989675,
          0.12254230232641224,
          -0.4665240443404823,
          -1.4727716602812868,
          0.20307054544264644,
          0.684646711845568,
          -0.1885740208259096,
          1.6183857998897144,
          0.1537157525615728,
          -0.9561403136584151,
          -0.7744198707005601,
          1.816049758642045,
          -1.3141725588917677,
          0.6392656826546046,
          1.3338745691339575,
          -1.9784023725066249,
          -0.43978825132042854,
          0.1842185908247415,
          1.128980410711298,
          -0.7398812125818858,
          -0.13534459356211892,
          0.6678329171676869,
          -0.12319027160122681,
          2.609227631075749,
          -0.3197219580123539,
          -0.03540317794825873,
          -0.19875004854742756,
          -1.1653338695859397,
          0.02476865467115096,
          -1.0524489299709388,
          -1.0069269640461846,
          -0.08492748607783955,
          -1.2376726858960687,
          0.3561928900176956,
          -0.4200699116139587,
          0.04367359830000804,
          -0.34702593862963504,
          0.9309256687532793,
          0.6540066397993411,
          0.060863063017891225,
          2.2388382465613623,
          0.461749405425871,
          0.9823961775581245,
          -0.9069023392607259,
          -0.10890028524264758,
          0.072195660308165,
          -1.4654208402487419,
          -0.48756523010174146,
          -0.1748413569213523,
          0.2958423956615726,
          -0.9078651568946134,
          -0.49871455986032504,
          0.86765113189569,
          -0.5157200773906159,
          -0.14679826941611732,
          -0.8193941354406362,
          1.5807464726721516,
          0.5547155914525256,
          -0.06331255074299061,
          0.5590242801159748,
          -0.4868604733850864,
          1.150543610681079,
          -0.15967700304585333,
          0.5479353647594309,
          -0.156085453412081,
          -0.2484684610355909,
          -0.08880987492712661,
          0.4264022097782739,
          0.1397244735637222,
          -0.8038027184363239,
          -0.38410478043784374,
          1.2277210047176843,
          0.05569434761720841,
          1.0877998578721246,
          0.9675907834442555,
          -0.09564093561689342,
          -0.30996700436951746,
          -0.6427387669266169,
          -1.1303473535166737,
          0.8146960467180471,
          -1.1534775927947547,
          0.7463461432108704,
          0.8333099781535035,
          -0.5051758692967644,
          -0.3213968776053241,
          -2.0864284182052497,
          -0.14603703244565186,
          -0.3453718629190423,
          1.7937217646897103
         ],
         "xaxis": "x3",
         "y": [
          -0.3906035117543167,
          1.0863264715185994,
          0.6835253814650998,
          -0.23576141864914893,
          -0.4429545878166258,
          2.116343170175117,
          1.4473913506726221,
          0.569652553863101,
          -0.009092623081691979,
          -1.0582945442935632,
          -0.12084486928238401,
          0.08815152034967148,
          0.11959952693200762,
          -0.7254016820099657,
          -0.21947884771572385,
          0.6307412937895936,
          -0.2715854516702586,
          0.6774799956997187,
          -3.326632598527113,
          -1.1010555748854676,
          -0.8285736989645863,
          1.4286432413197285,
          -1.2863673982151753,
          0.5560943872450889,
          -1.2156580243428767,
          0.2907123370476229,
          -0.03962130114381719,
          0.6128214007748458,
          1.5909112248895954,
          0.5649731989364699,
          0.11915288705665236,
          -0.6470755860638769,
          0.284160040239183,
          2.600494959494294,
          -1.2022014874643814,
          -0.13223808754142752,
          -0.041316482136716834,
          0.5098732219097379,
          0.15915568444349057,
          -0.5043819681281224,
          -0.3556156798004133,
          -0.3796013635814211,
          -1.8593197564762267,
          0.8978164798024615,
          0.39446349009737763,
          -0.694784547578885,
          0.26880235000994757,
          0.6167174702859992,
          -0.4997994420796771,
          0.4450096699471989,
          -0.8847488445344148,
          1.0987983381132622,
          -0.8452209252813302,
          -1.0648063360549604,
          -0.19084391043675195,
          -0.15859338257624883,
          0.7630611129237804,
          3.2291066281589886,
          0.6929317663642419,
          -0.5838146426552702,
          0.5861013284436394,
          -1.2650129403147923,
          -0.9874629601084706,
          0.22189992221823152,
          0.1070480664013499,
          -0.020257070664600894,
          0.540074434383443,
          -1.1153734802213902,
          -0.5408456367874344,
          -0.9363710338016914,
          -0.8768419048054417,
          0.5757258953442429,
          1.1302549841946514,
          1.0141595421180447,
          0.04382098826360184,
          1.0850336979622708,
          2.3157010748108156,
          -0.5705093840098091,
          1.9021376615749161,
          0.6295200030080252,
          -0.5850574454103049,
          1.0035871157471201,
          0.8792469474737475,
          -1.1340408358411769,
          0.1601995205845725,
          -0.024707485401965698,
          0.6120477835646161,
          0.8923372998260404,
          -1.3152338654473736,
          0.3878815351547292,
          0.7210458168234605,
          -2.41264623404743,
          -0.3959192713590546,
          0.8869462669540071,
          -0.035460269728471466,
          -0.9470516684026542,
          -0.4392408054657591,
          -1.1946784087205802,
          1.0776855106669865,
          0.5440523475359473
         ],
         "yaxis": "y3"
        },
        {
         "line": {
          "color": "rgba(128, 128, 128, 1.0)",
          "dash": "solid",
          "shape": "linear",
          "width": 1.3
         },
         "marker": {
          "size": 2,
          "symbol": "circle"
         },
         "mode": "markers",
         "name": "A",
         "text": "",
         "type": "scatter",
         "x": [
          -0.9287969360385558,
          -2.6903461092469194,
          1.8624606059259496,
          2.65834186702288,
          -0.7980090896855742,
          -1.5827524498354613,
          0.2955470671139877,
          1.5502915705755398,
          -0.7979747735353135,
          0.6460701924717869,
          -0.936870420347587,
          -0.7592432746697397,
          1.2257802677559726,
          -0.8122393148359898,
          -1.5770245455675627,
          -1.9532608532826146,
          1.2498349738583459,
          -0.12032763768486186,
          0.19964616675881292,
          0.11654044840654534,
          0.4848809892741022,
          0.4484086937833366,
          -0.38956336565049554,
          1.896459297692075,
          0.8162856955544592,
          1.6229427799183003,
          0.23113477177927125,
          -1.0442775409802059,
          0.46572623833647436,
          0.4066816978124542,
          0.09326264462049069,
          0.255748905054573,
          1.000976696434357,
          -0.9422686315887814,
          0.5638625803494463,
          0.6232246258485489,
          2.0902670579021394,
          0.18039481439640082,
          -2.8043591150230585,
          -1.5406214467034285,
          -0.8619489271428574,
          0.1973368707344788,
          0.5951918906812148,
          -1.254950079480591,
          0.2672512673631738,
          0.1231761132113905,
          0.4282017663539288,
          -0.07417978796279026,
          0.5838737828287422,
          0.7383469895984776,
          -0.33571220914034955,
          -1.4460462320019074,
          -0.324141217027923,
          2.325284836253793,
          0.6250953404395978,
          1.0233025533589735,
          -0.3494082223162853,
          0.9026362239522017,
          0.18168725816791362,
          -2.6229803716139495,
          -0.27342525144437013,
          -0.1931244977852925,
          1.1051207832141565,
          0.45997066086433386,
          1.1761768520251474,
          0.013808034119401909,
          1.8428471092341046,
          0.9718762015792,
          -1.1871142872913143,
          -0.7942313824997717,
          0.6377742139850696,
          1.056253935397287,
          0.17432361359849946,
          -0.5707208881700466,
          0.47016231725700064,
          0.5202759059458038,
          0.17236170108375984,
          0.1591165564203543,
          -0.08043319862684438,
          0.9282097726527182,
          -2.089416374568016,
          -0.9026175672646589,
          -0.29388347696324646,
          2.241400722782147,
          -0.35882409026196266,
          1.0776875082017887,
          0.42773010628651903,
          0.4848173298231596,
          -0.25462632786313805,
          -1.6798298606013724,
          -0.8773900778879777,
          1.5634337277512937,
          0.10434311889015405,
          0.27654662387292034,
          -1.4777234322777808,
          -0.8514769391416811,
          -0.25176645385428903,
          -1.4987461162481623,
          1.0351018823675524,
          -1.4075092725501115
         ],
         "xaxis": "x4",
         "y": [
          -0.3906035117543167,
          1.0863264715185994,
          0.6835253814650998,
          -0.23576141864914893,
          -0.4429545878166258,
          2.116343170175117,
          1.4473913506726221,
          0.569652553863101,
          -0.009092623081691979,
          -1.0582945442935632,
          -0.12084486928238401,
          0.08815152034967148,
          0.11959952693200762,
          -0.7254016820099657,
          -0.21947884771572385,
          0.6307412937895936,
          -0.2715854516702586,
          0.6774799956997187,
          -3.326632598527113,
          -1.1010555748854676,
          -0.8285736989645863,
          1.4286432413197285,
          -1.2863673982151753,
          0.5560943872450889,
          -1.2156580243428767,
          0.2907123370476229,
          -0.03962130114381719,
          0.6128214007748458,
          1.5909112248895954,
          0.5649731989364699,
          0.11915288705665236,
          -0.6470755860638769,
          0.284160040239183,
          2.600494959494294,
          -1.2022014874643814,
          -0.13223808754142752,
          -0.041316482136716834,
          0.5098732219097379,
          0.15915568444349057,
          -0.5043819681281224,
          -0.3556156798004133,
          -0.3796013635814211,
          -1.8593197564762267,
          0.8978164798024615,
          0.39446349009737763,
          -0.694784547578885,
          0.26880235000994757,
          0.6167174702859992,
          -0.4997994420796771,
          0.4450096699471989,
          -0.8847488445344148,
          1.0987983381132622,
          -0.8452209252813302,
          -1.0648063360549604,
          -0.19084391043675195,
          -0.15859338257624883,
          0.7630611129237804,
          3.2291066281589886,
          0.6929317663642419,
          -0.5838146426552702,
          0.5861013284436394,
          -1.2650129403147923,
          -0.9874629601084706,
          0.22189992221823152,
          0.1070480664013499,
          -0.020257070664600894,
          0.540074434383443,
          -1.1153734802213902,
          -0.5408456367874344,
          -0.9363710338016914,
          -0.8768419048054417,
          0.5757258953442429,
          1.1302549841946514,
          1.0141595421180447,
          0.04382098826360184,
          1.0850336979622708,
          2.3157010748108156,
          -0.5705093840098091,
          1.9021376615749161,
          0.6295200030080252,
          -0.5850574454103049,
          1.0035871157471201,
          0.8792469474737475,
          -1.1340408358411769,
          0.1601995205845725,
          -0.024707485401965698,
          0.6120477835646161,
          0.8923372998260404,
          -1.3152338654473736,
          0.3878815351547292,
          0.7210458168234605,
          -2.41264623404743,
          -0.3959192713590546,
          0.8869462669540071,
          -0.035460269728471466,
          -0.9470516684026542,
          -0.4392408054657591,
          -1.1946784087205802,
          1.0776855106669865,
          0.5440523475359473
         ],
         "yaxis": "y4"
        },
        {
         "line": {
          "color": "rgba(128, 128, 128, 1.0)",
          "dash": "solid",
          "shape": "linear",
          "width": 1.3
         },
         "marker": {
          "size": 2,
          "symbol": "circle"
         },
         "mode": "markers",
         "name": "B",
         "text": "",
         "type": "scatter",
         "x": [
          -0.3906035117543167,
          1.0863264715185994,
          0.6835253814650998,
          -0.23576141864914893,
          -0.4429545878166258,
          2.116343170175117,
          1.4473913506726221,
          0.569652553863101,
          -0.009092623081691979,
          -1.0582945442935632,
          -0.12084486928238401,
          0.08815152034967148,
          0.11959952693200762,
          -0.7254016820099657,
          -0.21947884771572385,
          0.6307412937895936,
          -0.2715854516702586,
          0.6774799956997187,
          -3.326632598527113,
          -1.1010555748854676,
          -0.8285736989645863,
          1.4286432413197285,
          -1.2863673982151753,
          0.5560943872450889,
          -1.2156580243428767,
          0.2907123370476229,
          -0.03962130114381719,
          0.6128214007748458,
          1.5909112248895954,
          0.5649731989364699,
          0.11915288705665236,
          -0.6470755860638769,
          0.284160040239183,
          2.600494959494294,
          -1.2022014874643814,
          -0.13223808754142752,
          -0.041316482136716834,
          0.5098732219097379,
          0.15915568444349057,
          -0.5043819681281224,
          -0.3556156798004133,
          -0.3796013635814211,
          -1.8593197564762267,
          0.8978164798024615,
          0.39446349009737763,
          -0.694784547578885,
          0.26880235000994757,
          0.6167174702859992,
          -0.4997994420796771,
          0.4450096699471989,
          -0.8847488445344148,
          1.0987983381132622,
          -0.8452209252813302,
          -1.0648063360549604,
          -0.19084391043675195,
          -0.15859338257624883,
          0.7630611129237804,
          3.2291066281589886,
          0.6929317663642419,
          -0.5838146426552702,
          0.5861013284436394,
          -1.2650129403147923,
          -0.9874629601084706,
          0.22189992221823152,
          0.1070480664013499,
          -0.020257070664600894,
          0.540074434383443,
          -1.1153734802213902,
          -0.5408456367874344,
          -0.9363710338016914,
          -0.8768419048054417,
          0.5757258953442429,
          1.1302549841946514,
          1.0141595421180447,
          0.04382098826360184,
          1.0850336979622708,
          2.3157010748108156,
          -0.5705093840098091,
          1.9021376615749161,
          0.6295200030080252,
          -0.5850574454103049,
          1.0035871157471201,
          0.8792469474737475,
          -1.1340408358411769,
          0.1601995205845725,
          -0.024707485401965698,
          0.6120477835646161,
          0.8923372998260404,
          -1.3152338654473736,
          0.3878815351547292,
          0.7210458168234605,
          -2.41264623404743,
          -0.3959192713590546,
          0.8869462669540071,
          -0.035460269728471466,
          -0.9470516684026542,
          -0.4392408054657591,
          -1.1946784087205802,
          1.0776855106669865,
          0.5440523475359473
         ],
         "xaxis": "x5",
         "y": [
          0.9059599971152463,
          1.2640403590421745,
          -0.2807537530635768,
          0.06402790036215945,
          -0.3766235233694587,
          -0.10132459774762158,
          0.5339861080892987,
          -1.8643420708091076,
          -1.661866586796738,
          2.3569785219679438,
          0.8725438525555298,
          -1.9104769189833894,
          -0.255949299328033,
          -0.39668839332448974,
          -0.3134606308667052,
          0.350746961585668,
          1.5778418522684001,
          -0.7885120606107235,
          -0.37433000133476685,
          -0.7865830089210104,
          -0.07517524873421455,
          -0.44288240707585064,
          0.5137908325133144,
          -1.121977505222089,
          -0.03568683511645622,
          -1.7924711458135418,
          1.5029017374563711,
          0.06433630297088112,
          0.020239781673339292,
          -0.29025246002340094,
          -1.1302539905725308,
          -0.18947146526901348,
          0.42760165568481256,
          0.333016541738766,
          0.3267043674060358,
          -1.0513974533576986,
          0.3774706999121592,
          -0.24496204262494045,
          -0.5265156710485509,
          0.6463574886324186,
          -0.6767948282602794,
          -0.7166772868544358,
          0.560351760893181,
          -0.38743902854119106,
          1.6019552050879209,
          0.011477146477320555,
          -1.110362746013105,
          1.1481440836003125,
          0.23362353676972208,
          0.27168211675893295,
          -0.16882921026742742,
          -1.6965335749826864,
          0.223151048282374,
          1.3100580898431096,
          1.4736784282794164,
          -1.0640125173800254,
          0.9050701400953132,
          0.48767629647396676,
          0.6753774281301449,
          -0.5754626651176231,
          0.6040043802592154,
          1.265348899405205,
          -1.0762057552710116,
          -0.11111384920458972,
          0.09464773574212813,
          1.0547675685231737,
          -0.6448715282387144,
          0.7739440113180187,
          -0.4028863465882712,
          -0.6562669929880659,
          1.3215915296236977,
          -2.03936613444369,
          -0.43033095621917533,
          -1.0174206393367025,
          -0.4587717162908476,
          -0.5263286688595268,
          -0.5929967365131853,
          0.814656274814025,
          1.9808718424399285,
          0.8029333924830028,
          -0.9669195429938262,
          0.4864229162952104,
          0.24332058654426708,
          0.20638896725384728,
          -0.6328604773747971,
          0.9449775365738496,
          -0.5873652887040683,
          1.5405322330015419,
          1.4633251619674414,
          -0.7640730016069059,
          0.10094774101467074,
          -0.6472076918128246,
          1.5963909934782532,
          -0.28345811435467794,
          -1.708490142148577,
          0.3192433158479993,
          -0.7974039512022152,
          0.8490163670386164,
          0.7045434640122664,
          -0.05056336966839602
         ],
         "yaxis": "y5"
        },
        {
         "histfunc": "count",
         "histnorm": "",
         "marker": {
          "color": "rgba(55, 128, 191, 1.0)",
          "line": {
           "color": "#4D5663",
           "width": 1.3
          }
         },
         "name": "B",
         "nbinsx": 10,
         "opacity": 0.8,
         "orientation": "v",
         "type": "histogram",
         "x": [
          0.9059599971152463,
          1.2640403590421745,
          -0.2807537530635768,
          0.06402790036215945,
          -0.3766235233694587,
          -0.10132459774762158,
          0.5339861080892987,
          -1.8643420708091076,
          -1.661866586796738,
          2.3569785219679438,
          0.8725438525555298,
          -1.9104769189833894,
          -0.255949299328033,
          -0.39668839332448974,
          -0.3134606308667052,
          0.350746961585668,
          1.5778418522684001,
          -0.7885120606107235,
          -0.37433000133476685,
          -0.7865830089210104,
          -0.07517524873421455,
          -0.44288240707585064,
          0.5137908325133144,
          -1.121977505222089,
          -0.03568683511645622,
          -1.7924711458135418,
          1.5029017374563711,
          0.06433630297088112,
          0.020239781673339292,
          -0.29025246002340094,
          -1.1302539905725308,
          -0.18947146526901348,
          0.42760165568481256,
          0.333016541738766,
          0.3267043674060358,
          -1.0513974533576986,
          0.3774706999121592,
          -0.24496204262494045,
          -0.5265156710485509,
          0.6463574886324186,
          -0.6767948282602794,
          -0.7166772868544358,
          0.560351760893181,
          -0.38743902854119106,
          1.6019552050879209,
          0.011477146477320555,
          -1.110362746013105,
          1.1481440836003125,
          0.23362353676972208,
          0.27168211675893295,
          -0.16882921026742742,
          -1.6965335749826864,
          0.223151048282374,
          1.3100580898431096,
          1.4736784282794164,
          -1.0640125173800254,
          0.9050701400953132,
          0.48767629647396676,
          0.6753774281301449,
          -0.5754626651176231,
          0.6040043802592154,
          1.265348899405205,
          -1.0762057552710116,
          -0.11111384920458972,
          0.09464773574212813,
          1.0547675685231737,
          -0.6448715282387144,
          0.7739440113180187,
          -0.4028863465882712,
          -0.6562669929880659,
          1.3215915296236977,
          -2.03936613444369,
          -0.43033095621917533,
          -1.0174206393367025,
          -0.4587717162908476,
          -0.5263286688595268,
          -0.5929967365131853,
          0.814656274814025,
          1.9808718424399285,
          0.8029333924830028,
          -0.9669195429938262,
          0.4864229162952104,
          0.24332058654426708,
          0.20638896725384728,
          -0.6328604773747971,
          0.9449775365738496,
          -0.5873652887040683,
          1.5405322330015419,
          1.4633251619674414,
          -0.7640730016069059,
          0.10094774101467074,
          -0.6472076918128246,
          1.5963909934782532,
          -0.28345811435467794,
          -1.708490142148577,
          0.3192433158479993,
          -0.7974039512022152,
          0.8490163670386164,
          0.7045434640122664,
          -0.05056336966839602
         ],
         "xaxis": "x6",
         "yaxis": "y6"
        },
        {
         "line": {
          "color": "rgba(128, 128, 128, 1.0)",
          "dash": "solid",
          "shape": "linear",
          "width": 1.3
         },
         "marker": {
          "size": 2,
          "symbol": "circle"
         },
         "mode": "markers",
         "name": "B",
         "text": "",
         "type": "scatter",
         "x": [
          0.8145318541182838,
          0.7559868640780945,
          -0.7911693878578542,
          -0.4615667031492696,
          -0.4783289040760878,
          0.41729770253252063,
          0.4959169466569206,
          1.069497626033612,
          0.3485486302891891,
          2.661164504883503,
          0.06872972086560371,
          -0.6800710467989675,
          0.12254230232641224,
          -0.4665240443404823,
          -1.4727716602812868,
          0.20307054544264644,
          0.684646711845568,
          -0.1885740208259096,
          1.6183857998897144,
          0.1537157525615728,
          -0.9561403136584151,
          -0.7744198707005601,
          1.816049758642045,
          -1.3141725588917677,
          0.6392656826546046,
          1.3338745691339575,
          -1.9784023725066249,
          -0.43978825132042854,
          0.1842185908247415,
          1.128980410711298,
          -0.7398812125818858,
          -0.13534459356211892,
          0.6678329171676869,
          -0.12319027160122681,
          2.609227631075749,
          -0.3197219580123539,
          -0.03540317794825873,
          -0.19875004854742756,
          -1.1653338695859397,
          0.02476865467115096,
          -1.0524489299709388,
          -1.0069269640461846,
          -0.08492748607783955,
          -1.2376726858960687,
          0.3561928900176956,
          -0.4200699116139587,
          0.04367359830000804,
          -0.34702593862963504,
          0.9309256687532793,
          0.6540066397993411,
          0.060863063017891225,
          2.2388382465613623,
          0.461749405425871,
          0.9823961775581245,
          -0.9069023392607259,
          -0.10890028524264758,
          0.072195660308165,
          -1.4654208402487419,
          -0.48756523010174146,
          -0.1748413569213523,
          0.2958423956615726,
          -0.9078651568946134,
          -0.49871455986032504,
          0.86765113189569,
          -0.5157200773906159,
          -0.14679826941611732,
          -0.8193941354406362,
          1.5807464726721516,
          0.5547155914525256,
          -0.06331255074299061,
          0.5590242801159748,
          -0.4868604733850864,
          1.150543610681079,
          -0.15967700304585333,
          0.5479353647594309,
          -0.156085453412081,
          -0.2484684610355909,
          -0.08880987492712661,
          0.4264022097782739,
          0.1397244735637222,
          -0.8038027184363239,
          -0.38410478043784374,
          1.2277210047176843,
          0.05569434761720841,
          1.0877998578721246,
          0.9675907834442555,
          -0.09564093561689342,
          -0.30996700436951746,
          -0.6427387669266169,
          -1.1303473535166737,
          0.8146960467180471,
          -1.1534775927947547,
          0.7463461432108704,
          0.8333099781535035,
          -0.5051758692967644,
          -0.3213968776053241,
          -2.0864284182052497,
          -0.14603703244565186,
          -0.3453718629190423,
          1.7937217646897103
         ],
         "xaxis": "x7",
         "y": [
          0.9059599971152463,
          1.2640403590421745,
          -0.2807537530635768,
          0.06402790036215945,
          -0.3766235233694587,
          -0.10132459774762158,
          0.5339861080892987,
          -1.8643420708091076,
          -1.661866586796738,
          2.3569785219679438,
          0.8725438525555298,
          -1.9104769189833894,
          -0.255949299328033,
          -0.39668839332448974,
          -0.3134606308667052,
          0.350746961585668,
          1.5778418522684001,
          -0.7885120606107235,
          -0.37433000133476685,
          -0.7865830089210104,
          -0.07517524873421455,
          -0.44288240707585064,
          0.5137908325133144,
          -1.121977505222089,
          -0.03568683511645622,
          -1.7924711458135418,
          1.5029017374563711,
          0.06433630297088112,
          0.020239781673339292,
          -0.29025246002340094,
          -1.1302539905725308,
          -0.18947146526901348,
          0.42760165568481256,
          0.333016541738766,
          0.3267043674060358,
          -1.0513974533576986,
          0.3774706999121592,
          -0.24496204262494045,
          -0.5265156710485509,
          0.6463574886324186,
          -0.6767948282602794,
          -0.7166772868544358,
          0.560351760893181,
          -0.38743902854119106,
          1.6019552050879209,
          0.011477146477320555,
          -1.110362746013105,
          1.1481440836003125,
          0.23362353676972208,
          0.27168211675893295,
          -0.16882921026742742,
          -1.6965335749826864,
          0.223151048282374,
          1.3100580898431096,
          1.4736784282794164,
          -1.0640125173800254,
          0.9050701400953132,
          0.48767629647396676,
          0.6753774281301449,
          -0.5754626651176231,
          0.6040043802592154,
          1.265348899405205,
          -1.0762057552710116,
          -0.11111384920458972,
          0.09464773574212813,
          1.0547675685231737,
          -0.6448715282387144,
          0.7739440113180187,
          -0.4028863465882712,
          -0.6562669929880659,
          1.3215915296236977,
          -2.03936613444369,
          -0.43033095621917533,
          -1.0174206393367025,
          -0.4587717162908476,
          -0.5263286688595268,
          -0.5929967365131853,
          0.814656274814025,
          1.9808718424399285,
          0.8029333924830028,
          -0.9669195429938262,
          0.4864229162952104,
          0.24332058654426708,
          0.20638896725384728,
          -0.6328604773747971,
          0.9449775365738496,
          -0.5873652887040683,
          1.5405322330015419,
          1.4633251619674414,
          -0.7640730016069059,
          0.10094774101467074,
          -0.6472076918128246,
          1.5963909934782532,
          -0.28345811435467794,
          -1.708490142148577,
          0.3192433158479993,
          -0.7974039512022152,
          0.8490163670386164,
          0.7045434640122664,
          -0.05056336966839602
         ],
         "yaxis": "y7"
        },
        {
         "line": {
          "color": "rgba(128, 128, 128, 1.0)",
          "dash": "solid",
          "shape": "linear",
          "width": 1.3
         },
         "marker": {
          "size": 2,
          "symbol": "circle"
         },
         "mode": "markers",
         "name": "B",
         "text": "",
         "type": "scatter",
         "x": [
          -0.9287969360385558,
          -2.6903461092469194,
          1.8624606059259496,
          2.65834186702288,
          -0.7980090896855742,
          -1.5827524498354613,
          0.2955470671139877,
          1.5502915705755398,
          -0.7979747735353135,
          0.6460701924717869,
          -0.936870420347587,
          -0.7592432746697397,
          1.2257802677559726,
          -0.8122393148359898,
          -1.5770245455675627,
          -1.9532608532826146,
          1.2498349738583459,
          -0.12032763768486186,
          0.19964616675881292,
          0.11654044840654534,
          0.4848809892741022,
          0.4484086937833366,
          -0.38956336565049554,
          1.896459297692075,
          0.8162856955544592,
          1.6229427799183003,
          0.23113477177927125,
          -1.0442775409802059,
          0.46572623833647436,
          0.4066816978124542,
          0.09326264462049069,
          0.255748905054573,
          1.000976696434357,
          -0.9422686315887814,
          0.5638625803494463,
          0.6232246258485489,
          2.0902670579021394,
          0.18039481439640082,
          -2.8043591150230585,
          -1.5406214467034285,
          -0.8619489271428574,
          0.1973368707344788,
          0.5951918906812148,
          -1.254950079480591,
          0.2672512673631738,
          0.1231761132113905,
          0.4282017663539288,
          -0.07417978796279026,
          0.5838737828287422,
          0.7383469895984776,
          -0.33571220914034955,
          -1.4460462320019074,
          -0.324141217027923,
          2.325284836253793,
          0.6250953404395978,
          1.0233025533589735,
          -0.3494082223162853,
          0.9026362239522017,
          0.18168725816791362,
          -2.6229803716139495,
          -0.27342525144437013,
          -0.1931244977852925,
          1.1051207832141565,
          0.45997066086433386,
          1.1761768520251474,
          0.013808034119401909,
          1.8428471092341046,
          0.9718762015792,
          -1.1871142872913143,
          -0.7942313824997717,
          0.6377742139850696,
          1.056253935397287,
          0.17432361359849946,
          -0.5707208881700466,
          0.47016231725700064,
          0.5202759059458038,
          0.17236170108375984,
          0.1591165564203543,
          -0.08043319862684438,
          0.9282097726527182,
          -2.089416374568016,
          -0.9026175672646589,
          -0.29388347696324646,
          2.241400722782147,
          -0.35882409026196266,
          1.0776875082017887,
          0.42773010628651903,
          0.4848173298231596,
          -0.25462632786313805,
          -1.6798298606013724,
          -0.8773900778879777,
          1.5634337277512937,
          0.10434311889015405,
          0.27654662387292034,
          -1.4777234322777808,
          -0.8514769391416811,
          -0.25176645385428903,
          -1.4987461162481623,
          1.0351018823675524,
          -1.4075092725501115
         ],
         "xaxis": "x8",
         "y": [
          0.9059599971152463,
          1.2640403590421745,
          -0.2807537530635768,
          0.06402790036215945,
          -0.3766235233694587,
          -0.10132459774762158,
          0.5339861080892987,
          -1.8643420708091076,
          -1.661866586796738,
          2.3569785219679438,
          0.8725438525555298,
          -1.9104769189833894,
          -0.255949299328033,
          -0.39668839332448974,
          -0.3134606308667052,
          0.350746961585668,
          1.5778418522684001,
          -0.7885120606107235,
          -0.37433000133476685,
          -0.7865830089210104,
          -0.07517524873421455,
          -0.44288240707585064,
          0.5137908325133144,
          -1.121977505222089,
          -0.03568683511645622,
          -1.7924711458135418,
          1.5029017374563711,
          0.06433630297088112,
          0.020239781673339292,
          -0.29025246002340094,
          -1.1302539905725308,
          -0.18947146526901348,
          0.42760165568481256,
          0.333016541738766,
          0.3267043674060358,
          -1.0513974533576986,
          0.3774706999121592,
          -0.24496204262494045,
          -0.5265156710485509,
          0.6463574886324186,
          -0.6767948282602794,
          -0.7166772868544358,
          0.560351760893181,
          -0.38743902854119106,
          1.6019552050879209,
          0.011477146477320555,
          -1.110362746013105,
          1.1481440836003125,
          0.23362353676972208,
          0.27168211675893295,
          -0.16882921026742742,
          -1.6965335749826864,
          0.223151048282374,
          1.3100580898431096,
          1.4736784282794164,
          -1.0640125173800254,
          0.9050701400953132,
          0.48767629647396676,
          0.6753774281301449,
          -0.5754626651176231,
          0.6040043802592154,
          1.265348899405205,
          -1.0762057552710116,
          -0.11111384920458972,
          0.09464773574212813,
          1.0547675685231737,
          -0.6448715282387144,
          0.7739440113180187,
          -0.4028863465882712,
          -0.6562669929880659,
          1.3215915296236977,
          -2.03936613444369,
          -0.43033095621917533,
          -1.0174206393367025,
          -0.4587717162908476,
          -0.5263286688595268,
          -0.5929967365131853,
          0.814656274814025,
          1.9808718424399285,
          0.8029333924830028,
          -0.9669195429938262,
          0.4864229162952104,
          0.24332058654426708,
          0.20638896725384728,
          -0.6328604773747971,
          0.9449775365738496,
          -0.5873652887040683,
          1.5405322330015419,
          1.4633251619674414,
          -0.7640730016069059,
          0.10094774101467074,
          -0.6472076918128246,
          1.5963909934782532,
          -0.28345811435467794,
          -1.708490142148577,
          0.3192433158479993,
          -0.7974039512022152,
          0.8490163670386164,
          0.7045434640122664,
          -0.05056336966839602
         ],
         "yaxis": "y8"
        },
        {
         "line": {
          "color": "rgba(128, 128, 128, 1.0)",
          "dash": "solid",
          "shape": "linear",
          "width": 1.3
         },
         "marker": {
          "size": 2,
          "symbol": "circle"
         },
         "mode": "markers",
         "name": "C",
         "text": "",
         "type": "scatter",
         "x": [
          -0.3906035117543167,
          1.0863264715185994,
          0.6835253814650998,
          -0.23576141864914893,
          -0.4429545878166258,
          2.116343170175117,
          1.4473913506726221,
          0.569652553863101,
          -0.009092623081691979,
          -1.0582945442935632,
          -0.12084486928238401,
          0.08815152034967148,
          0.11959952693200762,
          -0.7254016820099657,
          -0.21947884771572385,
          0.6307412937895936,
          -0.2715854516702586,
          0.6774799956997187,
          -3.326632598527113,
          -1.1010555748854676,
          -0.8285736989645863,
          1.4286432413197285,
          -1.2863673982151753,
          0.5560943872450889,
          -1.2156580243428767,
          0.2907123370476229,
          -0.03962130114381719,
          0.6128214007748458,
          1.5909112248895954,
          0.5649731989364699,
          0.11915288705665236,
          -0.6470755860638769,
          0.284160040239183,
          2.600494959494294,
          -1.2022014874643814,
          -0.13223808754142752,
          -0.041316482136716834,
          0.5098732219097379,
          0.15915568444349057,
          -0.5043819681281224,
          -0.3556156798004133,
          -0.3796013635814211,
          -1.8593197564762267,
          0.8978164798024615,
          0.39446349009737763,
          -0.694784547578885,
          0.26880235000994757,
          0.6167174702859992,
          -0.4997994420796771,
          0.4450096699471989,
          -0.8847488445344148,
          1.0987983381132622,
          -0.8452209252813302,
          -1.0648063360549604,
          -0.19084391043675195,
          -0.15859338257624883,
          0.7630611129237804,
          3.2291066281589886,
          0.6929317663642419,
          -0.5838146426552702,
          0.5861013284436394,
          -1.2650129403147923,
          -0.9874629601084706,
          0.22189992221823152,
          0.1070480664013499,
          -0.020257070664600894,
          0.540074434383443,
          -1.1153734802213902,
          -0.5408456367874344,
          -0.9363710338016914,
          -0.8768419048054417,
          0.5757258953442429,
          1.1302549841946514,
          1.0141595421180447,
          0.04382098826360184,
          1.0850336979622708,
          2.3157010748108156,
          -0.5705093840098091,
          1.9021376615749161,
          0.6295200030080252,
          -0.5850574454103049,
          1.0035871157471201,
          0.8792469474737475,
          -1.1340408358411769,
          0.1601995205845725,
          -0.024707485401965698,
          0.6120477835646161,
          0.8923372998260404,
          -1.3152338654473736,
          0.3878815351547292,
          0.7210458168234605,
          -2.41264623404743,
          -0.3959192713590546,
          0.8869462669540071,
          -0.035460269728471466,
          -0.9470516684026542,
          -0.4392408054657591,
          -1.1946784087205802,
          1.0776855106669865,
          0.5440523475359473
         ],
         "xaxis": "x9",
         "y": [
          0.8145318541182838,
          0.7559868640780945,
          -0.7911693878578542,
          -0.4615667031492696,
          -0.4783289040760878,
          0.41729770253252063,
          0.4959169466569206,
          1.069497626033612,
          0.3485486302891891,
          2.661164504883503,
          0.06872972086560371,
          -0.6800710467989675,
          0.12254230232641224,
          -0.4665240443404823,
          -1.4727716602812868,
          0.20307054544264644,
          0.684646711845568,
          -0.1885740208259096,
          1.6183857998897144,
          0.1537157525615728,
          -0.9561403136584151,
          -0.7744198707005601,
          1.816049758642045,
          -1.3141725588917677,
          0.6392656826546046,
          1.3338745691339575,
          -1.9784023725066249,
          -0.43978825132042854,
          0.1842185908247415,
          1.128980410711298,
          -0.7398812125818858,
          -0.13534459356211892,
          0.6678329171676869,
          -0.12319027160122681,
          2.609227631075749,
          -0.3197219580123539,
          -0.03540317794825873,
          -0.19875004854742756,
          -1.1653338695859397,
          0.02476865467115096,
          -1.0524489299709388,
          -1.0069269640461846,
          -0.08492748607783955,
          -1.2376726858960687,
          0.3561928900176956,
          -0.4200699116139587,
          0.04367359830000804,
          -0.34702593862963504,
          0.9309256687532793,
          0.6540066397993411,
          0.060863063017891225,
          2.2388382465613623,
          0.461749405425871,
          0.9823961775581245,
          -0.9069023392607259,
          -0.10890028524264758,
          0.072195660308165,
          -1.4654208402487419,
          -0.48756523010174146,
          -0.1748413569213523,
          0.2958423956615726,
          -0.9078651568946134,
          -0.49871455986032504,
          0.86765113189569,
          -0.5157200773906159,
          -0.14679826941611732,
          -0.8193941354406362,
          1.5807464726721516,
          0.5547155914525256,
          -0.06331255074299061,
          0.5590242801159748,
          -0.4868604733850864,
          1.150543610681079,
          -0.15967700304585333,
          0.5479353647594309,
          -0.156085453412081,
          -0.2484684610355909,
          -0.08880987492712661,
          0.4264022097782739,
          0.1397244735637222,
          -0.8038027184363239,
          -0.38410478043784374,
          1.2277210047176843,
          0.05569434761720841,
          1.0877998578721246,
          0.9675907834442555,
          -0.09564093561689342,
          -0.30996700436951746,
          -0.6427387669266169,
          -1.1303473535166737,
          0.8146960467180471,
          -1.1534775927947547,
          0.7463461432108704,
          0.8333099781535035,
          -0.5051758692967644,
          -0.3213968776053241,
          -2.0864284182052497,
          -0.14603703244565186,
          -0.3453718629190423,
          1.7937217646897103
         ],
         "yaxis": "y9"
        },
        {
         "line": {
          "color": "rgba(128, 128, 128, 1.0)",
          "dash": "solid",
          "shape": "linear",
          "width": 1.3
         },
         "marker": {
          "size": 2,
          "symbol": "circle"
         },
         "mode": "markers",
         "name": "C",
         "text": "",
         "type": "scatter",
         "x": [
          0.9059599971152463,
          1.2640403590421745,
          -0.2807537530635768,
          0.06402790036215945,
          -0.3766235233694587,
          -0.10132459774762158,
          0.5339861080892987,
          -1.8643420708091076,
          -1.661866586796738,
          2.3569785219679438,
          0.8725438525555298,
          -1.9104769189833894,
          -0.255949299328033,
          -0.39668839332448974,
          -0.3134606308667052,
          0.350746961585668,
          1.5778418522684001,
          -0.7885120606107235,
          -0.37433000133476685,
          -0.7865830089210104,
          -0.07517524873421455,
          -0.44288240707585064,
          0.5137908325133144,
          -1.121977505222089,
          -0.03568683511645622,
          -1.7924711458135418,
          1.5029017374563711,
          0.06433630297088112,
          0.020239781673339292,
          -0.29025246002340094,
          -1.1302539905725308,
          -0.18947146526901348,
          0.42760165568481256,
          0.333016541738766,
          0.3267043674060358,
          -1.0513974533576986,
          0.3774706999121592,
          -0.24496204262494045,
          -0.5265156710485509,
          0.6463574886324186,
          -0.6767948282602794,
          -0.7166772868544358,
          0.560351760893181,
          -0.38743902854119106,
          1.6019552050879209,
          0.011477146477320555,
          -1.110362746013105,
          1.1481440836003125,
          0.23362353676972208,
          0.27168211675893295,
          -0.16882921026742742,
          -1.6965335749826864,
          0.223151048282374,
          1.3100580898431096,
          1.4736784282794164,
          -1.0640125173800254,
          0.9050701400953132,
          0.48767629647396676,
          0.6753774281301449,
          -0.5754626651176231,
          0.6040043802592154,
          1.265348899405205,
          -1.0762057552710116,
          -0.11111384920458972,
          0.09464773574212813,
          1.0547675685231737,
          -0.6448715282387144,
          0.7739440113180187,
          -0.4028863465882712,
          -0.6562669929880659,
          1.3215915296236977,
          -2.03936613444369,
          -0.43033095621917533,
          -1.0174206393367025,
          -0.4587717162908476,
          -0.5263286688595268,
          -0.5929967365131853,
          0.814656274814025,
          1.9808718424399285,
          0.8029333924830028,
          -0.9669195429938262,
          0.4864229162952104,
          0.24332058654426708,
          0.20638896725384728,
          -0.6328604773747971,
          0.9449775365738496,
          -0.5873652887040683,
          1.5405322330015419,
          1.4633251619674414,
          -0.7640730016069059,
          0.10094774101467074,
          -0.6472076918128246,
          1.5963909934782532,
          -0.28345811435467794,
          -1.708490142148577,
          0.3192433158479993,
          -0.7974039512022152,
          0.8490163670386164,
          0.7045434640122664,
          -0.05056336966839602
         ],
         "xaxis": "x10",
         "y": [
          0.8145318541182838,
          0.7559868640780945,
          -0.7911693878578542,
          -0.4615667031492696,
          -0.4783289040760878,
          0.41729770253252063,
          0.4959169466569206,
          1.069497626033612,
          0.3485486302891891,
          2.661164504883503,
          0.06872972086560371,
          -0.6800710467989675,
          0.12254230232641224,
          -0.4665240443404823,
          -1.4727716602812868,
          0.20307054544264644,
          0.684646711845568,
          -0.1885740208259096,
          1.6183857998897144,
          0.1537157525615728,
          -0.9561403136584151,
          -0.7744198707005601,
          1.816049758642045,
          -1.3141725588917677,
          0.6392656826546046,
          1.3338745691339575,
          -1.9784023725066249,
          -0.43978825132042854,
          0.1842185908247415,
          1.128980410711298,
          -0.7398812125818858,
          -0.13534459356211892,
          0.6678329171676869,
          -0.12319027160122681,
          2.609227631075749,
          -0.3197219580123539,
          -0.03540317794825873,
          -0.19875004854742756,
          -1.1653338695859397,
          0.02476865467115096,
          -1.0524489299709388,
          -1.0069269640461846,
          -0.08492748607783955,
          -1.2376726858960687,
          0.3561928900176956,
          -0.4200699116139587,
          0.04367359830000804,
          -0.34702593862963504,
          0.9309256687532793,
          0.6540066397993411,
          0.060863063017891225,
          2.2388382465613623,
          0.461749405425871,
          0.9823961775581245,
          -0.9069023392607259,
          -0.10890028524264758,
          0.072195660308165,
          -1.4654208402487419,
          -0.48756523010174146,
          -0.1748413569213523,
          0.2958423956615726,
          -0.9078651568946134,
          -0.49871455986032504,
          0.86765113189569,
          -0.5157200773906159,
          -0.14679826941611732,
          -0.8193941354406362,
          1.5807464726721516,
          0.5547155914525256,
          -0.06331255074299061,
          0.5590242801159748,
          -0.4868604733850864,
          1.150543610681079,
          -0.15967700304585333,
          0.5479353647594309,
          -0.156085453412081,
          -0.2484684610355909,
          -0.08880987492712661,
          0.4264022097782739,
          0.1397244735637222,
          -0.8038027184363239,
          -0.38410478043784374,
          1.2277210047176843,
          0.05569434761720841,
          1.0877998578721246,
          0.9675907834442555,
          -0.09564093561689342,
          -0.30996700436951746,
          -0.6427387669266169,
          -1.1303473535166737,
          0.8146960467180471,
          -1.1534775927947547,
          0.7463461432108704,
          0.8333099781535035,
          -0.5051758692967644,
          -0.3213968776053241,
          -2.0864284182052497,
          -0.14603703244565186,
          -0.3453718629190423,
          1.7937217646897103
         ],
         "yaxis": "y10"
        },
        {
         "histfunc": "count",
         "histnorm": "",
         "marker": {
          "color": "rgba(50, 171, 96, 1.0)",
          "line": {
           "color": "#4D5663",
           "width": 1.3
          }
         },
         "name": "C",
         "nbinsx": 10,
         "opacity": 0.8,
         "orientation": "v",
         "type": "histogram",
         "x": [
          0.8145318541182838,
          0.7559868640780945,
          -0.7911693878578542,
          -0.4615667031492696,
          -0.4783289040760878,
          0.41729770253252063,
          0.4959169466569206,
          1.069497626033612,
          0.3485486302891891,
          2.661164504883503,
          0.06872972086560371,
          -0.6800710467989675,
          0.12254230232641224,
          -0.4665240443404823,
          -1.4727716602812868,
          0.20307054544264644,
          0.684646711845568,
          -0.1885740208259096,
          1.6183857998897144,
          0.1537157525615728,
          -0.9561403136584151,
          -0.7744198707005601,
          1.816049758642045,
          -1.3141725588917677,
          0.6392656826546046,
          1.3338745691339575,
          -1.9784023725066249,
          -0.43978825132042854,
          0.1842185908247415,
          1.128980410711298,
          -0.7398812125818858,
          -0.13534459356211892,
          0.6678329171676869,
          -0.12319027160122681,
          2.609227631075749,
          -0.3197219580123539,
          -0.03540317794825873,
          -0.19875004854742756,
          -1.1653338695859397,
          0.02476865467115096,
          -1.0524489299709388,
          -1.0069269640461846,
          -0.08492748607783955,
          -1.2376726858960687,
          0.3561928900176956,
          -0.4200699116139587,
          0.04367359830000804,
          -0.34702593862963504,
          0.9309256687532793,
          0.6540066397993411,
          0.060863063017891225,
          2.2388382465613623,
          0.461749405425871,
          0.9823961775581245,
          -0.9069023392607259,
          -0.10890028524264758,
          0.072195660308165,
          -1.4654208402487419,
          -0.48756523010174146,
          -0.1748413569213523,
          0.2958423956615726,
          -0.9078651568946134,
          -0.49871455986032504,
          0.86765113189569,
          -0.5157200773906159,
          -0.14679826941611732,
          -0.8193941354406362,
          1.5807464726721516,
          0.5547155914525256,
          -0.06331255074299061,
          0.5590242801159748,
          -0.4868604733850864,
          1.150543610681079,
          -0.15967700304585333,
          0.5479353647594309,
          -0.156085453412081,
          -0.2484684610355909,
          -0.08880987492712661,
          0.4264022097782739,
          0.1397244735637222,
          -0.8038027184363239,
          -0.38410478043784374,
          1.2277210047176843,
          0.05569434761720841,
          1.0877998578721246,
          0.9675907834442555,
          -0.09564093561689342,
          -0.30996700436951746,
          -0.6427387669266169,
          -1.1303473535166737,
          0.8146960467180471,
          -1.1534775927947547,
          0.7463461432108704,
          0.8333099781535035,
          -0.5051758692967644,
          -0.3213968776053241,
          -2.0864284182052497,
          -0.14603703244565186,
          -0.3453718629190423,
          1.7937217646897103
         ],
         "xaxis": "x11",
         "yaxis": "y11"
        },
        {
         "line": {
          "color": "rgba(128, 128, 128, 1.0)",
          "dash": "solid",
          "shape": "linear",
          "width": 1.3
         },
         "marker": {
          "size": 2,
          "symbol": "circle"
         },
         "mode": "markers",
         "name": "C",
         "text": "",
         "type": "scatter",
         "x": [
          -0.9287969360385558,
          -2.6903461092469194,
          1.8624606059259496,
          2.65834186702288,
          -0.7980090896855742,
          -1.5827524498354613,
          0.2955470671139877,
          1.5502915705755398,
          -0.7979747735353135,
          0.6460701924717869,
          -0.936870420347587,
          -0.7592432746697397,
          1.2257802677559726,
          -0.8122393148359898,
          -1.5770245455675627,
          -1.9532608532826146,
          1.2498349738583459,
          -0.12032763768486186,
          0.19964616675881292,
          0.11654044840654534,
          0.4848809892741022,
          0.4484086937833366,
          -0.38956336565049554,
          1.896459297692075,
          0.8162856955544592,
          1.6229427799183003,
          0.23113477177927125,
          -1.0442775409802059,
          0.46572623833647436,
          0.4066816978124542,
          0.09326264462049069,
          0.255748905054573,
          1.000976696434357,
          -0.9422686315887814,
          0.5638625803494463,
          0.6232246258485489,
          2.0902670579021394,
          0.18039481439640082,
          -2.8043591150230585,
          -1.5406214467034285,
          -0.8619489271428574,
          0.1973368707344788,
          0.5951918906812148,
          -1.254950079480591,
          0.2672512673631738,
          0.1231761132113905,
          0.4282017663539288,
          -0.07417978796279026,
          0.5838737828287422,
          0.7383469895984776,
          -0.33571220914034955,
          -1.4460462320019074,
          -0.324141217027923,
          2.325284836253793,
          0.6250953404395978,
          1.0233025533589735,
          -0.3494082223162853,
          0.9026362239522017,
          0.18168725816791362,
          -2.6229803716139495,
          -0.27342525144437013,
          -0.1931244977852925,
          1.1051207832141565,
          0.45997066086433386,
          1.1761768520251474,
          0.013808034119401909,
          1.8428471092341046,
          0.9718762015792,
          -1.1871142872913143,
          -0.7942313824997717,
          0.6377742139850696,
          1.056253935397287,
          0.17432361359849946,
          -0.5707208881700466,
          0.47016231725700064,
          0.5202759059458038,
          0.17236170108375984,
          0.1591165564203543,
          -0.08043319862684438,
          0.9282097726527182,
          -2.089416374568016,
          -0.9026175672646589,
          -0.29388347696324646,
          2.241400722782147,
          -0.35882409026196266,
          1.0776875082017887,
          0.42773010628651903,
          0.4848173298231596,
          -0.25462632786313805,
          -1.6798298606013724,
          -0.8773900778879777,
          1.5634337277512937,
          0.10434311889015405,
          0.27654662387292034,
          -1.4777234322777808,
          -0.8514769391416811,
          -0.25176645385428903,
          -1.4987461162481623,
          1.0351018823675524,
          -1.4075092725501115
         ],
         "xaxis": "x12",
         "y": [
          0.8145318541182838,
          0.7559868640780945,
          -0.7911693878578542,
          -0.4615667031492696,
          -0.4783289040760878,
          0.41729770253252063,
          0.4959169466569206,
          1.069497626033612,
          0.3485486302891891,
          2.661164504883503,
          0.06872972086560371,
          -0.6800710467989675,
          0.12254230232641224,
          -0.4665240443404823,
          -1.4727716602812868,
          0.20307054544264644,
          0.684646711845568,
          -0.1885740208259096,
          1.6183857998897144,
          0.1537157525615728,
          -0.9561403136584151,
          -0.7744198707005601,
          1.816049758642045,
          -1.3141725588917677,
          0.6392656826546046,
          1.3338745691339575,
          -1.9784023725066249,
          -0.43978825132042854,
          0.1842185908247415,
          1.128980410711298,
          -0.7398812125818858,
          -0.13534459356211892,
          0.6678329171676869,
          -0.12319027160122681,
          2.609227631075749,
          -0.3197219580123539,
          -0.03540317794825873,
          -0.19875004854742756,
          -1.1653338695859397,
          0.02476865467115096,
          -1.0524489299709388,
          -1.0069269640461846,
          -0.08492748607783955,
          -1.2376726858960687,
          0.3561928900176956,
          -0.4200699116139587,
          0.04367359830000804,
          -0.34702593862963504,
          0.9309256687532793,
          0.6540066397993411,
          0.060863063017891225,
          2.2388382465613623,
          0.461749405425871,
          0.9823961775581245,
          -0.9069023392607259,
          -0.10890028524264758,
          0.072195660308165,
          -1.4654208402487419,
          -0.48756523010174146,
          -0.1748413569213523,
          0.2958423956615726,
          -0.9078651568946134,
          -0.49871455986032504,
          0.86765113189569,
          -0.5157200773906159,
          -0.14679826941611732,
          -0.8193941354406362,
          1.5807464726721516,
          0.5547155914525256,
          -0.06331255074299061,
          0.5590242801159748,
          -0.4868604733850864,
          1.150543610681079,
          -0.15967700304585333,
          0.5479353647594309,
          -0.156085453412081,
          -0.2484684610355909,
          -0.08880987492712661,
          0.4264022097782739,
          0.1397244735637222,
          -0.8038027184363239,
          -0.38410478043784374,
          1.2277210047176843,
          0.05569434761720841,
          1.0877998578721246,
          0.9675907834442555,
          -0.09564093561689342,
          -0.30996700436951746,
          -0.6427387669266169,
          -1.1303473535166737,
          0.8146960467180471,
          -1.1534775927947547,
          0.7463461432108704,
          0.8333099781535035,
          -0.5051758692967644,
          -0.3213968776053241,
          -2.0864284182052497,
          -0.14603703244565186,
          -0.3453718629190423,
          1.7937217646897103
         ],
         "yaxis": "y12"
        },
        {
         "line": {
          "color": "rgba(128, 128, 128, 1.0)",
          "dash": "solid",
          "shape": "linear",
          "width": 1.3
         },
         "marker": {
          "size": 2,
          "symbol": "circle"
         },
         "mode": "markers",
         "name": "D",
         "text": "",
         "type": "scatter",
         "x": [
          -0.3906035117543167,
          1.0863264715185994,
          0.6835253814650998,
          -0.23576141864914893,
          -0.4429545878166258,
          2.116343170175117,
          1.4473913506726221,
          0.569652553863101,
          -0.009092623081691979,
          -1.0582945442935632,
          -0.12084486928238401,
          0.08815152034967148,
          0.11959952693200762,
          -0.7254016820099657,
          -0.21947884771572385,
          0.6307412937895936,
          -0.2715854516702586,
          0.6774799956997187,
          -3.326632598527113,
          -1.1010555748854676,
          -0.8285736989645863,
          1.4286432413197285,
          -1.2863673982151753,
          0.5560943872450889,
          -1.2156580243428767,
          0.2907123370476229,
          -0.03962130114381719,
          0.6128214007748458,
          1.5909112248895954,
          0.5649731989364699,
          0.11915288705665236,
          -0.6470755860638769,
          0.284160040239183,
          2.600494959494294,
          -1.2022014874643814,
          -0.13223808754142752,
          -0.041316482136716834,
          0.5098732219097379,
          0.15915568444349057,
          -0.5043819681281224,
          -0.3556156798004133,
          -0.3796013635814211,
          -1.8593197564762267,
          0.8978164798024615,
          0.39446349009737763,
          -0.694784547578885,
          0.26880235000994757,
          0.6167174702859992,
          -0.4997994420796771,
          0.4450096699471989,
          -0.8847488445344148,
          1.0987983381132622,
          -0.8452209252813302,
          -1.0648063360549604,
          -0.19084391043675195,
          -0.15859338257624883,
          0.7630611129237804,
          3.2291066281589886,
          0.6929317663642419,
          -0.5838146426552702,
          0.5861013284436394,
          -1.2650129403147923,
          -0.9874629601084706,
          0.22189992221823152,
          0.1070480664013499,
          -0.020257070664600894,
          0.540074434383443,
          -1.1153734802213902,
          -0.5408456367874344,
          -0.9363710338016914,
          -0.8768419048054417,
          0.5757258953442429,
          1.1302549841946514,
          1.0141595421180447,
          0.04382098826360184,
          1.0850336979622708,
          2.3157010748108156,
          -0.5705093840098091,
          1.9021376615749161,
          0.6295200030080252,
          -0.5850574454103049,
          1.0035871157471201,
          0.8792469474737475,
          -1.1340408358411769,
          0.1601995205845725,
          -0.024707485401965698,
          0.6120477835646161,
          0.8923372998260404,
          -1.3152338654473736,
          0.3878815351547292,
          0.7210458168234605,
          -2.41264623404743,
          -0.3959192713590546,
          0.8869462669540071,
          -0.035460269728471466,
          -0.9470516684026542,
          -0.4392408054657591,
          -1.1946784087205802,
          1.0776855106669865,
          0.5440523475359473
         ],
         "xaxis": "x13",
         "y": [
          -0.9287969360385558,
          -2.6903461092469194,
          1.8624606059259496,
          2.65834186702288,
          -0.7980090896855742,
          -1.5827524498354613,
          0.2955470671139877,
          1.5502915705755398,
          -0.7979747735353135,
          0.6460701924717869,
          -0.936870420347587,
          -0.7592432746697397,
          1.2257802677559726,
          -0.8122393148359898,
          -1.5770245455675627,
          -1.9532608532826146,
          1.2498349738583459,
          -0.12032763768486186,
          0.19964616675881292,
          0.11654044840654534,
          0.4848809892741022,
          0.4484086937833366,
          -0.38956336565049554,
          1.896459297692075,
          0.8162856955544592,
          1.6229427799183003,
          0.23113477177927125,
          -1.0442775409802059,
          0.46572623833647436,
          0.4066816978124542,
          0.09326264462049069,
          0.255748905054573,
          1.000976696434357,
          -0.9422686315887814,
          0.5638625803494463,
          0.6232246258485489,
          2.0902670579021394,
          0.18039481439640082,
          -2.8043591150230585,
          -1.5406214467034285,
          -0.8619489271428574,
          0.1973368707344788,
          0.5951918906812148,
          -1.254950079480591,
          0.2672512673631738,
          0.1231761132113905,
          0.4282017663539288,
          -0.07417978796279026,
          0.5838737828287422,
          0.7383469895984776,
          -0.33571220914034955,
          -1.4460462320019074,
          -0.324141217027923,
          2.325284836253793,
          0.6250953404395978,
          1.0233025533589735,
          -0.3494082223162853,
          0.9026362239522017,
          0.18168725816791362,
          -2.6229803716139495,
          -0.27342525144437013,
          -0.1931244977852925,
          1.1051207832141565,
          0.45997066086433386,
          1.1761768520251474,
          0.013808034119401909,
          1.8428471092341046,
          0.9718762015792,
          -1.1871142872913143,
          -0.7942313824997717,
          0.6377742139850696,
          1.056253935397287,
          0.17432361359849946,
          -0.5707208881700466,
          0.47016231725700064,
          0.5202759059458038,
          0.17236170108375984,
          0.1591165564203543,
          -0.08043319862684438,
          0.9282097726527182,
          -2.089416374568016,
          -0.9026175672646589,
          -0.29388347696324646,
          2.241400722782147,
          -0.35882409026196266,
          1.0776875082017887,
          0.42773010628651903,
          0.4848173298231596,
          -0.25462632786313805,
          -1.6798298606013724,
          -0.8773900778879777,
          1.5634337277512937,
          0.10434311889015405,
          0.27654662387292034,
          -1.4777234322777808,
          -0.8514769391416811,
          -0.25176645385428903,
          -1.4987461162481623,
          1.0351018823675524,
          -1.4075092725501115
         ],
         "yaxis": "y13"
        },
        {
         "line": {
          "color": "rgba(128, 128, 128, 1.0)",
          "dash": "solid",
          "shape": "linear",
          "width": 1.3
         },
         "marker": {
          "size": 2,
          "symbol": "circle"
         },
         "mode": "markers",
         "name": "D",
         "text": "",
         "type": "scatter",
         "x": [
          0.9059599971152463,
          1.2640403590421745,
          -0.2807537530635768,
          0.06402790036215945,
          -0.3766235233694587,
          -0.10132459774762158,
          0.5339861080892987,
          -1.8643420708091076,
          -1.661866586796738,
          2.3569785219679438,
          0.8725438525555298,
          -1.9104769189833894,
          -0.255949299328033,
          -0.39668839332448974,
          -0.3134606308667052,
          0.350746961585668,
          1.5778418522684001,
          -0.7885120606107235,
          -0.37433000133476685,
          -0.7865830089210104,
          -0.07517524873421455,
          -0.44288240707585064,
          0.5137908325133144,
          -1.121977505222089,
          -0.03568683511645622,
          -1.7924711458135418,
          1.5029017374563711,
          0.06433630297088112,
          0.020239781673339292,
          -0.29025246002340094,
          -1.1302539905725308,
          -0.18947146526901348,
          0.42760165568481256,
          0.333016541738766,
          0.3267043674060358,
          -1.0513974533576986,
          0.3774706999121592,
          -0.24496204262494045,
          -0.5265156710485509,
          0.6463574886324186,
          -0.6767948282602794,
          -0.7166772868544358,
          0.560351760893181,
          -0.38743902854119106,
          1.6019552050879209,
          0.011477146477320555,
          -1.110362746013105,
          1.1481440836003125,
          0.23362353676972208,
          0.27168211675893295,
          -0.16882921026742742,
          -1.6965335749826864,
          0.223151048282374,
          1.3100580898431096,
          1.4736784282794164,
          -1.0640125173800254,
          0.9050701400953132,
          0.48767629647396676,
          0.6753774281301449,
          -0.5754626651176231,
          0.6040043802592154,
          1.265348899405205,
          -1.0762057552710116,
          -0.11111384920458972,
          0.09464773574212813,
          1.0547675685231737,
          -0.6448715282387144,
          0.7739440113180187,
          -0.4028863465882712,
          -0.6562669929880659,
          1.3215915296236977,
          -2.03936613444369,
          -0.43033095621917533,
          -1.0174206393367025,
          -0.4587717162908476,
          -0.5263286688595268,
          -0.5929967365131853,
          0.814656274814025,
          1.9808718424399285,
          0.8029333924830028,
          -0.9669195429938262,
          0.4864229162952104,
          0.24332058654426708,
          0.20638896725384728,
          -0.6328604773747971,
          0.9449775365738496,
          -0.5873652887040683,
          1.5405322330015419,
          1.4633251619674414,
          -0.7640730016069059,
          0.10094774101467074,
          -0.6472076918128246,
          1.5963909934782532,
          -0.28345811435467794,
          -1.708490142148577,
          0.3192433158479993,
          -0.7974039512022152,
          0.8490163670386164,
          0.7045434640122664,
          -0.05056336966839602
         ],
         "xaxis": "x14",
         "y": [
          -0.9287969360385558,
          -2.6903461092469194,
          1.8624606059259496,
          2.65834186702288,
          -0.7980090896855742,
          -1.5827524498354613,
          0.2955470671139877,
          1.5502915705755398,
          -0.7979747735353135,
          0.6460701924717869,
          -0.936870420347587,
          -0.7592432746697397,
          1.2257802677559726,
          -0.8122393148359898,
          -1.5770245455675627,
          -1.9532608532826146,
          1.2498349738583459,
          -0.12032763768486186,
          0.19964616675881292,
          0.11654044840654534,
          0.4848809892741022,
          0.4484086937833366,
          -0.38956336565049554,
          1.896459297692075,
          0.8162856955544592,
          1.6229427799183003,
          0.23113477177927125,
          -1.0442775409802059,
          0.46572623833647436,
          0.4066816978124542,
          0.09326264462049069,
          0.255748905054573,
          1.000976696434357,
          -0.9422686315887814,
          0.5638625803494463,
          0.6232246258485489,
          2.0902670579021394,
          0.18039481439640082,
          -2.8043591150230585,
          -1.5406214467034285,
          -0.8619489271428574,
          0.1973368707344788,
          0.5951918906812148,
          -1.254950079480591,
          0.2672512673631738,
          0.1231761132113905,
          0.4282017663539288,
          -0.07417978796279026,
          0.5838737828287422,
          0.7383469895984776,
          -0.33571220914034955,
          -1.4460462320019074,
          -0.324141217027923,
          2.325284836253793,
          0.6250953404395978,
          1.0233025533589735,
          -0.3494082223162853,
          0.9026362239522017,
          0.18168725816791362,
          -2.6229803716139495,
          -0.27342525144437013,
          -0.1931244977852925,
          1.1051207832141565,
          0.45997066086433386,
          1.1761768520251474,
          0.013808034119401909,
          1.8428471092341046,
          0.9718762015792,
          -1.1871142872913143,
          -0.7942313824997717,
          0.6377742139850696,
          1.056253935397287,
          0.17432361359849946,
          -0.5707208881700466,
          0.47016231725700064,
          0.5202759059458038,
          0.17236170108375984,
          0.1591165564203543,
          -0.08043319862684438,
          0.9282097726527182,
          -2.089416374568016,
          -0.9026175672646589,
          -0.29388347696324646,
          2.241400722782147,
          -0.35882409026196266,
          1.0776875082017887,
          0.42773010628651903,
          0.4848173298231596,
          -0.25462632786313805,
          -1.6798298606013724,
          -0.8773900778879777,
          1.5634337277512937,
          0.10434311889015405,
          0.27654662387292034,
          -1.4777234322777808,
          -0.8514769391416811,
          -0.25176645385428903,
          -1.4987461162481623,
          1.0351018823675524,
          -1.4075092725501115
         ],
         "yaxis": "y14"
        },
        {
         "line": {
          "color": "rgba(128, 128, 128, 1.0)",
          "dash": "solid",
          "shape": "linear",
          "width": 1.3
         },
         "marker": {
          "size": 2,
          "symbol": "circle"
         },
         "mode": "markers",
         "name": "D",
         "text": "",
         "type": "scatter",
         "x": [
          0.8145318541182838,
          0.7559868640780945,
          -0.7911693878578542,
          -0.4615667031492696,
          -0.4783289040760878,
          0.41729770253252063,
          0.4959169466569206,
          1.069497626033612,
          0.3485486302891891,
          2.661164504883503,
          0.06872972086560371,
          -0.6800710467989675,
          0.12254230232641224,
          -0.4665240443404823,
          -1.4727716602812868,
          0.20307054544264644,
          0.684646711845568,
          -0.1885740208259096,
          1.6183857998897144,
          0.1537157525615728,
          -0.9561403136584151,
          -0.7744198707005601,
          1.816049758642045,
          -1.3141725588917677,
          0.6392656826546046,
          1.3338745691339575,
          -1.9784023725066249,
          -0.43978825132042854,
          0.1842185908247415,
          1.128980410711298,
          -0.7398812125818858,
          -0.13534459356211892,
          0.6678329171676869,
          -0.12319027160122681,
          2.609227631075749,
          -0.3197219580123539,
          -0.03540317794825873,
          -0.19875004854742756,
          -1.1653338695859397,
          0.02476865467115096,
          -1.0524489299709388,
          -1.0069269640461846,
          -0.08492748607783955,
          -1.2376726858960687,
          0.3561928900176956,
          -0.4200699116139587,
          0.04367359830000804,
          -0.34702593862963504,
          0.9309256687532793,
          0.6540066397993411,
          0.060863063017891225,
          2.2388382465613623,
          0.461749405425871,
          0.9823961775581245,
          -0.9069023392607259,
          -0.10890028524264758,
          0.072195660308165,
          -1.4654208402487419,
          -0.48756523010174146,
          -0.1748413569213523,
          0.2958423956615726,
          -0.9078651568946134,
          -0.49871455986032504,
          0.86765113189569,
          -0.5157200773906159,
          -0.14679826941611732,
          -0.8193941354406362,
          1.5807464726721516,
          0.5547155914525256,
          -0.06331255074299061,
          0.5590242801159748,
          -0.4868604733850864,
          1.150543610681079,
          -0.15967700304585333,
          0.5479353647594309,
          -0.156085453412081,
          -0.2484684610355909,
          -0.08880987492712661,
          0.4264022097782739,
          0.1397244735637222,
          -0.8038027184363239,
          -0.38410478043784374,
          1.2277210047176843,
          0.05569434761720841,
          1.0877998578721246,
          0.9675907834442555,
          -0.09564093561689342,
          -0.30996700436951746,
          -0.6427387669266169,
          -1.1303473535166737,
          0.8146960467180471,
          -1.1534775927947547,
          0.7463461432108704,
          0.8333099781535035,
          -0.5051758692967644,
          -0.3213968776053241,
          -2.0864284182052497,
          -0.14603703244565186,
          -0.3453718629190423,
          1.7937217646897103
         ],
         "xaxis": "x15",
         "y": [
          -0.9287969360385558,
          -2.6903461092469194,
          1.8624606059259496,
          2.65834186702288,
          -0.7980090896855742,
          -1.5827524498354613,
          0.2955470671139877,
          1.5502915705755398,
          -0.7979747735353135,
          0.6460701924717869,
          -0.936870420347587,
          -0.7592432746697397,
          1.2257802677559726,
          -0.8122393148359898,
          -1.5770245455675627,
          -1.9532608532826146,
          1.2498349738583459,
          -0.12032763768486186,
          0.19964616675881292,
          0.11654044840654534,
          0.4848809892741022,
          0.4484086937833366,
          -0.38956336565049554,
          1.896459297692075,
          0.8162856955544592,
          1.6229427799183003,
          0.23113477177927125,
          -1.0442775409802059,
          0.46572623833647436,
          0.4066816978124542,
          0.09326264462049069,
          0.255748905054573,
          1.000976696434357,
          -0.9422686315887814,
          0.5638625803494463,
          0.6232246258485489,
          2.0902670579021394,
          0.18039481439640082,
          -2.8043591150230585,
          -1.5406214467034285,
          -0.8619489271428574,
          0.1973368707344788,
          0.5951918906812148,
          -1.254950079480591,
          0.2672512673631738,
          0.1231761132113905,
          0.4282017663539288,
          -0.07417978796279026,
          0.5838737828287422,
          0.7383469895984776,
          -0.33571220914034955,
          -1.4460462320019074,
          -0.324141217027923,
          2.325284836253793,
          0.6250953404395978,
          1.0233025533589735,
          -0.3494082223162853,
          0.9026362239522017,
          0.18168725816791362,
          -2.6229803716139495,
          -0.27342525144437013,
          -0.1931244977852925,
          1.1051207832141565,
          0.45997066086433386,
          1.1761768520251474,
          0.013808034119401909,
          1.8428471092341046,
          0.9718762015792,
          -1.1871142872913143,
          -0.7942313824997717,
          0.6377742139850696,
          1.056253935397287,
          0.17432361359849946,
          -0.5707208881700466,
          0.47016231725700064,
          0.5202759059458038,
          0.17236170108375984,
          0.1591165564203543,
          -0.08043319862684438,
          0.9282097726527182,
          -2.089416374568016,
          -0.9026175672646589,
          -0.29388347696324646,
          2.241400722782147,
          -0.35882409026196266,
          1.0776875082017887,
          0.42773010628651903,
          0.4848173298231596,
          -0.25462632786313805,
          -1.6798298606013724,
          -0.8773900778879777,
          1.5634337277512937,
          0.10434311889015405,
          0.27654662387292034,
          -1.4777234322777808,
          -0.8514769391416811,
          -0.25176645385428903,
          -1.4987461162481623,
          1.0351018823675524,
          -1.4075092725501115
         ],
         "yaxis": "y15"
        },
        {
         "histfunc": "count",
         "histnorm": "",
         "marker": {
          "color": "rgba(128, 0, 128, 1.0)",
          "line": {
           "color": "#4D5663",
           "width": 1.3
          }
         },
         "name": "D",
         "nbinsx": 10,
         "opacity": 0.8,
         "orientation": "v",
         "type": "histogram",
         "x": [
          -0.9287969360385558,
          -2.6903461092469194,
          1.8624606059259496,
          2.65834186702288,
          -0.7980090896855742,
          -1.5827524498354613,
          0.2955470671139877,
          1.5502915705755398,
          -0.7979747735353135,
          0.6460701924717869,
          -0.936870420347587,
          -0.7592432746697397,
          1.2257802677559726,
          -0.8122393148359898,
          -1.5770245455675627,
          -1.9532608532826146,
          1.2498349738583459,
          -0.12032763768486186,
          0.19964616675881292,
          0.11654044840654534,
          0.4848809892741022,
          0.4484086937833366,
          -0.38956336565049554,
          1.896459297692075,
          0.8162856955544592,
          1.6229427799183003,
          0.23113477177927125,
          -1.0442775409802059,
          0.46572623833647436,
          0.4066816978124542,
          0.09326264462049069,
          0.255748905054573,
          1.000976696434357,
          -0.9422686315887814,
          0.5638625803494463,
          0.6232246258485489,
          2.0902670579021394,
          0.18039481439640082,
          -2.8043591150230585,
          -1.5406214467034285,
          -0.8619489271428574,
          0.1973368707344788,
          0.5951918906812148,
          -1.254950079480591,
          0.2672512673631738,
          0.1231761132113905,
          0.4282017663539288,
          -0.07417978796279026,
          0.5838737828287422,
          0.7383469895984776,
          -0.33571220914034955,
          -1.4460462320019074,
          -0.324141217027923,
          2.325284836253793,
          0.6250953404395978,
          1.0233025533589735,
          -0.3494082223162853,
          0.9026362239522017,
          0.18168725816791362,
          -2.6229803716139495,
          -0.27342525144437013,
          -0.1931244977852925,
          1.1051207832141565,
          0.45997066086433386,
          1.1761768520251474,
          0.013808034119401909,
          1.8428471092341046,
          0.9718762015792,
          -1.1871142872913143,
          -0.7942313824997717,
          0.6377742139850696,
          1.056253935397287,
          0.17432361359849946,
          -0.5707208881700466,
          0.47016231725700064,
          0.5202759059458038,
          0.17236170108375984,
          0.1591165564203543,
          -0.08043319862684438,
          0.9282097726527182,
          -2.089416374568016,
          -0.9026175672646589,
          -0.29388347696324646,
          2.241400722782147,
          -0.35882409026196266,
          1.0776875082017887,
          0.42773010628651903,
          0.4848173298231596,
          -0.25462632786313805,
          -1.6798298606013724,
          -0.8773900778879777,
          1.5634337277512937,
          0.10434311889015405,
          0.27654662387292034,
          -1.4777234322777808,
          -0.8514769391416811,
          -0.25176645385428903,
          -1.4987461162481623,
          1.0351018823675524,
          -1.4075092725501115
         ],
         "xaxis": "x16",
         "yaxis": "y16"
        }
       ],
       "layout": {
        "bargap": 0.02,
        "legend": {
         "bgcolor": "#F5F6F9",
         "font": {
          "color": "#4D5663"
         }
        },
        "paper_bgcolor": "#F5F6F9",
        "plot_bgcolor": "#F5F6F9",
        "showlegend": false,
        "template": {
         "data": {
          "bar": [
           {
            "error_x": {
             "color": "#2a3f5f"
            },
            "error_y": {
             "color": "#2a3f5f"
            },
            "marker": {
             "line": {
              "color": "#E5ECF6",
              "width": 0.5
             },
             "pattern": {
              "fillmode": "overlay",
              "size": 10,
              "solidity": 0.2
             }
            },
            "type": "bar"
           }
          ],
          "barpolar": [
           {
            "marker": {
             "line": {
              "color": "#E5ECF6",
              "width": 0.5
             },
             "pattern": {
              "fillmode": "overlay",
              "size": 10,
              "solidity": 0.2
             }
            },
            "type": "barpolar"
           }
          ],
          "carpet": [
           {
            "aaxis": {
             "endlinecolor": "#2a3f5f",
             "gridcolor": "white",
             "linecolor": "white",
             "minorgridcolor": "white",
             "startlinecolor": "#2a3f5f"
            },
            "baxis": {
             "endlinecolor": "#2a3f5f",
             "gridcolor": "white",
             "linecolor": "white",
             "minorgridcolor": "white",
             "startlinecolor": "#2a3f5f"
            },
            "type": "carpet"
           }
          ],
          "choropleth": [
           {
            "colorbar": {
             "outlinewidth": 0,
             "ticks": ""
            },
            "type": "choropleth"
           }
          ],
          "contour": [
           {
            "colorbar": {
             "outlinewidth": 0,
             "ticks": ""
            },
            "colorscale": [
             [
              0,
              "#0d0887"
             ],
             [
              0.1111111111111111,
              "#46039f"
             ],
             [
              0.2222222222222222,
              "#7201a8"
             ],
             [
              0.3333333333333333,
              "#9c179e"
             ],
             [
              0.4444444444444444,
              "#bd3786"
             ],
             [
              0.5555555555555556,
              "#d8576b"
             ],
             [
              0.6666666666666666,
              "#ed7953"
             ],
             [
              0.7777777777777778,
              "#fb9f3a"
             ],
             [
              0.8888888888888888,
              "#fdca26"
             ],
             [
              1,
              "#f0f921"
             ]
            ],
            "type": "contour"
           }
          ],
          "contourcarpet": [
           {
            "colorbar": {
             "outlinewidth": 0,
             "ticks": ""
            },
            "type": "contourcarpet"
           }
          ],
          "heatmap": [
           {
            "colorbar": {
             "outlinewidth": 0,
             "ticks": ""
            },
            "colorscale": [
             [
              0,
              "#0d0887"
             ],
             [
              0.1111111111111111,
              "#46039f"
             ],
             [
              0.2222222222222222,
              "#7201a8"
             ],
             [
              0.3333333333333333,
              "#9c179e"
             ],
             [
              0.4444444444444444,
              "#bd3786"
             ],
             [
              0.5555555555555556,
              "#d8576b"
             ],
             [
              0.6666666666666666,
              "#ed7953"
             ],
             [
              0.7777777777777778,
              "#fb9f3a"
             ],
             [
              0.8888888888888888,
              "#fdca26"
             ],
             [
              1,
              "#f0f921"
             ]
            ],
            "type": "heatmap"
           }
          ],
          "heatmapgl": [
           {
            "colorbar": {
             "outlinewidth": 0,
             "ticks": ""
            },
            "colorscale": [
             [
              0,
              "#0d0887"
             ],
             [
              0.1111111111111111,
              "#46039f"
             ],
             [
              0.2222222222222222,
              "#7201a8"
             ],
             [
              0.3333333333333333,
              "#9c179e"
             ],
             [
              0.4444444444444444,
              "#bd3786"
             ],
             [
              0.5555555555555556,
              "#d8576b"
             ],
             [
              0.6666666666666666,
              "#ed7953"
             ],
             [
              0.7777777777777778,
              "#fb9f3a"
             ],
             [
              0.8888888888888888,
              "#fdca26"
             ],
             [
              1,
              "#f0f921"
             ]
            ],
            "type": "heatmapgl"
           }
          ],
          "histogram": [
           {
            "marker": {
             "pattern": {
              "fillmode": "overlay",
              "size": 10,
              "solidity": 0.2
             }
            },
            "type": "histogram"
           }
          ],
          "histogram2d": [
           {
            "colorbar": {
             "outlinewidth": 0,
             "ticks": ""
            },
            "colorscale": [
             [
              0,
              "#0d0887"
             ],
             [
              0.1111111111111111,
              "#46039f"
             ],
             [
              0.2222222222222222,
              "#7201a8"
             ],
             [
              0.3333333333333333,
              "#9c179e"
             ],
             [
              0.4444444444444444,
              "#bd3786"
             ],
             [
              0.5555555555555556,
              "#d8576b"
             ],
             [
              0.6666666666666666,
              "#ed7953"
             ],
             [
              0.7777777777777778,
              "#fb9f3a"
             ],
             [
              0.8888888888888888,
              "#fdca26"
             ],
             [
              1,
              "#f0f921"
             ]
            ],
            "type": "histogram2d"
           }
          ],
          "histogram2dcontour": [
           {
            "colorbar": {
             "outlinewidth": 0,
             "ticks": ""
            },
            "colorscale": [
             [
              0,
              "#0d0887"
             ],
             [
              0.1111111111111111,
              "#46039f"
             ],
             [
              0.2222222222222222,
              "#7201a8"
             ],
             [
              0.3333333333333333,
              "#9c179e"
             ],
             [
              0.4444444444444444,
              "#bd3786"
             ],
             [
              0.5555555555555556,
              "#d8576b"
             ],
             [
              0.6666666666666666,
              "#ed7953"
             ],
             [
              0.7777777777777778,
              "#fb9f3a"
             ],
             [
              0.8888888888888888,
              "#fdca26"
             ],
             [
              1,
              "#f0f921"
             ]
            ],
            "type": "histogram2dcontour"
           }
          ],
          "mesh3d": [
           {
            "colorbar": {
             "outlinewidth": 0,
             "ticks": ""
            },
            "type": "mesh3d"
           }
          ],
          "parcoords": [
           {
            "line": {
             "colorbar": {
              "outlinewidth": 0,
              "ticks": ""
             }
            },
            "type": "parcoords"
           }
          ],
          "pie": [
           {
            "automargin": true,
            "type": "pie"
           }
          ],
          "scatter": [
           {
            "fillpattern": {
             "fillmode": "overlay",
             "size": 10,
             "solidity": 0.2
            },
            "type": "scatter"
           }
          ],
          "scatter3d": [
           {
            "line": {
             "colorbar": {
              "outlinewidth": 0,
              "ticks": ""
             }
            },
            "marker": {
             "colorbar": {
              "outlinewidth": 0,
              "ticks": ""
             }
            },
            "type": "scatter3d"
           }
          ],
          "scattercarpet": [
           {
            "marker": {
             "colorbar": {
              "outlinewidth": 0,
              "ticks": ""
             }
            },
            "type": "scattercarpet"
           }
          ],
          "scattergeo": [
           {
            "marker": {
             "colorbar": {
              "outlinewidth": 0,
              "ticks": ""
             }
            },
            "type": "scattergeo"
           }
          ],
          "scattergl": [
           {
            "marker": {
             "colorbar": {
              "outlinewidth": 0,
              "ticks": ""
             }
            },
            "type": "scattergl"
           }
          ],
          "scattermapbox": [
           {
            "marker": {
             "colorbar": {
              "outlinewidth": 0,
              "ticks": ""
             }
            },
            "type": "scattermapbox"
           }
          ],
          "scatterpolar": [
           {
            "marker": {
             "colorbar": {
              "outlinewidth": 0,
              "ticks": ""
             }
            },
            "type": "scatterpolar"
           }
          ],
          "scatterpolargl": [
           {
            "marker": {
             "colorbar": {
              "outlinewidth": 0,
              "ticks": ""
             }
            },
            "type": "scatterpolargl"
           }
          ],
          "scatterternary": [
           {
            "marker": {
             "colorbar": {
              "outlinewidth": 0,
              "ticks": ""
             }
            },
            "type": "scatterternary"
           }
          ],
          "surface": [
           {
            "colorbar": {
             "outlinewidth": 0,
             "ticks": ""
            },
            "colorscale": [
             [
              0,
              "#0d0887"
             ],
             [
              0.1111111111111111,
              "#46039f"
             ],
             [
              0.2222222222222222,
              "#7201a8"
             ],
             [
              0.3333333333333333,
              "#9c179e"
             ],
             [
              0.4444444444444444,
              "#bd3786"
             ],
             [
              0.5555555555555556,
              "#d8576b"
             ],
             [
              0.6666666666666666,
              "#ed7953"
             ],
             [
              0.7777777777777778,
              "#fb9f3a"
             ],
             [
              0.8888888888888888,
              "#fdca26"
             ],
             [
              1,
              "#f0f921"
             ]
            ],
            "type": "surface"
           }
          ],
          "table": [
           {
            "cells": {
             "fill": {
              "color": "#EBF0F8"
             },
             "line": {
              "color": "white"
             }
            },
            "header": {
             "fill": {
              "color": "#C8D4E3"
             },
             "line": {
              "color": "white"
             }
            },
            "type": "table"
           }
          ]
         },
         "layout": {
          "annotationdefaults": {
           "arrowcolor": "#2a3f5f",
           "arrowhead": 0,
           "arrowwidth": 1
          },
          "autotypenumbers": "strict",
          "coloraxis": {
           "colorbar": {
            "outlinewidth": 0,
            "ticks": ""
           }
          },
          "colorscale": {
           "diverging": [
            [
             0,
             "#8e0152"
            ],
            [
             0.1,
             "#c51b7d"
            ],
            [
             0.2,
             "#de77ae"
            ],
            [
             0.3,
             "#f1b6da"
            ],
            [
             0.4,
             "#fde0ef"
            ],
            [
             0.5,
             "#f7f7f7"
            ],
            [
             0.6,
             "#e6f5d0"
            ],
            [
             0.7,
             "#b8e186"
            ],
            [
             0.8,
             "#7fbc41"
            ],
            [
             0.9,
             "#4d9221"
            ],
            [
             1,
             "#276419"
            ]
           ],
           "sequential": [
            [
             0,
             "#0d0887"
            ],
            [
             0.1111111111111111,
             "#46039f"
            ],
            [
             0.2222222222222222,
             "#7201a8"
            ],
            [
             0.3333333333333333,
             "#9c179e"
            ],
            [
             0.4444444444444444,
             "#bd3786"
            ],
            [
             0.5555555555555556,
             "#d8576b"
            ],
            [
             0.6666666666666666,
             "#ed7953"
            ],
            [
             0.7777777777777778,
             "#fb9f3a"
            ],
            [
             0.8888888888888888,
             "#fdca26"
            ],
            [
             1,
             "#f0f921"
            ]
           ],
           "sequentialminus": [
            [
             0,
             "#0d0887"
            ],
            [
             0.1111111111111111,
             "#46039f"
            ],
            [
             0.2222222222222222,
             "#7201a8"
            ],
            [
             0.3333333333333333,
             "#9c179e"
            ],
            [
             0.4444444444444444,
             "#bd3786"
            ],
            [
             0.5555555555555556,
             "#d8576b"
            ],
            [
             0.6666666666666666,
             "#ed7953"
            ],
            [
             0.7777777777777778,
             "#fb9f3a"
            ],
            [
             0.8888888888888888,
             "#fdca26"
            ],
            [
             1,
             "#f0f921"
            ]
           ]
          },
          "colorway": [
           "#636efa",
           "#EF553B",
           "#00cc96",
           "#ab63fa",
           "#FFA15A",
           "#19d3f3",
           "#FF6692",
           "#B6E880",
           "#FF97FF",
           "#FECB52"
          ],
          "font": {
           "color": "#2a3f5f"
          },
          "geo": {
           "bgcolor": "white",
           "lakecolor": "white",
           "landcolor": "#E5ECF6",
           "showlakes": true,
           "showland": true,
           "subunitcolor": "white"
          },
          "hoverlabel": {
           "align": "left"
          },
          "hovermode": "closest",
          "mapbox": {
           "style": "light"
          },
          "paper_bgcolor": "white",
          "plot_bgcolor": "#E5ECF6",
          "polar": {
           "angularaxis": {
            "gridcolor": "white",
            "linecolor": "white",
            "ticks": ""
           },
           "bgcolor": "#E5ECF6",
           "radialaxis": {
            "gridcolor": "white",
            "linecolor": "white",
            "ticks": ""
           }
          },
          "scene": {
           "xaxis": {
            "backgroundcolor": "#E5ECF6",
            "gridcolor": "white",
            "gridwidth": 2,
            "linecolor": "white",
            "showbackground": true,
            "ticks": "",
            "zerolinecolor": "white"
           },
           "yaxis": {
            "backgroundcolor": "#E5ECF6",
            "gridcolor": "white",
            "gridwidth": 2,
            "linecolor": "white",
            "showbackground": true,
            "ticks": "",
            "zerolinecolor": "white"
           },
           "zaxis": {
            "backgroundcolor": "#E5ECF6",
            "gridcolor": "white",
            "gridwidth": 2,
            "linecolor": "white",
            "showbackground": true,
            "ticks": "",
            "zerolinecolor": "white"
           }
          },
          "shapedefaults": {
           "line": {
            "color": "#2a3f5f"
           }
          },
          "ternary": {
           "aaxis": {
            "gridcolor": "white",
            "linecolor": "white",
            "ticks": ""
           },
           "baxis": {
            "gridcolor": "white",
            "linecolor": "white",
            "ticks": ""
           },
           "bgcolor": "#E5ECF6",
           "caxis": {
            "gridcolor": "white",
            "linecolor": "white",
            "ticks": ""
           }
          },
          "title": {
           "x": 0.05
          },
          "xaxis": {
           "automargin": true,
           "gridcolor": "white",
           "linecolor": "white",
           "ticks": "",
           "title": {
            "standoff": 15
           },
           "zerolinecolor": "white",
           "zerolinewidth": 2
          },
          "yaxis": {
           "automargin": true,
           "gridcolor": "white",
           "linecolor": "white",
           "ticks": "",
           "title": {
            "standoff": 15
           },
           "zerolinecolor": "white",
           "zerolinewidth": 2
          }
         }
        },
        "title": {
         "font": {
          "color": "#4D5663"
         }
        },
        "xaxis": {
         "anchor": "y",
         "domain": [
          0,
          0.2125
         ],
         "gridcolor": "#E1E5ED",
         "showgrid": false,
         "tickfont": {
          "color": "#4D5663"
         },
         "title": {
          "font": {
           "color": "#4D5663"
          },
          "text": ""
         },
         "zerolinecolor": "#E1E5ED"
        },
        "xaxis10": {
         "anchor": "y10",
         "domain": [
          0.2625,
          0.475
         ],
         "gridcolor": "#E1E5ED",
         "showgrid": false,
         "tickfont": {
          "color": "#4D5663"
         },
         "title": {
          "font": {
           "color": "#4D5663"
          },
          "text": ""
         },
         "zerolinecolor": "#E1E5ED"
        },
        "xaxis11": {
         "anchor": "y11",
         "domain": [
          0.525,
          0.7375
         ],
         "gridcolor": "#E1E5ED",
         "showgrid": false,
         "tickfont": {
          "color": "#4D5663"
         },
         "title": {
          "font": {
           "color": "#4D5663"
          },
          "text": ""
         },
         "zerolinecolor": "#E1E5ED"
        },
        "xaxis12": {
         "anchor": "y12",
         "domain": [
          0.7875,
          1
         ],
         "gridcolor": "#E1E5ED",
         "showgrid": false,
         "tickfont": {
          "color": "#4D5663"
         },
         "title": {
          "font": {
           "color": "#4D5663"
          },
          "text": ""
         },
         "zerolinecolor": "#E1E5ED"
        },
        "xaxis13": {
         "anchor": "y13",
         "domain": [
          0,
          0.2125
         ],
         "gridcolor": "#E1E5ED",
         "showgrid": false,
         "tickfont": {
          "color": "#4D5663"
         },
         "title": {
          "font": {
           "color": "#4D5663"
          },
          "text": ""
         },
         "zerolinecolor": "#E1E5ED"
        },
        "xaxis14": {
         "anchor": "y14",
         "domain": [
          0.2625,
          0.475
         ],
         "gridcolor": "#E1E5ED",
         "showgrid": false,
         "tickfont": {
          "color": "#4D5663"
         },
         "title": {
          "font": {
           "color": "#4D5663"
          },
          "text": ""
         },
         "zerolinecolor": "#E1E5ED"
        },
        "xaxis15": {
         "anchor": "y15",
         "domain": [
          0.525,
          0.7375
         ],
         "gridcolor": "#E1E5ED",
         "showgrid": false,
         "tickfont": {
          "color": "#4D5663"
         },
         "title": {
          "font": {
           "color": "#4D5663"
          },
          "text": ""
         },
         "zerolinecolor": "#E1E5ED"
        },
        "xaxis16": {
         "anchor": "y16",
         "domain": [
          0.7875,
          1
         ],
         "gridcolor": "#E1E5ED",
         "showgrid": false,
         "tickfont": {
          "color": "#4D5663"
         },
         "title": {
          "font": {
           "color": "#4D5663"
          },
          "text": ""
         },
         "zerolinecolor": "#E1E5ED"
        },
        "xaxis2": {
         "anchor": "y2",
         "domain": [
          0.2625,
          0.475
         ],
         "gridcolor": "#E1E5ED",
         "showgrid": false,
         "tickfont": {
          "color": "#4D5663"
         },
         "title": {
          "font": {
           "color": "#4D5663"
          },
          "text": ""
         },
         "zerolinecolor": "#E1E5ED"
        },
        "xaxis3": {
         "anchor": "y3",
         "domain": [
          0.525,
          0.7375
         ],
         "gridcolor": "#E1E5ED",
         "showgrid": false,
         "tickfont": {
          "color": "#4D5663"
         },
         "title": {
          "font": {
           "color": "#4D5663"
          },
          "text": ""
         },
         "zerolinecolor": "#E1E5ED"
        },
        "xaxis4": {
         "anchor": "y4",
         "domain": [
          0.7875,
          1
         ],
         "gridcolor": "#E1E5ED",
         "showgrid": false,
         "tickfont": {
          "color": "#4D5663"
         },
         "title": {
          "font": {
           "color": "#4D5663"
          },
          "text": ""
         },
         "zerolinecolor": "#E1E5ED"
        },
        "xaxis5": {
         "anchor": "y5",
         "domain": [
          0,
          0.2125
         ],
         "gridcolor": "#E1E5ED",
         "showgrid": false,
         "tickfont": {
          "color": "#4D5663"
         },
         "title": {
          "font": {
           "color": "#4D5663"
          },
          "text": ""
         },
         "zerolinecolor": "#E1E5ED"
        },
        "xaxis6": {
         "anchor": "y6",
         "domain": [
          0.2625,
          0.475
         ],
         "gridcolor": "#E1E5ED",
         "showgrid": false,
         "tickfont": {
          "color": "#4D5663"
         },
         "title": {
          "font": {
           "color": "#4D5663"
          },
          "text": ""
         },
         "zerolinecolor": "#E1E5ED"
        },
        "xaxis7": {
         "anchor": "y7",
         "domain": [
          0.525,
          0.7375
         ],
         "gridcolor": "#E1E5ED",
         "showgrid": false,
         "tickfont": {
          "color": "#4D5663"
         },
         "title": {
          "font": {
           "color": "#4D5663"
          },
          "text": ""
         },
         "zerolinecolor": "#E1E5ED"
        },
        "xaxis8": {
         "anchor": "y8",
         "domain": [
          0.7875,
          1
         ],
         "gridcolor": "#E1E5ED",
         "showgrid": false,
         "tickfont": {
          "color": "#4D5663"
         },
         "title": {
          "font": {
           "color": "#4D5663"
          },
          "text": ""
         },
         "zerolinecolor": "#E1E5ED"
        },
        "xaxis9": {
         "anchor": "y9",
         "domain": [
          0,
          0.2125
         ],
         "gridcolor": "#E1E5ED",
         "showgrid": false,
         "tickfont": {
          "color": "#4D5663"
         },
         "title": {
          "font": {
           "color": "#4D5663"
          },
          "text": ""
         },
         "zerolinecolor": "#E1E5ED"
        },
        "yaxis": {
         "anchor": "x",
         "domain": [
          0.8025,
          1
         ],
         "gridcolor": "#E1E5ED",
         "showgrid": false,
         "tickfont": {
          "color": "#4D5663"
         },
         "title": {
          "font": {
           "color": "#4D5663"
          },
          "text": ""
         },
         "zerolinecolor": "#E1E5ED"
        },
        "yaxis10": {
         "anchor": "x10",
         "domain": [
          0.2675,
          0.465
         ],
         "gridcolor": "#E1E5ED",
         "showgrid": false,
         "tickfont": {
          "color": "#4D5663"
         },
         "title": {
          "font": {
           "color": "#4D5663"
          },
          "text": ""
         },
         "zerolinecolor": "#E1E5ED"
        },
        "yaxis11": {
         "anchor": "x11",
         "domain": [
          0.2675,
          0.465
         ],
         "gridcolor": "#E1E5ED",
         "showgrid": false,
         "tickfont": {
          "color": "#4D5663"
         },
         "title": {
          "font": {
           "color": "#4D5663"
          },
          "text": ""
         },
         "zerolinecolor": "#E1E5ED"
        },
        "yaxis12": {
         "anchor": "x12",
         "domain": [
          0.2675,
          0.465
         ],
         "gridcolor": "#E1E5ED",
         "showgrid": false,
         "tickfont": {
          "color": "#4D5663"
         },
         "title": {
          "font": {
           "color": "#4D5663"
          },
          "text": ""
         },
         "zerolinecolor": "#E1E5ED"
        },
        "yaxis13": {
         "anchor": "x13",
         "domain": [
          0,
          0.1975
         ],
         "gridcolor": "#E1E5ED",
         "showgrid": false,
         "tickfont": {
          "color": "#4D5663"
         },
         "title": {
          "font": {
           "color": "#4D5663"
          },
          "text": ""
         },
         "zerolinecolor": "#E1E5ED"
        },
        "yaxis14": {
         "anchor": "x14",
         "domain": [
          0,
          0.1975
         ],
         "gridcolor": "#E1E5ED",
         "showgrid": false,
         "tickfont": {
          "color": "#4D5663"
         },
         "title": {
          "font": {
           "color": "#4D5663"
          },
          "text": ""
         },
         "zerolinecolor": "#E1E5ED"
        },
        "yaxis15": {
         "anchor": "x15",
         "domain": [
          0,
          0.1975
         ],
         "gridcolor": "#E1E5ED",
         "showgrid": false,
         "tickfont": {
          "color": "#4D5663"
         },
         "title": {
          "font": {
           "color": "#4D5663"
          },
          "text": ""
         },
         "zerolinecolor": "#E1E5ED"
        },
        "yaxis16": {
         "anchor": "x16",
         "domain": [
          0,
          0.1975
         ],
         "gridcolor": "#E1E5ED",
         "showgrid": false,
         "tickfont": {
          "color": "#4D5663"
         },
         "title": {
          "font": {
           "color": "#4D5663"
          },
          "text": ""
         },
         "zerolinecolor": "#E1E5ED"
        },
        "yaxis2": {
         "anchor": "x2",
         "domain": [
          0.8025,
          1
         ],
         "gridcolor": "#E1E5ED",
         "showgrid": false,
         "tickfont": {
          "color": "#4D5663"
         },
         "title": {
          "font": {
           "color": "#4D5663"
          },
          "text": ""
         },
         "zerolinecolor": "#E1E5ED"
        },
        "yaxis3": {
         "anchor": "x3",
         "domain": [
          0.8025,
          1
         ],
         "gridcolor": "#E1E5ED",
         "showgrid": false,
         "tickfont": {
          "color": "#4D5663"
         },
         "title": {
          "font": {
           "color": "#4D5663"
          },
          "text": ""
         },
         "zerolinecolor": "#E1E5ED"
        },
        "yaxis4": {
         "anchor": "x4",
         "domain": [
          0.8025,
          1
         ],
         "gridcolor": "#E1E5ED",
         "showgrid": false,
         "tickfont": {
          "color": "#4D5663"
         },
         "title": {
          "font": {
           "color": "#4D5663"
          },
          "text": ""
         },
         "zerolinecolor": "#E1E5ED"
        },
        "yaxis5": {
         "anchor": "x5",
         "domain": [
          0.535,
          0.7325
         ],
         "gridcolor": "#E1E5ED",
         "showgrid": false,
         "tickfont": {
          "color": "#4D5663"
         },
         "title": {
          "font": {
           "color": "#4D5663"
          },
          "text": ""
         },
         "zerolinecolor": "#E1E5ED"
        },
        "yaxis6": {
         "anchor": "x6",
         "domain": [
          0.535,
          0.7325
         ],
         "gridcolor": "#E1E5ED",
         "showgrid": false,
         "tickfont": {
          "color": "#4D5663"
         },
         "title": {
          "font": {
           "color": "#4D5663"
          },
          "text": ""
         },
         "zerolinecolor": "#E1E5ED"
        },
        "yaxis7": {
         "anchor": "x7",
         "domain": [
          0.535,
          0.7325
         ],
         "gridcolor": "#E1E5ED",
         "showgrid": false,
         "tickfont": {
          "color": "#4D5663"
         },
         "title": {
          "font": {
           "color": "#4D5663"
          },
          "text": ""
         },
         "zerolinecolor": "#E1E5ED"
        },
        "yaxis8": {
         "anchor": "x8",
         "domain": [
          0.535,
          0.7325
         ],
         "gridcolor": "#E1E5ED",
         "showgrid": false,
         "tickfont": {
          "color": "#4D5663"
         },
         "title": {
          "font": {
           "color": "#4D5663"
          },
          "text": ""
         },
         "zerolinecolor": "#E1E5ED"
        },
        "yaxis9": {
         "anchor": "x9",
         "domain": [
          0.2675,
          0.465
         ],
         "gridcolor": "#E1E5ED",
         "showgrid": false,
         "tickfont": {
          "color": "#4D5663"
         },
         "title": {
          "font": {
           "color": "#4D5663"
          },
          "text": ""
         },
         "zerolinecolor": "#E1E5ED"
        }
       }
      },
      "image/png": "[encoded data removed]",
      "text/html": [
       "<div>                            <div id=\"07556729-f82a-4c2a-8e8f-2b88d85c4e3c\" class=\"plotly-graph-div\" style=\"height:525px; width:100%;\"></div>            <script type=\"text/javascript\">                require([\"plotly\"], function(Plotly) {                    window.PLOTLYENV=window.PLOTLYENV || {};\n",
       "                    window.PLOTLYENV.BASE_URL='https://plot.ly';                                    if (document.getElementById(\"07556729-f82a-4c2a-8e8f-2b88d85c4e3c\")) {                    Plotly.newPlot(                        \"07556729-f82a-4c2a-8e8f-2b88d85c4e3c\",                        [{\"histfunc\":\"count\",\"histnorm\":\"\",\"marker\":{\"color\":\"rgba(255, 153, 51, 1.0)\",\"line\":{\"color\":\"#4D5663\",\"width\":1.3}},\"name\":\"A\",\"nbinsx\":10,\"opacity\":0.8,\"orientation\":\"v\",\"x\":[-0.3906035117543167,1.0863264715185994,0.6835253814650998,-0.23576141864914893,-0.4429545878166258,2.116343170175117,1.4473913506726221,0.569652553863101,-0.009092623081691979,-1.0582945442935632,-0.12084486928238401,0.08815152034967148,0.11959952693200762,-0.7254016820099657,-0.21947884771572385,0.6307412937895936,-0.2715854516702586,0.6774799956997187,-3.326632598527113,-1.1010555748854676,-0.8285736989645863,1.4286432413197285,-1.2863673982151753,0.5560943872450889,-1.2156580243428767,0.2907123370476229,-0.03962130114381719,0.6128214007748458,1.5909112248895954,0.5649731989364699,0.11915288705665236,-0.6470755860638769,0.284160040239183,2.600494959494294,-1.2022014874643814,-0.13223808754142752,-0.041316482136716834,0.5098732219097379,0.15915568444349057,-0.5043819681281224,-0.3556156798004133,-0.3796013635814211,-1.8593197564762267,0.8978164798024615,0.39446349009737763,-0.694784547578885,0.26880235000994757,0.6167174702859992,-0.4997994420796771,0.4450096699471989,-0.8847488445344148,1.0987983381132622,-0.8452209252813302,-1.0648063360549604,-0.19084391043675195,-0.15859338257624883,0.7630611129237804,3.2291066281589886,0.6929317663642419,-0.5838146426552702,0.5861013284436394,-1.2650129403147923,-0.9874629601084706,0.22189992221823152,0.1070480664013499,-0.020257070664600894,0.540074434383443,-1.1153734802213902,-0.5408456367874344,-0.9363710338016914,-0.8768419048054417,0.5757258953442429,1.1302549841946514,1.0141595421180447,0.04382098826360184,1.0850336979622708,2.3157010748108156,-0.5705093840098091,1.9021376615749161,0.6295200030080252,-0.5850574454103049,1.0035871157471201,0.8792469474737475,-1.1340408358411769,0.1601995205845725,-0.024707485401965698,0.6120477835646161,0.8923372998260404,-1.3152338654473736,0.3878815351547292,0.7210458168234605,-2.41264623404743,-0.3959192713590546,0.8869462669540071,-0.035460269728471466,-0.9470516684026542,-0.4392408054657591,-1.1946784087205802,1.0776855106669865,0.5440523475359473],\"xaxis\":\"x\",\"yaxis\":\"y\",\"type\":\"histogram\"},{\"line\":{\"color\":\"rgba(128, 128, 128, 1.0)\",\"dash\":\"solid\",\"shape\":\"linear\",\"width\":1.3},\"marker\":{\"size\":2,\"symbol\":\"circle\"},\"mode\":\"markers\",\"name\":\"A\",\"text\":\"\",\"x\":[0.9059599971152463,1.2640403590421745,-0.2807537530635768,0.06402790036215945,-0.3766235233694587,-0.10132459774762158,0.5339861080892987,-1.8643420708091076,-1.661866586796738,2.3569785219679438,0.8725438525555298,-1.9104769189833894,-0.255949299328033,-0.39668839332448974,-0.3134606308667052,0.350746961585668,1.5778418522684001,-0.7885120606107235,-0.37433000133476685,-0.7865830089210104,-0.07517524873421455,-0.44288240707585064,0.5137908325133144,-1.121977505222089,-0.03568683511645622,-1.7924711458135418,1.5029017374563711,0.06433630297088112,0.020239781673339292,-0.29025246002340094,-1.1302539905725308,-0.18947146526901348,0.42760165568481256,0.333016541738766,0.3267043674060358,-1.0513974533576986,0.3774706999121592,-0.24496204262494045,-0.5265156710485509,0.6463574886324186,-0.6767948282602794,-0.7166772868544358,0.560351760893181,-0.38743902854119106,1.6019552050879209,0.011477146477320555,-1.110362746013105,1.1481440836003125,0.23362353676972208,0.27168211675893295,-0.16882921026742742,-1.6965335749826864,0.223151048282374,1.3100580898431096,1.4736784282794164,-1.0640125173800254,0.9050701400953132,0.48767629647396676,0.6753774281301449,-0.5754626651176231,0.6040043802592154,1.265348899405205,-1.0762057552710116,-0.11111384920458972,0.09464773574212813,1.0547675685231737,-0.6448715282387144,0.7739440113180187,-0.4028863465882712,-0.6562669929880659,1.3215915296236977,-2.03936613444369,-0.43033095621917533,-1.0174206393367025,-0.4587717162908476,-0.5263286688595268,-0.5929967365131853,0.814656274814025,1.9808718424399285,0.8029333924830028,-0.9669195429938262,0.4864229162952104,0.24332058654426708,0.20638896725384728,-0.6328604773747971,0.9449775365738496,-0.5873652887040683,1.5405322330015419,1.4633251619674414,-0.7640730016069059,0.10094774101467074,-0.6472076918128246,1.5963909934782532,-0.28345811435467794,-1.708490142148577,0.3192433158479993,-0.7974039512022152,0.8490163670386164,0.7045434640122664,-0.05056336966839602],\"xaxis\":\"x2\",\"y\":[-0.3906035117543167,1.0863264715185994,0.6835253814650998,-0.23576141864914893,-0.4429545878166258,2.116343170175117,1.4473913506726221,0.569652553863101,-0.009092623081691979,-1.0582945442935632,-0.12084486928238401,0.08815152034967148,0.11959952693200762,-0.7254016820099657,-0.21947884771572385,0.6307412937895936,-0.2715854516702586,0.6774799956997187,-3.326632598527113,-1.1010555748854676,-0.8285736989645863,1.4286432413197285,-1.2863673982151753,0.5560943872450889,-1.2156580243428767,0.2907123370476229,-0.03962130114381719,0.6128214007748458,1.5909112248895954,0.5649731989364699,0.11915288705665236,-0.6470755860638769,0.284160040239183,2.600494959494294,-1.2022014874643814,-0.13223808754142752,-0.041316482136716834,0.5098732219097379,0.15915568444349057,-0.5043819681281224,-0.3556156798004133,-0.3796013635814211,-1.8593197564762267,0.8978164798024615,0.39446349009737763,-0.694784547578885,0.26880235000994757,0.6167174702859992,-0.4997994420796771,0.4450096699471989,-0.8847488445344148,1.0987983381132622,-0.8452209252813302,-1.0648063360549604,-0.19084391043675195,-0.15859338257624883,0.7630611129237804,3.2291066281589886,0.6929317663642419,-0.5838146426552702,0.5861013284436394,-1.2650129403147923,-0.9874629601084706,0.22189992221823152,0.1070480664013499,-0.020257070664600894,0.540074434383443,-1.1153734802213902,-0.5408456367874344,-0.9363710338016914,-0.8768419048054417,0.5757258953442429,1.1302549841946514,1.0141595421180447,0.04382098826360184,1.0850336979622708,2.3157010748108156,-0.5705093840098091,1.9021376615749161,0.6295200030080252,-0.5850574454103049,1.0035871157471201,0.8792469474737475,-1.1340408358411769,0.1601995205845725,-0.024707485401965698,0.6120477835646161,0.8923372998260404,-1.3152338654473736,0.3878815351547292,0.7210458168234605,-2.41264623404743,-0.3959192713590546,0.8869462669540071,-0.035460269728471466,-0.9470516684026542,-0.4392408054657591,-1.1946784087205802,1.0776855106669865,0.5440523475359473],\"yaxis\":\"y2\",\"type\":\"scatter\"},{\"line\":{\"color\":\"rgba(128, 128, 128, 1.0)\",\"dash\":\"solid\",\"shape\":\"linear\",\"width\":1.3},\"marker\":{\"size\":2,\"symbol\":\"circle\"},\"mode\":\"markers\",\"name\":\"A\",\"text\":\"\",\"x\":[0.8145318541182838,0.7559868640780945,-0.7911693878578542,-0.4615667031492696,-0.4783289040760878,0.41729770253252063,0.4959169466569206,1.069497626033612,0.3485486302891891,2.661164504883503,0.06872972086560371,-0.6800710467989675,0.12254230232641224,-0.4665240443404823,-1.4727716602812868,0.20307054544264644,0.684646711845568,-0.1885740208259096,1.6183857998897144,0.1537157525615728,-0.9561403136584151,-0.7744198707005601,1.816049758642045,-1.3141725588917677,0.6392656826546046,1.3338745691339575,-1.9784023725066249,-0.43978825132042854,0.1842185908247415,1.128980410711298,-0.7398812125818858,-0.13534459356211892,0.6678329171676869,-0.12319027160122681,2.609227631075749,-0.3197219580123539,-0.03540317794825873,-0.19875004854742756,-1.1653338695859397,0.02476865467115096,-1.0524489299709388,-1.0069269640461846,-0.08492748607783955,-1.2376726858960687,0.3561928900176956,-0.4200699116139587,0.04367359830000804,-0.34702593862963504,0.9309256687532793,0.6540066397993411,0.060863063017891225,2.2388382465613623,0.461749405425871,0.9823961775581245,-0.9069023392607259,-0.10890028524264758,0.072195660308165,-1.4654208402487419,-0.48756523010174146,-0.1748413569213523,0.2958423956615726,-0.9078651568946134,-0.49871455986032504,0.86765113189569,-0.5157200773906159,-0.14679826941611732,-0.8193941354406362,1.5807464726721516,0.5547155914525256,-0.06331255074299061,0.5590242801159748,-0.4868604733850864,1.150543610681079,-0.15967700304585333,0.5479353647594309,-0.156085453412081,-0.2484684610355909,-0.08880987492712661,0.4264022097782739,0.1397244735637222,-0.8038027184363239,-0.38410478043784374,1.2277210047176843,0.05569434761720841,1.0877998578721246,0.9675907834442555,-0.09564093561689342,-0.30996700436951746,-0.6427387669266169,-1.1303473535166737,0.8146960467180471,-1.1534775927947547,0.7463461432108704,0.8333099781535035,-0.5051758692967644,-0.3213968776053241,-2.0864284182052497,-0.14603703244565186,-0.3453718629190423,1.7937217646897103],\"xaxis\":\"x3\",\"y\":[-0.3906035117543167,1.0863264715185994,0.6835253814650998,-0.23576141864914893,-0.4429545878166258,2.116343170175117,1.4473913506726221,0.569652553863101,-0.009092623081691979,-1.0582945442935632,-0.12084486928238401,0.08815152034967148,0.11959952693200762,-0.7254016820099657,-0.21947884771572385,0.6307412937895936,-0.2715854516702586,0.6774799956997187,-3.326632598527113,-1.1010555748854676,-0.8285736989645863,1.4286432413197285,-1.2863673982151753,0.5560943872450889,-1.2156580243428767,0.2907123370476229,-0.03962130114381719,0.6128214007748458,1.5909112248895954,0.5649731989364699,0.11915288705665236,-0.6470755860638769,0.284160040239183,2.600494959494294,-1.2022014874643814,-0.13223808754142752,-0.041316482136716834,0.5098732219097379,0.15915568444349057,-0.5043819681281224,-0.3556156798004133,-0.3796013635814211,-1.8593197564762267,0.8978164798024615,0.39446349009737763,-0.694784547578885,0.26880235000994757,0.6167174702859992,-0.4997994420796771,0.4450096699471989,-0.8847488445344148,1.0987983381132622,-0.8452209252813302,-1.0648063360549604,-0.19084391043675195,-0.15859338257624883,0.7630611129237804,3.2291066281589886,0.6929317663642419,-0.5838146426552702,0.5861013284436394,-1.2650129403147923,-0.9874629601084706,0.22189992221823152,0.1070480664013499,-0.020257070664600894,0.540074434383443,-1.1153734802213902,-0.5408456367874344,-0.9363710338016914,-0.8768419048054417,0.5757258953442429,1.1302549841946514,1.0141595421180447,0.04382098826360184,1.0850336979622708,2.3157010748108156,-0.5705093840098091,1.9021376615749161,0.6295200030080252,-0.5850574454103049,1.0035871157471201,0.8792469474737475,-1.1340408358411769,0.1601995205845725,-0.024707485401965698,0.6120477835646161,0.8923372998260404,-1.3152338654473736,0.3878815351547292,0.7210458168234605,-2.41264623404743,-0.3959192713590546,0.8869462669540071,-0.035460269728471466,-0.9470516684026542,-0.4392408054657591,-1.1946784087205802,1.0776855106669865,0.5440523475359473],\"yaxis\":\"y3\",\"type\":\"scatter\"},{\"line\":{\"color\":\"rgba(128, 128, 128, 1.0)\",\"dash\":\"solid\",\"shape\":\"linear\",\"width\":1.3},\"marker\":{\"size\":2,\"symbol\":\"circle\"},\"mode\":\"markers\",\"name\":\"A\",\"text\":\"\",\"x\":[-0.9287969360385558,-2.6903461092469194,1.8624606059259496,2.65834186702288,-0.7980090896855742,-1.5827524498354613,0.2955470671139877,1.5502915705755398,-0.7979747735353135,0.6460701924717869,-0.936870420347587,-0.7592432746697397,1.2257802677559726,-0.8122393148359898,-1.5770245455675627,-1.9532608532826146,1.2498349738583459,-0.12032763768486186,0.19964616675881292,0.11654044840654534,0.4848809892741022,0.4484086937833366,-0.38956336565049554,1.896459297692075,0.8162856955544592,1.6229427799183003,0.23113477177927125,-1.0442775409802059,0.46572623833647436,0.4066816978124542,0.09326264462049069,0.255748905054573,1.000976696434357,-0.9422686315887814,0.5638625803494463,0.6232246258485489,2.0902670579021394,0.18039481439640082,-2.8043591150230585,-1.5406214467034285,-0.8619489271428574,0.1973368707344788,0.5951918906812148,-1.254950079480591,0.2672512673631738,0.1231761132113905,0.4282017663539288,-0.07417978796279026,0.5838737828287422,0.7383469895984776,-0.33571220914034955,-1.4460462320019074,-0.324141217027923,2.325284836253793,0.6250953404395978,1.0233025533589735,-0.3494082223162853,0.9026362239522017,0.18168725816791362,-2.6229803716139495,-0.27342525144437013,-0.1931244977852925,1.1051207832141565,0.45997066086433386,1.1761768520251474,0.013808034119401909,1.8428471092341046,0.9718762015792,-1.1871142872913143,-0.7942313824997717,0.6377742139850696,1.056253935397287,0.17432361359849946,-0.5707208881700466,0.47016231725700064,0.5202759059458038,0.17236170108375984,0.1591165564203543,-0.08043319862684438,0.9282097726527182,-2.089416374568016,-0.9026175672646589,-0.29388347696324646,2.241400722782147,-0.35882409026196266,1.0776875082017887,0.42773010628651903,0.4848173298231596,-0.25462632786313805,-1.6798298606013724,-0.8773900778879777,1.5634337277512937,0.10434311889015405,0.27654662387292034,-1.4777234322777808,-0.8514769391416811,-0.25176645385428903,-1.4987461162481623,1.0351018823675524,-1.4075092725501115],\"xaxis\":\"x4\",\"y\":[-0.3906035117543167,1.0863264715185994,0.6835253814650998,-0.23576141864914893,-0.4429545878166258,2.116343170175117,1.4473913506726221,0.569652553863101,-0.009092623081691979,-1.0582945442935632,-0.12084486928238401,0.08815152034967148,0.11959952693200762,-0.7254016820099657,-0.21947884771572385,0.6307412937895936,-0.2715854516702586,0.6774799956997187,-3.326632598527113,-1.1010555748854676,-0.8285736989645863,1.4286432413197285,-1.2863673982151753,0.5560943872450889,-1.2156580243428767,0.2907123370476229,-0.03962130114381719,0.6128214007748458,1.5909112248895954,0.5649731989364699,0.11915288705665236,-0.6470755860638769,0.284160040239183,2.600494959494294,-1.2022014874643814,-0.13223808754142752,-0.041316482136716834,0.5098732219097379,0.15915568444349057,-0.5043819681281224,-0.3556156798004133,-0.3796013635814211,-1.8593197564762267,0.8978164798024615,0.39446349009737763,-0.694784547578885,0.26880235000994757,0.6167174702859992,-0.4997994420796771,0.4450096699471989,-0.8847488445344148,1.0987983381132622,-0.8452209252813302,-1.0648063360549604,-0.19084391043675195,-0.15859338257624883,0.7630611129237804,3.2291066281589886,0.6929317663642419,-0.5838146426552702,0.5861013284436394,-1.2650129403147923,-0.9874629601084706,0.22189992221823152,0.1070480664013499,-0.020257070664600894,0.540074434383443,-1.1153734802213902,-0.5408456367874344,-0.9363710338016914,-0.8768419048054417,0.5757258953442429,1.1302549841946514,1.0141595421180447,0.04382098826360184,1.0850336979622708,2.3157010748108156,-0.5705093840098091,1.9021376615749161,0.6295200030080252,-0.5850574454103049,1.0035871157471201,0.8792469474737475,-1.1340408358411769,0.1601995205845725,-0.024707485401965698,0.6120477835646161,0.8923372998260404,-1.3152338654473736,0.3878815351547292,0.7210458168234605,-2.41264623404743,-0.3959192713590546,0.8869462669540071,-0.035460269728471466,-0.9470516684026542,-0.4392408054657591,-1.1946784087205802,1.0776855106669865,0.5440523475359473],\"yaxis\":\"y4\",\"type\":\"scatter\"},{\"line\":{\"color\":\"rgba(128, 128, 128, 1.0)\",\"dash\":\"solid\",\"shape\":\"linear\",\"width\":1.3},\"marker\":{\"size\":2,\"symbol\":\"circle\"},\"mode\":\"markers\",\"name\":\"B\",\"text\":\"\",\"x\":[-0.3906035117543167,1.0863264715185994,0.6835253814650998,-0.23576141864914893,-0.4429545878166258,2.116343170175117,1.4473913506726221,0.569652553863101,-0.009092623081691979,-1.0582945442935632,-0.12084486928238401,0.08815152034967148,0.11959952693200762,-0.7254016820099657,-0.21947884771572385,0.6307412937895936,-0.2715854516702586,0.6774799956997187,-3.326632598527113,-1.1010555748854676,-0.8285736989645863,1.4286432413197285,-1.2863673982151753,0.5560943872450889,-1.2156580243428767,0.2907123370476229,-0.03962130114381719,0.6128214007748458,1.5909112248895954,0.5649731989364699,0.11915288705665236,-0.6470755860638769,0.284160040239183,2.600494959494294,-1.2022014874643814,-0.13223808754142752,-0.041316482136716834,0.5098732219097379,0.15915568444349057,-0.5043819681281224,-0.3556156798004133,-0.3796013635814211,-1.8593197564762267,0.8978164798024615,0.39446349009737763,-0.694784547578885,0.26880235000994757,0.6167174702859992,-0.4997994420796771,0.4450096699471989,-0.8847488445344148,1.0987983381132622,-0.8452209252813302,-1.0648063360549604,-0.19084391043675195,-0.15859338257624883,0.7630611129237804,3.2291066281589886,0.6929317663642419,-0.5838146426552702,0.5861013284436394,-1.2650129403147923,-0.9874629601084706,0.22189992221823152,0.1070480664013499,-0.020257070664600894,0.540074434383443,-1.1153734802213902,-0.5408456367874344,-0.9363710338016914,-0.8768419048054417,0.5757258953442429,1.1302549841946514,1.0141595421180447,0.04382098826360184,1.0850336979622708,2.3157010748108156,-0.5705093840098091,1.9021376615749161,0.6295200030080252,-0.5850574454103049,1.0035871157471201,0.8792469474737475,-1.1340408358411769,0.1601995205845725,-0.024707485401965698,0.6120477835646161,0.8923372998260404,-1.3152338654473736,0.3878815351547292,0.7210458168234605,-2.41264623404743,-0.3959192713590546,0.8869462669540071,-0.035460269728471466,-0.9470516684026542,-0.4392408054657591,-1.1946784087205802,1.0776855106669865,0.5440523475359473],\"xaxis\":\"x5\",\"y\":[0.9059599971152463,1.2640403590421745,-0.2807537530635768,0.06402790036215945,-0.3766235233694587,-0.10132459774762158,0.5339861080892987,-1.8643420708091076,-1.661866586796738,2.3569785219679438,0.8725438525555298,-1.9104769189833894,-0.255949299328033,-0.39668839332448974,-0.3134606308667052,0.350746961585668,1.5778418522684001,-0.7885120606107235,-0.37433000133476685,-0.7865830089210104,-0.07517524873421455,-0.44288240707585064,0.5137908325133144,-1.121977505222089,-0.03568683511645622,-1.7924711458135418,1.5029017374563711,0.06433630297088112,0.020239781673339292,-0.29025246002340094,-1.1302539905725308,-0.18947146526901348,0.42760165568481256,0.333016541738766,0.3267043674060358,-1.0513974533576986,0.3774706999121592,-0.24496204262494045,-0.5265156710485509,0.6463574886324186,-0.6767948282602794,-0.7166772868544358,0.560351760893181,-0.38743902854119106,1.6019552050879209,0.011477146477320555,-1.110362746013105,1.1481440836003125,0.23362353676972208,0.27168211675893295,-0.16882921026742742,-1.6965335749826864,0.223151048282374,1.3100580898431096,1.4736784282794164,-1.0640125173800254,0.9050701400953132,0.48767629647396676,0.6753774281301449,-0.5754626651176231,0.6040043802592154,1.265348899405205,-1.0762057552710116,-0.11111384920458972,0.09464773574212813,1.0547675685231737,-0.6448715282387144,0.7739440113180187,-0.4028863465882712,-0.6562669929880659,1.3215915296236977,-2.03936613444369,-0.43033095621917533,-1.0174206393367025,-0.4587717162908476,-0.5263286688595268,-0.5929967365131853,0.814656274814025,1.9808718424399285,0.8029333924830028,-0.9669195429938262,0.4864229162952104,0.24332058654426708,0.20638896725384728,-0.6328604773747971,0.9449775365738496,-0.5873652887040683,1.5405322330015419,1.4633251619674414,-0.7640730016069059,0.10094774101467074,-0.6472076918128246,1.5963909934782532,-0.28345811435467794,-1.708490142148577,0.3192433158479993,-0.7974039512022152,0.8490163670386164,0.7045434640122664,-0.05056336966839602],\"yaxis\":\"y5\",\"type\":\"scatter\"},{\"histfunc\":\"count\",\"histnorm\":\"\",\"marker\":{\"color\":\"rgba(55, 128, 191, 1.0)\",\"line\":{\"color\":\"#4D5663\",\"width\":1.3}},\"name\":\"B\",\"nbinsx\":10,\"opacity\":0.8,\"orientation\":\"v\",\"x\":[0.9059599971152463,1.2640403590421745,-0.2807537530635768,0.06402790036215945,-0.3766235233694587,-0.10132459774762158,0.5339861080892987,-1.8643420708091076,-1.661866586796738,2.3569785219679438,0.8725438525555298,-1.9104769189833894,-0.255949299328033,-0.39668839332448974,-0.3134606308667052,0.350746961585668,1.5778418522684001,-0.7885120606107235,-0.37433000133476685,-0.7865830089210104,-0.07517524873421455,-0.44288240707585064,0.5137908325133144,-1.121977505222089,-0.03568683511645622,-1.7924711458135418,1.5029017374563711,0.06433630297088112,0.020239781673339292,-0.29025246002340094,-1.1302539905725308,-0.18947146526901348,0.42760165568481256,0.333016541738766,0.3267043674060358,-1.0513974533576986,0.3774706999121592,-0.24496204262494045,-0.5265156710485509,0.6463574886324186,-0.6767948282602794,-0.7166772868544358,0.560351760893181,-0.38743902854119106,1.6019552050879209,0.011477146477320555,-1.110362746013105,1.1481440836003125,0.23362353676972208,0.27168211675893295,-0.16882921026742742,-1.6965335749826864,0.223151048282374,1.3100580898431096,1.4736784282794164,-1.0640125173800254,0.9050701400953132,0.48767629647396676,0.6753774281301449,-0.5754626651176231,0.6040043802592154,1.265348899405205,-1.0762057552710116,-0.11111384920458972,0.09464773574212813,1.0547675685231737,-0.6448715282387144,0.7739440113180187,-0.4028863465882712,-0.6562669929880659,1.3215915296236977,-2.03936613444369,-0.43033095621917533,-1.0174206393367025,-0.4587717162908476,-0.5263286688595268,-0.5929967365131853,0.814656274814025,1.9808718424399285,0.8029333924830028,-0.9669195429938262,0.4864229162952104,0.24332058654426708,0.20638896725384728,-0.6328604773747971,0.9449775365738496,-0.5873652887040683,1.5405322330015419,1.4633251619674414,-0.7640730016069059,0.10094774101467074,-0.6472076918128246,1.5963909934782532,-0.28345811435467794,-1.708490142148577,0.3192433158479993,-0.7974039512022152,0.8490163670386164,0.7045434640122664,-0.05056336966839602],\"xaxis\":\"x6\",\"yaxis\":\"y6\",\"type\":\"histogram\"},{\"line\":{\"color\":\"rgba(128, 128, 128, 1.0)\",\"dash\":\"solid\",\"shape\":\"linear\",\"width\":1.3},\"marker\":{\"size\":2,\"symbol\":\"circle\"},\"mode\":\"markers\",\"name\":\"B\",\"text\":\"\",\"x\":[0.8145318541182838,0.7559868640780945,-0.7911693878578542,-0.4615667031492696,-0.4783289040760878,0.41729770253252063,0.4959169466569206,1.069497626033612,0.3485486302891891,2.661164504883503,0.06872972086560371,-0.6800710467989675,0.12254230232641224,-0.4665240443404823,-1.4727716602812868,0.20307054544264644,0.684646711845568,-0.1885740208259096,1.6183857998897144,0.1537157525615728,-0.9561403136584151,-0.7744198707005601,1.816049758642045,-1.3141725588917677,0.6392656826546046,1.3338745691339575,-1.9784023725066249,-0.43978825132042854,0.1842185908247415,1.128980410711298,-0.7398812125818858,-0.13534459356211892,0.6678329171676869,-0.12319027160122681,2.609227631075749,-0.3197219580123539,-0.03540317794825873,-0.19875004854742756,-1.1653338695859397,0.02476865467115096,-1.0524489299709388,-1.0069269640461846,-0.08492748607783955,-1.2376726858960687,0.3561928900176956,-0.4200699116139587,0.04367359830000804,-0.34702593862963504,0.9309256687532793,0.6540066397993411,0.060863063017891225,2.2388382465613623,0.461749405425871,0.9823961775581245,-0.9069023392607259,-0.10890028524264758,0.072195660308165,-1.4654208402487419,-0.48756523010174146,-0.1748413569213523,0.2958423956615726,-0.9078651568946134,-0.49871455986032504,0.86765113189569,-0.5157200773906159,-0.14679826941611732,-0.8193941354406362,1.5807464726721516,0.5547155914525256,-0.06331255074299061,0.5590242801159748,-0.4868604733850864,1.150543610681079,-0.15967700304585333,0.5479353647594309,-0.156085453412081,-0.2484684610355909,-0.08880987492712661,0.4264022097782739,0.1397244735637222,-0.8038027184363239,-0.38410478043784374,1.2277210047176843,0.05569434761720841,1.0877998578721246,0.9675907834442555,-0.09564093561689342,-0.30996700436951746,-0.6427387669266169,-1.1303473535166737,0.8146960467180471,-1.1534775927947547,0.7463461432108704,0.8333099781535035,-0.5051758692967644,-0.3213968776053241,-2.0864284182052497,-0.14603703244565186,-0.3453718629190423,1.7937217646897103],\"xaxis\":\"x7\",\"y\":[0.9059599971152463,1.2640403590421745,-0.2807537530635768,0.06402790036215945,-0.3766235233694587,-0.10132459774762158,0.5339861080892987,-1.8643420708091076,-1.661866586796738,2.3569785219679438,0.8725438525555298,-1.9104769189833894,-0.255949299328033,-0.39668839332448974,-0.3134606308667052,0.350746961585668,1.5778418522684001,-0.7885120606107235,-0.37433000133476685,-0.7865830089210104,-0.07517524873421455,-0.44288240707585064,0.5137908325133144,-1.121977505222089,-0.03568683511645622,-1.7924711458135418,1.5029017374563711,0.06433630297088112,0.020239781673339292,-0.29025246002340094,-1.1302539905725308,-0.18947146526901348,0.42760165568481256,0.333016541738766,0.3267043674060358,-1.0513974533576986,0.3774706999121592,-0.24496204262494045,-0.5265156710485509,0.6463574886324186,-0.6767948282602794,-0.7166772868544358,0.560351760893181,-0.38743902854119106,1.6019552050879209,0.011477146477320555,-1.110362746013105,1.1481440836003125,0.23362353676972208,0.27168211675893295,-0.16882921026742742,-1.6965335749826864,0.223151048282374,1.3100580898431096,1.4736784282794164,-1.0640125173800254,0.9050701400953132,0.48767629647396676,0.6753774281301449,-0.5754626651176231,0.6040043802592154,1.265348899405205,-1.0762057552710116,-0.11111384920458972,0.09464773574212813,1.0547675685231737,-0.6448715282387144,0.7739440113180187,-0.4028863465882712,-0.6562669929880659,1.3215915296236977,-2.03936613444369,-0.43033095621917533,-1.0174206393367025,-0.4587717162908476,-0.5263286688595268,-0.5929967365131853,0.814656274814025,1.9808718424399285,0.8029333924830028,-0.9669195429938262,0.4864229162952104,0.24332058654426708,0.20638896725384728,-0.6328604773747971,0.9449775365738496,-0.5873652887040683,1.5405322330015419,1.4633251619674414,-0.7640730016069059,0.10094774101467074,-0.6472076918128246,1.5963909934782532,-0.28345811435467794,-1.708490142148577,0.3192433158479993,-0.7974039512022152,0.8490163670386164,0.7045434640122664,-0.05056336966839602],\"yaxis\":\"y7\",\"type\":\"scatter\"},{\"line\":{\"color\":\"rgba(128, 128, 128, 1.0)\",\"dash\":\"solid\",\"shape\":\"linear\",\"width\":1.3},\"marker\":{\"size\":2,\"symbol\":\"circle\"},\"mode\":\"markers\",\"name\":\"B\",\"text\":\"\",\"x\":[-0.9287969360385558,-2.6903461092469194,1.8624606059259496,2.65834186702288,-0.7980090896855742,-1.5827524498354613,0.2955470671139877,1.5502915705755398,-0.7979747735353135,0.6460701924717869,-0.936870420347587,-0.7592432746697397,1.2257802677559726,-0.8122393148359898,-1.5770245455675627,-1.9532608532826146,1.2498349738583459,-0.12032763768486186,0.19964616675881292,0.11654044840654534,0.4848809892741022,0.4484086937833366,-0.38956336565049554,1.896459297692075,0.8162856955544592,1.6229427799183003,0.23113477177927125,-1.0442775409802059,0.46572623833647436,0.4066816978124542,0.09326264462049069,0.255748905054573,1.000976696434357,-0.9422686315887814,0.5638625803494463,0.6232246258485489,2.0902670579021394,0.18039481439640082,-2.8043591150230585,-1.5406214467034285,-0.8619489271428574,0.1973368707344788,0.5951918906812148,-1.254950079480591,0.2672512673631738,0.1231761132113905,0.4282017663539288,-0.07417978796279026,0.5838737828287422,0.7383469895984776,-0.33571220914034955,-1.4460462320019074,-0.324141217027923,2.325284836253793,0.6250953404395978,1.0233025533589735,-0.3494082223162853,0.9026362239522017,0.18168725816791362,-2.6229803716139495,-0.27342525144437013,-0.1931244977852925,1.1051207832141565,0.45997066086433386,1.1761768520251474,0.013808034119401909,1.8428471092341046,0.9718762015792,-1.1871142872913143,-0.7942313824997717,0.6377742139850696,1.056253935397287,0.17432361359849946,-0.5707208881700466,0.47016231725700064,0.5202759059458038,0.17236170108375984,0.1591165564203543,-0.08043319862684438,0.9282097726527182,-2.089416374568016,-0.9026175672646589,-0.29388347696324646,2.241400722782147,-0.35882409026196266,1.0776875082017887,0.42773010628651903,0.4848173298231596,-0.25462632786313805,-1.6798298606013724,-0.8773900778879777,1.5634337277512937,0.10434311889015405,0.27654662387292034,-1.4777234322777808,-0.8514769391416811,-0.25176645385428903,-1.4987461162481623,1.0351018823675524,-1.4075092725501115],\"xaxis\":\"x8\",\"y\":[0.9059599971152463,1.2640403590421745,-0.2807537530635768,0.06402790036215945,-0.3766235233694587,-0.10132459774762158,0.5339861080892987,-1.8643420708091076,-1.661866586796738,2.3569785219679438,0.8725438525555298,-1.9104769189833894,-0.255949299328033,-0.39668839332448974,-0.3134606308667052,0.350746961585668,1.5778418522684001,-0.7885120606107235,-0.37433000133476685,-0.7865830089210104,-0.07517524873421455,-0.44288240707585064,0.5137908325133144,-1.121977505222089,-0.03568683511645622,-1.7924711458135418,1.5029017374563711,0.06433630297088112,0.020239781673339292,-0.29025246002340094,-1.1302539905725308,-0.18947146526901348,0.42760165568481256,0.333016541738766,0.3267043674060358,-1.0513974533576986,0.3774706999121592,-0.24496204262494045,-0.5265156710485509,0.6463574886324186,-0.6767948282602794,-0.7166772868544358,0.560351760893181,-0.38743902854119106,1.6019552050879209,0.011477146477320555,-1.110362746013105,1.1481440836003125,0.23362353676972208,0.27168211675893295,-0.16882921026742742,-1.6965335749826864,0.223151048282374,1.3100580898431096,1.4736784282794164,-1.0640125173800254,0.9050701400953132,0.48767629647396676,0.6753774281301449,-0.5754626651176231,0.6040043802592154,1.265348899405205,-1.0762057552710116,-0.11111384920458972,0.09464773574212813,1.0547675685231737,-0.6448715282387144,0.7739440113180187,-0.4028863465882712,-0.6562669929880659,1.3215915296236977,-2.03936613444369,-0.43033095621917533,-1.0174206393367025,-0.4587717162908476,-0.5263286688595268,-0.5929967365131853,0.814656274814025,1.9808718424399285,0.8029333924830028,-0.9669195429938262,0.4864229162952104,0.24332058654426708,0.20638896725384728,-0.6328604773747971,0.9449775365738496,-0.5873652887040683,1.5405322330015419,1.4633251619674414,-0.7640730016069059,0.10094774101467074,-0.6472076918128246,1.5963909934782532,-0.28345811435467794,-1.708490142148577,0.3192433158479993,-0.7974039512022152,0.8490163670386164,0.7045434640122664,-0.05056336966839602],\"yaxis\":\"y8\",\"type\":\"scatter\"},{\"line\":{\"color\":\"rgba(128, 128, 128, 1.0)\",\"dash\":\"solid\",\"shape\":\"linear\",\"width\":1.3},\"marker\":{\"size\":2,\"symbol\":\"circle\"},\"mode\":\"markers\",\"name\":\"C\",\"text\":\"\",\"x\":[-0.3906035117543167,1.0863264715185994,0.6835253814650998,-0.23576141864914893,-0.4429545878166258,2.116343170175117,1.4473913506726221,0.569652553863101,-0.009092623081691979,-1.0582945442935632,-0.12084486928238401,0.08815152034967148,0.11959952693200762,-0.7254016820099657,-0.21947884771572385,0.6307412937895936,-0.2715854516702586,0.6774799956997187,-3.326632598527113,-1.1010555748854676,-0.8285736989645863,1.4286432413197285,-1.2863673982151753,0.5560943872450889,-1.2156580243428767,0.2907123370476229,-0.03962130114381719,0.6128214007748458,1.5909112248895954,0.5649731989364699,0.11915288705665236,-0.6470755860638769,0.284160040239183,2.600494959494294,-1.2022014874643814,-0.13223808754142752,-0.041316482136716834,0.5098732219097379,0.15915568444349057,-0.5043819681281224,-0.3556156798004133,-0.3796013635814211,-1.8593197564762267,0.8978164798024615,0.39446349009737763,-0.694784547578885,0.26880235000994757,0.6167174702859992,-0.4997994420796771,0.4450096699471989,-0.8847488445344148,1.0987983381132622,-0.8452209252813302,-1.0648063360549604,-0.19084391043675195,-0.15859338257624883,0.7630611129237804,3.2291066281589886,0.6929317663642419,-0.5838146426552702,0.5861013284436394,-1.2650129403147923,-0.9874629601084706,0.22189992221823152,0.1070480664013499,-0.020257070664600894,0.540074434383443,-1.1153734802213902,-0.5408456367874344,-0.9363710338016914,-0.8768419048054417,0.5757258953442429,1.1302549841946514,1.0141595421180447,0.04382098826360184,1.0850336979622708,2.3157010748108156,-0.5705093840098091,1.9021376615749161,0.6295200030080252,-0.5850574454103049,1.0035871157471201,0.8792469474737475,-1.1340408358411769,0.1601995205845725,-0.024707485401965698,0.6120477835646161,0.8923372998260404,-1.3152338654473736,0.3878815351547292,0.7210458168234605,-2.41264623404743,-0.3959192713590546,0.8869462669540071,-0.035460269728471466,-0.9470516684026542,-0.4392408054657591,-1.1946784087205802,1.0776855106669865,0.5440523475359473],\"xaxis\":\"x9\",\"y\":[0.8145318541182838,0.7559868640780945,-0.7911693878578542,-0.4615667031492696,-0.4783289040760878,0.41729770253252063,0.4959169466569206,1.069497626033612,0.3485486302891891,2.661164504883503,0.06872972086560371,-0.6800710467989675,0.12254230232641224,-0.4665240443404823,-1.4727716602812868,0.20307054544264644,0.684646711845568,-0.1885740208259096,1.6183857998897144,0.1537157525615728,-0.9561403136584151,-0.7744198707005601,1.816049758642045,-1.3141725588917677,0.6392656826546046,1.3338745691339575,-1.9784023725066249,-0.43978825132042854,0.1842185908247415,1.128980410711298,-0.7398812125818858,-0.13534459356211892,0.6678329171676869,-0.12319027160122681,2.609227631075749,-0.3197219580123539,-0.03540317794825873,-0.19875004854742756,-1.1653338695859397,0.02476865467115096,-1.0524489299709388,-1.0069269640461846,-0.08492748607783955,-1.2376726858960687,0.3561928900176956,-0.4200699116139587,0.04367359830000804,-0.34702593862963504,0.9309256687532793,0.6540066397993411,0.060863063017891225,2.2388382465613623,0.461749405425871,0.9823961775581245,-0.9069023392607259,-0.10890028524264758,0.072195660308165,-1.4654208402487419,-0.48756523010174146,-0.1748413569213523,0.2958423956615726,-0.9078651568946134,-0.49871455986032504,0.86765113189569,-0.5157200773906159,-0.14679826941611732,-0.8193941354406362,1.5807464726721516,0.5547155914525256,-0.06331255074299061,0.5590242801159748,-0.4868604733850864,1.150543610681079,-0.15967700304585333,0.5479353647594309,-0.156085453412081,-0.2484684610355909,-0.08880987492712661,0.4264022097782739,0.1397244735637222,-0.8038027184363239,-0.38410478043784374,1.2277210047176843,0.05569434761720841,1.0877998578721246,0.9675907834442555,-0.09564093561689342,-0.30996700436951746,-0.6427387669266169,-1.1303473535166737,0.8146960467180471,-1.1534775927947547,0.7463461432108704,0.8333099781535035,-0.5051758692967644,-0.3213968776053241,-2.0864284182052497,-0.14603703244565186,-0.3453718629190423,1.7937217646897103],\"yaxis\":\"y9\",\"type\":\"scatter\"},{\"line\":{\"color\":\"rgba(128, 128, 128, 1.0)\",\"dash\":\"solid\",\"shape\":\"linear\",\"width\":1.3},\"marker\":{\"size\":2,\"symbol\":\"circle\"},\"mode\":\"markers\",\"name\":\"C\",\"text\":\"\",\"x\":[0.9059599971152463,1.2640403590421745,-0.2807537530635768,0.06402790036215945,-0.3766235233694587,-0.10132459774762158,0.5339861080892987,-1.8643420708091076,-1.661866586796738,2.3569785219679438,0.8725438525555298,-1.9104769189833894,-0.255949299328033,-0.39668839332448974,-0.3134606308667052,0.350746961585668,1.5778418522684001,-0.7885120606107235,-0.37433000133476685,-0.7865830089210104,-0.07517524873421455,-0.44288240707585064,0.5137908325133144,-1.121977505222089,-0.03568683511645622,-1.7924711458135418,1.5029017374563711,0.06433630297088112,0.020239781673339292,-0.29025246002340094,-1.1302539905725308,-0.18947146526901348,0.42760165568481256,0.333016541738766,0.3267043674060358,-1.0513974533576986,0.3774706999121592,-0.24496204262494045,-0.5265156710485509,0.6463574886324186,-0.6767948282602794,-0.7166772868544358,0.560351760893181,-0.38743902854119106,1.6019552050879209,0.011477146477320555,-1.110362746013105,1.1481440836003125,0.23362353676972208,0.27168211675893295,-0.16882921026742742,-1.6965335749826864,0.223151048282374,1.3100580898431096,1.4736784282794164,-1.0640125173800254,0.9050701400953132,0.48767629647396676,0.6753774281301449,-0.5754626651176231,0.6040043802592154,1.265348899405205,-1.0762057552710116,-0.11111384920458972,0.09464773574212813,1.0547675685231737,-0.6448715282387144,0.7739440113180187,-0.4028863465882712,-0.6562669929880659,1.3215915296236977,-2.03936613444369,-0.43033095621917533,-1.0174206393367025,-0.4587717162908476,-0.5263286688595268,-0.5929967365131853,0.814656274814025,1.9808718424399285,0.8029333924830028,-0.9669195429938262,0.4864229162952104,0.24332058654426708,0.20638896725384728,-0.6328604773747971,0.9449775365738496,-0.5873652887040683,1.5405322330015419,1.4633251619674414,-0.7640730016069059,0.10094774101467074,-0.6472076918128246,1.5963909934782532,-0.28345811435467794,-1.708490142148577,0.3192433158479993,-0.7974039512022152,0.8490163670386164,0.7045434640122664,-0.05056336966839602],\"xaxis\":\"x10\",\"y\":[0.8145318541182838,0.7559868640780945,-0.7911693878578542,-0.4615667031492696,-0.4783289040760878,0.41729770253252063,0.4959169466569206,1.069497626033612,0.3485486302891891,2.661164504883503,0.06872972086560371,-0.6800710467989675,0.12254230232641224,-0.4665240443404823,-1.4727716602812868,0.20307054544264644,0.684646711845568,-0.1885740208259096,1.6183857998897144,0.1537157525615728,-0.9561403136584151,-0.7744198707005601,1.816049758642045,-1.3141725588917677,0.6392656826546046,1.3338745691339575,-1.9784023725066249,-0.43978825132042854,0.1842185908247415,1.128980410711298,-0.7398812125818858,-0.13534459356211892,0.6678329171676869,-0.12319027160122681,2.609227631075749,-0.3197219580123539,-0.03540317794825873,-0.19875004854742756,-1.1653338695859397,0.02476865467115096,-1.0524489299709388,-1.0069269640461846,-0.08492748607783955,-1.2376726858960687,0.3561928900176956,-0.4200699116139587,0.04367359830000804,-0.34702593862963504,0.9309256687532793,0.6540066397993411,0.060863063017891225,2.2388382465613623,0.461749405425871,0.9823961775581245,-0.9069023392607259,-0.10890028524264758,0.072195660308165,-1.4654208402487419,-0.48756523010174146,-0.1748413569213523,0.2958423956615726,-0.9078651568946134,-0.49871455986032504,0.86765113189569,-0.5157200773906159,-0.14679826941611732,-0.8193941354406362,1.5807464726721516,0.5547155914525256,-0.06331255074299061,0.5590242801159748,-0.4868604733850864,1.150543610681079,-0.15967700304585333,0.5479353647594309,-0.156085453412081,-0.2484684610355909,-0.08880987492712661,0.4264022097782739,0.1397244735637222,-0.8038027184363239,-0.38410478043784374,1.2277210047176843,0.05569434761720841,1.0877998578721246,0.9675907834442555,-0.09564093561689342,-0.30996700436951746,-0.6427387669266169,-1.1303473535166737,0.8146960467180471,-1.1534775927947547,0.7463461432108704,0.8333099781535035,-0.5051758692967644,-0.3213968776053241,-2.0864284182052497,-0.14603703244565186,-0.3453718629190423,1.7937217646897103],\"yaxis\":\"y10\",\"type\":\"scatter\"},{\"histfunc\":\"count\",\"histnorm\":\"\",\"marker\":{\"color\":\"rgba(50, 171, 96, 1.0)\",\"line\":{\"color\":\"#4D5663\",\"width\":1.3}},\"name\":\"C\",\"nbinsx\":10,\"opacity\":0.8,\"orientation\":\"v\",\"x\":[0.8145318541182838,0.7559868640780945,-0.7911693878578542,-0.4615667031492696,-0.4783289040760878,0.41729770253252063,0.4959169466569206,1.069497626033612,0.3485486302891891,2.661164504883503,0.06872972086560371,-0.6800710467989675,0.12254230232641224,-0.4665240443404823,-1.4727716602812868,0.20307054544264644,0.684646711845568,-0.1885740208259096,1.6183857998897144,0.1537157525615728,-0.9561403136584151,-0.7744198707005601,1.816049758642045,-1.3141725588917677,0.6392656826546046,1.3338745691339575,-1.9784023725066249,-0.43978825132042854,0.1842185908247415,1.128980410711298,-0.7398812125818858,-0.13534459356211892,0.6678329171676869,-0.12319027160122681,2.609227631075749,-0.3197219580123539,-0.03540317794825873,-0.19875004854742756,-1.1653338695859397,0.02476865467115096,-1.0524489299709388,-1.0069269640461846,-0.08492748607783955,-1.2376726858960687,0.3561928900176956,-0.4200699116139587,0.04367359830000804,-0.34702593862963504,0.9309256687532793,0.6540066397993411,0.060863063017891225,2.2388382465613623,0.461749405425871,0.9823961775581245,-0.9069023392607259,-0.10890028524264758,0.072195660308165,-1.4654208402487419,-0.48756523010174146,-0.1748413569213523,0.2958423956615726,-0.9078651568946134,-0.49871455986032504,0.86765113189569,-0.5157200773906159,-0.14679826941611732,-0.8193941354406362,1.5807464726721516,0.5547155914525256,-0.06331255074299061,0.5590242801159748,-0.4868604733850864,1.150543610681079,-0.15967700304585333,0.5479353647594309,-0.156085453412081,-0.2484684610355909,-0.08880987492712661,0.4264022097782739,0.1397244735637222,-0.8038027184363239,-0.38410478043784374,1.2277210047176843,0.05569434761720841,1.0877998578721246,0.9675907834442555,-0.09564093561689342,-0.30996700436951746,-0.6427387669266169,-1.1303473535166737,0.8146960467180471,-1.1534775927947547,0.7463461432108704,0.8333099781535035,-0.5051758692967644,-0.3213968776053241,-2.0864284182052497,-0.14603703244565186,-0.3453718629190423,1.7937217646897103],\"xaxis\":\"x11\",\"yaxis\":\"y11\",\"type\":\"histogram\"},{\"line\":{\"color\":\"rgba(128, 128, 128, 1.0)\",\"dash\":\"solid\",\"shape\":\"linear\",\"width\":1.3},\"marker\":{\"size\":2,\"symbol\":\"circle\"},\"mode\":\"markers\",\"name\":\"C\",\"text\":\"\",\"x\":[-0.9287969360385558,-2.6903461092469194,1.8624606059259496,2.65834186702288,-0.7980090896855742,-1.5827524498354613,0.2955470671139877,1.5502915705755398,-0.7979747735353135,0.6460701924717869,-0.936870420347587,-0.7592432746697397,1.2257802677559726,-0.8122393148359898,-1.5770245455675627,-1.9532608532826146,1.2498349738583459,-0.12032763768486186,0.19964616675881292,0.11654044840654534,0.4848809892741022,0.4484086937833366,-0.38956336565049554,1.896459297692075,0.8162856955544592,1.6229427799183003,0.23113477177927125,-1.0442775409802059,0.46572623833647436,0.4066816978124542,0.09326264462049069,0.255748905054573,1.000976696434357,-0.9422686315887814,0.5638625803494463,0.6232246258485489,2.0902670579021394,0.18039481439640082,-2.8043591150230585,-1.5406214467034285,-0.8619489271428574,0.1973368707344788,0.5951918906812148,-1.254950079480591,0.2672512673631738,0.1231761132113905,0.4282017663539288,-0.07417978796279026,0.5838737828287422,0.7383469895984776,-0.33571220914034955,-1.4460462320019074,-0.324141217027923,2.325284836253793,0.6250953404395978,1.0233025533589735,-0.3494082223162853,0.9026362239522017,0.18168725816791362,-2.6229803716139495,-0.27342525144437013,-0.1931244977852925,1.1051207832141565,0.45997066086433386,1.1761768520251474,0.013808034119401909,1.8428471092341046,0.9718762015792,-1.1871142872913143,-0.7942313824997717,0.6377742139850696,1.056253935397287,0.17432361359849946,-0.5707208881700466,0.47016231725700064,0.5202759059458038,0.17236170108375984,0.1591165564203543,-0.08043319862684438,0.9282097726527182,-2.089416374568016,-0.9026175672646589,-0.29388347696324646,2.241400722782147,-0.35882409026196266,1.0776875082017887,0.42773010628651903,0.4848173298231596,-0.25462632786313805,-1.6798298606013724,-0.8773900778879777,1.5634337277512937,0.10434311889015405,0.27654662387292034,-1.4777234322777808,-0.8514769391416811,-0.25176645385428903,-1.4987461162481623,1.0351018823675524,-1.4075092725501115],\"xaxis\":\"x12\",\"y\":[0.8145318541182838,0.7559868640780945,-0.7911693878578542,-0.4615667031492696,-0.4783289040760878,0.41729770253252063,0.4959169466569206,1.069497626033612,0.3485486302891891,2.661164504883503,0.06872972086560371,-0.6800710467989675,0.12254230232641224,-0.4665240443404823,-1.4727716602812868,0.20307054544264644,0.684646711845568,-0.1885740208259096,1.6183857998897144,0.1537157525615728,-0.9561403136584151,-0.7744198707005601,1.816049758642045,-1.3141725588917677,0.6392656826546046,1.3338745691339575,-1.9784023725066249,-0.43978825132042854,0.1842185908247415,1.128980410711298,-0.7398812125818858,-0.13534459356211892,0.6678329171676869,-0.12319027160122681,2.609227631075749,-0.3197219580123539,-0.03540317794825873,-0.19875004854742756,-1.1653338695859397,0.02476865467115096,-1.0524489299709388,-1.0069269640461846,-0.08492748607783955,-1.2376726858960687,0.3561928900176956,-0.4200699116139587,0.04367359830000804,-0.34702593862963504,0.9309256687532793,0.6540066397993411,0.060863063017891225,2.2388382465613623,0.461749405425871,0.9823961775581245,-0.9069023392607259,-0.10890028524264758,0.072195660308165,-1.4654208402487419,-0.48756523010174146,-0.1748413569213523,0.2958423956615726,-0.9078651568946134,-0.49871455986032504,0.86765113189569,-0.5157200773906159,-0.14679826941611732,-0.8193941354406362,1.5807464726721516,0.5547155914525256,-0.06331255074299061,0.5590242801159748,-0.4868604733850864,1.150543610681079,-0.15967700304585333,0.5479353647594309,-0.156085453412081,-0.2484684610355909,-0.08880987492712661,0.4264022097782739,0.1397244735637222,-0.8038027184363239,-0.38410478043784374,1.2277210047176843,0.05569434761720841,1.0877998578721246,0.9675907834442555,-0.09564093561689342,-0.30996700436951746,-0.6427387669266169,-1.1303473535166737,0.8146960467180471,-1.1534775927947547,0.7463461432108704,0.8333099781535035,-0.5051758692967644,-0.3213968776053241,-2.0864284182052497,-0.14603703244565186,-0.3453718629190423,1.7937217646897103],\"yaxis\":\"y12\",\"type\":\"scatter\"},{\"line\":{\"color\":\"rgba(128, 128, 128, 1.0)\",\"dash\":\"solid\",\"shape\":\"linear\",\"width\":1.3},\"marker\":{\"size\":2,\"symbol\":\"circle\"},\"mode\":\"markers\",\"name\":\"D\",\"text\":\"\",\"x\":[-0.3906035117543167,1.0863264715185994,0.6835253814650998,-0.23576141864914893,-0.4429545878166258,2.116343170175117,1.4473913506726221,0.569652553863101,-0.009092623081691979,-1.0582945442935632,-0.12084486928238401,0.08815152034967148,0.11959952693200762,-0.7254016820099657,-0.21947884771572385,0.6307412937895936,-0.2715854516702586,0.6774799956997187,-3.326632598527113,-1.1010555748854676,-0.8285736989645863,1.4286432413197285,-1.2863673982151753,0.5560943872450889,-1.2156580243428767,0.2907123370476229,-0.03962130114381719,0.6128214007748458,1.5909112248895954,0.5649731989364699,0.11915288705665236,-0.6470755860638769,0.284160040239183,2.600494959494294,-1.2022014874643814,-0.13223808754142752,-0.041316482136716834,0.5098732219097379,0.15915568444349057,-0.5043819681281224,-0.3556156798004133,-0.3796013635814211,-1.8593197564762267,0.8978164798024615,0.39446349009737763,-0.694784547578885,0.26880235000994757,0.6167174702859992,-0.4997994420796771,0.4450096699471989,-0.8847488445344148,1.0987983381132622,-0.8452209252813302,-1.0648063360549604,-0.19084391043675195,-0.15859338257624883,0.7630611129237804,3.2291066281589886,0.6929317663642419,-0.5838146426552702,0.5861013284436394,-1.2650129403147923,-0.9874629601084706,0.22189992221823152,0.1070480664013499,-0.020257070664600894,0.540074434383443,-1.1153734802213902,-0.5408456367874344,-0.9363710338016914,-0.8768419048054417,0.5757258953442429,1.1302549841946514,1.0141595421180447,0.04382098826360184,1.0850336979622708,2.3157010748108156,-0.5705093840098091,1.9021376615749161,0.6295200030080252,-0.5850574454103049,1.0035871157471201,0.8792469474737475,-1.1340408358411769,0.1601995205845725,-0.024707485401965698,0.6120477835646161,0.8923372998260404,-1.3152338654473736,0.3878815351547292,0.7210458168234605,-2.41264623404743,-0.3959192713590546,0.8869462669540071,-0.035460269728471466,-0.9470516684026542,-0.4392408054657591,-1.1946784087205802,1.0776855106669865,0.5440523475359473],\"xaxis\":\"x13\",\"y\":[-0.9287969360385558,-2.6903461092469194,1.8624606059259496,2.65834186702288,-0.7980090896855742,-1.5827524498354613,0.2955470671139877,1.5502915705755398,-0.7979747735353135,0.6460701924717869,-0.936870420347587,-0.7592432746697397,1.2257802677559726,-0.8122393148359898,-1.5770245455675627,-1.9532608532826146,1.2498349738583459,-0.12032763768486186,0.19964616675881292,0.11654044840654534,0.4848809892741022,0.4484086937833366,-0.38956336565049554,1.896459297692075,0.8162856955544592,1.6229427799183003,0.23113477177927125,-1.0442775409802059,0.46572623833647436,0.4066816978124542,0.09326264462049069,0.255748905054573,1.000976696434357,-0.9422686315887814,0.5638625803494463,0.6232246258485489,2.0902670579021394,0.18039481439640082,-2.8043591150230585,-1.5406214467034285,-0.8619489271428574,0.1973368707344788,0.5951918906812148,-1.254950079480591,0.2672512673631738,0.1231761132113905,0.4282017663539288,-0.07417978796279026,0.5838737828287422,0.7383469895984776,-0.33571220914034955,-1.4460462320019074,-0.324141217027923,2.325284836253793,0.6250953404395978,1.0233025533589735,-0.3494082223162853,0.9026362239522017,0.18168725816791362,-2.6229803716139495,-0.27342525144437013,-0.1931244977852925,1.1051207832141565,0.45997066086433386,1.1761768520251474,0.013808034119401909,1.8428471092341046,0.9718762015792,-1.1871142872913143,-0.7942313824997717,0.6377742139850696,1.056253935397287,0.17432361359849946,-0.5707208881700466,0.47016231725700064,0.5202759059458038,0.17236170108375984,0.1591165564203543,-0.08043319862684438,0.9282097726527182,-2.089416374568016,-0.9026175672646589,-0.29388347696324646,2.241400722782147,-0.35882409026196266,1.0776875082017887,0.42773010628651903,0.4848173298231596,-0.25462632786313805,-1.6798298606013724,-0.8773900778879777,1.5634337277512937,0.10434311889015405,0.27654662387292034,-1.4777234322777808,-0.8514769391416811,-0.25176645385428903,-1.4987461162481623,1.0351018823675524,-1.4075092725501115],\"yaxis\":\"y13\",\"type\":\"scatter\"},{\"line\":{\"color\":\"rgba(128, 128, 128, 1.0)\",\"dash\":\"solid\",\"shape\":\"linear\",\"width\":1.3},\"marker\":{\"size\":2,\"symbol\":\"circle\"},\"mode\":\"markers\",\"name\":\"D\",\"text\":\"\",\"x\":[0.9059599971152463,1.2640403590421745,-0.2807537530635768,0.06402790036215945,-0.3766235233694587,-0.10132459774762158,0.5339861080892987,-1.8643420708091076,-1.661866586796738,2.3569785219679438,0.8725438525555298,-1.9104769189833894,-0.255949299328033,-0.39668839332448974,-0.3134606308667052,0.350746961585668,1.5778418522684001,-0.7885120606107235,-0.37433000133476685,-0.7865830089210104,-0.07517524873421455,-0.44288240707585064,0.5137908325133144,-1.121977505222089,-0.03568683511645622,-1.7924711458135418,1.5029017374563711,0.06433630297088112,0.020239781673339292,-0.29025246002340094,-1.1302539905725308,-0.18947146526901348,0.42760165568481256,0.333016541738766,0.3267043674060358,-1.0513974533576986,0.3774706999121592,-0.24496204262494045,-0.5265156710485509,0.6463574886324186,-0.6767948282602794,-0.7166772868544358,0.560351760893181,-0.38743902854119106,1.6019552050879209,0.011477146477320555,-1.110362746013105,1.1481440836003125,0.23362353676972208,0.27168211675893295,-0.16882921026742742,-1.6965335749826864,0.223151048282374,1.3100580898431096,1.4736784282794164,-1.0640125173800254,0.9050701400953132,0.48767629647396676,0.6753774281301449,-0.5754626651176231,0.6040043802592154,1.265348899405205,-1.0762057552710116,-0.11111384920458972,0.09464773574212813,1.0547675685231737,-0.6448715282387144,0.7739440113180187,-0.4028863465882712,-0.6562669929880659,1.3215915296236977,-2.03936613444369,-0.43033095621917533,-1.0174206393367025,-0.4587717162908476,-0.5263286688595268,-0.5929967365131853,0.814656274814025,1.9808718424399285,0.8029333924830028,-0.9669195429938262,0.4864229162952104,0.24332058654426708,0.20638896725384728,-0.6328604773747971,0.9449775365738496,-0.5873652887040683,1.5405322330015419,1.4633251619674414,-0.7640730016069059,0.10094774101467074,-0.6472076918128246,1.5963909934782532,-0.28345811435467794,-1.708490142148577,0.3192433158479993,-0.7974039512022152,0.8490163670386164,0.7045434640122664,-0.05056336966839602],\"xaxis\":\"x14\",\"y\":[-0.9287969360385558,-2.6903461092469194,1.8624606059259496,2.65834186702288,-0.7980090896855742,-1.5827524498354613,0.2955470671139877,1.5502915705755398,-0.7979747735353135,0.6460701924717869,-0.936870420347587,-0.7592432746697397,1.2257802677559726,-0.8122393148359898,-1.5770245455675627,-1.9532608532826146,1.2498349738583459,-0.12032763768486186,0.19964616675881292,0.11654044840654534,0.4848809892741022,0.4484086937833366,-0.38956336565049554,1.896459297692075,0.8162856955544592,1.6229427799183003,0.23113477177927125,-1.0442775409802059,0.46572623833647436,0.4066816978124542,0.09326264462049069,0.255748905054573,1.000976696434357,-0.9422686315887814,0.5638625803494463,0.6232246258485489,2.0902670579021394,0.18039481439640082,-2.8043591150230585,-1.5406214467034285,-0.8619489271428574,0.1973368707344788,0.5951918906812148,-1.254950079480591,0.2672512673631738,0.1231761132113905,0.4282017663539288,-0.07417978796279026,0.5838737828287422,0.7383469895984776,-0.33571220914034955,-1.4460462320019074,-0.324141217027923,2.325284836253793,0.6250953404395978,1.0233025533589735,-0.3494082223162853,0.9026362239522017,0.18168725816791362,-2.6229803716139495,-0.27342525144437013,-0.1931244977852925,1.1051207832141565,0.45997066086433386,1.1761768520251474,0.013808034119401909,1.8428471092341046,0.9718762015792,-1.1871142872913143,-0.7942313824997717,0.6377742139850696,1.056253935397287,0.17432361359849946,-0.5707208881700466,0.47016231725700064,0.5202759059458038,0.17236170108375984,0.1591165564203543,-0.08043319862684438,0.9282097726527182,-2.089416374568016,-0.9026175672646589,-0.29388347696324646,2.241400722782147,-0.35882409026196266,1.0776875082017887,0.42773010628651903,0.4848173298231596,-0.25462632786313805,-1.6798298606013724,-0.8773900778879777,1.5634337277512937,0.10434311889015405,0.27654662387292034,-1.4777234322777808,-0.8514769391416811,-0.25176645385428903,-1.4987461162481623,1.0351018823675524,-1.4075092725501115],\"yaxis\":\"y14\",\"type\":\"scatter\"},{\"line\":{\"color\":\"rgba(128, 128, 128, 1.0)\",\"dash\":\"solid\",\"shape\":\"linear\",\"width\":1.3},\"marker\":{\"size\":2,\"symbol\":\"circle\"},\"mode\":\"markers\",\"name\":\"D\",\"text\":\"\",\"x\":[0.8145318541182838,0.7559868640780945,-0.7911693878578542,-0.4615667031492696,-0.4783289040760878,0.41729770253252063,0.4959169466569206,1.069497626033612,0.3485486302891891,2.661164504883503,0.06872972086560371,-0.6800710467989675,0.12254230232641224,-0.4665240443404823,-1.4727716602812868,0.20307054544264644,0.684646711845568,-0.1885740208259096,1.6183857998897144,0.1537157525615728,-0.9561403136584151,-0.7744198707005601,1.816049758642045,-1.3141725588917677,0.6392656826546046,1.3338745691339575,-1.9784023725066249,-0.43978825132042854,0.1842185908247415,1.128980410711298,-0.7398812125818858,-0.13534459356211892,0.6678329171676869,-0.12319027160122681,2.609227631075749,-0.3197219580123539,-0.03540317794825873,-0.19875004854742756,-1.1653338695859397,0.02476865467115096,-1.0524489299709388,-1.0069269640461846,-0.08492748607783955,-1.2376726858960687,0.3561928900176956,-0.4200699116139587,0.04367359830000804,-0.34702593862963504,0.9309256687532793,0.6540066397993411,0.060863063017891225,2.2388382465613623,0.461749405425871,0.9823961775581245,-0.9069023392607259,-0.10890028524264758,0.072195660308165,-1.4654208402487419,-0.48756523010174146,-0.1748413569213523,0.2958423956615726,-0.9078651568946134,-0.49871455986032504,0.86765113189569,-0.5157200773906159,-0.14679826941611732,-0.8193941354406362,1.5807464726721516,0.5547155914525256,-0.06331255074299061,0.5590242801159748,-0.4868604733850864,1.150543610681079,-0.15967700304585333,0.5479353647594309,-0.156085453412081,-0.2484684610355909,-0.08880987492712661,0.4264022097782739,0.1397244735637222,-0.8038027184363239,-0.38410478043784374,1.2277210047176843,0.05569434761720841,1.0877998578721246,0.9675907834442555,-0.09564093561689342,-0.30996700436951746,-0.6427387669266169,-1.1303473535166737,0.8146960467180471,-1.1534775927947547,0.7463461432108704,0.8333099781535035,-0.5051758692967644,-0.3213968776053241,-2.0864284182052497,-0.14603703244565186,-0.3453718629190423,1.7937217646897103],\"xaxis\":\"x15\",\"y\":[-0.9287969360385558,-2.6903461092469194,1.8624606059259496,2.65834186702288,-0.7980090896855742,-1.5827524498354613,0.2955470671139877,1.5502915705755398,-0.7979747735353135,0.6460701924717869,-0.936870420347587,-0.7592432746697397,1.2257802677559726,-0.8122393148359898,-1.5770245455675627,-1.9532608532826146,1.2498349738583459,-0.12032763768486186,0.19964616675881292,0.11654044840654534,0.4848809892741022,0.4484086937833366,-0.38956336565049554,1.896459297692075,0.8162856955544592,1.6229427799183003,0.23113477177927125,-1.0442775409802059,0.46572623833647436,0.4066816978124542,0.09326264462049069,0.255748905054573,1.000976696434357,-0.9422686315887814,0.5638625803494463,0.6232246258485489,2.0902670579021394,0.18039481439640082,-2.8043591150230585,-1.5406214467034285,-0.8619489271428574,0.1973368707344788,0.5951918906812148,-1.254950079480591,0.2672512673631738,0.1231761132113905,0.4282017663539288,-0.07417978796279026,0.5838737828287422,0.7383469895984776,-0.33571220914034955,-1.4460462320019074,-0.324141217027923,2.325284836253793,0.6250953404395978,1.0233025533589735,-0.3494082223162853,0.9026362239522017,0.18168725816791362,-2.6229803716139495,-0.27342525144437013,-0.1931244977852925,1.1051207832141565,0.45997066086433386,1.1761768520251474,0.013808034119401909,1.8428471092341046,0.9718762015792,-1.1871142872913143,-0.7942313824997717,0.6377742139850696,1.056253935397287,0.17432361359849946,-0.5707208881700466,0.47016231725700064,0.5202759059458038,0.17236170108375984,0.1591165564203543,-0.08043319862684438,0.9282097726527182,-2.089416374568016,-0.9026175672646589,-0.29388347696324646,2.241400722782147,-0.35882409026196266,1.0776875082017887,0.42773010628651903,0.4848173298231596,-0.25462632786313805,-1.6798298606013724,-0.8773900778879777,1.5634337277512937,0.10434311889015405,0.27654662387292034,-1.4777234322777808,-0.8514769391416811,-0.25176645385428903,-1.4987461162481623,1.0351018823675524,-1.4075092725501115],\"yaxis\":\"y15\",\"type\":\"scatter\"},{\"histfunc\":\"count\",\"histnorm\":\"\",\"marker\":{\"color\":\"rgba(128, 0, 128, 1.0)\",\"line\":{\"color\":\"#4D5663\",\"width\":1.3}},\"name\":\"D\",\"nbinsx\":10,\"opacity\":0.8,\"orientation\":\"v\",\"x\":[-0.9287969360385558,-2.6903461092469194,1.8624606059259496,2.65834186702288,-0.7980090896855742,-1.5827524498354613,0.2955470671139877,1.5502915705755398,-0.7979747735353135,0.6460701924717869,-0.936870420347587,-0.7592432746697397,1.2257802677559726,-0.8122393148359898,-1.5770245455675627,-1.9532608532826146,1.2498349738583459,-0.12032763768486186,0.19964616675881292,0.11654044840654534,0.4848809892741022,0.4484086937833366,-0.38956336565049554,1.896459297692075,0.8162856955544592,1.6229427799183003,0.23113477177927125,-1.0442775409802059,0.46572623833647436,0.4066816978124542,0.09326264462049069,0.255748905054573,1.000976696434357,-0.9422686315887814,0.5638625803494463,0.6232246258485489,2.0902670579021394,0.18039481439640082,-2.8043591150230585,-1.5406214467034285,-0.8619489271428574,0.1973368707344788,0.5951918906812148,-1.254950079480591,0.2672512673631738,0.1231761132113905,0.4282017663539288,-0.07417978796279026,0.5838737828287422,0.7383469895984776,-0.33571220914034955,-1.4460462320019074,-0.324141217027923,2.325284836253793,0.6250953404395978,1.0233025533589735,-0.3494082223162853,0.9026362239522017,0.18168725816791362,-2.6229803716139495,-0.27342525144437013,-0.1931244977852925,1.1051207832141565,0.45997066086433386,1.1761768520251474,0.013808034119401909,1.8428471092341046,0.9718762015792,-1.1871142872913143,-0.7942313824997717,0.6377742139850696,1.056253935397287,0.17432361359849946,-0.5707208881700466,0.47016231725700064,0.5202759059458038,0.17236170108375984,0.1591165564203543,-0.08043319862684438,0.9282097726527182,-2.089416374568016,-0.9026175672646589,-0.29388347696324646,2.241400722782147,-0.35882409026196266,1.0776875082017887,0.42773010628651903,0.4848173298231596,-0.25462632786313805,-1.6798298606013724,-0.8773900778879777,1.5634337277512937,0.10434311889015405,0.27654662387292034,-1.4777234322777808,-0.8514769391416811,-0.25176645385428903,-1.4987461162481623,1.0351018823675524,-1.4075092725501115],\"xaxis\":\"x16\",\"yaxis\":\"y16\",\"type\":\"histogram\"}],                        {\"bargap\":0.02,\"legend\":{\"bgcolor\":\"#F5F6F9\",\"font\":{\"color\":\"#4D5663\"}},\"paper_bgcolor\":\"#F5F6F9\",\"plot_bgcolor\":\"#F5F6F9\",\"showlegend\":false,\"template\":{\"data\":{\"barpolar\":[{\"marker\":{\"line\":{\"color\":\"#E5ECF6\",\"width\":0.5},\"pattern\":{\"fillmode\":\"overlay\",\"size\":10,\"solidity\":0.2}},\"type\":\"barpolar\"}],\"bar\":[{\"error_x\":{\"color\":\"#2a3f5f\"},\"error_y\":{\"color\":\"#2a3f5f\"},\"marker\":{\"line\":{\"color\":\"#E5ECF6\",\"width\":0.5},\"pattern\":{\"fillmode\":\"overlay\",\"size\":10,\"solidity\":0.2}},\"type\":\"bar\"}],\"carpet\":[{\"aaxis\":{\"endlinecolor\":\"#2a3f5f\",\"gridcolor\":\"white\",\"linecolor\":\"white\",\"minorgridcolor\":\"white\",\"startlinecolor\":\"#2a3f5f\"},\"baxis\":{\"endlinecolor\":\"#2a3f5f\",\"gridcolor\":\"white\",\"linecolor\":\"white\",\"minorgridcolor\":\"white\",\"startlinecolor\":\"#2a3f5f\"},\"type\":\"carpet\"}],\"choropleth\":[{\"colorbar\":{\"outlinewidth\":0,\"ticks\":\"\"},\"type\":\"choropleth\"}],\"contourcarpet\":[{\"colorbar\":{\"outlinewidth\":0,\"ticks\":\"\"},\"type\":\"contourcarpet\"}],\"contour\":[{\"colorbar\":{\"outlinewidth\":0,\"ticks\":\"\"},\"colorscale\":[[0.0,\"#0d0887\"],[0.1111111111111111,\"#46039f\"],[0.2222222222222222,\"#7201a8\"],[0.3333333333333333,\"#9c179e\"],[0.4444444444444444,\"#bd3786\"],[0.5555555555555556,\"#d8576b\"],[0.6666666666666666,\"#ed7953\"],[0.7777777777777778,\"#fb9f3a\"],[0.8888888888888888,\"#fdca26\"],[1.0,\"#f0f921\"]],\"type\":\"contour\"}],\"heatmapgl\":[{\"colorbar\":{\"outlinewidth\":0,\"ticks\":\"\"},\"colorscale\":[[0.0,\"#0d0887\"],[0.1111111111111111,\"#46039f\"],[0.2222222222222222,\"#7201a8\"],[0.3333333333333333,\"#9c179e\"],[0.4444444444444444,\"#bd3786\"],[0.5555555555555556,\"#d8576b\"],[0.6666666666666666,\"#ed7953\"],[0.7777777777777778,\"#fb9f3a\"],[0.8888888888888888,\"#fdca26\"],[1.0,\"#f0f921\"]],\"type\":\"heatmapgl\"}],\"heatmap\":[{\"colorbar\":{\"outlinewidth\":0,\"ticks\":\"\"},\"colorscale\":[[0.0,\"#0d0887\"],[0.1111111111111111,\"#46039f\"],[0.2222222222222222,\"#7201a8\"],[0.3333333333333333,\"#9c179e\"],[0.4444444444444444,\"#bd3786\"],[0.5555555555555556,\"#d8576b\"],[0.6666666666666666,\"#ed7953\"],[0.7777777777777778,\"#fb9f3a\"],[0.8888888888888888,\"#fdca26\"],[1.0,\"#f0f921\"]],\"type\":\"heatmap\"}],\"histogram2dcontour\":[{\"colorbar\":{\"outlinewidth\":0,\"ticks\":\"\"},\"colorscale\":[[0.0,\"#0d0887\"],[0.1111111111111111,\"#46039f\"],[0.2222222222222222,\"#7201a8\"],[0.3333333333333333,\"#9c179e\"],[0.4444444444444444,\"#bd3786\"],[0.5555555555555556,\"#d8576b\"],[0.6666666666666666,\"#ed7953\"],[0.7777777777777778,\"#fb9f3a\"],[0.8888888888888888,\"#fdca26\"],[1.0,\"#f0f921\"]],\"type\":\"histogram2dcontour\"}],\"histogram2d\":[{\"colorbar\":{\"outlinewidth\":0,\"ticks\":\"\"},\"colorscale\":[[0.0,\"#0d0887\"],[0.1111111111111111,\"#46039f\"],[0.2222222222222222,\"#7201a8\"],[0.3333333333333333,\"#9c179e\"],[0.4444444444444444,\"#bd3786\"],[0.5555555555555556,\"#d8576b\"],[0.6666666666666666,\"#ed7953\"],[0.7777777777777778,\"#fb9f3a\"],[0.8888888888888888,\"#fdca26\"],[1.0,\"#f0f921\"]],\"type\":\"histogram2d\"}],\"histogram\":[{\"marker\":{\"pattern\":{\"fillmode\":\"overlay\",\"size\":10,\"solidity\":0.2}},\"type\":\"histogram\"}],\"mesh3d\":[{\"colorbar\":{\"outlinewidth\":0,\"ticks\":\"\"},\"type\":\"mesh3d\"}],\"parcoords\":[{\"line\":{\"colorbar\":{\"outlinewidth\":0,\"ticks\":\"\"}},\"type\":\"parcoords\"}],\"pie\":[{\"automargin\":true,\"type\":\"pie\"}],\"scatter3d\":[{\"line\":{\"colorbar\":{\"outlinewidth\":0,\"ticks\":\"\"}},\"marker\":{\"colorbar\":{\"outlinewidth\":0,\"ticks\":\"\"}},\"type\":\"scatter3d\"}],\"scattercarpet\":[{\"marker\":{\"colorbar\":{\"outlinewidth\":0,\"ticks\":\"\"}},\"type\":\"scattercarpet\"}],\"scattergeo\":[{\"marker\":{\"colorbar\":{\"outlinewidth\":0,\"ticks\":\"\"}},\"type\":\"scattergeo\"}],\"scattergl\":[{\"marker\":{\"colorbar\":{\"outlinewidth\":0,\"ticks\":\"\"}},\"type\":\"scattergl\"}],\"scattermapbox\":[{\"marker\":{\"colorbar\":{\"outlinewidth\":0,\"ticks\":\"\"}},\"type\":\"scattermapbox\"}],\"scatterpolargl\":[{\"marker\":{\"colorbar\":{\"outlinewidth\":0,\"ticks\":\"\"}},\"type\":\"scatterpolargl\"}],\"scatterpolar\":[{\"marker\":{\"colorbar\":{\"outlinewidth\":0,\"ticks\":\"\"}},\"type\":\"scatterpolar\"}],\"scatter\":[{\"fillpattern\":{\"fillmode\":\"overlay\",\"size\":10,\"solidity\":0.2},\"type\":\"scatter\"}],\"scatterternary\":[{\"marker\":{\"colorbar\":{\"outlinewidth\":0,\"ticks\":\"\"}},\"type\":\"scatterternary\"}],\"surface\":[{\"colorbar\":{\"outlinewidth\":0,\"ticks\":\"\"},\"colorscale\":[[0.0,\"#0d0887\"],[0.1111111111111111,\"#46039f\"],[0.2222222222222222,\"#7201a8\"],[0.3333333333333333,\"#9c179e\"],[0.4444444444444444,\"#bd3786\"],[0.5555555555555556,\"#d8576b\"],[0.6666666666666666,\"#ed7953\"],[0.7777777777777778,\"#fb9f3a\"],[0.8888888888888888,\"#fdca26\"],[1.0,\"#f0f921\"]],\"type\":\"surface\"}],\"table\":[{\"cells\":{\"fill\":{\"color\":\"#EBF0F8\"},\"line\":{\"color\":\"white\"}},\"header\":{\"fill\":{\"color\":\"#C8D4E3\"},\"line\":{\"color\":\"white\"}},\"type\":\"table\"}]},\"layout\":{\"annotationdefaults\":{\"arrowcolor\":\"#2a3f5f\",\"arrowhead\":0,\"arrowwidth\":1},\"autotypenumbers\":\"strict\",\"coloraxis\":{\"colorbar\":{\"outlinewidth\":0,\"ticks\":\"\"}},\"colorscale\":{\"diverging\":[[0,\"#8e0152\"],[0.1,\"#c51b7d\"],[0.2,\"#de77ae\"],[0.3,\"#f1b6da\"],[0.4,\"#fde0ef\"],[0.5,\"#f7f7f7\"],[0.6,\"#e6f5d0\"],[0.7,\"#b8e186\"],[0.8,\"#7fbc41\"],[0.9,\"#4d9221\"],[1,\"#276419\"]],\"sequential\":[[0.0,\"#0d0887\"],[0.1111111111111111,\"#46039f\"],[0.2222222222222222,\"#7201a8\"],[0.3333333333333333,\"#9c179e\"],[0.4444444444444444,\"#bd3786\"],[0.5555555555555556,\"#d8576b\"],[0.6666666666666666,\"#ed7953\"],[0.7777777777777778,\"#fb9f3a\"],[0.8888888888888888,\"#fdca26\"],[1.0,\"#f0f921\"]],\"sequentialminus\":[[0.0,\"#0d0887\"],[0.1111111111111111,\"#46039f\"],[0.2222222222222222,\"#7201a8\"],[0.3333333333333333,\"#9c179e\"],[0.4444444444444444,\"#bd3786\"],[0.5555555555555556,\"#d8576b\"],[0.6666666666666666,\"#ed7953\"],[0.7777777777777778,\"#fb9f3a\"],[0.8888888888888888,\"#fdca26\"],[1.0,\"#f0f921\"]]},\"colorway\":[\"#636efa\",\"#EF553B\",\"#00cc96\",\"#ab63fa\",\"#FFA15A\",\"#19d3f3\",\"#FF6692\",\"#B6E880\",\"#FF97FF\",\"#FECB52\"],\"font\":{\"color\":\"#2a3f5f\"},\"geo\":{\"bgcolor\":\"white\",\"lakecolor\":\"white\",\"landcolor\":\"#E5ECF6\",\"showlakes\":true,\"showland\":true,\"subunitcolor\":\"white\"},\"hoverlabel\":{\"align\":\"left\"},\"hovermode\":\"closest\",\"mapbox\":{\"style\":\"light\"},\"paper_bgcolor\":\"white\",\"plot_bgcolor\":\"#E5ECF6\",\"polar\":{\"angularaxis\":{\"gridcolor\":\"white\",\"linecolor\":\"white\",\"ticks\":\"\"},\"bgcolor\":\"#E5ECF6\",\"radialaxis\":{\"gridcolor\":\"white\",\"linecolor\":\"white\",\"ticks\":\"\"}},\"scene\":{\"xaxis\":{\"backgroundcolor\":\"#E5ECF6\",\"gridcolor\":\"white\",\"gridwidth\":2,\"linecolor\":\"white\",\"showbackground\":true,\"ticks\":\"\",\"zerolinecolor\":\"white\"},\"yaxis\":{\"backgroundcolor\":\"#E5ECF6\",\"gridcolor\":\"white\",\"gridwidth\":2,\"linecolor\":\"white\",\"showbackground\":true,\"ticks\":\"\",\"zerolinecolor\":\"white\"},\"zaxis\":{\"backgroundcolor\":\"#E5ECF6\",\"gridcolor\":\"white\",\"gridwidth\":2,\"linecolor\":\"white\",\"showbackground\":true,\"ticks\":\"\",\"zerolinecolor\":\"white\"}},\"shapedefaults\":{\"line\":{\"color\":\"#2a3f5f\"}},\"ternary\":{\"aaxis\":{\"gridcolor\":\"white\",\"linecolor\":\"white\",\"ticks\":\"\"},\"baxis\":{\"gridcolor\":\"white\",\"linecolor\":\"white\",\"ticks\":\"\"},\"bgcolor\":\"#E5ECF6\",\"caxis\":{\"gridcolor\":\"white\",\"linecolor\":\"white\",\"ticks\":\"\"}},\"title\":{\"x\":0.05},\"xaxis\":{\"automargin\":true,\"gridcolor\":\"white\",\"linecolor\":\"white\",\"ticks\":\"\",\"title\":{\"standoff\":15},\"zerolinecolor\":\"white\",\"zerolinewidth\":2},\"yaxis\":{\"automargin\":true,\"gridcolor\":\"white\",\"linecolor\":\"white\",\"ticks\":\"\",\"title\":{\"standoff\":15},\"zerolinecolor\":\"white\",\"zerolinewidth\":2}}},\"title\":{\"font\":{\"color\":\"#4D5663\"}},\"xaxis\":{\"anchor\":\"y\",\"domain\":[0.0,0.2125],\"gridcolor\":\"#E1E5ED\",\"showgrid\":false,\"tickfont\":{\"color\":\"#4D5663\"},\"title\":{\"font\":{\"color\":\"#4D5663\"},\"text\":\"\"},\"zerolinecolor\":\"#E1E5ED\"},\"yaxis\":{\"anchor\":\"x\",\"domain\":[0.8025,1.0],\"gridcolor\":\"#E1E5ED\",\"showgrid\":false,\"tickfont\":{\"color\":\"#4D5663\"},\"title\":{\"font\":{\"color\":\"#4D5663\"},\"text\":\"\"},\"zerolinecolor\":\"#E1E5ED\"},\"xaxis2\":{\"anchor\":\"y2\",\"domain\":[0.2625,0.475],\"gridcolor\":\"#E1E5ED\",\"showgrid\":false,\"tickfont\":{\"color\":\"#4D5663\"},\"title\":{\"font\":{\"color\":\"#4D5663\"},\"text\":\"\"},\"zerolinecolor\":\"#E1E5ED\"},\"yaxis2\":{\"anchor\":\"x2\",\"domain\":[0.8025,1.0],\"gridcolor\":\"#E1E5ED\",\"showgrid\":false,\"tickfont\":{\"color\":\"#4D5663\"},\"title\":{\"font\":{\"color\":\"#4D5663\"},\"text\":\"\"},\"zerolinecolor\":\"#E1E5ED\"},\"xaxis3\":{\"anchor\":\"y3\",\"domain\":[0.525,0.7375],\"gridcolor\":\"#E1E5ED\",\"showgrid\":false,\"tickfont\":{\"color\":\"#4D5663\"},\"title\":{\"font\":{\"color\":\"#4D5663\"},\"text\":\"\"},\"zerolinecolor\":\"#E1E5ED\"},\"yaxis3\":{\"anchor\":\"x3\",\"domain\":[0.8025,1.0],\"gridcolor\":\"#E1E5ED\",\"showgrid\":false,\"tickfont\":{\"color\":\"#4D5663\"},\"title\":{\"font\":{\"color\":\"#4D5663\"},\"text\":\"\"},\"zerolinecolor\":\"#E1E5ED\"},\"xaxis4\":{\"anchor\":\"y4\",\"domain\":[0.7875,1.0],\"gridcolor\":\"#E1E5ED\",\"showgrid\":false,\"tickfont\":{\"color\":\"#4D5663\"},\"title\":{\"font\":{\"color\":\"#4D5663\"},\"text\":\"\"},\"zerolinecolor\":\"#E1E5ED\"},\"yaxis4\":{\"anchor\":\"x4\",\"domain\":[0.8025,1.0],\"gridcolor\":\"#E1E5ED\",\"showgrid\":false,\"tickfont\":{\"color\":\"#4D5663\"},\"title\":{\"font\":{\"color\":\"#4D5663\"},\"text\":\"\"},\"zerolinecolor\":\"#E1E5ED\"},\"xaxis5\":{\"anchor\":\"y5\",\"domain\":[0.0,0.2125],\"gridcolor\":\"#E1E5ED\",\"showgrid\":false,\"tickfont\":{\"color\":\"#4D5663\"},\"title\":{\"font\":{\"color\":\"#4D5663\"},\"text\":\"\"},\"zerolinecolor\":\"#E1E5ED\"},\"yaxis5\":{\"anchor\":\"x5\",\"domain\":[0.535,0.7325],\"gridcolor\":\"#E1E5ED\",\"showgrid\":false,\"tickfont\":{\"color\":\"#4D5663\"},\"title\":{\"font\":{\"color\":\"#4D5663\"},\"text\":\"\"},\"zerolinecolor\":\"#E1E5ED\"},\"xaxis6\":{\"anchor\":\"y6\",\"domain\":[0.2625,0.475],\"gridcolor\":\"#E1E5ED\",\"showgrid\":false,\"tickfont\":{\"color\":\"#4D5663\"},\"title\":{\"font\":{\"color\":\"#4D5663\"},\"text\":\"\"},\"zerolinecolor\":\"#E1E5ED\"},\"yaxis6\":{\"anchor\":\"x6\",\"domain\":[0.535,0.7325],\"gridcolor\":\"#E1E5ED\",\"showgrid\":false,\"tickfont\":{\"color\":\"#4D5663\"},\"title\":{\"font\":{\"color\":\"#4D5663\"},\"text\":\"\"},\"zerolinecolor\":\"#E1E5ED\"},\"xaxis7\":{\"anchor\":\"y7\",\"domain\":[0.525,0.7375],\"gridcolor\":\"#E1E5ED\",\"showgrid\":false,\"tickfont\":{\"color\":\"#4D5663\"},\"title\":{\"font\":{\"color\":\"#4D5663\"},\"text\":\"\"},\"zerolinecolor\":\"#E1E5ED\"},\"yaxis7\":{\"anchor\":\"x7\",\"domain\":[0.535,0.7325],\"gridcolor\":\"#E1E5ED\",\"showgrid\":false,\"tickfont\":{\"color\":\"#4D5663\"},\"title\":{\"font\":{\"color\":\"#4D5663\"},\"text\":\"\"},\"zerolinecolor\":\"#E1E5ED\"},\"xaxis8\":{\"anchor\":\"y8\",\"domain\":[0.7875,1.0],\"gridcolor\":\"#E1E5ED\",\"showgrid\":false,\"tickfont\":{\"color\":\"#4D5663\"},\"title\":{\"font\":{\"color\":\"#4D5663\"},\"text\":\"\"},\"zerolinecolor\":\"#E1E5ED\"},\"yaxis8\":{\"anchor\":\"x8\",\"domain\":[0.535,0.7325],\"gridcolor\":\"#E1E5ED\",\"showgrid\":false,\"tickfont\":{\"color\":\"#4D5663\"},\"title\":{\"font\":{\"color\":\"#4D5663\"},\"text\":\"\"},\"zerolinecolor\":\"#E1E5ED\"},\"xaxis9\":{\"anchor\":\"y9\",\"domain\":[0.0,0.2125],\"gridcolor\":\"#E1E5ED\",\"showgrid\":false,\"tickfont\":{\"color\":\"#4D5663\"},\"title\":{\"font\":{\"color\":\"#4D5663\"},\"text\":\"\"},\"zerolinecolor\":\"#E1E5ED\"},\"yaxis9\":{\"anchor\":\"x9\",\"domain\":[0.2675,0.465],\"gridcolor\":\"#E1E5ED\",\"showgrid\":false,\"tickfont\":{\"color\":\"#4D5663\"},\"title\":{\"font\":{\"color\":\"#4D5663\"},\"text\":\"\"},\"zerolinecolor\":\"#E1E5ED\"},\"xaxis10\":{\"anchor\":\"y10\",\"domain\":[0.2625,0.475],\"gridcolor\":\"#E1E5ED\",\"showgrid\":false,\"tickfont\":{\"color\":\"#4D5663\"},\"title\":{\"font\":{\"color\":\"#4D5663\"},\"text\":\"\"},\"zerolinecolor\":\"#E1E5ED\"},\"yaxis10\":{\"anchor\":\"x10\",\"domain\":[0.2675,0.465],\"gridcolor\":\"#E1E5ED\",\"showgrid\":false,\"tickfont\":{\"color\":\"#4D5663\"},\"title\":{\"font\":{\"color\":\"#4D5663\"},\"text\":\"\"},\"zerolinecolor\":\"#E1E5ED\"},\"xaxis11\":{\"anchor\":\"y11\",\"domain\":[0.525,0.7375],\"gridcolor\":\"#E1E5ED\",\"showgrid\":false,\"tickfont\":{\"color\":\"#4D5663\"},\"title\":{\"font\":{\"color\":\"#4D5663\"},\"text\":\"\"},\"zerolinecolor\":\"#E1E5ED\"},\"yaxis11\":{\"anchor\":\"x11\",\"domain\":[0.2675,0.465],\"gridcolor\":\"#E1E5ED\",\"showgrid\":false,\"tickfont\":{\"color\":\"#4D5663\"},\"title\":{\"font\":{\"color\":\"#4D5663\"},\"text\":\"\"},\"zerolinecolor\":\"#E1E5ED\"},\"xaxis12\":{\"anchor\":\"y12\",\"domain\":[0.7875,1.0],\"gridcolor\":\"#E1E5ED\",\"showgrid\":false,\"tickfont\":{\"color\":\"#4D5663\"},\"title\":{\"font\":{\"color\":\"#4D5663\"},\"text\":\"\"},\"zerolinecolor\":\"#E1E5ED\"},\"yaxis12\":{\"anchor\":\"x12\",\"domain\":[0.2675,0.465],\"gridcolor\":\"#E1E5ED\",\"showgrid\":false,\"tickfont\":{\"color\":\"#4D5663\"},\"title\":{\"font\":{\"color\":\"#4D5663\"},\"text\":\"\"},\"zerolinecolor\":\"#E1E5ED\"},\"xaxis13\":{\"anchor\":\"y13\",\"domain\":[0.0,0.2125],\"gridcolor\":\"#E1E5ED\",\"showgrid\":false,\"tickfont\":{\"color\":\"#4D5663\"},\"title\":{\"font\":{\"color\":\"#4D5663\"},\"text\":\"\"},\"zerolinecolor\":\"#E1E5ED\"},\"yaxis13\":{\"anchor\":\"x13\",\"domain\":[0.0,0.1975],\"gridcolor\":\"#E1E5ED\",\"showgrid\":false,\"tickfont\":{\"color\":\"#4D5663\"},\"title\":{\"font\":{\"color\":\"#4D5663\"},\"text\":\"\"},\"zerolinecolor\":\"#E1E5ED\"},\"xaxis14\":{\"anchor\":\"y14\",\"domain\":[0.2625,0.475],\"gridcolor\":\"#E1E5ED\",\"showgrid\":false,\"tickfont\":{\"color\":\"#4D5663\"},\"title\":{\"font\":{\"color\":\"#4D5663\"},\"text\":\"\"},\"zerolinecolor\":\"#E1E5ED\"},\"yaxis14\":{\"anchor\":\"x14\",\"domain\":[0.0,0.1975],\"gridcolor\":\"#E1E5ED\",\"showgrid\":false,\"tickfont\":{\"color\":\"#4D5663\"},\"title\":{\"font\":{\"color\":\"#4D5663\"},\"text\":\"\"},\"zerolinecolor\":\"#E1E5ED\"},\"xaxis15\":{\"anchor\":\"y15\",\"domain\":[0.525,0.7375],\"gridcolor\":\"#E1E5ED\",\"showgrid\":false,\"tickfont\":{\"color\":\"#4D5663\"},\"title\":{\"font\":{\"color\":\"#4D5663\"},\"text\":\"\"},\"zerolinecolor\":\"#E1E5ED\"},\"yaxis15\":{\"anchor\":\"x15\",\"domain\":[0.0,0.1975],\"gridcolor\":\"#E1E5ED\",\"showgrid\":false,\"tickfont\":{\"color\":\"#4D5663\"},\"title\":{\"font\":{\"color\":\"#4D5663\"},\"text\":\"\"},\"zerolinecolor\":\"#E1E5ED\"},\"xaxis16\":{\"anchor\":\"y16\",\"domain\":[0.7875,1.0],\"gridcolor\":\"#E1E5ED\",\"showgrid\":false,\"tickfont\":{\"color\":\"#4D5663\"},\"title\":{\"font\":{\"color\":\"#4D5663\"},\"text\":\"\"},\"zerolinecolor\":\"#E1E5ED\"},\"yaxis16\":{\"anchor\":\"x16\",\"domain\":[0.0,0.1975],\"gridcolor\":\"#E1E5ED\",\"showgrid\":false,\"tickfont\":{\"color\":\"#4D5663\"},\"title\":{\"font\":{\"color\":\"#4D5663\"},\"text\":\"\"},\"zerolinecolor\":\"#E1E5ED\"}},                        {\"showLink\": true, \"linkText\": \"Export to plot.ly\", \"plotlyServerURL\": \"https://plot.ly\", \"responsive\": true}                    ).then(function(){\n",
       "                            \n",
       "var gd = document.getElementById('07556729-f82a-4c2a-8e8f-2b88d85c4e3c');\n",
       "var x = new MutationObserver(function (mutations, observer) {{\n",
       "        var display = window.getComputedStyle(gd).display;\n",
       "        if (!display || display === 'none') {{\n",
       "            console.log([gd, 'removed!']);\n",
       "            Plotly.purge(gd);\n",
       "            observer.disconnect();\n",
       "        }}\n",
       "}});\n",
       "\n",
       "// Listen for the removal of the full notebook cells\n",
       "var notebookContainer = gd.closest('#notebook-container');\n",
       "if (notebookContainer) {{\n",
       "    x.observe(notebookContainer, {childList: true});\n",
       "}}\n",
       "\n",
       "// Listen for the clearing of the current output cell\n",
       "var outputEl = gd.closest('.output');\n",
       "if (outputEl) {{\n",
       "    x.observe(outputEl, {childList: true});\n",
       "}}\n",
       "\n",
       "                        })                };                });            </script>        </div>"
      ]
     },
     "metadata": {},
     "output_type": "display_data"
    }
   ],
   "source": [
    "df.scatter_matrix()"
   ]
  },
  {
   "cell_type": "markdown",
   "metadata": {},
   "source": [
    "# Great Job!"
   ]
  },
  {
   "cell_type": "code",
   "execution_count": null,
   "metadata": {},
   "outputs": [],
   "source": []
  },
  {
   "cell_type": "code",
   "execution_count": null,
   "metadata": {},
   "outputs": [],
   "source": []
  }
 ],
 "metadata": {
  "kernelspec": {
   "display_name": "Python 3 (ipykernel)",
   "language": "python",
   "name": "python3"
  },
  "language_info": {
   "codemirror_mode": {
    "name": "ipython",
    "version": 3
   },
   "file_extension": ".py",
   "mimetype": "text/x-python",
   "name": "python",
   "nbconvert_exporter": "python",
   "pygments_lexer": "ipython3",
   "version": "3.10.12"
  }
 },
 "nbformat": 4,
 "nbformat_minor": 4
}
